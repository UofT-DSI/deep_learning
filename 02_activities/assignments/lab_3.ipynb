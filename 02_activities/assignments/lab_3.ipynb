{
 "cells": [
  {
   "cell_type": "markdown",
   "metadata": {},
   "source": [
    "# Recommender Systems\n",
    "\n",
    "In this lab, we'll be using Keras to build a recommender system. We'll be using the MovieLens dataset, a common benchmark dataset for recommender systems. \n",
    "\n",
    "MovieLens is a web-based recommender system and virtual community that recommends movies for its users to watch, based on their film preferences using collaborative filtering of members' movie ratings and movie reviews. You can check out the website here: https://movielens.org/\n",
    "\n",
    "We will download a subset of the dataset containing 100k ratings. There are tens of millions of ratings in the full dataset, spanning hundreds of thousands of users and movies. The subset we'll be using is a good example to demonstrate the concepts in this lab."
   ]
  },
  {
   "cell_type": "code",
   "execution_count": 1,
   "metadata": {},
   "outputs": [],
   "source": [
    "%matplotlib inline\n",
    "import matplotlib.pyplot as plt\n",
    "import numpy as np\n",
    "from zipfile import ZipFile\n",
    "from urllib.request import urlretrieve\n",
    "from pathlib import Path\n",
    "\n",
    "ML_100K_URL = \"http://files.grouplens.org/datasets/movielens/ml-100k.zip\"\n",
    "ML_100K_FILENAME = Path(\"ml-100k.zip\")\n",
    "ML_100K_FOLDER = Path(\"ml-100k\")\n",
    "\n",
    "if not ML_100K_FOLDER.exists():\n",
    "    if not ML_100K_FILENAME.exists():\n",
    "        urlretrieve(ML_100K_URL, ML_100K_FILENAME.name)\n",
    "    with ZipFile(ML_100K_FILENAME.name) as zip_file:\n",
    "        zip_file.extractall()"
   ]
  },
  {
   "cell_type": "markdown",
   "metadata": {},
   "source": [
    "The goal of MovieLens is to enable models to predict the rating a user would give to a movie they have not yet watched. This is a classic example of a recommendation system. The dataset is huge, and contains many parts giving information about the movies, the users, and the ratings. To begin with, we will look at the ratings file. Each line in the ratings file (u.data) is formatted as:\n",
    "\n",
    "`user_id, item_id, rating, timestamp`\n",
    "\n",
    "Which tells us a single user's rating of a single movie.\n",
    "\n",
    "We will start by loading the ratings data into a pandas dataframe and then take a look at the first few rows. If you haven't used Pandas before, it's an extremely powerful library for dealing with tabular data. You can think of it as a Python version of Excel."
   ]
  },
  {
   "cell_type": "code",
   "execution_count": 2,
   "metadata": {},
   "outputs": [
    {
     "data": {
      "text/html": [
       "<div>\n",
       "<style scoped>\n",
       "    .dataframe tbody tr th:only-of-type {\n",
       "        vertical-align: middle;\n",
       "    }\n",
       "\n",
       "    .dataframe tbody tr th {\n",
       "        vertical-align: top;\n",
       "    }\n",
       "\n",
       "    .dataframe thead th {\n",
       "        text-align: right;\n",
       "    }\n",
       "</style>\n",
       "<table border=\"1\" class=\"dataframe\">\n",
       "  <thead>\n",
       "    <tr style=\"text-align: right;\">\n",
       "      <th></th>\n",
       "      <th>user_id</th>\n",
       "      <th>item_id</th>\n",
       "      <th>rating</th>\n",
       "      <th>timestamp</th>\n",
       "    </tr>\n",
       "  </thead>\n",
       "  <tbody>\n",
       "    <tr>\n",
       "      <th>0</th>\n",
       "      <td>196</td>\n",
       "      <td>242</td>\n",
       "      <td>3</td>\n",
       "      <td>881250949</td>\n",
       "    </tr>\n",
       "    <tr>\n",
       "      <th>1</th>\n",
       "      <td>186</td>\n",
       "      <td>302</td>\n",
       "      <td>3</td>\n",
       "      <td>891717742</td>\n",
       "    </tr>\n",
       "    <tr>\n",
       "      <th>2</th>\n",
       "      <td>22</td>\n",
       "      <td>377</td>\n",
       "      <td>1</td>\n",
       "      <td>878887116</td>\n",
       "    </tr>\n",
       "    <tr>\n",
       "      <th>3</th>\n",
       "      <td>244</td>\n",
       "      <td>51</td>\n",
       "      <td>2</td>\n",
       "      <td>880606923</td>\n",
       "    </tr>\n",
       "    <tr>\n",
       "      <th>4</th>\n",
       "      <td>166</td>\n",
       "      <td>346</td>\n",
       "      <td>1</td>\n",
       "      <td>886397596</td>\n",
       "    </tr>\n",
       "    <tr>\n",
       "      <th>...</th>\n",
       "      <td>...</td>\n",
       "      <td>...</td>\n",
       "      <td>...</td>\n",
       "      <td>...</td>\n",
       "    </tr>\n",
       "    <tr>\n",
       "      <th>99995</th>\n",
       "      <td>880</td>\n",
       "      <td>476</td>\n",
       "      <td>3</td>\n",
       "      <td>880175444</td>\n",
       "    </tr>\n",
       "    <tr>\n",
       "      <th>99996</th>\n",
       "      <td>716</td>\n",
       "      <td>204</td>\n",
       "      <td>5</td>\n",
       "      <td>879795543</td>\n",
       "    </tr>\n",
       "    <tr>\n",
       "      <th>99997</th>\n",
       "      <td>276</td>\n",
       "      <td>1090</td>\n",
       "      <td>1</td>\n",
       "      <td>874795795</td>\n",
       "    </tr>\n",
       "    <tr>\n",
       "      <th>99998</th>\n",
       "      <td>13</td>\n",
       "      <td>225</td>\n",
       "      <td>2</td>\n",
       "      <td>882399156</td>\n",
       "    </tr>\n",
       "    <tr>\n",
       "      <th>99999</th>\n",
       "      <td>12</td>\n",
       "      <td>203</td>\n",
       "      <td>3</td>\n",
       "      <td>879959583</td>\n",
       "    </tr>\n",
       "  </tbody>\n",
       "</table>\n",
       "<p>100000 rows × 4 columns</p>\n",
       "</div>"
      ],
      "text/plain": [
       "       user_id  item_id  rating  timestamp\n",
       "0          196      242       3  881250949\n",
       "1          186      302       3  891717742\n",
       "2           22      377       1  878887116\n",
       "3          244       51       2  880606923\n",
       "4          166      346       1  886397596\n",
       "...        ...      ...     ...        ...\n",
       "99995      880      476       3  880175444\n",
       "99996      716      204       5  879795543\n",
       "99997      276     1090       1  874795795\n",
       "99998       13      225       2  882399156\n",
       "99999       12      203       3  879959583\n",
       "\n",
       "[100000 rows x 4 columns]"
      ]
     },
     "execution_count": 2,
     "metadata": {},
     "output_type": "execute_result"
    }
   ],
   "source": [
    "import pandas as pd\n",
    "\n",
    "raw_ratings = pd.read_csv(ML_100K_FOLDER / \"u.data\", sep='\\t',\n",
    "                          names=[\"user_id\", \"item_id\", \"rating\", \"timestamp\"])\n",
    "raw_ratings"
   ]
  },
  {
   "cell_type": "markdown",
   "metadata": {},
   "source": [
    "The second file we'll look at is the movie metadata. This file (u.item) contains information about each movie, including the title and release date. Each line in the file is formatted as:\n",
    "\n",
    "`movie_id | movie_title | release_date | video_release_date | IMDb_URL | unknown | Action | Adventure | Animation | Children's | Comedy | Crime | Documentary | Drama | Fantasy | Film-Noir | Horror | Musical | Mystery | Romance | Sci-Fi | Thriller | War | Western`\n",
    "\n",
    "As you can see, the genres are binary variables. As with one-hot encoding, a 1 indicates that the movie is of that genre, and a 0 indicates that it is not. We aren't going to work with the genre data in this lab, but it's easy to imagine that it could be useful in a real-world recommendation system."
   ]
  },
  {
   "cell_type": "code",
   "execution_count": 3,
   "metadata": {},
   "outputs": [
    {
     "data": {
      "text/html": [
       "<div>\n",
       "<style scoped>\n",
       "    .dataframe tbody tr th:only-of-type {\n",
       "        vertical-align: middle;\n",
       "    }\n",
       "\n",
       "    .dataframe tbody tr th {\n",
       "        vertical-align: top;\n",
       "    }\n",
       "\n",
       "    .dataframe thead th {\n",
       "        text-align: right;\n",
       "    }\n",
       "</style>\n",
       "<table border=\"1\" class=\"dataframe\">\n",
       "  <thead>\n",
       "    <tr style=\"text-align: right;\">\n",
       "      <th></th>\n",
       "      <th>item_id</th>\n",
       "      <th>title</th>\n",
       "      <th>release_date</th>\n",
       "      <th>video_release_date</th>\n",
       "      <th>imdb_url</th>\n",
       "    </tr>\n",
       "  </thead>\n",
       "  <tbody>\n",
       "    <tr>\n",
       "      <th>0</th>\n",
       "      <td>1</td>\n",
       "      <td>Toy Story (1995)</td>\n",
       "      <td>01-Jan-1995</td>\n",
       "      <td>NaN</td>\n",
       "      <td>http://us.imdb.com/M/title-exact?Toy%20Story%2...</td>\n",
       "    </tr>\n",
       "    <tr>\n",
       "      <th>1</th>\n",
       "      <td>2</td>\n",
       "      <td>GoldenEye (1995)</td>\n",
       "      <td>01-Jan-1995</td>\n",
       "      <td>NaN</td>\n",
       "      <td>http://us.imdb.com/M/title-exact?GoldenEye%20(...</td>\n",
       "    </tr>\n",
       "    <tr>\n",
       "      <th>2</th>\n",
       "      <td>3</td>\n",
       "      <td>Four Rooms (1995)</td>\n",
       "      <td>01-Jan-1995</td>\n",
       "      <td>NaN</td>\n",
       "      <td>http://us.imdb.com/M/title-exact?Four%20Rooms%...</td>\n",
       "    </tr>\n",
       "    <tr>\n",
       "      <th>3</th>\n",
       "      <td>4</td>\n",
       "      <td>Get Shorty (1995)</td>\n",
       "      <td>01-Jan-1995</td>\n",
       "      <td>NaN</td>\n",
       "      <td>http://us.imdb.com/M/title-exact?Get%20Shorty%...</td>\n",
       "    </tr>\n",
       "    <tr>\n",
       "      <th>4</th>\n",
       "      <td>5</td>\n",
       "      <td>Copycat (1995)</td>\n",
       "      <td>01-Jan-1995</td>\n",
       "      <td>NaN</td>\n",
       "      <td>http://us.imdb.com/M/title-exact?Copycat%20(1995)</td>\n",
       "    </tr>\n",
       "    <tr>\n",
       "      <th>...</th>\n",
       "      <td>...</td>\n",
       "      <td>...</td>\n",
       "      <td>...</td>\n",
       "      <td>...</td>\n",
       "      <td>...</td>\n",
       "    </tr>\n",
       "    <tr>\n",
       "      <th>1677</th>\n",
       "      <td>1678</td>\n",
       "      <td>Mat' i syn (1997)</td>\n",
       "      <td>06-Feb-1998</td>\n",
       "      <td>NaN</td>\n",
       "      <td>http://us.imdb.com/M/title-exact?Mat%27+i+syn+...</td>\n",
       "    </tr>\n",
       "    <tr>\n",
       "      <th>1678</th>\n",
       "      <td>1679</td>\n",
       "      <td>B. Monkey (1998)</td>\n",
       "      <td>06-Feb-1998</td>\n",
       "      <td>NaN</td>\n",
       "      <td>http://us.imdb.com/M/title-exact?B%2E+Monkey+(...</td>\n",
       "    </tr>\n",
       "    <tr>\n",
       "      <th>1679</th>\n",
       "      <td>1680</td>\n",
       "      <td>Sliding Doors (1998)</td>\n",
       "      <td>01-Jan-1998</td>\n",
       "      <td>NaN</td>\n",
       "      <td>http://us.imdb.com/Title?Sliding+Doors+(1998)</td>\n",
       "    </tr>\n",
       "    <tr>\n",
       "      <th>1680</th>\n",
       "      <td>1681</td>\n",
       "      <td>You So Crazy (1994)</td>\n",
       "      <td>01-Jan-1994</td>\n",
       "      <td>NaN</td>\n",
       "      <td>http://us.imdb.com/M/title-exact?You%20So%20Cr...</td>\n",
       "    </tr>\n",
       "    <tr>\n",
       "      <th>1681</th>\n",
       "      <td>1682</td>\n",
       "      <td>Scream of Stone (Schrei aus Stein) (1991)</td>\n",
       "      <td>08-Mar-1996</td>\n",
       "      <td>NaN</td>\n",
       "      <td>http://us.imdb.com/M/title-exact?Schrei%20aus%...</td>\n",
       "    </tr>\n",
       "  </tbody>\n",
       "</table>\n",
       "<p>1682 rows × 5 columns</p>\n",
       "</div>"
      ],
      "text/plain": [
       "      item_id                                      title release_date  \\\n",
       "0           1                           Toy Story (1995)  01-Jan-1995   \n",
       "1           2                           GoldenEye (1995)  01-Jan-1995   \n",
       "2           3                          Four Rooms (1995)  01-Jan-1995   \n",
       "3           4                          Get Shorty (1995)  01-Jan-1995   \n",
       "4           5                             Copycat (1995)  01-Jan-1995   \n",
       "...       ...                                        ...          ...   \n",
       "1677     1678                          Mat' i syn (1997)  06-Feb-1998   \n",
       "1678     1679                           B. Monkey (1998)  06-Feb-1998   \n",
       "1679     1680                       Sliding Doors (1998)  01-Jan-1998   \n",
       "1680     1681                        You So Crazy (1994)  01-Jan-1994   \n",
       "1681     1682  Scream of Stone (Schrei aus Stein) (1991)  08-Mar-1996   \n",
       "\n",
       "      video_release_date                                           imdb_url  \n",
       "0                    NaN  http://us.imdb.com/M/title-exact?Toy%20Story%2...  \n",
       "1                    NaN  http://us.imdb.com/M/title-exact?GoldenEye%20(...  \n",
       "2                    NaN  http://us.imdb.com/M/title-exact?Four%20Rooms%...  \n",
       "3                    NaN  http://us.imdb.com/M/title-exact?Get%20Shorty%...  \n",
       "4                    NaN  http://us.imdb.com/M/title-exact?Copycat%20(1995)  \n",
       "...                  ...                                                ...  \n",
       "1677                 NaN  http://us.imdb.com/M/title-exact?Mat%27+i+syn+...  \n",
       "1678                 NaN  http://us.imdb.com/M/title-exact?B%2E+Monkey+(...  \n",
       "1679                 NaN      http://us.imdb.com/Title?Sliding+Doors+(1998)  \n",
       "1680                 NaN  http://us.imdb.com/M/title-exact?You%20So%20Cr...  \n",
       "1681                 NaN  http://us.imdb.com/M/title-exact?Schrei%20aus%...  \n",
       "\n",
       "[1682 rows x 5 columns]"
      ]
     },
     "execution_count": 3,
     "metadata": {},
     "output_type": "execute_result"
    }
   ],
   "source": [
    "columns_to_keep = ['item_id', 'title', 'release_date', 'video_release_date', 'imdb_url']\n",
    "items = pd.read_csv(ML_100K_FOLDER / \"u.item\", sep='|', names=columns_to_keep,\n",
    "                    encoding='latin-1', usecols=range(5))\n",
    "items"
   ]
  },
  {
   "cell_type": "markdown",
   "metadata": {},
   "source": [
    "By default, the `release_date` column is a string. We can convert it to a `datetime` object using the `pd.to_datetime` function. This will make it easier to work with in the future (if we want to do things like check which date came first, for example).\n",
    " \n",
    "We can also extract the year from the date and store it in a separate column. This will make it easier to do things like plot the number of movies released each year."
   ]
  },
  {
   "cell_type": "code",
   "execution_count": 4,
   "metadata": {},
   "outputs": [],
   "source": [
    "items['release_date'] = pd.to_datetime(items['release_date']) # Pandas makes this easy!\n",
    "items['release_year'] = items['release_date'].dt.year # For later use"
   ]
  },
  {
   "cell_type": "markdown",
   "metadata": {},
   "source": [
    "For our purposes, it will be easier to work with the data if we merge our two dataframes into a single dataframe. We can do this using the `merge` method. We'll merge the `items` dataframe into the `raw_ratings` dataframe, using the `item_id` column as the key. This will add the movie title and release year to each rating."
   ]
  },
  {
   "cell_type": "code",
   "execution_count": 5,
   "metadata": {},
   "outputs": [],
   "source": [
    "all_ratings = pd.merge(items, raw_ratings)"
   ]
  },
  {
   "cell_type": "code",
   "execution_count": 6,
   "metadata": {},
   "outputs": [
    {
     "data": {
      "text/html": [
       "<div>\n",
       "<style scoped>\n",
       "    .dataframe tbody tr th:only-of-type {\n",
       "        vertical-align: middle;\n",
       "    }\n",
       "\n",
       "    .dataframe tbody tr th {\n",
       "        vertical-align: top;\n",
       "    }\n",
       "\n",
       "    .dataframe thead th {\n",
       "        text-align: right;\n",
       "    }\n",
       "</style>\n",
       "<table border=\"1\" class=\"dataframe\">\n",
       "  <thead>\n",
       "    <tr style=\"text-align: right;\">\n",
       "      <th></th>\n",
       "      <th>item_id</th>\n",
       "      <th>title</th>\n",
       "      <th>release_date</th>\n",
       "      <th>video_release_date</th>\n",
       "      <th>imdb_url</th>\n",
       "      <th>release_year</th>\n",
       "      <th>user_id</th>\n",
       "      <th>rating</th>\n",
       "      <th>timestamp</th>\n",
       "    </tr>\n",
       "  </thead>\n",
       "  <tbody>\n",
       "    <tr>\n",
       "      <th>0</th>\n",
       "      <td>1</td>\n",
       "      <td>Toy Story (1995)</td>\n",
       "      <td>1995-01-01</td>\n",
       "      <td>NaN</td>\n",
       "      <td>http://us.imdb.com/M/title-exact?Toy%20Story%2...</td>\n",
       "      <td>1995.0</td>\n",
       "      <td>308</td>\n",
       "      <td>4</td>\n",
       "      <td>887736532</td>\n",
       "    </tr>\n",
       "    <tr>\n",
       "      <th>1</th>\n",
       "      <td>1</td>\n",
       "      <td>Toy Story (1995)</td>\n",
       "      <td>1995-01-01</td>\n",
       "      <td>NaN</td>\n",
       "      <td>http://us.imdb.com/M/title-exact?Toy%20Story%2...</td>\n",
       "      <td>1995.0</td>\n",
       "      <td>287</td>\n",
       "      <td>5</td>\n",
       "      <td>875334088</td>\n",
       "    </tr>\n",
       "    <tr>\n",
       "      <th>2</th>\n",
       "      <td>1</td>\n",
       "      <td>Toy Story (1995)</td>\n",
       "      <td>1995-01-01</td>\n",
       "      <td>NaN</td>\n",
       "      <td>http://us.imdb.com/M/title-exact?Toy%20Story%2...</td>\n",
       "      <td>1995.0</td>\n",
       "      <td>148</td>\n",
       "      <td>4</td>\n",
       "      <td>877019411</td>\n",
       "    </tr>\n",
       "    <tr>\n",
       "      <th>3</th>\n",
       "      <td>1</td>\n",
       "      <td>Toy Story (1995)</td>\n",
       "      <td>1995-01-01</td>\n",
       "      <td>NaN</td>\n",
       "      <td>http://us.imdb.com/M/title-exact?Toy%20Story%2...</td>\n",
       "      <td>1995.0</td>\n",
       "      <td>280</td>\n",
       "      <td>4</td>\n",
       "      <td>891700426</td>\n",
       "    </tr>\n",
       "    <tr>\n",
       "      <th>4</th>\n",
       "      <td>1</td>\n",
       "      <td>Toy Story (1995)</td>\n",
       "      <td>1995-01-01</td>\n",
       "      <td>NaN</td>\n",
       "      <td>http://us.imdb.com/M/title-exact?Toy%20Story%2...</td>\n",
       "      <td>1995.0</td>\n",
       "      <td>66</td>\n",
       "      <td>3</td>\n",
       "      <td>883601324</td>\n",
       "    </tr>\n",
       "  </tbody>\n",
       "</table>\n",
       "</div>"
      ],
      "text/plain": [
       "   item_id             title release_date  video_release_date  \\\n",
       "0        1  Toy Story (1995)   1995-01-01                 NaN   \n",
       "1        1  Toy Story (1995)   1995-01-01                 NaN   \n",
       "2        1  Toy Story (1995)   1995-01-01                 NaN   \n",
       "3        1  Toy Story (1995)   1995-01-01                 NaN   \n",
       "4        1  Toy Story (1995)   1995-01-01                 NaN   \n",
       "\n",
       "                                            imdb_url  release_year  user_id  \\\n",
       "0  http://us.imdb.com/M/title-exact?Toy%20Story%2...        1995.0      308   \n",
       "1  http://us.imdb.com/M/title-exact?Toy%20Story%2...        1995.0      287   \n",
       "2  http://us.imdb.com/M/title-exact?Toy%20Story%2...        1995.0      148   \n",
       "3  http://us.imdb.com/M/title-exact?Toy%20Story%2...        1995.0      280   \n",
       "4  http://us.imdb.com/M/title-exact?Toy%20Story%2...        1995.0       66   \n",
       "\n",
       "   rating  timestamp  \n",
       "0       4  887736532  \n",
       "1       5  875334088  \n",
       "2       4  877019411  \n",
       "3       4  891700426  \n",
       "4       3  883601324  "
      ]
     },
     "execution_count": 6,
     "metadata": {},
     "output_type": "execute_result"
    }
   ],
   "source": [
    "all_ratings.head()"
   ]
  },
  {
   "cell_type": "markdown",
   "metadata": {},
   "source": [
    "### Data preprocessing\n",
    "\n",
    "It's always important to understand the data you've collected. Thankfully, Pandas continues to make this easy for us. Using the `describe` method, we can get a quick statistical summary of the data."
   ]
  },
  {
   "cell_type": "code",
   "execution_count": 7,
   "metadata": {},
   "outputs": [
    {
     "data": {
      "text/html": [
       "<div>\n",
       "<style scoped>\n",
       "    .dataframe tbody tr th:only-of-type {\n",
       "        vertical-align: middle;\n",
       "    }\n",
       "\n",
       "    .dataframe tbody tr th {\n",
       "        vertical-align: top;\n",
       "    }\n",
       "\n",
       "    .dataframe thead th {\n",
       "        text-align: right;\n",
       "    }\n",
       "</style>\n",
       "<table border=\"1\" class=\"dataframe\">\n",
       "  <thead>\n",
       "    <tr style=\"text-align: right;\">\n",
       "      <th></th>\n",
       "      <th>item_id</th>\n",
       "      <th>release_date</th>\n",
       "      <th>video_release_date</th>\n",
       "      <th>release_year</th>\n",
       "      <th>user_id</th>\n",
       "      <th>rating</th>\n",
       "      <th>timestamp</th>\n",
       "    </tr>\n",
       "  </thead>\n",
       "  <tbody>\n",
       "    <tr>\n",
       "      <th>count</th>\n",
       "      <td>100000.000000</td>\n",
       "      <td>99991</td>\n",
       "      <td>0.0</td>\n",
       "      <td>99991.000000</td>\n",
       "      <td>100000.00000</td>\n",
       "      <td>100000.000000</td>\n",
       "      <td>1.000000e+05</td>\n",
       "    </tr>\n",
       "    <tr>\n",
       "      <th>mean</th>\n",
       "      <td>425.530130</td>\n",
       "      <td>1988-02-09 00:43:11.369223296</td>\n",
       "      <td>NaN</td>\n",
       "      <td>1987.956216</td>\n",
       "      <td>462.48475</td>\n",
       "      <td>3.529860</td>\n",
       "      <td>8.835289e+08</td>\n",
       "    </tr>\n",
       "    <tr>\n",
       "      <th>min</th>\n",
       "      <td>1.000000</td>\n",
       "      <td>1922-01-01 00:00:00</td>\n",
       "      <td>NaN</td>\n",
       "      <td>1922.000000</td>\n",
       "      <td>1.00000</td>\n",
       "      <td>1.000000</td>\n",
       "      <td>8.747247e+08</td>\n",
       "    </tr>\n",
       "    <tr>\n",
       "      <th>25%</th>\n",
       "      <td>175.000000</td>\n",
       "      <td>1986-01-01 00:00:00</td>\n",
       "      <td>NaN</td>\n",
       "      <td>1986.000000</td>\n",
       "      <td>254.00000</td>\n",
       "      <td>3.000000</td>\n",
       "      <td>8.794487e+08</td>\n",
       "    </tr>\n",
       "    <tr>\n",
       "      <th>50%</th>\n",
       "      <td>322.000000</td>\n",
       "      <td>1994-01-01 00:00:00</td>\n",
       "      <td>NaN</td>\n",
       "      <td>1994.000000</td>\n",
       "      <td>447.00000</td>\n",
       "      <td>4.000000</td>\n",
       "      <td>8.828269e+08</td>\n",
       "    </tr>\n",
       "    <tr>\n",
       "      <th>75%</th>\n",
       "      <td>631.000000</td>\n",
       "      <td>1996-09-28 00:00:00</td>\n",
       "      <td>NaN</td>\n",
       "      <td>1996.000000</td>\n",
       "      <td>682.00000</td>\n",
       "      <td>4.000000</td>\n",
       "      <td>8.882600e+08</td>\n",
       "    </tr>\n",
       "    <tr>\n",
       "      <th>max</th>\n",
       "      <td>1682.000000</td>\n",
       "      <td>1998-10-23 00:00:00</td>\n",
       "      <td>NaN</td>\n",
       "      <td>1998.000000</td>\n",
       "      <td>943.00000</td>\n",
       "      <td>5.000000</td>\n",
       "      <td>8.932866e+08</td>\n",
       "    </tr>\n",
       "    <tr>\n",
       "      <th>std</th>\n",
       "      <td>330.798356</td>\n",
       "      <td>NaN</td>\n",
       "      <td>NaN</td>\n",
       "      <td>14.155523</td>\n",
       "      <td>266.61442</td>\n",
       "      <td>1.125674</td>\n",
       "      <td>5.343856e+06</td>\n",
       "    </tr>\n",
       "  </tbody>\n",
       "</table>\n",
       "</div>"
      ],
      "text/plain": [
       "             item_id                   release_date  video_release_date  \\\n",
       "count  100000.000000                          99991                 0.0   \n",
       "mean      425.530130  1988-02-09 00:43:11.369223296                 NaN   \n",
       "min         1.000000            1922-01-01 00:00:00                 NaN   \n",
       "25%       175.000000            1986-01-01 00:00:00                 NaN   \n",
       "50%       322.000000            1994-01-01 00:00:00                 NaN   \n",
       "75%       631.000000            1996-09-28 00:00:00                 NaN   \n",
       "max      1682.000000            1998-10-23 00:00:00                 NaN   \n",
       "std       330.798356                            NaN                 NaN   \n",
       "\n",
       "       release_year       user_id         rating     timestamp  \n",
       "count  99991.000000  100000.00000  100000.000000  1.000000e+05  \n",
       "mean    1987.956216     462.48475       3.529860  8.835289e+08  \n",
       "min     1922.000000       1.00000       1.000000  8.747247e+08  \n",
       "25%     1986.000000     254.00000       3.000000  8.794487e+08  \n",
       "50%     1994.000000     447.00000       4.000000  8.828269e+08  \n",
       "75%     1996.000000     682.00000       4.000000  8.882600e+08  \n",
       "max     1998.000000     943.00000       5.000000  8.932866e+08  \n",
       "std       14.155523     266.61442       1.125674  5.343856e+06  "
      ]
     },
     "execution_count": 7,
     "metadata": {},
     "output_type": "execute_result"
    }
   ],
   "source": [
    "all_ratings.describe()"
   ]
  },
  {
   "cell_type": "markdown",
   "metadata": {},
   "source": [
    "Let's do a bit more pandas magic to compute the popularity of each movie (number of ratings). We will use the `groupby` method to group the dataframe by the `item_id` column and then use the `size` method to compute the number of ratings for each movie. We will use the `reset_index` method to convert the resulting Series into a dataframe with an `item_id` column."
   ]
  },
  {
   "cell_type": "code",
   "execution_count": 8,
   "metadata": {},
   "outputs": [],
   "source": [
    "popularity = all_ratings.groupby('item_id').size().reset_index(name='popularity')\n",
    "items = pd.merge(popularity, items)"
   ]
  },
  {
   "cell_type": "code",
   "execution_count": 9,
   "metadata": {},
   "outputs": [
    {
     "data": {
      "image/png": "[encoded data removed]",
      "text/plain": [
       "<Figure size 640x480 with 1 Axes>"
      ]
     },
     "metadata": {},
     "output_type": "display_data"
    }
   ],
   "source": [
    "items['popularity'].plot.hist(bins=30);"
   ]
  },
  {
   "cell_type": "code",
   "execution_count": 10,
   "metadata": {},
   "outputs": [
    {
     "data": {
      "text/plain": [
       "141"
      ]
     },
     "execution_count": 10,
     "metadata": {},
     "output_type": "execute_result"
    }
   ],
   "source": [
    "(items['popularity'] == 1).sum() # Number of movies with only one rating"
   ]
  },
  {
   "cell_type": "code",
   "execution_count": 11,
   "metadata": {},
   "outputs": [
    {
     "data": {
      "text/plain": [
       "49                  Star Wars (1977)\n",
       "257                   Contact (1997)\n",
       "99                      Fargo (1996)\n",
       "180        Return of the Jedi (1983)\n",
       "293                 Liar Liar (1997)\n",
       "285      English Patient, The (1996)\n",
       "287                    Scream (1996)\n",
       "0                   Toy Story (1995)\n",
       "299             Air Force One (1997)\n",
       "120    Independence Day (ID4) (1996)\n",
       "Name: title, dtype: object"
      ]
     },
     "execution_count": 11,
     "metadata": {},
     "output_type": "execute_result"
    }
   ],
   "source": [
    "items.nlargest(10, 'popularity')['title'] # Get the 10 most popular movies"
   ]
  },
  {
   "cell_type": "code",
   "execution_count": 12,
   "metadata": {},
   "outputs": [
    {
     "data": {
      "text/html": [
       "<div>\n",
       "<style scoped>\n",
       "    .dataframe tbody tr th:only-of-type {\n",
       "        vertical-align: middle;\n",
       "    }\n",
       "\n",
       "    .dataframe tbody tr th {\n",
       "        vertical-align: top;\n",
       "    }\n",
       "\n",
       "    .dataframe thead th {\n",
       "        text-align: right;\n",
       "    }\n",
       "</style>\n",
       "<table border=\"1\" class=\"dataframe\">\n",
       "  <thead>\n",
       "    <tr style=\"text-align: right;\">\n",
       "      <th></th>\n",
       "      <th>item_id</th>\n",
       "      <th>popularity</th>\n",
       "      <th>release_date</th>\n",
       "      <th>video_release_date</th>\n",
       "      <th>release_year</th>\n",
       "      <th>user_id</th>\n",
       "      <th>rating</th>\n",
       "      <th>timestamp</th>\n",
       "    </tr>\n",
       "  </thead>\n",
       "  <tbody>\n",
       "    <tr>\n",
       "      <th>count</th>\n",
       "      <td>100000.000000</td>\n",
       "      <td>100000.000000</td>\n",
       "      <td>99991</td>\n",
       "      <td>0.0</td>\n",
       "      <td>99991.000000</td>\n",
       "      <td>100000.00000</td>\n",
       "      <td>100000.000000</td>\n",
       "      <td>1.000000e+05</td>\n",
       "    </tr>\n",
       "    <tr>\n",
       "      <th>mean</th>\n",
       "      <td>425.530130</td>\n",
       "      <td>168.071900</td>\n",
       "      <td>1988-02-09 00:43:11.369223296</td>\n",
       "      <td>NaN</td>\n",
       "      <td>1987.956216</td>\n",
       "      <td>462.48475</td>\n",
       "      <td>3.529860</td>\n",
       "      <td>8.835289e+08</td>\n",
       "    </tr>\n",
       "    <tr>\n",
       "      <th>min</th>\n",
       "      <td>1.000000</td>\n",
       "      <td>1.000000</td>\n",
       "      <td>1922-01-01 00:00:00</td>\n",
       "      <td>NaN</td>\n",
       "      <td>1922.000000</td>\n",
       "      <td>1.00000</td>\n",
       "      <td>1.000000</td>\n",
       "      <td>8.747247e+08</td>\n",
       "    </tr>\n",
       "    <tr>\n",
       "      <th>25%</th>\n",
       "      <td>175.000000</td>\n",
       "      <td>71.000000</td>\n",
       "      <td>1986-01-01 00:00:00</td>\n",
       "      <td>NaN</td>\n",
       "      <td>1986.000000</td>\n",
       "      <td>254.00000</td>\n",
       "      <td>3.000000</td>\n",
       "      <td>8.794487e+08</td>\n",
       "    </tr>\n",
       "    <tr>\n",
       "      <th>50%</th>\n",
       "      <td>322.000000</td>\n",
       "      <td>145.000000</td>\n",
       "      <td>1994-01-01 00:00:00</td>\n",
       "      <td>NaN</td>\n",
       "      <td>1994.000000</td>\n",
       "      <td>447.00000</td>\n",
       "      <td>4.000000</td>\n",
       "      <td>8.828269e+08</td>\n",
       "    </tr>\n",
       "    <tr>\n",
       "      <th>75%</th>\n",
       "      <td>631.000000</td>\n",
       "      <td>239.000000</td>\n",
       "      <td>1996-09-28 00:00:00</td>\n",
       "      <td>NaN</td>\n",
       "      <td>1996.000000</td>\n",
       "      <td>682.00000</td>\n",
       "      <td>4.000000</td>\n",
       "      <td>8.882600e+08</td>\n",
       "    </tr>\n",
       "    <tr>\n",
       "      <th>max</th>\n",
       "      <td>1682.000000</td>\n",
       "      <td>583.000000</td>\n",
       "      <td>1998-10-23 00:00:00</td>\n",
       "      <td>NaN</td>\n",
       "      <td>1998.000000</td>\n",
       "      <td>943.00000</td>\n",
       "      <td>5.000000</td>\n",
       "      <td>8.932866e+08</td>\n",
       "    </tr>\n",
       "    <tr>\n",
       "      <th>std</th>\n",
       "      <td>330.798356</td>\n",
       "      <td>121.784558</td>\n",
       "      <td>NaN</td>\n",
       "      <td>NaN</td>\n",
       "      <td>14.155523</td>\n",
       "      <td>266.61442</td>\n",
       "      <td>1.125674</td>\n",
       "      <td>5.343856e+06</td>\n",
       "    </tr>\n",
       "  </tbody>\n",
       "</table>\n",
       "</div>"
      ],
      "text/plain": [
       "             item_id     popularity                   release_date  \\\n",
       "count  100000.000000  100000.000000                          99991   \n",
       "mean      425.530130     168.071900  1988-02-09 00:43:11.369223296   \n",
       "min         1.000000       1.000000            1922-01-01 00:00:00   \n",
       "25%       175.000000      71.000000            1986-01-01 00:00:00   \n",
       "50%       322.000000     145.000000            1994-01-01 00:00:00   \n",
       "75%       631.000000     239.000000            1996-09-28 00:00:00   \n",
       "max      1682.000000     583.000000            1998-10-23 00:00:00   \n",
       "std       330.798356     121.784558                            NaN   \n",
       "\n",
       "       video_release_date  release_year       user_id         rating  \\\n",
       "count                 0.0  99991.000000  100000.00000  100000.000000   \n",
       "mean                  NaN   1987.956216     462.48475       3.529860   \n",
       "min                   NaN   1922.000000       1.00000       1.000000   \n",
       "25%                   NaN   1986.000000     254.00000       3.000000   \n",
       "50%                   NaN   1994.000000     447.00000       4.000000   \n",
       "75%                   NaN   1996.000000     682.00000       4.000000   \n",
       "max                   NaN   1998.000000     943.00000       5.000000   \n",
       "std                   NaN     14.155523     266.61442       1.125674   \n",
       "\n",
       "          timestamp  \n",
       "count  1.000000e+05  \n",
       "mean   8.835289e+08  \n",
       "min    8.747247e+08  \n",
       "25%    8.794487e+08  \n",
       "50%    8.828269e+08  \n",
       "75%    8.882600e+08  \n",
       "max    8.932866e+08  \n",
       "std    5.343856e+06  "
      ]
     },
     "execution_count": 12,
     "metadata": {},
     "output_type": "execute_result"
    }
   ],
   "source": [
    "all_ratings = pd.merge(popularity, all_ratings)\n",
    "all_ratings.describe()"
   ]
  },
  {
   "cell_type": "code",
   "execution_count": 48,
   "metadata": {
    "collapsed": false
   },
   "outputs": [],
   "source": [
    "indexed_items = items.set_index('item_id')\n"
   ]
  },
  {
   "cell_type": "code",
   "execution_count": 50,
   "metadata": {},
   "outputs": [
    {
     "data": {
      "text/html": [
       "<div>\n",
       "<style scoped>\n",
       "    .dataframe tbody tr th:only-of-type {\n",
       "        vertical-align: middle;\n",
       "    }\n",
       "\n",
       "    .dataframe tbody tr th {\n",
       "        vertical-align: top;\n",
       "    }\n",
       "\n",
       "    .dataframe thead th {\n",
       "        text-align: right;\n",
       "    }\n",
       "</style>\n",
       "<table border=\"1\" class=\"dataframe\">\n",
       "  <thead>\n",
       "    <tr style=\"text-align: right;\">\n",
       "      <th></th>\n",
       "      <th>item_id</th>\n",
       "      <th>popularity</th>\n",
       "      <th>title</th>\n",
       "      <th>release_date</th>\n",
       "      <th>video_release_date</th>\n",
       "      <th>imdb_url</th>\n",
       "      <th>release_year</th>\n",
       "      <th>user_id</th>\n",
       "      <th>rating</th>\n",
       "      <th>timestamp</th>\n",
       "    </tr>\n",
       "  </thead>\n",
       "  <tbody>\n",
       "    <tr>\n",
       "      <th>0</th>\n",
       "      <td>1</td>\n",
       "      <td>452</td>\n",
       "      <td>Toy Story (1995)</td>\n",
       "      <td>1995-01-01</td>\n",
       "      <td>NaN</td>\n",
       "      <td>http://us.imdb.com/M/title-exact?Toy%20Story%2...</td>\n",
       "      <td>1995.0</td>\n",
       "      <td>308</td>\n",
       "      <td>4</td>\n",
       "      <td>887736532</td>\n",
       "    </tr>\n",
       "    <tr>\n",
       "      <th>1</th>\n",
       "      <td>1</td>\n",
       "      <td>452</td>\n",
       "      <td>Toy Story (1995)</td>\n",
       "      <td>1995-01-01</td>\n",
       "      <td>NaN</td>\n",
       "      <td>http://us.imdb.com/M/title-exact?Toy%20Story%2...</td>\n",
       "      <td>1995.0</td>\n",
       "      <td>287</td>\n",
       "      <td>5</td>\n",
       "      <td>875334088</td>\n",
       "    </tr>\n",
       "    <tr>\n",
       "      <th>2</th>\n",
       "      <td>1</td>\n",
       "      <td>452</td>\n",
       "      <td>Toy Story (1995)</td>\n",
       "      <td>1995-01-01</td>\n",
       "      <td>NaN</td>\n",
       "      <td>http://us.imdb.com/M/title-exact?Toy%20Story%2...</td>\n",
       "      <td>1995.0</td>\n",
       "      <td>148</td>\n",
       "      <td>4</td>\n",
       "      <td>877019411</td>\n",
       "    </tr>\n",
       "    <tr>\n",
       "      <th>3</th>\n",
       "      <td>1</td>\n",
       "      <td>452</td>\n",
       "      <td>Toy Story (1995)</td>\n",
       "      <td>1995-01-01</td>\n",
       "      <td>NaN</td>\n",
       "      <td>http://us.imdb.com/M/title-exact?Toy%20Story%2...</td>\n",
       "      <td>1995.0</td>\n",
       "      <td>280</td>\n",
       "      <td>4</td>\n",
       "      <td>891700426</td>\n",
       "    </tr>\n",
       "    <tr>\n",
       "      <th>4</th>\n",
       "      <td>1</td>\n",
       "      <td>452</td>\n",
       "      <td>Toy Story (1995)</td>\n",
       "      <td>1995-01-01</td>\n",
       "      <td>NaN</td>\n",
       "      <td>http://us.imdb.com/M/title-exact?Toy%20Story%2...</td>\n",
       "      <td>1995.0</td>\n",
       "      <td>66</td>\n",
       "      <td>3</td>\n",
       "      <td>883601324</td>\n",
       "    </tr>\n",
       "  </tbody>\n",
       "</table>\n",
       "</div>"
      ],
      "text/plain": [
       "   item_id  popularity             title release_date  video_release_date  \\\n",
       "0        1         452  Toy Story (1995)   1995-01-01                 NaN   \n",
       "1        1         452  Toy Story (1995)   1995-01-01                 NaN   \n",
       "2        1         452  Toy Story (1995)   1995-01-01                 NaN   \n",
       "3        1         452  Toy Story (1995)   1995-01-01                 NaN   \n",
       "4        1         452  Toy Story (1995)   1995-01-01                 NaN   \n",
       "\n",
       "                                            imdb_url  release_year  user_id  \\\n",
       "0  http://us.imdb.com/M/title-exact?Toy%20Story%2...        1995.0      308   \n",
       "1  http://us.imdb.com/M/title-exact?Toy%20Story%2...        1995.0      287   \n",
       "2  http://us.imdb.com/M/title-exact?Toy%20Story%2...        1995.0      148   \n",
       "3  http://us.imdb.com/M/title-exact?Toy%20Story%2...        1995.0      280   \n",
       "4  http://us.imdb.com/M/title-exact?Toy%20Story%2...        1995.0       66   \n",
       "\n",
       "   rating  timestamp  \n",
       "0       4  887736532  \n",
       "1       5  875334088  \n",
       "2       4  877019411  \n",
       "3       4  891700426  \n",
       "4       3  883601324  "
      ]
     },
     "execution_count": 50,
     "metadata": {},
     "output_type": "execute_result"
    }
   ],
   "source": [
    "all_ratings.head()\n"
   ]
  },
  {
   "cell_type": "markdown",
   "metadata": {
    "collapsed": false
   },
   "source": [
    "**Quick Exercise**:\n",
    "\n",
    "As we have seen, the `groupby` method is a powerful tool to quickly compute statistics on the data. Use it to compute the average rating for each movie.\n",
    "\n",
    "**Hint**: you can use the `mean` method after the `groupby` method."
   ]
  },
  {
   "cell_type": "code",
   "execution_count": 15,
   "metadata": {
    "collapsed": false
   },
   "outputs": [
    {
     "data": {
      "text/html": [
       "<div>\n",
       "<style scoped>\n",
       "    .dataframe tbody tr th:only-of-type {\n",
       "        vertical-align: middle;\n",
       "    }\n",
       "\n",
       "    .dataframe tbody tr th {\n",
       "        vertical-align: top;\n",
       "    }\n",
       "\n",
       "    .dataframe thead th {\n",
       "        text-align: right;\n",
       "    }\n",
       "</style>\n",
       "<table border=\"1\" class=\"dataframe\">\n",
       "  <thead>\n",
       "    <tr style=\"text-align: right;\">\n",
       "      <th></th>\n",
       "      <th>item_id</th>\n",
       "      <th>popularity</th>\n",
       "      <th>title</th>\n",
       "      <th>release_date</th>\n",
       "      <th>video_release_date</th>\n",
       "      <th>imdb_url</th>\n",
       "      <th>release_year</th>\n",
       "      <th>rating</th>\n",
       "    </tr>\n",
       "  </thead>\n",
       "  <tbody>\n",
       "    <tr>\n",
       "      <th>0</th>\n",
       "      <td>1</td>\n",
       "      <td>452</td>\n",
       "      <td>Toy Story (1995)</td>\n",
       "      <td>1995-01-01</td>\n",
       "      <td>NaN</td>\n",
       "      <td>http://us.imdb.com/M/title-exact?Toy%20Story%2...</td>\n",
       "      <td>1995.0</td>\n",
       "      <td>3.878319</td>\n",
       "    </tr>\n",
       "    <tr>\n",
       "      <th>1</th>\n",
       "      <td>2</td>\n",
       "      <td>131</td>\n",
       "      <td>GoldenEye (1995)</td>\n",
       "      <td>1995-01-01</td>\n",
       "      <td>NaN</td>\n",
       "      <td>http://us.imdb.com/M/title-exact?GoldenEye%20(...</td>\n",
       "      <td>1995.0</td>\n",
       "      <td>3.206107</td>\n",
       "    </tr>\n",
       "    <tr>\n",
       "      <th>2</th>\n",
       "      <td>3</td>\n",
       "      <td>90</td>\n",
       "      <td>Four Rooms (1995)</td>\n",
       "      <td>1995-01-01</td>\n",
       "      <td>NaN</td>\n",
       "      <td>http://us.imdb.com/M/title-exact?Four%20Rooms%...</td>\n",
       "      <td>1995.0</td>\n",
       "      <td>3.033333</td>\n",
       "    </tr>\n",
       "    <tr>\n",
       "      <th>3</th>\n",
       "      <td>4</td>\n",
       "      <td>209</td>\n",
       "      <td>Get Shorty (1995)</td>\n",
       "      <td>1995-01-01</td>\n",
       "      <td>NaN</td>\n",
       "      <td>http://us.imdb.com/M/title-exact?Get%20Shorty%...</td>\n",
       "      <td>1995.0</td>\n",
       "      <td>3.550239</td>\n",
       "    </tr>\n",
       "    <tr>\n",
       "      <th>4</th>\n",
       "      <td>5</td>\n",
       "      <td>86</td>\n",
       "      <td>Copycat (1995)</td>\n",
       "      <td>1995-01-01</td>\n",
       "      <td>NaN</td>\n",
       "      <td>http://us.imdb.com/M/title-exact?Copycat%20(1995)</td>\n",
       "      <td>1995.0</td>\n",
       "      <td>3.302326</td>\n",
       "    </tr>\n",
       "  </tbody>\n",
       "</table>\n",
       "</div>"
      ],
      "text/plain": [
       "   item_id  popularity              title release_date  video_release_date  \\\n",
       "0        1         452   Toy Story (1995)   1995-01-01                 NaN   \n",
       "1        2         131   GoldenEye (1995)   1995-01-01                 NaN   \n",
       "2        3          90  Four Rooms (1995)   1995-01-01                 NaN   \n",
       "3        4         209  Get Shorty (1995)   1995-01-01                 NaN   \n",
       "4        5          86     Copycat (1995)   1995-01-01                 NaN   \n",
       "\n",
       "                                            imdb_url  release_year    rating  \n",
       "0  http://us.imdb.com/M/title-exact?Toy%20Story%2...        1995.0  3.878319  \n",
       "1  http://us.imdb.com/M/title-exact?GoldenEye%20(...        1995.0  3.206107  \n",
       "2  http://us.imdb.com/M/title-exact?Four%20Rooms%...        1995.0  3.033333  \n",
       "3  http://us.imdb.com/M/title-exact?Get%20Shorty%...        1995.0  3.550239  \n",
       "4  http://us.imdb.com/M/title-exact?Copycat%20(1995)        1995.0  3.302326  "
      ]
     },
     "execution_count": 15,
     "metadata": {},
     "output_type": "execute_result"
    }
   ],
   "source": [
    "#raise NotImplementedError(\"Please calculate the average rating for each movie\")\n",
    "\n",
    "avg_ratings = all_ratings.groupby('item_id')['rating'].mean()\n",
    "\n",
    "\n",
    "items_with_avg = pd.merge(items, avg_ratings, on='item_id')\n",
    "\n",
    "# Show the first few rows\n",
    "items_with_avg.head()\n"
   ]
  },
  {
   "cell_type": "markdown",
   "metadata": {},
   "source": [
    "Let's split the enriched data in a train / test split to make it possible to do predictive modeling:"
   ]
  },
  {
   "cell_type": "code",
   "execution_count": 16,
   "metadata": {},
   "outputs": [],
   "source": [
    "from sklearn.model_selection import train_test_split\n",
    "\n",
    "ratings_train, ratings_test = train_test_split(\n",
    "    all_ratings, test_size=0.2, random_state=0)\n",
    "\n",
    "user_id_train = np.array(ratings_train['user_id'])\n",
    "item_id_train = np.array(ratings_train['item_id'])\n",
    "rating_train = np.array(ratings_train['rating'])\n",
    "\n",
    "user_id_test = np.array(ratings_test['user_id'])\n",
    "item_id_test = np.array(ratings_test['item_id'])\n",
    "rating_test = np.array(ratings_test['rating'])"
   ]
  },
  {
   "cell_type": "markdown",
   "metadata": {},
   "source": [
    "# Explicit feedback: supervised ratings prediction\n",
    "\n",
    "Now let's begin to do some recommendation! We will build a model that takes a user and a movie as input and outputs a predicted rating. We will be taking advantage of embeddings to represent users and movies. That means that each movie and user will have an abstract representation in a continuous vector space. The model will learn these representations based on the ratings."
   ]
  },
  {
   "cell_type": "markdown",
   "metadata": {},
   "source": [
    "## Predictive ratings  as a regression problem\n",
    "\n",
    "The following code implements the following architecture:\n",
    "\n",
    "<img src=\"https://raw.githubusercontent.com/UofT-DSI/deep_learning/refs/heads/main/01_materials/labs/images/rec_archi_1.svg\" style=\"width: 600px;\" />"
   ]
  },
  {
   "cell_type": "code",
   "execution_count": 17,
   "metadata": {},
   "outputs": [],
   "source": [
    "from tensorflow.keras.layers import Embedding, Flatten, Dense, Dropout\n",
    "from tensorflow.keras.layers import Dot\n",
    "from tensorflow.keras.models import Model"
   ]
  },
  {
   "cell_type": "code",
   "execution_count": 20,
   "metadata": {},
   "outputs": [],
   "source": [
    "# For each sample we input the integer identifiers\n",
    "# of a single user and a single item\n",
    "class RegressionModel(Model):\n",
    "    def __init__(self, embedding_size, max_user_id, max_item_id):\n",
    "        super().__init__()\n",
    "        \n",
    "        self.user_embedding = Embedding(output_dim=embedding_size,\n",
    "                                        input_dim=max_user_id + 1,\n",
    "                                        name='user_embedding')\n",
    "        self.item_embedding = Embedding(output_dim=embedding_size,\n",
    "                                        input_dim=max_item_id + 1,\n",
    "                                        name='item_embedding')\n",
    "        \n",
    "        # The following two layers don't have parameters.\n",
    "        self.flatten = Flatten()\n",
    "        self.dot = Dot(axes=1)\n",
    "        \n",
    "    def call(self, inputs):\n",
    "        user_inputs = inputs[0]\n",
    "        item_inputs = inputs[1]\n",
    "        \n",
    "        user_vecs = self.flatten(self.user_embedding(user_inputs))\n",
    "        item_vecs = self.flatten(self.item_embedding(item_inputs))\n",
    "        \n",
    "        y = self.dot([user_vecs, item_vecs])\n",
    "        return y\n",
    "\n",
    "\n",
    "model = RegressionModel(embedding_size=64, max_user_id=all_ratings['user_id'].max(), max_item_id=all_ratings['item_id'].max())\n",
    "model.compile(optimizer=\"adam\", loss='mae')"
   ]
  },
  {
   "cell_type": "markdown",
   "metadata": {},
   "source": [
    "### Monitoring runs\n",
    "\n",
    "When training a model with Keras, we get a `history` object back that contains lots of information about the training run. We can use this to plot the training and validation loss to see how the model has improved during training."
   ]
  },
  {
   "cell_type": "code",
   "execution_count": 21,
   "metadata": {},
   "outputs": [
    {
     "name": "stdout",
     "output_type": "stream",
     "text": [
      "Epoch 1/10\n",
      "\u001b[1m1125/1125\u001b[0m \u001b[32m━━━━━━━━━━━━━━━━━━━━\u001b[0m\u001b[37m\u001b[0m \u001b[1m1s\u001b[0m 1ms/step - loss: 3.2766 - val_loss: 1.0354\n",
      "Epoch 2/10\n",
      "\u001b[1m1125/1125\u001b[0m \u001b[32m━━━━━━━━━━━━━━━━━━━━\u001b[0m\u001b[37m\u001b[0m \u001b[1m1s\u001b[0m 998us/step - loss: 0.8981 - val_loss: 0.7970\n",
      "Epoch 3/10\n",
      "\u001b[1m1125/1125\u001b[0m \u001b[32m━━━━━━━━━━━━━━━━━━━━\u001b[0m\u001b[37m\u001b[0m \u001b[1m1s\u001b[0m 995us/step - loss: 0.7568 - val_loss: 0.7678\n",
      "Epoch 4/10\n",
      "\u001b[1m1125/1125\u001b[0m \u001b[32m━━━━━━━━━━━━━━━━━━━━\u001b[0m\u001b[37m\u001b[0m \u001b[1m1s\u001b[0m 993us/step - loss: 0.7217 - val_loss: 0.7579\n",
      "Epoch 5/10\n",
      "\u001b[1m1125/1125\u001b[0m \u001b[32m━━━━━━━━━━━━━━━━━━━━\u001b[0m\u001b[37m\u001b[0m \u001b[1m1s\u001b[0m 994us/step - loss: 0.6993 - val_loss: 0.7464\n",
      "Epoch 6/10\n",
      "\u001b[1m1125/1125\u001b[0m \u001b[32m━━━━━━━━━━━━━━━━━━━━\u001b[0m\u001b[37m\u001b[0m \u001b[1m1s\u001b[0m 997us/step - loss: 0.6801 - val_loss: 0.7420\n",
      "Epoch 7/10\n",
      "\u001b[1m1125/1125\u001b[0m \u001b[32m━━━━━━━━━━━━━━━━━━━━\u001b[0m\u001b[37m\u001b[0m \u001b[1m1s\u001b[0m 1ms/step - loss: 0.6577 - val_loss: 0.7390\n",
      "Epoch 8/10\n",
      "\u001b[1m1125/1125\u001b[0m \u001b[32m━━━━━━━━━━━━━━━━━━━━\u001b[0m\u001b[37m\u001b[0m \u001b[1m1s\u001b[0m 1ms/step - loss: 0.6387 - val_loss: 0.7363\n",
      "Epoch 9/10\n",
      "\u001b[1m1125/1125\u001b[0m \u001b[32m━━━━━━━━━━━━━━━━━━━━\u001b[0m\u001b[37m\u001b[0m \u001b[1m1s\u001b[0m 991us/step - loss: 0.6173 - val_loss: 0.7372\n",
      "Epoch 10/10\n",
      "\u001b[1m1125/1125\u001b[0m \u001b[32m━━━━━━━━━━━━━━━━━━━━\u001b[0m\u001b[37m\u001b[0m \u001b[1m1s\u001b[0m 994us/step - loss: 0.5920 - val_loss: 0.7377\n",
      "CPU times: user 15 s, sys: 6.94 s, total: 21.9 s\n",
      "Wall time: 11.7 s\n"
     ]
    }
   ],
   "source": [
    "%%time\n",
    "\n",
    "# Training the model\n",
    "history = model.fit([user_id_train, item_id_train], rating_train,\n",
    "                    batch_size=64, epochs=10, validation_split=0.1,\n",
    "                    shuffle=True)"
   ]
  },
  {
   "cell_type": "code",
   "execution_count": 22,
   "metadata": {},
   "outputs": [
    {
     "data": {
      "image/png": "[encoded data removed]",
      "text/plain": [
       "<Figure size 640x480 with 1 Axes>"
      ]
     },
     "metadata": {},
     "output_type": "display_data"
    }
   ],
   "source": [
    "plt.plot(history.history['loss'], label='train')\n",
    "plt.plot(history.history['val_loss'], label='validation')\n",
    "plt.ylim(0, 2)\n",
    "plt.legend(loc='best')\n",
    "plt.title('Loss');"
   ]
  },
  {
   "cell_type": "markdown",
   "metadata": {},
   "source": [
    "**Questions**:\n",
    "\n",
    "- Does it look like our model has overfit? Why or why not?  \n",
    "Your Answer: ____________\n",
    "- Suggest something we could do to prevent overfitting.  \n",
    "Your Answer: ____________\n",
    "\n",
    "Now that the model is trained, let's check out the quality of predictions:"
   ]
  },
  {
   "cell_type": "markdown",
   "metadata": {},
   "source": [
    "The model is overfitting. This is because the training loss continues to decrease, while the validation loss starts increasing after a certain point.\n",
    "This indicates that the model is learning the training data too well (including its noise), and its ability to generalize to unseen data is deteriorating. We can employ dropout to prevent overfitting. "
   ]
  },
  {
   "cell_type": "code",
   "execution_count": 23,
   "metadata": {},
   "outputs": [],
   "source": [
    "def plot_predictions(y_true, y_pred):\n",
    "    plt.figure(figsize=(4, 4))\n",
    "    plt.xlim(-1, 6)\n",
    "    plt.xlabel(\"True rating\")\n",
    "    plt.ylim(-1, 6)\n",
    "    plt.ylabel(\"Predicted rating\")\n",
    "    plt.scatter(y_true, y_pred, s=60, alpha=0.01)"
   ]
  },
  {
   "cell_type": "code",
   "execution_count": 24,
   "metadata": {},
   "outputs": [
    {
     "name": "stdout",
     "output_type": "stream",
     "text": [
      "\u001b[1m625/625\u001b[0m \u001b[32m━━━━━━━━━━━━━━━━━━━━\u001b[0m\u001b[37m\u001b[0m \u001b[1m0s\u001b[0m 320us/step\n",
      "Final test MSE: 0.909\n",
      "Final test MAE: 0.736\n"
     ]
    },
    {
     "data": {
      "image/png": "[encoded data removed]",
      "text/plain": [
       "<Figure size 400x400 with 1 Axes>"
      ]
     },
     "metadata": {},
     "output_type": "display_data"
    }
   ],
   "source": [
    "from sklearn.metrics import mean_squared_error\n",
    "from sklearn.metrics import mean_absolute_error\n",
    "\n",
    "test_preds = model.predict([user_id_test, item_id_test])\n",
    "print(\"Final test MSE: %0.3f\" % mean_squared_error(test_preds, rating_test))\n",
    "print(\"Final test MAE: %0.3f\" % mean_absolute_error(test_preds, rating_test))\n",
    "plot_predictions(rating_test, test_preds)"
   ]
  },
  {
   "cell_type": "markdown",
   "metadata": {
    "collapsed": false
   },
   "source": [
    "This graph shows us the range of predicted ratings our model gives, organized by the true rating. We can see that generally, the higher the true rating the higher the predicted rating, although there is quite a range of predictions for each instance. That's okay - our model is very simple, and human preferences are very complex!\n",
    "\n",
    "Taking a look at the Mean Absolute Error, hopefully you got something around 0.75. This means that, on average, our predicted ratings are about 0.75 stars off from the true ratings. This is a pretty good result for a first attempt. We could probably do better with a more complex model, but we'll leave that for another time."
   ]
  },
  {
   "cell_type": "markdown",
   "metadata": {},
   "source": [
    "### Model Embeddings\n",
    "\n",
    "Our model was built with two embedding layers. These layers have learned a representation of both the users and the movies in our dataset. We can extract these representations and use them to find similar movies or users. We can also do interesting exploratory analysis, like finding the most popular movies among our users, or finding the users that are most interested in a given movie."
   ]
  },
  {
   "cell_type": "code",
   "execution_count": 25,
   "metadata": {},
   "outputs": [
    {
     "data": {
      "text/plain": [
       "[(944, 64), (1683, 64)]"
      ]
     },
     "execution_count": 25,
     "metadata": {},
     "output_type": "execute_result"
    }
   ],
   "source": [
    "# weights and shape\n",
    "weights = model.get_weights()\n",
    "[w.shape for w in weights]"
   ]
  },
  {
   "cell_type": "code",
   "execution_count": 26,
   "metadata": {},
   "outputs": [],
   "source": [
    "user_embeddings = weights[0]\n",
    "item_embeddings = weights[1]"
   ]
  },
  {
   "cell_type": "code",
   "execution_count": 27,
   "metadata": {},
   "outputs": [
    {
     "name": "stdout",
     "output_type": "stream",
     "text": [
      "Title for item_id=181: Return of the Jedi (1983)\n"
     ]
    }
   ],
   "source": [
    "item_id = 181\n",
    "print(f\"Title for item_id={item_id}: {indexed_items['title'][item_id]}\")"
   ]
  },
  {
   "cell_type": "code",
   "execution_count": 28,
   "metadata": {},
   "outputs": [
    {
     "name": "stdout",
     "output_type": "stream",
     "text": [
      "Embedding vector for item_id=181\n",
      "[ 0.5049994  -0.24453689 -0.5053119  -0.14520554 -0.17662948 -0.4140876\n",
      "  0.33397424 -0.43637303  0.2627958   0.19209456 -0.00306972  0.01615785\n",
      "  0.36145076  0.06600716  0.5860347  -0.3238521  -0.19712465 -0.20112757\n",
      " -0.35017866 -0.39645898 -0.10436684 -0.22903298 -0.24842347 -0.33779415\n",
      "  0.54455906  0.5913569   0.10188422 -0.27270707  0.29540297 -0.32222798\n",
      "  0.26548845  0.31300977  0.6348242  -0.3539588   0.27794433 -0.3257407\n",
      "  0.5135676  -0.08596199  0.1292318   0.4055005  -0.39303997  0.20708163\n",
      " -0.39546552  0.13766694 -0.28147334  0.13006787  0.37037337 -0.1605785\n",
      "  0.3609969  -0.15301947 -0.37705556 -0.5487598  -0.59837615  0.2999434\n",
      " -0.5337184  -0.3211866   0.3655793   0.23211122 -0.1254762   0.4025621\n",
      "  0.23172197 -0.2985614   0.25593528 -0.29194993]\n",
      "shape: (64,)\n"
     ]
    }
   ],
   "source": [
    "print(f\"Embedding vector for item_id={item_id}\")\n",
    "print(item_embeddings[item_id])\n",
    "print(\"shape:\", item_embeddings[item_id].shape)"
   ]
  },
  {
   "cell_type": "markdown",
   "metadata": {
    "collapsed": false
   },
   "source": [
    "As we discussed in lecture, our embeddings are not directly interpretable - we can't look at, say, a value of 0.297 in the embedding vector and say \"this means that the movie is a drama\". As an aside, there is a field of research dedicated to making _interpretable_ embeddings, but it's not something we'll cover in this course. "
   ]
  },
  {
   "cell_type": "markdown",
   "metadata": {},
   "source": [
    "### Finding our most similar items\n",
    "\n",
    "Now we can have some fun, investigating the embeddings we've learned. We can start by finding the most similar items to a given item. We can do this by computing the cosine similarity between the item's embedding and the embedding of every other item. We can use the `cosine_similarity` function from `sklearn` to do this."
   ]
  },
  {
   "cell_type": "code",
   "execution_count": 29,
   "metadata": {
    "collapsed": false
   },
   "outputs": [],
   "source": [
    "from sklearn.metrics.pairwise import cosine_similarity\n",
    "\n",
    "def cosine(a, b):\n",
    "    # Reshape to the shape our function expects\n",
    "    a = a.reshape(1, -1)\n",
    "    b = b.reshape(1, -1)\n",
    "    return cosine_similarity(a, b)[0, 0]"
   ]
  },
  {
   "cell_type": "code",
   "execution_count": 30,
   "metadata": {},
   "outputs": [
    {
     "name": "stdout",
     "output_type": "stream",
     "text": [
      "Star Wars (1977)\n",
      "Return of the Jedi (1983)\n",
      "Cosine similarity: 0.922\n"
     ]
    }
   ],
   "source": [
    "def print_similarity(item_a, item_b, item_embeddings, titles):\n",
    "    print(titles[item_a])\n",
    "    print(titles[item_b])\n",
    "    similarity = cosine(item_embeddings[item_a],\n",
    "                        item_embeddings[item_b])\n",
    "    print(f\"Cosine similarity: {similarity:.3}\")\n",
    "    \n",
    "print_similarity(50, 181, item_embeddings, indexed_items[\"title\"])"
   ]
  },
  {
   "cell_type": "markdown",
   "metadata": {
    "collapsed": false
   },
   "source": [
    "It makes sense that the original Star Wars, and its later sequel Return of the Jedi have a high similarity. Let's try some other examples:"
   ]
  },
  {
   "cell_type": "code",
   "execution_count": 31,
   "metadata": {},
   "outputs": [
    {
     "name": "stdout",
     "output_type": "stream",
     "text": [
      "Return of the Jedi (1983)\n",
      "Scream (1996)\n",
      "Cosine similarity: 0.613\n"
     ]
    }
   ],
   "source": [
    "print_similarity(181, 288, item_embeddings, indexed_items[\"title\"])"
   ]
  },
  {
   "cell_type": "code",
   "execution_count": 32,
   "metadata": {},
   "outputs": [
    {
     "name": "stdout",
     "output_type": "stream",
     "text": [
      "Return of the Jedi (1983)\n",
      "Toy Story (1995)\n",
      "Cosine similarity: 0.827\n"
     ]
    }
   ],
   "source": [
    "print_similarity(181, 1, item_embeddings, indexed_items[\"title\"])"
   ]
  },
  {
   "cell_type": "code",
   "execution_count": 33,
   "metadata": {},
   "outputs": [
    {
     "name": "stdout",
     "output_type": "stream",
     "text": [
      "Return of the Jedi (1983)\n",
      "Return of the Jedi (1983)\n",
      "Cosine similarity: 1.0\n"
     ]
    }
   ],
   "source": [
    "print_similarity(181, 181, item_embeddings, indexed_items[\"title\"])"
   ]
  },
  {
   "cell_type": "markdown",
   "metadata": {
    "collapsed": false
   },
   "source": [
    "*Quick Exercise*:Find some other films and compare their similarity. Do the results make sense to you? Can you find a pair of films that are very _dissimilar_?\n",
    "\n",
    "- "
   ]
  },
  {
   "cell_type": "code",
   "execution_count": 54,
   "metadata": {
    "collapsed": false
   },
   "outputs": [
    {
     "name": "stdout",
     "output_type": "stream",
     "text": [
      "Jedi movie IDs: [181]\n",
      "Return of the Jedi (1983)\n",
      "Toy Story (1995)\n",
      "Cosine similarity: 0.827\n",
      "Return of the Jedi (1983)\n",
      "GoldenEye (1995)\n",
      "Cosine similarity: 0.748\n",
      "Return of the Jedi (1983)\n",
      "Four Rooms (1995)\n",
      "Cosine similarity: 0.529\n",
      "Return of the Jedi (1983)\n",
      "Get Shorty (1995)\n",
      "Cosine similarity: 0.703\n",
      "Return of the Jedi (1983)\n",
      "Copycat (1995)\n",
      "Cosine similarity: 0.607\n",
      "Return of the Jedi (1983)\n",
      "Shanghai Triad (Yao a yao yao dao waipo qiao) (1995)\n",
      "Cosine similarity: 0.582\n",
      "Return of the Jedi (1983)\n",
      "Twelve Monkeys (1995)\n",
      "Cosine similarity: 0.773\n",
      "Return of the Jedi (1983)\n",
      "Babe (1995)\n",
      "Cosine similarity: 0.747\n",
      "Return of the Jedi (1983)\n",
      "Dead Man Walking (1995)\n",
      "Cosine similarity: 0.611\n",
      "Return of the Jedi (1983)\n",
      "Richard III (1995)\n",
      "Cosine similarity: 0.579\n",
      "Return of the Jedi (1983)\n",
      "Seven (Se7en) (1995)\n",
      "Cosine similarity: 0.696\n",
      "Return of the Jedi (1983)\n",
      "Usual Suspects, The (1995)\n",
      "Cosine similarity: 0.773\n",
      "Return of the Jedi (1983)\n",
      "Mighty Aphrodite (1995)\n",
      "Cosine similarity: 0.657\n",
      "Return of the Jedi (1983)\n",
      "Postino, Il (1994)\n",
      "Cosine similarity: 0.541\n",
      "Return of the Jedi (1983)\n",
      "Mr. Holland's Opus (1995)\n",
      "Cosine similarity: 0.671\n",
      "Return of the Jedi (1983)\n",
      "French Twist (Gazon maudit) (1995)\n",
      "Cosine similarity: 0.627\n",
      "Return of the Jedi (1983)\n",
      "From Dusk Till Dawn (1996)\n",
      "Cosine similarity: 0.719\n",
      "Return of the Jedi (1983)\n",
      "White Balloon, The (1995)\n",
      "Cosine similarity: 0.606\n",
      "Return of the Jedi (1983)\n",
      "Antonia's Line (1995)\n",
      "Cosine similarity: 0.515\n",
      "Return of the Jedi (1983)\n",
      "Angels and Insects (1995)\n",
      "Cosine similarity: 0.582\n",
      "Return of the Jedi (1983)\n",
      "Muppet Treasure Island (1996)\n",
      "Cosine similarity: 0.711\n",
      "Return of the Jedi (1983)\n",
      "Braveheart (1995)\n",
      "Cosine similarity: 0.768\n",
      "Return of the Jedi (1983)\n",
      "Taxi Driver (1976)\n",
      "Cosine similarity: 0.67\n",
      "Return of the Jedi (1983)\n",
      "Rumble in the Bronx (1995)\n",
      "Cosine similarity: 0.646\n",
      "Return of the Jedi (1983)\n",
      "Birdcage, The (1996)\n",
      "Cosine similarity: 0.579\n",
      "Return of the Jedi (1983)\n",
      "Brothers McMullen, The (1995)\n",
      "Cosine similarity: 0.696\n",
      "Return of the Jedi (1983)\n",
      "Bad Boys (1995)\n",
      "Cosine similarity: 0.69\n",
      "Return of the Jedi (1983)\n",
      "Apollo 13 (1995)\n",
      "Cosine similarity: 0.762\n",
      "Return of the Jedi (1983)\n",
      "Batman Forever (1995)\n",
      "Cosine similarity: 0.615\n",
      "Return of the Jedi (1983)\n",
      "Belle de jour (1967)\n",
      "Cosine similarity: 0.738\n",
      "Return of the Jedi (1983)\n",
      "Crimson Tide (1995)\n",
      "Cosine similarity: 0.782\n",
      "Return of the Jedi (1983)\n",
      "Crumb (1994)\n",
      "Cosine similarity: 0.534\n",
      "Return of the Jedi (1983)\n",
      "Desperado (1995)\n",
      "Cosine similarity: 0.603\n",
      "Return of the Jedi (1983)\n",
      "Doom Generation, The (1995)\n",
      "Cosine similarity: 0.585\n",
      "Return of the Jedi (1983)\n",
      "Free Willy 2: The Adventure Home (1995)\n",
      "Cosine similarity: 0.64\n",
      "Return of the Jedi (1983)\n",
      "Mad Love (1995)\n",
      "Cosine similarity: 0.43\n",
      "Return of the Jedi (1983)\n",
      "Nadja (1994)\n",
      "Cosine similarity: 0.501\n",
      "Return of the Jedi (1983)\n",
      "Net, The (1995)\n",
      "Cosine similarity: 0.618\n",
      "Return of the Jedi (1983)\n",
      "Strange Days (1995)\n",
      "Cosine similarity: 0.533\n",
      "Return of the Jedi (1983)\n",
      "To Wong Foo, Thanks for Everything! Julie Newmar (1995)\n",
      "Cosine similarity: 0.584\n",
      "Return of the Jedi (1983)\n",
      "Billy Madison (1995)\n",
      "Cosine similarity: 0.659\n",
      "Return of the Jedi (1983)\n",
      "Clerks (1994)\n",
      "Cosine similarity: 0.626\n",
      "Return of the Jedi (1983)\n",
      "Disclosure (1994)\n",
      "Cosine similarity: 0.601\n",
      "Return of the Jedi (1983)\n",
      "Dolores Claiborne (1994)\n",
      "Cosine similarity: 0.674\n",
      "Return of the Jedi (1983)\n",
      "Eat Drink Man Woman (1994)\n",
      "Cosine similarity: 0.569\n",
      "Return of the Jedi (1983)\n",
      "Exotica (1994)\n",
      "Cosine similarity: 0.513\n",
      "Return of the Jedi (1983)\n",
      "Ed Wood (1994)\n",
      "Cosine similarity: 0.579\n",
      "Return of the Jedi (1983)\n",
      "Hoop Dreams (1994)\n",
      "Cosine similarity: 0.76\n",
      "Return of the Jedi (1983)\n",
      "I.Q. (1994)\n",
      "Cosine similarity: 0.585\n",
      "Return of the Jedi (1983)\n",
      "Star Wars (1977)\n",
      "Cosine similarity: 0.922\n",
      "Return of the Jedi (1983)\n",
      "Legends of the Fall (1994)\n",
      "Cosine similarity: 0.66\n",
      "Return of the Jedi (1983)\n",
      "Madness of King George, The (1994)\n",
      "Cosine similarity: 0.664\n",
      "Return of the Jedi (1983)\n",
      "Natural Born Killers (1994)\n",
      "Cosine similarity: 0.5\n",
      "Return of the Jedi (1983)\n",
      "Outbreak (1995)\n",
      "Cosine similarity: 0.668\n",
      "Return of the Jedi (1983)\n",
      "Professional, The (1994)\n",
      "Cosine similarity: 0.649\n",
      "Return of the Jedi (1983)\n",
      "Pulp Fiction (1994)\n",
      "Cosine similarity: 0.621\n",
      "Return of the Jedi (1983)\n",
      "Priest (1994)\n",
      "Cosine similarity: 0.599\n",
      "Return of the Jedi (1983)\n",
      "Quiz Show (1994)\n",
      "Cosine similarity: 0.677\n",
      "Return of the Jedi (1983)\n",
      "Three Colors: Red (1994)\n",
      "Cosine similarity: 0.611\n",
      "Return of the Jedi (1983)\n",
      "Three Colors: Blue (1993)\n",
      "Cosine similarity: 0.544\n",
      "Return of the Jedi (1983)\n",
      "Three Colors: White (1994)\n",
      "Cosine similarity: 0.596\n",
      "Return of the Jedi (1983)\n",
      "Stargate (1994)\n",
      "Cosine similarity: 0.575\n",
      "Return of the Jedi (1983)\n",
      "Santa Clause, The (1994)\n",
      "Cosine similarity: 0.587\n",
      "Return of the Jedi (1983)\n",
      "Shawshank Redemption, The (1994)\n",
      "Cosine similarity: 0.695\n",
      "Return of the Jedi (1983)\n",
      "What's Eating Gilbert Grape (1993)\n",
      "Cosine similarity: 0.581\n",
      "Return of the Jedi (1983)\n",
      "While You Were Sleeping (1995)\n",
      "Cosine similarity: 0.733\n",
      "Return of the Jedi (1983)\n",
      "Ace Ventura: Pet Detective (1994)\n",
      "Cosine similarity: 0.543\n",
      "Return of the Jedi (1983)\n",
      "Crow, The (1994)\n",
      "Cosine similarity: 0.632\n",
      "Return of the Jedi (1983)\n",
      "Forrest Gump (1994)\n",
      "Cosine similarity: 0.772\n",
      "Return of the Jedi (1983)\n",
      "Four Weddings and a Funeral (1994)\n",
      "Cosine similarity: 0.705\n",
      "Return of the Jedi (1983)\n",
      "Lion King, The (1994)\n",
      "Cosine similarity: 0.72\n",
      "Return of the Jedi (1983)\n",
      "Mask, The (1994)\n",
      "Cosine similarity: 0.708\n",
      "Return of the Jedi (1983)\n",
      "Maverick (1994)\n",
      "Cosine similarity: 0.748\n",
      "Return of the Jedi (1983)\n",
      "Faster Pussycat! Kill! Kill! (1965)\n",
      "Cosine similarity: 0.503\n",
      "Return of the Jedi (1983)\n",
      "Brother Minister: The Assassination of Malcolm X (1994)\n",
      "Cosine similarity: 0.673\n",
      "Return of the Jedi (1983)\n",
      "Carlito's Way (1993)\n",
      "Cosine similarity: 0.777\n",
      "Return of the Jedi (1983)\n",
      "Firm, The (1993)\n",
      "Cosine similarity: 0.779\n",
      "Return of the Jedi (1983)\n",
      "Free Willy (1993)\n",
      "Cosine similarity: 0.597\n",
      "Return of the Jedi (1983)\n",
      "Fugitive, The (1993)\n",
      "Cosine similarity: 0.747\n",
      "Return of the Jedi (1983)\n",
      "Hot Shots! Part Deux (1993)\n",
      "Cosine similarity: 0.666\n",
      "Return of the Jedi (1983)\n",
      "Hudsucker Proxy, The (1994)\n",
      "Cosine similarity: 0.639\n",
      "Return of the Jedi (1983)\n",
      "Jurassic Park (1993)\n",
      "Cosine similarity: 0.753\n",
      "Return of the Jedi (1983)\n",
      "Much Ado About Nothing (1993)\n",
      "Cosine similarity: 0.694\n",
      "Return of the Jedi (1983)\n",
      "Robert A. Heinlein's The Puppet Masters (1994)\n",
      "Cosine similarity: 0.638\n",
      "Return of the Jedi (1983)\n",
      "Ref, The (1994)\n",
      "Cosine similarity: 0.687\n",
      "Return of the Jedi (1983)\n",
      "Remains of the Day, The (1993)\n",
      "Cosine similarity: 0.609\n",
      "Return of the Jedi (1983)\n",
      "Searching for Bobby Fischer (1993)\n",
      "Cosine similarity: 0.745\n",
      "Return of the Jedi (1983)\n",
      "Sleepless in Seattle (1993)\n",
      "Cosine similarity: 0.731\n",
      "Return of the Jedi (1983)\n",
      "Blade Runner (1982)\n",
      "Cosine similarity: 0.747\n",
      "Return of the Jedi (1983)\n",
      "So I Married an Axe Murderer (1993)\n",
      "Cosine similarity: 0.766\n",
      "Return of the Jedi (1983)\n",
      "Nightmare Before Christmas, The (1993)\n",
      "Cosine similarity: 0.694\n",
      "Return of the Jedi (1983)\n",
      "True Romance (1993)\n",
      "Cosine similarity: 0.637\n",
      "Return of the Jedi (1983)\n",
      "Welcome to the Dollhouse (1995)\n",
      "Cosine similarity: 0.608\n",
      "Return of the Jedi (1983)\n",
      "Home Alone (1990)\n",
      "Cosine similarity: 0.676\n",
      "Return of the Jedi (1983)\n",
      "Aladdin (1992)\n",
      "Cosine similarity: 0.782\n",
      "Return of the Jedi (1983)\n",
      "Terminator 2: Judgment Day (1991)\n",
      "Cosine similarity: 0.809\n",
      "Return of the Jedi (1983)\n",
      "Dances with Wolves (1990)\n",
      "Cosine similarity: 0.646\n",
      "Return of the Jedi (1983)\n",
      "Silence of the Lambs, The (1991)\n",
      "Cosine similarity: 0.756\n",
      "Return of the Jedi (1983)\n",
      "Snow White and the Seven Dwarfs (1937)\n",
      "Cosine similarity: 0.732\n",
      "Return of the Jedi (1983)\n",
      "Fargo (1996)\n",
      "Cosine similarity: 0.699\n",
      "Return of the Jedi (1983)\n",
      "Heavy Metal (1981)\n",
      "Cosine similarity: 0.709\n",
      "Return of the Jedi (1983)\n",
      "Aristocats, The (1970)\n",
      "Cosine similarity: 0.608\n",
      "Return of the Jedi (1983)\n",
      "All Dogs Go to Heaven 2 (1996)\n",
      "Cosine similarity: 0.683\n",
      "Return of the Jedi (1983)\n",
      "Theodore Rex (1995)\n",
      "Cosine similarity: 0.653\n",
      "Return of the Jedi (1983)\n",
      "Sgt. Bilko (1996)\n",
      "Cosine similarity: 0.692\n",
      "Return of the Jedi (1983)\n",
      "Diabolique (1996)\n",
      "Cosine similarity: 0.616\n",
      "Return of the Jedi (1983)\n",
      "Moll Flanders (1996)\n",
      "Cosine similarity: 0.612\n",
      "Return of the Jedi (1983)\n",
      "Kids in the Hall: Brain Candy (1996)\n",
      "Cosine similarity: 0.678\n",
      "Return of the Jedi (1983)\n",
      "Mystery Science Theater 3000: The Movie (1996)\n",
      "Cosine similarity: 0.788\n",
      "Return of the Jedi (1983)\n",
      "Operation Dumbo Drop (1995)\n",
      "Cosine similarity: 0.589\n",
      "Return of the Jedi (1983)\n",
      "Truth About Cats & Dogs, The (1996)\n",
      "Cosine similarity: 0.67\n",
      "Return of the Jedi (1983)\n",
      "Flipper (1996)\n",
      "Cosine similarity: 0.434\n",
      "Return of the Jedi (1983)\n",
      "Horseman on the Roof, The (Hussard sur le toit, Le) (1995)\n",
      "Cosine similarity: 0.682\n",
      "Return of the Jedi (1983)\n",
      "Wallace & Gromit: The Best of Aardman Animation (1996)\n",
      "Cosine similarity: 0.713\n",
      "Return of the Jedi (1983)\n",
      "Haunted World of Edward D. Wood Jr., The (1995)\n",
      "Cosine similarity: 0.754\n",
      "Return of the Jedi (1983)\n",
      "Cold Comfort Farm (1995)\n",
      "Cosine similarity: 0.596\n",
      "Return of the Jedi (1983)\n",
      "Rock, The (1996)\n",
      "Cosine similarity: 0.733\n",
      "Return of the Jedi (1983)\n",
      "Twister (1996)\n",
      "Cosine similarity: 0.688\n",
      "Return of the Jedi (1983)\n",
      "Maya Lin: A Strong Clear Vision (1994)\n",
      "Cosine similarity: 0.662\n",
      "Return of the Jedi (1983)\n",
      "Striptease (1996)\n",
      "Cosine similarity: 0.521\n",
      "Return of the Jedi (1983)\n",
      "Independence Day (ID4) (1996)\n",
      "Cosine similarity: 0.744\n",
      "Return of the Jedi (1983)\n",
      "Cable Guy, The (1996)\n",
      "Cosine similarity: 0.417\n",
      "Return of the Jedi (1983)\n",
      "Frighteners, The (1996)\n",
      "Cosine similarity: 0.777\n",
      "Return of the Jedi (1983)\n",
      "Lone Star (1996)\n",
      "Cosine similarity: 0.606\n",
      "Return of the Jedi (1983)\n",
      "Phenomenon (1996)\n",
      "Cosine similarity: 0.715\n",
      "Return of the Jedi (1983)\n",
      "Spitfire Grill, The (1996)\n",
      "Cosine similarity: 0.639\n",
      "Return of the Jedi (1983)\n",
      "Godfather, The (1972)\n",
      "Cosine similarity: 0.728\n",
      "Return of the Jedi (1983)\n",
      "Supercop (1992)\n",
      "Cosine similarity: 0.722\n",
      "Return of the Jedi (1983)\n",
      "Bound (1996)\n",
      "Cosine similarity: 0.799\n",
      "Return of the Jedi (1983)\n",
      "Kansas City (1996)\n",
      "Cosine similarity: 0.702\n",
      "Return of the Jedi (1983)\n",
      "Breakfast at Tiffany's (1961)\n",
      "Cosine similarity: 0.507\n",
      "Return of the Jedi (1983)\n",
      "Wizard of Oz, The (1939)\n",
      "Cosine similarity: 0.678\n",
      "Return of the Jedi (1983)\n",
      "Gone with the Wind (1939)\n",
      "Cosine similarity: 0.712\n",
      "Return of the Jedi (1983)\n",
      "Citizen Kane (1941)\n",
      "Cosine similarity: 0.632\n",
      "Return of the Jedi (1983)\n",
      "2001: A Space Odyssey (1968)\n",
      "Cosine similarity: 0.736\n",
      "Return of the Jedi (1983)\n",
      "Mr. Smith Goes to Washington (1939)\n",
      "Cosine similarity: 0.765\n",
      "Return of the Jedi (1983)\n",
      "Big Night (1996)\n",
      "Cosine similarity: 0.553\n",
      "Return of the Jedi (1983)\n",
      "D3: The Mighty Ducks (1996)\n",
      "Cosine similarity: 0.472\n",
      "Return of the Jedi (1983)\n",
      "Love Bug, The (1969)\n",
      "Cosine similarity: 0.603\n",
      "Return of the Jedi (1983)\n",
      "Homeward Bound: The Incredible Journey (1993)\n",
      "Cosine similarity: 0.569\n",
      "Return of the Jedi (1983)\n",
      "20,000 Leagues Under the Sea (1954)\n",
      "Cosine similarity: 0.785\n",
      "Return of the Jedi (1983)\n",
      "Bedknobs and Broomsticks (1971)\n",
      "Cosine similarity: 0.534\n",
      "Return of the Jedi (1983)\n",
      "Sound of Music, The (1965)\n",
      "Cosine similarity: 0.62\n",
      "Return of the Jedi (1983)\n",
      "Die Hard (1988)\n",
      "Cosine similarity: 0.762\n",
      "Return of the Jedi (1983)\n",
      "Lawnmower Man, The (1992)\n",
      "Cosine similarity: 0.663\n",
      "Return of the Jedi (1983)\n",
      "Unhook the Stars (1996)\n",
      "Cosine similarity: 0.623\n",
      "Return of the Jedi (1983)\n",
      "Long Kiss Goodnight, The (1996)\n",
      "Cosine similarity: 0.814\n",
      "Return of the Jedi (1983)\n",
      "Ghost and the Darkness, The (1996)\n",
      "Cosine similarity: 0.55\n",
      "Return of the Jedi (1983)\n",
      "Jude (1996)\n",
      "Cosine similarity: 0.494\n",
      "Return of the Jedi (1983)\n",
      "Swingers (1996)\n",
      "Cosine similarity: 0.568\n",
      "Return of the Jedi (1983)\n",
      "Willy Wonka and the Chocolate Factory (1971)\n",
      "Cosine similarity: 0.612\n",
      "Return of the Jedi (1983)\n",
      "Sleeper (1973)\n",
      "Cosine similarity: 0.615\n",
      "Return of the Jedi (1983)\n",
      "Fish Called Wanda, A (1988)\n",
      "Cosine similarity: 0.615\n",
      "Return of the Jedi (1983)\n",
      "Monty Python's Life of Brian (1979)\n",
      "Cosine similarity: 0.559\n",
      "Return of the Jedi (1983)\n",
      "Dirty Dancing (1987)\n",
      "Cosine similarity: 0.549\n",
      "Return of the Jedi (1983)\n",
      "Reservoir Dogs (1992)\n",
      "Cosine similarity: 0.658\n",
      "Return of the Jedi (1983)\n",
      "Platoon (1986)\n",
      "Cosine similarity: 0.678\n",
      "Return of the Jedi (1983)\n",
      "Weekend at Bernie's (1989)\n",
      "Cosine similarity: 0.562\n",
      "Return of the Jedi (1983)\n",
      "Basic Instinct (1992)\n",
      "Cosine similarity: 0.549\n",
      "Return of the Jedi (1983)\n",
      "Glengarry Glen Ross (1992)\n",
      "Cosine similarity: 0.585\n",
      "Return of the Jedi (1983)\n",
      "Top Gun (1986)\n",
      "Cosine similarity: 0.708\n",
      "Return of the Jedi (1983)\n",
      "On Golden Pond (1981)\n",
      "Cosine similarity: 0.577\n",
      "Return of the Jedi (1983)\n",
      "Return of the Pink Panther, The (1974)\n",
      "Cosine similarity: 0.709\n",
      "Return of the Jedi (1983)\n",
      "Abyss, The (1989)\n",
      "Cosine similarity: 0.791\n",
      "Return of the Jedi (1983)\n",
      "Jean de Florette (1986)\n",
      "Cosine similarity: 0.73\n",
      "Return of the Jedi (1983)\n",
      "Manon of the Spring (Manon des sources) (1986)\n",
      "Cosine similarity: 0.667\n",
      "Return of the Jedi (1983)\n",
      "Private Benjamin (1980)\n",
      "Cosine similarity: 0.665\n",
      "Return of the Jedi (1983)\n",
      "Monty Python and the Holy Grail (1974)\n",
      "Cosine similarity: 0.767\n",
      "Return of the Jedi (1983)\n",
      "Wrong Trousers, The (1993)\n",
      "Cosine similarity: 0.75\n",
      "Return of the Jedi (1983)\n",
      "Cinema Paradiso (1988)\n",
      "Cosine similarity: 0.657\n",
      "Return of the Jedi (1983)\n",
      "Delicatessen (1991)\n",
      "Cosine similarity: 0.634\n",
      "Return of the Jedi (1983)\n",
      "Empire Strikes Back, The (1980)\n",
      "Cosine similarity: 0.933\n",
      "Return of the Jedi (1983)\n",
      "Princess Bride, The (1987)\n",
      "Cosine similarity: 0.807\n",
      "Return of the Jedi (1983)\n",
      "Raiders of the Lost Ark (1981)\n",
      "Cosine similarity: 0.854\n",
      "Return of the Jedi (1983)\n",
      "Brazil (1985)\n",
      "Cosine similarity: 0.557\n",
      "Return of the Jedi (1983)\n",
      "Aliens (1986)\n",
      "Cosine similarity: 0.819\n",
      "Return of the Jedi (1983)\n",
      "Good, The Bad and The Ugly, The (1966)\n",
      "Cosine similarity: 0.751\n",
      "Return of the Jedi (1983)\n",
      "12 Angry Men (1957)\n",
      "Cosine similarity: 0.715\n",
      "Return of the Jedi (1983)\n",
      "Clockwork Orange, A (1971)\n",
      "Cosine similarity: 0.552\n",
      "Return of the Jedi (1983)\n",
      "Apocalypse Now (1979)\n",
      "Cosine similarity: 0.643\n",
      "Return of the Jedi (1983)\n",
      "GoodFellas (1990)\n",
      "Cosine similarity: 0.652\n",
      "Return of the Jedi (1983)\n",
      "Alien (1979)\n",
      "Cosine similarity: 0.798\n",
      "Return of the Jedi (1983)\n",
      "Army of Darkness (1993)\n",
      "Cosine similarity: 0.727\n",
      "Return of the Jedi (1983)\n",
      "Psycho (1960)\n",
      "Cosine similarity: 0.666\n",
      "Return of the Jedi (1983)\n",
      "Blues Brothers, The (1980)\n",
      "Cosine similarity: 0.775\n",
      "Return of the Jedi (1983)\n",
      "Godfather: Part II, The (1974)\n",
      "Cosine similarity: 0.749\n",
      "Return of the Jedi (1983)\n",
      "Full Metal Jacket (1987)\n",
      "Cosine similarity: 0.667\n",
      "Return of the Jedi (1983)\n",
      "Grand Day Out, A (1992)\n",
      "Cosine similarity: 0.701\n",
      "Return of the Jedi (1983)\n",
      "Henry V (1989)\n",
      "Cosine similarity: 0.705\n",
      "Return of the Jedi (1983)\n",
      "Amadeus (1984)\n",
      "Cosine similarity: 0.643\n",
      "Return of the Jedi (1983)\n",
      "Raging Bull (1980)\n",
      "Cosine similarity: 0.565\n",
      "Return of the Jedi (1983)\n",
      "Right Stuff, The (1983)\n",
      "Cosine similarity: 0.763\n",
      "Return of the Jedi (1983)\n",
      "Sting, The (1973)\n",
      "Cosine similarity: 0.786\n",
      "Return of the Jedi (1983)\n",
      "Terminator, The (1984)\n",
      "Cosine similarity: 0.807\n",
      "Return of the Jedi (1983)\n",
      "Dead Poets Society (1989)\n",
      "Cosine similarity: 0.653\n",
      "Return of the Jedi (1983)\n",
      "Graduate, The (1967)\n",
      "Cosine similarity: 0.572\n",
      "Return of the Jedi (1983)\n",
      "Nikita (La Femme Nikita) (1990)\n",
      "Cosine similarity: 0.697\n",
      "Return of the Jedi (1983)\n",
      "Bridge on the River Kwai, The (1957)\n",
      "Cosine similarity: 0.75\n",
      "Return of the Jedi (1983)\n",
      "Shining, The (1980)\n",
      "Cosine similarity: 0.59\n",
      "Return of the Jedi (1983)\n",
      "Evil Dead II (1987)\n",
      "Cosine similarity: 0.575\n",
      "Return of the Jedi (1983)\n",
      "Groundhog Day (1993)\n",
      "Cosine similarity: 0.818\n",
      "Return of the Jedi (1983)\n",
      "Unforgiven (1992)\n",
      "Cosine similarity: 0.67\n",
      "Return of the Jedi (1983)\n",
      "Back to the Future (1985)\n",
      "Cosine similarity: 0.801\n",
      "Return of the Jedi (1983)\n",
      "Patton (1970)\n",
      "Cosine similarity: 0.824\n",
      "Return of the Jedi (1983)\n",
      "Akira (1988)\n",
      "Cosine similarity: 0.659\n",
      "Return of the Jedi (1983)\n",
      "Cyrano de Bergerac (1990)\n",
      "Cosine similarity: 0.634\n",
      "Return of the Jedi (1983)\n",
      "Young Frankenstein (1974)\n",
      "Cosine similarity: 0.688\n",
      "Return of the Jedi (1983)\n",
      "This Is Spinal Tap (1984)\n",
      "Cosine similarity: 0.624\n",
      "Return of the Jedi (1983)\n",
      "Indiana Jones and the Last Crusade (1989)\n",
      "Cosine similarity: 0.885\n",
      "Return of the Jedi (1983)\n",
      "M*A*S*H (1970)\n",
      "Cosine similarity: 0.798\n",
      "Return of the Jedi (1983)\n",
      "Unbearable Lightness of Being, The (1988)\n",
      "Cosine similarity: 0.52\n",
      "Return of the Jedi (1983)\n",
      "Room with a View, A (1986)\n",
      "Cosine similarity: 0.692\n",
      "Return of the Jedi (1983)\n",
      "Pink Floyd - The Wall (1982)\n",
      "Cosine similarity: 0.716\n",
      "Return of the Jedi (1983)\n",
      "Field of Dreams (1989)\n",
      "Cosine similarity: 0.769\n",
      "Return of the Jedi (1983)\n",
      "When Harry Met Sally... (1989)\n",
      "Cosine similarity: 0.691\n",
      "Return of the Jedi (1983)\n",
      "Bram Stoker's Dracula (1992)\n",
      "Cosine similarity: 0.722\n",
      "Return of the Jedi (1983)\n",
      "Cape Fear (1991)\n",
      "Cosine similarity: 0.603\n",
      "Return of the Jedi (1983)\n",
      "Nightmare on Elm Street, A (1984)\n",
      "Cosine similarity: 0.665\n",
      "Return of the Jedi (1983)\n",
      "Mirror Has Two Faces, The (1996)\n",
      "Cosine similarity: 0.541\n",
      "Return of the Jedi (1983)\n",
      "Breaking the Waves (1996)\n",
      "Cosine similarity: 0.575\n",
      "Return of the Jedi (1983)\n",
      "Star Trek: First Contact (1996)\n",
      "Cosine similarity: 0.812\n",
      "Return of the Jedi (1983)\n",
      "Sling Blade (1996)\n",
      "Cosine similarity: 0.766\n",
      "Return of the Jedi (1983)\n",
      "Ridicule (1996)\n",
      "Cosine similarity: 0.654\n",
      "Return of the Jedi (1983)\n",
      "101 Dalmatians (1996)\n",
      "Cosine similarity: 0.702\n",
      "Return of the Jedi (1983)\n",
      "Die Hard 2 (1990)\n",
      "Cosine similarity: 0.763\n",
      "Return of the Jedi (1983)\n",
      "Star Trek VI: The Undiscovered Country (1991)\n",
      "Cosine similarity: 0.789\n",
      "Return of the Jedi (1983)\n",
      "Star Trek: The Wrath of Khan (1982)\n",
      "Cosine similarity: 0.82\n",
      "Return of the Jedi (1983)\n",
      "Star Trek III: The Search for Spock (1984)\n",
      "Cosine similarity: 0.715\n",
      "Return of the Jedi (1983)\n",
      "Star Trek IV: The Voyage Home (1986)\n",
      "Cosine similarity: 0.787\n",
      "Return of the Jedi (1983)\n",
      "Batman Returns (1992)\n",
      "Cosine similarity: 0.585\n",
      "Return of the Jedi (1983)\n",
      "Young Guns (1988)\n",
      "Cosine similarity: 0.74\n",
      "Return of the Jedi (1983)\n",
      "Under Siege (1992)\n",
      "Cosine similarity: 0.741\n",
      "Return of the Jedi (1983)\n",
      "Jaws (1975)\n",
      "Cosine similarity: 0.715\n",
      "Return of the Jedi (1983)\n",
      "Mars Attacks! (1996)\n",
      "Cosine similarity: 0.684\n",
      "Return of the Jedi (1983)\n",
      "Citizen Ruth (1996)\n",
      "Cosine similarity: 0.641\n",
      "Return of the Jedi (1983)\n",
      "Jerry Maguire (1996)\n",
      "Cosine similarity: 0.726\n",
      "Return of the Jedi (1983)\n",
      "Raising Arizona (1987)\n",
      "Cosine similarity: 0.642\n",
      "Return of the Jedi (1983)\n",
      "Sneakers (1992)\n",
      "Cosine similarity: 0.794\n",
      "Return of the Jedi (1983)\n",
      "Beavis and Butt-head Do America (1996)\n",
      "Cosine similarity: 0.522\n",
      "Return of the Jedi (1983)\n",
      "Last of the Mohicans, The (1992)\n",
      "Cosine similarity: 0.695\n",
      "Return of the Jedi (1983)\n",
      "Kolya (1996)\n",
      "Cosine similarity: 0.558\n",
      "Return of the Jedi (1983)\n",
      "Jungle2Jungle (1997)\n",
      "Cosine similarity: 0.517\n",
      "Return of the Jedi (1983)\n",
      "Smilla's Sense of Snow (1997)\n",
      "Cosine similarity: 0.526\n",
      "Return of the Jedi (1983)\n",
      "Devil's Own, The (1997)\n",
      "Cosine similarity: 0.527\n",
      "Return of the Jedi (1983)\n",
      "Chasing Amy (1997)\n",
      "Cosine similarity: 0.712\n",
      "Return of the Jedi (1983)\n",
      "Turbo: A Power Rangers Movie (1997)\n",
      "Cosine similarity: 0.524\n",
      "Return of the Jedi (1983)\n",
      "Grosse Pointe Blank (1997)\n",
      "Cosine similarity: 0.679\n",
      "Return of the Jedi (1983)\n",
      "Austin Powers: International Man of Mystery (1997)\n",
      "Cosine similarity: 0.678\n",
      "Return of the Jedi (1983)\n",
      "Fifth Element, The (1997)\n",
      "Cosine similarity: 0.769\n",
      "Return of the Jedi (1983)\n",
      "Shall We Dance? (1996)\n",
      "Cosine similarity: 0.631\n",
      "Return of the Jedi (1983)\n",
      "Lost World: Jurassic Park, The (1997)\n",
      "Cosine similarity: 0.714\n",
      "Return of the Jedi (1983)\n",
      "Pillow Book, The (1995)\n",
      "Cosine similarity: 0.65\n",
      "Return of the Jedi (1983)\n",
      "Batman & Robin (1997)\n",
      "Cosine similarity: 0.675\n",
      "Return of the Jedi (1983)\n",
      "My Best Friend's Wedding (1997)\n",
      "Cosine similarity: 0.681\n",
      "Return of the Jedi (1983)\n",
      "When the Cats Away (Chacun cherche son chat) (1996)\n",
      "Cosine similarity: 0.584\n",
      "Return of the Jedi (1983)\n",
      "Men in Black (1997)\n",
      "Cosine similarity: 0.816\n",
      "Return of the Jedi (1983)\n",
      "Contact (1997)\n",
      "Cosine similarity: 0.769\n",
      "Return of the Jedi (1983)\n",
      "George of the Jungle (1997)\n",
      "Cosine similarity: 0.531\n",
      "Return of the Jedi (1983)\n",
      "Event Horizon (1997)\n",
      "Cosine similarity: 0.297\n",
      "Return of the Jedi (1983)\n",
      "Air Bud (1997)\n",
      "Cosine similarity: 0.437\n",
      "Return of the Jedi (1983)\n",
      "In the Company of Men (1997)\n",
      "Cosine similarity: 0.469\n",
      "Return of the Jedi (1983)\n",
      "Steel (1997)\n",
      "Cosine similarity: 0.597\n",
      "Return of the Jedi (1983)\n",
      "Mimic (1997)\n",
      "Cosine similarity: 0.716\n",
      "Return of the Jedi (1983)\n",
      "Hunt for Red October, The (1990)\n",
      "Cosine similarity: 0.825\n",
      "Return of the Jedi (1983)\n",
      "Kull the Conqueror (1997)\n",
      "Cosine similarity: 0.566\n",
      "Return of the Jedi (1983)\n",
      "unknown\n",
      "Cosine similarity: 0.7\n",
      "Return of the Jedi (1983)\n",
      "Chasing Amy (1997)\n",
      "Cosine similarity: 0.687\n",
      "Return of the Jedi (1983)\n",
      "Full Monty, The (1997)\n",
      "Cosine similarity: 0.57\n",
      "Return of the Jedi (1983)\n",
      "Gattaca (1997)\n",
      "Cosine similarity: 0.698\n",
      "Return of the Jedi (1983)\n",
      "Starship Troopers (1997)\n",
      "Cosine similarity: 0.662\n",
      "Return of the Jedi (1983)\n",
      "Good Will Hunting (1997)\n",
      "Cosine similarity: 0.684\n",
      "Return of the Jedi (1983)\n",
      "Heat (1995)\n",
      "Cosine similarity: 0.669\n",
      "Return of the Jedi (1983)\n",
      "Sabrina (1995)\n",
      "Cosine similarity: 0.722\n",
      "Return of the Jedi (1983)\n",
      "Sense and Sensibility (1995)\n",
      "Cosine similarity: 0.584\n",
      "Return of the Jedi (1983)\n",
      "Leaving Las Vegas (1995)\n",
      "Cosine similarity: 0.531\n",
      "Return of the Jedi (1983)\n",
      "Restoration (1995)\n",
      "Cosine similarity: 0.598\n",
      "Return of the Jedi (1983)\n",
      "Bed of Roses (1996)\n",
      "Cosine similarity: 0.631\n",
      "Return of the Jedi (1983)\n",
      "Once Upon a Time... When We Were Colored (1995)\n",
      "Cosine similarity: 0.736\n",
      "Return of the Jedi (1983)\n",
      "Up Close and Personal (1996)\n",
      "Cosine similarity: 0.704\n",
      "Return of the Jedi (1983)\n",
      "River Wild, The (1994)\n",
      "Cosine similarity: 0.663\n",
      "Return of the Jedi (1983)\n",
      "Time to Kill, A (1996)\n",
      "Cosine similarity: 0.689\n",
      "Return of the Jedi (1983)\n",
      "Emma (1996)\n",
      "Cosine similarity: 0.608\n",
      "Return of the Jedi (1983)\n",
      "Tin Cup (1996)\n",
      "Cosine similarity: 0.7\n",
      "Return of the Jedi (1983)\n",
      "Secrets & Lies (1996)\n",
      "Cosine similarity: 0.617\n",
      "Return of the Jedi (1983)\n",
      "English Patient, The (1996)\n",
      "Cosine similarity: 0.571\n",
      "Return of the Jedi (1983)\n",
      "Marvin's Room (1996)\n",
      "Cosine similarity: 0.623\n",
      "Return of the Jedi (1983)\n",
      "Scream (1996)\n",
      "Cosine similarity: 0.613\n",
      "Return of the Jedi (1983)\n",
      "Evita (1996)\n",
      "Cosine similarity: 0.535\n",
      "Return of the Jedi (1983)\n",
      "Fierce Creatures (1997)\n",
      "Cosine similarity: 0.704\n",
      "Return of the Jedi (1983)\n",
      "Absolute Power (1997)\n",
      "Cosine similarity: 0.65\n",
      "Return of the Jedi (1983)\n",
      "Rosewood (1997)\n",
      "Cosine similarity: 0.508\n",
      "Return of the Jedi (1983)\n",
      "Donnie Brasco (1997)\n",
      "Cosine similarity: 0.777\n",
      "Return of the Jedi (1983)\n",
      "Liar Liar (1997)\n",
      "Cosine similarity: 0.747\n",
      "Return of the Jedi (1983)\n",
      "Breakdown (1997)\n",
      "Cosine similarity: 0.661\n",
      "Return of the Jedi (1983)\n",
      "Promesse, La (1996)\n",
      "Cosine similarity: 0.583\n",
      "Return of the Jedi (1983)\n",
      "Ulee's Gold (1997)\n",
      "Cosine similarity: 0.702\n",
      "Return of the Jedi (1983)\n",
      "Face/Off (1997)\n",
      "Cosine similarity: 0.734\n",
      "Return of the Jedi (1983)\n",
      "Hoodlum (1997)\n",
      "Cosine similarity: 0.577\n",
      "Return of the Jedi (1983)\n",
      "Air Force One (1997)\n",
      "Cosine similarity: 0.703\n",
      "Return of the Jedi (1983)\n",
      "In & Out (1997)\n",
      "Cosine similarity: 0.634\n",
      "Return of the Jedi (1983)\n",
      "L.A. Confidential (1997)\n",
      "Cosine similarity: 0.603\n",
      "Return of the Jedi (1983)\n",
      "Ulee's Gold (1997)\n",
      "Cosine similarity: 0.601\n",
      "Return of the Jedi (1983)\n",
      "Fly Away Home (1996)\n",
      "Cosine similarity: 0.596\n",
      "Return of the Jedi (1983)\n",
      "Ice Storm, The (1997)\n",
      "Cosine similarity: 0.529\n",
      "Return of the Jedi (1983)\n",
      "Mrs. Brown (Her Majesty, Mrs. Brown) (1997)\n",
      "Cosine similarity: 0.595\n",
      "Return of the Jedi (1983)\n",
      "Devil's Advocate, The (1997)\n",
      "Cosine similarity: 0.625\n",
      "Return of the Jedi (1983)\n",
      "FairyTale: A True Story (1997)\n",
      "Cosine similarity: 0.569\n",
      "Return of the Jedi (1983)\n",
      "Deceiver (1997)\n",
      "Cosine similarity: 0.676\n",
      "Return of the Jedi (1983)\n",
      "Rainmaker, The (1997)\n",
      "Cosine similarity: 0.716\n",
      "Return of the Jedi (1983)\n",
      "Wings of the Dove, The (1997)\n",
      "Cosine similarity: 0.571\n",
      "Return of the Jedi (1983)\n",
      "Midnight in the Garden of Good and Evil (1997)\n",
      "Cosine similarity: 0.551\n",
      "Return of the Jedi (1983)\n",
      "Titanic (1997)\n",
      "Cosine similarity: 0.779\n",
      "Return of the Jedi (1983)\n",
      "3 Ninjas: High Noon At Mega Mountain (1998)\n",
      "Cosine similarity: 0.361\n",
      "Return of the Jedi (1983)\n",
      "Apt Pupil (1998)\n",
      "Cosine similarity: 0.679\n",
      "Return of the Jedi (1983)\n",
      "As Good As It Gets (1997)\n",
      "Cosine similarity: 0.677\n",
      "Return of the Jedi (1983)\n",
      "In the Name of the Father (1993)\n",
      "Cosine similarity: 0.762\n",
      "Return of the Jedi (1983)\n",
      "Schindler's List (1993)\n",
      "Cosine similarity: 0.681\n",
      "Return of the Jedi (1983)\n",
      "Everyone Says I Love You (1996)\n",
      "Cosine similarity: 0.556\n",
      "Return of the Jedi (1983)\n",
      "Paradise Lost: The Child Murders at Robin Hood Hills (1996)\n",
      "Cosine similarity: 0.643\n",
      "Return of the Jedi (1983)\n",
      "Mother (1996)\n",
      "Cosine similarity: 0.553\n",
      "Return of the Jedi (1983)\n",
      "Murder at 1600 (1997)\n",
      "Cosine similarity: 0.544\n",
      "Return of the Jedi (1983)\n",
      "Dante's Peak (1997)\n",
      "Cosine similarity: 0.617\n",
      "Return of the Jedi (1983)\n",
      "Lost Highway (1997)\n",
      "Cosine similarity: 0.429\n",
      "Return of the Jedi (1983)\n",
      "Crash (1996)\n",
      "Cosine similarity: 0.545\n",
      "Return of the Jedi (1983)\n",
      "G.I. Jane (1997)\n",
      "Cosine similarity: 0.654\n",
      "Return of the Jedi (1983)\n",
      "Cop Land (1997)\n",
      "Cosine similarity: 0.586\n",
      "Return of the Jedi (1983)\n",
      "Conspiracy Theory (1997)\n",
      "Cosine similarity: 0.695\n",
      "Return of the Jedi (1983)\n",
      "Desperate Measures (1998)\n",
      "Cosine similarity: 0.543\n",
      "Return of the Jedi (1983)\n",
      "187 (1997)\n",
      "Cosine similarity: 0.509\n",
      "Return of the Jedi (1983)\n",
      "Edge, The (1997)\n",
      "Cosine similarity: 0.659\n",
      "Return of the Jedi (1983)\n",
      "Kiss the Girls (1997)\n",
      "Cosine similarity: 0.577\n",
      "Return of the Jedi (1983)\n",
      "Game, The (1997)\n",
      "Cosine similarity: 0.65\n",
      "Return of the Jedi (1983)\n",
      "U Turn (1997)\n",
      "Cosine similarity: 0.485\n",
      "Return of the Jedi (1983)\n",
      "How to Be a Player (1997)\n",
      "Cosine similarity: 0.562\n",
      "Return of the Jedi (1983)\n",
      "Playing God (1997)\n",
      "Cosine similarity: 0.681\n",
      "Return of the Jedi (1983)\n",
      "House of Yes, The (1997)\n",
      "Cosine similarity: 0.551\n",
      "Return of the Jedi (1983)\n",
      "Bean (1997)\n",
      "Cosine similarity: 0.738\n",
      "Return of the Jedi (1983)\n",
      "Mad City (1997)\n",
      "Cosine similarity: 0.493\n",
      "Return of the Jedi (1983)\n",
      "Boogie Nights (1997)\n",
      "Cosine similarity: 0.542\n",
      "Return of the Jedi (1983)\n",
      "Critical Care (1997)\n",
      "Cosine similarity: 0.325\n",
      "Return of the Jedi (1983)\n",
      "Man Who Knew Too Little, The (1997)\n",
      "Cosine similarity: 0.678\n",
      "Return of the Jedi (1983)\n",
      "Alien: Resurrection (1997)\n",
      "Cosine similarity: 0.675\n",
      "Return of the Jedi (1983)\n",
      "Apostle, The (1997)\n",
      "Cosine similarity: 0.624\n",
      "Return of the Jedi (1983)\n",
      "Deconstructing Harry (1997)\n",
      "Cosine similarity: 0.564\n",
      "Return of the Jedi (1983)\n",
      "Jackie Brown (1997)\n",
      "Cosine similarity: 0.604\n",
      "Return of the Jedi (1983)\n",
      "Wag the Dog (1997)\n",
      "Cosine similarity: 0.682\n",
      "Return of the Jedi (1983)\n",
      "Desperate Measures (1998)\n",
      "Cosine similarity: 0.634\n",
      "Return of the Jedi (1983)\n",
      "Hard Rain (1998)\n",
      "Cosine similarity: 0.645\n",
      "Return of the Jedi (1983)\n",
      "Fallen (1998)\n",
      "Cosine similarity: 0.436\n",
      "Return of the Jedi (1983)\n",
      "Prophecy II, The (1998)\n",
      "Cosine similarity: 0.498\n",
      "Return of the Jedi (1983)\n",
      "Spice World (1997)\n",
      "Cosine similarity: 0.43\n",
      "Return of the Jedi (1983)\n",
      "Deep Rising (1998)\n",
      "Cosine similarity: 0.745\n",
      "Return of the Jedi (1983)\n",
      "Wedding Singer, The (1998)\n",
      "Cosine similarity: 0.743\n",
      "Return of the Jedi (1983)\n",
      "Sphere (1998)\n",
      "Cosine similarity: 0.582\n",
      "Return of the Jedi (1983)\n",
      "Client, The (1994)\n",
      "Cosine similarity: 0.664\n",
      "Return of the Jedi (1983)\n",
      "One Flew Over the Cuckoo's Nest (1975)\n",
      "Cosine similarity: 0.663\n",
      "Return of the Jedi (1983)\n",
      "Spawn (1997)\n",
      "Cosine similarity: 0.696\n",
      "Return of the Jedi (1983)\n",
      "Assignment, The (1997)\n",
      "Cosine similarity: 0.527\n",
      "Return of the Jedi (1983)\n",
      "Wonderland (1997)\n",
      "Cosine similarity: 0.571\n",
      "Return of the Jedi (1983)\n",
      "Incognito (1997)\n",
      "Cosine similarity: 0.653\n",
      "Return of the Jedi (1983)\n",
      "Blues Brothers 2000 (1998)\n",
      "Cosine similarity: 0.695\n",
      "Return of the Jedi (1983)\n",
      "Sudden Death (1995)\n",
      "Cosine similarity: 0.6\n",
      "Return of the Jedi (1983)\n",
      "Ace Ventura: When Nature Calls (1995)\n",
      "Cosine similarity: 0.546\n",
      "Return of the Jedi (1983)\n",
      "Powder (1995)\n",
      "Cosine similarity: 0.609\n",
      "Return of the Jedi (1983)\n",
      "Dangerous Minds (1995)\n",
      "Cosine similarity: 0.649\n",
      "Return of the Jedi (1983)\n",
      "Clueless (1995)\n",
      "Cosine similarity: 0.639\n",
      "Return of the Jedi (1983)\n",
      "Bio-Dome (1996)\n",
      "Cosine similarity: 0.415\n",
      "Return of the Jedi (1983)\n",
      "Black Sheep (1996)\n",
      "Cosine similarity: 0.48\n",
      "Return of the Jedi (1983)\n",
      "Mary Reilly (1996)\n",
      "Cosine similarity: 0.559\n",
      "Return of the Jedi (1983)\n",
      "Bridges of Madison County, The (1995)\n",
      "Cosine similarity: 0.46\n",
      "Return of the Jedi (1983)\n",
      "Jeffrey (1995)\n",
      "Cosine similarity: 0.586\n",
      "Return of the Jedi (1983)\n",
      "Judge Dredd (1995)\n",
      "Cosine similarity: 0.656\n",
      "Return of the Jedi (1983)\n",
      "Mighty Morphin Power Rangers: The Movie (1995)\n",
      "Cosine similarity: 0.687\n",
      "Return of the Jedi (1983)\n",
      "Showgirls (1995)\n",
      "Cosine similarity: 0.403\n",
      "Return of the Jedi (1983)\n",
      "Houseguest (1994)\n",
      "Cosine similarity: 0.652\n",
      "Return of the Jedi (1983)\n",
      "Heavyweights (1994)\n",
      "Cosine similarity: 0.371\n",
      "Return of the Jedi (1983)\n",
      "Miracle on 34th Street (1994)\n",
      "Cosine similarity: 0.694\n",
      "Return of the Jedi (1983)\n",
      "Tales From the Crypt Presents: Demon Knight (1995)\n",
      "Cosine similarity: 0.506\n",
      "Return of the Jedi (1983)\n",
      "Star Trek: Generations (1994)\n",
      "Cosine similarity: 0.729\n",
      "Return of the Jedi (1983)\n",
      "Muriel's Wedding (1994)\n",
      "Cosine similarity: 0.584\n",
      "Return of the Jedi (1983)\n",
      "Adventures of Priscilla, Queen of the Desert, The (1994)\n",
      "Cosine similarity: 0.561\n",
      "Return of the Jedi (1983)\n",
      "Flintstones, The (1994)\n",
      "Cosine similarity: 0.512\n",
      "Return of the Jedi (1983)\n",
      "Naked Gun 33 1/3: The Final Insult (1994)\n",
      "Cosine similarity: 0.614\n",
      "Return of the Jedi (1983)\n",
      "True Lies (1994)\n",
      "Cosine similarity: 0.775\n",
      "Return of the Jedi (1983)\n",
      "Addams Family Values (1993)\n",
      "Cosine similarity: 0.49\n",
      "Return of the Jedi (1983)\n",
      "Age of Innocence, The (1993)\n",
      "Cosine similarity: 0.599\n",
      "Return of the Jedi (1983)\n",
      "Beverly Hills Cop III (1994)\n",
      "Cosine similarity: 0.684\n",
      "Return of the Jedi (1983)\n",
      "Black Beauty (1994)\n",
      "Cosine similarity: 0.608\n",
      "Return of the Jedi (1983)\n",
      "Fear of a Black Hat (1993)\n",
      "Cosine similarity: 0.732\n",
      "Return of the Jedi (1983)\n",
      "Last Action Hero (1993)\n",
      "Cosine similarity: 0.615\n",
      "Return of the Jedi (1983)\n",
      "Man Without a Face, The (1993)\n",
      "Cosine similarity: 0.572\n",
      "Return of the Jedi (1983)\n",
      "Mrs. Doubtfire (1993)\n",
      "Cosine similarity: 0.596\n",
      "Return of the Jedi (1983)\n",
      "Radioland Murders (1994)\n",
      "Cosine similarity: 0.423\n",
      "Return of the Jedi (1983)\n",
      "Robin Hood: Men in Tights (1993)\n",
      "Cosine similarity: 0.557\n",
      "Return of the Jedi (1983)\n",
      "Serial Mom (1994)\n",
      "Cosine similarity: 0.473\n",
      "Return of the Jedi (1983)\n",
      "Striking Distance (1993)\n",
      "Cosine similarity: 0.528\n",
      "Return of the Jedi (1983)\n",
      "Super Mario Bros. (1993)\n",
      "Cosine similarity: 0.532\n",
      "Return of the Jedi (1983)\n",
      "Three Musketeers, The (1993)\n",
      "Cosine similarity: 0.774\n",
      "Return of the Jedi (1983)\n",
      "Little Rascals, The (1994)\n",
      "Cosine similarity: 0.592\n",
      "Return of the Jedi (1983)\n",
      "Brady Bunch Movie, The (1995)\n",
      "Cosine similarity: 0.721\n",
      "Return of the Jedi (1983)\n",
      "Ghost (1990)\n",
      "Cosine similarity: 0.654\n",
      "Return of the Jedi (1983)\n",
      "Batman (1989)\n",
      "Cosine similarity: 0.726\n",
      "Return of the Jedi (1983)\n",
      "Pinocchio (1940)\n",
      "Cosine similarity: 0.715\n",
      "Return of the Jedi (1983)\n",
      "Mission: Impossible (1996)\n",
      "Cosine similarity: 0.684\n",
      "Return of the Jedi (1983)\n",
      "Thinner (1996)\n",
      "Cosine similarity: 0.582\n",
      "Return of the Jedi (1983)\n",
      "Spy Hard (1996)\n",
      "Cosine similarity: 0.565\n",
      "Return of the Jedi (1983)\n",
      "Close Shave, A (1995)\n",
      "Cosine similarity: 0.741\n",
      "Return of the Jedi (1983)\n",
      "Jack (1996)\n",
      "Cosine similarity: 0.62\n",
      "Return of the Jedi (1983)\n",
      "Kingpin (1996)\n",
      "Cosine similarity: 0.649\n",
      "Return of the Jedi (1983)\n",
      "Nutty Professor, The (1996)\n",
      "Cosine similarity: 0.668\n",
      "Return of the Jedi (1983)\n",
      "Very Brady Sequel, A (1996)\n",
      "Cosine similarity: 0.516\n",
      "Return of the Jedi (1983)\n",
      "Tales from the Crypt Presents: Bordello of Blood (1996)\n",
      "Cosine similarity: 0.622\n",
      "Return of the Jedi (1983)\n",
      "My Favorite Year (1982)\n",
      "Cosine similarity: 0.673\n",
      "Return of the Jedi (1983)\n",
      "Apple Dumpling Gang, The (1975)\n",
      "Cosine similarity: 0.486\n",
      "Return of the Jedi (1983)\n",
      "Old Yeller (1957)\n",
      "Cosine similarity: 0.632\n",
      "Return of the Jedi (1983)\n",
      "Parent Trap, The (1961)\n",
      "Cosine similarity: 0.618\n",
      "Return of the Jedi (1983)\n",
      "Cinderella (1950)\n",
      "Cosine similarity: 0.718\n",
      "Return of the Jedi (1983)\n",
      "Mary Poppins (1964)\n",
      "Cosine similarity: 0.648\n",
      "Return of the Jedi (1983)\n",
      "Alice in Wonderland (1951)\n",
      "Cosine similarity: 0.707\n",
      "Return of the Jedi (1983)\n",
      "William Shakespeare's Romeo and Juliet (1996)\n",
      "Cosine similarity: 0.707\n",
      "Return of the Jedi (1983)\n",
      "Aladdin and the King of Thieves (1996)\n",
      "Cosine similarity: 0.649\n",
      "Return of the Jedi (1983)\n",
      "E.T. the Extra-Terrestrial (1982)\n",
      "Cosine similarity: 0.755\n",
      "Return of the Jedi (1983)\n",
      "Children of the Corn: The Gathering (1996)\n",
      "Cosine similarity: 0.568\n",
      "Return of the Jedi (1983)\n",
      "Bob Roberts (1992)\n",
      "Cosine similarity: 0.609\n",
      "Return of the Jedi (1983)\n",
      "Transformers: The Movie, The (1986)\n",
      "Cosine similarity: 0.592\n",
      "Return of the Jedi (1983)\n",
      "To Kill a Mockingbird (1962)\n",
      "Cosine similarity: 0.622\n",
      "Return of the Jedi (1983)\n",
      "Harold and Maude (1971)\n",
      "Cosine similarity: 0.635\n",
      "Return of the Jedi (1983)\n",
      "Day the Earth Stood Still, The (1951)\n",
      "Cosine similarity: 0.751\n",
      "Return of the Jedi (1983)\n",
      "Duck Soup (1933)\n",
      "Cosine similarity: 0.742\n",
      "Return of the Jedi (1983)\n",
      "Highlander (1986)\n",
      "Cosine similarity: 0.729\n",
      "Return of the Jedi (1983)\n",
      "Fantasia (1940)\n",
      "Cosine similarity: 0.724\n",
      "Return of the Jedi (1983)\n",
      "Heathers (1989)\n",
      "Cosine similarity: 0.621\n",
      "Return of the Jedi (1983)\n",
      "Forbidden Planet (1956)\n",
      "Cosine similarity: 0.731\n",
      "Return of the Jedi (1983)\n",
      "Butch Cassidy and the Sundance Kid (1969)\n",
      "Cosine similarity: 0.757\n",
      "Return of the Jedi (1983)\n",
      "American Werewolf in London, An (1981)\n",
      "Cosine similarity: 0.75\n",
      "Return of the Jedi (1983)\n",
      "Amityville 1992: It's About Time (1992)\n",
      "Cosine similarity: 0.652\n",
      "Return of the Jedi (1983)\n",
      "Amityville 3-D (1983)\n",
      "Cosine similarity: 0.603\n",
      "Return of the Jedi (1983)\n",
      "Amityville: A New Generation (1993)\n",
      "Cosine similarity: 0.757\n",
      "Return of the Jedi (1983)\n",
      "Amityville II: The Possession (1982)\n",
      "Cosine similarity: 0.358\n",
      "Return of the Jedi (1983)\n",
      "Amityville Horror, The (1979)\n",
      "Cosine similarity: 0.59\n",
      "Return of the Jedi (1983)\n",
      "Amityville Curse, The (1990)\n",
      "Cosine similarity: 0.517\n",
      "Return of the Jedi (1983)\n",
      "Birds, The (1963)\n",
      "Cosine similarity: 0.673\n",
      "Return of the Jedi (1983)\n",
      "Blob, The (1958)\n",
      "Cosine similarity: 0.605\n",
      "Return of the Jedi (1983)\n",
      "Body Snatcher, The (1945)\n",
      "Cosine similarity: 0.728\n",
      "Return of the Jedi (1983)\n",
      "Burnt Offerings (1976)\n",
      "Cosine similarity: 0.552\n",
      "Return of the Jedi (1983)\n",
      "Carrie (1976)\n",
      "Cosine similarity: 0.677\n",
      "Return of the Jedi (1983)\n",
      "Omen, The (1976)\n",
      "Cosine similarity: 0.667\n",
      "Return of the Jedi (1983)\n",
      "Star Trek: The Motion Picture (1979)\n",
      "Cosine similarity: 0.758\n",
      "Return of the Jedi (1983)\n",
      "Star Trek V: The Final Frontier (1989)\n",
      "Cosine similarity: 0.456\n",
      "Return of the Jedi (1983)\n",
      "Grease (1978)\n",
      "Cosine similarity: 0.612\n",
      "Return of the Jedi (1983)\n",
      "Jaws 2 (1978)\n",
      "Cosine similarity: 0.54\n",
      "Return of the Jedi (1983)\n",
      "Jaws 3-D (1983)\n",
      "Cosine similarity: 0.615\n",
      "Return of the Jedi (1983)\n",
      "Bastard Out of Carolina (1996)\n",
      "Cosine similarity: 0.562\n",
      "Return of the Jedi (1983)\n",
      "Jackie Chan's First Strike (1996)\n",
      "Cosine similarity: 0.694\n",
      "Return of the Jedi (1983)\n",
      "Beverly Hills Ninja (1997)\n",
      "Cosine similarity: 0.461\n",
      "Return of the Jedi (1983)\n",
      "Free Willy 3: The Rescue (1997)\n",
      "Cosine similarity: 0.505\n",
      "Return of the Jedi (1983)\n",
      "Nixon (1995)\n",
      "Cosine similarity: 0.579\n",
      "Return of the Jedi (1983)\n",
      "Cry, the Beloved Country (1995)\n",
      "Cosine similarity: 0.52\n",
      "Return of the Jedi (1983)\n",
      "Crossing Guard, The (1995)\n",
      "Cosine similarity: 0.687\n",
      "Return of the Jedi (1983)\n",
      "Smoke (1995)\n",
      "Cosine similarity: 0.635\n",
      "Return of the Jedi (1983)\n",
      "Like Water For Chocolate (Como agua para chocolate) (1992)\n",
      "Cosine similarity: 0.631\n",
      "Return of the Jedi (1983)\n",
      "Secret of Roan Inish, The (1994)\n",
      "Cosine similarity: 0.593\n",
      "Return of the Jedi (1983)\n",
      "Vanya on 42nd Street (1994)\n",
      "Cosine similarity: 0.559\n",
      "Return of the Jedi (1983)\n",
      "Jungle Book, The (1994)\n",
      "Cosine similarity: 0.659\n",
      "Return of the Jedi (1983)\n",
      "Red Rock West (1992)\n",
      "Cosine similarity: 0.687\n",
      "Return of the Jedi (1983)\n",
      "Bronx Tale, A (1993)\n",
      "Cosine similarity: 0.687\n",
      "Return of the Jedi (1983)\n",
      "Rudy (1993)\n",
      "Cosine similarity: 0.642\n",
      "Return of the Jedi (1983)\n",
      "Short Cuts (1993)\n",
      "Cosine similarity: 0.574\n",
      "Return of the Jedi (1983)\n",
      "Tombstone (1993)\n",
      "Cosine similarity: 0.635\n",
      "Return of the Jedi (1983)\n",
      "Courage Under Fire (1996)\n",
      "Cosine similarity: 0.788\n",
      "Return of the Jedi (1983)\n",
      "Dragonheart (1996)\n",
      "Cosine similarity: 0.749\n",
      "Return of the Jedi (1983)\n",
      "James and the Giant Peach (1996)\n",
      "Cosine similarity: 0.615\n",
      "Return of the Jedi (1983)\n",
      "Dr. Strangelove or: How I Learned to Stop Worrying and Love the Bomb (1963)\n",
      "Cosine similarity: 0.601\n",
      "Return of the Jedi (1983)\n",
      "Trainspotting (1996)\n",
      "Cosine similarity: 0.595\n",
      "Return of the Jedi (1983)\n",
      "First Wives Club, The (1996)\n",
      "Cosine similarity: 0.504\n",
      "Return of the Jedi (1983)\n",
      "Matilda (1996)\n",
      "Cosine similarity: 0.595\n",
      "Return of the Jedi (1983)\n",
      "Philadelphia Story, The (1940)\n",
      "Cosine similarity: 0.644\n",
      "Return of the Jedi (1983)\n",
      "Vertigo (1958)\n",
      "Cosine similarity: 0.659\n",
      "Return of the Jedi (1983)\n",
      "North by Northwest (1959)\n",
      "Cosine similarity: 0.724\n",
      "Return of the Jedi (1983)\n",
      "Apartment, The (1960)\n",
      "Cosine similarity: 0.597\n",
      "Return of the Jedi (1983)\n",
      "Some Like It Hot (1959)\n",
      "Cosine similarity: 0.7\n",
      "Return of the Jedi (1983)\n",
      "Casablanca (1942)\n",
      "Cosine similarity: 0.706\n",
      "Return of the Jedi (1983)\n",
      "Maltese Falcon, The (1941)\n",
      "Cosine similarity: 0.672\n",
      "Return of the Jedi (1983)\n",
      "My Fair Lady (1964)\n",
      "Cosine similarity: 0.591\n",
      "Return of the Jedi (1983)\n",
      "Sabrina (1954)\n",
      "Cosine similarity: 0.659\n",
      "Return of the Jedi (1983)\n",
      "Roman Holiday (1953)\n",
      "Cosine similarity: 0.723\n",
      "Return of the Jedi (1983)\n",
      "Sunset Blvd. (1950)\n",
      "Cosine similarity: 0.539\n",
      "Return of the Jedi (1983)\n",
      "Notorious (1946)\n",
      "Cosine similarity: 0.627\n",
      "Return of the Jedi (1983)\n",
      "To Catch a Thief (1955)\n",
      "Cosine similarity: 0.684\n",
      "Return of the Jedi (1983)\n",
      "Adventures of Robin Hood, The (1938)\n",
      "Cosine similarity: 0.7\n",
      "Return of the Jedi (1983)\n",
      "East of Eden (1955)\n",
      "Cosine similarity: 0.686\n",
      "Return of the Jedi (1983)\n",
      "Thin Man, The (1934)\n",
      "Cosine similarity: 0.67\n",
      "Return of the Jedi (1983)\n",
      "His Girl Friday (1940)\n",
      "Cosine similarity: 0.737\n",
      "Return of the Jedi (1983)\n",
      "Around the World in 80 Days (1956)\n",
      "Cosine similarity: 0.695\n",
      "Return of the Jedi (1983)\n",
      "It's a Wonderful Life (1946)\n",
      "Cosine similarity: 0.731\n",
      "Return of the Jedi (1983)\n",
      "Bringing Up Baby (1938)\n",
      "Cosine similarity: 0.775\n",
      "Return of the Jedi (1983)\n",
      "African Queen, The (1951)\n",
      "Cosine similarity: 0.722\n",
      "Return of the Jedi (1983)\n",
      "Cat on a Hot Tin Roof (1958)\n",
      "Cosine similarity: 0.605\n",
      "Return of the Jedi (1983)\n",
      "Fly Away Home (1996)\n",
      "Cosine similarity: 0.756\n",
      "Return of the Jedi (1983)\n",
      "Dumbo (1941)\n",
      "Cosine similarity: 0.66\n",
      "Return of the Jedi (1983)\n",
      "Bananas (1971)\n",
      "Cosine similarity: 0.679\n",
      "Return of the Jedi (1983)\n",
      "Candidate, The (1972)\n",
      "Cosine similarity: 0.685\n",
      "Return of the Jedi (1983)\n",
      "Bonnie and Clyde (1967)\n",
      "Cosine similarity: 0.582\n",
      "Return of the Jedi (1983)\n",
      "Dial M for Murder (1954)\n",
      "Cosine similarity: 0.692\n",
      "Return of the Jedi (1983)\n",
      "Rebel Without a Cause (1955)\n",
      "Cosine similarity: 0.671\n",
      "Return of the Jedi (1983)\n",
      "Streetcar Named Desire, A (1951)\n",
      "Cosine similarity: 0.619\n",
      "Return of the Jedi (1983)\n",
      "People vs. Larry Flynt, The (1996)\n",
      "Cosine similarity: 0.744\n",
      "Return of the Jedi (1983)\n",
      "My Left Foot (1989)\n",
      "Cosine similarity: 0.619\n",
      "Return of the Jedi (1983)\n",
      "Magnificent Seven, The (1954)\n",
      "Cosine similarity: 0.616\n",
      "Return of the Jedi (1983)\n",
      "Lawrence of Arabia (1962)\n",
      "Cosine similarity: 0.722\n",
      "Return of the Jedi (1983)\n",
      "Wings of Desire (1987)\n",
      "Cosine similarity: 0.645\n",
      "Return of the Jedi (1983)\n",
      "Third Man, The (1949)\n",
      "Cosine similarity: 0.696\n",
      "Return of the Jedi (1983)\n",
      "Annie Hall (1977)\n",
      "Cosine similarity: 0.553\n",
      "Return of the Jedi (1983)\n",
      "Boot, Das (1981)\n",
      "Cosine similarity: 0.732\n",
      "Return of the Jedi (1983)\n",
      "Local Hero (1983)\n",
      "Cosine similarity: 0.658\n",
      "Return of the Jedi (1983)\n",
      "Manhattan (1979)\n",
      "Cosine similarity: 0.642\n",
      "Return of the Jedi (1983)\n",
      "Miller's Crossing (1990)\n",
      "Cosine similarity: 0.548\n",
      "Return of the Jedi (1983)\n",
      "Treasure of the Sierra Madre, The (1948)\n",
      "Cosine similarity: 0.7\n",
      "Return of the Jedi (1983)\n",
      "Great Escape, The (1963)\n",
      "Cosine similarity: 0.739\n",
      "Return of the Jedi (1983)\n",
      "Deer Hunter, The (1978)\n",
      "Cosine similarity: 0.71\n",
      "Return of the Jedi (1983)\n",
      "Down by Law (1986)\n",
      "Cosine similarity: 0.589\n",
      "Return of the Jedi (1983)\n",
      "Cool Hand Luke (1967)\n",
      "Cosine similarity: 0.648\n",
      "Return of the Jedi (1983)\n",
      "Great Dictator, The (1940)\n",
      "Cosine similarity: 0.665\n",
      "Return of the Jedi (1983)\n",
      "Big Sleep, The (1946)\n",
      "Cosine similarity: 0.604\n",
      "Return of the Jedi (1983)\n",
      "Ben-Hur (1959)\n",
      "Cosine similarity: 0.747\n",
      "Return of the Jedi (1983)\n",
      "Gandhi (1982)\n",
      "Cosine similarity: 0.773\n",
      "Return of the Jedi (1983)\n",
      "Killing Fields, The (1984)\n",
      "Cosine similarity: 0.682\n",
      "Return of the Jedi (1983)\n",
      "My Life as a Dog (Mitt liv som hund) (1985)\n",
      "Cosine similarity: 0.622\n",
      "Return of the Jedi (1983)\n",
      "Man Who Would Be King, The (1975)\n",
      "Cosine similarity: 0.77\n",
      "Return of the Jedi (1983)\n",
      "Shine (1996)\n",
      "Cosine similarity: 0.771\n",
      "Return of the Jedi (1983)\n",
      "Kama Sutra: A Tale of Love (1996)\n",
      "Cosine similarity: 0.651\n",
      "Return of the Jedi (1983)\n",
      "Daytrippers, The (1996)\n",
      "Cosine similarity: 0.608\n",
      "Return of the Jedi (1983)\n",
      "Traveller (1997)\n",
      "Cosine similarity: 0.617\n",
      "Return of the Jedi (1983)\n",
      "Addicted to Love (1997)\n",
      "Cosine similarity: 0.603\n",
      "Return of the Jedi (1983)\n",
      "Ponette (1996)\n",
      "Cosine similarity: 0.644\n",
      "Return of the Jedi (1983)\n",
      "My Own Private Idaho (1991)\n",
      "Cosine similarity: 0.604\n",
      "Return of the Jedi (1983)\n",
      "Anastasia (1997)\n",
      "Cosine similarity: 0.529\n",
      "Return of the Jedi (1983)\n",
      "Mouse Hunt (1997)\n",
      "Cosine similarity: 0.546\n",
      "Return of the Jedi (1983)\n",
      "Money Train (1995)\n",
      "Cosine similarity: 0.529\n",
      "Return of the Jedi (1983)\n",
      "Mortal Kombat (1995)\n",
      "Cosine similarity: 0.618\n",
      "Return of the Jedi (1983)\n",
      "Pocahontas (1995)\n",
      "Cosine similarity: 0.674\n",
      "Return of the Jedi (1983)\n",
      "Misérables, Les (1995)\n",
      "Cosine similarity: 0.515\n",
      "Return of the Jedi (1983)\n",
      "Things to Do in Denver when You're Dead (1995)\n",
      "Cosine similarity: 0.507\n",
      "Return of the Jedi (1983)\n",
      "Vampire in Brooklyn (1995)\n",
      "Cosine similarity: 0.775\n",
      "Return of the Jedi (1983)\n",
      "Broken Arrow (1996)\n",
      "Cosine similarity: 0.709\n",
      "Return of the Jedi (1983)\n",
      "Young Poisoner's Handbook, The (1995)\n",
      "Cosine similarity: 0.506\n",
      "Return of the Jedi (1983)\n",
      "NeverEnding Story III, The (1994)\n",
      "Cosine similarity: 0.472\n",
      "Return of the Jedi (1983)\n",
      "Rob Roy (1995)\n",
      "Cosine similarity: 0.629\n",
      "Return of the Jedi (1983)\n",
      "Die Hard: With a Vengeance (1995)\n",
      "Cosine similarity: 0.743\n",
      "Return of the Jedi (1983)\n",
      "Lord of Illusions (1995)\n",
      "Cosine similarity: 0.671\n",
      "Return of the Jedi (1983)\n",
      "Species (1995)\n",
      "Cosine similarity: 0.689\n",
      "Return of the Jedi (1983)\n",
      "Walk in the Clouds, A (1995)\n",
      "Cosine similarity: 0.537\n",
      "Return of the Jedi (1983)\n",
      "Waterworld (1995)\n",
      "Cosine similarity: 0.496\n",
      "Return of the Jedi (1983)\n",
      "White Man's Burden (1995)\n",
      "Cosine similarity: 0.539\n",
      "Return of the Jedi (1983)\n",
      "Wild Bill (1995)\n",
      "Cosine similarity: 0.575\n",
      "Return of the Jedi (1983)\n",
      "Farinelli: il castrato (1994)\n",
      "Cosine similarity: 0.638\n",
      "Return of the Jedi (1983)\n",
      "Heavenly Creatures (1994)\n",
      "Cosine similarity: 0.515\n",
      "Return of the Jedi (1983)\n",
      "Interview with the Vampire (1994)\n",
      "Cosine similarity: 0.695\n",
      "Return of the Jedi (1983)\n",
      "Kid in King Arthur's Court, A (1995)\n",
      "Cosine similarity: 0.539\n",
      "Return of the Jedi (1983)\n",
      "Mary Shelley's Frankenstein (1994)\n",
      "Cosine similarity: 0.614\n",
      "Return of the Jedi (1983)\n",
      "Quick and the Dead, The (1995)\n",
      "Cosine similarity: 0.54\n",
      "Return of the Jedi (1983)\n",
      "Stephen King's The Langoliers (1995)\n",
      "Cosine similarity: 0.608\n",
      "Return of the Jedi (1983)\n",
      "Tales from the Hood (1995)\n",
      "Cosine similarity: 0.564\n",
      "Return of the Jedi (1983)\n",
      "Village of the Damned (1995)\n",
      "Cosine similarity: 0.645\n",
      "Return of the Jedi (1983)\n",
      "Clear and Present Danger (1994)\n",
      "Cosine similarity: 0.748\n",
      "Return of the Jedi (1983)\n",
      "Wes Craven's New Nightmare (1994)\n",
      "Cosine similarity: 0.606\n",
      "Return of the Jedi (1983)\n",
      "Speed (1994)\n",
      "Cosine similarity: 0.711\n",
      "Return of the Jedi (1983)\n",
      "Wolf (1994)\n",
      "Cosine similarity: 0.545\n",
      "Return of the Jedi (1983)\n",
      "Wyatt Earp (1994)\n",
      "Cosine similarity: 0.679\n",
      "Return of the Jedi (1983)\n",
      "Another Stakeout (1993)\n",
      "Cosine similarity: 0.542\n",
      "Return of the Jedi (1983)\n",
      "Blown Away (1994)\n",
      "Cosine similarity: 0.565\n",
      "Return of the Jedi (1983)\n",
      "Body Snatchers (1993)\n",
      "Cosine similarity: 0.669\n",
      "Return of the Jedi (1983)\n",
      "Boxing Helena (1993)\n",
      "Cosine similarity: 0.425\n",
      "Return of the Jedi (1983)\n",
      "City Slickers II: The Legend of Curly's Gold (1994)\n",
      "Cosine similarity: 0.626\n",
      "Return of the Jedi (1983)\n",
      "Cliffhanger (1993)\n",
      "Cosine similarity: 0.77\n",
      "Return of the Jedi (1983)\n",
      "Coneheads (1993)\n",
      "Cosine similarity: 0.612\n",
      "Return of the Jedi (1983)\n",
      "Demolition Man (1993)\n",
      "Cosine similarity: 0.599\n",
      "Return of the Jedi (1983)\n",
      "Fatal Instinct (1993)\n",
      "Cosine similarity: 0.671\n",
      "Return of the Jedi (1983)\n",
      "Englishman Who Went Up a Hill, But Came Down a Mountain, The (1995)\n",
      "Cosine similarity: 0.666\n",
      "Return of the Jedi (1983)\n",
      "Kalifornia (1993)\n",
      "Cosine similarity: 0.54\n",
      "Return of the Jedi (1983)\n",
      "Piano, The (1993)\n",
      "Cosine similarity: 0.47\n",
      "Return of the Jedi (1983)\n",
      "Romeo Is Bleeding (1993)\n",
      "Cosine similarity: 0.65\n",
      "Return of the Jedi (1983)\n",
      "Secret Garden, The (1993)\n",
      "Cosine similarity: 0.644\n",
      "Return of the Jedi (1983)\n",
      "Son in Law (1993)\n",
      "Cosine similarity: 0.594\n",
      "Return of the Jedi (1983)\n",
      "Terminal Velocity (1994)\n",
      "Cosine similarity: 0.69\n",
      "Return of the Jedi (1983)\n",
      "Hour of the Pig, The (1993)\n",
      "Cosine similarity: 0.721\n",
      "Return of the Jedi (1983)\n",
      "Beauty and the Beast (1991)\n",
      "Cosine similarity: 0.702\n",
      "Return of the Jedi (1983)\n",
      "Wild Bunch, The (1969)\n",
      "Cosine similarity: 0.605\n",
      "Return of the Jedi (1983)\n",
      "Hellraiser: Bloodline (1996)\n",
      "Cosine similarity: 0.634\n",
      "Return of the Jedi (1983)\n",
      "Primal Fear (1996)\n",
      "Cosine similarity: 0.638\n",
      "Return of the Jedi (1983)\n",
      "True Crime (1995)\n",
      "Cosine similarity: 0.517\n",
      "Return of the Jedi (1983)\n",
      "Stalingrad (1993)\n",
      "Cosine similarity: 0.575\n",
      "Return of the Jedi (1983)\n",
      "Heavy (1995)\n",
      "Cosine similarity: 0.622\n",
      "Return of the Jedi (1983)\n",
      "Fan, The (1996)\n",
      "Cosine similarity: 0.613\n",
      "Return of the Jedi (1983)\n",
      "Hunchback of Notre Dame, The (1996)\n",
      "Cosine similarity: 0.762\n",
      "Return of the Jedi (1983)\n",
      "Eraser (1996)\n",
      "Cosine similarity: 0.714\n",
      "Return of the Jedi (1983)\n",
      "Big Squeeze, The (1996)\n",
      "Cosine similarity: 0.673\n",
      "Return of the Jedi (1983)\n",
      "Police Story 4: Project S (Chao ji ji hua) (1993)\n",
      "Cosine similarity: 0.504\n",
      "Return of the Jedi (1983)\n",
      "Daniel Defoe's Robinson Crusoe (1996)\n",
      "Cosine similarity: 0.671\n",
      "Return of the Jedi (1983)\n",
      "For Whom the Bell Tolls (1943)\n",
      "Cosine similarity: 0.715\n",
      "Return of the Jedi (1983)\n",
      "American in Paris, An (1951)\n",
      "Cosine similarity: 0.646\n",
      "Return of the Jedi (1983)\n",
      "Rear Window (1954)\n",
      "Cosine similarity: 0.706\n",
      "Return of the Jedi (1983)\n",
      "It Happened One Night (1934)\n",
      "Cosine similarity: 0.6\n",
      "Return of the Jedi (1983)\n",
      "Meet Me in St. Louis (1944)\n",
      "Cosine similarity: 0.633\n",
      "Return of the Jedi (1983)\n",
      "All About Eve (1950)\n",
      "Cosine similarity: 0.574\n",
      "Return of the Jedi (1983)\n",
      "Rebecca (1940)\n",
      "Cosine similarity: 0.585\n",
      "Return of the Jedi (1983)\n",
      "Spellbound (1945)\n",
      "Cosine similarity: 0.615\n",
      "Return of the Jedi (1983)\n",
      "Father of the Bride (1950)\n",
      "Cosine similarity: 0.725\n",
      "Return of the Jedi (1983)\n",
      "Gigi (1958)\n",
      "Cosine similarity: 0.488\n",
      "Return of the Jedi (1983)\n",
      "Laura (1944)\n",
      "Cosine similarity: 0.568\n",
      "Return of the Jedi (1983)\n",
      "Lost Horizon (1937)\n",
      "Cosine similarity: 0.709\n",
      "Return of the Jedi (1983)\n",
      "My Man Godfrey (1936)\n",
      "Cosine similarity: 0.75\n",
      "Return of the Jedi (1983)\n",
      "Giant (1956)\n",
      "Cosine similarity: 0.769\n",
      "Return of the Jedi (1983)\n",
      "39 Steps, The (1935)\n",
      "Cosine similarity: 0.666\n",
      "Return of the Jedi (1983)\n",
      "Night of the Living Dead (1968)\n",
      "Cosine similarity: 0.634\n",
      "Return of the Jedi (1983)\n",
      "Blue Angel, The (Blaue Engel, Der) (1930)\n",
      "Cosine similarity: 0.719\n",
      "Return of the Jedi (1983)\n",
      "Picnic (1955)\n",
      "Cosine similarity: 0.726\n",
      "Return of the Jedi (1983)\n",
      "Extreme Measures (1996)\n",
      "Cosine similarity: 0.726\n",
      "Return of the Jedi (1983)\n",
      "Chamber, The (1996)\n",
      "Cosine similarity: 0.655\n",
      "Return of the Jedi (1983)\n",
      "Davy Crockett, King of the Wild Frontier (1955)\n",
      "Cosine similarity: 0.677\n",
      "Return of the Jedi (1983)\n",
      "Swiss Family Robinson (1960)\n",
      "Cosine similarity: 0.649\n",
      "Return of the Jedi (1983)\n",
      "Angels in the Outfield (1994)\n",
      "Cosine similarity: 0.537\n",
      "Return of the Jedi (1983)\n",
      "Three Caballeros, The (1945)\n",
      "Cosine similarity: 0.688\n",
      "Return of the Jedi (1983)\n",
      "Sword in the Stone, The (1963)\n",
      "Cosine similarity: 0.584\n",
      "Return of the Jedi (1983)\n",
      "So Dear to My Heart (1949)\n",
      "Cosine similarity: 0.553\n",
      "Return of the Jedi (1983)\n",
      "Robin Hood: Prince of Thieves (1991)\n",
      "Cosine similarity: 0.662\n",
      "Return of the Jedi (1983)\n",
      "Sleepers (1996)\n",
      "Cosine similarity: 0.717\n",
      "Return of the Jedi (1983)\n",
      "Victor/Victoria (1982)\n",
      "Cosine similarity: 0.617\n",
      "Return of the Jedi (1983)\n",
      "Great Race, The (1965)\n",
      "Cosine similarity: 0.647\n",
      "Return of the Jedi (1983)\n",
      "Crying Game, The (1992)\n",
      "Cosine similarity: 0.515\n",
      "Return of the Jedi (1983)\n",
      "Sophie's Choice (1982)\n",
      "Cosine similarity: 0.621\n",
      "Return of the Jedi (1983)\n",
      "Christmas Carol, A (1938)\n",
      "Cosine similarity: 0.618\n",
      "Return of the Jedi (1983)\n",
      "Microcosmos: Le peuple de l'herbe (1996)\n",
      "Cosine similarity: 0.707\n",
      "Return of the Jedi (1983)\n",
      "Fog, The (1980)\n",
      "Cosine similarity: 0.568\n",
      "Return of the Jedi (1983)\n",
      "Escape from New York (1981)\n",
      "Cosine similarity: 0.696\n",
      "Return of the Jedi (1983)\n",
      "Howling, The (1981)\n",
      "Cosine similarity: 0.576\n",
      "Return of the Jedi (1983)\n",
      "Return of Martin Guerre, The (Retour de Martin Guerre, Le) (1982)\n",
      "Cosine similarity: 0.583\n",
      "Return of the Jedi (1983)\n",
      "Tin Drum, The (Blechtrommel, Die) (1979)\n",
      "Cosine similarity: 0.623\n",
      "Return of the Jedi (1983)\n",
      "Cook the Thief His Wife & Her Lover, The (1989)\n",
      "Cosine similarity: 0.435\n",
      "Return of the Jedi (1983)\n",
      "Paths of Glory (1957)\n",
      "Cosine similarity: 0.592\n",
      "Return of the Jedi (1983)\n",
      "Grifters, The (1990)\n",
      "Cosine similarity: 0.526\n",
      "Return of the Jedi (1983)\n",
      "The Innocent (1994)\n",
      "Cosine similarity: 0.618\n",
      "Return of the Jedi (1983)\n",
      "Thin Blue Line, The (1988)\n",
      "Cosine similarity: 0.678\n",
      "Return of the Jedi (1983)\n",
      "Paris Is Burning (1990)\n",
      "Cosine similarity: 0.614\n",
      "Return of the Jedi (1983)\n",
      "Once Upon a Time in the West (1969)\n",
      "Cosine similarity: 0.711\n",
      "Return of the Jedi (1983)\n",
      "Ran (1985)\n",
      "Cosine similarity: 0.641\n",
      "Return of the Jedi (1983)\n",
      "Quiet Man, The (1952)\n",
      "Cosine similarity: 0.62\n",
      "Return of the Jedi (1983)\n",
      "Once Upon a Time in America (1984)\n",
      "Cosine similarity: 0.6\n",
      "Return of the Jedi (1983)\n",
      "Seventh Seal, The (Sjunde inseglet, Det) (1957)\n",
      "Cosine similarity: 0.478\n",
      "Return of the Jedi (1983)\n",
      "Glory (1989)\n",
      "Cosine similarity: 0.749\n",
      "Return of the Jedi (1983)\n",
      "Rosencrantz and Guildenstern Are Dead (1990)\n",
      "Cosine similarity: 0.549\n",
      "Return of the Jedi (1983)\n",
      "Touch of Evil (1958)\n",
      "Cosine similarity: 0.582\n",
      "Return of the Jedi (1983)\n",
      "Chinatown (1974)\n",
      "Cosine similarity: 0.559\n",
      "Return of the Jedi (1983)\n",
      "Stand by Me (1986)\n",
      "Cosine similarity: 0.672\n",
      "Return of the Jedi (1983)\n",
      "M (1931)\n",
      "Cosine similarity: 0.58\n",
      "Return of the Jedi (1983)\n",
      "Manchurian Candidate, The (1962)\n",
      "Cosine similarity: 0.628\n",
      "Return of the Jedi (1983)\n",
      "Pump Up the Volume (1990)\n",
      "Cosine similarity: 0.685\n",
      "Return of the Jedi (1983)\n",
      "Arsenic and Old Lace (1944)\n",
      "Cosine similarity: 0.739\n",
      "Return of the Jedi (1983)\n",
      "Fried Green Tomatoes (1991)\n",
      "Cosine similarity: 0.679\n",
      "Return of the Jedi (1983)\n",
      "High Noon (1952)\n",
      "Cosine similarity: 0.692\n",
      "Return of the Jedi (1983)\n",
      "Somewhere in Time (1980)\n",
      "Cosine similarity: 0.699\n",
      "Return of the Jedi (1983)\n",
      "Being There (1979)\n",
      "Cosine similarity: 0.697\n",
      "Return of the Jedi (1983)\n",
      "Paris, Texas (1984)\n",
      "Cosine similarity: 0.6\n",
      "Return of the Jedi (1983)\n",
      "Alien 3 (1992)\n",
      "Cosine similarity: 0.573\n",
      "Return of the Jedi (1983)\n",
      "Blood For Dracula (Andy Warhol's Dracula) (1974)\n",
      "Cosine similarity: 0.607\n",
      "Return of the Jedi (1983)\n",
      "Audrey Rose (1977)\n",
      "Cosine similarity: 0.614\n",
      "Return of the Jedi (1983)\n",
      "Blood Beach (1981)\n",
      "Cosine similarity: 0.625\n",
      "Return of the Jedi (1983)\n",
      "Body Parts (1991)\n",
      "Cosine similarity: 0.569\n",
      "Return of the Jedi (1983)\n",
      "Body Snatchers (1993)\n",
      "Cosine similarity: 0.77\n",
      "Return of the Jedi (1983)\n",
      "Bride of Frankenstein (1935)\n",
      "Cosine similarity: 0.585\n",
      "Return of the Jedi (1983)\n",
      "Candyman (1992)\n",
      "Cosine similarity: 0.628\n",
      "Return of the Jedi (1983)\n",
      "Cape Fear (1962)\n",
      "Cosine similarity: 0.702\n",
      "Return of the Jedi (1983)\n",
      "Cat People (1982)\n",
      "Cosine similarity: 0.715\n",
      "Return of the Jedi (1983)\n",
      "Nosferatu (Nosferatu, eine Symphonie des Grauens) (1922)\n",
      "Cosine similarity: 0.578\n",
      "Return of the Jedi (1983)\n",
      "Crucible, The (1996)\n",
      "Cosine similarity: 0.612\n",
      "Return of the Jedi (1983)\n",
      "Fire on the Mountain (1996)\n",
      "Cosine similarity: -0.217\n",
      "Return of the Jedi (1983)\n",
      "Volcano (1997)\n",
      "Cosine similarity: 0.555\n",
      "Return of the Jedi (1983)\n",
      "Conan the Barbarian (1981)\n",
      "Cosine similarity: 0.704\n",
      "Return of the Jedi (1983)\n",
      "Kull the Conqueror (1997)\n",
      "Cosine similarity: 0.473\n",
      "Return of the Jedi (1983)\n",
      "Wishmaster (1997)\n",
      "Cosine similarity: 0.461\n",
      "Return of the Jedi (1983)\n",
      "I Know What You Did Last Summer (1997)\n",
      "Cosine similarity: 0.538\n",
      "Return of the Jedi (1983)\n",
      "Rocket Man (1997)\n",
      "Cosine similarity: 0.486\n",
      "Return of the Jedi (1983)\n",
      "In the Line of Fire (1993)\n",
      "Cosine similarity: 0.757\n",
      "Return of the Jedi (1983)\n",
      "Executive Decision (1996)\n",
      "Cosine similarity: 0.65\n",
      "Return of the Jedi (1983)\n",
      "Perfect World, A (1993)\n",
      "Cosine similarity: 0.653\n",
      "Return of the Jedi (1983)\n",
      "McHale's Navy (1997)\n",
      "Cosine similarity: 0.463\n",
      "Return of the Jedi (1983)\n",
      "Leave It to Beaver (1997)\n",
      "Cosine similarity: 0.279\n",
      "Return of the Jedi (1983)\n",
      "Jackal, The (1997)\n",
      "Cosine similarity: 0.642\n",
      "Return of the Jedi (1983)\n",
      "Seven Years in Tibet (1997)\n",
      "Cosine similarity: 0.618\n",
      "Return of the Jedi (1983)\n",
      "Dark City (1998)\n",
      "Cosine similarity: 0.718\n",
      "Return of the Jedi (1983)\n",
      "American President, The (1995)\n",
      "Cosine similarity: 0.698\n",
      "Return of the Jedi (1983)\n",
      "Casino (1995)\n",
      "Cosine similarity: 0.681\n",
      "Return of the Jedi (1983)\n",
      "Persuasion (1995)\n",
      "Cosine similarity: 0.623\n",
      "Return of the Jedi (1983)\n",
      "Kicking and Screaming (1995)\n",
      "Cosine similarity: 0.603\n",
      "Return of the Jedi (1983)\n",
      "City Hall (1996)\n",
      "Cosine similarity: 0.609\n",
      "Return of the Jedi (1983)\n",
      "Basketball Diaries, The (1995)\n",
      "Cosine similarity: 0.561\n",
      "Return of the Jedi (1983)\n",
      "Browning Version, The (1994)\n",
      "Cosine similarity: 0.653\n",
      "Return of the Jedi (1983)\n",
      "Little Women (1994)\n",
      "Cosine similarity: 0.572\n",
      "Return of the Jedi (1983)\n",
      "Miami Rhapsody (1995)\n",
      "Cosine similarity: 0.674\n",
      "Return of the Jedi (1983)\n",
      "Wonderful, Horrible Life of Leni Riefenstahl, The (1993)\n",
      "Cosine similarity: 0.756\n",
      "Return of the Jedi (1983)\n",
      "Barcelona (1994)\n",
      "Cosine similarity: 0.708\n",
      "Return of the Jedi (1983)\n",
      "Widows' Peak (1994)\n",
      "Cosine similarity: 0.685\n",
      "Return of the Jedi (1983)\n",
      "House of the Spirits, The (1993)\n",
      "Cosine similarity: 0.788\n",
      "Return of the Jedi (1983)\n",
      "Singin' in the Rain (1952)\n",
      "Cosine similarity: 0.674\n",
      "Return of the Jedi (1983)\n",
      "Bad Moon (1996)\n",
      "Cosine similarity: 0.516\n",
      "Return of the Jedi (1983)\n",
      "Enchanted April (1991)\n",
      "Cosine similarity: 0.543\n",
      "Return of the Jedi (1983)\n",
      "Sex, Lies, and Videotape (1989)\n",
      "Cosine similarity: 0.523\n",
      "Return of the Jedi (1983)\n",
      "Strictly Ballroom (1992)\n",
      "Cosine similarity: 0.673\n",
      "Return of the Jedi (1983)\n",
      "Better Off Dead... (1985)\n",
      "Cosine similarity: 0.692\n",
      "Return of the Jedi (1983)\n",
      "Substance of Fire, The (1996)\n",
      "Cosine similarity: -0.0256\n",
      "Return of the Jedi (1983)\n",
      "Tin Men (1987)\n",
      "Cosine similarity: 0.716\n",
      "Return of the Jedi (1983)\n",
      "Othello (1995)\n",
      "Cosine similarity: 0.662\n",
      "Return of the Jedi (1983)\n",
      "Carrington (1995)\n",
      "Cosine similarity: 0.593\n",
      "Return of the Jedi (1983)\n",
      "To Die For (1995)\n",
      "Cosine similarity: 0.57\n",
      "Return of the Jedi (1983)\n",
      "Home for the Holidays (1995)\n",
      "Cosine similarity: 0.475\n",
      "Return of the Jedi (1983)\n",
      "Juror, The (1996)\n",
      "Cosine similarity: 0.573\n",
      "Return of the Jedi (1983)\n",
      "In the Bleak Midwinter (1995)\n",
      "Cosine similarity: 0.629\n",
      "Return of the Jedi (1983)\n",
      "Canadian Bacon (1994)\n",
      "Cosine similarity: 0.633\n",
      "Return of the Jedi (1983)\n",
      "First Knight (1995)\n",
      "Cosine similarity: 0.535\n",
      "Return of the Jedi (1983)\n",
      "Mallrats (1995)\n",
      "Cosine similarity: 0.731\n",
      "Return of the Jedi (1983)\n",
      "Nine Months (1995)\n",
      "Cosine similarity: 0.639\n",
      "Return of the Jedi (1983)\n",
      "Boys on the Side (1995)\n",
      "Cosine similarity: 0.598\n",
      "Return of the Jedi (1983)\n",
      "Circle of Friends (1995)\n",
      "Cosine similarity: 0.73\n",
      "Return of the Jedi (1983)\n",
      "Exit to Eden (1994)\n",
      "Cosine similarity: 0.643\n",
      "Return of the Jedi (1983)\n",
      "Fluke (1995)\n",
      "Cosine similarity: 0.607\n",
      "Return of the Jedi (1983)\n",
      "Immortal Beloved (1994)\n",
      "Cosine similarity: 0.672\n",
      "Return of the Jedi (1983)\n",
      "Junior (1994)\n",
      "Cosine similarity: 0.674\n",
      "Return of the Jedi (1983)\n",
      "Nell (1994)\n",
      "Cosine similarity: 0.696\n",
      "Return of the Jedi (1983)\n",
      "Queen Margot (Reine Margot, La) (1994)\n",
      "Cosine similarity: 0.626\n",
      "Return of the Jedi (1983)\n",
      "Corrina, Corrina (1994)\n",
      "Cosine similarity: 0.713\n",
      "Return of the Jedi (1983)\n",
      "Dave (1993)\n",
      "Cosine similarity: 0.773\n",
      "Return of the Jedi (1983)\n",
      "Go Fish (1994)\n",
      "Cosine similarity: 0.672\n",
      "Return of the Jedi (1983)\n",
      "Made in America (1993)\n",
      "Cosine similarity: 0.687\n",
      "Return of the Jedi (1983)\n",
      "Philadelphia (1993)\n",
      "Cosine similarity: 0.647\n",
      "Return of the Jedi (1983)\n",
      "Shadowlands (1993)\n",
      "Cosine similarity: 0.726\n",
      "Return of the Jedi (1983)\n",
      "Sirens (1994)\n",
      "Cosine similarity: 0.684\n",
      "Return of the Jedi (1983)\n",
      "Threesome (1994)\n",
      "Cosine similarity: 0.593\n",
      "Return of the Jedi (1983)\n",
      "Pretty Woman (1990)\n",
      "Cosine similarity: 0.692\n",
      "Return of the Jedi (1983)\n",
      "Jane Eyre (1996)\n",
      "Cosine similarity: 0.483\n",
      "Return of the Jedi (1983)\n",
      "Last Supper, The (1995)\n",
      "Cosine similarity: 0.537\n",
      "Return of the Jedi (1983)\n",
      "Ransom (1996)\n",
      "Cosine similarity: 0.625\n",
      "Return of the Jedi (1983)\n",
      "Crow: City of Angels, The (1996)\n",
      "Cosine similarity: 0.561\n",
      "Return of the Jedi (1983)\n",
      "Michael Collins (1996)\n",
      "Cosine similarity: 0.609\n",
      "Return of the Jedi (1983)\n",
      "Ruling Class, The (1972)\n",
      "Cosine similarity: 0.562\n",
      "Return of the Jedi (1983)\n",
      "Real Genius (1985)\n",
      "Cosine similarity: 0.706\n",
      "Return of the Jedi (1983)\n",
      "Benny & Joon (1993)\n",
      "Cosine similarity: 0.661\n",
      "Return of the Jedi (1983)\n",
      "Saint, The (1997)\n",
      "Cosine similarity: 0.653\n",
      "Return of the Jedi (1983)\n",
      "MatchMaker, The (1997)\n",
      "Cosine similarity: 0.589\n",
      "Return of the Jedi (1983)\n",
      "Amistad (1997)\n",
      "Cosine similarity: 0.705\n",
      "Return of the Jedi (1983)\n",
      "Tomorrow Never Dies (1997)\n",
      "Cosine similarity: 0.756\n",
      "Return of the Jedi (1983)\n",
      "Replacement Killers, The (1998)\n",
      "Cosine similarity: 0.526\n",
      "Return of the Jedi (1983)\n",
      "Burnt By the Sun (1994)\n",
      "Cosine similarity: 0.541\n",
      "Return of the Jedi (1983)\n",
      "Red Corner (1997)\n",
      "Cosine similarity: 0.574\n",
      "Return of the Jedi (1983)\n",
      "Jumanji (1995)\n",
      "Cosine similarity: 0.677\n",
      "Return of the Jedi (1983)\n",
      "Father of the Bride Part II (1995)\n",
      "Cosine similarity: 0.552\n",
      "Return of the Jedi (1983)\n",
      "Across the Sea of Time (1995)\n",
      "Cosine similarity: 0.667\n",
      "Return of the Jedi (1983)\n",
      "Lawnmower Man 2: Beyond Cyberspace (1996)\n",
      "Cosine similarity: 0.739\n",
      "Return of the Jedi (1983)\n",
      "Fair Game (1995)\n",
      "Cosine similarity: 0.652\n",
      "Return of the Jedi (1983)\n",
      "Screamers (1995)\n",
      "Cosine similarity: 0.57\n",
      "Return of the Jedi (1983)\n",
      "Nick of Time (1995)\n",
      "Cosine similarity: 0.599\n",
      "Return of the Jedi (1983)\n",
      "Beautiful Girls (1996)\n",
      "Cosine similarity: 0.71\n",
      "Return of the Jedi (1983)\n",
      "Happy Gilmore (1996)\n",
      "Cosine similarity: 0.656\n",
      "Return of the Jedi (1983)\n",
      "If Lucy Fell (1996)\n",
      "Cosine similarity: 0.539\n",
      "Return of the Jedi (1983)\n",
      "Boomerang (1992)\n",
      "Cosine similarity: 0.49\n",
      "Return of the Jedi (1983)\n",
      "Man of the Year (1995)\n",
      "Cosine similarity: 0.727\n",
      "Return of the Jedi (1983)\n",
      "Addiction, The (1995)\n",
      "Cosine similarity: 0.46\n",
      "Return of the Jedi (1983)\n",
      "Casper (1995)\n",
      "Cosine similarity: 0.633\n",
      "Return of the Jedi (1983)\n",
      "Congo (1995)\n",
      "Cosine similarity: 0.406\n",
      "Return of the Jedi (1983)\n",
      "Devil in a Blue Dress (1995)\n",
      "Cosine similarity: 0.594\n",
      "Return of the Jedi (1983)\n",
      "Johnny Mnemonic (1995)\n",
      "Cosine similarity: 0.606\n",
      "Return of the Jedi (1983)\n",
      "Kids (1995)\n",
      "Cosine similarity: 0.601\n",
      "Return of the Jedi (1983)\n",
      "Mute Witness (1994)\n",
      "Cosine similarity: 0.482\n",
      "Return of the Jedi (1983)\n",
      "Prophecy, The (1995)\n",
      "Cosine similarity: 0.689\n",
      "Return of the Jedi (1983)\n",
      "Something to Talk About (1995)\n",
      "Cosine similarity: 0.545\n",
      "Return of the Jedi (1983)\n",
      "Three Wishes (1995)\n",
      "Cosine similarity: 0.567\n",
      "Return of the Jedi (1983)\n",
      "Castle Freak (1995)\n",
      "Cosine similarity: 0.639\n",
      "Return of the Jedi (1983)\n",
      "Don Juan DeMarco (1995)\n",
      "Cosine similarity: 0.685\n",
      "Return of the Jedi (1983)\n",
      "Drop Zone (1994)\n",
      "Cosine similarity: 0.423\n",
      "Return of the Jedi (1983)\n",
      "Dumb & Dumber (1994)\n",
      "Cosine similarity: 0.465\n",
      "Return of the Jedi (1983)\n",
      "French Kiss (1995)\n",
      "Cosine similarity: 0.617\n",
      "Return of the Jedi (1983)\n",
      "Little Odessa (1994)\n",
      "Cosine similarity: 0.558\n",
      "Return of the Jedi (1983)\n",
      "Milk Money (1994)\n",
      "Cosine similarity: 0.625\n",
      "Return of the Jedi (1983)\n",
      "Beyond Bedlam (1993)\n",
      "Cosine similarity: 0.123\n",
      "Return of the Jedi (1983)\n",
      "Only You (1994)\n",
      "Cosine similarity: 0.642\n",
      "Return of the Jedi (1983)\n",
      "Perez Family, The (1995)\n",
      "Cosine similarity: 0.612\n",
      "Return of the Jedi (1983)\n",
      "Roommates (1995)\n",
      "Cosine similarity: 0.748\n",
      "Return of the Jedi (1983)\n",
      "Relative Fear (1994)\n",
      "Cosine similarity: -0.0833\n",
      "Return of the Jedi (1983)\n",
      "Swimming with Sharks (1995)\n",
      "Cosine similarity: 0.695\n",
      "Return of the Jedi (1983)\n",
      "Tommy Boy (1995)\n",
      "Cosine similarity: 0.612\n",
      "Return of the Jedi (1983)\n",
      "Baby-Sitters Club, The (1995)\n",
      "Cosine similarity: 0.694\n",
      "Return of the Jedi (1983)\n",
      "Bullets Over Broadway (1994)\n",
      "Cosine similarity: 0.698\n",
      "Return of the Jedi (1983)\n",
      "Crooklyn (1994)\n",
      "Cosine similarity: 0.686\n",
      "Return of the Jedi (1983)\n",
      "It Could Happen to You (1994)\n",
      "Cosine similarity: 0.649\n",
      "Return of the Jedi (1983)\n",
      "Richie Rich (1994)\n",
      "Cosine similarity: 0.67\n",
      "Return of the Jedi (1983)\n",
      "Speechless (1994)\n",
      "Cosine similarity: 0.64\n",
      "Return of the Jedi (1983)\n",
      "Timecop (1994)\n",
      "Cosine similarity: 0.627\n",
      "Return of the Jedi (1983)\n",
      "Bad Company (1995)\n",
      "Cosine similarity: 0.68\n",
      "Return of the Jedi (1983)\n",
      "Boys Life (1995)\n",
      "Cosine similarity: 0.725\n",
      "Return of the Jedi (1983)\n",
      "In the Mouth of Madness (1995)\n",
      "Cosine similarity: 0.69\n",
      "Return of the Jedi (1983)\n",
      "Air Up There, The (1994)\n",
      "Cosine similarity: 0.661\n",
      "Return of the Jedi (1983)\n",
      "Hard Target (1993)\n",
      "Cosine similarity: 0.623\n",
      "Return of the Jedi (1983)\n",
      "Heaven & Earth (1993)\n",
      "Cosine similarity: 0.552\n",
      "Return of the Jedi (1983)\n",
      "Jimmy Hollywood (1994)\n",
      "Cosine similarity: 0.575\n",
      "Return of the Jedi (1983)\n",
      "Manhattan Murder Mystery (1993)\n",
      "Cosine similarity: 0.698\n",
      "Return of the Jedi (1983)\n",
      "Menace II Society (1993)\n",
      "Cosine similarity: 0.623\n",
      "Return of the Jedi (1983)\n",
      "Poetic Justice (1993)\n",
      "Cosine similarity: 0.383\n",
      "Return of the Jedi (1983)\n",
      "Program, The (1993)\n",
      "Cosine similarity: 0.627\n",
      "Return of the Jedi (1983)\n",
      "Rising Sun (1993)\n",
      "Cosine similarity: 0.673\n",
      "Return of the Jedi (1983)\n",
      "Shadow, The (1994)\n",
      "Cosine similarity: 0.557\n",
      "Return of the Jedi (1983)\n",
      "Thirty-Two Short Films About Glenn Gould (1993)\n",
      "Cosine similarity: 0.58\n",
      "Return of the Jedi (1983)\n",
      "Andre (1994)\n",
      "Cosine similarity: 0.526\n",
      "Return of the Jedi (1983)\n",
      "Celluloid Closet, The (1995)\n",
      "Cosine similarity: 0.66\n",
      "Return of the Jedi (1983)\n",
      "Great Day in Harlem, A (1994)\n",
      "Cosine similarity: 0.0557\n",
      "Return of the Jedi (1983)\n",
      "One Fine Day (1996)\n",
      "Cosine similarity: 0.74\n",
      "Return of the Jedi (1983)\n",
      "Candyman: Farewell to the Flesh (1995)\n",
      "Cosine similarity: 0.676\n",
      "Return of the Jedi (1983)\n",
      "Frisk (1995)\n",
      "Cosine similarity: 0.422\n",
      "Return of the Jedi (1983)\n",
      "Girl 6 (1996)\n",
      "Cosine similarity: 0.677\n",
      "Return of the Jedi (1983)\n",
      "Eddie (1996)\n",
      "Cosine similarity: 0.611\n",
      "Return of the Jedi (1983)\n",
      "Space Jam (1996)\n",
      "Cosine similarity: 0.546\n",
      "Return of the Jedi (1983)\n",
      "Mrs. Winterbourne (1996)\n",
      "Cosine similarity: 0.71\n",
      "Return of the Jedi (1983)\n",
      "Faces (1968)\n",
      "Cosine similarity: 0.628\n",
      "Return of the Jedi (1983)\n",
      "Mulholland Falls (1996)\n",
      "Cosine similarity: 0.785\n",
      "Return of the Jedi (1983)\n",
      "Great White Hype, The (1996)\n",
      "Cosine similarity: 0.636\n",
      "Return of the Jedi (1983)\n",
      "Arrival, The (1996)\n",
      "Cosine similarity: 0.696\n",
      "Return of the Jedi (1983)\n",
      "Phantom, The (1996)\n",
      "Cosine similarity: 0.614\n",
      "Return of the Jedi (1983)\n",
      "Daylight (1996)\n",
      "Cosine similarity: 0.678\n",
      "Return of the Jedi (1983)\n",
      "Alaska (1996)\n",
      "Cosine similarity: 0.474\n",
      "Return of the Jedi (1983)\n",
      "Fled (1996)\n",
      "Cosine similarity: 0.518\n",
      "Return of the Jedi (1983)\n",
      "Power 98 (1995)\n",
      "Cosine similarity: 0.539\n",
      "Return of the Jedi (1983)\n",
      "Escape from L.A. (1996)\n",
      "Cosine similarity: 0.665\n",
      "Return of the Jedi (1983)\n",
      "Bogus (1996)\n",
      "Cosine similarity: 0.722\n",
      "Return of the Jedi (1983)\n",
      "Bulletproof (1996)\n",
      "Cosine similarity: 0.575\n",
      "Return of the Jedi (1983)\n",
      "Halloween: The Curse of Michael Myers (1995)\n",
      "Cosine similarity: 0.57\n",
      "Return of the Jedi (1983)\n",
      "Gay Divorcee, The (1934)\n",
      "Cosine similarity: 0.577\n",
      "Return of the Jedi (1983)\n",
      "Ninotchka (1939)\n",
      "Cosine similarity: 0.617\n",
      "Return of the Jedi (1983)\n",
      "Meet John Doe (1941)\n",
      "Cosine similarity: 0.742\n",
      "Return of the Jedi (1983)\n",
      "In the Line of Duty 2 (1987)\n",
      "Cosine similarity: 0.722\n",
      "Return of the Jedi (1983)\n",
      "Loch Ness (1995)\n",
      "Cosine similarity: 0.646\n",
      "Return of the Jedi (1983)\n",
      "Last Man Standing (1996)\n",
      "Cosine similarity: 0.62\n",
      "Return of the Jedi (1983)\n",
      "Glimmer Man, The (1996)\n",
      "Cosine similarity: 0.452\n",
      "Return of the Jedi (1983)\n",
      "Pollyanna (1960)\n",
      "Cosine similarity: 0.52\n",
      "Return of the Jedi (1983)\n",
      "Shaggy Dog, The (1959)\n",
      "Cosine similarity: 0.543\n",
      "Return of the Jedi (1983)\n",
      "Freeway (1996)\n",
      "Cosine similarity: 0.611\n",
      "Return of the Jedi (1983)\n",
      "That Thing You Do! (1996)\n",
      "Cosine similarity: 0.647\n",
      "Return of the Jedi (1983)\n",
      "To Gillian on Her 37th Birthday (1996)\n",
      "Cosine similarity: 0.599\n",
      "Return of the Jedi (1983)\n",
      "Looking for Richard (1996)\n",
      "Cosine similarity: 0.611\n",
      "Return of the Jedi (1983)\n",
      "Murder, My Sweet (1944)\n",
      "Cosine similarity: 0.644\n",
      "Return of the Jedi (1983)\n",
      "Days of Thunder (1990)\n",
      "Cosine similarity: 0.569\n",
      "Return of the Jedi (1983)\n",
      "Perfect Candidate, A (1996)\n",
      "Cosine similarity: 0.672\n",
      "Return of the Jedi (1983)\n",
      "Two or Three Things I Know About Her (1966)\n",
      "Cosine similarity: 0.582\n",
      "Return of the Jedi (1983)\n",
      "Bloody Child, The (1996)\n",
      "Cosine similarity: 0.489\n",
      "Return of the Jedi (1983)\n",
      "Braindead (1992)\n",
      "Cosine similarity: 0.595\n",
      "Return of the Jedi (1983)\n",
      "Bad Taste (1987)\n",
      "Cosine similarity: 0.558\n",
      "Return of the Jedi (1983)\n",
      "Diva (1981)\n",
      "Cosine similarity: 0.586\n",
      "Return of the Jedi (1983)\n",
      "Night on Earth (1991)\n",
      "Cosine similarity: 0.657\n",
      "Return of the Jedi (1983)\n",
      "Paris Was a Woman (1995)\n",
      "Cosine similarity: 0.728\n",
      "Return of the Jedi (1983)\n",
      "Amityville: Dollhouse (1996)\n",
      "Cosine similarity: 0.748\n",
      "Return of the Jedi (1983)\n",
      "April Fool's Day (1986)\n",
      "Cosine similarity: 0.482\n",
      "Return of the Jedi (1983)\n",
      "Believers, The (1987)\n",
      "Cosine similarity: 0.482\n",
      "Return of the Jedi (1983)\n",
      "Nosferatu a Venezia (1986)\n",
      "Cosine similarity: 0.648\n",
      "Return of the Jedi (1983)\n",
      "Jingle All the Way (1996)\n",
      "Cosine similarity: 0.679\n",
      "Return of the Jedi (1983)\n",
      "Garden of Finzi-Contini, The (Giardino dei Finzi-Contini, Il) (1970)\n",
      "Cosine similarity: 0.596\n",
      "Return of the Jedi (1983)\n",
      "My Fellow Americans (1996)\n",
      "Cosine similarity: 0.717\n",
      "Return of the Jedi (1983)\n",
      "Ice Storm, The (1997)\n",
      "Cosine similarity: 0.433\n",
      "Return of the Jedi (1983)\n",
      "Michael (1996)\n",
      "Cosine similarity: 0.63\n",
      "Return of the Jedi (1983)\n",
      "Whole Wide World, The (1996)\n",
      "Cosine similarity: 0.637\n",
      "Return of the Jedi (1983)\n",
      "Hearts and Minds (1996)\n",
      "Cosine similarity: 0.685\n",
      "Return of the Jedi (1983)\n",
      "Fools Rush In (1997)\n",
      "Cosine similarity: 0.721\n",
      "Return of the Jedi (1983)\n",
      "Touch (1997)\n",
      "Cosine similarity: 0.742\n",
      "Return of the Jedi (1983)\n",
      "Vegas Vacation (1997)\n",
      "Cosine similarity: 0.562\n",
      "Return of the Jedi (1983)\n",
      "Love Jones (1997)\n",
      "Cosine similarity: 0.659\n",
      "Return of the Jedi (1983)\n",
      "Picture Perfect (1997)\n",
      "Cosine similarity: 0.635\n",
      "Return of the Jedi (1983)\n",
      "Career Girls (1997)\n",
      "Cosine similarity: 0.545\n",
      "Return of the Jedi (1983)\n",
      "She's So Lovely (1997)\n",
      "Cosine similarity: 0.605\n",
      "Return of the Jedi (1983)\n",
      "Money Talks (1997)\n",
      "Cosine similarity: 0.581\n",
      "Return of the Jedi (1983)\n",
      "Excess Baggage (1997)\n",
      "Cosine similarity: 0.517\n",
      "Return of the Jedi (1983)\n",
      "That Darn Cat! (1997)\n",
      "Cosine similarity: 0.374\n",
      "Return of the Jedi (1983)\n",
      "Peacemaker, The (1997)\n",
      "Cosine similarity: 0.705\n",
      "Return of the Jedi (1983)\n",
      "Soul Food (1997)\n",
      "Cosine similarity: 0.632\n",
      "Return of the Jedi (1983)\n",
      "Money Talks (1997)\n",
      "Cosine similarity: 0.603\n",
      "Return of the Jedi (1983)\n",
      "Washington Square (1997)\n",
      "Cosine similarity: 0.544\n",
      "Return of the Jedi (1983)\n",
      "Telling Lies in America (1997)\n",
      "Cosine similarity: 0.571\n",
      "Return of the Jedi (1983)\n",
      "Year of the Horse (1997)\n",
      "Cosine similarity: 0.551\n",
      "Return of the Jedi (1983)\n",
      "Phantoms (1998)\n",
      "Cosine similarity: 0.582\n",
      "Return of the Jedi (1983)\n",
      "Life Less Ordinary, A (1997)\n",
      "Cosine similarity: 0.638\n",
      "Return of the Jedi (1983)\n",
      "Eve's Bayou (1997)\n",
      "Cosine similarity: 0.591\n",
      "Return of the Jedi (1983)\n",
      "One Night Stand (1997)\n",
      "Cosine similarity: 0.543\n",
      "Return of the Jedi (1983)\n",
      "Tango Lesson, The (1997)\n",
      "Cosine similarity: 0.558\n",
      "Return of the Jedi (1983)\n",
      "Mortal Kombat: Annihilation (1997)\n",
      "Cosine similarity: 0.609\n",
      "Return of the Jedi (1983)\n",
      "Bent (1997)\n",
      "Cosine similarity: 0.487\n",
      "Return of the Jedi (1983)\n",
      "Flubber (1997)\n",
      "Cosine similarity: 0.739\n",
      "Return of the Jedi (1983)\n",
      "For Richer or Poorer (1997)\n",
      "Cosine similarity: 0.71\n",
      "Return of the Jedi (1983)\n",
      "Home Alone 3 (1997)\n",
      "Cosine similarity: 0.472\n",
      "Return of the Jedi (1983)\n",
      "Scream 2 (1997)\n",
      "Cosine similarity: 0.541\n",
      "Return of the Jedi (1983)\n",
      "Sweet Hereafter, The (1997)\n",
      "Cosine similarity: 0.44\n",
      "Return of the Jedi (1983)\n",
      "Time Tracers (1995)\n",
      "Cosine similarity: 0.524\n",
      "Return of the Jedi (1983)\n",
      "Postman, The (1997)\n",
      "Cosine similarity: 0.457\n",
      "Return of the Jedi (1983)\n",
      "Winter Guest, The (1997)\n",
      "Cosine similarity: 0.498\n",
      "Return of the Jedi (1983)\n",
      "Kundun (1997)\n",
      "Cosine similarity: 0.586\n",
      "Return of the Jedi (1983)\n",
      "Mr. Magoo (1997)\n",
      "Cosine similarity: 0.433\n",
      "Return of the Jedi (1983)\n",
      "Big Lebowski, The (1998)\n",
      "Cosine similarity: 0.576\n",
      "Return of the Jedi (1983)\n",
      "Afterglow (1997)\n",
      "Cosine similarity: 0.675\n",
      "Return of the Jedi (1983)\n",
      "Ma vie en rose (My Life in Pink) (1997)\n",
      "Cosine similarity: 0.441\n",
      "Return of the Jedi (1983)\n",
      "Great Expectations (1998)\n",
      "Cosine similarity: 0.67\n",
      "Return of the Jedi (1983)\n",
      "Oscar & Lucinda (1997)\n",
      "Cosine similarity: 0.59\n",
      "Return of the Jedi (1983)\n",
      "Vermin (1998)\n",
      "Cosine similarity: 0.637\n",
      "Return of the Jedi (1983)\n",
      "Half Baked (1998)\n",
      "Cosine similarity: 0.531\n",
      "Return of the Jedi (1983)\n",
      "Dangerous Beauty (1998)\n",
      "Cosine similarity: 0.688\n",
      "Return of the Jedi (1983)\n",
      "Nil By Mouth (1997)\n",
      "Cosine similarity: 0.613\n",
      "Return of the Jedi (1983)\n",
      "Twilight (1998)\n",
      "Cosine similarity: 0.623\n",
      "Return of the Jedi (1983)\n",
      "U.S. Marshalls (1998)\n",
      "Cosine similarity: 0.491\n",
      "Return of the Jedi (1983)\n",
      "Love and Death on Long Island (1997)\n",
      "Cosine similarity: 0.534\n",
      "Return of the Jedi (1983)\n",
      "Wild Things (1998)\n",
      "Cosine similarity: 0.533\n",
      "Return of the Jedi (1983)\n",
      "Primary Colors (1998)\n",
      "Cosine similarity: 0.67\n",
      "Return of the Jedi (1983)\n",
      "Lost in Space (1998)\n",
      "Cosine similarity: 0.63\n",
      "Return of the Jedi (1983)\n",
      "Mercury Rising (1998)\n",
      "Cosine similarity: 0.709\n",
      "Return of the Jedi (1983)\n",
      "City of Angels (1998)\n",
      "Cosine similarity: 0.768\n",
      "Return of the Jedi (1983)\n",
      "City of Lost Children, The (1995)\n",
      "Cosine similarity: 0.602\n",
      "Return of the Jedi (1983)\n",
      "Two Bits (1995)\n",
      "Cosine similarity: 0.677\n",
      "Return of the Jedi (1983)\n",
      "Farewell My Concubine (1993)\n",
      "Cosine similarity: 0.613\n",
      "Return of the Jedi (1983)\n",
      "Dead Man (1995)\n",
      "Cosine similarity: 0.478\n",
      "Return of the Jedi (1983)\n",
      "Raise the Red Lantern (1991)\n",
      "Cosine similarity: 0.643\n",
      "Return of the Jedi (1983)\n",
      "White Squall (1996)\n",
      "Cosine similarity: 0.608\n",
      "Return of the Jedi (1983)\n",
      "Unforgettable (1996)\n",
      "Cosine similarity: 0.626\n",
      "Return of the Jedi (1983)\n",
      "Down Periscope (1996)\n",
      "Cosine similarity: 0.7\n",
      "Return of the Jedi (1983)\n",
      "Flower of My Secret, The (Flor de mi secreto, La) (1995)\n",
      "Cosine similarity: 0.771\n",
      "Return of the Jedi (1983)\n",
      "Craft, The (1996)\n",
      "Cosine similarity: 0.718\n",
      "Return of the Jedi (1983)\n",
      "Harriet the Spy (1996)\n",
      "Cosine similarity: 0.554\n",
      "Return of the Jedi (1983)\n",
      "Chain Reaction (1996)\n",
      "Cosine similarity: 0.719\n",
      "Return of the Jedi (1983)\n",
      "Island of Dr. Moreau, The (1996)\n",
      "Cosine similarity: 0.456\n",
      "Return of the Jedi (1983)\n",
      "First Kid (1996)\n",
      "Cosine similarity: 0.64\n",
      "Return of the Jedi (1983)\n",
      "Funeral, The (1996)\n",
      "Cosine similarity: 0.646\n",
      "Return of the Jedi (1983)\n",
      "Preacher's Wife, The (1996)\n",
      "Cosine similarity: 0.619\n",
      "Return of the Jedi (1983)\n",
      "Paradise Road (1997)\n",
      "Cosine similarity: 0.696\n",
      "Return of the Jedi (1983)\n",
      "Brassed Off (1996)\n",
      "Cosine similarity: 0.683\n",
      "Return of the Jedi (1983)\n",
      "Thousand Acres, A (1997)\n",
      "Cosine similarity: 0.637\n",
      "Return of the Jedi (1983)\n",
      "Smile Like Yours, A (1997)\n",
      "Cosine similarity: 0.656\n",
      "Return of the Jedi (1983)\n",
      "Murder in the First (1995)\n",
      "Cosine similarity: 0.63\n",
      "Return of the Jedi (1983)\n",
      "Airheads (1994)\n",
      "Cosine similarity: 0.599\n",
      "Return of the Jedi (1983)\n",
      "With Honors (1994)\n",
      "Cosine similarity: 0.475\n",
      "Return of the Jedi (1983)\n",
      "What's Love Got to Do with It (1993)\n",
      "Cosine similarity: 0.806\n",
      "Return of the Jedi (1983)\n",
      "Killing Zoe (1994)\n",
      "Cosine similarity: 0.653\n",
      "Return of the Jedi (1983)\n",
      "Renaissance Man (1994)\n",
      "Cosine similarity: 0.614\n",
      "Return of the Jedi (1983)\n",
      "Charade (1963)\n",
      "Cosine similarity: 0.661\n",
      "Return of the Jedi (1983)\n",
      "Fox and the Hound, The (1981)\n",
      "Cosine similarity: 0.728\n",
      "Return of the Jedi (1983)\n",
      "Big Blue, The (Grand bleu, Le) (1988)\n",
      "Cosine similarity: 0.539\n",
      "Return of the Jedi (1983)\n",
      "Booty Call (1997)\n",
      "Cosine similarity: 0.367\n",
      "Return of the Jedi (1983)\n",
      "How to Make an American Quilt (1995)\n",
      "Cosine similarity: 0.645\n",
      "Return of the Jedi (1983)\n",
      "Georgia (1995)\n",
      "Cosine similarity: 0.694\n",
      "Return of the Jedi (1983)\n",
      "Indian in the Cupboard, The (1995)\n",
      "Cosine similarity: 0.603\n",
      "Return of the Jedi (1983)\n",
      "Blue in the Face (1995)\n",
      "Cosine similarity: 0.616\n",
      "Return of the Jedi (1983)\n",
      "Unstrung Heroes (1995)\n",
      "Cosine similarity: 0.552\n",
      "Return of the Jedi (1983)\n",
      "Unzipped (1995)\n",
      "Cosine similarity: 0.654\n",
      "Return of the Jedi (1983)\n",
      "Before Sunrise (1995)\n",
      "Cosine similarity: 0.66\n",
      "Return of the Jedi (1983)\n",
      "Nobody's Fool (1994)\n",
      "Cosine similarity: 0.657\n",
      "Return of the Jedi (1983)\n",
      "Pushing Hands (1992)\n",
      "Cosine similarity: 0.672\n",
      "Return of the Jedi (1983)\n",
      "To Live (Huozhe) (1994)\n",
      "Cosine similarity: 0.633\n",
      "Return of the Jedi (1983)\n",
      "Dazed and Confused (1993)\n",
      "Cosine similarity: 0.66\n",
      "Return of the Jedi (1983)\n",
      "Naked (1993)\n",
      "Cosine similarity: 0.608\n",
      "Return of the Jedi (1983)\n",
      "Orlando (1993)\n",
      "Cosine similarity: 0.437\n",
      "Return of the Jedi (1983)\n",
      "Ruby in Paradise (1993)\n",
      "Cosine similarity: 0.611\n",
      "Return of the Jedi (1983)\n",
      "Some Folks Call It a Sling Blade (1993)\n",
      "Cosine similarity: 0.733\n",
      "Return of the Jedi (1983)\n",
      "Month by the Lake, A (1995)\n",
      "Cosine similarity: 0.592\n",
      "Return of the Jedi (1983)\n",
      "Funny Face (1957)\n",
      "Cosine similarity: 0.5\n",
      "Return of the Jedi (1983)\n",
      "Affair to Remember, An (1957)\n",
      "Cosine similarity: 0.639\n",
      "Return of the Jedi (1983)\n",
      "Little Lord Fauntleroy (1936)\n",
      "Cosine similarity: 0.651\n",
      "Return of the Jedi (1983)\n",
      "Inspector General, The (1949)\n",
      "Cosine similarity: 0.652\n",
      "Return of the Jedi (1983)\n",
      "Winnie the Pooh and the Blustery Day (1968)\n",
      "Cosine similarity: 0.593\n",
      "Return of the Jedi (1983)\n",
      "Hear My Song (1991)\n",
      "Cosine similarity: 0.554\n",
      "Return of the Jedi (1983)\n",
      "Mediterraneo (1991)\n",
      "Cosine similarity: 0.635\n",
      "Return of the Jedi (1983)\n",
      "Passion Fish (1992)\n",
      "Cosine similarity: 0.522\n",
      "Return of the Jedi (1983)\n",
      "Grateful Dead (1995)\n",
      "Cosine similarity: 0.68\n",
      "Return of the Jedi (1983)\n",
      "Eye for an Eye (1996)\n",
      "Cosine similarity: 0.682\n",
      "Return of the Jedi (1983)\n",
      "Fear (1996)\n",
      "Cosine similarity: 0.64\n",
      "Return of the Jedi (1983)\n",
      "Solo (1996)\n",
      "Cosine similarity: 0.554\n",
      "Return of the Jedi (1983)\n",
      "Substitute, The (1996)\n",
      "Cosine similarity: 0.437\n",
      "Return of the Jedi (1983)\n",
      "Heaven's Prisoners (1996)\n",
      "Cosine similarity: 0.519\n",
      "Return of the Jedi (1983)\n",
      "Trigger Effect, The (1996)\n",
      "Cosine similarity: 0.728\n",
      "Return of the Jedi (1983)\n",
      "Mother Night (1996)\n",
      "Cosine similarity: 0.552\n",
      "Return of the Jedi (1983)\n",
      "Dangerous Ground (1997)\n",
      "Cosine similarity: 0.636\n",
      "Return of the Jedi (1983)\n",
      "Maximum Risk (1996)\n",
      "Cosine similarity: 0.7\n",
      "Return of the Jedi (1983)\n",
      "Rich Man's Wife, The (1996)\n",
      "Cosine similarity: 0.603\n",
      "Return of the Jedi (1983)\n",
      "Shadow Conspiracy (1997)\n",
      "Cosine similarity: 0.574\n",
      "Return of the Jedi (1983)\n",
      "Blood & Wine (1997)\n",
      "Cosine similarity: 0.564\n",
      "Return of the Jedi (1983)\n",
      "Turbulence (1997)\n",
      "Cosine similarity: 0.493\n",
      "Return of the Jedi (1983)\n",
      "Underworld (1997)\n",
      "Cosine similarity: 0.467\n",
      "Return of the Jedi (1983)\n",
      "Beautician and the Beast, The (1997)\n",
      "Cosine similarity: 0.393\n",
      "Return of the Jedi (1983)\n",
      "Cats Don't Dance (1997)\n",
      "Cosine similarity: 0.493\n",
      "Return of the Jedi (1983)\n",
      "Anna Karenina (1997)\n",
      "Cosine similarity: 0.505\n",
      "Return of the Jedi (1983)\n",
      "Keys to Tulsa (1997)\n",
      "Cosine similarity: 0.379\n",
      "Return of the Jedi (1983)\n",
      "Head Above Water (1996)\n",
      "Cosine similarity: 0.597\n",
      "Return of the Jedi (1983)\n",
      "Hercules (1997)\n",
      "Cosine similarity: 0.753\n",
      "Return of the Jedi (1983)\n",
      "Last Time I Committed Suicide, The (1997)\n",
      "Cosine similarity: 0.567\n",
      "Return of the Jedi (1983)\n",
      "Kiss Me, Guido (1997)\n",
      "Cosine similarity: 0.568\n",
      "Return of the Jedi (1983)\n",
      "Big Green, The (1995)\n",
      "Cosine similarity: 0.603\n",
      "Return of the Jedi (1983)\n",
      "Stuart Saves His Family (1995)\n",
      "Cosine similarity: 0.56\n",
      "Return of the Jedi (1983)\n",
      "Cabin Boy (1994)\n",
      "Cosine similarity: 0.527\n",
      "Return of the Jedi (1983)\n",
      "Clean Slate (1994)\n",
      "Cosine similarity: 0.586\n",
      "Return of the Jedi (1983)\n",
      "Lightning Jack (1994)\n",
      "Cosine similarity: 0.633\n",
      "Return of the Jedi (1983)\n",
      "Stupids, The (1996)\n",
      "Cosine similarity: 0.535\n",
      "Return of the Jedi (1983)\n",
      "Pest, The (1997)\n",
      "Cosine similarity: 0.506\n",
      "Return of the Jedi (1983)\n",
      "That Darn Cat! (1997)\n",
      "Cosine similarity: 0.426\n",
      "Return of the Jedi (1983)\n",
      "Geronimo: An American Legend (1993)\n",
      "Cosine similarity: 0.575\n",
      "Return of the Jedi (1983)\n",
      "Double vie de Véronique, La (Double Life of Veronique, The) (1991)\n",
      "Cosine similarity: 0.699\n",
      "Return of the Jedi (1983)\n",
      "Until the End of the World (Bis ans Ende der Welt) (1991)\n",
      "Cosine similarity: 0.581\n",
      "Return of the Jedi (1983)\n",
      "Waiting for Guffman (1996)\n",
      "Cosine similarity: 0.651\n",
      "Return of the Jedi (1983)\n",
      "I Shot Andy Warhol (1996)\n",
      "Cosine similarity: 0.595\n",
      "Return of the Jedi (1983)\n",
      "Stealing Beauty (1996)\n",
      "Cosine similarity: 0.521\n",
      "Return of the Jedi (1983)\n",
      "Basquiat (1996)\n",
      "Cosine similarity: 0.567\n",
      "Return of the Jedi (1983)\n",
      "2 Days in the Valley (1996)\n",
      "Cosine similarity: 0.572\n",
      "Return of the Jedi (1983)\n",
      "Private Parts (1997)\n",
      "Cosine similarity: 0.795\n",
      "Return of the Jedi (1983)\n",
      "Anaconda (1997)\n",
      "Cosine similarity: 0.533\n",
      "Return of the Jedi (1983)\n",
      "Romy and Michele's High School Reunion (1997)\n",
      "Cosine similarity: 0.677\n",
      "Return of the Jedi (1983)\n",
      "Shiloh (1997)\n",
      "Cosine similarity: 0.593\n",
      "Return of the Jedi (1983)\n",
      "Con Air (1997)\n",
      "Cosine similarity: 0.697\n",
      "Return of the Jedi (1983)\n",
      "Trees Lounge (1996)\n",
      "Cosine similarity: 0.579\n",
      "Return of the Jedi (1983)\n",
      "Tie Me Up! Tie Me Down! (1990)\n",
      "Cosine similarity: 0.746\n",
      "Return of the Jedi (1983)\n",
      "Die xue shuang xiong (Killer, The) (1989)\n",
      "Cosine similarity: 0.663\n",
      "Return of the Jedi (1983)\n",
      "Gaslight (1944)\n",
      "Cosine similarity: 0.588\n",
      "Return of the Jedi (1983)\n",
      "8 1/2 (1963)\n",
      "Cosine similarity: 0.521\n",
      "Return of the Jedi (1983)\n",
      "Fast, Cheap & Out of Control (1997)\n",
      "Cosine similarity: 0.614\n",
      "Return of the Jedi (1983)\n",
      "Fathers' Day (1997)\n",
      "Cosine similarity: 0.614\n",
      "Return of the Jedi (1983)\n",
      "Mrs. Dalloway (1997)\n",
      "Cosine similarity: 0.539\n",
      "Return of the Jedi (1983)\n",
      "Fire Down Below (1997)\n",
      "Cosine similarity: 0.529\n",
      "Return of the Jedi (1983)\n",
      "Lay of the Land, The (1997)\n",
      "Cosine similarity: 0.563\n",
      "Return of the Jedi (1983)\n",
      "Shooter, The (1995)\n",
      "Cosine similarity: 0.719\n",
      "Return of the Jedi (1983)\n",
      "Grumpier Old Men (1995)\n",
      "Cosine similarity: 0.522\n",
      "Return of the Jedi (1983)\n",
      "Jury Duty (1995)\n",
      "Cosine similarity: 0.555\n",
      "Return of the Jedi (1983)\n",
      "Beverly Hillbillies, The (1993)\n",
      "Cosine similarity: 0.598\n",
      "Return of the Jedi (1983)\n",
      "Lassie (1994)\n",
      "Cosine similarity: 0.574\n",
      "Return of the Jedi (1983)\n",
      "Little Big League (1994)\n",
      "Cosine similarity: 0.678\n",
      "Return of the Jedi (1983)\n",
      "Homeward Bound II: Lost in San Francisco (1996)\n",
      "Cosine similarity: 0.368\n",
      "Return of the Jedi (1983)\n",
      "Quest, The (1996)\n",
      "Cosine similarity: 0.545\n",
      "Return of the Jedi (1983)\n",
      "Cool Runnings (1993)\n",
      "Cosine similarity: 0.676\n",
      "Return of the Jedi (1983)\n",
      "Drop Dead Fred (1991)\n",
      "Cosine similarity: 0.344\n",
      "Return of the Jedi (1983)\n",
      "Grease 2 (1982)\n",
      "Cosine similarity: 0.607\n",
      "Return of the Jedi (1983)\n",
      "Switchback (1997)\n",
      "Cosine similarity: 0.498\n",
      "Return of the Jedi (1983)\n",
      "Hamlet (1996)\n",
      "Cosine similarity: 0.745\n",
      "Return of the Jedi (1983)\n",
      "Two if by Sea (1996)\n",
      "Cosine similarity: 0.533\n",
      "Return of the Jedi (1983)\n",
      "Forget Paris (1995)\n",
      "Cosine similarity: 0.647\n",
      "Return of the Jedi (1983)\n",
      "Just Cause (1995)\n",
      "Cosine similarity: 0.542\n",
      "Return of the Jedi (1983)\n",
      "Rent-a-Kid (1995)\n",
      "Cosine similarity: 0.543\n",
      "Return of the Jedi (1983)\n",
      "Paper, The (1994)\n",
      "Cosine similarity: 0.617\n",
      "Return of the Jedi (1983)\n",
      "Fearless (1993)\n",
      "Cosine similarity: 0.518\n",
      "Return of the Jedi (1983)\n",
      "Malice (1993)\n",
      "Cosine similarity: 0.631\n",
      "Return of the Jedi (1983)\n",
      "Multiplicity (1996)\n",
      "Cosine similarity: 0.731\n",
      "Return of the Jedi (1983)\n",
      "She's the One (1996)\n",
      "Cosine similarity: 0.583\n",
      "Return of the Jedi (1983)\n",
      "House Arrest (1996)\n",
      "Cosine similarity: 0.626\n",
      "Return of the Jedi (1983)\n",
      "Ghost and Mrs. Muir, The (1947)\n",
      "Cosine similarity: 0.634\n",
      "Return of the Jedi (1983)\n",
      "Associate, The (1996)\n",
      "Cosine similarity: 0.592\n",
      "Return of the Jedi (1983)\n",
      "Dracula: Dead and Loving It (1995)\n",
      "Cosine similarity: 0.494\n",
      "Return of the Jedi (1983)\n",
      "Now and Then (1995)\n",
      "Cosine similarity: 0.655\n",
      "Return of the Jedi (1983)\n",
      "Mr. Wrong (1996)\n",
      "Cosine similarity: 0.653\n",
      "Return of the Jedi (1983)\n",
      "Simple Twist of Fate, A (1994)\n",
      "Cosine similarity: 0.612\n",
      "Return of the Jedi (1983)\n",
      "Cronos (1992)\n",
      "Cosine similarity: 0.734\n",
      "Return of the Jedi (1983)\n",
      "Pallbearer, The (1996)\n",
      "Cosine similarity: 0.631\n",
      "Return of the Jedi (1983)\n",
      "War, The (1994)\n",
      "Cosine similarity: 0.643\n",
      "Return of the Jedi (1983)\n",
      "Don't Be a Menace to South Central While Drinking Your Juice in the Hood (1996)\n",
      "Cosine similarity: 0.539\n",
      "Return of the Jedi (1983)\n",
      "Adventures of Pinocchio, The (1996)\n",
      "Cosine similarity: 0.527\n",
      "Return of the Jedi (1983)\n",
      "Evening Star, The (1996)\n",
      "Cosine similarity: 0.714\n",
      "Return of the Jedi (1983)\n",
      "Four Days in September (1997)\n",
      "Cosine similarity: 0.617\n",
      "Return of the Jedi (1983)\n",
      "Little Princess, A (1995)\n",
      "Cosine similarity: 0.738\n",
      "Return of the Jedi (1983)\n",
      "Crossfire (1947)\n",
      "Cosine similarity: 0.667\n",
      "Return of the Jedi (1983)\n",
      "Koyaanisqatsi (1983)\n",
      "Cosine similarity: 0.51\n",
      "Return of the Jedi (1983)\n",
      "Balto (1995)\n",
      "Cosine similarity: 0.563\n",
      "Return of the Jedi (1983)\n",
      "Bottle Rocket (1996)\n",
      "Cosine similarity: 0.614\n",
      "Return of the Jedi (1983)\n",
      "Star Maker, The (Uomo delle stelle, L') (1995)\n",
      "Cosine similarity: 0.59\n",
      "Return of the Jedi (1983)\n",
      "Amateur (1994)\n",
      "Cosine similarity: 0.684\n",
      "Return of the Jedi (1983)\n",
      "Living in Oblivion (1995)\n",
      "Cosine similarity: 0.612\n",
      "Return of the Jedi (1983)\n",
      "Party Girl (1995)\n",
      "Cosine similarity: 0.389\n",
      "Return of the Jedi (1983)\n",
      "Pyromaniac's Love Story, A (1995)\n",
      "Cosine similarity: 0.691\n",
      "Return of the Jedi (1983)\n",
      "Shallow Grave (1994)\n",
      "Cosine similarity: 0.606\n",
      "Return of the Jedi (1983)\n",
      "Reality Bites (1994)\n",
      "Cosine similarity: 0.662\n",
      "Return of the Jedi (1983)\n",
      "Man of No Importance, A (1994)\n",
      "Cosine similarity: 0.635\n",
      "Return of the Jedi (1983)\n",
      "Pagemaster, The (1994)\n",
      "Cosine similarity: 0.571\n",
      "Return of the Jedi (1983)\n",
      "Love and a .45 (1994)\n",
      "Cosine similarity: 0.511\n",
      "Return of the Jedi (1983)\n",
      "Oliver & Company (1988)\n",
      "Cosine similarity: 0.63\n",
      "Return of the Jedi (1983)\n",
      "Joe's Apartment (1996)\n",
      "Cosine similarity: 0.676\n",
      "Return of the Jedi (1983)\n",
      "Celestial Clockwork (1994)\n",
      "Cosine similarity: 0.671\n",
      "Return of the Jedi (1983)\n",
      "Curdled (1996)\n",
      "Cosine similarity: 0.538\n",
      "Return of the Jedi (1983)\n",
      "Female Perversions (1996)\n",
      "Cosine similarity: 0.551\n",
      "Return of the Jedi (1983)\n",
      "Albino Alligator (1996)\n",
      "Cosine similarity: 0.678\n",
      "Return of the Jedi (1983)\n",
      "Anne Frank Remembered (1995)\n",
      "Cosine similarity: 0.562\n",
      "Return of the Jedi (1983)\n",
      "Carried Away (1996)\n",
      "Cosine similarity: 0.497\n",
      "Return of the Jedi (1983)\n",
      "It's My Party (1995)\n",
      "Cosine similarity: 0.592\n",
      "Return of the Jedi (1983)\n",
      "Bloodsport 2 (1995)\n",
      "Cosine similarity: 0.501\n",
      "Return of the Jedi (1983)\n",
      "Double Team (1997)\n",
      "Cosine similarity: 0.537\n",
      "Return of the Jedi (1983)\n",
      "Speed 2: Cruise Control (1997)\n",
      "Cosine similarity: 0.568\n",
      "Return of the Jedi (1983)\n",
      "Sliver (1993)\n",
      "Cosine similarity: 0.55\n",
      "Return of the Jedi (1983)\n",
      "Pete's Dragon (1977)\n",
      "Cosine similarity: 0.585\n",
      "Return of the Jedi (1983)\n",
      "Dear God (1996)\n",
      "Cosine similarity: 0.644\n",
      "Return of the Jedi (1983)\n",
      "Live Nude Girls (1995)\n",
      "Cosine similarity: 0.605\n",
      "Return of the Jedi (1983)\n",
      "Thin Line Between Love and Hate, A (1996)\n",
      "Cosine similarity: 0.571\n",
      "Return of the Jedi (1983)\n",
      "High School High (1996)\n",
      "Cosine similarity: 0.607\n",
      "Return of the Jedi (1983)\n",
      "Commandments (1997)\n",
      "Cosine similarity: 0.688\n",
      "Return of the Jedi (1983)\n",
      "Hate (Haine, La) (1995)\n",
      "Cosine similarity: 0.46\n",
      "Return of the Jedi (1983)\n",
      "Flirting With Disaster (1996)\n",
      "Cosine similarity: 0.701\n",
      "Return of the Jedi (1983)\n",
      "Red Firecracker, Green Firecracker (1994)\n",
      "Cosine similarity: 0.575\n",
      "Return of the Jedi (1983)\n",
      "What Happened Was... (1994)\n",
      "Cosine similarity: 0.581\n",
      "Return of the Jedi (1983)\n",
      "Six Degrees of Separation (1993)\n",
      "Cosine similarity: 0.63\n",
      "Return of the Jedi (1983)\n",
      "Two Much (1996)\n",
      "Cosine similarity: 0.581\n",
      "Return of the Jedi (1983)\n",
      "Trust (1990)\n",
      "Cosine similarity: 0.639\n",
      "Return of the Jedi (1983)\n",
      "C'est arrivé près de chez vous (1992)\n",
      "Cosine similarity: 0.555\n",
      "Return of the Jedi (1983)\n",
      "Firestorm (1998)\n",
      "Cosine similarity: 0.564\n",
      "Return of the Jedi (1983)\n",
      "Newton Boys, The (1998)\n",
      "Cosine similarity: 0.544\n",
      "Return of the Jedi (1983)\n",
      "Beyond Rangoon (1995)\n",
      "Cosine similarity: 0.775\n",
      "Return of the Jedi (1983)\n",
      "Feast of July (1995)\n",
      "Cosine similarity: 0.576\n",
      "Return of the Jedi (1983)\n",
      "Death and the Maiden (1994)\n",
      "Cosine similarity: 0.57\n",
      "Return of the Jedi (1983)\n",
      "Tank Girl (1995)\n",
      "Cosine similarity: 0.546\n",
      "Return of the Jedi (1983)\n",
      "Double Happiness (1994)\n",
      "Cosine similarity: 0.631\n",
      "Return of the Jedi (1983)\n",
      "Cobb (1994)\n",
      "Cosine similarity: 0.614\n",
      "Return of the Jedi (1983)\n",
      "Mrs. Parker and the Vicious Circle (1994)\n",
      "Cosine similarity: 0.718\n",
      "Return of the Jedi (1983)\n",
      "Faithful (1996)\n",
      "Cosine similarity: 0.556\n",
      "Return of the Jedi (1983)\n",
      "Twelfth Night (1996)\n",
      "Cosine similarity: 0.55\n",
      "Return of the Jedi (1983)\n",
      "Mark of Zorro, The (1940)\n",
      "Cosine similarity: 0.695\n",
      "Return of the Jedi (1983)\n",
      "Surviving Picasso (1996)\n",
      "Cosine similarity: 0.655\n",
      "Return of the Jedi (1983)\n",
      "Up in Smoke (1978)\n",
      "Cosine similarity: 0.615\n",
      "Return of the Jedi (1983)\n",
      "Some Kind of Wonderful (1987)\n",
      "Cosine similarity: 0.723\n",
      "Return of the Jedi (1983)\n",
      "I'm Not Rappaport (1996)\n",
      "Cosine similarity: 0.627\n",
      "Return of the Jedi (1983)\n",
      "Umbrellas of Cherbourg, The (Parapluies de Cherbourg, Les) (1964)\n",
      "Cosine similarity: 0.54\n",
      "Return of the Jedi (1983)\n",
      "They Made Me a Criminal (1939)\n",
      "Cosine similarity: 0.634\n",
      "Return of the Jedi (1983)\n",
      "Last Time I Saw Paris, The (1954)\n",
      "Cosine similarity: 0.715\n",
      "Return of the Jedi (1983)\n",
      "Farewell to Arms, A (1932)\n",
      "Cosine similarity: 0.677\n",
      "Return of the Jedi (1983)\n",
      "Innocents, The (1961)\n",
      "Cosine similarity: 0.656\n",
      "Return of the Jedi (1983)\n",
      "Old Man and the Sea, The (1958)\n",
      "Cosine similarity: 0.548\n",
      "Return of the Jedi (1983)\n",
      "Truman Show, The (1998)\n",
      "Cosine similarity: 0.597\n",
      "Return of the Jedi (1983)\n",
      "Heidi Fleiss: Hollywood Madam (1995) \n",
      "Cosine similarity: 0.497\n",
      "Return of the Jedi (1983)\n",
      "Chungking Express (1994)\n",
      "Cosine similarity: 0.654\n",
      "Return of the Jedi (1983)\n",
      "Jupiter's Wife (1994)\n",
      "Cosine similarity: 0.684\n",
      "Return of the Jedi (1983)\n",
      "Safe (1995)\n",
      "Cosine similarity: 0.59\n",
      "Return of the Jedi (1983)\n",
      "Feeling Minnesota (1996)\n",
      "Cosine similarity: 0.579\n",
      "Return of the Jedi (1983)\n",
      "Escape to Witch Mountain (1975)\n",
      "Cosine similarity: 0.682\n",
      "Return of the Jedi (1983)\n",
      "Get on the Bus (1996)\n",
      "Cosine similarity: 0.611\n",
      "Return of the Jedi (1983)\n",
      "Doors, The (1991)\n",
      "Cosine similarity: 0.591\n",
      "Return of the Jedi (1983)\n",
      "Ghosts of Mississippi (1996)\n",
      "Cosine similarity: 0.644\n",
      "Return of the Jedi (1983)\n",
      "Beautiful Thing (1996)\n",
      "Cosine similarity: 0.5\n",
      "Return of the Jedi (1983)\n",
      "Best Men (1997)\n",
      "Cosine similarity: 0.722\n",
      "Return of the Jedi (1983)\n",
      "Hackers (1995)\n",
      "Cosine similarity: 0.617\n",
      "Return of the Jedi (1983)\n",
      "Road to Wellville, The (1994)\n",
      "Cosine similarity: 0.481\n",
      "Return of the Jedi (1983)\n",
      "War Room, The (1993)\n",
      "Cosine similarity: 0.652\n",
      "Return of the Jedi (1983)\n",
      "When We Were Kings (1996)\n",
      "Cosine similarity: 0.712\n",
      "Return of the Jedi (1983)\n",
      "Hard Eight (1996)\n",
      "Cosine similarity: 0.61\n",
      "Return of the Jedi (1983)\n",
      "Quiet Room, The (1996)\n",
      "Cosine similarity: 0.634\n",
      "Return of the Jedi (1983)\n",
      "Blue Chips (1994)\n",
      "Cosine similarity: 0.652\n",
      "Return of the Jedi (1983)\n",
      "Calendar Girl (1993)\n",
      "Cosine similarity: 0.648\n",
      "Return of the Jedi (1983)\n",
      "My Family (1995)\n",
      "Cosine similarity: 0.574\n",
      "Return of the Jedi (1983)\n",
      "Tom & Viv (1994)\n",
      "Cosine similarity: 0.492\n",
      "Return of the Jedi (1983)\n",
      "Walkabout (1971)\n",
      "Cosine similarity: 0.721\n",
      "Return of the Jedi (1983)\n",
      "Last Dance (1996)\n",
      "Cosine similarity: 0.617\n",
      "Return of the Jedi (1983)\n",
      "Original Gangstas (1996)\n",
      "Cosine similarity: 0.538\n",
      "Return of the Jedi (1983)\n",
      "In Love and War (1996)\n",
      "Cosine similarity: 0.677\n",
      "Return of the Jedi (1983)\n",
      "Backbeat (1993)\n",
      "Cosine similarity: 0.611\n",
      "Return of the Jedi (1983)\n",
      "Alphaville (1965)\n",
      "Cosine similarity: 0.56\n",
      "Return of the Jedi (1983)\n",
      "Rendezvous in Paris (Rendez-vous de Paris, Les) (1995)\n",
      "Cosine similarity: -0.13\n",
      "Return of the Jedi (1983)\n",
      "Cyclo (1995)\n",
      "Cosine similarity: 0.652\n",
      "Return of the Jedi (1983)\n",
      "Relic, The (1997)\n",
      "Cosine similarity: 0.409\n",
      "Return of the Jedi (1983)\n",
      "Fille seule, La (A Single Girl) (1995)\n",
      "Cosine similarity: 0.671\n",
      "Return of the Jedi (1983)\n",
      "Stalker (1979)\n",
      "Cosine similarity: 0.655\n",
      "Return of the Jedi (1983)\n",
      "Love! Valour! Compassion! (1997)\n",
      "Cosine similarity: 0.526\n",
      "Return of the Jedi (1983)\n",
      "Palookaville (1996)\n",
      "Cosine similarity: 0.592\n",
      "Return of the Jedi (1983)\n",
      "Phat Beach (1996)\n",
      "Cosine similarity: 0.463\n",
      "Return of the Jedi (1983)\n",
      "Portrait of a Lady, The (1996)\n",
      "Cosine similarity: 0.692\n",
      "Return of the Jedi (1983)\n",
      "Zeus and Roxanne (1997)\n",
      "Cosine similarity: 0.661\n",
      "Return of the Jedi (1983)\n",
      "Big Bully (1996)\n",
      "Cosine similarity: 0.653\n",
      "Return of the Jedi (1983)\n",
      "Love & Human Remains (1993)\n",
      "Cosine similarity: 0.625\n",
      "Return of the Jedi (1983)\n",
      "Sum of Us, The (1994)\n",
      "Cosine similarity: 0.654\n",
      "Return of the Jedi (1983)\n",
      "Little Buddha (1993)\n",
      "Cosine similarity: 0.594\n",
      "Return of the Jedi (1983)\n",
      "Fresh (1994)\n",
      "Cosine similarity: 0.602\n",
      "Return of the Jedi (1983)\n",
      "Spanking the Monkey (1994)\n",
      "Cosine similarity: 0.449\n",
      "Return of the Jedi (1983)\n",
      "Wild Reeds (1994)\n",
      "Cosine similarity: 0.6\n",
      "Return of the Jedi (1983)\n",
      "Women, The (1939)\n",
      "Cosine similarity: 0.674\n",
      "Return of the Jedi (1983)\n",
      "Bliss (1997)\n",
      "Cosine similarity: 0.703\n",
      "Return of the Jedi (1983)\n",
      "Caught (1996)\n",
      "Cosine similarity: 0.638\n",
      "Return of the Jedi (1983)\n",
      "Hugo Pool (1997)\n",
      "Cosine similarity: 0.526\n",
      "Return of the Jedi (1983)\n",
      "Welcome To Sarajevo (1997)\n",
      "Cosine similarity: 0.568\n",
      "Return of the Jedi (1983)\n",
      "Dunston Checks In (1996)\n",
      "Cosine similarity: 0.424\n",
      "Return of the Jedi (1983)\n",
      "Major Payne (1994)\n",
      "Cosine similarity: 0.486\n",
      "Return of the Jedi (1983)\n",
      "Man of the House (1995)\n",
      "Cosine similarity: 0.504\n",
      "Return of the Jedi (1983)\n",
      "I Love Trouble (1994)\n",
      "Cosine similarity: 0.625\n",
      "Return of the Jedi (1983)\n",
      "Low Down Dirty Shame, A (1994)\n",
      "Cosine similarity: 0.667\n",
      "Return of the Jedi (1983)\n",
      "Cops and Robbersons (1994)\n",
      "Cosine similarity: 0.499\n",
      "Return of the Jedi (1983)\n",
      "Cowboy Way, The (1994)\n",
      "Cosine similarity: 0.456\n",
      "Return of the Jedi (1983)\n",
      "Endless Summer 2, The (1994)\n",
      "Cosine similarity: 0.606\n",
      "Return of the Jedi (1983)\n",
      "In the Army Now (1994)\n",
      "Cosine similarity: 0.594\n",
      "Return of the Jedi (1983)\n",
      "Inkwell, The (1994)\n",
      "Cosine similarity: 0.638\n",
      "Return of the Jedi (1983)\n",
      "Switchblade Sisters (1975)\n",
      "Cosine similarity: 0.535\n",
      "Return of the Jedi (1983)\n",
      "Young Guns II (1990)\n",
      "Cosine similarity: 0.47\n",
      "Return of the Jedi (1983)\n",
      "Prefontaine (1997)\n",
      "Cosine similarity: 0.685\n",
      "Return of the Jedi (1983)\n",
      "That Old Feeling (1997)\n",
      "Cosine similarity: 0.751\n",
      "Return of the Jedi (1983)\n",
      "Letter From Death Row, A (1998)\n",
      "Cosine similarity: 0.608\n",
      "Return of the Jedi (1983)\n",
      "Boys of St. Vincent, The (1993)\n",
      "Cosine similarity: 0.716\n",
      "Return of the Jedi (1983)\n",
      "Before the Rain (Pred dozhdot) (1994)\n",
      "Cosine similarity: 0.672\n",
      "Return of the Jedi (1983)\n",
      "Once Were Warriors (1994)\n",
      "Cosine similarity: 0.651\n",
      "Return of the Jedi (1983)\n",
      "Strawberry and Chocolate (Fresa y chocolate) (1993)\n",
      "Cosine similarity: 0.542\n",
      "Return of the Jedi (1983)\n",
      "Savage Nights (Nuits fauves, Les) (1992)\n",
      "Cosine similarity: 0.641\n",
      "Return of the Jedi (1983)\n",
      "Family Thing, A (1996)\n",
      "Cosine similarity: 0.631\n",
      "Return of the Jedi (1983)\n",
      "Purple Noon (1960)\n",
      "Cosine similarity: 0.604\n",
      "Return of the Jedi (1983)\n",
      "Cemetery Man (Dellamorte Dellamore) (1994)\n",
      "Cosine similarity: 0.582\n",
      "Return of the Jedi (1983)\n",
      "Kim (1950)\n",
      "Cosine similarity: 0.667\n",
      "Return of the Jedi (1983)\n",
      "Marlene Dietrich: Shadow and Light (1996) \n",
      "Cosine similarity: -0.0686\n",
      "Return of the Jedi (1983)\n",
      "Maybe, Maybe Not (Bewegte Mann, Der) (1994)\n",
      "Cosine similarity: 0.557\n",
      "Return of the Jedi (1983)\n",
      "Top Hat (1935)\n",
      "Cosine similarity: 0.613\n",
      "Return of the Jedi (1983)\n",
      "To Be or Not to Be (1942)\n",
      "Cosine similarity: 0.603\n",
      "Return of the Jedi (1983)\n",
      "Secret Agent, The (1996)\n",
      "Cosine similarity: 0.7\n",
      "Return of the Jedi (1983)\n",
      "Amos & Andrew (1993)\n",
      "Cosine similarity: 0.598\n",
      "Return of the Jedi (1983)\n",
      "Jade (1995)\n",
      "Cosine similarity: 0.504\n",
      "Return of the Jedi (1983)\n",
      "Kiss of Death (1995)\n",
      "Cosine similarity: 0.624\n",
      "Return of the Jedi (1983)\n",
      "Mixed Nuts (1994)\n",
      "Cosine similarity: 0.617\n",
      "Return of the Jedi (1983)\n",
      "Virtuosity (1995)\n",
      "Cosine similarity: 0.539\n",
      "Return of the Jedi (1983)\n",
      "Blue Sky (1994)\n",
      "Cosine similarity: 0.557\n",
      "Return of the Jedi (1983)\n",
      "Flesh and Bone (1993)\n",
      "Cosine similarity: 0.53\n",
      "Return of the Jedi (1983)\n",
      "Guilty as Sin (1993)\n",
      "Cosine similarity: 0.378\n",
      "Return of the Jedi (1983)\n",
      "In the Realm of the Senses (Ai no corrida) (1976)\n",
      "Cosine similarity: 0.621\n",
      "Return of the Jedi (1983)\n",
      "Barb Wire (1996)\n",
      "Cosine similarity: 0.672\n",
      "Return of the Jedi (1983)\n",
      "Kissed (1996)\n",
      "Cosine similarity: 0.627\n",
      "Return of the Jedi (1983)\n",
      "Assassins (1995)\n",
      "Cosine similarity: 0.617\n",
      "Return of the Jedi (1983)\n",
      "Friday (1995)\n",
      "Cosine similarity: 0.728\n",
      "Return of the Jedi (1983)\n",
      "Goofy Movie, A (1995)\n",
      "Cosine similarity: 0.555\n",
      "Return of the Jedi (1983)\n",
      "Higher Learning (1995)\n",
      "Cosine similarity: 0.66\n",
      "Return of the Jedi (1983)\n",
      "When a Man Loves a Woman (1994)\n",
      "Cosine similarity: 0.555\n",
      "Return of the Jedi (1983)\n",
      "Judgment Night (1993)\n",
      "Cosine similarity: 0.632\n",
      "Return of the Jedi (1983)\n",
      "King of the Hill (1993)\n",
      "Cosine similarity: 0.631\n",
      "Return of the Jedi (1983)\n",
      "Scout, The (1994)\n",
      "Cosine similarity: 0.584\n",
      "Return of the Jedi (1983)\n",
      "Angus (1995)\n",
      "Cosine similarity: 0.652\n",
      "Return of the Jedi (1983)\n",
      "Night Falls on Manhattan (1997)\n",
      "Cosine similarity: 0.638\n",
      "Return of the Jedi (1983)\n",
      "Awfully Big Adventure, An (1995)\n",
      "Cosine similarity: 0.476\n",
      "Return of the Jedi (1983)\n",
      "Under Siege 2: Dark Territory (1995)\n",
      "Cosine similarity: 0.594\n",
      "Return of the Jedi (1983)\n",
      "Poison Ivy II (1995)\n",
      "Cosine similarity: 0.477\n",
      "Return of the Jedi (1983)\n",
      "Ready to Wear (Pret-A-Porter) (1994)\n",
      "Cosine similarity: 0.556\n",
      "Return of the Jedi (1983)\n",
      "Marked for Death (1990)\n",
      "Cosine similarity: 0.52\n",
      "Return of the Jedi (1983)\n",
      "Madonna: Truth or Dare (1991)\n",
      "Cosine similarity: 0.595\n",
      "Return of the Jedi (1983)\n",
      "Nénette et Boni (1996)\n",
      "Cosine similarity: 0.595\n",
      "Return of the Jedi (1983)\n",
      "Chairman of the Board (1998)\n",
      "Cosine similarity: 0.57\n",
      "Return of the Jedi (1983)\n",
      "Big Bang Theory, The (1994)\n",
      "Cosine similarity: 0.616\n",
      "Return of the Jedi (1983)\n",
      "Other Voices, Other Rooms (1997)\n",
      "Cosine similarity: -0.135\n",
      "Return of the Jedi (1983)\n",
      "Twisted (1996)\n",
      "Cosine similarity: 0.664\n",
      "Return of the Jedi (1983)\n",
      "Full Speed (1996)\n",
      "Cosine similarity: 0.67\n",
      "Return of the Jedi (1983)\n",
      "Cutthroat Island (1995)\n",
      "Cosine similarity: 0.534\n",
      "Return of the Jedi (1983)\n",
      "Ghost in the Shell (Kokaku kidotai) (1995)\n",
      "Cosine similarity: 0.597\n",
      "Return of the Jedi (1983)\n",
      "Van, The (1996)\n",
      "Cosine similarity: 0.592\n",
      "Return of the Jedi (1983)\n",
      "Old Lady Who Walked in the Sea, The (Vieille qui marchait dans la mer, La) (1991)\n",
      "Cosine similarity: 0.582\n",
      "Return of the Jedi (1983)\n",
      "Night Flier (1997)\n",
      "Cosine similarity: 0.587\n",
      "Return of the Jedi (1983)\n",
      "Metro (1997)\n",
      "Cosine similarity: 0.48\n",
      "Return of the Jedi (1983)\n",
      "Gridlock'd (1997)\n",
      "Cosine similarity: 0.593\n",
      "Return of the Jedi (1983)\n",
      "Bushwhacked (1995)\n",
      "Cosine similarity: 0.515\n",
      "Return of the Jedi (1983)\n",
      "Bad Girls (1994)\n",
      "Cosine similarity: 0.574\n",
      "Return of the Jedi (1983)\n",
      "Blink (1994)\n",
      "Cosine similarity: 0.603\n",
      "Return of the Jedi (1983)\n",
      "For Love or Money (1993)\n",
      "Cosine similarity: 0.58\n",
      "Return of the Jedi (1983)\n",
      "Best of the Best 3: No Turning Back (1995)\n",
      "Cosine similarity: 0.611\n",
      "Return of the Jedi (1983)\n",
      "A Chef in Love (1996)\n",
      "Cosine similarity: 0.666\n",
      "Return of the Jedi (1983)\n",
      "Contempt (Mépris, Le) (1963)\n",
      "Cosine similarity: 0.566\n",
      "Return of the Jedi (1983)\n",
      "Tie That Binds, The (1995)\n",
      "Cosine similarity: 0.576\n",
      "Return of the Jedi (1983)\n",
      "Gone Fishin' (1997)\n",
      "Cosine similarity: 0.493\n",
      "Return of the Jedi (1983)\n",
      "Broken English (1996)\n",
      "Cosine similarity: 0.618\n",
      "Return of the Jedi (1983)\n",
      "Designated Mourner, The (1997)\n",
      "Cosine similarity: 0.406\n",
      "Return of the Jedi (1983)\n",
      "Designated Mourner, The (1997)\n",
      "Cosine similarity: 0.547\n",
      "Return of the Jedi (1983)\n",
      "Trial and Error (1997)\n",
      "Cosine similarity: 0.49\n",
      "Return of the Jedi (1983)\n",
      "Pie in the Sky (1995)\n",
      "Cosine similarity: 0.683\n",
      "Return of the Jedi (1983)\n",
      "Total Eclipse (1995)\n",
      "Cosine similarity: 0.598\n",
      "Return of the Jedi (1983)\n",
      "Run of the Country, The (1995)\n",
      "Cosine similarity: 0.635\n",
      "Return of the Jedi (1983)\n",
      "Walking and Talking (1996)\n",
      "Cosine similarity: 0.729\n",
      "Return of the Jedi (1983)\n",
      "Foxfire (1996)\n",
      "Cosine similarity: 0.488\n",
      "Return of the Jedi (1983)\n",
      "Nothing to Lose (1994)\n",
      "Cosine similarity: 0.678\n",
      "Return of the Jedi (1983)\n",
      "Star Maps (1997)\n",
      "Cosine similarity: 0.528\n",
      "Return of the Jedi (1983)\n",
      "Bread and Chocolate (Pane e cioccolata) (1973)\n",
      "Cosine similarity: 0.566\n",
      "Return of the Jedi (1983)\n",
      "Clockers (1995)\n",
      "Cosine similarity: 0.639\n",
      "Return of the Jedi (1983)\n",
      "Bitter Moon (1992)\n",
      "Cosine similarity: 0.533\n",
      "Return of the Jedi (1983)\n",
      "Love in the Afternoon (1957)\n",
      "Cosine similarity: 0.765\n",
      "Return of the Jedi (1983)\n",
      "Life with Mikey (1993)\n",
      "Cosine similarity: 0.584\n",
      "Return of the Jedi (1983)\n",
      "North (1994)\n",
      "Cosine similarity: 0.473\n",
      "Return of the Jedi (1983)\n",
      "Talking About Sex (1994)\n",
      "Cosine similarity: 0.623\n",
      "Return of the Jedi (1983)\n",
      "Color of Night (1994)\n",
      "Cosine similarity: 0.726\n",
      "Return of the Jedi (1983)\n",
      "Robocop 3 (1993)\n",
      "Cosine similarity: 0.667\n",
      "Return of the Jedi (1983)\n",
      "Killer (Bulletproof Heart) (1994)\n",
      "Cosine similarity: 0.63\n",
      "Return of the Jedi (1983)\n",
      "Sunset Park (1996)\n",
      "Cosine similarity: 0.535\n",
      "Return of the Jedi (1983)\n",
      "Set It Off (1996)\n",
      "Cosine similarity: 0.741\n",
      "Return of the Jedi (1983)\n",
      "Selena (1997)\n",
      "Cosine similarity: 0.655\n",
      "Return of the Jedi (1983)\n",
      "Wild America (1997)\n",
      "Cosine similarity: 0.631\n",
      "Return of the Jedi (1983)\n",
      "Gang Related (1997)\n",
      "Cosine similarity: 0.461\n",
      "Return of the Jedi (1983)\n",
      "Manny & Lo (1996)\n",
      "Cosine similarity: 0.571\n",
      "Return of the Jedi (1983)\n",
      "Grass Harp, The (1995)\n",
      "Cosine similarity: 0.575\n",
      "Return of the Jedi (1983)\n",
      "Out to Sea (1997)\n",
      "Cosine similarity: 0.6\n",
      "Return of the Jedi (1983)\n",
      "Before and After (1996)\n",
      "Cosine similarity: 0.575\n",
      "Return of the Jedi (1983)\n",
      "Princess Caraboo (1994)\n",
      "Cosine similarity: 0.685\n",
      "Return of the Jedi (1983)\n",
      "Shall We Dance? (1937)\n",
      "Cosine similarity: 0.644\n",
      "Return of the Jedi (1983)\n",
      "Ed (1996)\n",
      "Cosine similarity: 0.753\n",
      "Return of the Jedi (1983)\n",
      "Denise Calls Up (1995)\n",
      "Cosine similarity: 0.693\n",
      "Return of the Jedi (1983)\n",
      "Jack and Sarah (1995)\n",
      "Cosine similarity: 0.54\n",
      "Return of the Jedi (1983)\n",
      "Country Life (1994)\n",
      "Cosine similarity: 0.383\n",
      "Return of the Jedi (1983)\n",
      "Celtic Pride (1996)\n",
      "Cosine similarity: 0.597\n",
      "Return of the Jedi (1983)\n",
      "Simple Wish, A (1997)\n",
      "Cosine similarity: 0.425\n",
      "Return of the Jedi (1983)\n",
      "Star Kid (1997)\n",
      "Cosine similarity: 0.658\n",
      "Return of the Jedi (1983)\n",
      "Ayn Rand: A Sense of Life (1997)\n",
      "Cosine similarity: 0.646\n",
      "Return of the Jedi (1983)\n",
      "Kicked in the Head (1997)\n",
      "Cosine similarity: 0.674\n",
      "Return of the Jedi (1983)\n",
      "Indian Summer (1996)\n",
      "Cosine similarity: 0.616\n",
      "Return of the Jedi (1983)\n",
      "Love Affair (1994)\n",
      "Cosine similarity: 0.533\n",
      "Return of the Jedi (1983)\n",
      "Band Wagon, The (1953)\n",
      "Cosine similarity: 0.601\n",
      "Return of the Jedi (1983)\n",
      "Penny Serenade (1941)\n",
      "Cosine similarity: 0.424\n",
      "Return of the Jedi (1983)\n",
      "'Til There Was You (1997)\n",
      "Cosine similarity: 0.677\n",
      "Return of the Jedi (1983)\n",
      "Stripes (1981)\n",
      "Cosine similarity: 0.742\n",
      "Return of the Jedi (1983)\n",
      "Late Bloomers (1996)\n",
      "Cosine similarity: 0.592\n",
      "Return of the Jedi (1983)\n",
      "Getaway, The (1994)\n",
      "Cosine similarity: 0.555\n",
      "Return of the Jedi (1983)\n",
      "New York Cop (1996)\n",
      "Cosine similarity: -0.104\n",
      "Return of the Jedi (1983)\n",
      "National Lampoon's Senior Trip (1995)\n",
      "Cosine similarity: 0.654\n",
      "Return of the Jedi (1983)\n",
      "Delta of Venus (1994)\n",
      "Cosine similarity: 0.63\n",
      "Return of the Jedi (1983)\n",
      "Carmen Miranda: Bananas Is My Business (1994)\n",
      "Cosine similarity: 0.683\n",
      "Return of the Jedi (1983)\n",
      "Babyfever (1994)\n",
      "Cosine similarity: 0.767\n",
      "Return of the Jedi (1983)\n",
      "Very Natural Thing, A (1974)\n",
      "Cosine similarity: -0.302\n",
      "Return of the Jedi (1983)\n",
      "Walk in the Sun, A (1945)\n",
      "Cosine similarity: 0.662\n",
      "Return of the Jedi (1983)\n",
      "Waiting to Exhale (1995)\n",
      "Cosine similarity: 0.586\n",
      "Return of the Jedi (1983)\n",
      "Pompatus of Love, The (1996)\n",
      "Cosine similarity: 0.644\n",
      "Return of the Jedi (1983)\n",
      "Palmetto (1998)\n",
      "Cosine similarity: 0.562\n",
      "Return of the Jedi (1983)\n",
      "Surviving the Game (1994)\n",
      "Cosine similarity: 0.65\n",
      "Return of the Jedi (1983)\n",
      "Inventing the Abbotts (1997)\n",
      "Cosine similarity: 0.699\n",
      "Return of the Jedi (1983)\n",
      "Horse Whisperer, The (1998)\n",
      "Cosine similarity: 0.591\n",
      "Return of the Jedi (1983)\n",
      "Journey of August King, The (1995)\n",
      "Cosine similarity: 0.754\n",
      "Return of the Jedi (1983)\n",
      "Catwalk (1995)\n",
      "Cosine similarity: 0.725\n",
      "Return of the Jedi (1983)\n",
      "Neon Bible, The (1995)\n",
      "Cosine similarity: 0.622\n",
      "Return of the Jedi (1983)\n",
      "Homage (1995)\n",
      "Cosine similarity: 0.664\n",
      "Return of the Jedi (1983)\n",
      "Open Season (1996)\n",
      "Cosine similarity: 0.67\n",
      "Return of the Jedi (1983)\n",
      "Metisse (Café au Lait) (1993)\n",
      "Cosine similarity: 0.66\n",
      "Return of the Jedi (1983)\n",
      "Wooden Man's Bride, The (Wu Kui) (1994)\n",
      "Cosine similarity: 0.653\n",
      "Return of the Jedi (1983)\n",
      "Loaded (1994)\n",
      "Cosine similarity: 0.587\n",
      "Return of the Jedi (1983)\n",
      "August (1996)\n",
      "Cosine similarity: 0.752\n",
      "Return of the Jedi (1983)\n",
      "Boys (1996)\n",
      "Cosine similarity: 0.644\n",
      "Return of the Jedi (1983)\n",
      "Captives (1994)\n",
      "Cosine similarity: 0.677\n",
      "Return of the Jedi (1983)\n",
      "Of Love and Shadows (1994)\n",
      "Cosine similarity: 0.541\n",
      "Return of the Jedi (1983)\n",
      "Low Life, The (1994)\n",
      "Cosine similarity: -0.0513\n",
      "Return of the Jedi (1983)\n",
      "An Unforgettable Summer (1994)\n",
      "Cosine similarity: 0.616\n",
      "Return of the Jedi (1983)\n",
      "Last Klezmer: Leopold Kozlowski, His Life and Music, The (1995)\n",
      "Cosine similarity: 0.665\n",
      "Return of the Jedi (1983)\n",
      "My Life and Times With Antonin Artaud (En compagnie d'Antonin Artaud) (1993)\n",
      "Cosine similarity: 0.651\n",
      "Return of the Jedi (1983)\n",
      "Midnight Dancers (Sibak) (1994)\n",
      "Cosine similarity: 0.595\n",
      "Return of the Jedi (1983)\n",
      "Somebody to Love (1994)\n",
      "Cosine similarity: 0.78\n",
      "Return of the Jedi (1983)\n",
      "American Buffalo (1996)\n",
      "Cosine similarity: 0.741\n",
      "Return of the Jedi (1983)\n",
      "Kazaam (1996)\n",
      "Cosine similarity: 0.606\n",
      "Return of the Jedi (1983)\n",
      "Larger Than Life (1996)\n",
      "Cosine similarity: 0.468\n",
      "Return of the Jedi (1983)\n",
      "Two Deaths (1995)\n",
      "Cosine similarity: 0.61\n",
      "Return of the Jedi (1983)\n",
      "Stefano Quantestorie (1993)\n",
      "Cosine similarity: 0.738\n",
      "Return of the Jedi (1983)\n",
      "Crude Oasis, The (1995)\n",
      "Cosine similarity: 0.737\n",
      "Return of the Jedi (1983)\n",
      "Hedd Wyn (1992)\n",
      "Cosine similarity: 0.669\n",
      "Return of the Jedi (1983)\n",
      "Convent, The (Convento, O) (1995)\n",
      "Cosine similarity: 0.636\n",
      "Return of the Jedi (1983)\n",
      "Lotto Land (1995)\n",
      "Cosine similarity: 0.783\n",
      "Return of the Jedi (1983)\n",
      "Story of Xinghua, The (1993)\n",
      "Cosine similarity: 0.678\n",
      "Return of the Jedi (1983)\n",
      "Day the Sun Turned Cold, The (Tianguo niezi) (1994)\n",
      "Cosine similarity: 0.74\n",
      "Return of the Jedi (1983)\n",
      "Dingo (1992)\n",
      "Cosine similarity: 0.539\n",
      "Return of the Jedi (1983)\n",
      "Ballad of Narayama, The (Narayama Bushiko) (1958)\n",
      "Cosine similarity: 0.686\n",
      "Return of the Jedi (1983)\n",
      "Every Other Weekend (1990)\n",
      "Cosine similarity: 0.79\n",
      "Return of the Jedi (1983)\n",
      "Mille bolle blu (1993)\n",
      "Cosine similarity: -0.119\n",
      "Return of the Jedi (1983)\n",
      "Crows and Sparrows (1949)\n",
      "Cosine similarity: 0.743\n",
      "Return of the Jedi (1983)\n",
      "Lover's Knot (1996)\n",
      "Cosine similarity: 0.579\n",
      "Return of the Jedi (1983)\n",
      "Shadow of Angels (Schatten der Engel) (1976)\n",
      "Cosine similarity: 0.757\n",
      "Return of the Jedi (1983)\n",
      "1-900 (1994)\n",
      "Cosine similarity: 0.557\n",
      "Return of the Jedi (1983)\n",
      "Venice/Venice (1992)\n",
      "Cosine similarity: 0.755\n",
      "Return of the Jedi (1983)\n",
      "Infinity (1996)\n",
      "Cosine similarity: 0.735\n",
      "Return of the Jedi (1983)\n",
      "Ed's Next Move (1996)\n",
      "Cosine similarity: 0.606\n",
      "Return of the Jedi (1983)\n",
      "For the Moment (1994)\n",
      "Cosine similarity: 0.751\n",
      "Return of the Jedi (1983)\n",
      "The Deadly Cure (1996)\n",
      "Cosine similarity: 0.665\n",
      "Return of the Jedi (1983)\n",
      "Boys in Venice (1996)\n",
      "Cosine similarity: 0.759\n",
      "Return of the Jedi (1983)\n",
      "Sexual Life of the Belgians, The (1994)\n",
      "Cosine similarity: 0.709\n",
      "Return of the Jedi (1983)\n",
      "Search for One-eye Jimmy, The (1996)\n",
      "Cosine similarity: 0.583\n",
      "Return of the Jedi (1983)\n",
      "American Strays (1996)\n",
      "Cosine similarity: 0.741\n",
      "Return of the Jedi (1983)\n",
      "Leopard Son, The (1996)\n",
      "Cosine similarity: 0.731\n",
      "Return of the Jedi (1983)\n",
      "Bird of Prey (1996)\n",
      "Cosine similarity: 0.119\n",
      "Return of the Jedi (1983)\n",
      "Johnny 100 Pesos (1993)\n",
      "Cosine similarity: 0.727\n",
      "Return of the Jedi (1983)\n",
      "JLG/JLG - autoportrait de décembre (1994)\n",
      "Cosine similarity: 0.767\n",
      "Return of the Jedi (1983)\n",
      "Faust (1994)\n",
      "Cosine similarity: 0.652\n",
      "Return of the Jedi (1983)\n",
      "Mina Tannenbaum (1994)\n",
      "Cosine similarity: 0.652\n",
      "Return of the Jedi (1983)\n",
      "Forbidden Christ, The (Cristo proibito, Il) (1950)\n",
      "Cosine similarity: 0.599\n",
      "Return of the Jedi (1983)\n",
      "I Can't Sleep (J'ai pas sommeil) (1994)\n",
      "Cosine similarity: 0.656\n",
      "Return of the Jedi (1983)\n",
      "Machine, The (1994)\n",
      "Cosine similarity: 0.722\n",
      "Return of the Jedi (1983)\n",
      "Stranger, The (1994)\n",
      "Cosine similarity: 0.67\n",
      "Return of the Jedi (1983)\n",
      "Good Morning (1971)\n",
      "Cosine similarity: 0.779\n",
      "Return of the Jedi (1983)\n",
      "Falling in Love Again (1980)\n",
      "Cosine similarity: 0.744\n",
      "Return of the Jedi (1983)\n",
      "Cement Garden, The (1993)\n",
      "Cosine similarity: 0.609\n",
      "Return of the Jedi (1983)\n",
      "Meet Wally Sparks (1997)\n",
      "Cosine similarity: 0.658\n",
      "Return of the Jedi (1983)\n",
      "Hotel de Love (1996)\n",
      "Cosine similarity: 0.597\n",
      "Return of the Jedi (1983)\n",
      "Rhyme & Reason (1997)\n",
      "Cosine similarity: 0.584\n",
      "Return of the Jedi (1983)\n",
      "Love and Other Catastrophes (1996)\n",
      "Cosine similarity: 0.634\n",
      "Return of the Jedi (1983)\n",
      "Hollow Reed (1996)\n",
      "Cosine similarity: 0.626\n",
      "Return of the Jedi (1983)\n",
      "Losing Chase (1996)\n",
      "Cosine similarity: 0.66\n",
      "Return of the Jedi (1983)\n",
      "Bonheur, Le (1965)\n",
      "Cosine similarity: 0.585\n",
      "Return of the Jedi (1983)\n",
      "Second Jungle Book: Mowgli & Baloo, The (1997)\n",
      "Cosine similarity: 0.401\n",
      "Return of the Jedi (1983)\n",
      "Squeeze (1996)\n",
      "Cosine similarity: 0.532\n",
      "Return of the Jedi (1983)\n",
      "Roseanna's Grave (For Roseanna) (1997)\n",
      "Cosine similarity: 0.608\n",
      "Return of the Jedi (1983)\n",
      "Tetsuo II: Body Hammer (1992)\n",
      "Cosine similarity: 0.649\n",
      "Return of the Jedi (1983)\n",
      "Fall (1997)\n",
      "Cosine similarity: 0.648\n",
      "Return of the Jedi (1983)\n",
      "Gabbeh (1996)\n",
      "Cosine similarity: 0.574\n",
      "Return of the Jedi (1983)\n",
      "Mondo (1996)\n",
      "Cosine similarity: 0.554\n",
      "Return of the Jedi (1983)\n",
      "Innocent Sleep, The (1995)\n",
      "Cosine similarity: 0.633\n",
      "Return of the Jedi (1983)\n",
      "For Ever Mozart (1996)\n",
      "Cosine similarity: 0.567\n",
      "Return of the Jedi (1983)\n",
      "Locusts, The (1997)\n",
      "Cosine similarity: 0.589\n",
      "Return of the Jedi (1983)\n",
      "Stag (1997)\n",
      "Cosine similarity: 0.664\n",
      "Return of the Jedi (1983)\n",
      "Swept from the Sea (1997)\n",
      "Cosine similarity: 0.506\n",
      "Return of the Jedi (1983)\n",
      "Hurricane Streets (1998)\n",
      "Cosine similarity: 0.532\n",
      "Return of the Jedi (1983)\n",
      "Stonewall (1995)\n",
      "Cosine similarity: 0.666\n",
      "Return of the Jedi (1983)\n",
      "Of Human Bondage (1934)\n",
      "Cosine similarity: 0.547\n",
      "Return of the Jedi (1983)\n",
      "Anna (1996)\n",
      "Cosine similarity: 0.584\n",
      "Return of the Jedi (1983)\n",
      "Stranger in the House (1997)\n",
      "Cosine similarity: 0.587\n",
      "Return of the Jedi (1983)\n",
      "Picture Bride (1995)\n",
      "Cosine similarity: 0.664\n",
      "Return of the Jedi (1983)\n",
      "M. Butterfly (1993)\n",
      "Cosine similarity: 0.698\n",
      "Return of the Jedi (1983)\n",
      "Ciao, Professore! (1993)\n",
      "Cosine similarity: 0.643\n",
      "Return of the Jedi (1983)\n",
      "Caro Diario (Dear Diary) (1994)\n",
      "Cosine similarity: 0.52\n",
      "Return of the Jedi (1983)\n",
      "Withnail and I (1987)\n",
      "Cosine similarity: 0.589\n",
      "Return of the Jedi (1983)\n",
      "Boy's Life 2 (1997)\n",
      "Cosine similarity: 0.615\n",
      "Return of the Jedi (1983)\n",
      "When Night Is Falling (1995)\n",
      "Cosine similarity: 0.716\n",
      "Return of the Jedi (1983)\n",
      "Specialist, The (1994)\n",
      "Cosine similarity: 0.478\n",
      "Return of the Jedi (1983)\n",
      "Gordy (1995)\n",
      "Cosine similarity: 0.543\n",
      "Return of the Jedi (1983)\n",
      "Swan Princess, The (1994)\n",
      "Cosine similarity: 0.615\n",
      "Return of the Jedi (1983)\n",
      "Harlem (1993)\n",
      "Cosine similarity: 0.658\n",
      "Return of the Jedi (1983)\n",
      "Barbarella (1968)\n",
      "Cosine similarity: 0.526\n",
      "Return of the Jedi (1983)\n",
      "Land Before Time III: The Time of the Great Giving (1995) (V)\n",
      "Cosine similarity: 0.602\n",
      "Return of the Jedi (1983)\n",
      "Street Fighter (1994)\n",
      "Cosine similarity: 0.379\n",
      "Return of the Jedi (1983)\n",
      "Coldblooded (1995)\n",
      "Cosine similarity: 0.667\n",
      "Return of the Jedi (1983)\n",
      "Next Karate Kid, The (1994)\n",
      "Cosine similarity: 0.624\n",
      "Return of the Jedi (1983)\n",
      "No Escape (1994)\n",
      "Cosine similarity: 0.642\n",
      "Return of the Jedi (1983)\n",
      "Turning, The (1992)\n",
      "Cosine similarity: 0.655\n",
      "Return of the Jedi (1983)\n",
      "Joy Luck Club, The (1993)\n",
      "Cosine similarity: 0.591\n",
      "Return of the Jedi (1983)\n",
      "Highlander III: The Sorcerer (1994)\n",
      "Cosine similarity: 0.563\n",
      "Return of the Jedi (1983)\n",
      "Gilligan's Island: The Movie (1998)\n",
      "Cosine similarity: 0.472\n",
      "Return of the Jedi (1983)\n",
      "My Crazy Life (Mi vida loca) (1993)\n",
      "Cosine similarity: 0.593\n",
      "Return of the Jedi (1983)\n",
      "Suture (1993)\n",
      "Cosine similarity: 0.606\n",
      "Return of the Jedi (1983)\n",
      "Walking Dead, The (1995)\n",
      "Cosine similarity: 0.709\n",
      "Return of the Jedi (1983)\n",
      "I Like It Like That (1994)\n",
      "Cosine similarity: 0.579\n",
      "Return of the Jedi (1983)\n",
      "I'll Do Anything (1994)\n",
      "Cosine similarity: 0.502\n",
      "Return of the Jedi (1983)\n",
      "Grace of My Heart (1996)\n",
      "Cosine similarity: 0.496\n",
      "Return of the Jedi (1983)\n",
      "Drunks (1995)\n",
      "Cosine similarity: 0.605\n",
      "Return of the Jedi (1983)\n",
      "SubUrbia (1997)\n",
      "Cosine similarity: 0.526\n",
      "Return of the Jedi (1983)\n",
      "Sliding Doors (1998)\n",
      "Cosine similarity: 0.615\n",
      "Return of the Jedi (1983)\n",
      "Ill Gotten Gains (1997)\n",
      "Cosine similarity: 0.669\n",
      "Return of the Jedi (1983)\n",
      "Legal Deceit (1997)\n",
      "Cosine similarity: 0.662\n",
      "Return of the Jedi (1983)\n",
      "Mighty, The (1998)\n",
      "Cosine similarity: 0.722\n",
      "Return of the Jedi (1983)\n",
      "Men of Means (1998)\n",
      "Cosine similarity: 0.57\n",
      "Return of the Jedi (1983)\n",
      "Shooting Fish (1997)\n",
      "Cosine similarity: 0.588\n",
      "Return of the Jedi (1983)\n",
      "Steal Big, Steal Little (1995)\n",
      "Cosine similarity: 0.631\n",
      "Return of the Jedi (1983)\n",
      "Mr. Jones (1993)\n",
      "Cosine similarity: 0.619\n",
      "Return of the Jedi (1983)\n",
      "House Party 3 (1994)\n",
      "Cosine similarity: 0.626\n",
      "Return of the Jedi (1983)\n",
      "Panther (1995)\n",
      "Cosine similarity: 0.573\n",
      "Return of the Jedi (1983)\n",
      "Jason's Lyric (1994)\n",
      "Cosine similarity: 0.626\n",
      "Return of the Jedi (1983)\n",
      "Above the Rim (1994)\n",
      "Cosine similarity: 0.718\n",
      "Return of the Jedi (1983)\n",
      "Moonlight and Valentino (1995)\n",
      "Cosine similarity: 0.639\n",
      "Return of the Jedi (1983)\n",
      "Scarlet Letter, The (1995)\n",
      "Cosine similarity: 0.709\n",
      "Return of the Jedi (1983)\n",
      "8 Seconds (1994)\n",
      "Cosine similarity: 0.73\n",
      "Return of the Jedi (1983)\n",
      "That Darn Cat! (1965)\n",
      "Cosine similarity: 0.675\n",
      "Return of the Jedi (1983)\n",
      "Ladybird Ladybird (1994)\n",
      "Cosine similarity: 0.553\n",
      "Return of the Jedi (1983)\n",
      "Bye Bye, Love (1995)\n",
      "Cosine similarity: 0.567\n",
      "Return of the Jedi (1983)\n",
      "Century (1993)\n",
      "Cosine similarity: 0.64\n",
      "Return of the Jedi (1983)\n",
      "My Favorite Season (1993)\n",
      "Cosine similarity: 0.295\n",
      "Return of the Jedi (1983)\n",
      "Pather Panchali (1955)\n",
      "Cosine similarity: 0.669\n",
      "Return of the Jedi (1983)\n",
      "Golden Earrings (1947)\n",
      "Cosine similarity: 0.585\n",
      "Return of the Jedi (1983)\n",
      "Foreign Correspondent (1940)\n",
      "Cosine similarity: 0.718\n",
      "Return of the Jedi (1983)\n",
      "Lady of Burlesque (1943)\n",
      "Cosine similarity: 0.64\n",
      "Return of the Jedi (1983)\n",
      "Angel on My Shoulder (1946)\n",
      "Cosine similarity: 0.0121\n",
      "Return of the Jedi (1983)\n",
      "Angel and the Badman (1947)\n",
      "Cosine similarity: 0.711\n",
      "Return of the Jedi (1983)\n",
      "Outlaw, The (1943)\n",
      "Cosine similarity: 0.75\n",
      "Return of the Jedi (1983)\n",
      "Beat the Devil (1954)\n",
      "Cosine similarity: 0.616\n",
      "Return of the Jedi (1983)\n",
      "Love Is All There Is (1996)\n",
      "Cosine similarity: 0.641\n",
      "Return of the Jedi (1983)\n",
      "Damsel in Distress, A (1937)\n",
      "Cosine similarity: 0.65\n",
      "Return of the Jedi (1983)\n",
      "Madame Butterfly (1995)\n",
      "Cosine similarity: 0.65\n",
      "Return of the Jedi (1983)\n",
      "Sleepover (1995)\n",
      "Cosine similarity: 0.0511\n",
      "Return of the Jedi (1983)\n",
      "Here Comes Cookie (1935)\n",
      "Cosine similarity: 0.609\n",
      "Return of the Jedi (1983)\n",
      "Thieves (Voleurs, Les) (1996)\n",
      "Cosine similarity: 0.565\n",
      "Return of the Jedi (1983)\n",
      "Boys, Les (1997)\n",
      "Cosine similarity: 0.485\n",
      "Return of the Jedi (1983)\n",
      "Stars Fell on Henrietta, The (1995)\n",
      "Cosine similarity: 0.581\n",
      "Return of the Jedi (1983)\n",
      "Last Summer in the Hamptons (1995)\n",
      "Cosine similarity: 0.639\n",
      "Return of the Jedi (1983)\n",
      "Margaret's Museum (1995)\n",
      "Cosine similarity: 0.612\n",
      "Return of the Jedi (1983)\n",
      "Saint of Fort Washington, The (1993)\n",
      "Cosine similarity: 0.699\n",
      "Return of the Jedi (1983)\n",
      "Cure, The (1995)\n",
      "Cosine similarity: 0.598\n",
      "Return of the Jedi (1983)\n",
      "Tom and Huck (1995)\n",
      "Cosine similarity: 0.619\n",
      "Return of the Jedi (1983)\n",
      "Gumby: The Movie (1995)\n",
      "Cosine similarity: 0.594\n",
      "Return of the Jedi (1983)\n",
      "Hideaway (1995)\n",
      "Cosine similarity: 0.54\n",
      "Return of the Jedi (1983)\n",
      "Visitors, The (Visiteurs, Les) (1993)\n",
      "Cosine similarity: -0.119\n",
      "Return of the Jedi (1983)\n",
      "Little Princess, The (1939)\n",
      "Cosine similarity: 0.761\n",
      "Return of the Jedi (1983)\n",
      "Nina Takes a Lover (1994)\n",
      "Cosine similarity: 0.699\n",
      "Return of the Jedi (1983)\n",
      "Bhaji on the Beach (1993)\n",
      "Cosine similarity: 0.584\n",
      "Return of the Jedi (1983)\n",
      "Raw Deal (1948)\n",
      "Cosine similarity: -0.0467\n",
      "Return of the Jedi (1983)\n",
      "Nightwatch (1997)\n",
      "Cosine similarity: 0.542\n",
      "Return of the Jedi (1983)\n",
      "Dead Presidents (1995)\n",
      "Cosine similarity: 0.559\n",
      "Return of the Jedi (1983)\n",
      "Reckless (1995)\n",
      "Cosine similarity: 0.689\n",
      "Return of the Jedi (1983)\n",
      "Herbie Rides Again (1974)\n",
      "Cosine similarity: 0.57\n",
      "Return of the Jedi (1983)\n",
      "S.F.W. (1994)\n",
      "Cosine similarity: 0.522\n",
      "Return of the Jedi (1983)\n",
      "Gate of Heavenly Peace, The (1995)\n",
      "Cosine similarity: 0.731\n",
      "Return of the Jedi (1983)\n",
      "Man in the Iron Mask, The (1998)\n",
      "Cosine similarity: 0.768\n",
      "Return of the Jedi (1983)\n",
      "Jerky Boys, The (1994)\n",
      "Cosine similarity: 0.631\n",
      "Return of the Jedi (1983)\n",
      "Colonel Chabert, Le (1994)\n",
      "Cosine similarity: 0.698\n",
      "Return of the Jedi (1983)\n",
      "Girl in the Cadillac (1995)\n",
      "Cosine similarity: 0.561\n",
      "Return of the Jedi (1983)\n",
      "Even Cowgirls Get the Blues (1993)\n",
      "Cosine similarity: 0.63\n",
      "Return of the Jedi (1983)\n",
      "Germinal (1993)\n",
      "Cosine similarity: 0.559\n",
      "Return of the Jedi (1983)\n",
      "Chasers (1994)\n",
      "Cosine similarity: 0.612\n",
      "Return of the Jedi (1983)\n",
      "Fausto (1993)\n",
      "Cosine similarity: 0.621\n",
      "Return of the Jedi (1983)\n",
      "Tough and Deadly (1995)\n",
      "Cosine similarity: 0.00593\n",
      "Return of the Jedi (1983)\n",
      "Window to Paris (1994)\n",
      "Cosine similarity: 0.647\n",
      "Return of the Jedi (1983)\n",
      "Modern Affair, A (1995)\n",
      "Cosine similarity: 0.0398\n",
      "Return of the Jedi (1983)\n",
      "Mostro, Il (1994)\n",
      "Cosine similarity: 0.61\n",
      "Return of the Jedi (1983)\n",
      "Flirt (1995)\n",
      "Cosine similarity: 0.679\n",
      "Return of the Jedi (1983)\n",
      "Carpool (1996)\n",
      "Cosine similarity: 0.533\n",
      "Return of the Jedi (1983)\n",
      "Line King: Al Hirschfeld, The (1996)\n",
      "Cosine similarity: 0.654\n",
      "Return of the Jedi (1983)\n",
      "Farmer & Chase (1995)\n",
      "Cosine similarity: 0.656\n",
      "Return of the Jedi (1983)\n",
      "Grosse Fatigue (1994)\n",
      "Cosine similarity: 0.555\n",
      "Return of the Jedi (1983)\n",
      "Santa with Muscles (1996)\n",
      "Cosine similarity: 0.691\n",
      "Return of the Jedi (1983)\n",
      "Prisoner of the Mountains (Kavkazsky Plennik) (1996)\n",
      "Cosine similarity: 0.522\n",
      "Return of the Jedi (1983)\n",
      "Naked in New York (1994)\n",
      "Cosine similarity: 0.561\n",
      "Return of the Jedi (1983)\n",
      "Gold Diggers: The Secret of Bear Mountain (1995)\n",
      "Cosine similarity: 0.618\n",
      "Return of the Jedi (1983)\n",
      "Bewegte Mann, Der (1994)\n",
      "Cosine similarity: 0.625\n",
      "Return of the Jedi (1983)\n",
      "Killer: A Journal of Murder (1995)\n",
      "Cosine similarity: 0.0751\n",
      "Return of the Jedi (1983)\n",
      "Nelly & Monsieur Arnaud (1995)\n",
      "Cosine similarity: 0.64\n",
      "Return of the Jedi (1983)\n",
      "Three Lives and Only One Death (1996)\n",
      "Cosine similarity: 0.662\n",
      "Return of the Jedi (1983)\n",
      "Babysitter, The (1995)\n",
      "Cosine similarity: 0.473\n",
      "Return of the Jedi (1983)\n",
      "Getting Even with Dad (1994)\n",
      "Cosine similarity: 0.579\n",
      "Return of the Jedi (1983)\n",
      "Mad Dog Time (1996)\n",
      "Cosine similarity: 0.7\n",
      "Return of the Jedi (1983)\n",
      "Children of the Revolution (1996)\n",
      "Cosine similarity: 0.676\n",
      "Return of the Jedi (1983)\n",
      "World of Apu, The (Apur Sansar) (1959)\n",
      "Cosine similarity: 0.632\n",
      "Return of the Jedi (1983)\n",
      "Sprung (1997)\n",
      "Cosine similarity: 0.699\n",
      "Return of the Jedi (1983)\n",
      "Dream With the Fishes (1997)\n",
      "Cosine similarity: 0.623\n",
      "Return of the Jedi (1983)\n",
      "Wings of Courage (1995)\n",
      "Cosine similarity: 0.681\n",
      "Return of the Jedi (1983)\n",
      "Wedding Gift, The (1994)\n",
      "Cosine similarity: 0.694\n",
      "Return of the Jedi (1983)\n",
      "Race the Sun (1996)\n",
      "Cosine similarity: 0.663\n",
      "Return of the Jedi (1983)\n",
      "Losing Isaiah (1995)\n",
      "Cosine similarity: 0.609\n",
      "Return of the Jedi (1983)\n",
      "New Jersey Drive (1995)\n",
      "Cosine similarity: 0.651\n",
      "Return of the Jedi (1983)\n",
      "Fear, The (1995)\n",
      "Cosine similarity: 0.653\n",
      "Return of the Jedi (1983)\n",
      "Mr. Wonderful (1993)\n",
      "Cosine similarity: 0.627\n",
      "Return of the Jedi (1983)\n",
      "Trial by Jury (1994)\n",
      "Cosine similarity: 0.709\n",
      "Return of the Jedi (1983)\n",
      "Good Man in Africa, A (1994)\n",
      "Cosine similarity: 0.624\n",
      "Return of the Jedi (1983)\n",
      "Kaspar Hauser (1993)\n",
      "Cosine similarity: 0.567\n",
      "Return of the Jedi (1983)\n",
      "Object of My Affection, The (1998)\n",
      "Cosine similarity: 0.6\n",
      "Return of the Jedi (1983)\n",
      "Witness (1985)\n",
      "Cosine similarity: -0.0642\n",
      "Return of the Jedi (1983)\n",
      "Senseless (1998)\n",
      "Cosine similarity: 0.601\n",
      "Return of the Jedi (1983)\n",
      "Nowhere (1997)\n",
      "Cosine similarity: 0.653\n",
      "Return of the Jedi (1983)\n",
      "Underground (1995)\n",
      "Cosine similarity: 0.655\n",
      "Return of the Jedi (1983)\n",
      "Jefferson in Paris (1995)\n",
      "Cosine similarity: 0.504\n",
      "Return of the Jedi (1983)\n",
      "Far From Home: The Adventures of Yellow Dog (1995)\n",
      "Cosine similarity: 0.521\n",
      "Return of the Jedi (1983)\n",
      "Foreign Student (1994)\n",
      "Cosine similarity: 0.579\n",
      "Return of the Jedi (1983)\n",
      "I Don't Want to Talk About It (De eso no se habla) (1993)\n",
      "Cosine similarity: 0.633\n",
      "Return of the Jedi (1983)\n",
      "Twin Town (1997)\n",
      "Cosine similarity: 0.241\n",
      "Return of the Jedi (1983)\n",
      "Enfer, L' (1994)\n",
      "Cosine similarity: 0.599\n",
      "Return of the Jedi (1983)\n",
      "Aiqing wansui (1994)\n",
      "Cosine similarity: 0.575\n",
      "Return of the Jedi (1983)\n",
      "Cosi (1996)\n",
      "Cosine similarity: 0.677\n",
      "Return of the Jedi (1983)\n",
      "All Over Me (1997)\n",
      "Cosine similarity: 0.624\n",
      "Return of the Jedi (1983)\n",
      "Being Human (1993)\n",
      "Cosine similarity: 0.627\n",
      "Return of the Jedi (1983)\n",
      "Amazing Panda Adventure, The (1995)\n",
      "Cosine similarity: 0.646\n",
      "Return of the Jedi (1983)\n",
      "Beans of Egypt, Maine, The (1994)\n",
      "Cosine similarity: 0.656\n",
      "Return of the Jedi (1983)\n",
      "Scarlet Letter, The (1926)\n",
      "Cosine similarity: 0.713\n",
      "Return of the Jedi (1983)\n",
      "Johns (1996)\n",
      "Cosine similarity: 0.048\n",
      "Return of the Jedi (1983)\n",
      "It Takes Two (1995)\n",
      "Cosine similarity: 0.553\n",
      "Return of the Jedi (1983)\n",
      "Frankie Starlight (1995)\n",
      "Cosine similarity: 0.529\n",
      "Return of the Jedi (1983)\n",
      "Shadows (Cienie) (1988)\n",
      "Cosine similarity: 0.636\n",
      "Return of the Jedi (1983)\n",
      "Show, The (1995)\n",
      "Cosine similarity: 0.229\n",
      "Return of the Jedi (1983)\n",
      "The Courtyard (1995)\n",
      "Cosine similarity: 0.591\n",
      "Return of the Jedi (1983)\n",
      "Dream Man (1995)\n",
      "Cosine similarity: 0.643\n",
      "Return of the Jedi (1983)\n",
      "Destiny Turns on the Radio (1995)\n",
      "Cosine similarity: 0.755\n",
      "Return of the Jedi (1983)\n",
      "Glass Shield, The (1994)\n",
      "Cosine similarity: 0.09\n",
      "Return of the Jedi (1983)\n",
      "Hunted, The (1995)\n",
      "Cosine similarity: 0.714\n",
      "Return of the Jedi (1983)\n",
      "Underneath, The (1995)\n",
      "Cosine similarity: 0.674\n",
      "Return of the Jedi (1983)\n",
      "Safe Passage (1994)\n",
      "Cosine similarity: 0.736\n",
      "Return of the Jedi (1983)\n",
      "Secret Adventures of Tom Thumb, The (1993)\n",
      "Cosine similarity: 0.54\n",
      "Return of the Jedi (1983)\n",
      "Condition Red (1995)\n",
      "Cosine similarity: 0.645\n",
      "Return of the Jedi (1983)\n",
      "Yankee Zulu (1994)\n",
      "Cosine similarity: 0.673\n",
      "Return of the Jedi (1983)\n",
      "Aparajito (1956)\n",
      "Cosine similarity: 0.566\n",
      "Return of the Jedi (1983)\n",
      "Hostile Intentions (1994)\n",
      "Cosine similarity: 0.58\n",
      "Return of the Jedi (1983)\n",
      "Clean Slate (Coup de Torchon) (1981)\n",
      "Cosine similarity: 0.622\n",
      "Return of the Jedi (1983)\n",
      "Tigrero: A Film That Was Never Made (1994)\n",
      "Cosine similarity: 0.542\n",
      "Return of the Jedi (1983)\n",
      "Eye of Vichy, The (Oeil de Vichy, L') (1993)\n",
      "Cosine similarity: 0.58\n",
      "Return of the Jedi (1983)\n",
      "Promise, The (Versprechen, Das) (1994)\n",
      "Cosine similarity: 0.683\n",
      "Return of the Jedi (1983)\n",
      "To Cross the Rubicon (1991)\n",
      "Cosine similarity: -0.0549\n",
      "Return of the Jedi (1983)\n",
      "Daens (1992)\n",
      "Cosine similarity: 0.602\n",
      "Return of the Jedi (1983)\n",
      "Man from Down Under, The (1943)\n",
      "Cosine similarity: -0.161\n",
      "Return of the Jedi (1983)\n",
      "Careful (1992)\n",
      "Cosine similarity: -0.0412\n",
      "Return of the Jedi (1983)\n",
      "Vermont Is For Lovers (1992)\n",
      "Cosine similarity: 0.579\n",
      "Return of the Jedi (1983)\n",
      "Vie est belle, La (Life is Rosey) (1987)\n",
      "Cosine similarity: 0.443\n",
      "Return of the Jedi (1983)\n",
      "Quartier Mozart (1992)\n",
      "Cosine similarity: 0.1\n",
      "Return of the Jedi (1983)\n",
      "Touki Bouki (Journey of the Hyena) (1973)\n",
      "Cosine similarity: 0.626\n",
      "Return of the Jedi (1983)\n",
      "Wend Kuuni (God's Gift) (1982)\n",
      "Cosine similarity: 0.581\n",
      "Return of the Jedi (1983)\n",
      "Spirits of the Dead (Tre passi nel delirio) (1968)\n",
      "Cosine similarity: 0.659\n",
      "Return of the Jedi (1983)\n",
      "Pharaoh's Army (1995)\n",
      "Cosine similarity: 0.671\n",
      "Return of the Jedi (1983)\n",
      "I, Worst of All (Yo, la peor de todas) (1990)\n",
      "Cosine similarity: 0.591\n",
      "Return of the Jedi (1983)\n",
      "Hungarian Fairy Tale, A (1987)\n",
      "Cosine similarity: 0.704\n",
      "Return of the Jedi (1983)\n",
      "Death in the Garden (Mort en ce jardin, La) (1956)\n",
      "Cosine similarity: 0.624\n",
      "Return of the Jedi (1983)\n",
      "Collectionneuse, La (1967)\n",
      "Cosine similarity: 0.537\n",
      "Return of the Jedi (1983)\n",
      "Baton Rouge (1988)\n",
      "Cosine similarity: 0.537\n",
      "Return of the Jedi (1983)\n",
      "Liebelei (1933)\n",
      "Cosine similarity: 0.666\n",
      "Return of the Jedi (1983)\n",
      "Woman in Question, The (1950)\n",
      "Cosine similarity: 0.0976\n",
      "Return of the Jedi (1983)\n",
      "T-Men (1947)\n",
      "Cosine similarity: 0.687\n",
      "Return of the Jedi (1983)\n",
      "Invitation, The (Zaproszenie) (1986)\n",
      "Cosine similarity: -0.0725\n",
      "Return of the Jedi (1983)\n",
      "Symphonie pastorale, La (1946)\n",
      "Cosine similarity: 0.113\n",
      "Return of the Jedi (1983)\n",
      "American Dream (1990)\n",
      "Cosine similarity: 0.533\n",
      "Return of the Jedi (1983)\n",
      "Lashou shentan (1992)\n",
      "Cosine similarity: 0.568\n",
      "Return of the Jedi (1983)\n",
      "Terror in a Texas Town (1958)\n",
      "Cosine similarity: 0.629\n",
      "Return of the Jedi (1983)\n",
      "Salut cousin! (1996)\n",
      "Cosine similarity: 0.652\n",
      "Return of the Jedi (1983)\n",
      "Schizopolis (1996)\n",
      "Cosine similarity: 0.59\n",
      "Return of the Jedi (1983)\n",
      "To Have, or Not (1995)\n",
      "Cosine similarity: 0.516\n",
      "Return of the Jedi (1983)\n",
      "Duoluo tianshi (1995)\n",
      "Cosine similarity: 0.602\n",
      "Return of the Jedi (1983)\n",
      "Magic Hour, The (1998)\n",
      "Cosine similarity: 0.601\n",
      "Return of the Jedi (1983)\n",
      "Death in Brunswick (1991)\n",
      "Cosine similarity: -0.00614\n",
      "Return of the Jedi (1983)\n",
      "Everest (1998)\n",
      "Cosine similarity: 0.699\n",
      "Return of the Jedi (1983)\n",
      "Shopping (1994)\n",
      "Cosine similarity: -0.00611\n",
      "Return of the Jedi (1983)\n",
      "Nemesis 2: Nebula (1995)\n",
      "Cosine similarity: 0.651\n",
      "Return of the Jedi (1983)\n",
      "Romper Stomper (1992)\n",
      "Cosine similarity: 0.395\n",
      "Return of the Jedi (1983)\n",
      "City of Industry (1997)\n",
      "Cosine similarity: 0.576\n",
      "Return of the Jedi (1983)\n",
      "Someone Else's America (1995)\n",
      "Cosine similarity: 0.615\n",
      "Return of the Jedi (1983)\n",
      "Guantanamera (1994)\n",
      "Cosine similarity: 0.694\n",
      "Return of the Jedi (1983)\n",
      "Office Killer (1997)\n",
      "Cosine similarity: 0.606\n",
      "Return of the Jedi (1983)\n",
      "Price Above Rubies, A (1998)\n",
      "Cosine similarity: 0.563\n",
      "Return of the Jedi (1983)\n",
      "Angela (1995)\n",
      "Cosine similarity: -0.138\n",
      "Return of the Jedi (1983)\n",
      "He Walked by Night (1948)\n",
      "Cosine similarity: 0.622\n",
      "Return of the Jedi (1983)\n",
      "Love Serenade (1996)\n",
      "Cosine similarity: 0.647\n",
      "Return of the Jedi (1983)\n",
      "Deceiver (1997)\n",
      "Cosine similarity: 0.677\n",
      "Return of the Jedi (1983)\n",
      "Hurricane Streets (1998)\n",
      "Cosine similarity: 0.631\n",
      "Return of the Jedi (1983)\n",
      "Buddy (1997)\n",
      "Cosine similarity: 0.582\n",
      "Return of the Jedi (1983)\n",
      "B*A*P*S (1997)\n",
      "Cosine similarity: 0.495\n",
      "Return of the Jedi (1983)\n",
      "Truth or Consequences, N.M. (1997)\n",
      "Cosine similarity: 0.579\n",
      "Return of the Jedi (1983)\n",
      "Intimate Relations (1996)\n",
      "Cosine similarity: 0.683\n",
      "Return of the Jedi (1983)\n",
      "Leading Man, The (1996)\n",
      "Cosine similarity: 0.66\n",
      "Return of the Jedi (1983)\n",
      "Tokyo Fist (1995)\n",
      "Cosine similarity: 0.723\n",
      "Return of the Jedi (1983)\n",
      "Reluctant Debutante, The (1958)\n",
      "Cosine similarity: 0.176\n",
      "Return of the Jedi (1983)\n",
      "Warriors of Virtue (1997)\n",
      "Cosine similarity: 0.745\n",
      "Return of the Jedi (1983)\n",
      "Desert Winds (1995)\n",
      "Cosine similarity: 0.00677\n",
      "Return of the Jedi (1983)\n",
      "Hugo Pool (1997)\n",
      "Cosine similarity: 0.679\n",
      "Return of the Jedi (1983)\n",
      "King of New York (1990)\n",
      "Cosine similarity: -0.124\n",
      "Return of the Jedi (1983)\n",
      "All Things Fair (1996)\n",
      "Cosine similarity: 0.693\n",
      "Return of the Jedi (1983)\n",
      "Sixth Man, The (1997)\n",
      "Cosine similarity: 0.585\n",
      "Return of the Jedi (1983)\n",
      "Butterfly Kiss (1995)\n",
      "Cosine similarity: 0.497\n",
      "Return of the Jedi (1983)\n",
      "Paris, France (1993)\n",
      "Cosine similarity: 0.652\n",
      "Return of the Jedi (1983)\n",
      "Cérémonie, La (1995)\n",
      "Cosine similarity: 0.642\n",
      "Return of the Jedi (1983)\n",
      "Hush (1998)\n",
      "Cosine similarity: 0.547\n",
      "Return of the Jedi (1983)\n",
      "Nightwatch (1997)\n",
      "Cosine similarity: 0.642\n",
      "Return of the Jedi (1983)\n",
      "Nobody Loves Me (Keiner liebt mich) (1994)\n",
      "Cosine similarity: 0.505\n",
      "Return of the Jedi (1983)\n",
      "Wife, The (1995)\n",
      "Cosine similarity: 0.733\n",
      "Return of the Jedi (1983)\n",
      "Lamerica (1994)\n",
      "Cosine similarity: 0.605\n",
      "Return of the Jedi (1983)\n",
      "Nico Icon (1995)\n",
      "Cosine similarity: 0.592\n",
      "Return of the Jedi (1983)\n",
      "Silence of the Palace, The (Saimt el Qusur) (1994)\n",
      "Cosine similarity: 0.618\n",
      "Return of the Jedi (1983)\n",
      "Slingshot, The (1993)\n",
      "Cosine similarity: 0.684\n",
      "Return of the Jedi (1983)\n",
      "Land and Freedom (Tierra y libertad) (1995)\n",
      "Cosine similarity: 0.609\n",
      "Return of the Jedi (1983)\n",
      "Á köldum klaka (Cold Fever) (1994)\n",
      "Cosine similarity: 0.623\n",
      "Return of the Jedi (1983)\n",
      "Etz Hadomim Tafus (Under the Domin Tree) (1994)\n",
      "Cosine similarity: 0.613\n",
      "Return of the Jedi (1983)\n",
      "Two Friends (1986) \n",
      "Cosine similarity: 0.605\n",
      "Return of the Jedi (1983)\n",
      "Brothers in Trouble (1995)\n",
      "Cosine similarity: 0.041\n",
      "Return of the Jedi (1983)\n",
      "Girls Town (1996)\n",
      "Cosine similarity: 0.618\n",
      "Return of the Jedi (1983)\n",
      "Normal Life (1996)\n",
      "Cosine similarity: 0.0572\n",
      "Return of the Jedi (1983)\n",
      "Bitter Sugar (Azucar Amargo) (1996)\n",
      "Cosine similarity: 0.628\n",
      "Return of the Jedi (1983)\n",
      "Eighth Day, The (1996)\n",
      "Cosine similarity: 0.6\n",
      "Return of the Jedi (1983)\n",
      "Dadetown (1995)\n",
      "Cosine similarity: 0.04\n",
      "Return of the Jedi (1983)\n",
      "Some Mother's Son (1996)\n",
      "Cosine similarity: 0.653\n",
      "Return of the Jedi (1983)\n",
      "Angel Baby (1995)\n",
      "Cosine similarity: 0.647\n",
      "Return of the Jedi (1983)\n",
      "Sudden Manhattan (1996)\n",
      "Cosine similarity: 0.0528\n",
      "Return of the Jedi (1983)\n",
      "Butcher Boy, The (1998)\n",
      "Cosine similarity: 0.00363\n",
      "Return of the Jedi (1983)\n",
      "Men With Guns (1997)\n",
      "Cosine similarity: 0.637\n",
      "Return of the Jedi (1983)\n",
      "Hana-bi (1997)\n",
      "Cosine similarity: 0.596\n",
      "Return of the Jedi (1983)\n",
      "Niagara, Niagara (1997)\n",
      "Cosine similarity: -0.0429\n",
      "Return of the Jedi (1983)\n",
      "Big One, The (1997)\n",
      "Cosine similarity: 0.632\n",
      "Return of the Jedi (1983)\n",
      "Butcher Boy, The (1998)\n",
      "Cosine similarity: -0.0528\n",
      "Return of the Jedi (1983)\n",
      "Spanish Prisoner, The (1997)\n",
      "Cosine similarity: -0.132\n",
      "Return of the Jedi (1983)\n",
      "Temptress Moon (Feng Yue) (1996)\n",
      "Cosine similarity: 0.548\n",
      "Return of the Jedi (1983)\n",
      "Entertaining Angels: The Dorothy Day Story (1996)\n",
      "Cosine similarity: -0.153\n",
      "Return of the Jedi (1983)\n",
      "Chairman of the Board (1998)\n",
      "Cosine similarity: 0.185\n",
      "Return of the Jedi (1983)\n",
      "Favor, The (1994)\n",
      "Cosine similarity: 0.155\n",
      "Return of the Jedi (1983)\n",
      "Little City (1998)\n",
      "Cosine similarity: 0.641\n",
      "Return of the Jedi (1983)\n",
      "Target (1995)\n",
      "Cosine similarity: 0.796\n",
      "Return of the Jedi (1983)\n",
      "Substance of Fire, The (1996)\n",
      "Cosine similarity: 0.623\n",
      "Return of the Jedi (1983)\n",
      "Getting Away With Murder (1996)\n",
      "Cosine similarity: 0.561\n",
      "Return of the Jedi (1983)\n",
      "Small Faces (1995)\n",
      "Cosine similarity: 0.684\n",
      "Return of the Jedi (1983)\n",
      "New Age, The (1994)\n",
      "Cosine similarity: 0.708\n",
      "Return of the Jedi (1983)\n",
      "Rough Magic (1995)\n",
      "Cosine similarity: 0.432\n",
      "Return of the Jedi (1983)\n",
      "Nothing Personal (1995)\n",
      "Cosine similarity: 0.621\n",
      "Return of the Jedi (1983)\n",
      "8 Heads in a Duffel Bag (1997)\n",
      "Cosine similarity: 0.574\n",
      "Return of the Jedi (1983)\n",
      "Brother's Kiss, A (1997)\n",
      "Cosine similarity: -0.226\n",
      "Return of the Jedi (1983)\n",
      "Ripe (1996)\n",
      "Cosine similarity: 0.592\n",
      "Return of the Jedi (1983)\n",
      "Next Step, The (1995)\n",
      "Cosine similarity: 0.593\n",
      "Return of the Jedi (1983)\n",
      "Wedding Bell Blues (1996)\n",
      "Cosine similarity: 0.623\n",
      "Return of the Jedi (1983)\n",
      "MURDER and murder (1996)\n",
      "Cosine similarity: 0.599\n",
      "Return of the Jedi (1983)\n",
      "Tainted (1998)\n",
      "Cosine similarity: 0.622\n",
      "Return of the Jedi (1983)\n",
      "Further Gesture, A (1996)\n",
      "Cosine similarity: 0.55\n",
      "Return of the Jedi (1983)\n",
      "Kika (1993)\n",
      "Cosine similarity: 0.728\n",
      "Return of the Jedi (1983)\n",
      "Mirage (1995)\n",
      "Cosine similarity: 0.619\n",
      "Return of the Jedi (1983)\n",
      "Mamma Roma (1962)\n",
      "Cosine similarity: 0.675\n",
      "Return of the Jedi (1983)\n",
      "Sunchaser, The (1996)\n",
      "Cosine similarity: -0.199\n",
      "Return of the Jedi (1983)\n",
      "War at Home, The (1996)\n",
      "Cosine similarity: 0.66\n",
      "Return of the Jedi (1983)\n",
      "Sweet Nothing (1995)\n",
      "Cosine similarity: 0.608\n",
      "Return of the Jedi (1983)\n",
      "Mat' i syn (1997)\n",
      "Cosine similarity: 0.686\n",
      "Return of the Jedi (1983)\n",
      "B. Monkey (1998)\n",
      "Cosine similarity: 0.688\n",
      "Return of the Jedi (1983)\n",
      "Sliding Doors (1998)\n",
      "Cosine similarity: 0.709\n",
      "Return of the Jedi (1983)\n",
      "You So Crazy (1994)\n",
      "Cosine similarity: 0.761\n",
      "Return of the Jedi (1983)\n",
      "Scream of Stone (Schrei aus Stein) (1991)\n",
      "Cosine similarity: 0.651\n",
      "\n",
      "Movie most dissimilar to Jedi: Very Natural Thing, A (1974) → Cosine similarity: -0.302\n"
     ]
    }
   ],
   "source": [
    "# Code to help you search for a movie title\n",
    "similarities = []\n",
    "\n",
    "# Find Jedi movie\n",
    "partial_title = \"Jedi\"\n",
    "subset = indexed_items[indexed_items['title'].str.contains(partial_title, case=False, na=False)]\n",
    "item_Jedi = subset.index.tolist()\n",
    "print(\"Jedi movie IDs:\", item_Jedi)\n",
    "\n",
    "# Use all movie indices except Jedi\n",
    "item_ids = [i for i in indexed_items.index if i != 181]\n",
    "\n",
    "# Check we have movies to compare\n",
    "if len(item_ids) < 1:\n",
    "    print(\"Not enough movies found to compare.\")\n",
    "else:\n",
    "    for i in item_ids:\n",
    "        sim = cosine(item_embeddings[181], item_embeddings[i])\n",
    "        similarities.append((i, sim))\n",
    "        print_similarity(181, i, item_embeddings, indexed_items[\"title\"])\n",
    "\n",
    "# Find the most dissimilar movie\n",
    "min_movie_id, min_sim = min(similarities, key=lambda x: x[1])\n",
    "print(f\"\\nMovie most dissimilar to Jedi: {indexed_items['title'][min_movie_id]} → Cosine similarity: {min_sim:.3f}\")\n"
   ]
  },
  {
   "cell_type": "markdown",
   "metadata": {
    "collapsed": false
   },
   "source": [
    "Sometimes, even without knowing anything about a user, we can recommend films by asking them about a film that they do like. The code below compares the similarity of a given film to all others, and returns the most similar films."
   ]
  },
  {
   "cell_type": "code",
   "execution_count": 55,
   "metadata": {},
   "outputs": [
    {
     "data": {
      "text/plain": [
       "[(50, 'Star Wars (1977)', 1.0),\n",
       " (172, 'Empire Strikes Back, The (1980)', 0.94112813),\n",
       " (181, 'Return of the Jedi (1983)', 0.9215989),\n",
       " (174, 'Raiders of the Lost Ark (1981)', 0.87037265),\n",
       " (210, 'Indiana Jones and the Last Crusade (1989)', 0.85296273),\n",
       " (176, 'Aliens (1986)', 0.84478575),\n",
       " (1, 'Toy Story (1995)', 0.84354055),\n",
       " (942, \"What's Love Got to Do with It (1993)\", 0.8428294),\n",
       " (211, 'M*A*S*H (1970)', 0.8302945),\n",
       " (205, 'Patton (1970)', 0.82877964)]"
      ]
     },
     "execution_count": 55,
     "metadata": {},
     "output_type": "execute_result"
    }
   ],
   "source": [
    "def most_similar(item_id, item_embeddings, titles,\n",
    "                 top_n=30):\n",
    "    # Compute the cosine similarity between the item and all other items\n",
    "    sims = cosine_similarity(item_embeddings[item_id].reshape(1, -1),\n",
    "                             item_embeddings).ravel()\n",
    "    \n",
    "    # [::-1] makes it possible to reverse the order of a numpy\n",
    "    # array, this is required because most similar items have\n",
    "    # a larger cosine similarity value\n",
    "    sorted_indexes = np.argsort(sims)[::-1]\n",
    "    idxs = sorted_indexes[0:top_n]\n",
    "    return list(zip(idxs, titles[idxs], sims[idxs]))\n",
    "\n",
    "# Find the most similar films to \"Star Wars\"\n",
    "most_similar(50, item_embeddings, indexed_items[\"title\"], top_n=10)"
   ]
  },
  {
   "cell_type": "code",
   "execution_count": 56,
   "metadata": {},
   "outputs": [
    {
     "data": {
      "text/plain": [
       "[(227, 'Star Trek VI: The Undiscovered Country (1991)', 1.0000001),\n",
       " (230, 'Star Trek IV: The Voyage Home (1986)', 0.8853007),\n",
       " (778, 'Don Juan DeMarco (1995)', 0.8847591),\n",
       " (1594, 'Everest (1998)', 0.87397236),\n",
       " (228, 'Star Trek: The Wrath of Khan (1982)', 0.8726455),\n",
       " (634, \"Microcosmos: Le peuple de l'herbe (1996)\", 0.8719895),\n",
       " (746, 'Real Genius (1985)', 0.8703337),\n",
       " (973, 'Grateful Dead (1995)', 0.86922544),\n",
       " (115, 'Haunted World of Edward D. Wood Jr., The (1995)', 0.86700207),\n",
       " (219, 'Nightmare on Elm Street, A (1984)', 0.86616725)]"
      ]
     },
     "execution_count": 56,
     "metadata": {},
     "output_type": "execute_result"
    }
   ],
   "source": [
    "# Find the most similar films to \"Star Trek VI: The Undiscovered Country\"\n",
    "most_similar(227, item_embeddings, indexed_items[\"title\"], top_n=10)"
   ]
  },
  {
   "cell_type": "markdown",
   "metadata": {},
   "source": [
    "The similarities do not always make sense: the number of ratings is low and the embedding  does not automatically capture semantic relationships in that context. Better representations arise with higher number of ratings, and less overfitting  in models or maybe better loss function, such as those based on implicit feedback."
   ]
  },
  {
   "cell_type": "markdown",
   "metadata": {},
   "source": [
    "### Visualizing embeddings using TSNE\n",
    "\n",
    "The [t-SNE](https://en.wikipedia.org/wiki/T-distributed_stochastic_neighbor_embedding) algorithm enables us to visualize high dimensional vectors in a 2D space by preserving local neighborhoods. We can use it to get a 2D visualization of the item embeddings and see if similar items are close in the embedding space."
   ]
  },
  {
   "cell_type": "code",
   "execution_count": 57,
   "metadata": {},
   "outputs": [],
   "source": [
    "from sklearn.manifold import TSNE\n",
    "\n",
    "item_tsne = TSNE(learning_rate=\"auto\", init=\"pca\", perplexity=30).fit_transform(item_embeddings)"
   ]
  },
  {
   "cell_type": "code",
   "execution_count": 58,
   "metadata": {},
   "outputs": [
    {
     "data": {
      "image/png": "[encoded data removed]",
      "text/plain": [
       "<Figure size 1000x1000 with 1 Axes>"
      ]
     },
     "metadata": {},
     "output_type": "display_data"
    }
   ],
   "source": [
    "import matplotlib.pyplot as plt\n",
    "\n",
    "plt.figure(figsize=(10, 10))\n",
    "plt.scatter(item_tsne[:, 0], item_tsne[:, 1]);\n",
    "plt.xticks(()); plt.yticks(());\n",
    "plt.show()"
   ]
  },
  {
   "cell_type": "code",
   "execution_count": 59,
   "metadata": {
    "tags": []
   },
   "outputs": [
    {
     "data": {
      "application/vnd.plotly.v1+json": {
       "config": {
        "plotlyServerURL": "https://plot.ly"
       },
       "data": [
        {
         "customdata": [
          [
           1,
           "Toy Story (1995)",
           452
          ],
          [
           2,
           "GoldenEye (1995)",
           131
          ],
          [
           3,
           "Four Rooms (1995)",
           90
          ],
          [
           4,
           "Get Shorty (1995)",
           209
          ],
          [
           5,
           "Copycat (1995)",
           86
          ],
          [
           6,
           "Shanghai Triad (Yao a yao yao dao waipo qiao) (1995)",
           26
          ],
          [
           7,
           "Twelve Monkeys (1995)",
           392
          ],
          [
           8,
           "Babe (1995)",
           219
          ],
          [
           9,
           "Dead Man Walking (1995)",
           299
          ],
          [
           10,
           "Richard III (1995)",
           89
          ],
          [
           11,
           "Seven (Se7en) (1995)",
           236
          ],
          [
           12,
           "Usual Suspects, The (1995)",
           267
          ],
          [
           13,
           "Mighty Aphrodite (1995)",
           184
          ],
          [
           14,
           "Postino, Il (1994)",
           183
          ],
          [
           15,
           "Mr. Holland's Opus (1995)",
           293
          ],
          [
           16,
           "French Twist (Gazon maudit) (1995)",
           39
          ],
          [
           17,
           "From Dusk Till Dawn (1996)",
           92
          ],
          [
           18,
           "White Balloon, The (1995)",
           10
          ],
          [
           19,
           "Antonia's Line (1995)",
           69
          ],
          [
           20,
           "Angels and Insects (1995)",
           72
          ],
          [
           21,
           "Muppet Treasure Island (1996)",
           84
          ],
          [
           22,
           "Braveheart (1995)",
           297
          ],
          [
           23,
           "Taxi Driver (1976)",
           182
          ],
          [
           24,
           "Rumble in the Bronx (1995)",
           174
          ],
          [
           25,
           "Birdcage, The (1996)",
           293
          ],
          [
           26,
           "Brothers McMullen, The (1995)",
           73
          ],
          [
           27,
           "Bad Boys (1995)",
           57
          ],
          [
           28,
           "Apollo 13 (1995)",
           276
          ],
          [
           29,
           "Batman Forever (1995)",
           114
          ],
          [
           30,
           "Belle de jour (1967)",
           37
          ],
          [
           31,
           "Crimson Tide (1995)",
           154
          ],
          [
           32,
           "Crumb (1994)",
           81
          ],
          [
           33,
           "Desperado (1995)",
           97
          ],
          [
           34,
           "Doom Generation, The (1995)",
           7
          ],
          [
           35,
           "Free Willy 2: The Adventure Home (1995)",
           11
          ],
          [
           36,
           "Mad Love (1995)",
           13
          ],
          [
           37,
           "Nadja (1994)",
           8
          ],
          [
           38,
           "Net, The (1995)",
           120
          ],
          [
           39,
           "Strange Days (1995)",
           87
          ],
          [
           40,
           "To Wong Foo, Thanks for Everything! Julie Newmar (1995)",
           57
          ],
          [
           41,
           "Billy Madison (1995)",
           37
          ],
          [
           42,
           "Clerks (1994)",
           148
          ],
          [
           43,
           "Disclosure (1994)",
           40
          ],
          [
           44,
           "Dolores Claiborne (1994)",
           79
          ],
          [
           45,
           "Eat Drink Man Woman (1994)",
           80
          ],
          [
           46,
           "Exotica (1994)",
           27
          ],
          [
           47,
           "Ed Wood (1994)",
           133
          ],
          [
           48,
           "Hoop Dreams (1994)",
           117
          ],
          [
           49,
           "I.Q. (1994)",
           81
          ],
          [
           50,
           "Star Wars (1977)",
           583
          ],
          [
           51,
           "Legends of the Fall (1994)",
           81
          ],
          [
           52,
           "Madness of King George, The (1994)",
           91
          ],
          [
           53,
           "Natural Born Killers (1994)",
           128
          ],
          [
           54,
           "Outbreak (1995)",
           104
          ],
          [
           55,
           "Professional, The (1994)",
           149
          ],
          [
           56,
           "Pulp Fiction (1994)",
           394
          ],
          [
           57,
           "Priest (1994)",
           40
          ],
          [
           58,
           "Quiz Show (1994)",
           175
          ],
          [
           59,
           "Three Colors: Red (1994)",
           83
          ],
          [
           60,
           "Three Colors: Blue (1993)",
           64
          ],
          [
           61,
           "Three Colors: White (1994)",
           59
          ],
          [
           62,
           "Stargate (1994)",
           127
          ],
          [
           63,
           "Santa Clause, The (1994)",
           82
          ],
          [
           64,
           "Shawshank Redemption, The (1994)",
           283
          ],
          [
           65,
           "What's Eating Gilbert Grape (1993)",
           115
          ],
          [
           66,
           "While You Were Sleeping (1995)",
           162
          ],
          [
           67,
           "Ace Ventura: Pet Detective (1994)",
           103
          ],
          [
           68,
           "Crow, The (1994)",
           134
          ],
          [
           69,
           "Forrest Gump (1994)",
           321
          ],
          [
           70,
           "Four Weddings and a Funeral (1994)",
           251
          ],
          [
           71,
           "Lion King, The (1994)",
           220
          ],
          [
           72,
           "Mask, The (1994)",
           129
          ],
          [
           73,
           "Maverick (1994)",
           128
          ],
          [
           74,
           "Faster Pussycat! Kill! Kill! (1965)",
           7
          ],
          [
           75,
           "Brother Minister: The Assassination of Malcolm X (1994)",
           5
          ],
          [
           76,
           "Carlito's Way (1993)",
           54
          ],
          [
           77,
           "Firm, The (1993)",
           151
          ],
          [
           78,
           "Free Willy (1993)",
           33
          ],
          [
           79,
           "Fugitive, The (1993)",
           336
          ],
          [
           80,
           "Hot Shots! Part Deux (1993)",
           68
          ],
          [
           81,
           "Hudsucker Proxy, The (1994)",
           110
          ],
          [
           82,
           "Jurassic Park (1993)",
           261
          ],
          [
           83,
           "Much Ado About Nothing (1993)",
           176
          ],
          [
           84,
           "Robert A. Heinlein's The Puppet Masters (1994)",
           18
          ],
          [
           85,
           "Ref, The (1994)",
           58
          ],
          [
           86,
           "Remains of the Day, The (1993)",
           150
          ],
          [
           87,
           "Searching for Bobby Fischer (1993)",
           138
          ],
          [
           88,
           "Sleepless in Seattle (1993)",
           213
          ],
          [
           89,
           "Blade Runner (1982)",
           275
          ],
          [
           90,
           "So I Married an Axe Murderer (1993)",
           95
          ],
          [
           91,
           "Nightmare Before Christmas, The (1993)",
           143
          ],
          [
           92,
           "True Romance (1993)",
           104
          ],
          [
           93,
           "Welcome to the Dollhouse (1995)",
           112
          ],
          [
           94,
           "Home Alone (1990)",
           137
          ],
          [
           95,
           "Aladdin (1992)",
           219
          ],
          [
           96,
           "Terminator 2: Judgment Day (1991)",
           295
          ],
          [
           97,
           "Dances with Wolves (1990)",
           256
          ],
          [
           98,
           "Silence of the Lambs, The (1991)",
           390
          ],
          [
           99,
           "Snow White and the Seven Dwarfs (1937)",
           172
          ],
          [
           100,
           "Fargo (1996)",
           508
          ],
          [
           101,
           "Heavy Metal (1981)",
           73
          ],
          [
           102,
           "Aristocats, The (1970)",
           54
          ],
          [
           103,
           "All Dogs Go to Heaven 2 (1996)",
           15
          ],
          [
           104,
           "Theodore Rex (1995)",
           5
          ],
          [
           105,
           "Sgt. Bilko (1996)",
           74
          ],
          [
           106,
           "Diabolique (1996)",
           71
          ],
          [
           107,
           "Moll Flanders (1996)",
           42
          ],
          [
           108,
           "Kids in the Hall: Brain Candy (1996)",
           65
          ],
          [
           109,
           "Mystery Science Theater 3000: The Movie (1996)",
           130
          ],
          [
           110,
           "Operation Dumbo Drop (1995)",
           31
          ],
          [
           111,
           "Truth About Cats & Dogs, The (1996)",
           272
          ],
          [
           112,
           "Flipper (1996)",
           20
          ],
          [
           113,
           "Horseman on the Roof, The (Hussard sur le toit, Le) (1995)",
           9
          ],
          [
           114,
           "Wallace & Gromit: The Best of Aardman Animation (1996)",
           67
          ],
          [
           115,
           "Haunted World of Edward D. Wood Jr., The (1995)",
           15
          ],
          [
           116,
           "Cold Comfort Farm (1995)",
           125
          ],
          [
           117,
           "Rock, The (1996)",
           378
          ],
          [
           118,
           "Twister (1996)",
           293
          ],
          [
           119,
           "Maya Lin: A Strong Clear Vision (1994)",
           4
          ],
          [
           120,
           "Striptease (1996)",
           67
          ],
          [
           121,
           "Independence Day (ID4) (1996)",
           429
          ],
          [
           122,
           "Cable Guy, The (1996)",
           106
          ],
          [
           123,
           "Frighteners, The (1996)",
           115
          ],
          [
           124,
           "Lone Star (1996)",
           187
          ],
          [
           125,
           "Phenomenon (1996)",
           244
          ],
          [
           126,
           "Spitfire Grill, The (1996)",
           97
          ],
          [
           127,
           "Godfather, The (1972)",
           413
          ],
          [
           128,
           "Supercop (1992)",
           65
          ],
          [
           129,
           "Bound (1996)",
           129
          ],
          [
           130,
           "Kansas City (1996)",
           23
          ],
          [
           131,
           "Breakfast at Tiffany's (1961)",
           95
          ],
          [
           132,
           "Wizard of Oz, The (1939)",
           246
          ],
          [
           133,
           "Gone with the Wind (1939)",
           171
          ],
          [
           134,
           "Citizen Kane (1941)",
           198
          ],
          [
           135,
           "2001: A Space Odyssey (1968)",
           259
          ],
          [
           136,
           "Mr. Smith Goes to Washington (1939)",
           105
          ],
          [
           137,
           "Big Night (1996)",
           171
          ],
          [
           138,
           "D3: The Mighty Ducks (1996)",
           19
          ],
          [
           139,
           "Love Bug, The (1969)",
           50
          ],
          [
           140,
           "Homeward Bound: The Incredible Journey (1993)",
           61
          ],
          [
           141,
           "20,000 Leagues Under the Sea (1954)",
           72
          ],
          [
           142,
           "Bedknobs and Broomsticks (1971)",
           57
          ],
          [
           143,
           "Sound of Music, The (1965)",
           222
          ],
          [
           144,
           "Die Hard (1988)",
           243
          ],
          [
           145,
           "Lawnmower Man, The (1992)",
           65
          ],
          [
           146,
           "Unhook the Stars (1996)",
           10
          ],
          [
           147,
           "Long Kiss Goodnight, The (1996)",
           185
          ],
          [
           148,
           "Ghost and the Darkness, The (1996)",
           128
          ],
          [
           149,
           "Jude (1996)",
           23
          ],
          [
           150,
           "Swingers (1996)",
           157
          ],
          [
           151,
           "Willy Wonka and the Chocolate Factory (1971)",
           326
          ],
          [
           152,
           "Sleeper (1973)",
           82
          ],
          [
           153,
           "Fish Called Wanda, A (1988)",
           247
          ],
          [
           154,
           "Monty Python's Life of Brian (1979)",
           174
          ],
          [
           155,
           "Dirty Dancing (1987)",
           98
          ],
          [
           156,
           "Reservoir Dogs (1992)",
           148
          ],
          [
           157,
           "Platoon (1986)",
           127
          ],
          [
           158,
           "Weekend at Bernie's (1989)",
           60
          ],
          [
           159,
           "Basic Instinct (1992)",
           101
          ],
          [
           160,
           "Glengarry Glen Ross (1992)",
           69
          ],
          [
           161,
           "Top Gun (1986)",
           220
          ],
          [
           162,
           "On Golden Pond (1981)",
           106
          ],
          [
           163,
           "Return of the Pink Panther, The (1974)",
           92
          ],
          [
           164,
           "Abyss, The (1989)",
           151
          ],
          [
           165,
           "Jean de Florette (1986)",
           64
          ],
          [
           166,
           "Manon of the Spring (Manon des sources) (1986)",
           58
          ],
          [
           167,
           "Private Benjamin (1980)",
           67
          ],
          [
           168,
           "Monty Python and the Holy Grail (1974)",
           316
          ],
          [
           169,
           "Wrong Trousers, The (1993)",
           118
          ],
          [
           170,
           "Cinema Paradiso (1988)",
           121
          ],
          [
           171,
           "Delicatessen (1991)",
           65
          ],
          [
           172,
           "Empire Strikes Back, The (1980)",
           367
          ],
          [
           173,
           "Princess Bride, The (1987)",
           324
          ],
          [
           174,
           "Raiders of the Lost Ark (1981)",
           420
          ],
          [
           175,
           "Brazil (1985)",
           208
          ],
          [
           176,
           "Aliens (1986)",
           284
          ],
          [
           177,
           "Good, The Bad and The Ugly, The (1966)",
           137
          ],
          [
           178,
           "12 Angry Men (1957)",
           125
          ],
          [
           179,
           "Clockwork Orange, A (1971)",
           221
          ],
          [
           180,
           "Apocalypse Now (1979)",
           221
          ],
          [
           181,
           "Return of the Jedi (1983)",
           507
          ],
          [
           182,
           "GoodFellas (1990)",
           226
          ],
          [
           183,
           "Alien (1979)",
           291
          ],
          [
           184,
           "Army of Darkness (1993)",
           116
          ],
          [
           185,
           "Psycho (1960)",
           239
          ],
          [
           186,
           "Blues Brothers, The (1980)",
           251
          ],
          [
           187,
           "Godfather: Part II, The (1974)",
           209
          ],
          [
           188,
           "Full Metal Jacket (1987)",
           170
          ],
          [
           189,
           "Grand Day Out, A (1992)",
           66
          ],
          [
           190,
           "Henry V (1989)",
           124
          ],
          [
           191,
           "Amadeus (1984)",
           276
          ],
          [
           192,
           "Raging Bull (1980)",
           116
          ],
          [
           193,
           "Right Stuff, The (1983)",
           157
          ],
          [
           194,
           "Sting, The (1973)",
           241
          ],
          [
           195,
           "Terminator, The (1984)",
           301
          ],
          [
           196,
           "Dead Poets Society (1989)",
           251
          ],
          [
           197,
           "Graduate, The (1967)",
           239
          ],
          [
           198,
           "Nikita (La Femme Nikita) (1990)",
           127
          ],
          [
           199,
           "Bridge on the River Kwai, The (1957)",
           165
          ],
          [
           200,
           "Shining, The (1980)",
           206
          ],
          [
           201,
           "Evil Dead II (1987)",
           89
          ],
          [
           202,
           "Groundhog Day (1993)",
           280
          ],
          [
           203,
           "Unforgiven (1992)",
           182
          ],
          [
           204,
           "Back to the Future (1985)",
           350
          ],
          [
           205,
           "Patton (1970)",
           136
          ],
          [
           206,
           "Akira (1988)",
           50
          ],
          [
           207,
           "Cyrano de Bergerac (1990)",
           66
          ],
          [
           208,
           "Young Frankenstein (1974)",
           200
          ],
          [
           209,
           "This Is Spinal Tap (1984)",
           191
          ],
          [
           210,
           "Indiana Jones and the Last Crusade (1989)",
           331
          ],
          [
           211,
           "M*A*S*H (1970)",
           206
          ],
          [
           212,
           "Unbearable Lightness of Being, The (1988)",
           92
          ],
          [
           213,
           "Room with a View, A (1986)",
           134
          ],
          [
           214,
           "Pink Floyd - The Wall (1982)",
           114
          ],
          [
           215,
           "Field of Dreams (1989)",
           212
          ],
          [
           216,
           "When Harry Met Sally... (1989)",
           290
          ],
          [
           217,
           "Bram Stoker's Dracula (1992)",
           120
          ],
          [
           218,
           "Cape Fear (1991)",
           171
          ],
          [
           219,
           "Nightmare on Elm Street, A (1984)",
           111
          ],
          [
           220,
           "Mirror Has Two Faces, The (1996)",
           66
          ],
          [
           221,
           "Breaking the Waves (1996)",
           74
          ],
          [
           222,
           "Star Trek: First Contact (1996)",
           365
          ],
          [
           223,
           "Sling Blade (1996)",
           136
          ],
          [
           224,
           "Ridicule (1996)",
           44
          ],
          [
           225,
           "101 Dalmatians (1996)",
           109
          ],
          [
           226,
           "Die Hard 2 (1990)",
           166
          ],
          [
           227,
           "Star Trek VI: The Undiscovered Country (1991)",
           161
          ],
          [
           228,
           "Star Trek: The Wrath of Khan (1982)",
           244
          ],
          [
           229,
           "Star Trek III: The Search for Spock (1984)",
           171
          ],
          [
           230,
           "Star Trek IV: The Voyage Home (1986)",
           199
          ],
          [
           231,
           "Batman Returns (1992)",
           142
          ],
          [
           232,
           "Young Guns (1988)",
           101
          ],
          [
           233,
           "Under Siege (1992)",
           124
          ],
          [
           234,
           "Jaws (1975)",
           280
          ],
          [
           235,
           "Mars Attacks! (1996)",
           217
          ],
          [
           236,
           "Citizen Ruth (1996)",
           45
          ],
          [
           237,
           "Jerry Maguire (1996)",
           384
          ],
          [
           238,
           "Raising Arizona (1987)",
           256
          ],
          [
           239,
           "Sneakers (1992)",
           150
          ],
          [
           240,
           "Beavis and Butt-head Do America (1996)",
           156
          ],
          [
           241,
           "Last of the Mohicans, The (1992)",
           128
          ],
          [
           242,
           "Kolya (1996)",
           117
          ],
          [
           243,
           "Jungle2Jungle (1997)",
           132
          ],
          [
           244,
           "Smilla's Sense of Snow (1997)",
           48
          ],
          [
           245,
           "Devil's Own, The (1997)",
           240
          ],
          [
           246,
           "Chasing Amy (1997)",
           124
          ],
          [
           247,
           "Turbo: A Power Rangers Movie (1997)",
           5
          ],
          [
           248,
           "Grosse Pointe Blank (1997)",
           160
          ],
          [
           249,
           "Austin Powers: International Man of Mystery (1997)",
           130
          ],
          [
           250,
           "Fifth Element, The (1997)",
           197
          ],
          [
           251,
           "Shall We Dance? (1996)",
           46
          ],
          [
           252,
           "Lost World: Jurassic Park, The (1997)",
           158
          ],
          [
           253,
           "Pillow Book, The (1995)",
           26
          ],
          [
           254,
           "Batman & Robin (1997)",
           62
          ],
          [
           255,
           "My Best Friend's Wedding (1997)",
           172
          ],
          [
           256,
           "When the Cats Away (Chacun cherche son chat) (1996)",
           16
          ],
          [
           257,
           "Men in Black (1997)",
           303
          ],
          [
           258,
           "Contact (1997)",
           509
          ],
          [
           259,
           "George of the Jungle (1997)",
           162
          ],
          [
           260,
           "Event Horizon (1997)",
           127
          ],
          [
           261,
           "Air Bud (1997)",
           43
          ],
          [
           262,
           "In the Company of Men (1997)",
           66
          ],
          [
           263,
           "Steel (1997)",
           19
          ],
          [
           264,
           "Mimic (1997)",
           101
          ],
          [
           265,
           "Hunt for Red October, The (1990)",
           227
          ],
          [
           266,
           "Kull the Conqueror (1997)",
           35
          ],
          [
           267,
           "unknown",
           9
          ],
          [
           268,
           "Chasing Amy (1997)",
           255
          ],
          [
           269,
           "Full Monty, The (1997)",
           315
          ],
          [
           270,
           "Gattaca (1997)",
           136
          ],
          [
           271,
           "Starship Troopers (1997)",
           211
          ],
          [
           272,
           "Good Will Hunting (1997)",
           198
          ],
          [
           273,
           "Heat (1995)",
           223
          ],
          [
           274,
           "Sabrina (1995)",
           190
          ],
          [
           275,
           "Sense and Sensibility (1995)",
           268
          ],
          [
           276,
           "Leaving Las Vegas (1995)",
           298
          ],
          [
           277,
           "Restoration (1995)",
           71
          ],
          [
           278,
           "Bed of Roses (1996)",
           60
          ],
          [
           279,
           "Once Upon a Time... When We Were Colored (1995)",
           28
          ],
          [
           280,
           "Up Close and Personal (1996)",
           85
          ],
          [
           281,
           "River Wild, The (1994)",
           146
          ],
          [
           282,
           "Time to Kill, A (1996)",
           232
          ],
          [
           283,
           "Emma (1996)",
           177
          ],
          [
           284,
           "Tin Cup (1996)",
           193
          ],
          [
           285,
           "Secrets & Lies (1996)",
           162
          ],
          [
           286,
           "English Patient, The (1996)",
           481
          ],
          [
           287,
           "Marvin's Room (1996)",
           78
          ],
          [
           288,
           "Scream (1996)",
           478
          ],
          [
           289,
           "Evita (1996)",
           259
          ],
          [
           290,
           "Fierce Creatures (1997)",
           96
          ],
          [
           291,
           "Absolute Power (1997)",
           127
          ],
          [
           292,
           "Rosewood (1997)",
           114
          ],
          [
           293,
           "Donnie Brasco (1997)",
           147
          ],
          [
           294,
           "Liar Liar (1997)",
           485
          ],
          [
           295,
           "Breakdown (1997)",
           77
          ],
          [
           296,
           "Promesse, La (1996)",
           6
          ],
          [
           297,
           "Ulee's Gold (1997)",
           50
          ],
          [
           298,
           "Face/Off (1997)",
           194
          ],
          [
           299,
           "Hoodlum (1997)",
           73
          ],
          [
           300,
           "Air Force One (1997)",
           431
          ],
          [
           301,
           "In & Out (1997)",
           230
          ],
          [
           302,
           "L.A. Confidential (1997)",
           297
          ],
          [
           303,
           "Ulee's Gold (1997)",
           134
          ],
          [
           304,
           "Fly Away Home (1996)",
           149
          ],
          [
           305,
           "Ice Storm, The (1997)",
           87
          ],
          [
           306,
           "Mrs. Brown (Her Majesty, Mrs. Brown) (1997)",
           96
          ],
          [
           307,
           "Devil's Advocate, The (1997)",
           188
          ],
          [
           308,
           "FairyTale: A True Story (1997)",
           30
          ],
          [
           309,
           "Deceiver (1997)",
           28
          ],
          [
           310,
           "Rainmaker, The (1997)",
           145
          ],
          [
           311,
           "Wings of the Dove, The (1997)",
           75
          ],
          [
           312,
           "Midnight in the Garden of Good and Evil (1997)",
           80
          ],
          [
           313,
           "Titanic (1997)",
           350
          ],
          [
           314,
           "3 Ninjas: High Noon At Mega Mountain (1998)",
           5
          ],
          [
           315,
           "Apt Pupil (1998)",
           160
          ],
          [
           316,
           "As Good As It Gets (1997)",
           112
          ],
          [
           317,
           "In the Name of the Father (1993)",
           102
          ],
          [
           318,
           "Schindler's List (1993)",
           298
          ],
          [
           319,
           "Everyone Says I Love You (1996)",
           168
          ],
          [
           320,
           "Paradise Lost: The Child Murders at Robin Hood Hills (1996)",
           20
          ],
          [
           321,
           "Mother (1996)",
           169
          ],
          [
           322,
           "Murder at 1600 (1997)",
           218
          ],
          [
           323,
           "Dante's Peak (1997)",
           240
          ],
          [
           324,
           "Lost Highway (1997)",
           125
          ],
          [
           325,
           "Crash (1996)",
           128
          ],
          [
           326,
           "G.I. Jane (1997)",
           175
          ],
          [
           327,
           "Cop Land (1997)",
           175
          ],
          [
           328,
           "Conspiracy Theory (1997)",
           295
          ],
          [
           329,
           "Desperate Measures (1998)",
           45
          ],
          [
           330,
           "187 (1997)",
           41
          ],
          [
           331,
           "Edge, The (1997)",
           113
          ],
          [
           332,
           "Kiss the Girls (1997)",
           143
          ],
          [
           333,
           "Game, The (1997)",
           251
          ],
          [
           334,
           "U Turn (1997)",
           64
          ],
          [
           335,
           "How to Be a Player (1997)",
           21
          ],
          [
           336,
           "Playing God (1997)",
           43
          ],
          [
           337,
           "House of Yes, The (1997)",
           18
          ],
          [
           338,
           "Bean (1997)",
           91
          ],
          [
           339,
           "Mad City (1997)",
           47
          ],
          [
           340,
           "Boogie Nights (1997)",
           189
          ],
          [
           341,
           "Critical Care (1997)",
           11
          ],
          [
           342,
           "Man Who Knew Too Little, The (1997)",
           52
          ],
          [
           343,
           "Alien: Resurrection (1997)",
           124
          ],
          [
           344,
           "Apostle, The (1997)",
           55
          ],
          [
           345,
           "Deconstructing Harry (1997)",
           65
          ],
          [
           346,
           "Jackie Brown (1997)",
           126
          ],
          [
           347,
           "Wag the Dog (1997)",
           137
          ],
          [
           348,
           "Desperate Measures (1998)",
           27
          ],
          [
           349,
           "Hard Rain (1998)",
           31
          ],
          [
           350,
           "Fallen (1998)",
           41
          ],
          [
           351,
           "Prophecy II, The (1998)",
           20
          ],
          [
           352,
           "Spice World (1997)",
           26
          ],
          [
           353,
           "Deep Rising (1998)",
           14
          ],
          [
           354,
           "Wedding Singer, The (1998)",
           72
          ],
          [
           355,
           "Sphere (1998)",
           41
          ],
          [
           356,
           "Client, The (1994)",
           97
          ],
          [
           357,
           "One Flew Over the Cuckoo's Nest (1975)",
           264
          ],
          [
           358,
           "Spawn (1997)",
           143
          ],
          [
           359,
           "Assignment, The (1997)",
           18
          ],
          [
           360,
           "Wonderland (1997)",
           10
          ],
          [
           361,
           "Incognito (1997)",
           10
          ],
          [
           362,
           "Blues Brothers 2000 (1998)",
           28
          ],
          [
           363,
           "Sudden Death (1995)",
           47
          ],
          [
           364,
           "Ace Ventura: When Nature Calls (1995)",
           37
          ],
          [
           365,
           "Powder (1995)",
           48
          ],
          [
           366,
           "Dangerous Minds (1995)",
           47
          ],
          [
           367,
           "Clueless (1995)",
           170
          ],
          [
           368,
           "Bio-Dome (1996)",
           31
          ],
          [
           369,
           "Black Sheep (1996)",
           55
          ],
          [
           370,
           "Mary Reilly (1996)",
           39
          ],
          [
           371,
           "Bridges of Madison County, The (1995)",
           67
          ],
          [
           372,
           "Jeffrey (1995)",
           34
          ],
          [
           373,
           "Judge Dredd (1995)",
           39
          ],
          [
           374,
           "Mighty Morphin Power Rangers: The Movie (1995)",
           11
          ],
          [
           375,
           "Showgirls (1995)",
           23
          ],
          [
           376,
           "Houseguest (1994)",
           24
          ],
          [
           377,
           "Heavyweights (1994)",
           13
          ],
          [
           378,
           "Miracle on 34th Street (1994)",
           101
          ],
          [
           379,
           "Tales From the Crypt Presents: Demon Knight (1995)",
           43
          ],
          [
           380,
           "Star Trek: Generations (1994)",
           116
          ],
          [
           381,
           "Muriel's Wedding (1994)",
           100
          ],
          [
           382,
           "Adventures of Priscilla, Queen of the Desert, The (1994)",
           111
          ],
          [
           383,
           "Flintstones, The (1994)",
           31
          ],
          [
           384,
           "Naked Gun 33 1/3: The Final Insult (1994)",
           69
          ],
          [
           385,
           "True Lies (1994)",
           208
          ],
          [
           386,
           "Addams Family Values (1993)",
           87
          ],
          [
           387,
           "Age of Innocence, The (1993)",
           65
          ],
          [
           388,
           "Beverly Hills Cop III (1994)",
           28
          ],
          [
           389,
           "Black Beauty (1994)",
           27
          ],
          [
           390,
           "Fear of a Black Hat (1993)",
           10
          ],
          [
           391,
           "Last Action Hero (1993)",
           59
          ],
          [
           392,
           "Man Without a Face, The (1993)",
           68
          ],
          [
           393,
           "Mrs. Doubtfire (1993)",
           192
          ],
          [
           394,
           "Radioland Murders (1994)",
           12
          ],
          [
           395,
           "Robin Hood: Men in Tights (1993)",
           56
          ],
          [
           396,
           "Serial Mom (1994)",
           54
          ],
          [
           397,
           "Striking Distance (1993)",
           12
          ],
          [
           398,
           "Super Mario Bros. (1993)",
           26
          ],
          [
           399,
           "Three Musketeers, The (1993)",
           89
          ],
          [
           400,
           "Little Rascals, The (1994)",
           18
          ],
          [
           401,
           "Brady Bunch Movie, The (1995)",
           76
          ],
          [
           402,
           "Ghost (1990)",
           170
          ],
          [
           403,
           "Batman (1989)",
           201
          ],
          [
           404,
           "Pinocchio (1940)",
           101
          ],
          [
           405,
           "Mission: Impossible (1996)",
           344
          ],
          [
           406,
           "Thinner (1996)",
           49
          ],
          [
           407,
           "Spy Hard (1996)",
           43
          ],
          [
           408,
           "Close Shave, A (1995)",
           112
          ],
          [
           409,
           "Jack (1996)",
           70
          ],
          [
           410,
           "Kingpin (1996)",
           162
          ],
          [
           411,
           "Nutty Professor, The (1996)",
           163
          ],
          [
           412,
           "Very Brady Sequel, A (1996)",
           93
          ],
          [
           413,
           "Tales from the Crypt Presents: Bordello of Blood (1996)",
           55
          ],
          [
           414,
           "My Favorite Year (1982)",
           62
          ],
          [
           415,
           "Apple Dumpling Gang, The (1975)",
           25
          ],
          [
           416,
           "Old Yeller (1957)",
           64
          ],
          [
           417,
           "Parent Trap, The (1961)",
           73
          ],
          [
           418,
           "Cinderella (1950)",
           129
          ],
          [
           419,
           "Mary Poppins (1964)",
           178
          ],
          [
           420,
           "Alice in Wonderland (1951)",
           81
          ],
          [
           421,
           "William Shakespeare's Romeo and Juliet (1996)",
           106
          ],
          [
           422,
           "Aladdin and the King of Thieves (1996)",
           26
          ],
          [
           423,
           "E.T. the Extra-Terrestrial (1982)",
           300
          ],
          [
           424,
           "Children of the Corn: The Gathering (1996)",
           19
          ],
          [
           425,
           "Bob Roberts (1992)",
           85
          ],
          [
           426,
           "Transformers: The Movie, The (1986)",
           32
          ],
          [
           427,
           "To Kill a Mockingbird (1962)",
           219
          ],
          [
           428,
           "Harold and Maude (1971)",
           121
          ],
          [
           429,
           "Day the Earth Stood Still, The (1951)",
           97
          ],
          [
           430,
           "Duck Soup (1933)",
           93
          ],
          [
           431,
           "Highlander (1986)",
           153
          ],
          [
           432,
           "Fantasia (1940)",
           174
          ],
          [
           433,
           "Heathers (1989)",
           171
          ],
          [
           434,
           "Forbidden Planet (1956)",
           67
          ],
          [
           435,
           "Butch Cassidy and the Sundance Kid (1969)",
           216
          ],
          [
           436,
           "American Werewolf in London, An (1981)",
           99
          ],
          [
           437,
           "Amityville 1992: It's About Time (1992)",
           5
          ],
          [
           438,
           "Amityville 3-D (1983)",
           6
          ],
          [
           439,
           "Amityville: A New Generation (1993)",
           5
          ],
          [
           440,
           "Amityville II: The Possession (1982)",
           14
          ],
          [
           441,
           "Amityville Horror, The (1979)",
           53
          ],
          [
           442,
           "Amityville Curse, The (1990)",
           4
          ],
          [
           443,
           "Birds, The (1963)",
           162
          ],
          [
           444,
           "Blob, The (1958)",
           46
          ],
          [
           445,
           "Body Snatcher, The (1945)",
           22
          ],
          [
           446,
           "Burnt Offerings (1976)",
           9
          ],
          [
           447,
           "Carrie (1976)",
           121
          ],
          [
           448,
           "Omen, The (1976)",
           85
          ],
          [
           449,
           "Star Trek: The Motion Picture (1979)",
           117
          ],
          [
           450,
           "Star Trek V: The Final Frontier (1989)",
           63
          ],
          [
           451,
           "Grease (1978)",
           170
          ],
          [
           452,
           "Jaws 2 (1978)",
           66
          ],
          [
           453,
           "Jaws 3-D (1983)",
           16
          ],
          [
           454,
           "Bastard Out of Carolina (1996)",
           16
          ],
          [
           455,
           "Jackie Chan's First Strike (1996)",
           145
          ],
          [
           456,
           "Beverly Hills Ninja (1997)",
           48
          ],
          [
           457,
           "Free Willy 3: The Rescue (1997)",
           27
          ],
          [
           458,
           "Nixon (1995)",
           90
          ],
          [
           459,
           "Cry, the Beloved Country (1995)",
           24
          ],
          [
           460,
           "Crossing Guard, The (1995)",
           28
          ],
          [
           461,
           "Smoke (1995)",
           74
          ],
          [
           462,
           "Like Water For Chocolate (Como agua para chocolate) (1992)",
           148
          ],
          [
           463,
           "Secret of Roan Inish, The (1994)",
           71
          ],
          [
           464,
           "Vanya on 42nd Street (1994)",
           27
          ],
          [
           465,
           "Jungle Book, The (1994)",
           85
          ],
          [
           466,
           "Red Rock West (1992)",
           52
          ],
          [
           467,
           "Bronx Tale, A (1993)",
           48
          ],
          [
           468,
           "Rudy (1993)",
           64
          ],
          [
           469,
           "Short Cuts (1993)",
           67
          ],
          [
           470,
           "Tombstone (1993)",
           108
          ],
          [
           471,
           "Courage Under Fire (1996)",
           221
          ],
          [
           472,
           "Dragonheart (1996)",
           158
          ],
          [
           473,
           "James and the Giant Peach (1996)",
           126
          ],
          [
           474,
           "Dr. Strangelove or: How I Learned to Stop Worrying and Love the Bomb (1963)",
           194
          ],
          [
           475,
           "Trainspotting (1996)",
           250
          ],
          [
           476,
           "First Wives Club, The (1996)",
           160
          ],
          [
           477,
           "Matilda (1996)",
           95
          ],
          [
           478,
           "Philadelphia Story, The (1940)",
           104
          ],
          [
           479,
           "Vertigo (1958)",
           179
          ],
          [
           480,
           "North by Northwest (1959)",
           179
          ],
          [
           481,
           "Apartment, The (1960)",
           63
          ],
          [
           482,
           "Some Like It Hot (1959)",
           128
          ],
          [
           483,
           "Casablanca (1942)",
           243
          ],
          [
           484,
           "Maltese Falcon, The (1941)",
           138
          ],
          [
           485,
           "My Fair Lady (1964)",
           125
          ],
          [
           486,
           "Sabrina (1954)",
           64
          ],
          [
           487,
           "Roman Holiday (1953)",
           68
          ],
          [
           488,
           "Sunset Blvd. (1950)",
           65
          ],
          [
           489,
           "Notorious (1946)",
           52
          ],
          [
           490,
           "To Catch a Thief (1955)",
           50
          ],
          [
           491,
           "Adventures of Robin Hood, The (1938)",
           67
          ],
          [
           492,
           "East of Eden (1955)",
           59
          ],
          [
           493,
           "Thin Man, The (1934)",
           60
          ],
          [
           494,
           "His Girl Friday (1940)",
           56
          ],
          [
           495,
           "Around the World in 80 Days (1956)",
           59
          ],
          [
           496,
           "It's a Wonderful Life (1946)",
           231
          ],
          [
           497,
           "Bringing Up Baby (1938)",
           68
          ],
          [
           498,
           "African Queen, The (1951)",
           152
          ],
          [
           499,
           "Cat on a Hot Tin Roof (1958)",
           62
          ],
          [
           500,
           "Fly Away Home (1996)",
           31
          ],
          [
           501,
           "Dumbo (1941)",
           123
          ],
          [
           502,
           "Bananas (1971)",
           57
          ],
          [
           503,
           "Candidate, The (1972)",
           39
          ],
          [
           504,
           "Bonnie and Clyde (1967)",
           122
          ],
          [
           505,
           "Dial M for Murder (1954)",
           68
          ],
          [
           506,
           "Rebel Without a Cause (1955)",
           90
          ],
          [
           507,
           "Streetcar Named Desire, A (1951)",
           98
          ],
          [
           508,
           "People vs. Larry Flynt, The (1996)",
           215
          ],
          [
           509,
           "My Left Foot (1989)",
           121
          ],
          [
           510,
           "Magnificent Seven, The (1954)",
           121
          ],
          [
           511,
           "Lawrence of Arabia (1962)",
           173
          ],
          [
           512,
           "Wings of Desire (1987)",
           57
          ],
          [
           513,
           "Third Man, The (1949)",
           72
          ],
          [
           514,
           "Annie Hall (1977)",
           180
          ],
          [
           515,
           "Boot, Das (1981)",
           201
          ],
          [
           516,
           "Local Hero (1983)",
           63
          ],
          [
           517,
           "Manhattan (1979)",
           91
          ],
          [
           518,
           "Miller's Crossing (1990)",
           89
          ],
          [
           519,
           "Treasure of the Sierra Madre, The (1948)",
           80
          ],
          [
           520,
           "Great Escape, The (1963)",
           124
          ],
          [
           521,
           "Deer Hunter, The (1978)",
           120
          ],
          [
           522,
           "Down by Law (1986)",
           35
          ],
          [
           523,
           "Cool Hand Luke (1967)",
           164
          ],
          [
           524,
           "Great Dictator, The (1940)",
           46
          ],
          [
           525,
           "Big Sleep, The (1946)",
           73
          ],
          [
           526,
           "Ben-Hur (1959)",
           124
          ],
          [
           527,
           "Gandhi (1982)",
           195
          ],
          [
           528,
           "Killing Fields, The (1984)",
           121
          ],
          [
           529,
           "My Life as a Dog (Mitt liv som hund) (1985)",
           93
          ],
          [
           530,
           "Man Who Would Be King, The (1975)",
           80
          ],
          [
           531,
           "Shine (1996)",
           129
          ],
          [
           532,
           "Kama Sutra: A Tale of Love (1996)",
           22
          ],
          [
           533,
           "Daytrippers, The (1996)",
           15
          ],
          [
           534,
           "Traveller (1997)",
           13
          ],
          [
           535,
           "Addicted to Love (1997)",
           54
          ],
          [
           536,
           "Ponette (1996)",
           10
          ],
          [
           537,
           "My Own Private Idaho (1991)",
           30
          ],
          [
           538,
           "Anastasia (1997)",
           66
          ],
          [
           539,
           "Mouse Hunt (1997)",
           44
          ],
          [
           540,
           "Money Train (1995)",
           43
          ],
          [
           541,
           "Mortal Kombat (1995)",
           49
          ],
          [
           542,
           "Pocahontas (1995)",
           51
          ],
          [
           543,
           "Misérables, Les (1995)",
           21
          ],
          [
           544,
           "Things to Do in Denver when You're Dead (1995)",
           71
          ],
          [
           545,
           "Vampire in Brooklyn (1995)",
           12
          ],
          [
           546,
           "Broken Arrow (1996)",
           254
          ],
          [
           547,
           "Young Poisoner's Handbook, The (1995)",
           41
          ],
          [
           548,
           "NeverEnding Story III, The (1994)",
           12
          ],
          [
           549,
           "Rob Roy (1995)",
           92
          ],
          [
           550,
           "Die Hard: With a Vengeance (1995)",
           151
          ],
          [
           551,
           "Lord of Illusions (1995)",
           24
          ],
          [
           552,
           "Species (1995)",
           45
          ],
          [
           553,
           "Walk in the Clouds, A (1995)",
           63
          ],
          [
           554,
           "Waterworld (1995)",
           102
          ],
          [
           555,
           "White Man's Burden (1995)",
           10
          ],
          [
           556,
           "Wild Bill (1995)",
           12
          ],
          [
           557,
           "Farinelli: il castrato (1994)",
           17
          ],
          [
           558,
           "Heavenly Creatures (1994)",
           70
          ],
          [
           559,
           "Interview with the Vampire (1994)",
           137
          ],
          [
           560,
           "Kid in King Arthur's Court, A (1995)",
           22
          ],
          [
           561,
           "Mary Shelley's Frankenstein (1994)",
           59
          ],
          [
           562,
           "Quick and the Dead, The (1995)",
           48
          ],
          [
           563,
           "Stephen King's The Langoliers (1995)",
           29
          ],
          [
           564,
           "Tales from the Hood (1995)",
           27
          ],
          [
           565,
           "Village of the Damned (1995)",
           22
          ],
          [
           566,
           "Clear and Present Danger (1994)",
           179
          ],
          [
           567,
           "Wes Craven's New Nightmare (1994)",
           35
          ],
          [
           568,
           "Speed (1994)",
           230
          ],
          [
           569,
           "Wolf (1994)",
           67
          ],
          [
           570,
           "Wyatt Earp (1994)",
           50
          ],
          [
           571,
           "Another Stakeout (1993)",
           28
          ],
          [
           572,
           "Blown Away (1994)",
           29
          ],
          [
           573,
           "Body Snatchers (1993)",
           33
          ],
          [
           574,
           "Boxing Helena (1993)",
           15
          ],
          [
           575,
           "City Slickers II: The Legend of Curly's Gold (1994)",
           44
          ],
          [
           576,
           "Cliffhanger (1993)",
           93
          ],
          [
           577,
           "Coneheads (1993)",
           41
          ],
          [
           578,
           "Demolition Man (1993)",
           92
          ],
          [
           579,
           "Fatal Instinct (1993)",
           19
          ],
          [
           580,
           "Englishman Who Went Up a Hill, But Came Down a Mountain, The (1995)",
           32
          ],
          [
           581,
           "Kalifornia (1993)",
           59
          ],
          [
           582,
           "Piano, The (1993)",
           168
          ],
          [
           583,
           "Romeo Is Bleeding (1993)",
           37
          ],
          [
           584,
           "Secret Garden, The (1993)",
           79
          ],
          [
           585,
           "Son in Law (1993)",
           39
          ],
          [
           586,
           "Terminal Velocity (1994)",
           34
          ],
          [
           587,
           "Hour of the Pig, The (1993)",
           14
          ],
          [
           588,
           "Beauty and the Beast (1991)",
           202
          ],
          [
           589,
           "Wild Bunch, The (1969)",
           43
          ],
          [
           590,
           "Hellraiser: Bloodline (1996)",
           18
          ],
          [
           591,
           "Primal Fear (1996)",
           178
          ],
          [
           592,
           "True Crime (1995)",
           9
          ],
          [
           593,
           "Stalingrad (1993)",
           12
          ],
          [
           594,
           "Heavy (1995)",
           5
          ],
          [
           595,
           "Fan, The (1996)",
           64
          ],
          [
           596,
           "Hunchback of Notre Dame, The (1996)",
           127
          ],
          [
           597,
           "Eraser (1996)",
           206
          ],
          [
           598,
           "Big Squeeze, The (1996)",
           4
          ],
          [
           599,
           "Police Story 4: Project S (Chao ji ji hua) (1993)",
           1
          ],
          [
           600,
           "Daniel Defoe's Robinson Crusoe (1996)",
           2
          ],
          [
           601,
           "For Whom the Bell Tolls (1943)",
           20
          ],
          [
           602,
           "American in Paris, An (1951)",
           50
          ],
          [
           603,
           "Rear Window (1954)",
           209
          ],
          [
           604,
           "It Happened One Night (1934)",
           81
          ],
          [
           605,
           "Meet Me in St. Louis (1944)",
           31
          ],
          [
           606,
           "All About Eve (1950)",
           66
          ],
          [
           607,
           "Rebecca (1940)",
           66
          ],
          [
           608,
           "Spellbound (1945)",
           30
          ],
          [
           609,
           "Father of the Bride (1950)",
           60
          ],
          [
           610,
           "Gigi (1958)",
           41
          ],
          [
           611,
           "Laura (1944)",
           40
          ],
          [
           612,
           "Lost Horizon (1937)",
           34
          ],
          [
           613,
           "My Man Godfrey (1936)",
           27
          ],
          [
           614,
           "Giant (1956)",
           51
          ],
          [
           615,
           "39 Steps, The (1935)",
           59
          ],
          [
           616,
           "Night of the Living Dead (1968)",
           64
          ],
          [
           617,
           "Blue Angel, The (Blaue Engel, Der) (1930)",
           18
          ],
          [
           618,
           "Picnic (1955)",
           18
          ],
          [
           619,
           "Extreme Measures (1996)",
           64
          ],
          [
           620,
           "Chamber, The (1996)",
           43
          ],
          [
           621,
           "Davy Crockett, King of the Wild Frontier (1955)",
           11
          ],
          [
           622,
           "Swiss Family Robinson (1960)",
           39
          ],
          [
           623,
           "Angels in the Outfield (1994)",
           39
          ],
          [
           624,
           "Three Caballeros, The (1945)",
           22
          ],
          [
           625,
           "Sword in the Stone, The (1963)",
           82
          ],
          [
           626,
           "So Dear to My Heart (1949)",
           4
          ],
          [
           627,
           "Robin Hood: Prince of Thieves (1991)",
           75
          ],
          [
           628,
           "Sleepers (1996)",
           169
          ],
          [
           629,
           "Victor/Victoria (1982)",
           77
          ],
          [
           630,
           "Great Race, The (1965)",
           31
          ],
          [
           631,
           "Crying Game, The (1992)",
           119
          ],
          [
           632,
           "Sophie's Choice (1982)",
           58
          ],
          [
           633,
           "Christmas Carol, A (1938)",
           69
          ],
          [
           634,
           "Microcosmos: Le peuple de l'herbe (1996)",
           24
          ],
          [
           635,
           "Fog, The (1980)",
           23
          ],
          [
           636,
           "Escape from New York (1981)",
           91
          ],
          [
           637,
           "Howling, The (1981)",
           38
          ],
          [
           638,
           "Return of Martin Guerre, The (Retour de Martin Guerre, Le) (1982)",
           44
          ],
          [
           639,
           "Tin Drum, The (Blechtrommel, Die) (1979)",
           40
          ],
          [
           640,
           "Cook the Thief His Wife & Her Lover, The (1989)",
           82
          ],
          [
           641,
           "Paths of Glory (1957)",
           33
          ],
          [
           642,
           "Grifters, The (1990)",
           89
          ],
          [
           643,
           "The Innocent (1994)",
           4
          ],
          [
           644,
           "Thin Blue Line, The (1988)",
           35
          ],
          [
           645,
           "Paris Is Burning (1990)",
           27
          ],
          [
           646,
           "Once Upon a Time in the West (1969)",
           38
          ],
          [
           647,
           "Ran (1985)",
           70
          ],
          [
           648,
           "Quiet Man, The (1952)",
           67
          ],
          [
           649,
           "Once Upon a Time in America (1984)",
           50
          ],
          [
           650,
           "Seventh Seal, The (Sjunde inseglet, Det) (1957)",
           72
          ],
          [
           651,
           "Glory (1989)",
           171
          ],
          [
           652,
           "Rosencrantz and Guildenstern Are Dead (1990)",
           90
          ],
          [
           653,
           "Touch of Evil (1958)",
           34
          ],
          [
           654,
           "Chinatown (1974)",
           147
          ],
          [
           655,
           "Stand by Me (1986)",
           227
          ],
          [
           656,
           "M (1931)",
           44
          ],
          [
           657,
           "Manchurian Candidate, The (1962)",
           131
          ],
          [
           658,
           "Pump Up the Volume (1990)",
           79
          ],
          [
           659,
           "Arsenic and Old Lace (1944)",
           115
          ],
          [
           660,
           "Fried Green Tomatoes (1991)",
           153
          ],
          [
           661,
           "High Noon (1952)",
           88
          ],
          [
           662,
           "Somewhere in Time (1980)",
           82
          ],
          [
           663,
           "Being There (1979)",
           116
          ],
          [
           664,
           "Paris, Texas (1984)",
           46
          ],
          [
           665,
           "Alien 3 (1992)",
           100
          ],
          [
           666,
           "Blood For Dracula (Andy Warhol's Dracula) (1974)",
           5
          ],
          [
           667,
           "Audrey Rose (1977)",
           12
          ],
          [
           668,
           "Blood Beach (1981)",
           6
          ],
          [
           669,
           "Body Parts (1991)",
           13
          ],
          [
           670,
           "Body Snatchers (1993)",
           36
          ],
          [
           671,
           "Bride of Frankenstein (1935)",
           46
          ],
          [
           672,
           "Candyman (1992)",
           65
          ],
          [
           673,
           "Cape Fear (1962)",
           86
          ],
          [
           674,
           "Cat People (1982)",
           48
          ],
          [
           675,
           "Nosferatu (Nosferatu, eine Symphonie des Grauens) (1922)",
           54
          ],
          [
           676,
           "Crucible, The (1996)",
           77
          ],
          [
           677,
           "Fire on the Mountain (1996)",
           1
          ],
          [
           678,
           "Volcano (1997)",
           219
          ],
          [
           679,
           "Conan the Barbarian (1981)",
           107
          ],
          [
           680,
           "Kull the Conqueror (1997)",
           34
          ],
          [
           681,
           "Wishmaster (1997)",
           27
          ],
          [
           682,
           "I Know What You Did Last Summer (1997)",
           100
          ],
          [
           683,
           "Rocket Man (1997)",
           49
          ],
          [
           684,
           "In the Line of Fire (1993)",
           169
          ],
          [
           685,
           "Executive Decision (1996)",
           157
          ],
          [
           686,
           "Perfect World, A (1993)",
           50
          ],
          [
           687,
           "McHale's Navy (1997)",
           69
          ],
          [
           688,
           "Leave It to Beaver (1997)",
           44
          ],
          [
           689,
           "Jackal, The (1997)",
           87
          ],
          [
           690,
           "Seven Years in Tibet (1997)",
           155
          ],
          [
           691,
           "Dark City (1998)",
           16
          ],
          [
           692,
           "American President, The (1995)",
           164
          ],
          [
           693,
           "Casino (1995)",
           91
          ],
          [
           694,
           "Persuasion (1995)",
           44
          ],
          [
           695,
           "Kicking and Screaming (1995)",
           13
          ],
          [
           696,
           "City Hall (1996)",
           79
          ],
          [
           697,
           "Basketball Diaries, The (1995)",
           40
          ],
          [
           698,
           "Browning Version, The (1994)",
           10
          ],
          [
           699,
           "Little Women (1994)",
           102
          ],
          [
           700,
           "Miami Rhapsody (1995)",
           15
          ],
          [
           701,
           "Wonderful, Horrible Life of Leni Riefenstahl, The (1993)",
           10
          ],
          [
           702,
           "Barcelona (1994)",
           53
          ],
          [
           703,
           "Widows' Peak (1994)",
           19
          ],
          [
           704,
           "House of the Spirits, The (1993)",
           24
          ],
          [
           705,
           "Singin' in the Rain (1952)",
           137
          ],
          [
           706,
           "Bad Moon (1996)",
           6
          ],
          [
           707,
           "Enchanted April (1991)",
           70
          ],
          [
           708,
           "Sex, Lies, and Videotape (1989)",
           101
          ],
          [
           709,
           "Strictly Ballroom (1992)",
           104
          ],
          [
           710,
           "Better Off Dead... (1985)",
           79
          ],
          [
           711,
           "Substance of Fire, The (1996)",
           1
          ],
          [
           712,
           "Tin Men (1987)",
           51
          ],
          [
           713,
           "Othello (1995)",
           72
          ],
          [
           714,
           "Carrington (1995)",
           13
          ],
          [
           715,
           "To Die For (1995)",
           87
          ],
          [
           716,
           "Home for the Holidays (1995)",
           58
          ],
          [
           717,
           "Juror, The (1996)",
           82
          ],
          [
           718,
           "In the Bleak Midwinter (1995)",
           16
          ],
          [
           719,
           "Canadian Bacon (1994)",
           29
          ],
          [
           720,
           "First Knight (1995)",
           86
          ],
          [
           721,
           "Mallrats (1995)",
           54
          ],
          [
           722,
           "Nine Months (1995)",
           58
          ],
          [
           723,
           "Boys on the Side (1995)",
           34
          ],
          [
           724,
           "Circle of Friends (1995)",
           76
          ],
          [
           725,
           "Exit to Eden (1994)",
           16
          ],
          [
           726,
           "Fluke (1995)",
           14
          ],
          [
           727,
           "Immortal Beloved (1994)",
           63
          ],
          [
           728,
           "Junior (1994)",
           45
          ],
          [
           729,
           "Nell (1994)",
           81
          ],
          [
           730,
           "Queen Margot (Reine Margot, La) (1994)",
           24
          ],
          [
           731,
           "Corrina, Corrina (1994)",
           39
          ],
          [
           732,
           "Dave (1993)",
           180
          ],
          [
           733,
           "Go Fish (1994)",
           15
          ],
          [
           734,
           "Made in America (1993)",
           27
          ],
          [
           735,
           "Philadelphia (1993)",
           137
          ],
          [
           736,
           "Shadowlands (1993)",
           78
          ],
          [
           737,
           "Sirens (1994)",
           59
          ],
          [
           738,
           "Threesome (1994)",
           31
          ],
          [
           739,
           "Pretty Woman (1990)",
           164
          ],
          [
           740,
           "Jane Eyre (1996)",
           63
          ],
          [
           741,
           "Last Supper, The (1995)",
           58
          ],
          [
           742,
           "Ransom (1996)",
           267
          ],
          [
           743,
           "Crow: City of Angels, The (1996)",
           39
          ],
          [
           744,
           "Michael Collins (1996)",
           92
          ],
          [
           745,
           "Ruling Class, The (1972)",
           16
          ],
          [
           746,
           "Real Genius (1985)",
           119
          ],
          [
           747,
           "Benny & Joon (1993)",
           102
          ],
          [
           748,
           "Saint, The (1997)",
           316
          ],
          [
           749,
           "MatchMaker, The (1997)",
           51
          ],
          [
           750,
           "Amistad (1997)",
           124
          ],
          [
           751,
           "Tomorrow Never Dies (1997)",
           180
          ],
          [
           752,
           "Replacement Killers, The (1998)",
           39
          ],
          [
           753,
           "Burnt By the Sun (1994)",
           24
          ],
          [
           754,
           "Red Corner (1997)",
           57
          ],
          [
           755,
           "Jumanji (1995)",
           96
          ],
          [
           756,
           "Father of the Bride Part II (1995)",
           128
          ],
          [
           757,
           "Across the Sea of Time (1995)",
           4
          ],
          [
           758,
           "Lawnmower Man 2: Beyond Cyberspace (1996)",
           21
          ],
          [
           759,
           "Fair Game (1995)",
           11
          ],
          [
           760,
           "Screamers (1995)",
           46
          ],
          [
           761,
           "Nick of Time (1995)",
           44
          ],
          [
           762,
           "Beautiful Girls (1996)",
           115
          ],
          [
           763,
           "Happy Gilmore (1996)",
           149
          ],
          [
           764,
           "If Lucy Fell (1996)",
           29
          ],
          [
           765,
           "Boomerang (1992)",
           32
          ],
          [
           766,
           "Man of the Year (1995)",
           9
          ],
          [
           767,
           "Addiction, The (1995)",
           11
          ],
          [
           768,
           "Casper (1995)",
           52
          ],
          [
           769,
           "Congo (1995)",
           42
          ],
          [
           770,
           "Devil in a Blue Dress (1995)",
           57
          ],
          [
           771,
           "Johnny Mnemonic (1995)",
           41
          ],
          [
           772,
           "Kids (1995)",
           49
          ],
          [
           773,
           "Mute Witness (1994)",
           17
          ],
          [
           774,
           "Prophecy, The (1995)",
           32
          ],
          [
           775,
           "Something to Talk About (1995)",
           26
          ],
          [
           776,
           "Three Wishes (1995)",
           9
          ],
          [
           777,
           "Castle Freak (1995)",
           4
          ],
          [
           778,
           "Don Juan DeMarco (1995)",
           76
          ],
          [
           779,
           "Drop Zone (1994)",
           31
          ],
          [
           780,
           "Dumb & Dumber (1994)",
           69
          ],
          [
           781,
           "French Kiss (1995)",
           84
          ],
          [
           782,
           "Little Odessa (1994)",
           10
          ],
          [
           783,
           "Milk Money (1994)",
           37
          ],
          [
           784,
           "Beyond Bedlam (1993)",
           2
          ],
          [
           785,
           "Only You (1994)",
           39
          ],
          [
           786,
           "Perez Family, The (1995)",
           14
          ],
          [
           787,
           "Roommates (1995)",
           13
          ],
          [
           788,
           "Relative Fear (1994)",
           3
          ],
          [
           789,
           "Swimming with Sharks (1995)",
           47
          ],
          [
           790,
           "Tommy Boy (1995)",
           66
          ],
          [
           791,
           "Baby-Sitters Club, The (1995)",
           10
          ],
          [
           792,
           "Bullets Over Broadway (1994)",
           86
          ],
          [
           793,
           "Crooklyn (1994)",
           10
          ],
          [
           794,
           "It Could Happen to You (1994)",
           46
          ],
          [
           795,
           "Richie Rich (1994)",
           21
          ],
          [
           796,
           "Speechless (1994)",
           36
          ],
          [
           797,
           "Timecop (1994)",
           31
          ],
          [
           798,
           "Bad Company (1995)",
           9
          ],
          [
           799,
           "Boys Life (1995)",
           5
          ],
          [
           800,
           "In the Mouth of Madness (1995)",
           26
          ],
          [
           801,
           "Air Up There, The (1994)",
           16
          ],
          [
           802,
           "Hard Target (1993)",
           40
          ],
          [
           803,
           "Heaven & Earth (1993)",
           9
          ],
          [
           804,
           "Jimmy Hollywood (1994)",
           8
          ],
          [
           805,
           "Manhattan Murder Mystery (1993)",
           27
          ],
          [
           806,
           "Menace II Society (1993)",
           50
          ],
          [
           807,
           "Poetic Justice (1993)",
           9
          ],
          [
           808,
           "Program, The (1993)",
           31
          ],
          [
           809,
           "Rising Sun (1993)",
           43
          ],
          [
           810,
           "Shadow, The (1994)",
           45
          ],
          [
           811,
           "Thirty-Two Short Films About Glenn Gould (1993)",
           18
          ],
          [
           812,
           "Andre (1994)",
           18
          ],
          [
           813,
           "Celluloid Closet, The (1995)",
           56
          ],
          [
           814,
           "Great Day in Harlem, A (1994)",
           1
          ],
          [
           815,
           "One Fine Day (1996)",
           112
          ],
          [
           816,
           "Candyman: Farewell to the Flesh (1995)",
           21
          ],
          [
           817,
           "Frisk (1995)",
           3
          ],
          [
           818,
           "Girl 6 (1996)",
           25
          ],
          [
           819,
           "Eddie (1996)",
           40
          ],
          [
           820,
           "Space Jam (1996)",
           93
          ],
          [
           821,
           "Mrs. Winterbourne (1996)",
           22
          ],
          [
           822,
           "Faces (1968)",
           4
          ],
          [
           823,
           "Mulholland Falls (1996)",
           82
          ],
          [
           824,
           "Great White Hype, The (1996)",
           49
          ],
          [
           825,
           "Arrival, The (1996)",
           83
          ],
          [
           826,
           "Phantom, The (1996)",
           80
          ],
          [
           827,
           "Daylight (1996)",
           57
          ],
          [
           828,
           "Alaska (1996)",
           13
          ],
          [
           829,
           "Fled (1996)",
           34
          ],
          [
           830,
           "Power 98 (1995)",
           1
          ],
          [
           831,
           "Escape from L.A. (1996)",
           91
          ],
          [
           832,
           "Bogus (1996)",
           22
          ],
          [
           833,
           "Bulletproof (1996)",
           49
          ],
          [
           834,
           "Halloween: The Curse of Michael Myers (1995)",
           25
          ],
          [
           835,
           "Gay Divorcee, The (1934)",
           15
          ],
          [
           836,
           "Ninotchka (1939)",
           26
          ],
          [
           837,
           "Meet John Doe (1941)",
           25
          ],
          [
           838,
           "In the Line of Duty 2 (1987)",
           4
          ],
          [
           839,
           "Loch Ness (1995)",
           4
          ],
          [
           840,
           "Last Man Standing (1996)",
           53
          ],
          [
           841,
           "Glimmer Man, The (1996)",
           48
          ],
          [
           842,
           "Pollyanna (1960)",
           27
          ],
          [
           843,
           "Shaggy Dog, The (1959)",
           30
          ],
          [
           844,
           "Freeway (1996)",
           42
          ],
          [
           845,
           "That Thing You Do! (1996)",
           176
          ],
          [
           846,
           "To Gillian on Her 37th Birthday (1996)",
           44
          ],
          [
           847,
           "Looking for Richard (1996)",
           55
          ],
          [
           848,
           "Murder, My Sweet (1944)",
           9
          ],
          [
           849,
           "Days of Thunder (1990)",
           53
          ],
          [
           850,
           "Perfect Candidate, A (1996)",
           4
          ],
          [
           851,
           "Two or Three Things I Know About Her (1966)",
           4
          ],
          [
           852,
           "Bloody Child, The (1996)",
           1
          ],
          [
           853,
           "Braindead (1992)",
           14
          ],
          [
           854,
           "Bad Taste (1987)",
           16
          ],
          [
           855,
           "Diva (1981)",
           66
          ],
          [
           856,
           "Night on Earth (1991)",
           36
          ],
          [
           857,
           "Paris Was a Woman (1995)",
           1
          ],
          [
           858,
           "Amityville: Dollhouse (1996)",
           3
          ],
          [
           859,
           "April Fool's Day (1986)",
           15
          ],
          [
           860,
           "Believers, The (1987)",
           16
          ],
          [
           861,
           "Nosferatu a Venezia (1986)",
           3
          ],
          [
           862,
           "Jingle All the Way (1996)",
           18
          ],
          [
           863,
           "Garden of Finzi-Contini, The (Giardino dei Finzi-Contini, Il) (1970)",
           24
          ],
          [
           864,
           "My Fellow Americans (1996)",
           86
          ],
          [
           865,
           "Ice Storm, The (1997)",
           21
          ],
          [
           866,
           "Michael (1996)",
           119
          ],
          [
           867,
           "Whole Wide World, The (1996)",
           6
          ],
          [
           868,
           "Hearts and Minds (1996)",
           5
          ],
          [
           869,
           "Fools Rush In (1997)",
           24
          ],
          [
           870,
           "Touch (1997)",
           9
          ],
          [
           871,
           "Vegas Vacation (1997)",
           75
          ],
          [
           872,
           "Love Jones (1997)",
           42
          ],
          [
           873,
           "Picture Perfect (1997)",
           81
          ],
          [
           874,
           "Career Girls (1997)",
           39
          ],
          [
           875,
           "She's So Lovely (1997)",
           53
          ],
          [
           876,
           "Money Talks (1997)",
           47
          ],
          [
           877,
           "Excess Baggage (1997)",
           52
          ],
          [
           878,
           "That Darn Cat! (1997)",
           33
          ],
          [
           879,
           "Peacemaker, The (1997)",
           136
          ],
          [
           880,
           "Soul Food (1997)",
           59
          ],
          [
           881,
           "Money Talks (1997)",
           45
          ],
          [
           882,
           "Washington Square (1997)",
           34
          ],
          [
           883,
           "Telling Lies in America (1997)",
           13
          ],
          [
           884,
           "Year of the Horse (1997)",
           7
          ],
          [
           885,
           "Phantoms (1998)",
           13
          ],
          [
           886,
           "Life Less Ordinary, A (1997)",
           53
          ],
          [
           887,
           "Eve's Bayou (1997)",
           64
          ],
          [
           888,
           "One Night Stand (1997)",
           15
          ],
          [
           889,
           "Tango Lesson, The (1997)",
           13
          ],
          [
           890,
           "Mortal Kombat: Annihilation (1997)",
           43
          ],
          [
           891,
           "Bent (1997)",
           6
          ],
          [
           892,
           "Flubber (1997)",
           53
          ],
          [
           893,
           "For Richer or Poorer (1997)",
           14
          ],
          [
           894,
           "Home Alone 3 (1997)",
           19
          ],
          [
           895,
           "Scream 2 (1997)",
           106
          ],
          [
           896,
           "Sweet Hereafter, The (1997)",
           44
          ],
          [
           897,
           "Time Tracers (1995)",
           2
          ],
          [
           898,
           "Postman, The (1997)",
           58
          ],
          [
           899,
           "Winter Guest, The (1997)",
           9
          ],
          [
           900,
           "Kundun (1997)",
           42
          ],
          [
           901,
           "Mr. Magoo (1997)",
           12
          ],
          [
           902,
           "Big Lebowski, The (1998)",
           42
          ],
          [
           903,
           "Afterglow (1997)",
           18
          ],
          [
           904,
           "Ma vie en rose (My Life in Pink) (1997)",
           20
          ],
          [
           905,
           "Great Expectations (1998)",
           27
          ],
          [
           906,
           "Oscar & Lucinda (1997)",
           21
          ],
          [
           907,
           "Vermin (1998)",
           2
          ],
          [
           908,
           "Half Baked (1998)",
           20
          ],
          [
           909,
           "Dangerous Beauty (1998)",
           13
          ],
          [
           910,
           "Nil By Mouth (1997)",
           4
          ],
          [
           911,
           "Twilight (1998)",
           4
          ],
          [
           912,
           "U.S. Marshalls (1998)",
           9
          ],
          [
           913,
           "Love and Death on Long Island (1997)",
           2
          ],
          [
           914,
           "Wild Things (1998)",
           11
          ],
          [
           915,
           "Primary Colors (1998)",
           13
          ],
          [
           916,
           "Lost in Space (1998)",
           18
          ],
          [
           917,
           "Mercury Rising (1998)",
           7
          ],
          [
           918,
           "City of Angels (1998)",
           8
          ],
          [
           919,
           "City of Lost Children, The (1995)",
           96
          ],
          [
           920,
           "Two Bits (1995)",
           5
          ],
          [
           921,
           "Farewell My Concubine (1993)",
           46
          ],
          [
           922,
           "Dead Man (1995)",
           34
          ],
          [
           923,
           "Raise the Red Lantern (1991)",
           58
          ],
          [
           924,
           "White Squall (1996)",
           85
          ],
          [
           925,
           "Unforgettable (1996)",
           34
          ],
          [
           926,
           "Down Periscope (1996)",
           101
          ],
          [
           927,
           "Flower of My Secret, The (Flor de mi secreto, La) (1995)",
           6
          ],
          [
           928,
           "Craft, The (1996)",
           104
          ],
          [
           929,
           "Harriet the Spy (1996)",
           40
          ],
          [
           930,
           "Chain Reaction (1996)",
           80
          ],
          [
           931,
           "Island of Dr. Moreau, The (1996)",
           57
          ],
          [
           932,
           "First Kid (1996)",
           40
          ],
          [
           933,
           "Funeral, The (1996)",
           21
          ],
          [
           934,
           "Preacher's Wife, The (1996)",
           68
          ],
          [
           935,
           "Paradise Road (1997)",
           7
          ],
          [
           936,
           "Brassed Off (1996)",
           32
          ],
          [
           937,
           "Thousand Acres, A (1997)",
           37
          ],
          [
           938,
           "Smile Like Yours, A (1997)",
           25
          ],
          [
           939,
           "Murder in the First (1995)",
           60
          ],
          [
           940,
           "Airheads (1994)",
           32
          ],
          [
           941,
           "With Honors (1994)",
           46
          ],
          [
           942,
           "What's Love Got to Do with It (1993)",
           45
          ],
          [
           943,
           "Killing Zoe (1994)",
           40
          ],
          [
           944,
           "Renaissance Man (1994)",
           43
          ],
          [
           945,
           "Charade (1963)",
           40
          ],
          [
           946,
           "Fox and the Hound, The (1981)",
           61
          ],
          [
           947,
           "Big Blue, The (Grand bleu, Le) (1988)",
           17
          ],
          [
           948,
           "Booty Call (1997)",
           48
          ],
          [
           949,
           "How to Make an American Quilt (1995)",
           71
          ],
          [
           950,
           "Georgia (1995)",
           30
          ],
          [
           951,
           "Indian in the Cupboard, The (1995)",
           39
          ],
          [
           952,
           "Blue in the Face (1995)",
           45
          ],
          [
           953,
           "Unstrung Heroes (1995)",
           22
          ],
          [
           954,
           "Unzipped (1995)",
           11
          ],
          [
           955,
           "Before Sunrise (1995)",
           49
          ],
          [
           956,
           "Nobody's Fool (1994)",
           46
          ],
          [
           957,
           "Pushing Hands (1992)",
           2
          ],
          [
           958,
           "To Live (Huozhe) (1994)",
           14
          ],
          [
           959,
           "Dazed and Confused (1993)",
           64
          ],
          [
           960,
           "Naked (1993)",
           25
          ],
          [
           961,
           "Orlando (1993)",
           34
          ],
          [
           962,
           "Ruby in Paradise (1993)",
           23
          ],
          [
           963,
           "Some Folks Call It a Sling Blade (1993)",
           41
          ],
          [
           964,
           "Month by the Lake, A (1995)",
           9
          ],
          [
           965,
           "Funny Face (1957)",
           21
          ],
          [
           966,
           "Affair to Remember, An (1957)",
           26
          ],
          [
           967,
           "Little Lord Fauntleroy (1936)",
           12
          ],
          [
           968,
           "Inspector General, The (1949)",
           18
          ],
          [
           969,
           "Winnie the Pooh and the Blustery Day (1968)",
           75
          ],
          [
           970,
           "Hear My Song (1991)",
           8
          ],
          [
           971,
           "Mediterraneo (1991)",
           34
          ],
          [
           972,
           "Passion Fish (1992)",
           28
          ],
          [
           973,
           "Grateful Dead (1995)",
           4
          ],
          [
           974,
           "Eye for an Eye (1996)",
           32
          ],
          [
           975,
           "Fear (1996)",
           44
          ],
          [
           976,
           "Solo (1996)",
           12
          ],
          [
           977,
           "Substitute, The (1996)",
           49
          ],
          [
           978,
           "Heaven's Prisoners (1996)",
           27
          ],
          [
           979,
           "Trigger Effect, The (1996)",
           35
          ],
          [
           980,
           "Mother Night (1996)",
           22
          ],
          [
           981,
           "Dangerous Ground (1997)",
           8
          ],
          [
           982,
           "Maximum Risk (1996)",
           20
          ],
          [
           983,
           "Rich Man's Wife, The (1996)",
           15
          ],
          [
           984,
           "Shadow Conspiracy (1997)",
           44
          ],
          [
           985,
           "Blood & Wine (1997)",
           22
          ],
          [
           986,
           "Turbulence (1997)",
           23
          ],
          [
           987,
           "Underworld (1997)",
           4
          ],
          [
           988,
           "Beautician and the Beast, The (1997)",
           86
          ],
          [
           989,
           "Cats Don't Dance (1997)",
           32
          ],
          [
           990,
           "Anna Karenina (1997)",
           33
          ],
          [
           991,
           "Keys to Tulsa (1997)",
           25
          ],
          [
           992,
           "Head Above Water (1996)",
           4
          ],
          [
           993,
           "Hercules (1997)",
           66
          ],
          [
           994,
           "Last Time I Committed Suicide, The (1997)",
           7
          ],
          [
           995,
           "Kiss Me, Guido (1997)",
           31
          ],
          [
           996,
           "Big Green, The (1995)",
           14
          ],
          [
           997,
           "Stuart Saves His Family (1995)",
           16
          ],
          [
           998,
           "Cabin Boy (1994)",
           16
          ],
          [
           999,
           "Clean Slate (1994)",
           10
          ],
          [
           1000,
           "Lightning Jack (1994)",
           10
          ],
          [
           1001,
           "Stupids, The (1996)",
           17
          ],
          [
           1002,
           "Pest, The (1997)",
           8
          ],
          [
           1003,
           "That Darn Cat! (1997)",
           8
          ],
          [
           1004,
           "Geronimo: An American Legend (1993)",
           9
          ],
          [
           1005,
           "Double vie de Véronique, La (Double Life of Veronique, The) (1991)",
           22
          ],
          [
           1006,
           "Until the End of the World (Bis ans Ende der Welt) (1991)",
           23
          ],
          [
           1007,
           "Waiting for Guffman (1996)",
           47
          ],
          [
           1008,
           "I Shot Andy Warhol (1996)",
           37
          ],
          [
           1009,
           "Stealing Beauty (1996)",
           64
          ],
          [
           1010,
           "Basquiat (1996)",
           44
          ],
          [
           1011,
           "2 Days in the Valley (1996)",
           93
          ],
          [
           1012,
           "Private Parts (1997)",
           100
          ],
          [
           1013,
           "Anaconda (1997)",
           38
          ],
          [
           1014,
           "Romy and Michele's High School Reunion (1997)",
           98
          ],
          [
           1015,
           "Shiloh (1997)",
           12
          ],
          [
           1016,
           "Con Air (1997)",
           137
          ],
          [
           1017,
           "Trees Lounge (1996)",
           50
          ],
          [
           1018,
           "Tie Me Up! Tie Me Down! (1990)",
           32
          ],
          [
           1019,
           "Die xue shuang xiong (Killer, The) (1989)",
           31
          ],
          [
           1020,
           "Gaslight (1944)",
           35
          ],
          [
           1021,
           "8 1/2 (1963)",
           38
          ],
          [
           1022,
           "Fast, Cheap & Out of Control (1997)",
           32
          ],
          [
           1023,
           "Fathers' Day (1997)",
           31
          ],
          [
           1024,
           "Mrs. Dalloway (1997)",
           15
          ],
          [
           1025,
           "Fire Down Below (1997)",
           44
          ],
          [
           1026,
           "Lay of the Land, The (1997)",
           4
          ],
          [
           1027,
           "Shooter, The (1995)",
           3
          ],
          [
           1028,
           "Grumpier Old Men (1995)",
           148
          ],
          [
           1029,
           "Jury Duty (1995)",
           14
          ],
          [
           1030,
           "Beverly Hillbillies, The (1993)",
           20
          ],
          [
           1031,
           "Lassie (1994)",
           7
          ],
          [
           1032,
           "Little Big League (1994)",
           16
          ],
          [
           1033,
           "Homeward Bound II: Lost in San Francisco (1996)",
           32
          ],
          [
           1034,
           "Quest, The (1996)",
           27
          ],
          [
           1035,
           "Cool Runnings (1993)",
           68
          ],
          [
           1036,
           "Drop Dead Fred (1991)",
           24
          ],
          [
           1037,
           "Grease 2 (1982)",
           24
          ],
          [
           1038,
           "Switchback (1997)",
           17
          ],
          [
           1039,
           "Hamlet (1996)",
           90
          ],
          [
           1040,
           "Two if by Sea (1996)",
           25
          ],
          [
           1041,
           "Forget Paris (1995)",
           62
          ],
          [
           1042,
           "Just Cause (1995)",
           28
          ],
          [
           1043,
           "Rent-a-Kid (1995)",
           8
          ],
          [
           1044,
           "Paper, The (1994)",
           40
          ],
          [
           1045,
           "Fearless (1993)",
           25
          ],
          [
           1046,
           "Malice (1993)",
           46
          ],
          [
           1047,
           "Multiplicity (1996)",
           134
          ],
          [
           1048,
           "She's the One (1996)",
           73
          ],
          [
           1049,
           "House Arrest (1996)",
           25
          ],
          [
           1050,
           "Ghost and Mrs. Muir, The (1947)",
           43
          ],
          [
           1051,
           "Associate, The (1996)",
           41
          ],
          [
           1052,
           "Dracula: Dead and Loving It (1995)",
           25
          ],
          [
           1053,
           "Now and Then (1995)",
           24
          ],
          [
           1054,
           "Mr. Wrong (1996)",
           23
          ],
          [
           1055,
           "Simple Twist of Fate, A (1994)",
           10
          ],
          [
           1056,
           "Cronos (1992)",
           10
          ],
          [
           1057,
           "Pallbearer, The (1996)",
           22
          ],
          [
           1058,
           "War, The (1994)",
           15
          ],
          [
           1059,
           "Don't Be a Menace to South Central While Drinking Your Juice in the Hood (1996)",
           35
          ],
          [
           1060,
           "Adventures of Pinocchio, The (1996)",
           39
          ],
          [
           1061,
           "Evening Star, The (1996)",
           29
          ],
          [
           1062,
           "Four Days in September (1997)",
           12
          ],
          [
           1063,
           "Little Princess, A (1995)",
           41
          ],
          [
           1064,
           "Crossfire (1947)",
           4
          ],
          [
           1065,
           "Koyaanisqatsi (1983)",
           53
          ],
          [
           1066,
           "Balto (1995)",
           16
          ],
          [
           1067,
           "Bottle Rocket (1996)",
           44
          ],
          [
           1068,
           "Star Maker, The (Uomo delle stelle, L') (1995)",
           12
          ],
          [
           1069,
           "Amateur (1994)",
           18
          ],
          [
           1070,
           "Living in Oblivion (1995)",
           27
          ],
          [
           1071,
           "Party Girl (1995)",
           16
          ],
          [
           1072,
           "Pyromaniac's Love Story, A (1995)",
           7
          ],
          [
           1073,
           "Shallow Grave (1994)",
           66
          ],
          [
           1074,
           "Reality Bites (1994)",
           77
          ],
          [
           1075,
           "Man of No Importance, A (1994)",
           7
          ],
          [
           1076,
           "Pagemaster, The (1994)",
           12
          ],
          [
           1077,
           "Love and a .45 (1994)",
           8
          ],
          [
           1078,
           "Oliver & Company (1988)",
           22
          ],
          [
           1079,
           "Joe's Apartment (1996)",
           45
          ],
          [
           1080,
           "Celestial Clockwork (1994)",
           2
          ],
          [
           1081,
           "Curdled (1996)",
           8
          ],
          [
           1082,
           "Female Perversions (1996)",
           8
          ],
          [
           1083,
           "Albino Alligator (1996)",
           6
          ],
          [
           1084,
           "Anne Frank Remembered (1995)",
           21
          ],
          [
           1085,
           "Carried Away (1996)",
           11
          ],
          [
           1086,
           "It's My Party (1995)",
           21
          ],
          [
           1087,
           "Bloodsport 2 (1995)",
           10
          ],
          [
           1088,
           "Double Team (1997)",
           13
          ],
          [
           1089,
           "Speed 2: Cruise Control (1997)",
           38
          ],
          [
           1090,
           "Sliver (1993)",
           37
          ],
          [
           1091,
           "Pete's Dragon (1977)",
           43
          ],
          [
           1092,
           "Dear God (1996)",
           12
          ],
          [
           1093,
           "Live Nude Girls (1995)",
           23
          ],
          [
           1094,
           "Thin Line Between Love and Hate, A (1996)",
           12
          ],
          [
           1095,
           "High School High (1996)",
           29
          ],
          [
           1096,
           "Commandments (1997)",
           3
          ],
          [
           1097,
           "Hate (Haine, La) (1995)",
           18
          ],
          [
           1098,
           "Flirting With Disaster (1996)",
           42
          ],
          [
           1099,
           "Red Firecracker, Green Firecracker (1994)",
           13
          ],
          [
           1100,
           "What Happened Was... (1994)",
           8
          ],
          [
           1101,
           "Six Degrees of Separation (1993)",
           74
          ],
          [
           1102,
           "Two Much (1996)",
           7
          ],
          [
           1103,
           "Trust (1990)",
           19
          ],
          [
           1104,
           "C'est arrivé près de chez vous (1992)",
           4
          ],
          [
           1105,
           "Firestorm (1998)",
           18
          ],
          [
           1106,
           "Newton Boys, The (1998)",
           4
          ],
          [
           1107,
           "Beyond Rangoon (1995)",
           18
          ],
          [
           1108,
           "Feast of July (1995)",
           5
          ],
          [
           1109,
           "Death and the Maiden (1994)",
           28
          ],
          [
           1110,
           "Tank Girl (1995)",
           41
          ],
          [
           1111,
           "Double Happiness (1994)",
           7
          ],
          [
           1112,
           "Cobb (1994)",
           15
          ],
          [
           1113,
           "Mrs. Parker and the Vicious Circle (1994)",
           22
          ],
          [
           1114,
           "Faithful (1996)",
           10
          ],
          [
           1115,
           "Twelfth Night (1996)",
           29
          ],
          [
           1116,
           "Mark of Zorro, The (1940)",
           13
          ],
          [
           1117,
           "Surviving Picasso (1996)",
           19
          ],
          [
           1118,
           "Up in Smoke (1978)",
           47
          ],
          [
           1119,
           "Some Kind of Wonderful (1987)",
           59
          ],
          [
           1120,
           "I'm Not Rappaport (1996)",
           17
          ],
          [
           1121,
           "Umbrellas of Cherbourg, The (Parapluies de Cherbourg, Les) (1964)",
           21
          ],
          [
           1122,
           "They Made Me a Criminal (1939)",
           1
          ],
          [
           1123,
           "Last Time I Saw Paris, The (1954)",
           3
          ],
          [
           1124,
           "Farewell to Arms, A (1932)",
           12
          ],
          [
           1125,
           "Innocents, The (1961)",
           4
          ],
          [
           1126,
           "Old Man and the Sea, The (1958)",
           32
          ],
          [
           1127,
           "Truman Show, The (1998)",
           11
          ],
          [
           1128,
           "Heidi Fleiss: Hollywood Madam (1995) ",
           13
          ],
          [
           1129,
           "Chungking Express (1994)",
           28
          ],
          [
           1130,
           "Jupiter's Wife (1994)",
           1
          ],
          [
           1131,
           "Safe (1995)",
           13
          ],
          [
           1132,
           "Feeling Minnesota (1996)",
           32
          ],
          [
           1133,
           "Escape to Witch Mountain (1975)",
           30
          ],
          [
           1134,
           "Get on the Bus (1996)",
           38
          ],
          [
           1135,
           "Doors, The (1991)",
           46
          ],
          [
           1136,
           "Ghosts of Mississippi (1996)",
           29
          ],
          [
           1137,
           "Beautiful Thing (1996)",
           29
          ],
          [
           1138,
           "Best Men (1997)",
           5
          ],
          [
           1139,
           "Hackers (1995)",
           33
          ],
          [
           1140,
           "Road to Wellville, The (1994)",
           17
          ],
          [
           1141,
           "War Room, The (1993)",
           9
          ],
          [
           1142,
           "When We Were Kings (1996)",
           44
          ],
          [
           1143,
           "Hard Eight (1996)",
           15
          ],
          [
           1144,
           "Quiet Room, The (1996)",
           3
          ],
          [
           1145,
           "Blue Chips (1994)",
           9
          ],
          [
           1146,
           "Calendar Girl (1993)",
           3
          ],
          [
           1147,
           "My Family (1995)",
           21
          ],
          [
           1148,
           "Tom & Viv (1994)",
           9
          ],
          [
           1149,
           "Walkabout (1971)",
           26
          ],
          [
           1150,
           "Last Dance (1996)",
           9
          ],
          [
           1151,
           "Original Gangstas (1996)",
           7
          ],
          [
           1152,
           "In Love and War (1996)",
           28
          ],
          [
           1153,
           "Backbeat (1993)",
           19
          ],
          [
           1154,
           "Alphaville (1965)",
           12
          ],
          [
           1155,
           "Rendezvous in Paris (Rendez-vous de Paris, Les) (1995)",
           3
          ],
          [
           1156,
           "Cyclo (1995)",
           1
          ],
          [
           1157,
           "Relic, The (1997)",
           25
          ],
          [
           1158,
           "Fille seule, La (A Single Girl) (1995)",
           4
          ],
          [
           1159,
           "Stalker (1979)",
           11
          ],
          [
           1160,
           "Love! Valour! Compassion! (1997)",
           26
          ],
          [
           1161,
           "Palookaville (1996)",
           13
          ],
          [
           1162,
           "Phat Beach (1996)",
           5
          ],
          [
           1163,
           "Portrait of a Lady, The (1996)",
           25
          ],
          [
           1164,
           "Zeus and Roxanne (1997)",
           6
          ],
          [
           1165,
           "Big Bully (1996)",
           14
          ],
          [
           1166,
           "Love & Human Remains (1993)",
           12
          ],
          [
           1167,
           "Sum of Us, The (1994)",
           11
          ],
          [
           1168,
           "Little Buddha (1993)",
           22
          ],
          [
           1169,
           "Fresh (1994)",
           10
          ],
          [
           1170,
           "Spanking the Monkey (1994)",
           27
          ],
          [
           1171,
           "Wild Reeds (1994)",
           14
          ],
          [
           1172,
           "Women, The (1939)",
           15
          ],
          [
           1173,
           "Bliss (1997)",
           7
          ],
          [
           1174,
           "Caught (1996)",
           8
          ],
          [
           1175,
           "Hugo Pool (1997)",
           5
          ],
          [
           1176,
           "Welcome To Sarajevo (1997)",
           22
          ],
          [
           1177,
           "Dunston Checks In (1996)",
           7
          ],
          [
           1178,
           "Major Payne (1994)",
           19
          ],
          [
           1179,
           "Man of the House (1995)",
           9
          ],
          [
           1180,
           "I Love Trouble (1994)",
           10
          ],
          [
           1181,
           "Low Down Dirty Shame, A (1994)",
           10
          ],
          [
           1182,
           "Cops and Robbersons (1994)",
           13
          ],
          [
           1183,
           "Cowboy Way, The (1994)",
           19
          ],
          [
           1184,
           "Endless Summer 2, The (1994)",
           10
          ],
          [
           1185,
           "In the Army Now (1994)",
           18
          ],
          [
           1186,
           "Inkwell, The (1994)",
           3
          ],
          [
           1187,
           "Switchblade Sisters (1975)",
           13
          ],
          [
           1188,
           "Young Guns II (1990)",
           44
          ],
          [
           1189,
           "Prefontaine (1997)",
           3
          ],
          [
           1190,
           "That Old Feeling (1997)",
           11
          ],
          [
           1191,
           "Letter From Death Row, A (1998)",
           3
          ],
          [
           1192,
           "Boys of St. Vincent, The (1993)",
           13
          ],
          [
           1193,
           "Before the Rain (Pred dozhdot) (1994)",
           10
          ],
          [
           1194,
           "Once Were Warriors (1994)",
           31
          ],
          [
           1195,
           "Strawberry and Chocolate (Fresa y chocolate) (1993)",
           11
          ],
          [
           1196,
           "Savage Nights (Nuits fauves, Les) (1992)",
           3
          ],
          [
           1197,
           "Family Thing, A (1996)",
           45
          ],
          [
           1198,
           "Purple Noon (1960)",
           7
          ],
          [
           1199,
           "Cemetery Man (Dellamorte Dellamore) (1994)",
           23
          ],
          [
           1200,
           "Kim (1950)",
           7
          ],
          [
           1201,
           "Marlene Dietrich: Shadow and Light (1996) ",
           1
          ],
          [
           1202,
           "Maybe, Maybe Not (Bewegte Mann, Der) (1994)",
           8
          ],
          [
           1203,
           "Top Hat (1935)",
           21
          ],
          [
           1204,
           "To Be or Not to Be (1942)",
           18
          ],
          [
           1205,
           "Secret Agent, The (1996)",
           6
          ],
          [
           1206,
           "Amos & Andrew (1993)",
           19
          ],
          [
           1207,
           "Jade (1995)",
           17
          ],
          [
           1208,
           "Kiss of Death (1995)",
           20
          ],
          [
           1209,
           "Mixed Nuts (1994)",
           15
          ],
          [
           1210,
           "Virtuosity (1995)",
           38
          ],
          [
           1211,
           "Blue Sky (1994)",
           12
          ],
          [
           1212,
           "Flesh and Bone (1993)",
           6
          ],
          [
           1213,
           "Guilty as Sin (1993)",
           6
          ],
          [
           1214,
           "In the Realm of the Senses (Ai no corrida) (1976)",
           9
          ],
          [
           1215,
           "Barb Wire (1996)",
           30
          ],
          [
           1216,
           "Kissed (1996)",
           6
          ],
          [
           1217,
           "Assassins (1995)",
           39
          ],
          [
           1218,
           "Friday (1995)",
           26
          ],
          [
           1219,
           "Goofy Movie, A (1995)",
           20
          ],
          [
           1220,
           "Higher Learning (1995)",
           30
          ],
          [
           1221,
           "When a Man Loves a Woman (1994)",
           39
          ],
          [
           1222,
           "Judgment Night (1993)",
           25
          ],
          [
           1223,
           "King of the Hill (1993)",
           4
          ],
          [
           1224,
           "Scout, The (1994)",
           12
          ],
          [
           1225,
           "Angus (1995)",
           14
          ],
          [
           1226,
           "Night Falls on Manhattan (1997)",
           32
          ],
          [
           1227,
           "Awfully Big Adventure, An (1995)",
           8
          ],
          [
           1228,
           "Under Siege 2: Dark Territory (1995)",
           48
          ],
          [
           1229,
           "Poison Ivy II (1995)",
           13
          ],
          [
           1230,
           "Ready to Wear (Pret-A-Porter) (1994)",
           18
          ],
          [
           1231,
           "Marked for Death (1990)",
           22
          ],
          [
           1232,
           "Madonna: Truth or Dare (1991)",
           17
          ],
          [
           1233,
           "Nénette et Boni (1996)",
           6
          ],
          [
           1234,
           "Chairman of the Board (1998)",
           8
          ],
          [
           1235,
           "Big Bang Theory, The (1994)",
           1
          ],
          [
           1236,
           "Other Voices, Other Rooms (1997)",
           1
          ],
          [
           1237,
           "Twisted (1996)",
           6
          ],
          [
           1238,
           "Full Speed (1996)",
           8
          ],
          [
           1239,
           "Cutthroat Island (1995)",
           18
          ],
          [
           1240,
           "Ghost in the Shell (Kokaku kidotai) (1995)",
           26
          ],
          [
           1241,
           "Van, The (1996)",
           6
          ],
          [
           1242,
           "Old Lady Who Walked in the Sea, The (Vieille qui marchait dans la mer, La) (1991)",
           5
          ],
          [
           1243,
           "Night Flier (1997)",
           7
          ],
          [
           1244,
           "Metro (1997)",
           36
          ],
          [
           1245,
           "Gridlock'd (1997)",
           19
          ],
          [
           1246,
           "Bushwhacked (1995)",
           7
          ],
          [
           1247,
           "Bad Girls (1994)",
           6
          ],
          [
           1248,
           "Blink (1994)",
           19
          ],
          [
           1249,
           "For Love or Money (1993)",
           12
          ],
          [
           1250,
           "Best of the Best 3: No Turning Back (1995)",
           6
          ],
          [
           1251,
           "A Chef in Love (1996)",
           8
          ],
          [
           1252,
           "Contempt (Mépris, Le) (1963)",
           9
          ],
          [
           1253,
           "Tie That Binds, The (1995)",
           7
          ],
          [
           1254,
           "Gone Fishin' (1997)",
           11
          ],
          [
           1255,
           "Broken English (1996)",
           8
          ],
          [
           1256,
           "Designated Mourner, The (1997)",
           3
          ],
          [
           1257,
           "Designated Mourner, The (1997)",
           4
          ],
          [
           1258,
           "Trial and Error (1997)",
           23
          ],
          [
           1259,
           "Pie in the Sky (1995)",
           4
          ],
          [
           1260,
           "Total Eclipse (1995)",
           4
          ],
          [
           1261,
           "Run of the Country, The (1995)",
           4
          ],
          [
           1262,
           "Walking and Talking (1996)",
           8
          ],
          [
           1263,
           "Foxfire (1996)",
           15
          ],
          [
           1264,
           "Nothing to Lose (1994)",
           7
          ],
          [
           1265,
           "Star Maps (1997)",
           19
          ],
          [
           1266,
           "Bread and Chocolate (Pane e cioccolata) (1973)",
           12
          ],
          [
           1267,
           "Clockers (1995)",
           33
          ],
          [
           1268,
           "Bitter Moon (1992)",
           10
          ],
          [
           1269,
           "Love in the Afternoon (1957)",
           10
          ],
          [
           1270,
           "Life with Mikey (1993)",
           7
          ],
          [
           1271,
           "North (1994)",
           7
          ],
          [
           1272,
           "Talking About Sex (1994)",
           5
          ],
          [
           1273,
           "Color of Night (1994)",
           15
          ],
          [
           1274,
           "Robocop 3 (1993)",
           11
          ],
          [
           1275,
           "Killer (Bulletproof Heart) (1994)",
           4
          ],
          [
           1276,
           "Sunset Park (1996)",
           8
          ],
          [
           1277,
           "Set It Off (1996)",
           19
          ],
          [
           1278,
           "Selena (1997)",
           16
          ],
          [
           1279,
           "Wild America (1997)",
           9
          ],
          [
           1280,
           "Gang Related (1997)",
           16
          ],
          [
           1281,
           "Manny & Lo (1996)",
           13
          ],
          [
           1282,
           "Grass Harp, The (1995)",
           9
          ],
          [
           1283,
           "Out to Sea (1997)",
           19
          ],
          [
           1284,
           "Before and After (1996)",
           26
          ],
          [
           1285,
           "Princess Caraboo (1994)",
           15
          ],
          [
           1286,
           "Shall We Dance? (1937)",
           17
          ],
          [
           1287,
           "Ed (1996)",
           6
          ],
          [
           1288,
           "Denise Calls Up (1995)",
           7
          ],
          [
           1289,
           "Jack and Sarah (1995)",
           7
          ],
          [
           1290,
           "Country Life (1994)",
           2
          ],
          [
           1291,
           "Celtic Pride (1996)",
           15
          ],
          [
           1292,
           "Simple Wish, A (1997)",
           3
          ],
          [
           1293,
           "Star Kid (1997)",
           3
          ],
          [
           1294,
           "Ayn Rand: A Sense of Life (1997)",
           7
          ],
          [
           1295,
           "Kicked in the Head (1997)",
           7
          ],
          [
           1296,
           "Indian Summer (1996)",
           20
          ],
          [
           1297,
           "Love Affair (1994)",
           12
          ],
          [
           1298,
           "Band Wagon, The (1953)",
           9
          ],
          [
           1299,
           "Penny Serenade (1941)",
           8
          ],
          [
           1300,
           "'Til There Was You (1997)",
           9
          ],
          [
           1301,
           "Stripes (1981)",
           5
          ],
          [
           1302,
           "Late Bloomers (1996)",
           5
          ],
          [
           1303,
           "Getaway, The (1994)",
           18
          ],
          [
           1304,
           "New York Cop (1996)",
           2
          ],
          [
           1305,
           "National Lampoon's Senior Trip (1995)",
           7
          ],
          [
           1306,
           "Delta of Venus (1994)",
           2
          ],
          [
           1307,
           "Carmen Miranda: Bananas Is My Business (1994)",
           2
          ],
          [
           1308,
           "Babyfever (1994)",
           2
          ],
          [
           1309,
           "Very Natural Thing, A (1974)",
           1
          ],
          [
           1310,
           "Walk in the Sun, A (1945)",
           1
          ],
          [
           1311,
           "Waiting to Exhale (1995)",
           16
          ],
          [
           1312,
           "Pompatus of Love, The (1996)",
           7
          ],
          [
           1313,
           "Palmetto (1998)",
           14
          ],
          [
           1314,
           "Surviving the Game (1994)",
           11
          ],
          [
           1315,
           "Inventing the Abbotts (1997)",
           23
          ],
          [
           1316,
           "Horse Whisperer, The (1998)",
           7
          ],
          [
           1317,
           "Journey of August King, The (1995)",
           4
          ],
          [
           1318,
           "Catwalk (1995)",
           3
          ],
          [
           1319,
           "Neon Bible, The (1995)",
           4
          ],
          [
           1320,
           "Homage (1995)",
           1
          ],
          [
           1321,
           "Open Season (1996)",
           2
          ],
          [
           1322,
           "Metisse (Café au Lait) (1993)",
           6
          ],
          [
           1323,
           "Wooden Man's Bride, The (Wu Kui) (1994)",
           3
          ],
          [
           1324,
           "Loaded (1994)",
           5
          ],
          [
           1325,
           "August (1996)",
           1
          ],
          [
           1326,
           "Boys (1996)",
           6
          ],
          [
           1327,
           "Captives (1994)",
           3
          ],
          [
           1328,
           "Of Love and Shadows (1994)",
           6
          ],
          [
           1329,
           "Low Life, The (1994)",
           1
          ],
          [
           1330,
           "An Unforgettable Summer (1994)",
           4
          ],
          [
           1331,
           "Last Klezmer: Leopold Kozlowski, His Life and Music, The (1995)",
           4
          ],
          [
           1332,
           "My Life and Times With Antonin Artaud (En compagnie d'Antonin Artaud) (1993)",
           2
          ],
          [
           1333,
           "Midnight Dancers (Sibak) (1994)",
           5
          ],
          [
           1334,
           "Somebody to Love (1994)",
           2
          ],
          [
           1335,
           "American Buffalo (1996)",
           11
          ],
          [
           1336,
           "Kazaam (1996)",
           10
          ],
          [
           1337,
           "Larger Than Life (1996)",
           9
          ],
          [
           1338,
           "Two Deaths (1995)",
           4
          ],
          [
           1339,
           "Stefano Quantestorie (1993)",
           1
          ],
          [
           1340,
           "Crude Oasis, The (1995)",
           1
          ],
          [
           1341,
           "Hedd Wyn (1992)",
           1
          ],
          [
           1342,
           "Convent, The (Convento, O) (1995)",
           2
          ],
          [
           1343,
           "Lotto Land (1995)",
           1
          ],
          [
           1344,
           "Story of Xinghua, The (1993)",
           5
          ],
          [
           1345,
           "Day the Sun Turned Cold, The (Tianguo niezi) (1994)",
           2
          ],
          [
           1346,
           "Dingo (1992)",
           5
          ],
          [
           1347,
           "Ballad of Narayama, The (Narayama Bushiko) (1958)",
           4
          ],
          [
           1348,
           "Every Other Weekend (1990)",
           1
          ],
          [
           1349,
           "Mille bolle blu (1993)",
           1
          ],
          [
           1350,
           "Crows and Sparrows (1949)",
           2
          ],
          [
           1351,
           "Lover's Knot (1996)",
           3
          ],
          [
           1352,
           "Shadow of Angels (Schatten der Engel) (1976)",
           1
          ],
          [
           1353,
           "1-900 (1994)",
           5
          ],
          [
           1354,
           "Venice/Venice (1992)",
           2
          ],
          [
           1355,
           "Infinity (1996)",
           6
          ],
          [
           1356,
           "Ed's Next Move (1996)",
           3
          ],
          [
           1357,
           "For the Moment (1994)",
           3
          ],
          [
           1358,
           "The Deadly Cure (1996)",
           2
          ],
          [
           1359,
           "Boys in Venice (1996)",
           2
          ],
          [
           1360,
           "Sexual Life of the Belgians, The (1994)",
           2
          ],
          [
           1361,
           "Search for One-eye Jimmy, The (1996)",
           3
          ],
          [
           1362,
           "American Strays (1996)",
           2
          ],
          [
           1363,
           "Leopard Son, The (1996)",
           1
          ],
          [
           1364,
           "Bird of Prey (1996)",
           1
          ],
          [
           1365,
           "Johnny 100 Pesos (1993)",
           2
          ],
          [
           1366,
           "JLG/JLG - autoportrait de décembre (1994)",
           1
          ],
          [
           1367,
           "Faust (1994)",
           5
          ],
          [
           1368,
           "Mina Tannenbaum (1994)",
           6
          ],
          [
           1369,
           "Forbidden Christ, The (Cristo proibito, Il) (1950)",
           4
          ],
          [
           1370,
           "I Can't Sleep (J'ai pas sommeil) (1994)",
           3
          ],
          [
           1371,
           "Machine, The (1994)",
           2
          ],
          [
           1372,
           "Stranger, The (1994)",
           3
          ],
          [
           1373,
           "Good Morning (1971)",
           1
          ],
          [
           1374,
           "Falling in Love Again (1980)",
           2
          ],
          [
           1375,
           "Cement Garden, The (1993)",
           10
          ],
          [
           1376,
           "Meet Wally Sparks (1997)",
           7
          ],
          [
           1377,
           "Hotel de Love (1996)",
           4
          ],
          [
           1378,
           "Rhyme & Reason (1997)",
           5
          ],
          [
           1379,
           "Love and Other Catastrophes (1996)",
           7
          ],
          [
           1380,
           "Hollow Reed (1996)",
           6
          ],
          [
           1381,
           "Losing Chase (1996)",
           8
          ],
          [
           1382,
           "Bonheur, Le (1965)",
           4
          ],
          [
           1383,
           "Second Jungle Book: Mowgli & Baloo, The (1997)",
           6
          ],
          [
           1384,
           "Squeeze (1996)",
           3
          ],
          [
           1385,
           "Roseanna's Grave (For Roseanna) (1997)",
           5
          ],
          [
           1386,
           "Tetsuo II: Body Hammer (1992)",
           6
          ],
          [
           1387,
           "Fall (1997)",
           3
          ],
          [
           1388,
           "Gabbeh (1996)",
           6
          ],
          [
           1389,
           "Mondo (1996)",
           3
          ],
          [
           1390,
           "Innocent Sleep, The (1995)",
           2
          ],
          [
           1391,
           "For Ever Mozart (1996)",
           3
          ],
          [
           1392,
           "Locusts, The (1997)",
           5
          ],
          [
           1393,
           "Stag (1997)",
           9
          ],
          [
           1394,
           "Swept from the Sea (1997)",
           7
          ],
          [
           1395,
           "Hurricane Streets (1998)",
           6
          ],
          [
           1396,
           "Stonewall (1995)",
           5
          ],
          [
           1397,
           "Of Human Bondage (1934)",
           5
          ],
          [
           1398,
           "Anna (1996)",
           2
          ],
          [
           1399,
           "Stranger in the House (1997)",
           7
          ],
          [
           1400,
           "Picture Bride (1995)",
           10
          ],
          [
           1401,
           "M. Butterfly (1993)",
           18
          ],
          [
           1402,
           "Ciao, Professore! (1993)",
           4
          ],
          [
           1403,
           "Caro Diario (Dear Diary) (1994)",
           4
          ],
          [
           1404,
           "Withnail and I (1987)",
           13
          ],
          [
           1405,
           "Boy's Life 2 (1997)",
           6
          ],
          [
           1406,
           "When Night Is Falling (1995)",
           5
          ],
          [
           1407,
           "Specialist, The (1994)",
           20
          ],
          [
           1408,
           "Gordy (1995)",
           3
          ],
          [
           1409,
           "Swan Princess, The (1994)",
           7
          ],
          [
           1410,
           "Harlem (1993)",
           4
          ],
          [
           1411,
           "Barbarella (1968)",
           28
          ],
          [
           1412,
           "Land Before Time III: The Time of the Great Giving (1995) (V)",
           6
          ],
          [
           1413,
           "Street Fighter (1994)",
           8
          ],
          [
           1414,
           "Coldblooded (1995)",
           1
          ],
          [
           1415,
           "Next Karate Kid, The (1994)",
           9
          ],
          [
           1416,
           "No Escape (1994)",
           5
          ],
          [
           1417,
           "Turning, The (1992)",
           2
          ],
          [
           1418,
           "Joy Luck Club, The (1993)",
           3
          ],
          [
           1419,
           "Highlander III: The Sorcerer (1994)",
           16
          ],
          [
           1420,
           "Gilligan's Island: The Movie (1998)",
           3
          ],
          [
           1421,
           "My Crazy Life (Mi vida loca) (1993)",
           11
          ],
          [
           1422,
           "Suture (1993)",
           4
          ],
          [
           1423,
           "Walking Dead, The (1995)",
           4
          ],
          [
           1424,
           "I Like It Like That (1994)",
           3
          ],
          [
           1425,
           "I'll Do Anything (1994)",
           10
          ],
          [
           1426,
           "Grace of My Heart (1996)",
           8
          ],
          [
           1427,
           "Drunks (1995)",
           5
          ],
          [
           1428,
           "SubUrbia (1997)",
           12
          ],
          [
           1429,
           "Sliding Doors (1998)",
           4
          ],
          [
           1430,
           "Ill Gotten Gains (1997)",
           3
          ],
          [
           1431,
           "Legal Deceit (1997)",
           5
          ],
          [
           1432,
           "Mighty, The (1998)",
           3
          ],
          [
           1433,
           "Men of Means (1998)",
           2
          ],
          [
           1434,
           "Shooting Fish (1997)",
           10
          ],
          [
           1435,
           "Steal Big, Steal Little (1995)",
           7
          ],
          [
           1436,
           "Mr. Jones (1993)",
           2
          ],
          [
           1437,
           "House Party 3 (1994)",
           9
          ],
          [
           1438,
           "Panther (1995)",
           5
          ],
          [
           1439,
           "Jason's Lyric (1994)",
           8
          ],
          [
           1440,
           "Above the Rim (1994)",
           5
          ],
          [
           1441,
           "Moonlight and Valentino (1995)",
           7
          ],
          [
           1442,
           "Scarlet Letter, The (1995)",
           5
          ],
          [
           1443,
           "8 Seconds (1994)",
           4
          ],
          [
           1444,
           "That Darn Cat! (1965)",
           19
          ],
          [
           1445,
           "Ladybird Ladybird (1994)",
           4
          ],
          [
           1446,
           "Bye Bye, Love (1995)",
           15
          ],
          [
           1447,
           "Century (1993)",
           1
          ],
          [
           1448,
           "My Favorite Season (1993)",
           3
          ],
          [
           1449,
           "Pather Panchali (1955)",
           8
          ],
          [
           1450,
           "Golden Earrings (1947)",
           2
          ],
          [
           1451,
           "Foreign Correspondent (1940)",
           15
          ],
          [
           1452,
           "Lady of Burlesque (1943)",
           1
          ],
          [
           1453,
           "Angel on My Shoulder (1946)",
           1
          ],
          [
           1454,
           "Angel and the Badman (1947)",
           6
          ],
          [
           1455,
           "Outlaw, The (1943)",
           2
          ],
          [
           1456,
           "Beat the Devil (1954)",
           7
          ],
          [
           1457,
           "Love Is All There Is (1996)",
           1
          ],
          [
           1458,
           "Damsel in Distress, A (1937)",
           1
          ],
          [
           1459,
           "Madame Butterfly (1995)",
           7
          ],
          [
           1460,
           "Sleepover (1995)",
           1
          ],
          [
           1461,
           "Here Comes Cookie (1935)",
           1
          ],
          [
           1462,
           "Thieves (Voleurs, Les) (1996)",
           7
          ],
          [
           1463,
           "Boys, Les (1997)",
           3
          ],
          [
           1464,
           "Stars Fell on Henrietta, The (1995)",
           3
          ],
          [
           1465,
           "Last Summer in the Hamptons (1995)",
           3
          ],
          [
           1466,
           "Margaret's Museum (1995)",
           6
          ],
          [
           1467,
           "Saint of Fort Washington, The (1993)",
           2
          ],
          [
           1468,
           "Cure, The (1995)",
           6
          ],
          [
           1469,
           "Tom and Huck (1995)",
           12
          ],
          [
           1470,
           "Gumby: The Movie (1995)",
           5
          ],
          [
           1471,
           "Hideaway (1995)",
           9
          ],
          [
           1472,
           "Visitors, The (Visiteurs, Les) (1993)",
           2
          ],
          [
           1473,
           "Little Princess, The (1939)",
           9
          ],
          [
           1474,
           "Nina Takes a Lover (1994)",
           6
          ],
          [
           1475,
           "Bhaji on the Beach (1993)",
           8
          ],
          [
           1476,
           "Raw Deal (1948)",
           1
          ],
          [
           1477,
           "Nightwatch (1997)",
           2
          ],
          [
           1478,
           "Dead Presidents (1995)",
           18
          ],
          [
           1479,
           "Reckless (1995)",
           8
          ],
          [
           1480,
           "Herbie Rides Again (1974)",
           11
          ],
          [
           1481,
           "S.F.W. (1994)",
           2
          ],
          [
           1482,
           "Gate of Heavenly Peace, The (1995)",
           1
          ],
          [
           1483,
           "Man in the Iron Mask, The (1998)",
           12
          ],
          [
           1484,
           "Jerky Boys, The (1994)",
           3
          ],
          [
           1485,
           "Colonel Chabert, Le (1994)",
           4
          ],
          [
           1486,
           "Girl in the Cadillac (1995)",
           1
          ],
          [
           1487,
           "Even Cowgirls Get the Blues (1993)",
           5
          ],
          [
           1488,
           "Germinal (1993)",
           4
          ],
          [
           1489,
           "Chasers (1994)",
           5
          ],
          [
           1490,
           "Fausto (1993)",
           3
          ],
          [
           1491,
           "Tough and Deadly (1995)",
           2
          ],
          [
           1492,
           "Window to Paris (1994)",
           1
          ],
          [
           1493,
           "Modern Affair, A (1995)",
           1
          ],
          [
           1494,
           "Mostro, Il (1994)",
           1
          ],
          [
           1495,
           "Flirt (1995)",
           5
          ],
          [
           1496,
           "Carpool (1996)",
           5
          ],
          [
           1497,
           "Line King: Al Hirschfeld, The (1996)",
           2
          ],
          [
           1498,
           "Farmer & Chase (1995)",
           1
          ],
          [
           1499,
           "Grosse Fatigue (1994)",
           4
          ],
          [
           1500,
           "Santa with Muscles (1996)",
           2
          ],
          [
           1501,
           "Prisoner of the Mountains (Kavkazsky Plennik) (1996)",
           5
          ],
          [
           1502,
           "Naked in New York (1994)",
           2
          ],
          [
           1503,
           "Gold Diggers: The Secret of Bear Mountain (1995)",
           10
          ],
          [
           1504,
           "Bewegte Mann, Der (1994)",
           3
          ],
          [
           1505,
           "Killer: A Journal of Murder (1995)",
           1
          ],
          [
           1506,
           "Nelly & Monsieur Arnaud (1995)",
           3
          ],
          [
           1507,
           "Three Lives and Only One Death (1996)",
           1
          ],
          [
           1508,
           "Babysitter, The (1995)",
           3
          ],
          [
           1509,
           "Getting Even with Dad (1994)",
           5
          ],
          [
           1510,
           "Mad Dog Time (1996)",
           1
          ],
          [
           1511,
           "Children of the Revolution (1996)",
           5
          ],
          [
           1512,
           "World of Apu, The (Apur Sansar) (1959)",
           6
          ],
          [
           1513,
           "Sprung (1997)",
           3
          ],
          [
           1514,
           "Dream With the Fishes (1997)",
           7
          ],
          [
           1515,
           "Wings of Courage (1995)",
           1
          ],
          [
           1516,
           "Wedding Gift, The (1994)",
           3
          ],
          [
           1517,
           "Race the Sun (1996)",
           5
          ],
          [
           1518,
           "Losing Isaiah (1995)",
           12
          ],
          [
           1519,
           "New Jersey Drive (1995)",
           2
          ],
          [
           1520,
           "Fear, The (1995)",
           1
          ],
          [
           1521,
           "Mr. Wonderful (1993)",
           4
          ],
          [
           1522,
           "Trial by Jury (1994)",
           7
          ],
          [
           1523,
           "Good Man in Africa, A (1994)",
           2
          ],
          [
           1524,
           "Kaspar Hauser (1993)",
           8
          ],
          [
           1525,
           "Object of My Affection, The (1998)",
           1
          ],
          [
           1526,
           "Witness (1985)",
           1
          ],
          [
           1527,
           "Senseless (1998)",
           7
          ],
          [
           1528,
           "Nowhere (1997)",
           3
          ],
          [
           1529,
           "Underground (1995)",
           5
          ],
          [
           1530,
           "Jefferson in Paris (1995)",
           5
          ],
          [
           1531,
           "Far From Home: The Adventures of Yellow Dog (1995)",
           7
          ],
          [
           1532,
           "Foreign Student (1994)",
           2
          ],
          [
           1533,
           "I Don't Want to Talk About It (De eso no se habla) (1993)",
           1
          ],
          [
           1534,
           "Twin Town (1997)",
           6
          ],
          [
           1535,
           "Enfer, L' (1994)",
           4
          ],
          [
           1536,
           "Aiqing wansui (1994)",
           1
          ],
          [
           1537,
           "Cosi (1996)",
           4
          ],
          [
           1538,
           "All Over Me (1997)",
           3
          ],
          [
           1539,
           "Being Human (1993)",
           4
          ],
          [
           1540,
           "Amazing Panda Adventure, The (1995)",
           10
          ],
          [
           1541,
           "Beans of Egypt, Maine, The (1994)",
           2
          ],
          [
           1542,
           "Scarlet Letter, The (1926)",
           2
          ],
          [
           1543,
           "Johns (1996)",
           1
          ],
          [
           1544,
           "It Takes Two (1995)",
           3
          ],
          [
           1545,
           "Frankie Starlight (1995)",
           4
          ],
          [
           1546,
           "Shadows (Cienie) (1988)",
           1
          ],
          [
           1547,
           "Show, The (1995)",
           2
          ],
          [
           1548,
           "The Courtyard (1995)",
           1
          ],
          [
           1549,
           "Dream Man (1995)",
           2
          ],
          [
           1550,
           "Destiny Turns on the Radio (1995)",
           2
          ],
          [
           1551,
           "Glass Shield, The (1994)",
           2
          ],
          [
           1552,
           "Hunted, The (1995)",
           3
          ],
          [
           1553,
           "Underneath, The (1995)",
           4
          ],
          [
           1554,
           "Safe Passage (1994)",
           2
          ],
          [
           1555,
           "Secret Adventures of Tom Thumb, The (1993)",
           5
          ],
          [
           1556,
           "Condition Red (1995)",
           2
          ],
          [
           1557,
           "Yankee Zulu (1994)",
           1
          ],
          [
           1558,
           "Aparajito (1956)",
           7
          ],
          [
           1559,
           "Hostile Intentions (1994)",
           1
          ],
          [
           1560,
           "Clean Slate (Coup de Torchon) (1981)",
           4
          ],
          [
           1561,
           "Tigrero: A Film That Was Never Made (1994)",
           1
          ],
          [
           1562,
           "Eye of Vichy, The (Oeil de Vichy, L') (1993)",
           1
          ],
          [
           1563,
           "Promise, The (Versprechen, Das) (1994)",
           1
          ],
          [
           1564,
           "To Cross the Rubicon (1991)",
           1
          ],
          [
           1565,
           "Daens (1992)",
           1
          ],
          [
           1566,
           "Man from Down Under, The (1943)",
           1
          ],
          [
           1567,
           "Careful (1992)",
           1
          ],
          [
           1568,
           "Vermont Is For Lovers (1992)",
           1
          ],
          [
           1569,
           "Vie est belle, La (Life is Rosey) (1987)",
           1
          ],
          [
           1570,
           "Quartier Mozart (1992)",
           1
          ],
          [
           1571,
           "Touki Bouki (Journey of the Hyena) (1973)",
           1
          ],
          [
           1572,
           "Wend Kuuni (God's Gift) (1982)",
           1
          ],
          [
           1573,
           "Spirits of the Dead (Tre passi nel delirio) (1968)",
           2
          ],
          [
           1574,
           "Pharaoh's Army (1995)",
           1
          ],
          [
           1575,
           "I, Worst of All (Yo, la peor de todas) (1990)",
           1
          ],
          [
           1576,
           "Hungarian Fairy Tale, A (1987)",
           1
          ],
          [
           1577,
           "Death in the Garden (Mort en ce jardin, La) (1956)",
           1
          ],
          [
           1578,
           "Collectionneuse, La (1967)",
           2
          ],
          [
           1579,
           "Baton Rouge (1988)",
           1
          ],
          [
           1580,
           "Liebelei (1933)",
           1
          ],
          [
           1581,
           "Woman in Question, The (1950)",
           1
          ],
          [
           1582,
           "T-Men (1947)",
           1
          ],
          [
           1583,
           "Invitation, The (Zaproszenie) (1986)",
           1
          ],
          [
           1584,
           "Symphonie pastorale, La (1946)",
           1
          ],
          [
           1585,
           "American Dream (1990)",
           2
          ],
          [
           1586,
           "Lashou shentan (1992)",
           1
          ],
          [
           1587,
           "Terror in a Texas Town (1958)",
           1
          ],
          [
           1588,
           "Salut cousin! (1996)",
           2
          ],
          [
           1589,
           "Schizopolis (1996)",
           4
          ],
          [
           1590,
           "To Have, or Not (1995)",
           2
          ],
          [
           1591,
           "Duoluo tianshi (1995)",
           6
          ],
          [
           1592,
           "Magic Hour, The (1998)",
           5
          ],
          [
           1593,
           "Death in Brunswick (1991)",
           1
          ],
          [
           1594,
           "Everest (1998)",
           2
          ],
          [
           1595,
           "Shopping (1994)",
           1
          ],
          [
           1596,
           "Nemesis 2: Nebula (1995)",
           1
          ],
          [
           1597,
           "Romper Stomper (1992)",
           5
          ],
          [
           1598,
           "City of Industry (1997)",
           6
          ],
          [
           1599,
           "Someone Else's America (1995)",
           1
          ],
          [
           1600,
           "Guantanamera (1994)",
           4
          ],
          [
           1601,
           "Office Killer (1997)",
           1
          ],
          [
           1602,
           "Price Above Rubies, A (1998)",
           3
          ],
          [
           1603,
           "Angela (1995)",
           1
          ],
          [
           1604,
           "He Walked by Night (1948)",
           1
          ],
          [
           1605,
           "Love Serenade (1996)",
           4
          ],
          [
           1606,
           "Deceiver (1997)",
           1
          ],
          [
           1607,
           "Hurricane Streets (1998)",
           3
          ],
          [
           1608,
           "Buddy (1997)",
           4
          ],
          [
           1609,
           "B*A*P*S (1997)",
           3
          ],
          [
           1610,
           "Truth or Consequences, N.M. (1997)",
           3
          ],
          [
           1611,
           "Intimate Relations (1996)",
           2
          ],
          [
           1612,
           "Leading Man, The (1996)",
           4
          ],
          [
           1613,
           "Tokyo Fist (1995)",
           1
          ],
          [
           1614,
           "Reluctant Debutante, The (1958)",
           1
          ],
          [
           1615,
           "Warriors of Virtue (1997)",
           10
          ],
          [
           1616,
           "Desert Winds (1995)",
           1
          ],
          [
           1617,
           "Hugo Pool (1997)",
           2
          ],
          [
           1618,
           "King of New York (1990)",
           1
          ],
          [
           1619,
           "All Things Fair (1996)",
           1
          ],
          [
           1620,
           "Sixth Man, The (1997)",
           9
          ],
          [
           1621,
           "Butterfly Kiss (1995)",
           1
          ],
          [
           1622,
           "Paris, France (1993)",
           3
          ],
          [
           1623,
           "Cérémonie, La (1995)",
           3
          ],
          [
           1624,
           "Hush (1998)",
           1
          ],
          [
           1625,
           "Nightwatch (1997)",
           1
          ],
          [
           1626,
           "Nobody Loves Me (Keiner liebt mich) (1994)",
           1
          ],
          [
           1627,
           "Wife, The (1995)",
           1
          ],
          [
           1628,
           "Lamerica (1994)",
           4
          ],
          [
           1629,
           "Nico Icon (1995)",
           2
          ],
          [
           1630,
           "Silence of the Palace, The (Saimt el Qusur) (1994)",
           1
          ],
          [
           1631,
           "Slingshot, The (1993)",
           2
          ],
          [
           1632,
           "Land and Freedom (Tierra y libertad) (1995)",
           1
          ],
          [
           1633,
           "Á köldum klaka (Cold Fever) (1994)",
           1
          ],
          [
           1634,
           "Etz Hadomim Tafus (Under the Domin Tree) (1994)",
           1
          ],
          [
           1635,
           "Two Friends (1986) ",
           1
          ],
          [
           1636,
           "Brothers in Trouble (1995)",
           1
          ],
          [
           1637,
           "Girls Town (1996)",
           1
          ],
          [
           1638,
           "Normal Life (1996)",
           1
          ],
          [
           1639,
           "Bitter Sugar (Azucar Amargo) (1996)",
           3
          ],
          [
           1640,
           "Eighth Day, The (1996)",
           1
          ],
          [
           1641,
           "Dadetown (1995)",
           1
          ],
          [
           1642,
           "Some Mother's Son (1996)",
           2
          ],
          [
           1643,
           "Angel Baby (1995)",
           4
          ],
          [
           1644,
           "Sudden Manhattan (1996)",
           2
          ],
          [
           1645,
           "Butcher Boy, The (1998)",
           1
          ],
          [
           1646,
           "Men With Guns (1997)",
           2
          ],
          [
           1647,
           "Hana-bi (1997)",
           1
          ],
          [
           1648,
           "Niagara, Niagara (1997)",
           1
          ],
          [
           1649,
           "Big One, The (1997)",
           1
          ],
          [
           1650,
           "Butcher Boy, The (1998)",
           1
          ],
          [
           1651,
           "Spanish Prisoner, The (1997)",
           1
          ],
          [
           1652,
           "Temptress Moon (Feng Yue) (1996)",
           3
          ],
          [
           1653,
           "Entertaining Angels: The Dorothy Day Story (1996)",
           1
          ],
          [
           1654,
           "Chairman of the Board (1998)",
           1
          ],
          [
           1655,
           "Favor, The (1994)",
           1
          ],
          [
           1656,
           "Little City (1998)",
           2
          ],
          [
           1657,
           "Target (1995)",
           1
          ],
          [
           1658,
           "Substance of Fire, The (1996)",
           3
          ],
          [
           1659,
           "Getting Away With Murder (1996)",
           1
          ],
          [
           1660,
           "Small Faces (1995)",
           1
          ],
          [
           1661,
           "New Age, The (1994)",
           1
          ],
          [
           1662,
           "Rough Magic (1995)",
           2
          ],
          [
           1663,
           "Nothing Personal (1995)",
           1
          ],
          [
           1664,
           "8 Heads in a Duffel Bag (1997)",
           4
          ],
          [
           1665,
           "Brother's Kiss, A (1997)",
           1
          ],
          [
           1666,
           "Ripe (1996)",
           1
          ],
          [
           1667,
           "Next Step, The (1995)",
           1
          ],
          [
           1668,
           "Wedding Bell Blues (1996)",
           1
          ],
          [
           1669,
           "MURDER and murder (1996)",
           1
          ],
          [
           1670,
           "Tainted (1998)",
           1
          ],
          [
           1671,
           "Further Gesture, A (1996)",
           1
          ],
          [
           1672,
           "Kika (1993)",
           2
          ],
          [
           1673,
           "Mirage (1995)",
           1
          ],
          [
           1674,
           "Mamma Roma (1962)",
           1
          ],
          [
           1675,
           "Sunchaser, The (1996)",
           1
          ],
          [
           1676,
           "War at Home, The (1996)",
           1
          ],
          [
           1677,
           "Sweet Nothing (1995)",
           1
          ],
          [
           1678,
           "Mat' i syn (1997)",
           1
          ],
          [
           1679,
           "B. Monkey (1998)",
           1
          ],
          [
           1680,
           "Sliding Doors (1998)",
           1
          ],
          [
           1681,
           "You So Crazy (1994)",
           1
          ],
          [
           1682,
           "Scream of Stone (Schrei aus Stein) (1991)",
           1
          ]
         ],
         "hovertemplate": "tsne_1=%{x}<br>tsne_2=%{y}<br>item_id=%{customdata[0]}<br>title=%{customdata[1]}<br>popularity=%{marker.color}<extra></extra>",
         "legendgroup": "",
         "marker": {
          "color": {
           "bdata": "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",
           "dtype": "i2"
          },
          "coloraxis": "coloraxis",
          "symbol": "circle"
         },
         "mode": "markers",
         "name": "",
         "showlegend": false,
         "type": "scattergl",
         "x": {
          "bdata": "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",
          "dtype": "f4"
         },
         "xaxis": "x",
         "y": {
          "bdata": "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",
          "dtype": "f4"
         },
         "yaxis": "y"
        }
       ],
       "layout": {
        "coloraxis": {
         "colorbar": {
          "title": {
           "text": "popularity"
          }
         },
         "colorscale": [
          [
           0,
           "#0d0887"
          ],
          [
           0.1111111111111111,
           "#46039f"
          ],
          [
           0.2222222222222222,
           "#7201a8"
          ],
          [
           0.3333333333333333,
           "#9c179e"
          ],
          [
           0.4444444444444444,
           "#bd3786"
          ],
          [
           0.5555555555555556,
           "#d8576b"
          ],
          [
           0.6666666666666666,
           "#ed7953"
          ],
          [
           0.7777777777777778,
           "#fb9f3a"
          ],
          [
           0.8888888888888888,
           "#fdca26"
          ],
          [
           1,
           "#f0f921"
          ]
         ]
        },
        "legend": {
         "tracegroupgap": 0
        },
        "margin": {
         "t": 60
        },
        "template": {
         "data": {
          "bar": [
           {
            "error_x": {
             "color": "#2a3f5f"
            },
            "error_y": {
             "color": "#2a3f5f"
            },
            "marker": {
             "line": {
              "color": "#E5ECF6",
              "width": 0.5
             },
             "pattern": {
              "fillmode": "overlay",
              "size": 10,
              "solidity": 0.2
             }
            },
            "type": "bar"
           }
          ],
          "barpolar": [
           {
            "marker": {
             "line": {
              "color": "#E5ECF6",
              "width": 0.5
             },
             "pattern": {
              "fillmode": "overlay",
              "size": 10,
              "solidity": 0.2
             }
            },
            "type": "barpolar"
           }
          ],
          "carpet": [
           {
            "aaxis": {
             "endlinecolor": "#2a3f5f",
             "gridcolor": "white",
             "linecolor": "white",
             "minorgridcolor": "white",
             "startlinecolor": "#2a3f5f"
            },
            "baxis": {
             "endlinecolor": "#2a3f5f",
             "gridcolor": "white",
             "linecolor": "white",
             "minorgridcolor": "white",
             "startlinecolor": "#2a3f5f"
            },
            "type": "carpet"
           }
          ],
          "choropleth": [
           {
            "colorbar": {
             "outlinewidth": 0,
             "ticks": ""
            },
            "type": "choropleth"
           }
          ],
          "contour": [
           {
            "colorbar": {
             "outlinewidth": 0,
             "ticks": ""
            },
            "colorscale": [
             [
              0,
              "#0d0887"
             ],
             [
              0.1111111111111111,
              "#46039f"
             ],
             [
              0.2222222222222222,
              "#7201a8"
             ],
             [
              0.3333333333333333,
              "#9c179e"
             ],
             [
              0.4444444444444444,
              "#bd3786"
             ],
             [
              0.5555555555555556,
              "#d8576b"
             ],
             [
              0.6666666666666666,
              "#ed7953"
             ],
             [
              0.7777777777777778,
              "#fb9f3a"
             ],
             [
              0.8888888888888888,
              "#fdca26"
             ],
             [
              1,
              "#f0f921"
             ]
            ],
            "type": "contour"
           }
          ],
          "contourcarpet": [
           {
            "colorbar": {
             "outlinewidth": 0,
             "ticks": ""
            },
            "type": "contourcarpet"
           }
          ],
          "heatmap": [
           {
            "colorbar": {
             "outlinewidth": 0,
             "ticks": ""
            },
            "colorscale": [
             [
              0,
              "#0d0887"
             ],
             [
              0.1111111111111111,
              "#46039f"
             ],
             [
              0.2222222222222222,
              "#7201a8"
             ],
             [
              0.3333333333333333,
              "#9c179e"
             ],
             [
              0.4444444444444444,
              "#bd3786"
             ],
             [
              0.5555555555555556,
              "#d8576b"
             ],
             [
              0.6666666666666666,
              "#ed7953"
             ],
             [
              0.7777777777777778,
              "#fb9f3a"
             ],
             [
              0.8888888888888888,
              "#fdca26"
             ],
             [
              1,
              "#f0f921"
             ]
            ],
            "type": "heatmap"
           }
          ],
          "histogram": [
           {
            "marker": {
             "pattern": {
              "fillmode": "overlay",
              "size": 10,
              "solidity": 0.2
             }
            },
            "type": "histogram"
           }
          ],
          "histogram2d": [
           {
            "colorbar": {
             "outlinewidth": 0,
             "ticks": ""
            },
            "colorscale": [
             [
              0,
              "#0d0887"
             ],
             [
              0.1111111111111111,
              "#46039f"
             ],
             [
              0.2222222222222222,
              "#7201a8"
             ],
             [
              0.3333333333333333,
              "#9c179e"
             ],
             [
              0.4444444444444444,
              "#bd3786"
             ],
             [
              0.5555555555555556,
              "#d8576b"
             ],
             [
              0.6666666666666666,
              "#ed7953"
             ],
             [
              0.7777777777777778,
              "#fb9f3a"
             ],
             [
              0.8888888888888888,
              "#fdca26"
             ],
             [
              1,
              "#f0f921"
             ]
            ],
            "type": "histogram2d"
           }
          ],
          "histogram2dcontour": [
           {
            "colorbar": {
             "outlinewidth": 0,
             "ticks": ""
            },
            "colorscale": [
             [
              0,
              "#0d0887"
             ],
             [
              0.1111111111111111,
              "#46039f"
             ],
             [
              0.2222222222222222,
              "#7201a8"
             ],
             [
              0.3333333333333333,
              "#9c179e"
             ],
             [
              0.4444444444444444,
              "#bd3786"
             ],
             [
              0.5555555555555556,
              "#d8576b"
             ],
             [
              0.6666666666666666,
              "#ed7953"
             ],
             [
              0.7777777777777778,
              "#fb9f3a"
             ],
             [
              0.8888888888888888,
              "#fdca26"
             ],
             [
              1,
              "#f0f921"
             ]
            ],
            "type": "histogram2dcontour"
           }
          ],
          "mesh3d": [
           {
            "colorbar": {
             "outlinewidth": 0,
             "ticks": ""
            },
            "type": "mesh3d"
           }
          ],
          "parcoords": [
           {
            "line": {
             "colorbar": {
              "outlinewidth": 0,
              "ticks": ""
             }
            },
            "type": "parcoords"
           }
          ],
          "pie": [
           {
            "automargin": true,
            "type": "pie"
           }
          ],
          "scatter": [
           {
            "fillpattern": {
             "fillmode": "overlay",
             "size": 10,
             "solidity": 0.2
            },
            "type": "scatter"
           }
          ],
          "scatter3d": [
           {
            "line": {
             "colorbar": {
              "outlinewidth": 0,
              "ticks": ""
             }
            },
            "marker": {
             "colorbar": {
              "outlinewidth": 0,
              "ticks": ""
             }
            },
            "type": "scatter3d"
           }
          ],
          "scattercarpet": [
           {
            "marker": {
             "colorbar": {
              "outlinewidth": 0,
              "ticks": ""
             }
            },
            "type": "scattercarpet"
           }
          ],
          "scattergeo": [
           {
            "marker": {
             "colorbar": {
              "outlinewidth": 0,
              "ticks": ""
             }
            },
            "type": "scattergeo"
           }
          ],
          "scattergl": [
           {
            "marker": {
             "colorbar": {
              "outlinewidth": 0,
              "ticks": ""
             }
            },
            "type": "scattergl"
           }
          ],
          "scattermap": [
           {
            "marker": {
             "colorbar": {
              "outlinewidth": 0,
              "ticks": ""
             }
            },
            "type": "scattermap"
           }
          ],
          "scattermapbox": [
           {
            "marker": {
             "colorbar": {
              "outlinewidth": 0,
              "ticks": ""
             }
            },
            "type": "scattermapbox"
           }
          ],
          "scatterpolar": [
           {
            "marker": {
             "colorbar": {
              "outlinewidth": 0,
              "ticks": ""
             }
            },
            "type": "scatterpolar"
           }
          ],
          "scatterpolargl": [
           {
            "marker": {
             "colorbar": {
              "outlinewidth": 0,
              "ticks": ""
             }
            },
            "type": "scatterpolargl"
           }
          ],
          "scatterternary": [
           {
            "marker": {
             "colorbar": {
              "outlinewidth": 0,
              "ticks": ""
             }
            },
            "type": "scatterternary"
           }
          ],
          "surface": [
           {
            "colorbar": {
             "outlinewidth": 0,
             "ticks": ""
            },
            "colorscale": [
             [
              0,
              "#0d0887"
             ],
             [
              0.1111111111111111,
              "#46039f"
             ],
             [
              0.2222222222222222,
              "#7201a8"
             ],
             [
              0.3333333333333333,
              "#9c179e"
             ],
             [
              0.4444444444444444,
              "#bd3786"
             ],
             [
              0.5555555555555556,
              "#d8576b"
             ],
             [
              0.6666666666666666,
              "#ed7953"
             ],
             [
              0.7777777777777778,
              "#fb9f3a"
             ],
             [
              0.8888888888888888,
              "#fdca26"
             ],
             [
              1,
              "#f0f921"
             ]
            ],
            "type": "surface"
           }
          ],
          "table": [
           {
            "cells": {
             "fill": {
              "color": "#EBF0F8"
             },
             "line": {
              "color": "white"
             }
            },
            "header": {
             "fill": {
              "color": "#C8D4E3"
             },
             "line": {
              "color": "white"
             }
            },
            "type": "table"
           }
          ]
         },
         "layout": {
          "annotationdefaults": {
           "arrowcolor": "#2a3f5f",
           "arrowhead": 0,
           "arrowwidth": 1
          },
          "autotypenumbers": "strict",
          "coloraxis": {
           "colorbar": {
            "outlinewidth": 0,
            "ticks": ""
           }
          },
          "colorscale": {
           "diverging": [
            [
             0,
             "#8e0152"
            ],
            [
             0.1,
             "#c51b7d"
            ],
            [
             0.2,
             "#de77ae"
            ],
            [
             0.3,
             "#f1b6da"
            ],
            [
             0.4,
             "#fde0ef"
            ],
            [
             0.5,
             "#f7f7f7"
            ],
            [
             0.6,
             "#e6f5d0"
            ],
            [
             0.7,
             "#b8e186"
            ],
            [
             0.8,
             "#7fbc41"
            ],
            [
             0.9,
             "#4d9221"
            ],
            [
             1,
             "#276419"
            ]
           ],
           "sequential": [
            [
             0,
             "#0d0887"
            ],
            [
             0.1111111111111111,
             "#46039f"
            ],
            [
             0.2222222222222222,
             "#7201a8"
            ],
            [
             0.3333333333333333,
             "#9c179e"
            ],
            [
             0.4444444444444444,
             "#bd3786"
            ],
            [
             0.5555555555555556,
             "#d8576b"
            ],
            [
             0.6666666666666666,
             "#ed7953"
            ],
            [
             0.7777777777777778,
             "#fb9f3a"
            ],
            [
             0.8888888888888888,
             "#fdca26"
            ],
            [
             1,
             "#f0f921"
            ]
           ],
           "sequentialminus": [
            [
             0,
             "#0d0887"
            ],
            [
             0.1111111111111111,
             "#46039f"
            ],
            [
             0.2222222222222222,
             "#7201a8"
            ],
            [
             0.3333333333333333,
             "#9c179e"
            ],
            [
             0.4444444444444444,
             "#bd3786"
            ],
            [
             0.5555555555555556,
             "#d8576b"
            ],
            [
             0.6666666666666666,
             "#ed7953"
            ],
            [
             0.7777777777777778,
             "#fb9f3a"
            ],
            [
             0.8888888888888888,
             "#fdca26"
            ],
            [
             1,
             "#f0f921"
            ]
           ]
          },
          "colorway": [
           "#636efa",
           "#EF553B",
           "#00cc96",
           "#ab63fa",
           "#FFA15A",
           "#19d3f3",
           "#FF6692",
           "#B6E880",
           "#FF97FF",
           "#FECB52"
          ],
          "font": {
           "color": "#2a3f5f"
          },
          "geo": {
           "bgcolor": "white",
           "lakecolor": "white",
           "landcolor": "#E5ECF6",
           "showlakes": true,
           "showland": true,
           "subunitcolor": "white"
          },
          "hoverlabel": {
           "align": "left"
          },
          "hovermode": "closest",
          "mapbox": {
           "style": "light"
          },
          "paper_bgcolor": "white",
          "plot_bgcolor": "#E5ECF6",
          "polar": {
           "angularaxis": {
            "gridcolor": "white",
            "linecolor": "white",
            "ticks": ""
           },
           "bgcolor": "#E5ECF6",
           "radialaxis": {
            "gridcolor": "white",
            "linecolor": "white",
            "ticks": ""
           }
          },
          "scene": {
           "xaxis": {
            "backgroundcolor": "#E5ECF6",
            "gridcolor": "white",
            "gridwidth": 2,
            "linecolor": "white",
            "showbackground": true,
            "ticks": "",
            "zerolinecolor": "white"
           },
           "yaxis": {
            "backgroundcolor": "#E5ECF6",
            "gridcolor": "white",
            "gridwidth": 2,
            "linecolor": "white",
            "showbackground": true,
            "ticks": "",
            "zerolinecolor": "white"
           },
           "zaxis": {
            "backgroundcolor": "#E5ECF6",
            "gridcolor": "white",
            "gridwidth": 2,
            "linecolor": "white",
            "showbackground": true,
            "ticks": "",
            "zerolinecolor": "white"
           }
          },
          "shapedefaults": {
           "line": {
            "color": "#2a3f5f"
           }
          },
          "ternary": {
           "aaxis": {
            "gridcolor": "white",
            "linecolor": "white",
            "ticks": ""
           },
           "baxis": {
            "gridcolor": "white",
            "linecolor": "white",
            "ticks": ""
           },
           "bgcolor": "#E5ECF6",
           "caxis": {
            "gridcolor": "white",
            "linecolor": "white",
            "ticks": ""
           }
          },
          "title": {
           "x": 0.05
          },
          "xaxis": {
           "automargin": true,
           "gridcolor": "white",
           "linecolor": "white",
           "ticks": "",
           "title": {
            "standoff": 15
           },
           "zerolinecolor": "white",
           "zerolinewidth": 2
          },
          "yaxis": {
           "automargin": true,
           "gridcolor": "white",
           "linecolor": "white",
           "ticks": "",
           "title": {
            "standoff": 15
           },
           "zerolinecolor": "white",
           "zerolinewidth": 2
          }
         }
        },
        "xaxis": {
         "anchor": "y",
         "domain": [
          0,
          1
         ],
         "title": {
          "text": "tsne_1"
         }
        },
        "yaxis": {
         "anchor": "x",
         "domain": [
          0,
          1
         ],
         "title": {
          "text": "tsne_2"
         }
        }
       }
      }
     },
     "metadata": {},
     "output_type": "display_data"
    }
   ],
   "source": [
    "import plotly.express as px\n",
    "\n",
    "tsne_df = pd.DataFrame(item_tsne, columns=[\"tsne_1\", \"tsne_2\"])\n",
    "tsne_df[\"item_id\"] = np.arange(item_tsne.shape[0])\n",
    "tsne_df = tsne_df.merge(items.reset_index())\n",
    "\n",
    "px.scatter(tsne_df, x=\"tsne_1\", y=\"tsne_2\",\n",
    "           color=\"popularity\",\n",
    "           hover_data=[\"item_id\", \"title\", \"popularity\"])"
   ]
  },
  {
   "cell_type": "markdown",
   "metadata": {},
   "source": [
    "### Exercises\n",
    "\n",
    " - Add another layer to the neural network and retrain, compare train/test error.\n",
    " - Try adding more dropout and change layer sizes.\n"
   ]
  },
  {
   "cell_type": "code",
   "execution_count": 66,
   "metadata": {},
   "outputs": [
    {
     "data": {
      "text/html": [
       "<pre style=\"white-space:pre;overflow-x:auto;line-height:normal;font-family:Menlo,'DejaVu Sans Mono',consolas,'Courier New',monospace\"><span style=\"font-weight: bold\">Model: \"functional_3\"</span>\n",
       "</pre>\n"
      ],
      "text/plain": [
       "\u001b[1mModel: \"functional_3\"\u001b[0m\n"
      ]
     },
     "metadata": {},
     "output_type": "display_data"
    },
    {
     "data": {
      "text/html": [
       "<pre style=\"white-space:pre;overflow-x:auto;line-height:normal;font-family:Menlo,'DejaVu Sans Mono',consolas,'Courier New',monospace\">┏━━━━━━━━━━━━━━━━━━━━━┳━━━━━━━━━━━━━━━━━━━┳━━━━━━━━━━━━┳━━━━━━━━━━━━━━━━━━━┓\n",
       "┃<span style=\"font-weight: bold\"> Layer (type)        </span>┃<span style=\"font-weight: bold\"> Output Shape      </span>┃<span style=\"font-weight: bold\">    Param # </span>┃<span style=\"font-weight: bold\"> Connected to      </span>┃\n",
       "┡━━━━━━━━━━━━━━━━━━━━━╇━━━━━━━━━━━━━━━━━━━╇━━━━━━━━━━━━╇━━━━━━━━━━━━━━━━━━━┩\n",
       "│ user_input          │ (<span style=\"color: #00d7ff; text-decoration-color: #00d7ff\">None</span>, <span style=\"color: #00af00; text-decoration-color: #00af00\">1</span>)         │          <span style=\"color: #00af00; text-decoration-color: #00af00\">0</span> │ -                 │\n",
       "│ (<span style=\"color: #0087ff; text-decoration-color: #0087ff\">InputLayer</span>)        │                   │            │                   │\n",
       "├─────────────────────┼───────────────────┼────────────┼───────────────────┤\n",
       "│ item_input          │ (<span style=\"color: #00d7ff; text-decoration-color: #00d7ff\">None</span>, <span style=\"color: #00af00; text-decoration-color: #00af00\">1</span>)         │          <span style=\"color: #00af00; text-decoration-color: #00af00\">0</span> │ -                 │\n",
       "│ (<span style=\"color: #0087ff; text-decoration-color: #0087ff\">InputLayer</span>)        │                   │            │                   │\n",
       "├─────────────────────┼───────────────────┼────────────┼───────────────────┤\n",
       "│ embedding_2         │ (<span style=\"color: #00d7ff; text-decoration-color: #00d7ff\">None</span>, <span style=\"color: #00af00; text-decoration-color: #00af00\">1</span>, <span style=\"color: #00af00; text-decoration-color: #00af00\">64</span>)     │     <span style=\"color: #00af00; text-decoration-color: #00af00\">60,416</span> │ user_input[<span style=\"color: #00af00; text-decoration-color: #00af00\">0</span>][<span style=\"color: #00af00; text-decoration-color: #00af00\">0</span>]  │\n",
       "│ (<span style=\"color: #0087ff; text-decoration-color: #0087ff\">Embedding</span>)         │                   │            │                   │\n",
       "├─────────────────────┼───────────────────┼────────────┼───────────────────┤\n",
       "│ embedding_3         │ (<span style=\"color: #00d7ff; text-decoration-color: #00d7ff\">None</span>, <span style=\"color: #00af00; text-decoration-color: #00af00\">1</span>, <span style=\"color: #00af00; text-decoration-color: #00af00\">64</span>)     │    <span style=\"color: #00af00; text-decoration-color: #00af00\">107,712</span> │ item_input[<span style=\"color: #00af00; text-decoration-color: #00af00\">0</span>][<span style=\"color: #00af00; text-decoration-color: #00af00\">0</span>]  │\n",
       "│ (<span style=\"color: #0087ff; text-decoration-color: #0087ff\">Embedding</span>)         │                   │            │                   │\n",
       "├─────────────────────┼───────────────────┼────────────┼───────────────────┤\n",
       "│ flatten_6 (<span style=\"color: #0087ff; text-decoration-color: #0087ff\">Flatten</span>) │ (<span style=\"color: #00d7ff; text-decoration-color: #00d7ff\">None</span>, <span style=\"color: #00af00; text-decoration-color: #00af00\">64</span>)        │          <span style=\"color: #00af00; text-decoration-color: #00af00\">0</span> │ embedding_2[<span style=\"color: #00af00; text-decoration-color: #00af00\">0</span>][<span style=\"color: #00af00; text-decoration-color: #00af00\">0</span>] │\n",
       "├─────────────────────┼───────────────────┼────────────┼───────────────────┤\n",
       "│ flatten_7 (<span style=\"color: #0087ff; text-decoration-color: #0087ff\">Flatten</span>) │ (<span style=\"color: #00d7ff; text-decoration-color: #00d7ff\">None</span>, <span style=\"color: #00af00; text-decoration-color: #00af00\">64</span>)        │          <span style=\"color: #00af00; text-decoration-color: #00af00\">0</span> │ embedding_3[<span style=\"color: #00af00; text-decoration-color: #00af00\">0</span>][<span style=\"color: #00af00; text-decoration-color: #00af00\">0</span>] │\n",
       "├─────────────────────┼───────────────────┼────────────┼───────────────────┤\n",
       "│ dot_4 (<span style=\"color: #0087ff; text-decoration-color: #0087ff\">Dot</span>)         │ (<span style=\"color: #00d7ff; text-decoration-color: #00d7ff\">None</span>, <span style=\"color: #00af00; text-decoration-color: #00af00\">1</span>)         │          <span style=\"color: #00af00; text-decoration-color: #00af00\">0</span> │ flatten_6[<span style=\"color: #00af00; text-decoration-color: #00af00\">0</span>][<span style=\"color: #00af00; text-decoration-color: #00af00\">0</span>],  │\n",
       "│                     │                   │            │ flatten_7[<span style=\"color: #00af00; text-decoration-color: #00af00\">0</span>][<span style=\"color: #00af00; text-decoration-color: #00af00\">0</span>]   │\n",
       "├─────────────────────┼───────────────────┼────────────┼───────────────────┤\n",
       "│ dense_9 (<span style=\"color: #0087ff; text-decoration-color: #0087ff\">Dense</span>)     │ (<span style=\"color: #00d7ff; text-decoration-color: #00d7ff\">None</span>, <span style=\"color: #00af00; text-decoration-color: #00af00\">128</span>)       │        <span style=\"color: #00af00; text-decoration-color: #00af00\">256</span> │ dot_4[<span style=\"color: #00af00; text-decoration-color: #00af00\">0</span>][<span style=\"color: #00af00; text-decoration-color: #00af00\">0</span>]       │\n",
       "├─────────────────────┼───────────────────┼────────────┼───────────────────┤\n",
       "│ dropout_6 (<span style=\"color: #0087ff; text-decoration-color: #0087ff\">Dropout</span>) │ (<span style=\"color: #00d7ff; text-decoration-color: #00d7ff\">None</span>, <span style=\"color: #00af00; text-decoration-color: #00af00\">128</span>)       │          <span style=\"color: #00af00; text-decoration-color: #00af00\">0</span> │ dense_9[<span style=\"color: #00af00; text-decoration-color: #00af00\">0</span>][<span style=\"color: #00af00; text-decoration-color: #00af00\">0</span>]     │\n",
       "├─────────────────────┼───────────────────┼────────────┼───────────────────┤\n",
       "│ dense_10 (<span style=\"color: #0087ff; text-decoration-color: #0087ff\">Dense</span>)    │ (<span style=\"color: #00d7ff; text-decoration-color: #00d7ff\">None</span>, <span style=\"color: #00af00; text-decoration-color: #00af00\">64</span>)        │      <span style=\"color: #00af00; text-decoration-color: #00af00\">8,256</span> │ dropout_6[<span style=\"color: #00af00; text-decoration-color: #00af00\">0</span>][<span style=\"color: #00af00; text-decoration-color: #00af00\">0</span>]   │\n",
       "├─────────────────────┼───────────────────┼────────────┼───────────────────┤\n",
       "│ dropout_7 (<span style=\"color: #0087ff; text-decoration-color: #0087ff\">Dropout</span>) │ (<span style=\"color: #00d7ff; text-decoration-color: #00d7ff\">None</span>, <span style=\"color: #00af00; text-decoration-color: #00af00\">64</span>)        │          <span style=\"color: #00af00; text-decoration-color: #00af00\">0</span> │ dense_10[<span style=\"color: #00af00; text-decoration-color: #00af00\">0</span>][<span style=\"color: #00af00; text-decoration-color: #00af00\">0</span>]    │\n",
       "├─────────────────────┼───────────────────┼────────────┼───────────────────┤\n",
       "│ dense_11 (<span style=\"color: #0087ff; text-decoration-color: #0087ff\">Dense</span>)    │ (<span style=\"color: #00d7ff; text-decoration-color: #00d7ff\">None</span>, <span style=\"color: #00af00; text-decoration-color: #00af00\">1</span>)         │         <span style=\"color: #00af00; text-decoration-color: #00af00\">65</span> │ dropout_7[<span style=\"color: #00af00; text-decoration-color: #00af00\">0</span>][<span style=\"color: #00af00; text-decoration-color: #00af00\">0</span>]   │\n",
       "└─────────────────────┴───────────────────┴────────────┴───────────────────┘\n",
       "</pre>\n"
      ],
      "text/plain": [
       "┏━━━━━━━━━━━━━━━━━━━━━┳━━━━━━━━━━━━━━━━━━━┳━━━━━━━━━━━━┳━━━━━━━━━━━━━━━━━━━┓\n",
       "┃\u001b[1m \u001b[0m\u001b[1mLayer (type)       \u001b[0m\u001b[1m \u001b[0m┃\u001b[1m \u001b[0m\u001b[1mOutput Shape     \u001b[0m\u001b[1m \u001b[0m┃\u001b[1m \u001b[0m\u001b[1m   Param #\u001b[0m\u001b[1m \u001b[0m┃\u001b[1m \u001b[0m\u001b[1mConnected to     \u001b[0m\u001b[1m \u001b[0m┃\n",
       "┡━━━━━━━━━━━━━━━━━━━━━╇━━━━━━━━━━━━━━━━━━━╇━━━━━━━━━━━━╇━━━━━━━━━━━━━━━━━━━┩\n",
       "│ user_input          │ (\u001b[38;5;45mNone\u001b[0m, \u001b[38;5;34m1\u001b[0m)         │          \u001b[38;5;34m0\u001b[0m │ -                 │\n",
       "│ (\u001b[38;5;33mInputLayer\u001b[0m)        │                   │            │                   │\n",
       "├─────────────────────┼───────────────────┼────────────┼───────────────────┤\n",
       "│ item_input          │ (\u001b[38;5;45mNone\u001b[0m, \u001b[38;5;34m1\u001b[0m)         │          \u001b[38;5;34m0\u001b[0m │ -                 │\n",
       "│ (\u001b[38;5;33mInputLayer\u001b[0m)        │                   │            │                   │\n",
       "├─────────────────────┼───────────────────┼────────────┼───────────────────┤\n",
       "│ embedding_2         │ (\u001b[38;5;45mNone\u001b[0m, \u001b[38;5;34m1\u001b[0m, \u001b[38;5;34m64\u001b[0m)     │     \u001b[38;5;34m60,416\u001b[0m │ user_input[\u001b[38;5;34m0\u001b[0m][\u001b[38;5;34m0\u001b[0m]  │\n",
       "│ (\u001b[38;5;33mEmbedding\u001b[0m)         │                   │            │                   │\n",
       "├─────────────────────┼───────────────────┼────────────┼───────────────────┤\n",
       "│ embedding_3         │ (\u001b[38;5;45mNone\u001b[0m, \u001b[38;5;34m1\u001b[0m, \u001b[38;5;34m64\u001b[0m)     │    \u001b[38;5;34m107,712\u001b[0m │ item_input[\u001b[38;5;34m0\u001b[0m][\u001b[38;5;34m0\u001b[0m]  │\n",
       "│ (\u001b[38;5;33mEmbedding\u001b[0m)         │                   │            │                   │\n",
       "├─────────────────────┼───────────────────┼────────────┼───────────────────┤\n",
       "│ flatten_6 (\u001b[38;5;33mFlatten\u001b[0m) │ (\u001b[38;5;45mNone\u001b[0m, \u001b[38;5;34m64\u001b[0m)        │          \u001b[38;5;34m0\u001b[0m │ embedding_2[\u001b[38;5;34m0\u001b[0m][\u001b[38;5;34m0\u001b[0m] │\n",
       "├─────────────────────┼───────────────────┼────────────┼───────────────────┤\n",
       "│ flatten_7 (\u001b[38;5;33mFlatten\u001b[0m) │ (\u001b[38;5;45mNone\u001b[0m, \u001b[38;5;34m64\u001b[0m)        │          \u001b[38;5;34m0\u001b[0m │ embedding_3[\u001b[38;5;34m0\u001b[0m][\u001b[38;5;34m0\u001b[0m] │\n",
       "├─────────────────────┼───────────────────┼────────────┼───────────────────┤\n",
       "│ dot_4 (\u001b[38;5;33mDot\u001b[0m)         │ (\u001b[38;5;45mNone\u001b[0m, \u001b[38;5;34m1\u001b[0m)         │          \u001b[38;5;34m0\u001b[0m │ flatten_6[\u001b[38;5;34m0\u001b[0m][\u001b[38;5;34m0\u001b[0m],  │\n",
       "│                     │                   │            │ flatten_7[\u001b[38;5;34m0\u001b[0m][\u001b[38;5;34m0\u001b[0m]   │\n",
       "├─────────────────────┼───────────────────┼────────────┼───────────────────┤\n",
       "│ dense_9 (\u001b[38;5;33mDense\u001b[0m)     │ (\u001b[38;5;45mNone\u001b[0m, \u001b[38;5;34m128\u001b[0m)       │        \u001b[38;5;34m256\u001b[0m │ dot_4[\u001b[38;5;34m0\u001b[0m][\u001b[38;5;34m0\u001b[0m]       │\n",
       "├─────────────────────┼───────────────────┼────────────┼───────────────────┤\n",
       "│ dropout_6 (\u001b[38;5;33mDropout\u001b[0m) │ (\u001b[38;5;45mNone\u001b[0m, \u001b[38;5;34m128\u001b[0m)       │          \u001b[38;5;34m0\u001b[0m │ dense_9[\u001b[38;5;34m0\u001b[0m][\u001b[38;5;34m0\u001b[0m]     │\n",
       "├─────────────────────┼───────────────────┼────────────┼───────────────────┤\n",
       "│ dense_10 (\u001b[38;5;33mDense\u001b[0m)    │ (\u001b[38;5;45mNone\u001b[0m, \u001b[38;5;34m64\u001b[0m)        │      \u001b[38;5;34m8,256\u001b[0m │ dropout_6[\u001b[38;5;34m0\u001b[0m][\u001b[38;5;34m0\u001b[0m]   │\n",
       "├─────────────────────┼───────────────────┼────────────┼───────────────────┤\n",
       "│ dropout_7 (\u001b[38;5;33mDropout\u001b[0m) │ (\u001b[38;5;45mNone\u001b[0m, \u001b[38;5;34m64\u001b[0m)        │          \u001b[38;5;34m0\u001b[0m │ dense_10[\u001b[38;5;34m0\u001b[0m][\u001b[38;5;34m0\u001b[0m]    │\n",
       "├─────────────────────┼───────────────────┼────────────┼───────────────────┤\n",
       "│ dense_11 (\u001b[38;5;33mDense\u001b[0m)    │ (\u001b[38;5;45mNone\u001b[0m, \u001b[38;5;34m1\u001b[0m)         │         \u001b[38;5;34m65\u001b[0m │ dropout_7[\u001b[38;5;34m0\u001b[0m][\u001b[38;5;34m0\u001b[0m]   │\n",
       "└─────────────────────┴───────────────────┴────────────┴───────────────────┘\n"
      ]
     },
     "metadata": {},
     "output_type": "display_data"
    },
    {
     "data": {
      "text/html": [
       "<pre style=\"white-space:pre;overflow-x:auto;line-height:normal;font-family:Menlo,'DejaVu Sans Mono',consolas,'Courier New',monospace\"><span style=\"font-weight: bold\"> Total params: </span><span style=\"color: #00af00; text-decoration-color: #00af00\">176,705</span> (690.25 KB)\n",
       "</pre>\n"
      ],
      "text/plain": [
       "\u001b[1m Total params: \u001b[0m\u001b[38;5;34m176,705\u001b[0m (690.25 KB)\n"
      ]
     },
     "metadata": {},
     "output_type": "display_data"
    },
    {
     "data": {
      "text/html": [
       "<pre style=\"white-space:pre;overflow-x:auto;line-height:normal;font-family:Menlo,'DejaVu Sans Mono',consolas,'Courier New',monospace\"><span style=\"font-weight: bold\"> Trainable params: </span><span style=\"color: #00af00; text-decoration-color: #00af00\">176,705</span> (690.25 KB)\n",
       "</pre>\n"
      ],
      "text/plain": [
       "\u001b[1m Trainable params: \u001b[0m\u001b[38;5;34m176,705\u001b[0m (690.25 KB)\n"
      ]
     },
     "metadata": {},
     "output_type": "display_data"
    },
    {
     "data": {
      "text/html": [
       "<pre style=\"white-space:pre;overflow-x:auto;line-height:normal;font-family:Menlo,'DejaVu Sans Mono',consolas,'Courier New',monospace\"><span style=\"font-weight: bold\"> Non-trainable params: </span><span style=\"color: #00af00; text-decoration-color: #00af00\">0</span> (0.00 B)\n",
       "</pre>\n"
      ],
      "text/plain": [
       "\u001b[1m Non-trainable params: \u001b[0m\u001b[38;5;34m0\u001b[0m (0.00 B)\n"
      ]
     },
     "metadata": {},
     "output_type": "display_data"
    },
    {
     "name": "stdout",
     "output_type": "stream",
     "text": [
      "Epoch 1/20\n",
      "\u001b[1m1250/1250\u001b[0m \u001b[32m━━━━━━━━━━━━━━━━━━━━\u001b[0m\u001b[37m\u001b[0m \u001b[1m2s\u001b[0m 1ms/step - loss: 1.3453 - val_loss: 0.9196\n",
      "Epoch 2/20\n",
      "\u001b[1m1250/1250\u001b[0m \u001b[32m━━━━━━━━━━━━━━━━━━━━\u001b[0m\u001b[37m\u001b[0m \u001b[1m2s\u001b[0m 1ms/step - loss: 0.9015 - val_loss: 0.8012\n",
      "Epoch 3/20\n",
      "\u001b[1m1250/1250\u001b[0m \u001b[32m━━━━━━━━━━━━━━━━━━━━\u001b[0m\u001b[37m\u001b[0m \u001b[1m2s\u001b[0m 1ms/step - loss: 0.7115 - val_loss: 0.7874\n",
      "Epoch 4/20\n",
      "\u001b[1m1250/1250\u001b[0m \u001b[32m━━━━━━━━━━━━━━━━━━━━\u001b[0m\u001b[37m\u001b[0m \u001b[1m2s\u001b[0m 1ms/step - loss: 0.6068 - val_loss: 0.7887\n",
      "Epoch 5/20\n",
      "\u001b[1m1250/1250\u001b[0m \u001b[32m━━━━━━━━━━━━━━━━━━━━\u001b[0m\u001b[37m\u001b[0m \u001b[1m2s\u001b[0m 1ms/step - loss: 0.5407 - val_loss: 0.7871\n",
      "Epoch 6/20\n",
      "\u001b[1m1250/1250\u001b[0m \u001b[32m━━━━━━━━━━━━━━━━━━━━\u001b[0m\u001b[37m\u001b[0m \u001b[1m2s\u001b[0m 1ms/step - loss: 0.4795 - val_loss: 0.7906\n",
      "Epoch 7/20\n",
      "\u001b[1m1250/1250\u001b[0m \u001b[32m━━━━━━━━━━━━━━━━━━━━\u001b[0m\u001b[37m\u001b[0m \u001b[1m2s\u001b[0m 1ms/step - loss: 0.4344 - val_loss: 0.7902\n",
      "Epoch 8/20\n",
      "\u001b[1m1250/1250\u001b[0m \u001b[32m━━━━━━━━━━━━━━━━━━━━\u001b[0m\u001b[37m\u001b[0m \u001b[1m2s\u001b[0m 1ms/step - loss: 0.3894 - val_loss: 0.7886\n",
      "Epoch 9/20\n",
      "\u001b[1m1250/1250\u001b[0m \u001b[32m━━━━━━━━━━━━━━━━━━━━\u001b[0m\u001b[37m\u001b[0m \u001b[1m2s\u001b[0m 1ms/step - loss: 0.3566 - val_loss: 0.7894\n",
      "Epoch 10/20\n",
      "\u001b[1m1250/1250\u001b[0m \u001b[32m━━━━━━━━━━━━━━━━━━━━\u001b[0m\u001b[37m\u001b[0m \u001b[1m2s\u001b[0m 1ms/step - loss: 0.3330 - val_loss: 0.7925\n",
      "Epoch 11/20\n",
      "\u001b[1m1250/1250\u001b[0m \u001b[32m━━━━━━━━━━━━━━━━━━━━\u001b[0m\u001b[37m\u001b[0m \u001b[1m2s\u001b[0m 1ms/step - loss: 0.3182 - val_loss: 0.7910\n",
      "Epoch 12/20\n",
      "\u001b[1m1250/1250\u001b[0m \u001b[32m━━━━━━━━━━━━━━━━━━━━\u001b[0m\u001b[37m\u001b[0m \u001b[1m2s\u001b[0m 1ms/step - loss: 0.3130 - val_loss: 0.7950\n",
      "Epoch 13/20\n",
      "\u001b[1m1250/1250\u001b[0m \u001b[32m━━━━━━━━━━━━━━━━━━━━\u001b[0m\u001b[37m\u001b[0m \u001b[1m2s\u001b[0m 1ms/step - loss: 0.3082 - val_loss: 0.7983\n",
      "Epoch 14/20\n",
      "\u001b[1m1250/1250\u001b[0m \u001b[32m━━━━━━━━━━━━━━━━━━━━\u001b[0m\u001b[37m\u001b[0m \u001b[1m2s\u001b[0m 1ms/step - loss: 0.3002 - val_loss: 0.7946\n",
      "Epoch 15/20\n",
      "\u001b[1m1250/1250\u001b[0m \u001b[32m━━━━━━━━━━━━━━━━━━━━\u001b[0m\u001b[37m\u001b[0m \u001b[1m2s\u001b[0m 1ms/step - loss: 0.3019 - val_loss: 0.7951\n",
      "Epoch 16/20\n",
      "\u001b[1m1250/1250\u001b[0m \u001b[32m━━━━━━━━━━━━━━━━━━━━\u001b[0m\u001b[37m\u001b[0m \u001b[1m2s\u001b[0m 1ms/step - loss: 0.2957 - val_loss: 0.7982\n",
      "Epoch 17/20\n",
      "\u001b[1m1250/1250\u001b[0m \u001b[32m━━━━━━━━━━━━━━━━━━━━\u001b[0m\u001b[37m\u001b[0m \u001b[1m2s\u001b[0m 1ms/step - loss: 0.2955 - val_loss: 0.8052\n",
      "Epoch 18/20\n",
      "\u001b[1m1250/1250\u001b[0m \u001b[32m━━━━━━━━━━━━━━━━━━━━\u001b[0m\u001b[37m\u001b[0m \u001b[1m2s\u001b[0m 1ms/step - loss: 0.2971 - val_loss: 0.7983\n",
      "Epoch 19/20\n",
      "\u001b[1m1250/1250\u001b[0m \u001b[32m━━━━━━━━━━━━━━━━━━━━\u001b[0m\u001b[37m\u001b[0m \u001b[1m2s\u001b[0m 1ms/step - loss: 0.2901 - val_loss: 0.8007\n",
      "Epoch 20/20\n",
      "\u001b[1m1250/1250\u001b[0m \u001b[32m━━━━━━━━━━━━━━━━━━━━\u001b[0m\u001b[37m\u001b[0m \u001b[1m2s\u001b[0m 1ms/step - loss: 0.2900 - val_loss: 0.8011\n"
     ]
    },
    {
     "data": {
      "image/png": "[encoded data removed]",
      "text/plain": [
       "<Figure size 800x500 with 1 Axes>"
      ]
     },
     "metadata": {},
     "output_type": "display_data"
    }
   ],
   "source": [
    "from tensorflow.keras.models import Model\n",
    "from tensorflow.keras.layers import Input, Embedding, Flatten, Dot, Dense, Dropout\n",
    "import matplotlib.pyplot as plt\n",
    "\n",
    "# ---------------------------\n",
    "# Define constants\n",
    "# ---------------------------\n",
    "embedding_size = 64\n",
    "max_user_id = all_ratings['user_id'].max()\n",
    "max_item_id = all_ratings['item_id'].max()\n",
    "\n",
    "# ---------------------------\n",
    "# Inputs\n",
    "# ---------------------------\n",
    "user_input = Input(shape=(1,), name='user_input')\n",
    "item_input = Input(shape=(1,), name='item_input')\n",
    "\n",
    "# ---------------------------\n",
    "# Embeddings\n",
    "# ---------------------------\n",
    "user_vec = Flatten()(Embedding(input_dim=max_user_id+1,\n",
    "                               output_dim=embedding_size)(user_input))\n",
    "item_vec = Flatten()(Embedding(input_dim=max_item_id+1,\n",
    "                               output_dim=embedding_size)(item_input))\n",
    "\n",
    "# ---------------------------\n",
    "# Dot product of embeddings\n",
    "# ---------------------------\n",
    "dot = Dot(axes=1)([user_vec, item_vec])\n",
    "\n",
    "# ---------------------------\n",
    "# Add hidden layers with dropout\n",
    "# ---------------------------\n",
    "x = Dense(128, activation='relu')(dot)   # new hidden layer\n",
    "x = Dropout(0.5)(x)                      # increased dropout\n",
    "x = Dense(64, activation='relu')(x)      # original hidden layer\n",
    "x = Dropout(0.4)(x)\n",
    "\n",
    "# ---------------------------\n",
    "# Output layer\n",
    "# ---------------------------\n",
    "output = Dense(1)(x)\n",
    "\n",
    "# ---------------------------\n",
    "# Define and compile the model\n",
    "# ---------------------------\n",
    "model = Model(inputs=[user_input, item_input], outputs=output)\n",
    "model.compile(optimizer='adam', loss='mae')\n",
    "model.summary()\n",
    "\n",
    "# ---------------------------\n",
    "# Train the model\n",
    "# ---------------------------\n",
    "history = model.fit([user_id_train, item_id_train], rating_train,\n",
    "                    validation_data=([user_id_test, item_id_test], rating_test),\n",
    "                    epochs=20,\n",
    "                    batch_size=64)\n",
    "\n",
    "# ---------------------------\n",
    "# Plot train vs test error\n",
    "# ---------------------------\n",
    "plt.figure(figsize=(8,5))\n",
    "plt.plot(history.history['loss'], label='Train MAE')\n",
    "plt.plot(history.history['val_loss'], label='Test MAE')\n",
    "plt.xlabel('Epochs')\n",
    "plt.ylabel('MAE')\n",
    "plt.title('Train vs Test Error')\n",
    "plt.legend()\n",
    "plt.show()\n"
   ]
  },
  {
   "cell_type": "code",
   "execution_count": 68,
   "metadata": {},
   "outputs": [
    {
     "data": {
      "text/html": [
       "<pre style=\"white-space:pre;overflow-x:auto;line-height:normal;font-family:Menlo,'DejaVu Sans Mono',consolas,'Courier New',monospace\"><span style=\"font-weight: bold\">Model: \"functional_5\"</span>\n",
       "</pre>\n"
      ],
      "text/plain": [
       "\u001b[1mModel: \"functional_5\"\u001b[0m\n"
      ]
     },
     "metadata": {},
     "output_type": "display_data"
    },
    {
     "data": {
      "text/html": [
       "<pre style=\"white-space:pre;overflow-x:auto;line-height:normal;font-family:Menlo,'DejaVu Sans Mono',consolas,'Courier New',monospace\">┏━━━━━━━━━━━━━━━━━━━━━┳━━━━━━━━━━━━━━━━━━━┳━━━━━━━━━━━━┳━━━━━━━━━━━━━━━━━━━┓\n",
       "┃<span style=\"font-weight: bold\"> Layer (type)        </span>┃<span style=\"font-weight: bold\"> Output Shape      </span>┃<span style=\"font-weight: bold\">    Param # </span>┃<span style=\"font-weight: bold\"> Connected to      </span>┃\n",
       "┡━━━━━━━━━━━━━━━━━━━━━╇━━━━━━━━━━━━━━━━━━━╇━━━━━━━━━━━━╇━━━━━━━━━━━━━━━━━━━┩\n",
       "│ user_input          │ (<span style=\"color: #00d7ff; text-decoration-color: #00d7ff\">None</span>, <span style=\"color: #00af00; text-decoration-color: #00af00\">1</span>)         │          <span style=\"color: #00af00; text-decoration-color: #00af00\">0</span> │ -                 │\n",
       "│ (<span style=\"color: #0087ff; text-decoration-color: #0087ff\">InputLayer</span>)        │                   │            │                   │\n",
       "├─────────────────────┼───────────────────┼────────────┼───────────────────┤\n",
       "│ item_input          │ (<span style=\"color: #00d7ff; text-decoration-color: #00d7ff\">None</span>, <span style=\"color: #00af00; text-decoration-color: #00af00\">1</span>)         │          <span style=\"color: #00af00; text-decoration-color: #00af00\">0</span> │ -                 │\n",
       "│ (<span style=\"color: #0087ff; text-decoration-color: #0087ff\">InputLayer</span>)        │                   │            │                   │\n",
       "├─────────────────────┼───────────────────┼────────────┼───────────────────┤\n",
       "│ embedding_6         │ (<span style=\"color: #00d7ff; text-decoration-color: #00d7ff\">None</span>, <span style=\"color: #00af00; text-decoration-color: #00af00\">1</span>, <span style=\"color: #00af00; text-decoration-color: #00af00\">64</span>)     │     <span style=\"color: #00af00; text-decoration-color: #00af00\">60,416</span> │ user_input[<span style=\"color: #00af00; text-decoration-color: #00af00\">0</span>][<span style=\"color: #00af00; text-decoration-color: #00af00\">0</span>]  │\n",
       "│ (<span style=\"color: #0087ff; text-decoration-color: #0087ff\">Embedding</span>)         │                   │            │                   │\n",
       "├─────────────────────┼───────────────────┼────────────┼───────────────────┤\n",
       "│ embedding_7         │ (<span style=\"color: #00d7ff; text-decoration-color: #00d7ff\">None</span>, <span style=\"color: #00af00; text-decoration-color: #00af00\">1</span>, <span style=\"color: #00af00; text-decoration-color: #00af00\">64</span>)     │    <span style=\"color: #00af00; text-decoration-color: #00af00\">107,712</span> │ item_input[<span style=\"color: #00af00; text-decoration-color: #00af00\">0</span>][<span style=\"color: #00af00; text-decoration-color: #00af00\">0</span>]  │\n",
       "│ (<span style=\"color: #0087ff; text-decoration-color: #0087ff\">Embedding</span>)         │                   │            │                   │\n",
       "├─────────────────────┼───────────────────┼────────────┼───────────────────┤\n",
       "│ flatten_10          │ (<span style=\"color: #00d7ff; text-decoration-color: #00d7ff\">None</span>, <span style=\"color: #00af00; text-decoration-color: #00af00\">64</span>)        │          <span style=\"color: #00af00; text-decoration-color: #00af00\">0</span> │ embedding_6[<span style=\"color: #00af00; text-decoration-color: #00af00\">0</span>][<span style=\"color: #00af00; text-decoration-color: #00af00\">0</span>] │\n",
       "│ (<span style=\"color: #0087ff; text-decoration-color: #0087ff\">Flatten</span>)           │                   │            │                   │\n",
       "├─────────────────────┼───────────────────┼────────────┼───────────────────┤\n",
       "│ flatten_11          │ (<span style=\"color: #00d7ff; text-decoration-color: #00d7ff\">None</span>, <span style=\"color: #00af00; text-decoration-color: #00af00\">64</span>)        │          <span style=\"color: #00af00; text-decoration-color: #00af00\">0</span> │ embedding_7[<span style=\"color: #00af00; text-decoration-color: #00af00\">0</span>][<span style=\"color: #00af00; text-decoration-color: #00af00\">0</span>] │\n",
       "│ (<span style=\"color: #0087ff; text-decoration-color: #0087ff\">Flatten</span>)           │                   │            │                   │\n",
       "├─────────────────────┼───────────────────┼────────────┼───────────────────┤\n",
       "│ dot_6 (<span style=\"color: #0087ff; text-decoration-color: #0087ff\">Dot</span>)         │ (<span style=\"color: #00d7ff; text-decoration-color: #00d7ff\">None</span>, <span style=\"color: #00af00; text-decoration-color: #00af00\">1</span>)         │          <span style=\"color: #00af00; text-decoration-color: #00af00\">0</span> │ flatten_10[<span style=\"color: #00af00; text-decoration-color: #00af00\">0</span>][<span style=\"color: #00af00; text-decoration-color: #00af00\">0</span>], │\n",
       "│                     │                   │            │ flatten_11[<span style=\"color: #00af00; text-decoration-color: #00af00\">0</span>][<span style=\"color: #00af00; text-decoration-color: #00af00\">0</span>]  │\n",
       "├─────────────────────┼───────────────────┼────────────┼───────────────────┤\n",
       "│ dense_15 (<span style=\"color: #0087ff; text-decoration-color: #0087ff\">Dense</span>)    │ (<span style=\"color: #00d7ff; text-decoration-color: #00d7ff\">None</span>, <span style=\"color: #00af00; text-decoration-color: #00af00\">256</span>)       │        <span style=\"color: #00af00; text-decoration-color: #00af00\">512</span> │ dot_6[<span style=\"color: #00af00; text-decoration-color: #00af00\">0</span>][<span style=\"color: #00af00; text-decoration-color: #00af00\">0</span>]       │\n",
       "├─────────────────────┼───────────────────┼────────────┼───────────────────┤\n",
       "│ dropout_10          │ (<span style=\"color: #00d7ff; text-decoration-color: #00d7ff\">None</span>, <span style=\"color: #00af00; text-decoration-color: #00af00\">256</span>)       │          <span style=\"color: #00af00; text-decoration-color: #00af00\">0</span> │ dense_15[<span style=\"color: #00af00; text-decoration-color: #00af00\">0</span>][<span style=\"color: #00af00; text-decoration-color: #00af00\">0</span>]    │\n",
       "│ (<span style=\"color: #0087ff; text-decoration-color: #0087ff\">Dropout</span>)           │                   │            │                   │\n",
       "├─────────────────────┼───────────────────┼────────────┼───────────────────┤\n",
       "│ dense_16 (<span style=\"color: #0087ff; text-decoration-color: #0087ff\">Dense</span>)    │ (<span style=\"color: #00d7ff; text-decoration-color: #00d7ff\">None</span>, <span style=\"color: #00af00; text-decoration-color: #00af00\">128</span>)       │     <span style=\"color: #00af00; text-decoration-color: #00af00\">32,896</span> │ dropout_10[<span style=\"color: #00af00; text-decoration-color: #00af00\">0</span>][<span style=\"color: #00af00; text-decoration-color: #00af00\">0</span>]  │\n",
       "├─────────────────────┼───────────────────┼────────────┼───────────────────┤\n",
       "│ dropout_11          │ (<span style=\"color: #00d7ff; text-decoration-color: #00d7ff\">None</span>, <span style=\"color: #00af00; text-decoration-color: #00af00\">128</span>)       │          <span style=\"color: #00af00; text-decoration-color: #00af00\">0</span> │ dense_16[<span style=\"color: #00af00; text-decoration-color: #00af00\">0</span>][<span style=\"color: #00af00; text-decoration-color: #00af00\">0</span>]    │\n",
       "│ (<span style=\"color: #0087ff; text-decoration-color: #0087ff\">Dropout</span>)           │                   │            │                   │\n",
       "├─────────────────────┼───────────────────┼────────────┼───────────────────┤\n",
       "│ dense_17 (<span style=\"color: #0087ff; text-decoration-color: #0087ff\">Dense</span>)    │ (<span style=\"color: #00d7ff; text-decoration-color: #00d7ff\">None</span>, <span style=\"color: #00af00; text-decoration-color: #00af00\">1</span>)         │        <span style=\"color: #00af00; text-decoration-color: #00af00\">129</span> │ dropout_11[<span style=\"color: #00af00; text-decoration-color: #00af00\">0</span>][<span style=\"color: #00af00; text-decoration-color: #00af00\">0</span>]  │\n",
       "└─────────────────────┴───────────────────┴────────────┴───────────────────┘\n",
       "</pre>\n"
      ],
      "text/plain": [
       "┏━━━━━━━━━━━━━━━━━━━━━┳━━━━━━━━━━━━━━━━━━━┳━━━━━━━━━━━━┳━━━━━━━━━━━━━━━━━━━┓\n",
       "┃\u001b[1m \u001b[0m\u001b[1mLayer (type)       \u001b[0m\u001b[1m \u001b[0m┃\u001b[1m \u001b[0m\u001b[1mOutput Shape     \u001b[0m\u001b[1m \u001b[0m┃\u001b[1m \u001b[0m\u001b[1m   Param #\u001b[0m\u001b[1m \u001b[0m┃\u001b[1m \u001b[0m\u001b[1mConnected to     \u001b[0m\u001b[1m \u001b[0m┃\n",
       "┡━━━━━━━━━━━━━━━━━━━━━╇━━━━━━━━━━━━━━━━━━━╇━━━━━━━━━━━━╇━━━━━━━━━━━━━━━━━━━┩\n",
       "│ user_input          │ (\u001b[38;5;45mNone\u001b[0m, \u001b[38;5;34m1\u001b[0m)         │          \u001b[38;5;34m0\u001b[0m │ -                 │\n",
       "│ (\u001b[38;5;33mInputLayer\u001b[0m)        │                   │            │                   │\n",
       "├─────────────────────┼───────────────────┼────────────┼───────────────────┤\n",
       "│ item_input          │ (\u001b[38;5;45mNone\u001b[0m, \u001b[38;5;34m1\u001b[0m)         │          \u001b[38;5;34m0\u001b[0m │ -                 │\n",
       "│ (\u001b[38;5;33mInputLayer\u001b[0m)        │                   │            │                   │\n",
       "├─────────────────────┼───────────────────┼────────────┼───────────────────┤\n",
       "│ embedding_6         │ (\u001b[38;5;45mNone\u001b[0m, \u001b[38;5;34m1\u001b[0m, \u001b[38;5;34m64\u001b[0m)     │     \u001b[38;5;34m60,416\u001b[0m │ user_input[\u001b[38;5;34m0\u001b[0m][\u001b[38;5;34m0\u001b[0m]  │\n",
       "│ (\u001b[38;5;33mEmbedding\u001b[0m)         │                   │            │                   │\n",
       "├─────────────────────┼───────────────────┼────────────┼───────────────────┤\n",
       "│ embedding_7         │ (\u001b[38;5;45mNone\u001b[0m, \u001b[38;5;34m1\u001b[0m, \u001b[38;5;34m64\u001b[0m)     │    \u001b[38;5;34m107,712\u001b[0m │ item_input[\u001b[38;5;34m0\u001b[0m][\u001b[38;5;34m0\u001b[0m]  │\n",
       "│ (\u001b[38;5;33mEmbedding\u001b[0m)         │                   │            │                   │\n",
       "├─────────────────────┼───────────────────┼────────────┼───────────────────┤\n",
       "│ flatten_10          │ (\u001b[38;5;45mNone\u001b[0m, \u001b[38;5;34m64\u001b[0m)        │          \u001b[38;5;34m0\u001b[0m │ embedding_6[\u001b[38;5;34m0\u001b[0m][\u001b[38;5;34m0\u001b[0m] │\n",
       "│ (\u001b[38;5;33mFlatten\u001b[0m)           │                   │            │                   │\n",
       "├─────────────────────┼───────────────────┼────────────┼───────────────────┤\n",
       "│ flatten_11          │ (\u001b[38;5;45mNone\u001b[0m, \u001b[38;5;34m64\u001b[0m)        │          \u001b[38;5;34m0\u001b[0m │ embedding_7[\u001b[38;5;34m0\u001b[0m][\u001b[38;5;34m0\u001b[0m] │\n",
       "│ (\u001b[38;5;33mFlatten\u001b[0m)           │                   │            │                   │\n",
       "├─────────────────────┼───────────────────┼────────────┼───────────────────┤\n",
       "│ dot_6 (\u001b[38;5;33mDot\u001b[0m)         │ (\u001b[38;5;45mNone\u001b[0m, \u001b[38;5;34m1\u001b[0m)         │          \u001b[38;5;34m0\u001b[0m │ flatten_10[\u001b[38;5;34m0\u001b[0m][\u001b[38;5;34m0\u001b[0m], │\n",
       "│                     │                   │            │ flatten_11[\u001b[38;5;34m0\u001b[0m][\u001b[38;5;34m0\u001b[0m]  │\n",
       "├─────────────────────┼───────────────────┼────────────┼───────────────────┤\n",
       "│ dense_15 (\u001b[38;5;33mDense\u001b[0m)    │ (\u001b[38;5;45mNone\u001b[0m, \u001b[38;5;34m256\u001b[0m)       │        \u001b[38;5;34m512\u001b[0m │ dot_6[\u001b[38;5;34m0\u001b[0m][\u001b[38;5;34m0\u001b[0m]       │\n",
       "├─────────────────────┼───────────────────┼────────────┼───────────────────┤\n",
       "│ dropout_10          │ (\u001b[38;5;45mNone\u001b[0m, \u001b[38;5;34m256\u001b[0m)       │          \u001b[38;5;34m0\u001b[0m │ dense_15[\u001b[38;5;34m0\u001b[0m][\u001b[38;5;34m0\u001b[0m]    │\n",
       "│ (\u001b[38;5;33mDropout\u001b[0m)           │                   │            │                   │\n",
       "├─────────────────────┼───────────────────┼────────────┼───────────────────┤\n",
       "│ dense_16 (\u001b[38;5;33mDense\u001b[0m)    │ (\u001b[38;5;45mNone\u001b[0m, \u001b[38;5;34m128\u001b[0m)       │     \u001b[38;5;34m32,896\u001b[0m │ dropout_10[\u001b[38;5;34m0\u001b[0m][\u001b[38;5;34m0\u001b[0m]  │\n",
       "├─────────────────────┼───────────────────┼────────────┼───────────────────┤\n",
       "│ dropout_11          │ (\u001b[38;5;45mNone\u001b[0m, \u001b[38;5;34m128\u001b[0m)       │          \u001b[38;5;34m0\u001b[0m │ dense_16[\u001b[38;5;34m0\u001b[0m][\u001b[38;5;34m0\u001b[0m]    │\n",
       "│ (\u001b[38;5;33mDropout\u001b[0m)           │                   │            │                   │\n",
       "├─────────────────────┼───────────────────┼────────────┼───────────────────┤\n",
       "│ dense_17 (\u001b[38;5;33mDense\u001b[0m)    │ (\u001b[38;5;45mNone\u001b[0m, \u001b[38;5;34m1\u001b[0m)         │        \u001b[38;5;34m129\u001b[0m │ dropout_11[\u001b[38;5;34m0\u001b[0m][\u001b[38;5;34m0\u001b[0m]  │\n",
       "└─────────────────────┴───────────────────┴────────────┴───────────────────┘\n"
      ]
     },
     "metadata": {},
     "output_type": "display_data"
    },
    {
     "data": {
      "text/html": [
       "<pre style=\"white-space:pre;overflow-x:auto;line-height:normal;font-family:Menlo,'DejaVu Sans Mono',consolas,'Courier New',monospace\"><span style=\"font-weight: bold\"> Total params: </span><span style=\"color: #00af00; text-decoration-color: #00af00\">201,665</span> (787.75 KB)\n",
       "</pre>\n"
      ],
      "text/plain": [
       "\u001b[1m Total params: \u001b[0m\u001b[38;5;34m201,665\u001b[0m (787.75 KB)\n"
      ]
     },
     "metadata": {},
     "output_type": "display_data"
    },
    {
     "data": {
      "text/html": [
       "<pre style=\"white-space:pre;overflow-x:auto;line-height:normal;font-family:Menlo,'DejaVu Sans Mono',consolas,'Courier New',monospace\"><span style=\"font-weight: bold\"> Trainable params: </span><span style=\"color: #00af00; text-decoration-color: #00af00\">201,665</span> (787.75 KB)\n",
       "</pre>\n"
      ],
      "text/plain": [
       "\u001b[1m Trainable params: \u001b[0m\u001b[38;5;34m201,665\u001b[0m (787.75 KB)\n"
      ]
     },
     "metadata": {},
     "output_type": "display_data"
    },
    {
     "data": {
      "text/html": [
       "<pre style=\"white-space:pre;overflow-x:auto;line-height:normal;font-family:Menlo,'DejaVu Sans Mono',consolas,'Courier New',monospace\"><span style=\"font-weight: bold\"> Non-trainable params: </span><span style=\"color: #00af00; text-decoration-color: #00af00\">0</span> (0.00 B)\n",
       "</pre>\n"
      ],
      "text/plain": [
       "\u001b[1m Non-trainable params: \u001b[0m\u001b[38;5;34m0\u001b[0m (0.00 B)\n"
      ]
     },
     "metadata": {},
     "output_type": "display_data"
    }
   ],
   "source": [
    "from tensorflow.keras.models import Model\n",
    "from tensorflow.keras.layers import Input, Embedding, Flatten, Dot, Dense, Dropout\n",
    "\n",
    "embedding_size = 64\n",
    "max_user_id = all_ratings['user_id'].max()\n",
    "max_item_id = all_ratings['item_id'].max()\n",
    "\n",
    "# Inputs\n",
    "user_input = Input(shape=(1,), name='user_input')\n",
    "item_input = Input(shape=(1,), name='item_input')\n",
    "\n",
    "# Embeddings\n",
    "user_vec = Flatten()(Embedding(input_dim=max_user_id+1, output_dim=embedding_size)(user_input))\n",
    "item_vec = Flatten()(Embedding(input_dim=max_item_id+1, output_dim=embedding_size)(item_input))\n",
    "\n",
    "# Dot product of embeddings\n",
    "dot = Dot(axes=1)([user_vec, item_vec])\n",
    "\n",
    "# Hidden layers with **larger sizes** and **more dropout**\n",
    "x = Dense(256, activation='relu')(dot)   # larger first hidden layer\n",
    "x = Dropout(0.6)(x)                      # increased dropout\n",
    "x = Dense(128, activation='relu')(x)     # larger second hidden layer\n",
    "x = Dropout(0.5)(x)\n",
    "\n",
    "# Output layer\n",
    "output = Dense(1)(x)\n",
    "\n",
    "# Model\n",
    "model = Model(inputs=[user_input, item_input], outputs=output)\n",
    "model.compile(optimizer='adam', loss='mae')\n",
    "model.summary()\n",
    "\n",
    "\n"
   ]
  },
  {
   "cell_type": "markdown",
   "metadata": {},
   "source": [
    "### A recommendation function for a given user\n",
    "\n",
    "Once the model is trained, the system can be used to recommend a few items for a user that they haven't seen before. The following code does that.\n",
    "\n",
    "- we use the `model.predict` to compute the ratings a user would have given to all items\n",
    "- we build a function that sorts these items and excludes those the user has already seen."
   ]
  },
  {
   "cell_type": "code",
   "execution_count": 70,
   "metadata": {
    "scrolled": true
   },
   "outputs": [],
   "source": [
    "def recommend(user_id, top_n=10):\n",
    "    item_ids = range(1, items['item_id'].max())\n",
    "    seen_mask = all_ratings[\"user_id\"] == user_id\n",
    "    seen_movies = set(all_ratings[seen_mask][\"item_id\"])\n",
    "    item_ids = list(filter(lambda x: x not in seen_movies, item_ids))\n",
    "\n",
    "    user = np.zeros_like(item_ids)\n",
    "    user[:len(item_ids)] = user_id\n",
    "    items_ = np.array(item_ids)\n",
    "    ratings = model.predict([user, items_]).flatten()\n",
    "    top_items = ratings.argsort()[-top_n:][::-1]\n",
    "    return [(indexed_items.loc[item_id][\"title\"], ratings[item_id]) for item_id in top_items]"
   ]
  },
  {
   "cell_type": "code",
   "execution_count": 24,
   "metadata": {},
   "outputs": [
    {
     "name": "stdout",
     "output_type": "stream",
     "text": [
      "\u001b[1m48/48\u001b[0m \u001b[32m━━━━━━━━━━━━━━━━━━━━\u001b[0m\u001b[37m\u001b[0m \u001b[1m0s\u001b[0m 965us/step\n",
      "    4.4: 20,000 Leagues Under the Sea (1954)\n",
      "    4.3: Letter From Death Row, A (1998)\n",
      "    4.2: Young Guns (1988)\n",
      "    4.1: Faster Pussycat! Kill! Kill! (1965)\n",
      "    4.1: Dead Man Walking (1995)\n",
      "    4.1: Legends of the Fall (1994)\n",
      "    4.0: Color of Night (1994)\n",
      "    4.0: Wizard of Oz, The (1939)\n",
      "    4.0: To Kill a Mockingbird (1962)\n",
      "    4.0: Eat Drink Man Woman (1994)\n"
     ]
    }
   ],
   "source": [
    "for title, pred_rating in recommend(5):\n",
    "    print(\"    %0.1f: %s\" % (pred_rating, title))"
   ]
  },
  {
   "cell_type": "markdown",
   "metadata": {
    "collapsed": false
   },
   "source": [
    "### Exercises\n",
    "\n",
    "- Try modifying our neural network to improve recommendation. You could try adding more layers, or using a different loss function. \n",
    "- Your goal is to improve the Mean Absolute Error on the test set. Show the results of your best model."
   ]
  },
  {
   "cell_type": "code",
   "execution_count": 70,
   "metadata": {
    "collapsed": false
   },
   "outputs": [],
   "source": [
    "# Extend and improve the model below\n",
    "class RegressionModel(Model):\n",
    "    def __init__(self, embedding_size, max_user_id, max_item_id):\n",
    "        super().__init__()\n",
    "\n",
    "        self.user_embedding = Embedding(output_dim=embedding_size,\n",
    "                                        input_dim=max_user_id + 1,\n",
    "                                        name='user_embedding')\n",
    "        self.item_embedding = Embedding(output_dim=embedding_size,\n",
    "                                        input_dim=max_item_id + 1,\n",
    "                                        name='item_embedding')\n",
    "\n",
    "        # The following two layers don't have parameters.\n",
    "        self.flatten = Flatten()\n",
    "        self.dot = Dot(axes=1)\n",
    "\n",
    "    def call(self, inputs):\n",
    "        user_inputs = inputs[0]\n",
    "        item_inputs = inputs[1]\n",
    "\n",
    "        user_vecs = self.flatten(self.user_embedding(user_inputs))\n",
    "        item_vecs = self.flatten(self.item_embedding(item_inputs))\n",
    "\n",
    "        y = self.dot([user_vecs, item_vecs])\n",
    "        return y\n",
    "\n",
    "\n",
    "model = RegressionModel(embedding_size=64, max_user_id=all_ratings['user_id'].max(), max_item_id=all_ratings['item_id'].max())\n",
    "model.compile(optimizer=\"adam\", loss='mae')"
   ]
  },
  {
   "cell_type": "code",
   "execution_count": 26,
   "metadata": {
    "collapsed": false
   },
   "outputs": [
    {
     "name": "stdout",
     "output_type": "stream",
     "text": [
      "Epoch 1/10\n",
      "\u001b[1m1125/1125\u001b[0m \u001b[32m━━━━━━━━━━━━━━━━━━━━\u001b[0m\u001b[37m\u001b[0m \u001b[1m1s\u001b[0m 1ms/step - loss: 3.2994 - val_loss: 1.0466\n",
      "Epoch 2/10\n",
      "\u001b[1m1125/1125\u001b[0m \u001b[32m━━━━━━━━━━━━━━━━━━━━\u001b[0m\u001b[37m\u001b[0m \u001b[1m1s\u001b[0m 993us/step - loss: 0.9039 - val_loss: 0.7929\n",
      "Epoch 3/10\n",
      "\u001b[1m1125/1125\u001b[0m \u001b[32m━━━━━━━━━━━━━━━━━━━━\u001b[0m\u001b[37m\u001b[0m \u001b[1m1s\u001b[0m 991us/step - loss: 0.7525 - val_loss: 0.7663\n",
      "Epoch 4/10\n",
      "\u001b[1m1125/1125\u001b[0m \u001b[32m━━━━━━━━━━━━━━━━━━━━\u001b[0m\u001b[37m\u001b[0m \u001b[1m1s\u001b[0m 997us/step - loss: 0.7217 - val_loss: 0.7564\n",
      "Epoch 5/10\n",
      "\u001b[1m1125/1125\u001b[0m \u001b[32m━━━━━━━━━━━━━━━━━━━━\u001b[0m\u001b[37m\u001b[0m \u001b[1m1s\u001b[0m 995us/step - loss: 0.6976 - val_loss: 0.7441\n",
      "Epoch 6/10\n",
      "\u001b[1m1125/1125\u001b[0m \u001b[32m━━━━━━━━━━━━━━━━━━━━\u001b[0m\u001b[37m\u001b[0m \u001b[1m1s\u001b[0m 1ms/step - loss: 0.6723 - val_loss: 0.7393\n",
      "Epoch 7/10\n",
      "\u001b[1m1125/1125\u001b[0m \u001b[32m━━━━━━━━━━━━━━━━━━━━\u001b[0m\u001b[37m\u001b[0m \u001b[1m1s\u001b[0m 1ms/step - loss: 0.6573 - val_loss: 0.7378\n",
      "Epoch 8/10\n",
      "\u001b[1m1125/1125\u001b[0m \u001b[32m━━━━━━━━━━━━━━━━━━━━\u001b[0m\u001b[37m\u001b[0m \u001b[1m1s\u001b[0m 1ms/step - loss: 0.6363 - val_loss: 0.7347\n",
      "Epoch 9/10\n",
      "\u001b[1m1125/1125\u001b[0m \u001b[32m━━━━━━━━━━━━━━━━━━━━\u001b[0m\u001b[37m\u001b[0m \u001b[1m1s\u001b[0m 1ms/step - loss: 0.6138 - val_loss: 0.7353\n",
      "Epoch 10/10\n",
      "\u001b[1m1125/1125\u001b[0m \u001b[32m━━━━━━━━━━━━━━━━━━━━\u001b[0m\u001b[37m\u001b[0m \u001b[1m1s\u001b[0m 1ms/step - loss: 0.5883 - val_loss: 0.7370\n"
     ]
    }
   ],
   "source": [
    "# Training the model\n",
    "history = model.fit([user_id_train, item_id_train], rating_train,\n",
    "                    batch_size=64, epochs=10, validation_split=0.1,\n",
    "                    shuffle=True)"
   ]
  },
  {
   "cell_type": "code",
   "execution_count": 74,
   "metadata": {},
   "outputs": [],
   "source": [
    "from tensorflow.keras.models import Model\n",
    "from tensorflow.keras.layers import Embedding, Flatten, Dense, Concatenate\n",
    "from tensorflow.keras.losses import Huber\n",
    "\n",
    "class RegressionModelWithHidden(Model):\n",
    "    def __init__(self, embedding_size, max_user_id, max_item_id):\n",
    "        super().__init__()\n",
    "\n",
    "        # Embeddings\n",
    "        self.user_embedding = Embedding(input_dim=max_user_id+1, output_dim=embedding_size)\n",
    "        self.item_embedding = Embedding(input_dim=max_item_id+1, output_dim=embedding_size)\n",
    "        self.flatten = Flatten()\n",
    "\n",
    "        # Hidden layers\n",
    "        self.hidden1 = Dense(128, activation='relu')  # first hidden layer\n",
    "        self.hidden2 = Dense(64, activation='relu')   # second hidden layer\n",
    "        self.out_layer = Dense(1)                     # output layer\n",
    "\n",
    "    def call(self, inputs):\n",
    "        user_vecs = self.flatten(self.user_embedding(inputs[0]))\n",
    "        item_vecs = self.flatten(self.item_embedding(inputs[1]))\n",
    "\n",
    "        # Concatenate embeddings\n",
    "        x = Concatenate()([user_vecs, item_vecs])\n",
    "\n",
    "        # Pass through hidden layers\n",
    "        x = self.hidden1(x)\n",
    "        x = self.hidden2(x)\n",
    "\n",
    "        y = self.out_layer(x)\n",
    "        return y\n",
    "    \n",
    "model =RegressionModel(embedding_size, max_user_id, max_item_id)\n",
    "model.compile(optimizer='adam', loss=Huber())\n"
   ]
  },
  {
   "cell_type": "code",
   "execution_count": 75,
   "metadata": {},
   "outputs": [
    {
     "name": "stdout",
     "output_type": "stream",
     "text": [
      "Epoch 1/10\n",
      "\u001b[1m1125/1125\u001b[0m \u001b[32m━━━━━━━━━━━━━━━━━━━━\u001b[0m\u001b[37m\u001b[0m \u001b[1m1s\u001b[0m 1ms/step - loss: 2.7950 - val_loss: 0.6311\n",
      "Epoch 2/10\n",
      "\u001b[1m1125/1125\u001b[0m \u001b[32m━━━━━━━━━━━━━━━━━━━━\u001b[0m\u001b[37m\u001b[0m \u001b[1m1s\u001b[0m 1ms/step - loss: 0.5202 - val_loss: 0.4232\n",
      "Epoch 3/10\n",
      "\u001b[1m1125/1125\u001b[0m \u001b[32m━━━━━━━━━━━━━━━━━━━━\u001b[0m\u001b[37m\u001b[0m \u001b[1m1s\u001b[0m 1ms/step - loss: 0.3913 - val_loss: 0.3991\n",
      "Epoch 4/10\n",
      "\u001b[1m1125/1125\u001b[0m \u001b[32m━━━━━━━━━━━━━━━━━━━━\u001b[0m\u001b[37m\u001b[0m \u001b[1m1s\u001b[0m 1ms/step - loss: 0.3686 - val_loss: 0.3878\n",
      "Epoch 5/10\n",
      "\u001b[1m1125/1125\u001b[0m \u001b[32m━━━━━━━━━━━━━━━━━━━━\u001b[0m\u001b[37m\u001b[0m \u001b[1m1s\u001b[0m 1ms/step - loss: 0.3513 - val_loss: 0.3832\n",
      "Epoch 6/10\n",
      "\u001b[1m1125/1125\u001b[0m \u001b[32m━━━━━━━━━━━━━━━━━━━━\u001b[0m\u001b[37m\u001b[0m \u001b[1m1s\u001b[0m 1ms/step - loss: 0.3356 - val_loss: 0.3778\n",
      "Epoch 7/10\n",
      "\u001b[1m1125/1125\u001b[0m \u001b[32m━━━━━━━━━━━━━━━━━━━━\u001b[0m\u001b[37m\u001b[0m \u001b[1m1s\u001b[0m 1ms/step - loss: 0.3221 - val_loss: 0.3770\n",
      "Epoch 8/10\n",
      "\u001b[1m1125/1125\u001b[0m \u001b[32m━━━━━━━━━━━━━━━━━━━━\u001b[0m\u001b[37m\u001b[0m \u001b[1m1s\u001b[0m 1ms/step - loss: 0.3021 - val_loss: 0.3727\n",
      "Epoch 9/10\n",
      "\u001b[1m1125/1125\u001b[0m \u001b[32m━━━━━━━━━━━━━━━━━━━━\u001b[0m\u001b[37m\u001b[0m \u001b[1m1s\u001b[0m 1ms/step - loss: 0.2844 - val_loss: 0.3727\n",
      "Epoch 10/10\n",
      "\u001b[1m1125/1125\u001b[0m \u001b[32m━━━━━━━━━━━━━━━━━━━━\u001b[0m\u001b[37m\u001b[0m \u001b[1m1s\u001b[0m 1ms/step - loss: 0.2608 - val_loss: 0.3752\n"
     ]
    }
   ],
   "source": [
    "# Training the model\n",
    "history = model.fit([user_id_train, item_id_train], rating_train,\n",
    "                    batch_size=64, epochs=10, validation_split=0.1,\n",
    "                    shuffle=True)"
   ]
  }
 ],
 "metadata": {
  "kernelspec": {
   "display_name": "dsi_participant",
   "language": "python",
   "name": "python3"
  },
  "language_info": {
   "codemirror_mode": {
    "name": "ipython",
    "version": 3
   },
   "file_extension": ".py",
   "mimetype": "text/x-python",
   "name": "python",
   "nbconvert_exporter": "python",
   "pygments_lexer": "ipython3",
   "version": "3.9.7"
  }
 },
 "nbformat": 4,
 "nbformat_minor": 4
}
