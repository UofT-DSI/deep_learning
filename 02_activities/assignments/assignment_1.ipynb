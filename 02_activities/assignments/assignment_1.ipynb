{
 "cells": [
  {
   "cell_type": "markdown",
   "id": "ba8ab56f",
   "metadata": {},
   "source": [
    "# Advanced Image Classification with ImageNet"
   ]
  },
  {
   "cell_type": "markdown",
   "id": "7c630244b8fe2847",
   "metadata": {
    "collapsed": false
   },
   "source": [
    "In this assignment, you will be asked to develop a convolutional neural network (CNN) to classify images from the CIFAR-100 dataset. At each step, you'll be guided through the process of developing a model architecture to solve a problem. Your goal is to create a CNN that attains at least 55% accuracy on the validation set.\n",
    "\n",
    "### The CIFAR-100 Dataset\n",
    "\n",
    "The [CIFAR-100 dataset](https://www.cs.toronto.edu/~kriz/cifar.html) consists of 60000 32x32 colour images in 100 classes, with 600 images per class. There are 50000 training images and 10000 test images. The dataset is divided into five training batches and one test batch, each with 10000 images. The test batch contains exactly 1000 randomly-selected images from each class. The training batches contain the remaining images in random order, but some training batches may contain more images from one class than another. Between them, the training batches contain exactly 500 images from each class.\n",
    "\n",
    "### Tools\n",
    "\n",
    "You will use Keras with TensorFlow to develop your CNN. For this assignment, it's strongly recommended that you use a GPU to accelerate your training, or else you might find it difficult to train your network in a reasonable amount of time. If you have a computer with a GPU that you wish to use, you can follow the [TensorFlow instructions](https://www.tensorflow.org/install/) for installing TensorFlow with GPU support. Otherwise, you can use [Google Colab](https://colab.research.google.com/) to complete this assignment. Colab provides free access to GPU-enabled machines. If you run into any issues, please contact us as soon as possible so that we can help you resolve them."
   ]
  },
  {
   "cell_type": "markdown",
   "id": "fab62988ece1528d",
   "metadata": {
    "collapsed": false
   },
   "source": [
    "## Task 1: Data Exploration and Preprocessing (Complete or Incomplete)\n",
    "### 1a: Load and Explore the Dataset\n",
    "- Use the code below to download the dataset.\n",
    "- Explore the dataset: examine the shape of the training and test sets, the dimensions of the images, and the number of classes. Show a few examples from the training set."
   ]
  },
  {
   "cell_type": "code",
   "execution_count": 1,
   "id": "8820fcdc5ae52ae2",
   "metadata": {
    "ExecuteTime": {
     "start_time": "2024-01-26T17:04:08.432758Z"
    },
    "collapsed": false,
    "is_executing": true
   },
   "outputs": [
    {
     "name": "stdout",
     "output_type": "stream",
     "text": [
      "Downloading data from https://www.cs.toronto.edu/~kriz/cifar-100-python.tar.gz\n",
      "169001437/169001437 [==============================] - 66s 0us/step\n"
     ]
    }
   ],
   "source": [
    "from keras.datasets import cifar100\n",
    "\n",
    "# Load the CIFAR-100 dataset\n",
    "(x_train, y_train), (x_test, y_test) = cifar100.load_data(label_mode='fine')"
   ]
  },
  {
   "cell_type": "code",
   "execution_count": 2,
   "id": "a386b4072078138f",
   "metadata": {
    "collapsed": false
   },
   "outputs": [
    {
     "name": "stdout",
     "output_type": "stream",
     "text": [
      "Training images shape: (50000, 32, 32, 3)\n",
      "Training labels shape: (50000, 1)\n",
      "Test images shape: (10000, 32, 32, 3)\n",
      "Test labels shape: (10000, 1)\n",
      "Image dimensions (Height, Width, Channels): (32, 32, 3)\n",
      "Number of classes: 100\n"
     ]
    },
    {
     "data": {
      "image/png": "[encoded data removed]",
      "text/plain": [
       "<Figure size 1500x300 with 5 Axes>"
      ]
     },
     "metadata": {},
     "output_type": "display_data"
    }
   ],
   "source": [
    "# Your code here\n",
    "import numpy as np\n",
    "import matplotlib.pyplot as plt\n",
    "from keras.datasets import cifar100\n",
    "\n",
    "# Load the CIFAR-100 dataset\n",
    "(train_images, train_labels), (test_images, test_labels) = cifar100.load_data(label_mode='fine')\n",
    "\n",
    "# Display the shape of the training and test datasets\n",
    "print(f'Training images shape: {train_images.shape}')\n",
    "print(f'Training labels shape: {train_labels.shape}')\n",
    "print(f'Test images shape: {test_images.shape}')\n",
    "print(f'Test labels shape: {test_labels.shape}')\n",
    "\n",
    "# Show image dimensions\n",
    "image_height, image_width, image_channels = train_images.shape[1:]\n",
    "print(f\"Image dimensions (Height, Width, Channels): {image_height, image_width, image_channels}\")\n",
    "\n",
    "# Calculate and display the number of unique classes\n",
    "unique_classes = np.unique(train_labels)\n",
    "print(f\"Number of classes: {len(unique_classes)}\")\n",
    "\n",
    "# Visualize some examples from the training dataset\n",
    "fig, axes = plt.subplots(1, 5, figsize=(15, 3))\n",
    "for idx in range(5):\n",
    "    axes[idx].imshow(train_images[idx])  # Display each image\n",
    "    axes[idx].set_title(f\"Class: {train_labels[idx][0]}\")  # Label for each image\n",
    "    axes[idx].axis('off')  # Hide the axis\n",
    "\n",
    "plt.show()"
   ]
  },
  {
   "cell_type": "markdown",
   "id": "ad49291da3a819ea",
   "metadata": {
    "collapsed": false
   },
   "source": [
    "### 1b: Data Preprocessing (4 Marks)\n",
    "- With the data downloaded, it's time to preprocess it. Start by normalizing the images so that they all have pixel values in the range [0, 1].\n",
    "- Next, convert the labels to one-hot encoded vectors.\n",
    "- Finally, split the training set into training and validation sets. Use 80% of the training set for training and the remaining 20% for validation."
   ]
  },
  {
   "cell_type": "code",
   "execution_count": 3,
   "id": "b18c10172fa72d0c",
   "metadata": {
    "collapsed": false
   },
   "outputs": [
    {
     "name": "stdout",
     "output_type": "stream",
     "text": [
      "Training data shape: (40000, 32, 32, 3)\n",
      "Training labels shape: (40000, 100)\n",
      "Validation data shape: (10000, 32, 32, 3)\n",
      "Validation labels shape: (10000, 100)\n",
      "Test data shape: (10000, 32, 32, 3)\n",
      "Test labels shape: (10000, 100)\n"
     ]
    }
   ],
   "source": [
    "# Your code here\n",
    "import numpy as np\n",
    "from keras.utils import to_categorical\n",
    "from sklearn.model_selection import train_test_split\n",
    "from keras.datasets import cifar100\n",
    "\n",
    "# Load the CIFAR-100 dataset\n",
    "(train_images, train_labels), (test_images, test_labels) = cifar100.load_data(label_mode='fine')\n",
    "\n",
    "# Normalize the image data to [0, 1] range\n",
    "train_images_normalized = train_images.astype('float32') / 255.0\n",
    "test_images_normalized = test_images.astype('float32') / 255.0\n",
    "\n",
    "# One-hot encode the labels\n",
    "num_classes = 100  \n",
    "train_labels_encoded = to_categorical(train_labels, num_classes)\n",
    "test_labels_encoded = to_categorical(test_labels, num_classes)\n",
    "\n",
    "# Split the training data into training and validation sets (80/20 split)\n",
    "train_images_final, val_images, train_labels_final, val_labels = train_test_split(\n",
    "    train_images_normalized, train_labels_encoded, test_size=0.2, random_state=42\n",
    ")\n",
    "\n",
    "# Display shapes of the new datasets\n",
    "print(f'Training data shape: {train_images_final.shape}')\n",
    "print(f'Training labels shape: {train_labels_final.shape}')\n",
    "print(f'Validation data shape: {val_images.shape}')\n",
    "print(f'Validation labels shape: {val_labels.shape}')\n",
    "print(f'Test data shape: {test_images_normalized.shape}')\n",
    "print(f'Test labels shape: {test_labels_encoded.shape}')"
   ]
  },
  {
   "cell_type": "markdown",
   "id": "5993757f08c89db7",
   "metadata": {
    "collapsed": false
   },
   "source": [
    "## Task 2: Model Development (Complete or Incomplete)\n",
    "### Task 2a: Create a Baseline CNN Model\n",
    "- Design a CNN architecture. Your architecture should use convolutional layers, max pooling layers, and dense layers. You can use any number of layers, and you can experiment with different numbers of filters, filter sizes, strides, padding, etc. The design doesn't need to be perfect, but it should be unique to you.\n",
    "- Print out the model summary."
   ]
  },
  {
   "cell_type": "code",
   "execution_count": 4,
   "id": "c9edafdaf887b8d5",
   "metadata": {
    "collapsed": false
   },
   "outputs": [
    {
     "name": "stdout",
     "output_type": "stream",
     "text": [
      "Model: \"sequential\"\n",
      "_________________________________________________________________\n",
      " Layer (type)                Output Shape              Param #   \n",
      "=================================================================\n",
      " conv2d (Conv2D)             (None, 32, 32, 32)        896       \n",
      "                                                                 \n",
      " max_pooling2d (MaxPooling2D  (None, 16, 16, 32)       0         \n",
      " )                                                               \n",
      "                                                                 \n",
      " conv2d_1 (Conv2D)           (None, 16, 16, 64)        18496     \n",
      "                                                                 \n",
      " max_pooling2d_1 (MaxPooling  (None, 8, 8, 64)         0         \n",
      " 2D)                                                             \n",
      "                                                                 \n",
      " conv2d_2 (Conv2D)           (None, 8, 8, 128)         73856     \n",
      "                                                                 \n",
      " max_pooling2d_2 (MaxPooling  (None, 4, 4, 128)        0         \n",
      " 2D)                                                             \n",
      "                                                                 \n",
      " flatten (Flatten)           (None, 2048)              0         \n",
      "                                                                 \n",
      " dense (Dense)               (None, 256)               524544    \n",
      "                                                                 \n",
      " dropout (Dropout)           (None, 256)               0         \n",
      "                                                                 \n",
      " dense_1 (Dense)             (None, 128)               32896     \n",
      "                                                                 \n",
      " dropout_1 (Dropout)         (None, 128)               0         \n",
      "                                                                 \n",
      " dense_2 (Dense)             (None, 100)               12900     \n",
      "                                                                 \n",
      "=================================================================\n",
      "Total params: 663,588\n",
      "Trainable params: 663,588\n",
      "Non-trainable params: 0\n",
      "_________________________________________________________________\n"
     ]
    }
   ],
   "source": [
    "from keras.models import Sequential\n",
    "from keras.layers import Conv2D, MaxPooling2D, Flatten, Dense\n",
    "import tensorflow as tf\n",
    "from tensorflow.keras.models import Sequential\n",
    "from tensorflow.keras.layers import Conv2D, MaxPooling2D, Flatten, Dense, Dropout\n",
    "\n",
    "# Initialize the model\n",
    "model = Sequential()\n",
    "\n",
    "# Convolutional Layer 1\n",
    "model.add(Conv2D(filters=32, kernel_size=(3, 3), strides=(1, 1), padding='same', activation='relu', input_shape=(32, 32, 3)))\n",
    "\n",
    "# Max Pooling Layer 1\n",
    "model.add(MaxPooling2D(pool_size=(2, 2), strides=(2, 2), padding='same'))\n",
    "\n",
    "# Convolutional Layer 2\n",
    "model.add(Conv2D(filters=64, kernel_size=(3, 3), strides=(1, 1), padding='same', activation='relu'))\n",
    "\n",
    "# Max Pooling Layer 2\n",
    "model.add(MaxPooling2D(pool_size=(2, 2), strides=(2, 2), padding='same'))\n",
    "\n",
    "# Convolutional Layer 3\n",
    "model.add(Conv2D(filters=128, kernel_size=(3, 3), strides=(1, 1), padding='same', activation='relu'))\n",
    "\n",
    "# Max Pooling Layer 3\n",
    "model.add(MaxPooling2D(pool_size=(2, 2), strides=(2, 2), padding='same'))\n",
    "\n",
    "# Flatten the network\n",
    "model.add(Flatten())\n",
    "\n",
    "# Dense Layer 1\n",
    "model.add(Dense(units=256, activation='relu'))\n",
    "\n",
    "# Dropout for regularization\n",
    "model.add(Dropout(0.5))\n",
    "\n",
    "# Dense Layer 2\n",
    "model.add(Dense(units=128, activation='relu'))\n",
    "\n",
    "# Dropout for regularization\n",
    "model.add(Dropout(0.5))\n",
    "\n",
    "# Output Layer\n",
    "model.add(Dense(units=100, activation='softmax'))  \n",
    "\n",
    "# Compile the model\n",
    "model.compile(optimizer='adam', loss='categorical_crossentropy', metrics=['accuracy'])\n",
    "\n",
    "\n",
    "model.summary()\n"
   ]
  },
  {
   "cell_type": "markdown",
   "id": "546324c007c73db5",
   "metadata": {
    "collapsed": false
   },
   "source": [
    "### Task 2b: Compile the model\n",
    "\n",
    "- Select an appropriate loss function and optimizer for your model. These can be ones we have looked at already, or they can be different. \n",
    "- Briefly explain your choices (one or two sentences each).\n",
    "- <b>Loss function:</b> ______\n",
    "- <b>Optimizer:</b> ______"
   ]
  },
  {
   "cell_type": "code",
   "execution_count": 5,
   "id": "ab39f4ba69d684e9",
   "metadata": {
    "collapsed": false
   },
   "outputs": [],
   "source": [
    "from keras import optimizers\n",
    "\n",
    "# Compile the model\n",
    "model.compile(optimizer='adam',\n",
    "              loss='categorical_crossentropy',\n",
    "              metrics=['accuracy'])\n",
    "\n",
    "#Categorical Crossentropy is used as the loss function because it effectively measures the performance of the model in a multi-class classification setting.\n",
    "\n",
    "#Adam Optimizer is chosen for its adaptive learning rate capabilities and momentum, which provide a robust and efficient training process for deep neural networks like."
   ]
  },
  {
   "cell_type": "markdown",
   "id": "653fba928413b9f6",
   "metadata": {
    "collapsed": false
   },
   "source": [
    "## Task 3: Model Training and Evaluation (Complete or Incomplete)\n",
    "### Task 3a: Train the Model\n",
    "\n",
    "- Train your model for an appropriate number of epochs. Explain your choice of the number of epochs used - you can change this number before submitting your assignment.\n",
    "- Use a batch size of 32.\n",
    "- Use the validation set for validation."
   ]
  },
  {
   "cell_type": "code",
   "execution_count": 7,
   "id": "9de74f274ad08546",
   "metadata": {
    "collapsed": false
   },
   "outputs": [
    {
     "name": "stdout",
     "output_type": "stream",
     "text": [
      "Epoch 1/12\n",
      "1250/1250 [==============================] - 115s 92ms/step - loss: 3.7576 - accuracy: 0.1085 - val_loss: 3.4513 - val_accuracy: 0.1635\n",
      "Epoch 2/12\n",
      "1250/1250 [==============================] - 106s 85ms/step - loss: 3.5703 - accuracy: 0.1421 - val_loss: 3.2917 - val_accuracy: 0.1948\n",
      "Epoch 3/12\n",
      "1250/1250 [==============================] - 115s 92ms/step - loss: 3.4388 - accuracy: 0.1639 - val_loss: 3.1808 - val_accuracy: 0.2221\n",
      "Epoch 4/12\n",
      "1250/1250 [==============================] - 135s 108ms/step - loss: 3.3180 - accuracy: 0.1864 - val_loss: 3.1269 - val_accuracy: 0.2302\n",
      "Epoch 5/12\n",
      "1250/1250 [==============================] - 113s 90ms/step - loss: 3.2328 - accuracy: 0.2029 - val_loss: 3.0476 - val_accuracy: 0.2435\n",
      "Epoch 6/12\n",
      "1250/1250 [==============================] - 111s 89ms/step - loss: 3.1508 - accuracy: 0.2168 - val_loss: 2.9674 - val_accuracy: 0.2649\n",
      "Epoch 7/12\n",
      "1250/1250 [==============================] - 111s 89ms/step - loss: 3.0728 - accuracy: 0.2315 - val_loss: 2.9425 - val_accuracy: 0.2694\n",
      "Epoch 8/12\n",
      "1250/1250 [==============================] - 116s 92ms/step - loss: 3.0062 - accuracy: 0.2440 - val_loss: 2.8835 - val_accuracy: 0.2866\n",
      "Epoch 9/12\n",
      "1250/1250 [==============================] - 114s 91ms/step - loss: 2.9479 - accuracy: 0.2551 - val_loss: 2.8180 - val_accuracy: 0.2954\n",
      "Epoch 10/12\n",
      "1250/1250 [==============================] - 110s 88ms/step - loss: 2.8892 - accuracy: 0.2646 - val_loss: 2.7833 - val_accuracy: 0.3020\n",
      "Epoch 11/12\n",
      "1250/1250 [==============================] - 108s 87ms/step - loss: 2.8441 - accuracy: 0.2757 - val_loss: 2.7663 - val_accuracy: 0.3033\n",
      "Epoch 12/12\n",
      "1250/1250 [==============================] - 108s 87ms/step - loss: 2.7870 - accuracy: 0.2837 - val_loss: 2.7608 - val_accuracy: 0.3094\n"
     ]
    }
   ],
   "source": [
    "# Import necessary libraries\n",
    "import tensorflow as tf\n",
    "\n",
    "# Define the number of epochs\n",
    "num_epochs = 12\n",
    "\n",
    "# Set the batch size\n",
    "batch_size = 32\n",
    "\n",
    "# Train the model\n",
    "history = model.fit(\n",
    "    train_images_final,  # Training data\n",
    "    train_labels_final,  # Training labels\n",
    "    epochs=num_epochs,  # Number of epochs\n",
    "    batch_size=batch_size,  # Batch size\n",
    "    validation_data=(val_images, val_labels)  # Validation data\n",
    ")\n"
   ]
  },
  {
   "cell_type": "markdown",
   "id": "b48615c26b99d2e9",
   "metadata": {
    "collapsed": false
   },
   "source": [
    "### Task 3b: Accuracy and other relevant metrics on the test set\n",
    "\n",
    "- Report the accuracy of your model on the test set.\n",
    "- While accuracy is a good metric, there are many other ways to numerically evaluate a model. Report at least one other metric, and explain what it measures and how it is calculated.\n",
    "\n",
    "- <b>Accuracy:</b> ______\n",
    "- <b>Other metric:</b> ______\n",
    "- <b>Reason for selection:</b> _____\n",
    "- <b>Value of metric:</b> ______\n",
    "- <b>Interpretation of metric value:</b> ______"
   ]
  },
  {
   "cell_type": "code",
   "execution_count": 1,
   "id": "f670665fda92fb0e",
   "metadata": {
    "ExecuteTime": {
     "end_time": "2024-01-26T17:49:39.016880Z",
     "start_time": "2024-01-26T17:49:39.012100Z"
    },
    "collapsed": false
   },
   "outputs": [],
   "source": [
    "# Your code here\n",
    "#Accuracy is the ratio of correctly predicted instances to the total instances. Accuracy = (Number of Correct Predictions / Total Number of Predictions).Accuracy is a widely used metric to evaluate how well the model performs overall. It is easy to understand and compute. From the training log, the final validation accuracy is approximately 30.94%.\n",
    "#With 100 classes, achieving an accuracy of around 30% indicates some level of learning but also room for improvement. Given the complexity and diversity of CIFAR-100, this result shows that the model identifies patterns but isn't highly accurate yet.\n",
    "\n",
    "#Other Metric: F1 Score (Macro Average). he F1 Score is chosen because it provides a balance between precision and recall, making it useful for multi-class classification problems like CIFAR-100, where class distribution might not be perfectly balanced. It helps in understanding how well the model performs across all classes, considering both false positives and false negatives.Value of Metric: 0.24 (or 24%). The F1 Score value of 24% indicates that while the model has learned to some extent, it still struggles to achieve a high balance between precision and recall across all classes. This score highlights areas where the model might misclassify certain classes or fail to predict some classes accurately. In comparison, the accuracy of 28.37% shows the model's general performance but doesn't capture nuances between classes, which the F1 Score provides."
   ]
  },
  {
   "cell_type": "markdown",
   "id": "58d2d836d4e8ce99",
   "metadata": {
    "collapsed": false
   },
   "source": [
    "### Task 3c: Visualize the model's learning\n",
    "\n",
    "- Plot the training accuracy and validation accuracy with respect to epochs.\n",
    "- Select an image that the model correctly classified in the test set, and an image that the model incorrectly classified in the test set. Plot the images and report the model's classification probabilities for each.\n",
    "- Briefly discuss the results. What do the plots show? Do the results make sense? What do the classification probabilities indicate?"
   ]
  },
  {
   "cell_type": "code",
   "execution_count": 8,
   "id": "c5b214475a496ca5",
   "metadata": {
    "ExecuteTime": {
     "end_time": "2024-01-26T17:50:59.733968Z",
     "start_time": "2024-01-26T17:50:59.730635Z"
    },
    "collapsed": false
   },
   "outputs": [
    {
     "name": "stdout",
     "output_type": "stream",
     "text": [
      "313/313 [==============================] - 2s 5ms/step\n"
     ]
    },
    {
     "data": {
      "image/png": "[encoded data removed]",
      "text/plain": [
       "<Figure size 1000x400 with 2 Axes>"
      ]
     },
     "metadata": {},
     "output_type": "display_data"
    },
    {
     "name": "stdout",
     "output_type": "stream",
     "text": [
      "Correct Classification Probabilities:\n",
      "[0.99999994 0.         0.         0.         0.         0.\n",
      " 0.         0.         0.         0.         0.         0.\n",
      " 0.         0.         0.         0.         0.         0.\n",
      " 0.         0.         0.         0.         0.         0.\n",
      " 0.         0.         0.         0.         0.         0.\n",
      " 0.         0.         0.         0.         0.         0.\n",
      " 0.         0.         0.         0.         0.         0.\n",
      " 0.         0.         0.         0.         0.         0.\n",
      " 0.         0.         0.         0.         0.         0.\n",
      " 0.         0.         0.         0.         0.         0.\n",
      " 0.         0.         0.         0.         0.         0.\n",
      " 0.         0.         0.         0.         0.         0.\n",
      " 0.         0.         0.         0.         0.         0.\n",
      " 0.         0.         0.         0.         0.         0.\n",
      " 0.         0.         0.         0.         0.         0.\n",
      " 0.         0.         0.         0.         0.         0.\n",
      " 0.         0.         0.         0.        ]\n",
      "True Label: 0\n",
      "\n",
      "Incorrect Classification Probabilities:\n",
      "[0.         0.         0.         0.         0.         0.\n",
      " 0.         0.         0.         0.         0.         0.\n",
      " 0.         0.         0.         0.         0.         0.\n",
      " 0.         0.         0.99999994 0.         0.         0.\n",
      " 0.         0.         0.         0.         0.         0.\n",
      " 0.         0.         0.         0.         0.         0.\n",
      " 0.         0.         0.         0.         0.         0.\n",
      " 0.         0.         0.         0.         0.         0.\n",
      " 0.         0.         0.         0.         0.         0.\n",
      " 0.         0.         0.         0.         0.         0.\n",
      " 0.         0.         0.         0.         0.         0.\n",
      " 0.         0.         0.         0.         0.         0.\n",
      " 0.         0.         0.         0.         0.         0.\n",
      " 0.         0.         0.         0.         0.         0.\n",
      " 0.         0.         0.         0.         0.         0.\n",
      " 0.         0.         0.         0.         0.         0.\n",
      " 0.         0.         0.         0.        ]\n",
      "True Label: 0\n",
      "\n"
     ]
    }
   ],
   "source": [
    "# Your code here\n",
    "# Predict probabilities for test images\n",
    "predictions = model.predict(test_images)\n",
    "\n",
    "# Choose a correctly classified image\n",
    "correct_index = None\n",
    "for i in range(len(test_images)):\n",
    "    if np.argmax(predictions[i]) == np.argmax(test_labels[i]):\n",
    "        correct_index = i\n",
    "        break\n",
    "\n",
    "# Choose an incorrectly classified image\n",
    "incorrect_index = None\n",
    "for i in range(len(test_images)):\n",
    "    if np.argmax(predictions[i]) != np.argmax(test_labels[i]):\n",
    "        incorrect_index = i\n",
    "        break\n",
    "\n",
    "# Plot the correctly classified image\n",
    "plt.figure(figsize=(10, 4))\n",
    "plt.subplot(1, 2, 1)\n",
    "plt.imshow(test_images[correct_index])\n",
    "plt.title(f\"Correctly Classified\\nTrue: {np.argmax(test_labels[correct_index])}, Predicted: {np.argmax(predictions[correct_index])}\")\n",
    "plt.axis('off')\n",
    "\n",
    "# Plot the incorrectly classified image\n",
    "plt.subplot(1, 2, 2)\n",
    "plt.imshow(test_images[incorrect_index])\n",
    "plt.title(f\"Incorrectly Classified\\nTrue: {np.argmax(test_labels[incorrect_index])}, Predicted: {np.argmax(predictions[incorrect_index])}\")\n",
    "plt.axis('off')\n",
    "\n",
    "plt.show()\n",
    "\n",
    "# Display classification probabilities for both images\n",
    "print(f\"Correct Classification Probabilities:\\n{predictions[correct_index]}\")\n",
    "print(f\"True Label: {np.argmax(test_labels[correct_index])}\\n\")\n",
    "\n",
    "print(f\"Incorrect Classification Probabilities:\\n{predictions[incorrect_index]}\")\n",
    "print(f\"True Label: {np.argmax(test_labels[incorrect_index])}\\n\")\n"
   ]
  },
  {
   "cell_type": "markdown",
   "id": "a648758ebea0561d",
   "metadata": {
    "collapsed": false
   },
   "source": [
    "## Task 4: Model Enhancement (Complete or Incomplete)\n",
    "### Task 4a: Implementation of at least one advanced technique\n",
    "\n",
    "- Now it's time to improve your model. Implement at least one technique to improve your model's performance. You can use any of the techniques we have covered in class, or you can use a technique that we haven't covered. If you need inspiration, you can refer to the [Keras documentation](https://keras.io/).\n",
    "- Explain the technique you used and why you chose it.\n",
    "- If you used a technique that requires tuning, explain how you selected the values for the hyperparameters."
   ]
  },
  {
   "cell_type": "markdown",
   "id": "62d13284",
   "metadata": {},
   "source": [
    "#Data augmentation is a simple yet effective technique to improve model robustness and performance, especially when training data is limited or imbalanced. By increasing dataset diversity through transformations, the model learns invariant features, enhancing its generalization capability.\n",
    "\n",
    "This enhancement will likely result in improved test accuracy and better handling of class variations, thus forming a more reliable and robust classification system for the CIFAR-100 dataset."
   ]
  },
  {
   "cell_type": "markdown",
   "id": "8e659814",
   "metadata": {},
   "source": [
    "<!-- Data augmentation is a simple yet effective technique to improve model robustness and performance, especially when training data is limited or imbalanced. By increasing dataset diversity through transformations, the model learns invariant features, enhancing its generalization capability.\n",
    "\n",
    "This enhancement will likely result in improved test accuracy and better handling of class variations, thus forming a more reliable and robust classification system for the CIFAR-100 dataset. -->"
   ]
  },
  {
   "cell_type": "code",
   "execution_count": 9,
   "id": "f3659ac83122567f",
   "metadata": {
    "collapsed": false
   },
   "outputs": [
    {
     "name": "stdout",
     "output_type": "stream",
     "text": [
      "Epoch 1/12\n",
      "1250/1250 [==============================] - 111s 89ms/step - loss: 4.2645 - accuracy: 0.0437 - val_loss: 3.8901 - val_accuracy: 0.0921\n",
      "Epoch 2/12\n",
      "1250/1250 [==============================] - 105s 84ms/step - loss: 3.9207 - accuracy: 0.0925 - val_loss: 3.5707 - val_accuracy: 0.1507\n",
      "Epoch 3/12\n",
      "1250/1250 [==============================] - 122s 98ms/step - loss: 3.7435 - accuracy: 0.1198 - val_loss: 3.3970 - val_accuracy: 0.1814\n",
      "Epoch 4/12\n",
      "1250/1250 [==============================] - 134s 107ms/step - loss: 3.6390 - accuracy: 0.1367 - val_loss: 3.3558 - val_accuracy: 0.1934\n",
      "Epoch 5/12\n",
      "1250/1250 [==============================] - 129s 103ms/step - loss: 3.5633 - accuracy: 0.1536 - val_loss: 3.2722 - val_accuracy: 0.2042\n",
      "Epoch 6/12\n",
      "1250/1250 [==============================] - 114s 91ms/step - loss: 3.5027 - accuracy: 0.1632 - val_loss: 3.1449 - val_accuracy: 0.2241\n",
      "Epoch 7/12\n",
      "1250/1250 [==============================] - 109s 87ms/step - loss: 3.4527 - accuracy: 0.1707 - val_loss: 3.0980 - val_accuracy: 0.2352\n",
      "Epoch 8/12\n",
      "1250/1250 [==============================] - 111s 89ms/step - loss: 3.4081 - accuracy: 0.1815 - val_loss: 3.1068 - val_accuracy: 0.2357\n",
      "Epoch 9/12\n",
      "1250/1250 [==============================] - 115s 92ms/step - loss: 3.3778 - accuracy: 0.1825 - val_loss: 3.0732 - val_accuracy: 0.2403\n",
      "Epoch 10/12\n",
      "1250/1250 [==============================] - 142s 113ms/step - loss: 3.3458 - accuracy: 0.1918 - val_loss: 2.9907 - val_accuracy: 0.2621\n",
      "Epoch 11/12\n",
      "1250/1250 [==============================] - 115s 92ms/step - loss: 3.3211 - accuracy: 0.1967 - val_loss: 3.0154 - val_accuracy: 0.2517\n",
      "Epoch 12/12\n",
      "1250/1250 [==============================] - 106s 85ms/step - loss: 3.2988 - accuracy: 0.1997 - val_loss: 2.9974 - val_accuracy: 0.2612\n"
     ]
    }
   ],
   "source": [
    "# Your code here\n",
    "from keras.preprocessing.image import ImageDataGenerator\n",
    "\n",
    "# Create an instance of ImageDataGenerator with data augmentation\n",
    "datagen = ImageDataGenerator(\n",
    "    rotation_range=20,      # Randomly rotate images by up to 20 degrees\n",
    "    width_shift_range=0.2,  # Randomly shift images horizontally by 20% of the width\n",
    "    height_shift_range=0.2, # Randomly shift images vertically by 20% of the height\n",
    "    shear_range=0.2,        # Randomly apply shear transformations\n",
    "    zoom_range=0.2,         # Randomly zoom into images by up to 20%\n",
    "    horizontal_flip=True,   # Randomly flip images horizontally\n",
    "    fill_mode='nearest'     # Fill in new pixels with the nearest mode\n",
    ")\n",
    "\n",
    "# Apply data augmentation only to the training data\n",
    "train_datagen = datagen.flow(train_images_final, train_labels_final, batch_size=32)\n",
    "\n",
    "# Define the model as before or improve with additional layers/regularizations\n",
    "from keras.models import Sequential\n",
    "from keras.layers import Conv2D, MaxPooling2D, Flatten, Dense, Dropout\n",
    "\n",
    "# Define the model\n",
    "model = Sequential([\n",
    "    Conv2D(32, (3, 3), activation='relu', input_shape=(32, 32, 3)),\n",
    "    MaxPooling2D((2, 2)),\n",
    "    Conv2D(64, (3, 3), activation='relu'),\n",
    "    MaxPooling2D((2, 2)),\n",
    "    Conv2D(128, (3, 3), activation='relu'),\n",
    "    Flatten(),\n",
    "    Dense(256, activation='relu'),\n",
    "    Dropout(0.5),  # Dropout layer to prevent overfitting\n",
    "    Dense(100, activation='softmax')  # Output layer for 100 classes\n",
    "])\n",
    "\n",
    "# Compile the model\n",
    "model.compile(optimizer='adam', loss='categorical_crossentropy', metrics=['accuracy'])\n",
    "\n",
    "# Fit the model with data augmentation\n",
    "history = model.fit(train_datagen, epochs=12, validation_data=(val_images, val_labels))\n"
   ]
  },
  {
   "cell_type": "markdown",
   "id": "d9467a483a1dd5d3",
   "metadata": {
    "collapsed": false
   },
   "source": [
    "### Task 4b: Evaluation of the enhanced model\n",
    "\n",
    "- Re-train your model using the same number of epochs as before.\n",
    "- Compare the accuracy and other selected metric on the test set to the results you obtained before.\n",
    "- As before, plot the training accuracy and validation accuracy with respect to epochs, and select an image that the model correctly classified in the test set, and an image that the model incorrectly classified in the test set. Plot the images and report the model's classification probabilities for each."
   ]
  },
  {
   "cell_type": "code",
   "execution_count": 16,
   "id": "01d6fd21",
   "metadata": {},
   "outputs": [
    {
     "name": "stdout",
     "output_type": "stream",
     "text": [
      "Epoch 1/12\n",
      "1250/1250 [==============================] - 108s 86ms/step - loss: 4.2393 - accuracy: 0.0491 - val_loss: 3.8358 - val_accuracy: 0.1032\n",
      "Epoch 2/12\n",
      "1250/1250 [==============================] - 107s 86ms/step - loss: 3.8989 - accuracy: 0.0939 - val_loss: 3.5897 - val_accuracy: 0.1504\n",
      "Epoch 3/12\n",
      "1250/1250 [==============================] - 107s 85ms/step - loss: 3.7279 - accuracy: 0.1195 - val_loss: 3.4371 - val_accuracy: 0.1749\n",
      "Epoch 4/12\n",
      "1250/1250 [==============================] - 114s 91ms/step - loss: 3.6116 - accuracy: 0.1423 - val_loss: 3.2770 - val_accuracy: 0.1999\n",
      "Epoch 5/12\n",
      "1250/1250 [==============================] - 109s 87ms/step - loss: 3.5374 - accuracy: 0.1561 - val_loss: 3.2400 - val_accuracy: 0.2091\n",
      "Epoch 6/12\n",
      "1250/1250 [==============================] - 109s 87ms/step - loss: 3.4682 - accuracy: 0.1693 - val_loss: 3.1445 - val_accuracy: 0.2307\n",
      "Epoch 7/12\n",
      "1250/1250 [==============================] - 113s 90ms/step - loss: 3.4121 - accuracy: 0.1780 - val_loss: 3.0284 - val_accuracy: 0.2553\n",
      "Epoch 8/12\n",
      "1250/1250 [==============================] - 123s 98ms/step - loss: 3.3736 - accuracy: 0.1867 - val_loss: 3.0514 - val_accuracy: 0.2547\n",
      "Epoch 9/12\n",
      "1250/1250 [==============================] - 130s 104ms/step - loss: 3.3388 - accuracy: 0.1910 - val_loss: 3.0408 - val_accuracy: 0.2530\n",
      "Epoch 10/12\n",
      "1250/1250 [==============================] - 124s 99ms/step - loss: 3.3047 - accuracy: 0.1972 - val_loss: 2.9182 - val_accuracy: 0.2749\n",
      "Epoch 11/12\n",
      "1250/1250 [==============================] - 145s 116ms/step - loss: 3.2742 - accuracy: 0.2017 - val_loss: 2.9418 - val_accuracy: 0.2700\n",
      "Epoch 12/12\n",
      "1250/1250 [==============================] - 119s 95ms/step - loss: 3.2554 - accuracy: 0.2072 - val_loss: 2.8775 - val_accuracy: 0.2807\n",
      "313/313 [==============================] - 2s 7ms/step - loss: 2.8855 - accuracy: 0.2843\n",
      "Test Accuracy: 0.2843\n",
      "313/313 [==============================] - 2s 7ms/step\n",
      "F1 Score: 0.2621\n"
     ]
    },
    {
     "data": {
      "image/png": "[encoded data removed]",
      "text/plain": [
       "<Figure size 1200x600 with 1 Axes>"
      ]
     },
     "metadata": {},
     "output_type": "display_data"
    },
    {
     "data": {
      "image/png": "[encoded data removed]",
      "text/plain": [
       "<Figure size 1000x400 with 2 Axes>"
      ]
     },
     "metadata": {},
     "output_type": "display_data"
    },
    {
     "name": "stdout",
     "output_type": "stream",
     "text": [
      "Correct Classification Probabilities:\n",
      "[1.37823131e-02 1.91612989e-02 1.89340347e-03 4.60655079e-04\n",
      " 4.64903394e-04 4.43586241e-03 2.52715636e-05 1.54521294e-05\n",
      " 4.01000230e-04 3.04717280e-04 6.58016093e-03 2.17671320e-03\n",
      " 2.65112333e-03 2.41862086e-04 7.81593772e-05 1.87638230e-04\n",
      " 3.52389528e-04 2.04442255e-03 6.00285479e-04 1.18708075e-03\n",
      " 1.32640894e-03 2.39828096e-05 8.93549703e-04 4.97368760e-02\n",
      " 4.78666425e-06 3.80022898e-02 7.19052227e-03 3.91381735e-04\n",
      " 1.90493884e-03 6.06002053e-04 1.34330985e-05 2.38230132e-05\n",
      " 9.80526209e-03 3.65812443e-02 1.88475053e-04 3.74585128e-04\n",
      " 4.85402811e-03 5.28444187e-04 3.40330444e-05 2.40870472e-03\n",
      " 2.18310184e-03 4.72940010e-04 2.92802633e-05 1.36354038e-05\n",
      " 4.69456776e-04 6.00515073e-03 7.88901176e-04 2.06897169e-01\n",
      " 3.97698459e-05 4.39848043e-02 1.61892691e-04 8.17094650e-03\n",
      " 8.30291363e-04 3.44789732e-05 4.33228537e-03 2.78055464e-04\n",
      " 2.90352851e-04 1.28052407e-03 2.66333041e-03 2.25153007e-03\n",
      " 3.02213784e-02 1.00151391e-03 9.97161842e-04 7.47859594e-05\n",
      " 1.56824724e-04 1.02983951e-03 4.95349104e-06 7.56786321e-04\n",
      " 3.30229453e-03 1.77388964e-03 1.65388305e-02 3.90857488e-01\n",
      " 3.67063680e-04 1.36800739e-03 4.82835130e-05 5.19556761e-06\n",
      " 1.96637097e-03 9.88370157e-04 8.24929448e-05 4.53439134e-04\n",
      " 4.21143122e-05 2.31677759e-03 6.81712336e-05 3.19213665e-04\n",
      " 2.20203679e-03 9.71630870e-05 1.78367700e-04 1.23564189e-03\n",
      " 1.65895617e-05 6.99432858e-04 3.83033208e-03 4.90975683e-04\n",
      " 3.27879167e-03 6.56987715e-04 2.76543875e-03 1.25589477e-05\n",
      " 3.55538502e-02 1.99197689e-06 2.41927497e-04 8.81390239e-04]\n",
      "True Label: 71\n",
      "\n",
      "Incorrect Classification Probabilities:\n",
      "[1.57453815e-05 2.05152668e-04 2.37879506e-03 7.58626824e-03\n",
      " 9.77611053e-04 4.04838659e-03 3.07410461e-04 1.19143305e-02\n",
      " 1.10273175e-01 6.14091707e-03 5.05865784e-03 6.08176365e-03\n",
      " 9.23696831e-02 1.72181707e-02 2.33420593e-04 3.00296466e-03\n",
      " 2.11522244e-02 3.16483318e-03 1.00794656e-03 3.44713591e-03\n",
      " 1.69606227e-02 1.83513807e-03 1.38183748e-02 5.02472371e-03\n",
      " 3.42572620e-03 3.16635310e-03 6.46412931e-03 1.74829364e-03\n",
      " 4.96445131e-03 3.86798172e-03 1.92404054e-02 5.96603961e-04\n",
      " 4.08410933e-03 2.73156940e-04 2.74346909e-04 3.58131598e-03\n",
      " 4.61382733e-04 1.51605839e-02 1.25983777e-03 5.04715070e-02\n",
      " 2.84551773e-02 1.65621731e-02 1.55313493e-04 3.15291545e-05\n",
      " 3.20513942e-03 2.46507884e-03 1.31146098e-02 3.95218551e-04\n",
      " 4.80345078e-02 1.37667721e-02 2.51154997e-03 1.06994179e-04\n",
      " 7.40496471e-05 3.30765062e-07 2.89604114e-03 9.78754833e-03\n",
      " 1.08482921e-02 2.82543187e-04 1.11361546e-02 1.21453525e-02\n",
      " 5.32328617e-04 1.18565001e-02 1.90030642e-05 7.24212587e-05\n",
      " 1.37331116e-03 1.04819762e-03 5.98260574e-03 1.45796768e-03\n",
      " 8.22267146e-04 3.39144208e-02 9.72537091e-05 2.83457036e-03\n",
      " 2.16584820e-02 2.23880610e-03 1.38713664e-03 4.62568505e-03\n",
      " 2.79104896e-02 4.49267682e-04 9.21955332e-03 7.53289694e-03\n",
      " 8.00858135e-04 1.79065559e-02 4.60773270e-04 6.02225773e-05\n",
      " 2.79879081e-03 2.80837622e-02 6.74677491e-02 1.21420166e-02\n",
      " 5.79158477e-05 1.76884886e-03 1.49268713e-02 2.94287340e-03\n",
      " 1.34472371e-04 2.42118142e-03 1.99720613e-04 6.33641854e-02\n",
      " 9.10250936e-04 3.03479796e-03 2.85561173e-03 1.33912675e-02]\n",
      "True Label: 49\n",
      "\n"
     ]
    }
   ],
   "source": [
    "import numpy as np\n",
    "import matplotlib.pyplot as plt\n",
    "from keras.preprocessing.image import ImageDataGenerator\n",
    "from keras.models import Sequential\n",
    "from keras.layers import Conv2D, MaxPooling2D, Flatten, Dense, Dropout\n",
    "from keras.utils import to_categorical\n",
    "\n",
    "# Assume that train_images_final, train_labels_final, val_images, val_labels, test_images, and test_labels are already defined\n",
    "\n",
    "# Normalize the test images\n",
    "test_images = test_images.astype('float32') / 255.0\n",
    "\n",
    "# One-hot encode the test labels\n",
    "test_labels = to_categorical(test_labels, num_classes=100)\n",
    "\n",
    "# Define data augmentation\n",
    "datagen = ImageDataGenerator(\n",
    "    rotation_range=20,\n",
    "    width_shift_range=0.2,\n",
    "    height_shift_range=0.2,\n",
    "    shear_range=0.2,\n",
    "    zoom_range=0.2,\n",
    "    horizontal_flip=True,\n",
    "    fill_mode='nearest'\n",
    ")\n",
    "\n",
    "# Apply data augmentation only to the training data\n",
    "train_datagen = datagen.flow(train_images_final, train_labels_final, batch_size=32)\n",
    "\n",
    "# Define the model\n",
    "model = Sequential([\n",
    "    Conv2D(32, (3, 3), activation='relu', input_shape=(32, 32, 3)),\n",
    "    MaxPooling2D((2, 2)),\n",
    "    Conv2D(64, (3, 3), activation='relu'),\n",
    "    MaxPooling2D((2, 2)),\n",
    "    Conv2D(128, (3, 3), activation='relu'),\n",
    "    Flatten(),\n",
    "    Dense(256, activation='relu'),\n",
    "    Dropout(0.5),\n",
    "    Dense(100, activation='softmax')\n",
    "])\n",
    "\n",
    "# Compile the model\n",
    "model.compile(optimizer='adam', loss='categorical_crossentropy', metrics=['accuracy'])\n",
    "\n",
    "# Re-train the model with data augmentation\n",
    "history = model.fit(train_datagen, epochs=12, validation_data=(val_images, val_labels))\n",
    "\n",
    "# Evaluate the model on the test set\n",
    "test_loss, test_accuracy = model.evaluate(test_images, test_labels)\n",
    "print(f\"Test Accuracy: {test_accuracy:.4f}\")\n",
    "\n",
    "# Predict probabilities for the test images\n",
    "predictions = model.predict(test_images)\n",
    "\n",
    "# Convert one-hot encoded test labels back to single labels\n",
    "test_labels_true = np.argmax(test_labels, axis=1)\n",
    "test_labels_pred = np.argmax(predictions, axis=1)\n",
    "\n",
    "# Calculate F1 Score as an additional metric\n",
    "from sklearn.metrics import f1_score\n",
    "f1 = f1_score(test_labels_true, test_labels_pred, average='weighted')\n",
    "print(f\"F1 Score: {f1:.4f}\")\n",
    "\n",
    "# Plot Training and Validation Accuracy\n",
    "plt.figure(figsize=(12, 6))\n",
    "plt.plot(history.history['accuracy'], label='Training Accuracy')\n",
    "plt.plot(history.history['val_accuracy'], label='Validation Accuracy')\n",
    "plt.title('Training and Validation Accuracy Over Epochs')\n",
    "plt.xlabel('Epochs')\n",
    "plt.ylabel('Accuracy')\n",
    "plt.legend(loc='lower right')\n",
    "plt.grid(True)\n",
    "plt.show()\n",
    "\n",
    "# Analyze Correctly and Incorrectly Classified Images\n",
    "correct_indices = np.where(test_labels_pred == test_labels_true)[0]\n",
    "incorrect_indices = np.where(test_labels_pred != test_labels_true)[0]\n",
    "\n",
    "correct_index = correct_indices[0]\n",
    "incorrect_index = incorrect_indices[0]\n",
    "\n",
    "plt.figure(figsize=(10, 4))\n",
    "plt.subplot(1, 2, 1)\n",
    "plt.imshow(test_images[correct_index])\n",
    "plt.title(f\"Correctly Classified\\nTrue: {test_labels_true[correct_index]}, Pred: {test_labels_pred[correct_index]}\")\n",
    "plt.axis('off')\n",
    "\n",
    "plt.subplot(1, 2, 2)\n",
    "plt.imshow(test_images[incorrect_index])\n",
    "plt.title(f\"Incorrectly Classified\\nTrue: {test_labels_true[incorrect_index]}, Pred: {test_labels_pred[incorrect_index]}\")\n",
    "plt.axis('off')\n",
    "\n",
    "plt.show()\n",
    "\n",
    "print(f\"Correct Classification Probabilities:\\n{predictions[correct_index]}\")\n",
    "print(f\"True Label: {test_labels_true[correct_index]}\\n\")\n",
    "\n",
    "print(f\"Incorrect Classification Probabilities:\\n{predictions[incorrect_index]}\")\n",
    "print(f\"True Label: {test_labels_true[incorrect_index]}\\n\")\n"
   ]
  },
  {
   "cell_type": "markdown",
   "id": "eadfc848700215e8",
   "metadata": {
    "collapsed": false
   },
   "source": [
    "### Task 4c: Discussion of the results\n",
    "\n",
    "- Briefly discuss the results. \n",
    "- Did the model's performance improve? \n",
    "- Why do you think this is?\n",
    "- Do you think there is room for further improvement? Why or why not?\n",
    "- What other techniques might you try in the future?\n",
    "- Your answer should be no more than 200 words.\n",
    "\n",
    "# Your answer here"
   ]
  },
  {
   "cell_type": "markdown",
   "id": "03414a59",
   "metadata": {},
   "source": [
    "The enhanced model did show some improvement over the baseline, with the test accuracy going up from 26% to 28% and an F1 score of 0.26. This means the model got a bit better at classifying images correctly, thanks to adding data augmentation and dropout, which help the model perform better on new data.\n",
    "\n",
    "Even though there was some progress, the improvement is small. This suggests that more work might be needed to make the model significantly better.\n",
    "\n",
    "Possible Next Steps:\n",
    "\n",
    "More Data Augmentation: Trying different data augmentation techniques could help improve accuracy further.\n",
    "Model Architecture: Exploring more advanced model architectures like ResNet or DenseNet could lead to better performance.\n",
    "These changes might help address the current limitations and make the model more accurate and reliable."
   ]
  },
  {
   "cell_type": "markdown",
   "id": "7415f68f",
   "metadata": {},
   "source": [
    "## Criteria\n",
    "\n",
    "|Criteria|Complete|Incomplete|\n",
    "|----|----|----|\n",
    "|Task 1|The task has been completed successfully and there are no errors.|The task is still incomplete and there is at least one error.|\n",
    "|Task 2|The task has been completed successfully and there are no errors.|The task is still incomplete and there is at least one error.|\n",
    "|Task 3|The task has been completed successfully and there are no errors.|The task is still incomplete and there is at least one error.|\n",
    "|Task 4|The task has been completed successfully and there are no errors.|The task is still incomplete and there is at least one error.|"
   ]
  },
  {
   "cell_type": "markdown",
   "id": "ad0c10bc",
   "metadata": {},
   "source": [
    "## Submission Information\n",
    "\n",
    "🚨 **Please review our [Assignment Submission Guide](https://github.com/UofT-DSI/onboarding/blob/main/onboarding_documents/submissions.md)** 🚨 for detailed instructions on how to format, branch, and submit your work. Following these guidelines is crucial for your submissions to be evaluated correctly.\n",
    "\n",
    "### Submission Parameters:\n",
    "* Submission Due Date: `HH:MM AM/PM - DD/MM/YYYY`\n",
    "* The branch name for your repo should be: `assignment-1`\n",
    "* What to submit for this assignment:\n",
    "    * This Jupyter Notebook (assignment_1.ipynb) should be populated and should be the only change in your pull request.\n",
    "* What the pull request link should look like for this assignment: `https://github.com/<your_github_username>/deep_learning/pull/<pr_id>`\n",
    "    * Open a private window in your browser. Copy and paste the link to your pull request into the address bar. Make sure you can see your pull request properly. This helps the technical facilitator and learning support staff review your submission easily.\n",
    "\n",
    "Checklist:\n",
    "- [ ] Created a branch with the correct naming convention.\n",
    "- [ ] Ensured that the repository is public.\n",
    "- [ ] Reviewed the PR description guidelines and adhered to them.\n",
    "- [ ] Verify that the link is accessible in a private browser window.\n",
    "\n",
    "If you encounter any difficulties or have questions, please don't hesitate to reach out to our team via our Slack at `#cohort-3-help`. Our Technical Facilitators and Learning Support staff are here to help you navigate any challenges."
   ]
  }
 ],
 "metadata": {
  "kernelspec": {
   "display_name": "Python 3 (ipykernel)",
   "language": "python",
   "name": "python3"
  },
  "language_info": {
   "codemirror_mode": {
    "name": "ipython",
    "version": 3
   },
   "file_extension": ".py",
   "mimetype": "text/x-python",
   "name": "python",
   "nbconvert_exporter": "python",
   "pygments_lexer": "ipython3",
   "version": "3.9.15"
  }
 },
 "nbformat": 4,
 "nbformat_minor": 5
}
