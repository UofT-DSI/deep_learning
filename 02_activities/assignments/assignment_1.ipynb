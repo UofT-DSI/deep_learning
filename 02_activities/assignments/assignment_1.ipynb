{
  "cells": [
    {
      "cell_type": "markdown",
      "id": "927ae8f4",
      "metadata": {
        "id": "927ae8f4"
      },
      "source": [
        "# Assignment 1 - Building a Vision Model with Keras\n",
        "\n",
        "In this assignment, you will build a simple vision model using Keras. The goal is to classify images from the Fashion MNIST dataset, which contains images of clothing items.\n",
        "\n",
        "You will:\n",
        "1. Load and inspect the Fashion MNIST dataset.\n",
        "2. Run a simple baseline model to establish a performance benchmark.\n",
        "3. Build and evaluate a simple CNN model, choosing appropriate loss and metrics.\n",
        "4. Design and run controlled experiments on one hyperparameter (e.g., number of filters, kernel size, etc.) and one regularization technique (e.g., dropout, L2 regularization).\n",
        "5. Analyze the results and visualize the model's performance.\n",
        "\n",
        "# 1. Loading and Inspecting the Dataset\n",
        "\n",
        "Fashion MNIST is a dataset of grayscale images of clothing items, with 10 classes. Each image is 28x28 pixels, like the MNIST dataset of handwritten digits. Keras provides a convenient way to load this dataset.\n",
        "\n",
        "In this section, you should:\n",
        "\n",
        "- [ ] Inspect the shapes of the training and test sets to confirm their size and structure.\n",
        "- [ ] Convert the labels to one-hot encoded format if necessary. (There is a utility function in Keras for this.)\n",
        "- [ ] Visualize a few images from the dataset to understand what the data looks like."
      ]
    },
    {
      "cell_type": "code",
      "execution_count": 14,
      "id": "420c7178",
      "metadata": {
        "id": "420c7178"
      },
      "outputs": [],
      "source": [
        "from tensorflow.keras.datasets import fashion_mnist\n",
        "(X_train, y_train), (X_test, y_test) = fashion_mnist.load_data()\n",
        "\n",
        "# Normalize the pixel values to be between 0 and 1\n",
        "X_train = X_train.astype('float32') / 255.0\n",
        "X_test = X_test.astype('float32') / 255.0\n",
        "\n",
        "# Classes in the Fashion MNIST dataset\n",
        "class_names = [\"T-shirt/top\", \"Trouser\", \"Pullover\", \"Dress\", \"Coat\", \"Sandal\", \"Shirt\", \"Sneaker\", \"Bag\", \"Ankle boot\"]"
      ]
    },
    {
      "cell_type": "code",
      "execution_count": 15,
      "id": "a6c89fe7",
      "metadata": {
        "colab": {
          "base_uri": "https://localhost:8080/"
        },
        "id": "a6c89fe7",
        "outputId": "836f7329-342d-4196-c754-2fb055ad98b1"
      },
      "outputs": [
        {
          "output_type": "stream",
          "name": "stdout",
          "text": [
            "(60000, 28, 28) (60000,) (10000, 28, 28) (10000,)\n",
            "[0. 0. 0. 0. 0. 0. 0. 0. 0. 1.] [0. 0. 0. 0. 0. 0. 0. 0. 0. 1.]\n"
          ]
        }
      ],
      "source": [
        "# Inspect the shapes of the datasets\n",
        "print(X_train.shape, y_train.shape, X_test.shape, y_test.shape)\n",
        "\n",
        "# Convert labels to one-hot encoding\n",
        "from tensorflow.keras.utils import to_categorical\n",
        "\n",
        "y_train = to_categorical(y_train, num_classes=len(class_names))\n",
        "y_test = to_categorical(y_test, num_classes=len(class_names))\n",
        "\n",
        "print(y_train[0],y_test[0])\n"
      ]
    },
    {
      "cell_type": "code",
      "execution_count": 4,
      "id": "13e100db",
      "metadata": {
        "colab": {
          "base_uri": "https://localhost:8080/",
          "height": 521
        },
        "id": "13e100db",
        "outputId": "9bb50fe8-862c-4bfa-e026-81dfaa5e0f2a"
      },
      "outputs": [
        {
          "output_type": "display_data",
          "data": {
            "text/plain": [
              "<Figure size 600x600 with 9 Axes>"
            ],
            "image/png": "[encoded data removed]"
          },
          "metadata": {}
        }
      ],
      "source": [
        "import matplotlib.pyplot as plt\n",
        "import numpy as np\n",
        "\n",
        "# Verify the data looks as expected\n",
        "# Selecting 9 random indices\n",
        "random_indices = np.random.choice(len(X_train), 9, replace=False)\n",
        "\n",
        "(train_images, train_labels), (test_images, test_labels) = fashion_mnist.load_data()\n",
        "\n",
        "# Creating a 3x3 grid plot\n",
        "fig, axes = plt.subplots(3, 3, figsize=(6, 6))\n",
        "\n",
        "for i, ax in enumerate(axes.flat):\n",
        "    ax.imshow(train_images[random_indices[i]], cmap=plt.cm.gray_r, interpolation='nearest')\n",
        "    ax.set_title(f\"Label: {train_labels[random_indices[i]]}\")\n",
        "\n",
        "    # Removing axis labels\n",
        "    ax.set_xticks([])\n",
        "    ax.set_yticks([])\n",
        "\n",
        "plt.show()"
      ]
    },
    {
      "cell_type": "markdown",
      "id": "989f7dd0",
      "metadata": {
        "id": "989f7dd0"
      },
      "source": [
        "Reflection: Does the data look as expected? How is the quality of the images? Are there any issues with the dataset that you notice?\n",
        "\n",
        "**Your answer here**\n",
        "\n",
        "9 randomly selected images are displayed above. The data looks expected and most of the labels match the images.\n",
        "The image quality is not good. For example, it is hard to recognize the 2nd one as a shirt. It is more like a T-shirt to me."
      ]
    },
    {
      "cell_type": "markdown",
      "id": "c9e8ad60",
      "metadata": {
        "id": "c9e8ad60"
      },
      "source": [
        "# 2. Baseline Model\n",
        "\n",
        "In this section, you will create a linear regression model as a baseline. This model will not use any convolutional layers, but it will help you understand the performance of a simple model on this dataset.\n",
        "You should:\n",
        "- [ ] Create a simple linear regression model using Keras.\n",
        "- [ ] Compile the model with an appropriate loss function and optimizer.\n",
        "- [ ] Train the model on the training set and evaluate it on the test set.\n",
        "\n",
        "A linear regression model can be created using the `Sequential` API in Keras. Using a single `Dense` layer with no activation function is equivalent to a simple linear regression model. Make sure that the number of units in the output layer matches the number of classes in the dataset.\n",
        "\n",
        "Note that for this step, we will need to use `Flatten` to convert the 2D images into 1D vectors before passing them to the model. Put a `Flatten()` layer as the first layer in your model so that the 2D image data can be flattened into 1D vectors."
      ]
    },
    {
      "cell_type": "code",
      "execution_count": 28,
      "id": "8563a7aa",
      "metadata": {
        "colab": {
          "base_uri": "https://localhost:8080/"
        },
        "id": "8563a7aa",
        "outputId": "050aa7f3-789a-451c-a5ad-68f1a99120d2"
      },
      "outputs": [
        {
          "output_type": "stream",
          "name": "stderr",
          "text": [
            "/usr/local/lib/python3.11/dist-packages/keras/src/layers/reshaping/flatten.py:37: UserWarning: Do not pass an `input_shape`/`input_dim` argument to a layer. When using Sequential models, prefer using an `Input(shape)` object as the first layer in the model instead.\n",
            "  super().__init__(**kwargs)\n"
          ]
        },
        {
          "output_type": "stream",
          "name": "stdout",
          "text": [
            "Epoch 1/5\n",
            "\u001b[1m150/150\u001b[0m \u001b[32m━━━━━━━━━━━━━━━━━━━━\u001b[0m\u001b[37m\u001b[0m \u001b[1m2s\u001b[0m 9ms/step - accuracy: 0.0908 - loss: 7.8730 - val_accuracy: 0.0954 - val_loss: 8.3862\n",
            "Epoch 2/5\n",
            "\u001b[1m150/150\u001b[0m \u001b[32m━━━━━━━━━━━━━━━━━━━━\u001b[0m\u001b[37m\u001b[0m \u001b[1m2s\u001b[0m 5ms/step - accuracy: 0.0944 - loss: 9.5662 - val_accuracy: 0.0964 - val_loss: 9.7982\n",
            "Epoch 3/5\n",
            "\u001b[1m150/150\u001b[0m \u001b[32m━━━━━━━━━━━━━━━━━━━━\u001b[0m\u001b[37m\u001b[0m \u001b[1m1s\u001b[0m 6ms/step - accuracy: 0.0926 - loss: 9.7205 - val_accuracy: 0.0972 - val_loss: 9.7066\n",
            "Epoch 4/5\n",
            "\u001b[1m150/150\u001b[0m \u001b[32m━━━━━━━━━━━━━━━━━━━━\u001b[0m\u001b[37m\u001b[0m \u001b[1m1s\u001b[0m 5ms/step - accuracy: 0.0937 - loss: 9.6918 - val_accuracy: 0.0981 - val_loss: 9.6904\n",
            "Epoch 5/5\n",
            "\u001b[1m150/150\u001b[0m \u001b[32m━━━━━━━━━━━━━━━━━━━━\u001b[0m\u001b[37m\u001b[0m \u001b[1m1s\u001b[0m 6ms/step - accuracy: 0.0951 - loss: 9.6290 - val_accuracy: 0.0990 - val_loss: 9.6930\n",
            "\u001b[1m313/313\u001b[0m \u001b[32m━━━━━━━━━━━━━━━━━━━━\u001b[0m\u001b[37m\u001b[0m \u001b[1m1s\u001b[0m 2ms/step - accuracy: 0.0941 - loss: 9.7319\n",
            "Loss:     9.74\n",
            "Accuracy: 9.65%\n"
          ]
        }
      ],
      "source": [
        "from keras.models import Sequential\n",
        "from keras.layers import Dense, Flatten\n",
        "\n",
        "\n",
        "# Create a simple linear regression model\n",
        "model = Sequential([Flatten(input_shape=(X_train.shape[1], X_train.shape[2]))])\n",
        "\n",
        "# You can use `model.add(<layer>)` to add layers to the model\n",
        "model.add(Dense(len(class_names)))\n",
        "\n",
        "# Compile the model using `model.compile()`\n",
        "model.compile(\n",
        "    loss='categorical_crossentropy', # Loss function\n",
        "    optimizer='sgd', # Optimizer\n",
        "    metrics=['accuracy'] # Metrics to evaluate the model\n",
        ")\n",
        "\n",
        "# Train the model with `model.fit()`\n",
        "model.fit(\n",
        "    X_train, # Training data\n",
        "    y_train, # Training labels\n",
        "    epochs=5, # Number of epochs\n",
        "    batch_size=320, # Number of samples per batch\n",
        "    validation_split=0.2 # Use 20% of the data for validation\n",
        ")\n",
        "\n",
        "# Evaluate the model with `model.evaluate()`\n",
        "loss, accuracy = model.evaluate(X_test, y_test)\n",
        "\n",
        "print(f'Loss:     {loss:.2f}')\n",
        "print(f'Accuracy: {accuracy*100:.2f}%')"
      ]
    },
    {
      "cell_type": "markdown",
      "id": "9a07e9f7",
      "metadata": {
        "id": "9a07e9f7"
      },
      "source": [
        "Reflection: What is the performance of the baseline model? How does it compare to what you expected? Why do you think the performance is at this level?\n",
        "\n",
        "**Your answer here**\n",
        "\n",
        "As expected, the baseline model performance is terrible.\n",
        "As the relationship between pixels and lables is not linear, the model can't identify the patterns in the input due to the lack of non-linear activation function. As a result, it can't make the right predictions."
      ]
    },
    {
      "cell_type": "markdown",
      "id": "fa107b59",
      "metadata": {
        "id": "fa107b59"
      },
      "source": [
        "# 3. Building and Evaluating a Simple CNN Model\n",
        "\n",
        "In this section, you will build a simple Convolutional Neural Network (CNN) model using Keras. A convolutional neural network is a type of deep learning model that is particularly effective for image classification tasks. Unlike the basic neural networks we have built in the labs, CNNs can accept images as input without needing to flatten them into vectors.\n",
        "\n",
        "You should:\n",
        "- [ ] Build a simple CNN model with at least one convolutional layer (to learn spatial hierarchies in images) and one fully connected layer (to make predictions).\n",
        "- [ ] Compile the model with an appropriate loss function and metrics for a multi-class classification problem.\n",
        "- [ ] Train the model on the training set and evaluate it on the test set.\n",
        "\n",
        "Convolutional layers are designed to accept inputs with three dimensions: height, width and channels (e.g., RGB for color images). For grayscale images like those in Fashion MNIST, the input shape will be (28, 28, 1).\n",
        "\n",
        "When you progress from the convolutional layers to the fully connected layers, you will need to flatten the output of the convolutional layers. This can be done using the `Flatten` layer in Keras, which doesn't require any parameters."
      ]
    },
    {
      "cell_type": "code",
      "execution_count": 29,
      "id": "3513cf3d",
      "metadata": {
        "colab": {
          "base_uri": "https://localhost:8080/"
        },
        "id": "3513cf3d",
        "outputId": "14164038-0ca4-483f-a49c-3987249b7022"
      },
      "outputs": [
        {
          "output_type": "stream",
          "name": "stderr",
          "text": [
            "/usr/local/lib/python3.11/dist-packages/keras/src/layers/convolutional/base_conv.py:107: UserWarning: Do not pass an `input_shape`/`input_dim` argument to a layer. When using Sequential models, prefer using an `Input(shape)` object as the first layer in the model instead.\n",
            "  super().__init__(activity_regularizer=activity_regularizer, **kwargs)\n"
          ]
        },
        {
          "output_type": "stream",
          "name": "stdout",
          "text": [
            "Epoch 1/15\n",
            "\u001b[1m150/150\u001b[0m \u001b[32m━━━━━━━━━━━━━━━━━━━━\u001b[0m\u001b[37m\u001b[0m \u001b[1m20s\u001b[0m 124ms/step - accuracy: 0.6648 - loss: 1.0192 - val_accuracy: 0.8322 - val_loss: 0.4829\n",
            "Epoch 2/15\n",
            "\u001b[1m150/150\u001b[0m \u001b[32m━━━━━━━━━━━━━━━━━━━━\u001b[0m\u001b[37m\u001b[0m \u001b[1m20s\u001b[0m 121ms/step - accuracy: 0.8333 - loss: 0.4823 - val_accuracy: 0.8508 - val_loss: 0.4313\n",
            "Epoch 3/15\n",
            "\u001b[1m150/150\u001b[0m \u001b[32m━━━━━━━━━━━━━━━━━━━━\u001b[0m\u001b[37m\u001b[0m \u001b[1m20s\u001b[0m 136ms/step - accuracy: 0.8515 - loss: 0.4305 - val_accuracy: 0.8592 - val_loss: 0.4132\n",
            "Epoch 4/15\n",
            "\u001b[1m150/150\u001b[0m \u001b[32m━━━━━━━━━━━━━━━━━━━━\u001b[0m\u001b[37m\u001b[0m \u001b[1m18s\u001b[0m 120ms/step - accuracy: 0.8668 - loss: 0.3852 - val_accuracy: 0.8673 - val_loss: 0.3841\n",
            "Epoch 5/15\n",
            "\u001b[1m150/150\u001b[0m \u001b[32m━━━━━━━━━━━━━━━━━━━━\u001b[0m\u001b[37m\u001b[0m \u001b[1m22s\u001b[0m 132ms/step - accuracy: 0.8740 - loss: 0.3678 - val_accuracy: 0.8715 - val_loss: 0.3728\n",
            "Epoch 6/15\n",
            "\u001b[1m150/150\u001b[0m \u001b[32m━━━━━━━━━━━━━━━━━━━━\u001b[0m\u001b[37m\u001b[0m \u001b[1m20s\u001b[0m 128ms/step - accuracy: 0.8794 - loss: 0.3519 - val_accuracy: 0.8694 - val_loss: 0.3685\n",
            "Epoch 7/15\n",
            "\u001b[1m150/150\u001b[0m \u001b[32m━━━━━━━━━━━━━━━━━━━━\u001b[0m\u001b[37m\u001b[0m \u001b[1m21s\u001b[0m 129ms/step - accuracy: 0.8820 - loss: 0.3359 - val_accuracy: 0.8767 - val_loss: 0.3491\n",
            "Epoch 8/15\n",
            "\u001b[1m150/150\u001b[0m \u001b[32m━━━━━━━━━━━━━━━━━━━━\u001b[0m\u001b[37m\u001b[0m \u001b[1m20s\u001b[0m 127ms/step - accuracy: 0.8874 - loss: 0.3188 - val_accuracy: 0.8832 - val_loss: 0.3381\n",
            "Epoch 9/15\n",
            "\u001b[1m150/150\u001b[0m \u001b[32m━━━━━━━━━━━━━━━━━━━━\u001b[0m\u001b[37m\u001b[0m \u001b[1m19s\u001b[0m 119ms/step - accuracy: 0.8924 - loss: 0.3089 - val_accuracy: 0.8823 - val_loss: 0.3305\n",
            "Epoch 10/15\n",
            "\u001b[1m150/150\u001b[0m \u001b[32m━━━━━━━━━━━━━━━━━━━━\u001b[0m\u001b[37m\u001b[0m \u001b[1m21s\u001b[0m 124ms/step - accuracy: 0.8937 - loss: 0.3011 - val_accuracy: 0.8848 - val_loss: 0.3213\n",
            "Epoch 11/15\n",
            "\u001b[1m150/150\u001b[0m \u001b[32m━━━━━━━━━━━━━━━━━━━━\u001b[0m\u001b[37m\u001b[0m \u001b[1m18s\u001b[0m 120ms/step - accuracy: 0.8979 - loss: 0.2880 - val_accuracy: 0.8860 - val_loss: 0.3209\n",
            "Epoch 12/15\n",
            "\u001b[1m150/150\u001b[0m \u001b[32m━━━━━━━━━━━━━━━━━━━━\u001b[0m\u001b[37m\u001b[0m \u001b[1m22s\u001b[0m 133ms/step - accuracy: 0.9001 - loss: 0.2854 - val_accuracy: 0.8839 - val_loss: 0.3262\n",
            "Epoch 13/15\n",
            "\u001b[1m150/150\u001b[0m \u001b[32m━━━━━━━━━━━━━━━━━━━━\u001b[0m\u001b[37m\u001b[0m \u001b[1m19s\u001b[0m 125ms/step - accuracy: 0.9023 - loss: 0.2744 - val_accuracy: 0.8918 - val_loss: 0.3085\n",
            "Epoch 14/15\n",
            "\u001b[1m150/150\u001b[0m \u001b[32m━━━━━━━━━━━━━━━━━━━━\u001b[0m\u001b[37m\u001b[0m \u001b[1m22s\u001b[0m 134ms/step - accuracy: 0.9053 - loss: 0.2690 - val_accuracy: 0.8913 - val_loss: 0.3098\n",
            "Epoch 15/15\n",
            "\u001b[1m150/150\u001b[0m \u001b[32m━━━━━━━━━━━━━━━━━━━━\u001b[0m\u001b[37m\u001b[0m \u001b[1m19s\u001b[0m 126ms/step - accuracy: 0.9065 - loss: 0.2636 - val_accuracy: 0.8895 - val_loss: 0.3085\n",
            "\u001b[1m313/313\u001b[0m \u001b[32m━━━━━━━━━━━━━━━━━━━━\u001b[0m\u001b[37m\u001b[0m \u001b[1m3s\u001b[0m 8ms/step - accuracy: 0.8882 - loss: 0.3192\n",
            "Loss:     0.33\n",
            "Accuracy: 88.11%\n"
          ]
        }
      ],
      "source": [
        "from keras.layers import Conv2D\n",
        "from tensorflow.keras.optimizers import SGD\n",
        "\n",
        "# Reshape the data to include the channel dimension\n",
        "X_train = X_train.reshape(-1, 28, 28, 1)\n",
        "X_test = X_test.reshape(-1, 28, 28, 1)\n",
        "\n",
        "# Create a simple CNN model\n",
        "model = Sequential([\n",
        "    Conv2D(filters=32, kernel_size=(3, 3), activation='relu', input_shape=(28, 28, 1), padding='same'),\n",
        "    # MaxPooling2D(pool_size=(2, 2)),  # Downsample feature maps\n",
        "    # Conv2D(filters=64, kernel_size=(3, 3), activation='relu', padding='same'),\n",
        "    # MaxPooling2D(pool_size=(2, 2)),\n",
        "    Flatten(),  # Flatten for dense layers\n",
        "    # Dense(128, activation='relu'),\n",
        "    Dense(10, activation='softmax')  # Output layer for 10 classes\n",
        "])\n",
        "\n",
        "# Train the model\n",
        "model.compile(\n",
        "    loss='categorical_crossentropy', # Loss function\n",
        "    optimizer=SGD(learning_rate = 0.03, momentum=0.8), # Optimizer\n",
        "    metrics=['accuracy'] # Metrics to evaluate the model\n",
        ")\n",
        "\n",
        "model.fit(\n",
        "    X_train, # Training data\n",
        "    y_train, # Training labels\n",
        "    epochs=15, # Number of epochs\n",
        "    batch_size=320, # Number of samples per batch\n",
        "    validation_split=0.2 # Use 20% of the data for validation\n",
        ")\n",
        "\n",
        "# Evaluate the model\n",
        "loss, accuracy = model.evaluate(X_test, y_test)\n",
        "\n",
        "print(f'Loss:     {loss:.2f}')\n",
        "print(f'Accuracy: {accuracy*100:.2f}%')"
      ]
    },
    {
      "cell_type": "markdown",
      "id": "fabe379c",
      "metadata": {
        "id": "fabe379c"
      },
      "source": [
        "Reflection: Did the CNN model perform better than the baseline model? If so, by how much? What do you think contributed to this improvement?\n",
        "\n",
        "**Your answer here**\n",
        "\n",
        "The CNN model performs much better than the baseline mode with much higher accuracy and much lower loss. The CNN model layer, relu and softmax activation functions contribute to the improvement."
      ]
    },
    {
      "cell_type": "markdown",
      "id": "1a5e2463",
      "metadata": {
        "id": "1a5e2463"
      },
      "source": [
        "# 3. Designing and Running Controlled Experiments\n",
        "\n",
        "In this section, you will design and run controlled experiments to improve the model's performance. You will focus on one hyperparameter and one regularization technique.\n",
        "You should:\n",
        "- [ ] Choose one hyperparameter to experiment with (e.g., number of filters, kernel size, number of layers, etc.) and one regularization technique (e.g., dropout, L2 regularization). For your hyperparameter, you should choose at least three different values to test (but there is no upper limit). For your regularization technique, simply test the presence or absence of the technique.\n",
        "- [ ] Run experiments by modifying the model architecture or hyperparameters, and evaluate the performance of each model on the test set.\n",
        "- [ ] Record the results of your experiments, including the test accuracy and any other relevant metrics.\n",
        "- [ ] Visualize the results of your experiments using plots or tables to compare the performance of different models.\n",
        "\n",
        "The best way to run your experiments is to create a `for` loop that iterates over a range of values for the hyperparameter you are testing. For example, if you are testing different numbers of filters, you can create a loop that runs the model with 32, 64, and 128 filters. Within the loop, you can compile and train the model, then evaluate it on the test set. After each iteration, you can store the results in a list or a dictionary for later analysis.\n",
        "\n",
        "Note: It's critical that you re-initialize the model (by creating a new instance of the model) before each experiment. If you don't, the model will retain the weights from the previous experiment, which can lead to misleading results."
      ]
    },
    {
      "cell_type": "code",
      "execution_count": 30,
      "id": "99d6f46c",
      "metadata": {
        "colab": {
          "base_uri": "https://localhost:8080/"
        },
        "id": "99d6f46c",
        "outputId": "884c4d34-7433-4b6b-edc6-ee3c3ddd0d93"
      },
      "outputs": [
        {
          "output_type": "stream",
          "name": "stdout",
          "text": [
            "Epoch 1/15\n",
            "\u001b[1m150/150\u001b[0m \u001b[32m━━━━━━━━━━━━━━━━━━━━\u001b[0m\u001b[37m\u001b[0m \u001b[1m20s\u001b[0m 129ms/step - accuracy: 0.6591 - loss: 0.9934 - val_accuracy: 0.8247 - val_loss: 0.4936\n",
            "Epoch 2/15\n",
            "\u001b[1m150/150\u001b[0m \u001b[32m━━━━━━━━━━━━━━━━━━━━\u001b[0m\u001b[37m\u001b[0m \u001b[1m20s\u001b[0m 125ms/step - accuracy: 0.8331 - loss: 0.4856 - val_accuracy: 0.8247 - val_loss: 0.4903\n",
            "Epoch 3/15\n",
            "\u001b[1m150/150\u001b[0m \u001b[32m━━━━━━━━━━━━━━━━━━━━\u001b[0m\u001b[37m\u001b[0m \u001b[1m17s\u001b[0m 111ms/step - accuracy: 0.8510 - loss: 0.4315 - val_accuracy: 0.8600 - val_loss: 0.4099\n",
            "Epoch 4/15\n",
            "\u001b[1m150/150\u001b[0m \u001b[32m━━━━━━━━━━━━━━━━━━━━\u001b[0m\u001b[37m\u001b[0m \u001b[1m19s\u001b[0m 125ms/step - accuracy: 0.8620 - loss: 0.4022 - val_accuracy: 0.8605 - val_loss: 0.3944\n",
            "Epoch 5/15\n",
            "\u001b[1m150/150\u001b[0m \u001b[32m━━━━━━━━━━━━━━━━━━━━\u001b[0m\u001b[37m\u001b[0m \u001b[1m20s\u001b[0m 120ms/step - accuracy: 0.8697 - loss: 0.3726 - val_accuracy: 0.8668 - val_loss: 0.3765\n",
            "Epoch 6/15\n",
            "\u001b[1m150/150\u001b[0m \u001b[32m━━━━━━━━━━━━━━━━━━━━\u001b[0m\u001b[37m\u001b[0m \u001b[1m21s\u001b[0m 121ms/step - accuracy: 0.8769 - loss: 0.3552 - val_accuracy: 0.8753 - val_loss: 0.3631\n",
            "Epoch 7/15\n",
            "\u001b[1m150/150\u001b[0m \u001b[32m━━━━━━━━━━━━━━━━━━━━\u001b[0m\u001b[37m\u001b[0m \u001b[1m22s\u001b[0m 131ms/step - accuracy: 0.8851 - loss: 0.3358 - val_accuracy: 0.8767 - val_loss: 0.3527\n",
            "Epoch 8/15\n",
            "\u001b[1m150/150\u001b[0m \u001b[32m━━━━━━━━━━━━━━━━━━━━\u001b[0m\u001b[37m\u001b[0m \u001b[1m19s\u001b[0m 125ms/step - accuracy: 0.8847 - loss: 0.3302 - val_accuracy: 0.8690 - val_loss: 0.3682\n",
            "Epoch 9/15\n",
            "\u001b[1m150/150\u001b[0m \u001b[32m━━━━━━━━━━━━━━━━━━━━\u001b[0m\u001b[37m\u001b[0m \u001b[1m21s\u001b[0m 132ms/step - accuracy: 0.8841 - loss: 0.3241 - val_accuracy: 0.8806 - val_loss: 0.3413\n",
            "Epoch 10/15\n",
            "\u001b[1m150/150\u001b[0m \u001b[32m━━━━━━━━━━━━━━━━━━━━\u001b[0m\u001b[37m\u001b[0m \u001b[1m20s\u001b[0m 133ms/step - accuracy: 0.8945 - loss: 0.3060 - val_accuracy: 0.8827 - val_loss: 0.3288\n",
            "Epoch 11/15\n",
            "\u001b[1m150/150\u001b[0m \u001b[32m━━━━━━━━━━━━━━━━━━━━\u001b[0m\u001b[37m\u001b[0m \u001b[1m20s\u001b[0m 135ms/step - accuracy: 0.8967 - loss: 0.2967 - val_accuracy: 0.8867 - val_loss: 0.3238\n",
            "Epoch 12/15\n",
            "\u001b[1m150/150\u001b[0m \u001b[32m━━━━━━━━━━━━━━━━━━━━\u001b[0m\u001b[37m\u001b[0m \u001b[1m18s\u001b[0m 118ms/step - accuracy: 0.8987 - loss: 0.2849 - val_accuracy: 0.8857 - val_loss: 0.3198\n",
            "Epoch 13/15\n",
            "\u001b[1m150/150\u001b[0m \u001b[32m━━━━━━━━━━━━━━━━━━━━\u001b[0m\u001b[37m\u001b[0m \u001b[1m20s\u001b[0m 134ms/step - accuracy: 0.9024 - loss: 0.2778 - val_accuracy: 0.8883 - val_loss: 0.3136\n",
            "Epoch 14/15\n",
            "\u001b[1m150/150\u001b[0m \u001b[32m━━━━━━━━━━━━━━━━━━━━\u001b[0m\u001b[37m\u001b[0m \u001b[1m18s\u001b[0m 118ms/step - accuracy: 0.9011 - loss: 0.2736 - val_accuracy: 0.8878 - val_loss: 0.3111\n",
            "Epoch 15/15\n",
            "\u001b[1m150/150\u001b[0m \u001b[32m━━━━━━━━━━━━━━━━━━━━\u001b[0m\u001b[37m\u001b[0m \u001b[1m24s\u001b[0m 141ms/step - accuracy: 0.9012 - loss: 0.2736 - val_accuracy: 0.8917 - val_loss: 0.3057\n",
            "\u001b[1m313/313\u001b[0m \u001b[32m━━━━━━━━━━━━━━━━━━━━\u001b[0m\u001b[37m\u001b[0m \u001b[1m2s\u001b[0m 6ms/step - accuracy: 0.8887 - loss: 0.3198\n",
            "Epoch 1/15\n",
            "\u001b[1m150/150\u001b[0m \u001b[32m━━━━━━━━━━━━━━━━━━━━\u001b[0m\u001b[37m\u001b[0m \u001b[1m42s\u001b[0m 277ms/step - accuracy: 0.6788 - loss: 0.9642 - val_accuracy: 0.8249 - val_loss: 0.4991\n",
            "Epoch 2/15\n",
            "\u001b[1m150/150\u001b[0m \u001b[32m━━━━━━━━━━━━━━━━━━━━\u001b[0m\u001b[37m\u001b[0m \u001b[1m84s\u001b[0m 289ms/step - accuracy: 0.8304 - loss: 0.4901 - val_accuracy: 0.8481 - val_loss: 0.4395\n",
            "Epoch 3/15\n",
            "\u001b[1m150/150\u001b[0m \u001b[32m━━━━━━━━━━━━━━━━━━━━\u001b[0m\u001b[37m\u001b[0m \u001b[1m82s\u001b[0m 289ms/step - accuracy: 0.8505 - loss: 0.4324 - val_accuracy: 0.8619 - val_loss: 0.3993\n",
            "Epoch 4/15\n",
            "\u001b[1m150/150\u001b[0m \u001b[32m━━━━━━━━━━━━━━━━━━━━\u001b[0m\u001b[37m\u001b[0m \u001b[1m40s\u001b[0m 266ms/step - accuracy: 0.8635 - loss: 0.3960 - val_accuracy: 0.8658 - val_loss: 0.3903\n",
            "Epoch 5/15\n",
            "\u001b[1m150/150\u001b[0m \u001b[32m━━━━━━━━━━━━━━━━━━━━\u001b[0m\u001b[37m\u001b[0m \u001b[1m43s\u001b[0m 278ms/step - accuracy: 0.8716 - loss: 0.3705 - val_accuracy: 0.8535 - val_loss: 0.3999\n",
            "Epoch 6/15\n",
            "\u001b[1m150/150\u001b[0m \u001b[32m━━━━━━━━━━━━━━━━━━━━\u001b[0m\u001b[37m\u001b[0m \u001b[1m83s\u001b[0m 285ms/step - accuracy: 0.8767 - loss: 0.3493 - val_accuracy: 0.8744 - val_loss: 0.3594\n",
            "Epoch 7/15\n",
            "\u001b[1m150/150\u001b[0m \u001b[32m━━━━━━━━━━━━━━━━━━━━\u001b[0m\u001b[37m\u001b[0m \u001b[1m42s\u001b[0m 282ms/step - accuracy: 0.8835 - loss: 0.3349 - val_accuracy: 0.8780 - val_loss: 0.3435\n",
            "Epoch 8/15\n",
            "\u001b[1m150/150\u001b[0m \u001b[32m━━━━━━━━━━━━━━━━━━━━\u001b[0m\u001b[37m\u001b[0m \u001b[1m46s\u001b[0m 304ms/step - accuracy: 0.8872 - loss: 0.3176 - val_accuracy: 0.8799 - val_loss: 0.3399\n",
            "Epoch 9/15\n",
            "\u001b[1m150/150\u001b[0m \u001b[32m━━━━━━━━━━━━━━━━━━━━\u001b[0m\u001b[37m\u001b[0m \u001b[1m80s\u001b[0m 291ms/step - accuracy: 0.8912 - loss: 0.3063 - val_accuracy: 0.8825 - val_loss: 0.3238\n",
            "Epoch 10/15\n",
            "\u001b[1m150/150\u001b[0m \u001b[32m━━━━━━━━━━━━━━━━━━━━\u001b[0m\u001b[37m\u001b[0m \u001b[1m81s\u001b[0m 284ms/step - accuracy: 0.8957 - loss: 0.2927 - val_accuracy: 0.8830 - val_loss: 0.3291\n",
            "Epoch 11/15\n",
            "\u001b[1m150/150\u001b[0m \u001b[32m━━━━━━━━━━━━━━━━━━━━\u001b[0m\u001b[37m\u001b[0m \u001b[1m83s\u001b[0m 294ms/step - accuracy: 0.8966 - loss: 0.2893 - val_accuracy: 0.8860 - val_loss: 0.3194\n",
            "Epoch 12/15\n",
            "\u001b[1m150/150\u001b[0m \u001b[32m━━━━━━━━━━━━━━━━━━━━\u001b[0m\u001b[37m\u001b[0m \u001b[1m80s\u001b[0m 284ms/step - accuracy: 0.9027 - loss: 0.2777 - val_accuracy: 0.8828 - val_loss: 0.3271\n",
            "Epoch 13/15\n",
            "\u001b[1m150/150\u001b[0m \u001b[32m━━━━━━━━━━━━━━━━━━━━\u001b[0m\u001b[37m\u001b[0m \u001b[1m84s\u001b[0m 295ms/step - accuracy: 0.9018 - loss: 0.2768 - val_accuracy: 0.8887 - val_loss: 0.3108\n",
            "Epoch 14/15\n",
            "\u001b[1m150/150\u001b[0m \u001b[32m━━━━━━━━━━━━━━━━━━━━\u001b[0m\u001b[37m\u001b[0m \u001b[1m81s\u001b[0m 287ms/step - accuracy: 0.9046 - loss: 0.2665 - val_accuracy: 0.8917 - val_loss: 0.3043\n",
            "Epoch 15/15\n",
            "\u001b[1m150/150\u001b[0m \u001b[32m━━━━━━━━━━━━━━━━━━━━\u001b[0m\u001b[37m\u001b[0m \u001b[1m81s\u001b[0m 280ms/step - accuracy: 0.9070 - loss: 0.2578 - val_accuracy: 0.8887 - val_loss: 0.3104\n",
            "\u001b[1m313/313\u001b[0m \u001b[32m━━━━━━━━━━━━━━━━━━━━\u001b[0m\u001b[37m\u001b[0m \u001b[1m4s\u001b[0m 12ms/step - accuracy: 0.8837 - loss: 0.3269\n",
            "Epoch 1/15\n",
            "\u001b[1m150/150\u001b[0m \u001b[32m━━━━━━━━━━━━━━━━━━━━\u001b[0m\u001b[37m\u001b[0m \u001b[1m48s\u001b[0m 317ms/step - accuracy: 0.6718 - loss: 0.9927 - val_accuracy: 0.8116 - val_loss: 0.5228\n",
            "Epoch 2/15\n",
            "\u001b[1m150/150\u001b[0m \u001b[32m━━━━━━━━━━━━━━━━━━━━\u001b[0m\u001b[37m\u001b[0m \u001b[1m84s\u001b[0m 334ms/step - accuracy: 0.8307 - loss: 0.4823 - val_accuracy: 0.8455 - val_loss: 0.4465\n",
            "Epoch 3/15\n",
            "\u001b[1m150/150\u001b[0m \u001b[32m━━━━━━━━━━━━━━━━━━━━\u001b[0m\u001b[37m\u001b[0m \u001b[1m81s\u001b[0m 330ms/step - accuracy: 0.8521 - loss: 0.4251 - val_accuracy: 0.8517 - val_loss: 0.4320\n",
            "Epoch 4/15\n",
            "\u001b[1m150/150\u001b[0m \u001b[32m━━━━━━━━━━━━━━━━━━━━\u001b[0m\u001b[37m\u001b[0m \u001b[1m85s\u001b[0m 348ms/step - accuracy: 0.8660 - loss: 0.3910 - val_accuracy: 0.8683 - val_loss: 0.3791\n",
            "Epoch 5/15\n",
            "\u001b[1m150/150\u001b[0m \u001b[32m━━━━━━━━━━━━━━━━━━━━\u001b[0m\u001b[37m\u001b[0m \u001b[1m80s\u001b[0m 332ms/step - accuracy: 0.8770 - loss: 0.3590 - val_accuracy: 0.8767 - val_loss: 0.3552\n",
            "Epoch 6/15\n",
            "\u001b[1m150/150\u001b[0m \u001b[32m━━━━━━━━━━━━━━━━━━━━\u001b[0m\u001b[37m\u001b[0m \u001b[1m82s\u001b[0m 331ms/step - accuracy: 0.8784 - loss: 0.3439 - val_accuracy: 0.8698 - val_loss: 0.3685\n",
            "Epoch 7/15\n",
            "\u001b[1m150/150\u001b[0m \u001b[32m━━━━━━━━━━━━━━━━━━━━\u001b[0m\u001b[37m\u001b[0m \u001b[1m84s\u001b[0m 342ms/step - accuracy: 0.8856 - loss: 0.3264 - val_accuracy: 0.8782 - val_loss: 0.3441\n",
            "Epoch 8/15\n",
            "\u001b[1m150/150\u001b[0m \u001b[32m━━━━━━━━━━━━━━━━━━━━\u001b[0m\u001b[37m\u001b[0m \u001b[1m51s\u001b[0m 342ms/step - accuracy: 0.8902 - loss: 0.3114 - val_accuracy: 0.8792 - val_loss: 0.3407\n",
            "Epoch 9/15\n",
            "\u001b[1m150/150\u001b[0m \u001b[32m━━━━━━━━━━━━━━━━━━━━\u001b[0m\u001b[37m\u001b[0m \u001b[1m51s\u001b[0m 339ms/step - accuracy: 0.8929 - loss: 0.3024 - val_accuracy: 0.8823 - val_loss: 0.3270\n",
            "Epoch 10/15\n",
            "\u001b[1m150/150\u001b[0m \u001b[32m━━━━━━━━━━━━━━━━━━━━\u001b[0m\u001b[37m\u001b[0m \u001b[1m83s\u001b[0m 348ms/step - accuracy: 0.8973 - loss: 0.2876 - val_accuracy: 0.8808 - val_loss: 0.3360\n",
            "Epoch 11/15\n",
            "\u001b[1m150/150\u001b[0m \u001b[32m━━━━━━━━━━━━━━━━━━━━\u001b[0m\u001b[37m\u001b[0m \u001b[1m79s\u001b[0m 330ms/step - accuracy: 0.8991 - loss: 0.2843 - val_accuracy: 0.8910 - val_loss: 0.3106\n",
            "Epoch 12/15\n",
            "\u001b[1m150/150\u001b[0m \u001b[32m━━━━━━━━━━━━━━━━━━━━\u001b[0m\u001b[37m\u001b[0m \u001b[1m49s\u001b[0m 326ms/step - accuracy: 0.9028 - loss: 0.2763 - val_accuracy: 0.8900 - val_loss: 0.3074\n",
            "Epoch 13/15\n",
            "\u001b[1m150/150\u001b[0m \u001b[32m━━━━━━━━━━━━━━━━━━━━\u001b[0m\u001b[37m\u001b[0m \u001b[1m84s\u001b[0m 337ms/step - accuracy: 0.9024 - loss: 0.2728 - val_accuracy: 0.8895 - val_loss: 0.3066\n",
            "Epoch 14/15\n",
            "\u001b[1m150/150\u001b[0m \u001b[32m━━━━━━━━━━━━━━━━━━━━\u001b[0m\u001b[37m\u001b[0m \u001b[1m80s\u001b[0m 324ms/step - accuracy: 0.9064 - loss: 0.2615 - val_accuracy: 0.8931 - val_loss: 0.3013\n",
            "Epoch 15/15\n",
            "\u001b[1m150/150\u001b[0m \u001b[32m━━━━━━━━━━━━━━━━━━━━\u001b[0m\u001b[37m\u001b[0m \u001b[1m50s\u001b[0m 335ms/step - accuracy: 0.9091 - loss: 0.2573 - val_accuracy: 0.8939 - val_loss: 0.2997\n",
            "\u001b[1m313/313\u001b[0m \u001b[32m━━━━━━━━━━━━━━━━━━━━\u001b[0m\u001b[37m\u001b[0m \u001b[1m3s\u001b[0m 10ms/step - accuracy: 0.8910 - loss: 0.3134\n"
          ]
        }
      ],
      "source": [
        "# A. Test Hyperparameters\n",
        "loss_dict = {}\n",
        "accuracy_dict = {}\n",
        "for i in range(32,128,32):\n",
        "  # Create a simple CNN model\n",
        "  model = Sequential([\n",
        "      Conv2D(filters=i, kernel_size=(3, 3), activation='relu', input_shape=(28, 28, 1), padding='same'),\n",
        "      Flatten(),  # Flatten for dense layers\n",
        "      Dense(10, activation='softmax')  # Output layer for 10 classes\n",
        "  ])\n",
        "\n",
        "  # Train the model\n",
        "  model.compile(\n",
        "      loss='categorical_crossentropy', # Loss function\n",
        "      optimizer=SGD(learning_rate = 0.03, momentum=0.8), # Optimizer\n",
        "      metrics=['accuracy'] # Metrics to evaluate the model\n",
        "  )\n",
        "\n",
        "  model.fit(\n",
        "      X_train, # Training data\n",
        "      y_train, # Training labels\n",
        "      epochs=15, # Number of epochs\n",
        "      batch_size=320, # Number of samples per batch\n",
        "      validation_split=0.2 # Use 20% of the data for validation\n",
        "  )\n",
        "\n",
        "  # Evaluate the model\n",
        "  loss, accuracy = model.evaluate(X_test, y_test)\n",
        "  loss_dict[i] = loss\n",
        "  accuracy_dict[i] = accuracy"
      ]
    },
    {
      "cell_type": "code",
      "source": [
        "import matplotlib.pyplot as plt\n",
        "\n",
        "# Extract keys and values\n",
        "x = list(loss_dict.keys())  # [32, 64, 96]\n",
        "y_a = list(loss_dict.values())  # Values from dictionary a\n",
        "y_b = list(accuracy_dict.values())  # Values from dictionary b\n",
        "\n",
        "# Create the plot\n",
        "plt.plot(x, y_a, marker='o', label='Loss', color='blue')  # Line for dictionary a\n",
        "plt.plot(x, y_b, marker='s', label='Accuracy', color='red')   # Line for dictionary b\n",
        "\n",
        "# Customize the plot\n",
        "plt.xlabel('Keys')\n",
        "plt.ylabel('Values')\n",
        "plt.title('Line Plot of Dictionaries A and B')\n",
        "plt.legend()\n",
        "plt.grid(True)\n",
        "\n",
        "# Show the plot\n",
        "plt.show()"
      ],
      "metadata": {
        "colab": {
          "base_uri": "https://localhost:8080/",
          "height": 472
        },
        "id": "Xcx-BQdwq2Rt",
        "outputId": "dc8b002c-c4b4-4b6d-ce89-7985c568e409"
      },
      "id": "Xcx-BQdwq2Rt",
      "execution_count": 31,
      "outputs": [
        {
          "output_type": "display_data",
          "data": {
            "text/plain": [
              "<Figure size 640x480 with 1 Axes>"
            ],
            "image/png": "[encoded data removed]"
          },
          "metadata": {}
        }
      ]
    },
    {
      "cell_type": "code",
      "execution_count": 34,
      "id": "dc43ac81",
      "metadata": {
        "colab": {
          "base_uri": "https://localhost:8080/"
        },
        "id": "dc43ac81",
        "outputId": "5a089dec-8ea3-409f-e5ea-4ed24a6bf6e5"
      },
      "outputs": [
        {
          "output_type": "stream",
          "name": "stdout",
          "text": [
            "Epoch 1/15\n",
            "\u001b[1m150/150\u001b[0m \u001b[32m━━━━━━━━━━━━━━━━━━━━\u001b[0m\u001b[37m\u001b[0m \u001b[1m20s\u001b[0m 126ms/step - accuracy: 0.6637 - loss: 0.9817 - val_accuracy: 0.8275 - val_loss: 0.4934\n",
            "Epoch 2/15\n",
            "\u001b[1m150/150\u001b[0m \u001b[32m━━━━━━━━━━━━━━━━━━━━\u001b[0m\u001b[37m\u001b[0m \u001b[1m19s\u001b[0m 124ms/step - accuracy: 0.8306 - loss: 0.5006 - val_accuracy: 0.8503 - val_loss: 0.4446\n",
            "Epoch 3/15\n",
            "\u001b[1m150/150\u001b[0m \u001b[32m━━━━━━━━━━━━━━━━━━━━\u001b[0m\u001b[37m\u001b[0m \u001b[1m21s\u001b[0m 125ms/step - accuracy: 0.8508 - loss: 0.4443 - val_accuracy: 0.8455 - val_loss: 0.4556\n",
            "Epoch 4/15\n",
            "\u001b[1m150/150\u001b[0m \u001b[32m━━━━━━━━━━━━━━━━━━━━\u001b[0m\u001b[37m\u001b[0m \u001b[1m20s\u001b[0m 123ms/step - accuracy: 0.8623 - loss: 0.4209 - val_accuracy: 0.8589 - val_loss: 0.4134\n",
            "Epoch 5/15\n",
            "\u001b[1m150/150\u001b[0m \u001b[32m━━━━━━━━━━━━━━━━━━━━\u001b[0m\u001b[37m\u001b[0m \u001b[1m20s\u001b[0m 121ms/step - accuracy: 0.8671 - loss: 0.4000 - val_accuracy: 0.8650 - val_loss: 0.3972\n",
            "Epoch 6/15\n",
            "\u001b[1m150/150\u001b[0m \u001b[32m━━━━━━━━━━━━━━━━━━━━\u001b[0m\u001b[37m\u001b[0m \u001b[1m21s\u001b[0m 126ms/step - accuracy: 0.8780 - loss: 0.3712 - val_accuracy: 0.8726 - val_loss: 0.3796\n",
            "Epoch 7/15\n",
            "\u001b[1m150/150\u001b[0m \u001b[32m━━━━━━━━━━━━━━━━━━━━\u001b[0m\u001b[37m\u001b[0m \u001b[1m21s\u001b[0m 127ms/step - accuracy: 0.8817 - loss: 0.3614 - val_accuracy: 0.8776 - val_loss: 0.3671\n",
            "Epoch 8/15\n",
            "\u001b[1m150/150\u001b[0m \u001b[32m━━━━━━━━━━━━━━━━━━━━\u001b[0m\u001b[37m\u001b[0m \u001b[1m21s\u001b[0m 129ms/step - accuracy: 0.8831 - loss: 0.3555 - val_accuracy: 0.8817 - val_loss: 0.3580\n",
            "Epoch 9/15\n",
            "\u001b[1m150/150\u001b[0m \u001b[32m━━━━━━━━━━━━━━━━━━━━\u001b[0m\u001b[37m\u001b[0m \u001b[1m20s\u001b[0m 123ms/step - accuracy: 0.8882 - loss: 0.3391 - val_accuracy: 0.8810 - val_loss: 0.3580\n",
            "Epoch 10/15\n",
            "\u001b[1m150/150\u001b[0m \u001b[32m━━━━━━━━━━━━━━━━━━━━\u001b[0m\u001b[37m\u001b[0m \u001b[1m20s\u001b[0m 119ms/step - accuracy: 0.8901 - loss: 0.3330 - val_accuracy: 0.8809 - val_loss: 0.3564\n",
            "Epoch 11/15\n",
            "\u001b[1m150/150\u001b[0m \u001b[32m━━━━━━━━━━━━━━━━━━━━\u001b[0m\u001b[37m\u001b[0m \u001b[1m19s\u001b[0m 111ms/step - accuracy: 0.8938 - loss: 0.3241 - val_accuracy: 0.8831 - val_loss: 0.3468\n",
            "Epoch 12/15\n",
            "\u001b[1m150/150\u001b[0m \u001b[32m━━━━━━━━━━━━━━━━━━━━\u001b[0m\u001b[37m\u001b[0m \u001b[1m24s\u001b[0m 131ms/step - accuracy: 0.8922 - loss: 0.3231 - val_accuracy: 0.8828 - val_loss: 0.3496\n",
            "Epoch 13/15\n",
            "\u001b[1m150/150\u001b[0m \u001b[32m━━━━━━━━━━━━━━━━━━━━\u001b[0m\u001b[37m\u001b[0m \u001b[1m19s\u001b[0m 119ms/step - accuracy: 0.8927 - loss: 0.3203 - val_accuracy: 0.8878 - val_loss: 0.3421\n",
            "Epoch 14/15\n",
            "\u001b[1m150/150\u001b[0m \u001b[32m━━━━━━━━━━━━━━━━━━━━\u001b[0m\u001b[37m\u001b[0m \u001b[1m18s\u001b[0m 122ms/step - accuracy: 0.9001 - loss: 0.3096 - val_accuracy: 0.8867 - val_loss: 0.3380\n",
            "Epoch 15/15\n",
            "\u001b[1m150/150\u001b[0m \u001b[32m━━━━━━━━━━━━━━━━━━━━\u001b[0m\u001b[37m\u001b[0m \u001b[1m19s\u001b[0m 113ms/step - accuracy: 0.8992 - loss: 0.3050 - val_accuracy: 0.8868 - val_loss: 0.3352\n",
            "\u001b[1m313/313\u001b[0m \u001b[32m━━━━━━━━━━━━━━━━━━━━\u001b[0m\u001b[37m\u001b[0m \u001b[1m2s\u001b[0m 6ms/step - accuracy: 0.8886 - loss: 0.3482\n",
            "Loss:     0.35\n",
            "Accuracy: 88.24%\n"
          ]
        }
      ],
      "source": [
        "# B. Test presence or absence of regularization\n",
        "\n",
        "from tensorflow.keras.regularizers import l2\n",
        "\n",
        "# Create a simple CNN model\n",
        "model = Sequential([\n",
        "    Conv2D(filters=32, kernel_size=(3, 3), activation='relu',\n",
        "           input_shape=(28, 28, 1), padding='same',\n",
        "           kernel_regularizer=l2(0.002)),\n",
        "    Flatten(),  # Flatten for dense layers\n",
        "    Dense(10, activation='softmax')  # Output layer for 10 classes\n",
        "])\n",
        "\n",
        "# Train the model\n",
        "model.compile(\n",
        "    loss='categorical_crossentropy', # Loss function\n",
        "    optimizer=SGD(learning_rate = 0.03, momentum=0.8), # Optimizer\n",
        "    metrics=['accuracy'] # Metrics to evaluate the model\n",
        ")\n",
        "\n",
        "model.fit(\n",
        "    X_train, # Training data\n",
        "    y_train, # Training labels\n",
        "    epochs=15, # Number of epochs\n",
        "    batch_size=320, # Number of samples per batch\n",
        "    validation_split=0.2 # Use 20% of the data for validation\n",
        ")\n",
        "\n",
        "# Evaluate the model\n",
        "loss, accuracy = model.evaluate(X_test, y_test)\n",
        "print(f'Loss:     {loss:.2f}')\n",
        "print(f'Accuracy: {accuracy*100:.2f}%')"
      ]
    },
    {
      "cell_type": "markdown",
      "id": "cb426f26",
      "metadata": {
        "id": "cb426f26"
      },
      "source": [
        "Reflection: Report on the performance of the models you tested. Did any of the changes you made improve the model's performance? If so, which ones? What do you think contributed to these improvements? Finally, what combination of hyperparameters and regularization techniques yielded the best performance?\n",
        "\n",
        "**Your answer here**\n",
        "I tried different filters in the CNN model: 32, 64, 96. The performance is slightly improved when the filter value is set to 96.\n",
        "I also tried l2 regulation l2(0.01),l2(0.005),l2(0.002) and 0.002 produces the best performance but it is slightly worse than that when l2 regulation is not implemented. If I had more time, I would decrease it to 0.001 for more testing.\n",
        "Both filter size and l2 regulation can contribute to the performace improvement.\n",
        "filters = 96, l2(0.002) in my testing can yield the best performance."
      ]
    },
    {
      "cell_type": "markdown",
      "id": "46c43a3d",
      "metadata": {
        "id": "46c43a3d"
      },
      "source": [
        "# 5. Training Final Model and Evaluation\n",
        "\n",
        "In this section, you will train the final model using the best hyperparameters and regularization techniques you found in the previous section. You should:\n",
        "- [ ] Compile the final model with the best hyperparameters and regularization techniques.\n",
        "- [ ] Train the final model on the training set and evaluate it on the test set.\n",
        "- [ ] Report the final model's performance on the test set, including accuracy and any other relevant metrics."
      ]
    },
    {
      "cell_type": "code",
      "execution_count": 35,
      "id": "31f926d1",
      "metadata": {
        "colab": {
          "base_uri": "https://localhost:8080/"
        },
        "id": "31f926d1",
        "outputId": "c2d49783-9081-4d10-fb2c-a74767b4883e"
      },
      "outputs": [
        {
          "output_type": "stream",
          "name": "stdout",
          "text": [
            "Epoch 1/15\n",
            "\u001b[1m150/150\u001b[0m \u001b[32m━━━━━━━━━━━━━━━━━━━━\u001b[0m\u001b[37m\u001b[0m \u001b[1m53s\u001b[0m 347ms/step - accuracy: 0.6668 - loss: 0.9772 - val_accuracy: 0.8342 - val_loss: 0.4866\n",
            "Epoch 2/15\n",
            "\u001b[1m150/150\u001b[0m \u001b[32m━━━━━━━━━━━━━━━━━━━━\u001b[0m\u001b[37m\u001b[0m \u001b[1m83s\u001b[0m 354ms/step - accuracy: 0.8291 - loss: 0.5003 - val_accuracy: 0.8491 - val_loss: 0.4511\n",
            "Epoch 3/15\n",
            "\u001b[1m150/150\u001b[0m \u001b[32m━━━━━━━━━━━━━━━━━━━━\u001b[0m\u001b[37m\u001b[0m \u001b[1m81s\u001b[0m 345ms/step - accuracy: 0.8516 - loss: 0.4408 - val_accuracy: 0.8504 - val_loss: 0.4383\n",
            "Epoch 4/15\n",
            "\u001b[1m150/150\u001b[0m \u001b[32m━━━━━━━━━━━━━━━━━━━━\u001b[0m\u001b[37m\u001b[0m \u001b[1m86s\u001b[0m 371ms/step - accuracy: 0.8647 - loss: 0.4084 - val_accuracy: 0.8660 - val_loss: 0.3986\n",
            "Epoch 5/15\n",
            "\u001b[1m150/150\u001b[0m \u001b[32m━━━━━━━━━━━━━━━━━━━━\u001b[0m\u001b[37m\u001b[0m \u001b[1m78s\u001b[0m 344ms/step - accuracy: 0.8720 - loss: 0.3842 - val_accuracy: 0.8758 - val_loss: 0.3843\n",
            "Epoch 6/15\n",
            "\u001b[1m150/150\u001b[0m \u001b[32m━━━━━━━━━━━━━━━━━━━━\u001b[0m\u001b[37m\u001b[0m \u001b[1m86s\u001b[0m 372ms/step - accuracy: 0.8773 - loss: 0.3766 - val_accuracy: 0.8749 - val_loss: 0.3718\n",
            "Epoch 7/15\n",
            "\u001b[1m150/150\u001b[0m \u001b[32m━━━━━━━━━━━━━━━━━━━━\u001b[0m\u001b[37m\u001b[0m \u001b[1m52s\u001b[0m 349ms/step - accuracy: 0.8812 - loss: 0.3559 - val_accuracy: 0.8753 - val_loss: 0.3753\n",
            "Epoch 8/15\n",
            "\u001b[1m150/150\u001b[0m \u001b[32m━━━━━━━━━━━━━━━━━━━━\u001b[0m\u001b[37m\u001b[0m \u001b[1m80s\u001b[0m 334ms/step - accuracy: 0.8851 - loss: 0.3511 - val_accuracy: 0.8770 - val_loss: 0.3642\n",
            "Epoch 9/15\n",
            "\u001b[1m150/150\u001b[0m \u001b[32m━━━━━━━━━━━━━━━━━━━━\u001b[0m\u001b[37m\u001b[0m \u001b[1m86s\u001b[0m 363ms/step - accuracy: 0.8893 - loss: 0.3402 - val_accuracy: 0.8833 - val_loss: 0.3544\n",
            "Epoch 10/15\n",
            "\u001b[1m150/150\u001b[0m \u001b[32m━━━━━━━━━━━━━━━━━━━━\u001b[0m\u001b[37m\u001b[0m \u001b[1m84s\u001b[0m 376ms/step - accuracy: 0.8890 - loss: 0.3291 - val_accuracy: 0.8758 - val_loss: 0.3637\n",
            "Epoch 11/15\n",
            "\u001b[1m150/150\u001b[0m \u001b[32m━━━━━━━━━━━━━━━━━━━━\u001b[0m\u001b[37m\u001b[0m \u001b[1m51s\u001b[0m 340ms/step - accuracy: 0.8927 - loss: 0.3280 - val_accuracy: 0.8853 - val_loss: 0.3478\n",
            "Epoch 12/15\n",
            "\u001b[1m150/150\u001b[0m \u001b[32m━━━━━━━━━━━━━━━━━━━━\u001b[0m\u001b[37m\u001b[0m \u001b[1m52s\u001b[0m 349ms/step - accuracy: 0.8942 - loss: 0.3254 - val_accuracy: 0.8787 - val_loss: 0.3634\n",
            "Epoch 13/15\n",
            "\u001b[1m150/150\u001b[0m \u001b[32m━━━━━━━━━━━━━━━━━━━━\u001b[0m\u001b[37m\u001b[0m \u001b[1m81s\u001b[0m 346ms/step - accuracy: 0.8943 - loss: 0.3186 - val_accuracy: 0.8873 - val_loss: 0.3379\n",
            "Epoch 14/15\n",
            "\u001b[1m150/150\u001b[0m \u001b[32m━━━━━━━━━━━━━━━━━━━━\u001b[0m\u001b[37m\u001b[0m \u001b[1m81s\u001b[0m 340ms/step - accuracy: 0.9002 - loss: 0.3076 - val_accuracy: 0.8873 - val_loss: 0.3414\n",
            "Epoch 15/15\n",
            "\u001b[1m150/150\u001b[0m \u001b[32m━━━━━━━━━━━━━━━━━━━━\u001b[0m\u001b[37m\u001b[0m \u001b[1m82s\u001b[0m 343ms/step - accuracy: 0.9023 - loss: 0.3001 - val_accuracy: 0.8867 - val_loss: 0.3382\n",
            "\u001b[1m313/313\u001b[0m \u001b[32m━━━━━━━━━━━━━━━━━━━━\u001b[0m\u001b[37m\u001b[0m \u001b[1m3s\u001b[0m 8ms/step - accuracy: 0.8866 - loss: 0.3525\n",
            "Loss:     0.36\n",
            "Accuracy: 88.23%\n"
          ]
        }
      ],
      "source": [
        "# Set filters = 96; kernel_regularizer=l2(0.002)\n",
        "#  Create a simple CNN model\n",
        "model = Sequential([\n",
        "    Conv2D(filters=96, kernel_size=(3, 3), activation='relu',\n",
        "           input_shape=(28, 28, 1), padding='same',\n",
        "           kernel_regularizer=l2(0.002)),\n",
        "    Flatten(),  # Flatten for dense layers\n",
        "    Dense(10, activation='softmax')  # Output layer for 10 classes\n",
        "])\n",
        "\n",
        "# Train the model\n",
        "model.compile(\n",
        "    loss='categorical_crossentropy', # Loss function\n",
        "    optimizer=SGD(learning_rate = 0.03, momentum=0.8), # Optimizer\n",
        "    metrics=['accuracy'] # Metrics to evaluate the model\n",
        ")\n",
        "\n",
        "model.fit(\n",
        "    X_train, # Training data\n",
        "    y_train, # Training labels\n",
        "    epochs=15, # Number of epochs\n",
        "    batch_size=320, # Number of samples per batch\n",
        "    validation_split=0.2 # Use 20% of the data for validation\n",
        ")\n",
        "\n",
        "# Evaluate the model\n",
        "loss, accuracy = model.evaluate(X_test, y_test)\n",
        "print(f'Loss:     {loss:.2f}')\n",
        "print(f'Accuracy: {accuracy*100:.2f}%')"
      ]
    },
    {
      "cell_type": "markdown",
      "id": "a01f8ebc",
      "metadata": {
        "id": "a01f8ebc"
      },
      "source": [
        "Reflection: How does the final model's performance compare to the baseline and the CNN model? What do you think contributed to the final model's performance? If you had time, what other experiments would you run to further improve the model's performance?\n",
        "\n",
        "**Your answer here**\n",
        "The final model's performance is much better than the baseline model, but slightly worse than the CNN model with the same filters without l2 regulation enabled. I think this is probably due to the l2 value not optimized.\n",
        "\n",
        "If I had more time, I would try adding more layers, different values for l2 regulation, dropout regulation and different activation functions like sigmoid and tanh."
      ]
    },
    {
      "cell_type": "markdown",
      "id": "01db8512",
      "metadata": {
        "id": "01db8512"
      },
      "source": [
        "🚨 **Please review our [Assignment Submission Guide](https://github.com/UofT-DSI/onboarding/blob/main/onboarding_documents/submissions.md)** 🚨 for detailed instructions on how to format, branch, and submit your work. Following these guidelines is crucial for your submissions to be evaluated correctly.\n",
        "### Submission Parameters:\n",
        "* Submission Due Date: `23:59 PM - 06/07/2025`\n",
        "* The branch name for your repo should be: `assignment-1`\n",
        "* What to submit for this assignment:\n",
        "    * This Jupyter Notebook (assignment_1.ipynb)\n",
        "    * The Lab 1 notebook (labs/lab_1.ipynb)\n",
        "    * The Lab 2 notebook (labs/lab_2.ipynb)\n",
        "* What the pull request link should look like for this assignment: `https://github.com/<your_github_username>/deep_learning/pull/<pr_id>`\n",
        "* Open a private window in your browser. Copy and paste the link to your pull request into the address bar. Make sure you can see your pull request properly. This helps the technical facilitator and learning support staff review your submission easily.\n",
        "Checklist:\n",
        "- [ ] Created a branch with the correct naming convention.\n",
        "- [ ] Ensured that the repository is public.\n",
        "- [ ] Reviewed the PR description guidelines and adhered to them.\n",
        "- [ ] Verify that the link is accessible in a private browser window.\n",
        "If you encounter any difficulties or have questions, please don't hesitate to reach out to our team via our Slack at `#cohort-6-ml-help`. Our Technical Facilitators and Learning Support staff are here to help you navigate any challenges."
      ]
    }
  ],
  "metadata": {
    "kernelspec": {
      "display_name": "deep_learning",
      "language": "python",
      "name": "python3"
    },
    "language_info": {
      "codemirror_mode": {
        "name": "ipython",
        "version": 3
      },
      "file_extension": ".py",
      "mimetype": "text/x-python",
      "name": "python",
      "nbconvert_exporter": "python",
      "pygments_lexer": "ipython3",
      "version": "3.12.11"
    },
    "colab": {
      "provenance": []
    }
  },
  "nbformat": 4,
  "nbformat_minor": 5
}