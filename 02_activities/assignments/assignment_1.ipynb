{
 "cells": [
  {
   "cell_type": "markdown",
   "id": "927ae8f4",
   "metadata": {},
   "source": [
    "# Assignment 1 - Building a Vision Model with Keras\n",
    "\n",
    "In this assignment, you will build a simple vision model using Keras. The goal is to classify images from the Fashion MNIST dataset, which contains images of clothing items.\n",
    "\n",
    "You will:\n",
    "1. Load and inspect the Fashion MNIST dataset.\n",
    "2. Run a simple baseline model to establish a performance benchmark.\n",
    "3. Build and evaluate a simple CNN model, choosing appropriate loss and metrics.\n",
    "4. Design and run controlled experiments on one hyperparameter (e.g., number of filters, kernel size, etc.) and one regularization technique (e.g., dropout, L2 regularization).\n",
    "5. Analyze the results and visualize the model's performance.\n",
    "\n",
    "# 1. Loading and Inspecting the Dataset\n",
    "\n",
    "Fashion MNIST is a dataset of grayscale images of clothing items, with 10 classes. Each image is 28x28 pixels, like the MNIST dataset of handwritten digits. Keras provides a convenient way to load this dataset. \n",
    "\n",
    "In this section, you should:\n",
    "\n",
    "- [ ] Inspect the shapes of the training and test sets to confirm their size and structure.\n",
    "- [ ] Convert the labels to one-hot encoded format if necessary. (There is a utility function in Keras for this.)\n",
    "- [ ] Visualize a few images from the dataset to understand what the data looks like."
   ]
  },
  {
   "cell_type": "code",
   "execution_count": 1,
   "id": "420c7178",
   "metadata": {},
   "outputs": [
    {
     "name": "stdout",
     "output_type": "stream",
     "text": [
      "Downloading data from https://storage.googleapis.com/tensorflow/tf-keras-datasets/train-labels-idx1-ubyte.gz\n",
      "\u001b[1m29515/29515\u001b[0m \u001b[32m━━━━━━━━━━━━━━━━━━━━\u001b[0m\u001b[37m\u001b[0m \u001b[1m0s\u001b[0m 3us/step\n",
      "Downloading data from https://storage.googleapis.com/tensorflow/tf-keras-datasets/train-images-idx3-ubyte.gz\n",
      "\u001b[1m26421880/26421880\u001b[0m \u001b[32m━━━━━━━━━━━━━━━━━━━━\u001b[0m\u001b[37m\u001b[0m \u001b[1m12s\u001b[0m 0us/step\n",
      "Downloading data from https://storage.googleapis.com/tensorflow/tf-keras-datasets/t10k-labels-idx1-ubyte.gz\n",
      "\u001b[1m5148/5148\u001b[0m \u001b[32m━━━━━━━━━━━━━━━━━━━━\u001b[0m\u001b[37m\u001b[0m \u001b[1m0s\u001b[0m 1us/step\n",
      "Downloading data from https://storage.googleapis.com/tensorflow/tf-keras-datasets/t10k-images-idx3-ubyte.gz\n",
      "\u001b[1m4422102/4422102\u001b[0m \u001b[32m━━━━━━━━━━━━━━━━━━━━\u001b[0m\u001b[37m\u001b[0m \u001b[1m0s\u001b[0m 0us/step\n"
     ]
    }
   ],
   "source": [
    "from tensorflow.keras.datasets import fashion_mnist\n",
    "(X_train, y_train), (X_test, y_test) = fashion_mnist.load_data()\n",
    "\n",
    "# Normalize the pixel values to be between 0 and 1\n",
    "X_train = X_train.astype('float32') / 255.0\n",
    "X_test = X_test.astype('float32') / 255.0\n",
    "\n",
    "# Classes in the Fashion MNIST dataset\n",
    "class_names = [\"T-shirt/top\", \"Trouser\", \"Pullover\", \"Dress\", \"Coat\", \"Sandal\", \"Shirt\", \"Sneaker\", \"Bag\", \"Ankle boot\"]"
   ]
  },
  {
   "cell_type": "code",
   "execution_count": 2,
   "id": "a6c89fe7",
   "metadata": {},
   "outputs": [
    {
     "name": "stdout",
     "output_type": "stream",
     "text": [
      "Before one-hot encoding: 9\n",
      "After one-hot encoding: [0. 0. 0. 0. 0. 0. 0. 0. 0. 1.]\n"
     ]
    }
   ],
   "source": [
    "# Inspect the shapes of the datasets\n",
    "\n",
    "\n",
    "# Convert labels to one-hot encoding\n",
    "from tensorflow.keras.utils import to_categorical\n",
    "print(f'Before one-hot encoding: {y_train[0]}')\n",
    "y_train = to_categorical(y_train, num_classes=10)\n",
    "y_test = to_categorical(y_test, num_classes=10)\n",
    "print(f'After one-hot encoding: {y_train[0]}')"
   ]
  },
  {
   "cell_type": "code",
   "execution_count": 4,
   "id": "13e100db",
   "metadata": {},
   "outputs": [
    {
     "data": {
      "image/png": "[encoded data removed]",
      "text/plain": [
       "<Figure size 1500x300 with 10 Axes>"
      ]
     },
     "metadata": {},
     "output_type": "display_data"
    }
   ],
   "source": [
    "import matplotlib.pyplot as plt\n",
    "# Verify the data looks as expected\n",
    "\n",
    "# Number of samples to display\n",
    "num_samples = 10\n",
    "\n",
    "# Create a figure with subplots\n",
    "plt.figure(figsize=(15, 3))\n",
    "for i in range(num_samples):\n",
    "    plt.subplot(1, num_samples, i + 1)\n",
    "    plt.imshow(X_train[i], cmap='gray')  # Fashion MNIST images are grayscale\n",
    "    label_index = y_train[i].argmax()    # Convert one-hot back to class index\n",
    "    plt.title(class_names[label_index])\n",
    "    plt.axis('off')\n",
    "\n",
    "plt.tight_layout()\n",
    "plt.show()"
   ]
  },
  {
   "cell_type": "markdown",
   "id": "989f7dd0",
   "metadata": {},
   "source": [
    "Reflection: Does the data look as expected? How is the quality of the images? Are there any issues with the dataset that you notice?\n",
    "\n",
    "The data looks as expected.  The image quality is a bit low resulting in slight ambiguity in classes like T-shirt/top and dress.  "
   ]
  },
  {
   "cell_type": "markdown",
   "id": "c9e8ad60",
   "metadata": {},
   "source": [
    "# 2. Baseline Model\n",
    "\n",
    "In this section, you will create a linear regression model as a baseline. This model will not use any convolutional layers, but it will help you understand the performance of a simple model on this dataset.\n",
    "You should:\n",
    "- [ ] Create a simple linear regression model using Keras.\n",
    "- [ ] Compile the model with an appropriate loss function and optimizer.\n",
    "- [ ] Train the model on the training set and evaluate it on the test set.\n",
    "\n",
    "A linear regression model can be created using the `Sequential` API in Keras. Using a single `Dense` layer with no activation function is equivalent to a simple linear regression model. Make sure that the number of units in the output layer matches the number of classes in the dataset.\n",
    "\n",
    "Note that for this step, we will need to use `Flatten` to convert the 2D images into 1D vectors before passing them to the model. Put a `Flatten()` layer as the first layer in your model so that the 2D image data can be flattened into 1D vectors."
   ]
  },
  {
   "cell_type": "code",
   "execution_count": 5,
   "id": "8563a7aa",
   "metadata": {},
   "outputs": [
    {
     "name": "stderr",
     "output_type": "stream",
     "text": [
      "c:\\Users\\annam\\miniconda3\\envs\\dsi_participant\\Lib\\site-packages\\keras\\src\\layers\\reshaping\\flatten.py:37: UserWarning: Do not pass an `input_shape`/`input_dim` argument to a layer. When using Sequential models, prefer using an `Input(shape)` object as the first layer in the model instead.\n",
      "  super().__init__(**kwargs)\n"
     ]
    },
    {
     "name": "stdout",
     "output_type": "stream",
     "text": [
      "Epoch 1/5\n",
      "\u001b[1m1688/1688\u001b[0m \u001b[32m━━━━━━━━━━━━━━━━━━━━\u001b[0m\u001b[37m\u001b[0m \u001b[1m18s\u001b[0m 9ms/step - accuracy: 0.7922 - loss: 0.6159 - val_accuracy: 0.8372 - val_loss: 0.4741\n",
      "Epoch 2/5\n",
      "\u001b[1m1688/1688\u001b[0m \u001b[32m━━━━━━━━━━━━━━━━━━━━\u001b[0m\u001b[37m\u001b[0m \u001b[1m13s\u001b[0m 7ms/step - accuracy: 0.8396 - loss: 0.4685 - val_accuracy: 0.8385 - val_loss: 0.4597\n",
      "Epoch 3/5\n",
      "\u001b[1m1688/1688\u001b[0m \u001b[32m━━━━━━━━━━━━━━━━━━━━\u001b[0m\u001b[37m\u001b[0m \u001b[1m12s\u001b[0m 7ms/step - accuracy: 0.8489 - loss: 0.4403 - val_accuracy: 0.8517 - val_loss: 0.4383\n",
      "Epoch 4/5\n",
      "\u001b[1m1688/1688\u001b[0m \u001b[32m━━━━━━━━━━━━━━━━━━━━\u001b[0m\u001b[37m\u001b[0m \u001b[1m13s\u001b[0m 8ms/step - accuracy: 0.8552 - loss: 0.4251 - val_accuracy: 0.8525 - val_loss: 0.4226\n",
      "Epoch 5/5\n",
      "\u001b[1m1688/1688\u001b[0m \u001b[32m━━━━━━━━━━━━━━━━━━━━\u001b[0m\u001b[37m\u001b[0m \u001b[1m11s\u001b[0m 6ms/step - accuracy: 0.8560 - loss: 0.4175 - val_accuracy: 0.8552 - val_loss: 0.4116\n",
      "\u001b[1m313/313\u001b[0m \u001b[32m━━━━━━━━━━━━━━━━━━━━\u001b[0m\u001b[37m\u001b[0m \u001b[1m2s\u001b[0m 7ms/step - accuracy: 0.8432 - loss: 0.4496\n",
      "Test accuracy: 0.8432\n"
     ]
    }
   ],
   "source": [
    "from keras.models import Sequential\n",
    "from keras.layers import Dense, Flatten\n",
    "\n",
    "# Create a simple linear regression model\n",
    "model = Sequential()\n",
    "model.add(Flatten(input_shape=(28, 28)))  # Flatten 2D images to 1D vectors\n",
    "\n",
    "# You can use `model.add(<layer>)` to add layers to the model\n",
    "model.add(Dense(10, activation='softmax'))  # Output layer with 10 classes\n",
    "\n",
    "# Compile the model using `model.compile()`\n",
    "model.compile(optimizer='adam',\n",
    "              loss='categorical_crossentropy',\n",
    "              metrics=['accuracy'])\n",
    "\n",
    "# Train the model with `model.fit()`\n",
    "model.fit(X_train, y_train, epochs=5, batch_size=32, validation_split=0.1)\n",
    "\n",
    "# Evaluate the model with `model.evaluate()`\n",
    "test_loss, test_acc = model.evaluate(X_test, y_test)\n",
    "print(f\"Test accuracy: {test_acc:.4f}\")"
   ]
  },
  {
   "cell_type": "markdown",
   "id": "9a07e9f7",
   "metadata": {},
   "source": [
    "Reflection: What is the performance of the baseline model? How does it compare to what you expected? Why do you think the performance is at this level?\n",
    "\n",
    "Performace is strong for a linear model, especially considering the simplicity of the architecture.  The small gap between training and test accuracy suggests the model is not overfitting.  The model performs at this level because its capacity is limited.  A single dense layer can only learn linear decision boundaries.  There is no feature exraction.  The model sees raw pixel intensities, with no spatial awareness.  28x28 grayscale images limit the amount of visual detail available for classification."
   ]
  },
  {
   "cell_type": "markdown",
   "id": "fa107b59",
   "metadata": {},
   "source": [
    "# 3. Building and Evaluating a Simple CNN Model\n",
    "\n",
    "In this section, you will build a simple Convolutional Neural Network (CNN) model using Keras. A convolutional neural network is a type of deep learning model that is particularly effective for image classification tasks. Unlike the basic neural networks we have built in the labs, CNNs can accept images as input without needing to flatten them into vectors.\n",
    "\n",
    "You should:\n",
    "- [ ] Build a simple CNN model with at least one convolutional layer (to learn spatial hierarchies in images) and one fully connected layer (to make predictions).\n",
    "- [ ] Compile the model with an appropriate loss function and metrics for a multi-class classification problem.\n",
    "- [ ] Train the model on the training set and evaluate it on the test set.\n",
    "\n",
    "Convolutional layers are designed to accept inputs with three dimensions: height, width and channels (e.g., RGB for color images). For grayscale images like those in Fashion MNIST, the input shape will be (28, 28, 1).\n",
    "\n",
    "When you progress from the convolutional layers to the fully connected layers, you will need to flatten the output of the convolutional layers. This can be done using the `Flatten` layer in Keras, which doesn't require any parameters."
   ]
  },
  {
   "cell_type": "code",
   "execution_count": 6,
   "id": "3513cf3d",
   "metadata": {},
   "outputs": [
    {
     "name": "stderr",
     "output_type": "stream",
     "text": [
      "c:\\Users\\annam\\miniconda3\\envs\\dsi_participant\\Lib\\site-packages\\keras\\src\\layers\\convolutional\\base_conv.py:113: UserWarning: Do not pass an `input_shape`/`input_dim` argument to a layer. When using Sequential models, prefer using an `Input(shape)` object as the first layer in the model instead.\n",
      "  super().__init__(activity_regularizer=activity_regularizer, **kwargs)\n"
     ]
    },
    {
     "name": "stdout",
     "output_type": "stream",
     "text": [
      "Epoch 1/5\n",
      "\u001b[1m844/844\u001b[0m \u001b[32m━━━━━━━━━━━━━━━━━━━━\u001b[0m\u001b[37m\u001b[0m \u001b[1m24s\u001b[0m 25ms/step - accuracy: 0.8468 - loss: 0.4362 - val_accuracy: 0.8778 - val_loss: 0.3456\n",
      "Epoch 2/5\n",
      "\u001b[1m844/844\u001b[0m \u001b[32m━━━━━━━━━━━━━━━━━━━━\u001b[0m\u001b[37m\u001b[0m \u001b[1m21s\u001b[0m 25ms/step - accuracy: 0.8936 - loss: 0.2994 - val_accuracy: 0.8983 - val_loss: 0.2885\n",
      "Epoch 3/5\n",
      "\u001b[1m844/844\u001b[0m \u001b[32m━━━━━━━━━━━━━━━━━━━━\u001b[0m\u001b[37m\u001b[0m \u001b[1m42s\u001b[0m 26ms/step - accuracy: 0.9096 - loss: 0.2528 - val_accuracy: 0.9052 - val_loss: 0.2653\n",
      "Epoch 4/5\n",
      "\u001b[1m844/844\u001b[0m \u001b[32m━━━━━━━━━━━━━━━━━━━━\u001b[0m\u001b[37m\u001b[0m \u001b[1m43s\u001b[0m 28ms/step - accuracy: 0.9190 - loss: 0.2210 - val_accuracy: 0.9092 - val_loss: 0.2617\n",
      "Epoch 5/5\n",
      "\u001b[1m844/844\u001b[0m \u001b[32m━━━━━━━━━━━━━━━━━━━━\u001b[0m\u001b[37m\u001b[0m \u001b[1m27s\u001b[0m 32ms/step - accuracy: 0.9302 - loss: 0.1920 - val_accuracy: 0.9067 - val_loss: 0.2572\n",
      "\u001b[1m313/313\u001b[0m \u001b[32m━━━━━━━━━━━━━━━━━━━━\u001b[0m\u001b[37m\u001b[0m \u001b[1m3s\u001b[0m 10ms/step - accuracy: 0.9033 - loss: 0.2715\n",
      "Test accuracy: 0.9033\n"
     ]
    }
   ],
   "source": [
    "from keras.models import Sequential\n",
    "from keras.layers import Conv2D, MaxPooling2D, Flatten, Dense\n",
    "from keras.utils import to_categorical\n",
    "from tensorflow.keras.datasets import fashion_mnist\n",
    "\n",
    "# Load and preprocess data\n",
    "(X_train, y_train), (X_test, y_test) = fashion_mnist.load_data()\n",
    "X_train = X_train.astype('float32') / 255.0\n",
    "X_test = X_test.astype('float32') / 255.0\n",
    "\n",
    "# Reshape the data to include the channel dimension\n",
    "X_train = X_train.reshape(-1, 28, 28, 1)\n",
    "X_test = X_test.reshape(-1, 28, 28, 1)\n",
    "\n",
    "# One-hot encode labels\n",
    "y_train = to_categorical(y_train, num_classes=10)\n",
    "y_test = to_categorical(y_test, num_classes=10)\n",
    "\n",
    "# Create a simple CNN model\n",
    "model = Sequential()\n",
    "model.add(Conv2D(filters=32, kernel_size=(3, 3), activation='relu', input_shape=(28, 28, 1)))\n",
    "model.add(MaxPooling2D(pool_size=(2, 2)))\n",
    "model.add(Flatten())\n",
    "model.add(Dense(128, activation='relu'))\n",
    "model.add(Dense(10, activation='softmax'))  # Output layer for 10 classes\n",
    "\n",
    "# Compile the model\n",
    "model.compile(optimizer='adam',\n",
    "              loss='categorical_crossentropy',\n",
    "              metrics=['accuracy'])\n",
    "\n",
    "# Train the model\n",
    "model.fit(X_train, y_train, epochs=5, batch_size=64, validation_split=0.1)\n",
    "\n",
    "# Evaluate the model\n",
    "test_loss, test_acc = model.evaluate(X_test, y_test)\n",
    "print(f\"Test accuracy: {test_acc:.4f}\")"
   ]
  },
  {
   "cell_type": "markdown",
   "id": "fabe379c",
   "metadata": {},
   "source": [
    "Reflection: Did the CNN model perform better than the baseline model? If so, by how much? What do you think contributed to this improvement?\n",
    "\n",
    "Yes, the CNN model clearly outperformed the baseline linear model by 6.0 percentage points. Even a simple CNN with one convolutional layer and one dense layer can significantly outperform a linear model on image data because CNNs process the image in its 2D form, maintaining spatial relationships. The convolutional layer captures local patterns like edges, textures, and shapes, which is crucial for distinguishing similar classes.  "
   ]
  },
  {
   "cell_type": "markdown",
   "id": "1a5e2463",
   "metadata": {},
   "source": [
    "# 3. Designing and Running Controlled Experiments\n",
    "\n",
    "In this section, you will design and run controlled experiments to improve the model's performance. You will focus on one hyperparameter and one regularization technique.\n",
    "You should:\n",
    "- [ ] Choose one hyperparameter to experiment with (e.g., number of filters, kernel size, number of layers, etc.) and one regularization technique (e.g., dropout, L2 regularization). For your hyperparameter, you should choose at least three different values to test (but there is no upper limit). For your regularization technique, simply test the presence or absence of the technique.\n",
    "- [ ] Run experiments by modifying the model architecture or hyperparameters, and evaluate the performance of each model on the test set.\n",
    "- [ ] Record the results of your experiments, including the test accuracy and any other relevant metrics.\n",
    "- [ ] Visualize the results of your experiments using plots or tables to compare the performance of different models.\n",
    "\n",
    "The best way to run your experiments is to create a `for` loop that iterates over a range of values for the hyperparameter you are testing. For example, if you are testing different numbers of filters, you can create a loop that runs the model with 32, 64, and 128 filters. Within the loop, you can compile and train the model, then evaluate it on the test set. After each iteration, you can store the results in a list or a dictionary for later analysis.\n",
    "\n",
    "Note: It's critical that you re-initialize the model (by creating a new instance of the model) before each experiment. If you don't, the model will retain the weights from the previous experiment, which can lead to misleading results."
   ]
  },
  {
   "cell_type": "code",
   "execution_count": 7,
   "id": "99d6f46c",
   "metadata": {},
   "outputs": [
    {
     "name": "stdout",
     "output_type": "stream",
     "text": [
      "\n",
      "Testing model with 16 filters\n",
      "\n",
      "Testing model with 32 filters\n",
      "\n",
      "Testing model with 64 filters\n",
      "\n",
      "🔍 Filter Experiment Results:\n",
      "Filters: 16, Accuracy: 0.9051, Loss: 0.2629\n",
      "Filters: 32, Accuracy: 0.9091, Loss: 0.2509\n",
      "Filters: 64, Accuracy: 0.9091, Loss: 0.2537\n"
     ]
    },
    {
     "data": {
      "image/png": "[encoded data removed]",
      "text/plain": [
       "<Figure size 800x500 with 1 Axes>"
      ]
     },
     "metadata": {},
     "output_type": "display_data"
    }
   ],
   "source": [
    "# A. Test Hyperparameters\n",
    "\n",
    "import numpy as np\n",
    "import matplotlib.pyplot as plt\n",
    "from tensorflow.keras.datasets import fashion_mnist\n",
    "from tensorflow.keras.models import Sequential\n",
    "from tensorflow.keras.layers import Conv2D, MaxPooling2D, Flatten, Dense\n",
    "from tensorflow.keras.utils import to_categorical\n",
    "\n",
    "# Load and preprocess Fashion MNIST data\n",
    "(X_train, y_train), (X_test, y_test) = fashion_mnist.load_data()\n",
    "X_train = X_train.astype('float32') / 255.0\n",
    "X_test = X_test.astype('float32') / 255.0\n",
    "X_train = X_train.reshape(-1, 28, 28, 1)\n",
    "X_test = X_test.reshape(-1, 28, 28, 1)\n",
    "y_train = to_categorical(y_train, num_classes=10)\n",
    "y_test = to_categorical(y_test, num_classes=10)\n",
    "\n",
    "# Test different numbers of filters\n",
    "filter_options = [16, 32, 64]\n",
    "results_filters = []\n",
    "\n",
    "for filters in filter_options:\n",
    "    print(f\"\\nTesting model with {filters} filters\")\n",
    "    model = Sequential()\n",
    "    model.add(Conv2D(filters=filters, kernel_size=(3, 3), activation='relu', input_shape=(28, 28, 1)))\n",
    "    model.add(MaxPooling2D(pool_size=(2, 2)))\n",
    "    model.add(Flatten())\n",
    "    model.add(Dense(128, activation='relu'))\n",
    "    model.add(Dense(10, activation='softmax'))\n",
    "\n",
    "    model.compile(optimizer='adam', loss='categorical_crossentropy', metrics=['accuracy'])\n",
    "    model.fit(X_train, y_train, epochs=5, batch_size=64, verbose=0)\n",
    "    test_loss, test_acc = model.evaluate(X_test, y_test, verbose=0)\n",
    "\n",
    "    results_filters.append({'filters': filters, 'accuracy': test_acc, 'loss': test_loss})\n",
    "\n",
    "# Display results\n",
    "print(\"\\n🔍 Filter Experiment Results:\")\n",
    "for r in results_filters:\n",
    "    print(f\"Filters: {r['filters']}, Accuracy: {r['accuracy']:.4f}, Loss: {r['loss']:.4f}\")\n",
    "\n",
    "# Plot results\n",
    "plt.figure(figsize=(8, 5))\n",
    "plt.plot([r['filters'] for r in results_filters], [r['accuracy'] for r in results_filters], marker='o')\n",
    "plt.title('Test Accuracy vs. Number of Filters')\n",
    "plt.xlabel('Number of Filters')\n",
    "plt.ylabel('Test Accuracy')\n",
    "plt.grid(True)\n",
    "plt.tight_layout()\n",
    "plt.show()\n"
   ]
  },
  {
   "cell_type": "code",
   "execution_count": 8,
   "id": "dc43ac81",
   "metadata": {},
   "outputs": [
    {
     "name": "stdout",
     "output_type": "stream",
     "text": [
      "\n",
      "Testing model with dropout=False\n",
      "\n",
      "Testing model with dropout=True\n",
      "\n",
      "🛡️ Dropout Experiment Results:\n",
      "Dropout: False, Accuracy: 0.9129, Loss: 0.2464\n",
      "Dropout: True, Accuracy: 0.9039, Loss: 0.2673\n"
     ]
    },
    {
     "data": {
      "image/png": "[encoded data removed]",
      "text/plain": [
       "<Figure size 600x500 with 1 Axes>"
      ]
     },
     "metadata": {},
     "output_type": "display_data"
    }
   ],
   "source": [
    "# B. Test presence or absence of regularization\n",
    "\n",
    "from tensorflow.keras.layers import Dropout\n",
    "\n",
    "# Use fixed number of filters for this test\n",
    "filters = 32\n",
    "dropout_options = [False, True]\n",
    "results_dropout = []\n",
    "\n",
    "for use_dropout in dropout_options:\n",
    "    print(f\"\\nTesting model with dropout={use_dropout}\")\n",
    "    model = Sequential()\n",
    "    model.add(Conv2D(filters=filters, kernel_size=(3, 3), activation='relu', input_shape=(28, 28, 1)))\n",
    "    model.add(MaxPooling2D(pool_size=(2, 2)))\n",
    "    model.add(Flatten())\n",
    "    model.add(Dense(128, activation='relu'))\n",
    "    if use_dropout:\n",
    "        model.add(Dropout(0.5))\n",
    "    model.add(Dense(10, activation='softmax'))\n",
    "\n",
    "    model.compile(optimizer='adam', loss='categorical_crossentropy', metrics=['accuracy'])\n",
    "    model.fit(X_train, y_train, epochs=5, batch_size=64, verbose=0)\n",
    "    test_loss, test_acc = model.evaluate(X_test, y_test, verbose=0)\n",
    "\n",
    "    results_dropout.append({'dropout': use_dropout, 'accuracy': test_acc, 'loss': test_loss})\n",
    "\n",
    "# Display results\n",
    "print(\"\\n🛡️ Dropout Experiment Results:\")\n",
    "for r in results_dropout:\n",
    "    print(f\"Dropout: {r['dropout']}, Accuracy: {r['accuracy']:.4f}, Loss: {r['loss']:.4f}\")\n",
    "\n",
    "# Plot results\n",
    "plt.figure(figsize=(6, 5))\n",
    "labels = ['No Dropout', 'With Dropout']\n",
    "accs = [r['accuracy'] for r in results_dropout]\n",
    "plt.bar(labels, accs, color=['skyblue', 'salmon'])\n",
    "plt.title('Test Accuracy with vs. without Dropout')\n",
    "plt.ylabel('Test Accuracy')\n",
    "plt.tight_layout()\n",
    "plt.show()\n"
   ]
  },
  {
   "cell_type": "markdown",
   "id": "cb426f26",
   "metadata": {},
   "source": [
    "Reflection: Report on the performance of the models you tested. Did any of the changes you made improve the model's performance? If so, which ones? What do you think contributed to these improvements? Finally, what combination of hyperparameters and regularization techniques yielded the best performance?\n",
    "\n",
    "Increasing the number of filters from 16 to 32 improved accuracy from 90.51% to 90.91% and removing dropout further boosted accuracy to 91.29%, the highest across all experiments.  More filters allowed the model to learn richer and more diverse spatial features. No dropout helped the model retain full capacity during training, which worked well given the dataset's simplicity and size.  Best performing configuration is 32 filters without dropout.  "
   ]
  },
  {
   "cell_type": "markdown",
   "id": "46c43a3d",
   "metadata": {},
   "source": [
    "# 5. Training Final Model and Evaluation\n",
    "\n",
    "In this section, you will train the final model using the best hyperparameters and regularization techniques you found in the previous section. You should:\n",
    "- [ ] Compile the final model with the best hyperparameters and regularization techniques.\n",
    "- [ ] Train the final model on the training set and evaluate it on the test set.\n",
    "- [ ] Report the final model's performance on the test set, including accuracy and any other relevant metrics."
   ]
  },
  {
   "cell_type": "code",
   "execution_count": 9,
   "id": "31f926d1",
   "metadata": {},
   "outputs": [
    {
     "name": "stdout",
     "output_type": "stream",
     "text": [
      "Epoch 1/5\n",
      "\u001b[1m844/844\u001b[0m \u001b[32m━━━━━━━━━━━━━━━━━━━━\u001b[0m\u001b[37m\u001b[0m \u001b[1m27s\u001b[0m 29ms/step - accuracy: 0.8492 - loss: 0.4295 - val_accuracy: 0.8847 - val_loss: 0.3231\n",
      "Epoch 2/5\n",
      "\u001b[1m844/844\u001b[0m \u001b[32m━━━━━━━━━━━━━━━━━━━━\u001b[0m\u001b[37m\u001b[0m \u001b[1m43s\u001b[0m 31ms/step - accuracy: 0.8975 - loss: 0.2875 - val_accuracy: 0.9022 - val_loss: 0.2767\n",
      "Epoch 3/5\n",
      "\u001b[1m844/844\u001b[0m \u001b[32m━━━━━━━━━━━━━━━━━━━━\u001b[0m\u001b[37m\u001b[0m \u001b[1m25s\u001b[0m 30ms/step - accuracy: 0.9125 - loss: 0.2427 - val_accuracy: 0.9075 - val_loss: 0.2593\n",
      "Epoch 4/5\n",
      "\u001b[1m844/844\u001b[0m \u001b[32m━━━━━━━━━━━━━━━━━━━━\u001b[0m\u001b[37m\u001b[0m \u001b[1m28s\u001b[0m 33ms/step - accuracy: 0.9229 - loss: 0.2134 - val_accuracy: 0.9078 - val_loss: 0.2536\n",
      "Epoch 5/5\n",
      "\u001b[1m844/844\u001b[0m \u001b[32m━━━━━━━━━━━━━━━━━━━━\u001b[0m\u001b[37m\u001b[0m \u001b[1m30s\u001b[0m 35ms/step - accuracy: 0.9311 - loss: 0.1872 - val_accuracy: 0.9167 - val_loss: 0.2439\n",
      "\u001b[1m313/313\u001b[0m \u001b[32m━━━━━━━━━━━━━━━━━━━━\u001b[0m\u001b[37m\u001b[0m \u001b[1m3s\u001b[0m 11ms/step - accuracy: 0.9088 - loss: 0.2548\n",
      "\n",
      "🎯 Final Model Performance:\n",
      "Test Accuracy: 0.9088\n",
      "Test Loss: 0.2548\n"
     ]
    }
   ],
   "source": [
    "from tensorflow.keras.datasets import fashion_mnist\n",
    "from tensorflow.keras.models import Sequential\n",
    "from tensorflow.keras.layers import Conv2D, MaxPooling2D, Flatten, Dense\n",
    "from tensorflow.keras.utils import to_categorical\n",
    "\n",
    "# Load and preprocess data\n",
    "(X_train, y_train), (X_test, y_test) = fashion_mnist.load_data()\n",
    "X_train = X_train.astype('float32') / 255.0\n",
    "X_test = X_test.astype('float32') / 255.0\n",
    "X_train = X_train.reshape(-1, 28, 28, 1)\n",
    "X_test = X_test.reshape(-1, 28, 28, 1)\n",
    "y_train = to_categorical(y_train, num_classes=10)\n",
    "y_test = to_categorical(y_test, num_classes=10)\n",
    "\n",
    "# Build final model\n",
    "model = Sequential()\n",
    "model.add(Conv2D(filters=32, kernel_size=(3, 3), activation='relu', input_shape=(28, 28, 1)))\n",
    "model.add(MaxPooling2D(pool_size=(2, 2)))\n",
    "model.add(Flatten())\n",
    "model.add(Dense(128, activation='relu'))\n",
    "model.add(Dense(10, activation='softmax'))\n",
    "\n",
    "# Compile model\n",
    "model.compile(optimizer='adam',\n",
    "              loss='categorical_crossentropy',\n",
    "              metrics=['accuracy'])\n",
    "\n",
    "# Train model\n",
    "model.fit(X_train, y_train, epochs=5, batch_size=64, validation_split=0.1)\n",
    "\n",
    "# Evaluate model\n",
    "test_loss, test_acc = model.evaluate(X_test, y_test)\n",
    "print(f\"\\n🎯 Final Model Performance:\")\n",
    "print(f\"Test Accuracy: {test_acc:.4f}\")\n",
    "print(f\"Test Loss: {test_loss:.4f}\")\n"
   ]
  },
  {
   "cell_type": "markdown",
   "id": "a01f8ebc",
   "metadata": {},
   "source": [
    "Reflection: How does the final model's performance compare to the baseline and the CNN model? What do you think contributed to the final model's performance? If you had time, what other experiments would you run to further improve the model's performance?\n",
    "\n",
    "Final CNN (32 layers, no dropout) model outperformed initial CNN (0.2548 vs. 0.2715 in test loss) and baseline linear model (0.9088 vs. 0.8432 in test accuracy).  Simple, but effective architecture allowed the model to capture spatial hierarchies without unnecessary complexity, balanced filter count (32) and no dropout regularization contributed to the better performance.  To further improve the model's performance, a second Conv2D layer could be added to capture deeper spatial features and patterns, longer training (10-20 epochs) would allow deeper convergence, learning rate schedules could be used to refine optimization."
   ]
  },
  {
   "cell_type": "markdown",
   "id": "01db8512",
   "metadata": {},
   "source": [
    "🚨 **Please review our [Assignment Submission Guide](https://github.com/UofT-DSI/onboarding/blob/main/onboarding_documents/submissions.md)** 🚨 for detailed instructions on how to format, branch, and submit your work. Following these guidelines is crucial for your submissions to be evaluated correctly.\n",
    "### Submission Parameters:\n",
    "* Submission Due Date: `23:59 PM - 26/10/2025`\n",
    "* The branch name for your repo should be: `assignment-1`\n",
    "* What to submit for this assignment:\n",
    "    * This Jupyter Notebook (assignment_1.ipynb)\n",
    "    * The Lab 1 notebook (labs/lab_1.ipynb)\n",
    "    * The Lab 2 notebook (labs/lab_2.ipynb)\n",
    "    * The Lab 3 notebook (labs/lab_3.ipynb)\n",
    "* What the pull request link should look like for this assignment: `https://github.com/<your_github_username>/deep_learning/pull/<pr_id>`\n",
    "* Open a private window in your browser. Copy and paste the link to your pull request into the address bar. Make sure you can see your pull request properly. This helps the technical facilitator and learning support staff review your submission easily.\n",
    "Checklist:\n",
    "- [ ] Created a branch with the correct naming convention.\n",
    "- [ ] Ensured that the repository is public.\n",
    "- [ ] Reviewed the PR description guidelines and adhered to them.\n",
    "- [ ] Verify that the link is accessible in a private browser window.\n",
    "If you encounter any difficulties or have questions, please don't hesitate to reach out to our team via our Slack at `#cohort-7-help-ml`. Our Technical Facilitators and Learning Support staff are here to help you navigate any challenges."
   ]
  }
 ],
 "metadata": {
  "kernelspec": {
   "display_name": "dsi_participant",
   "language": "python",
   "name": "python3"
  },
  "language_info": {
   "codemirror_mode": {
    "name": "ipython",
    "version": 3
   },
   "file_extension": ".py",
   "mimetype": "text/x-python",
   "name": "python",
   "nbconvert_exporter": "python",
   "pygments_lexer": "ipython3",
   "version": "3.13.5"
  }
 },
 "nbformat": 4,
 "nbformat_minor": 5
}
