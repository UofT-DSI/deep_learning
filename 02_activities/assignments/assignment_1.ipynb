{
 "cells": [
  {
   "cell_type": "markdown",
   "id": "ba8ab56f",
   "metadata": {},
   "source": [
    "# Advanced Image Classification with ImageNet"
   ]
  },
  {
   "cell_type": "markdown",
   "id": "7c630244b8fe2847",
   "metadata": {
    "collapsed": false
   },
   "source": [
    "In this assignment, you will be asked to develop a convolutional neural network (CNN) to classify images from the CIFAR-100 dataset. At each step, you'll be guided through the process of developing a model architecture to solve a problem. Your goal is to create a CNN that attains at least 55% accuracy on the validation set.\n",
    "\n",
    "### The CIFAR-100 Dataset\n",
    "\n",
    "The [CIFAR-100 dataset](https://www.cs.toronto.edu/~kriz/cifar.html) consists of 60000 32x32 colour images in 100 classes, with 600 images per class. There are 50000 training images and 10000 test images. The dataset is divided into five training batches and one test batch, each with 10000 images. The test batch contains exactly 1000 randomly-selected images from each class. The training batches contain the remaining images in random order, but some training batches may contain more images from one class than another. Between them, the training batches contain exactly 500 images from each class.\n",
    "\n",
    "### Tools\n",
    "\n",
    "You will use Keras with TensorFlow to develop your CNN. For this assignment, it's strongly recommended that you use a GPU to accelerate your training, or else you might find it difficult to train your network in a reasonable amount of time. If you have a computer with a GPU that you wish to use, you can follow the [TensorFlow instructions](https://www.tensorflow.org/install/) for installing TensorFlow with GPU support. Otherwise, you can use [Google Colab](https://colab.research.google.com/) to complete this assignment. Colab provides free access to GPU-enabled machines. If you run into any issues, please contact us as soon as possible so that we can help you resolve them."
   ]
  },
  {
   "cell_type": "markdown",
   "id": "fab62988ece1528d",
   "metadata": {
    "collapsed": false
   },
   "source": [
    "## Task 1: Data Exploration and Preprocessing (Complete or Incomplete)\n",
    "### 1a: Load and Explore the Dataset\n",
    "- Use the code below to download the dataset.\n",
    "- Explore the dataset: examine the shape of the training and test sets, the dimensions of the images, and the number of classes. Show a few examples from the training set."
   ]
  },
  {
   "cell_type": "code",
   "execution_count": 70,
   "id": "8820fcdc5ae52ae2",
   "metadata": {
    "ExecuteTime": {
     "start_time": "2024-01-26T17:04:08.432758Z"
    },
    "collapsed": false,
    "is_executing": true
   },
   "outputs": [],
   "source": [
    "from keras.datasets import cifar100\n",
    "\n",
    "# Load the CIFAR-100 dataset\n",
    "(x_train, y_train), (x_test, y_test) = cifar100.load_data(label_mode='fine')"
   ]
  },
  {
   "cell_type": "code",
   "execution_count": 71,
   "id": "a386b4072078138f",
   "metadata": {
    "collapsed": false
   },
   "outputs": [
    {
     "name": "stdout",
     "output_type": "stream",
     "text": [
      "(50000, 32, 32, 3)\n",
      "(50000, 1)\n",
      "(10000, 32, 32, 3)\n",
      "(10000, 1)\n"
     ]
    },
    {
     "data": {
      "image/png": "[encoded data removed]",
      "text/plain": [
       "<Figure size 1500x300 with 5 Axes>"
      ]
     },
     "metadata": {},
     "output_type": "display_data"
    }
   ],
   "source": [
    "# Your code here\n",
    "import matplotlib.pyplot as plt\n",
    "import numpy as np\n",
    "\n",
    "print(x_train.shape)\n",
    "print(y_train.shape)\n",
    "print(x_test.shape)\n",
    "print(y_test.shape)\n",
    "\n",
    "plt.figure(figsize=(15, 3))\n",
    "for i in range(5):\n",
    "    plt.subplot(1, 5, i+1)\n",
    "    plt.imshow(x_train[i])\n",
    "    plt.title(f\"Label: {y_train[i][0]}\")\n",
    "    plt.axis('off')"
   ]
  },
  {
   "cell_type": "markdown",
   "id": "ad49291da3a819ea",
   "metadata": {
    "collapsed": false
   },
   "source": [
    "### 1b: Data Preprocessing (4 Marks)\n",
    "- With the data downloaded, it's time to preprocess it. Start by normalizing the images so that they all have pixel values in the range [0, 1].\n",
    "- Next, convert the labels to one-hot encoded vectors.\n",
    "- Finally, split the training set into training and validation sets. Use 80% of the training set for training and the remaining 20% for validation."
   ]
  },
  {
   "cell_type": "code",
   "execution_count": 72,
   "id": "b18c10172fa72d0c",
   "metadata": {
    "collapsed": false
   },
   "outputs": [
    {
     "name": "stdout",
     "output_type": "stream",
     "text": [
      "(10000, 32, 32, 3)\n"
     ]
    }
   ],
   "source": [
    "# Your code here\n",
    "from tensorflow.keras.utils import to_categorical\n",
    "from sklearn.model_selection import train_test_split\n",
    "\n",
    "# Divide by 255 to noramlize between 0 and 1 \n",
    "x_test = x_test.astype('float32') /255\n",
    "x_train = x_train.astype('float32')/255\n",
    "\n",
    "# One hot encoding the target (y) data set, since there are 100 class we set the one hot to 100  \n",
    "y_test = to_categorical(y_test,100) \n",
    "y_train = to_categorical(y_train,100)\n",
    "\n",
    "# split training into validation sets \n",
    "x_train, x_val, y_train, y_val = train_test_split(x_train, y_train, test_size=0.2)\n",
    "\n",
    "print(x_test.shape)"
   ]
  },
  {
   "cell_type": "markdown",
   "id": "5993757f08c89db7",
   "metadata": {
    "collapsed": false
   },
   "source": [
    "## Task 2: Model Development (Complete or Incomplete)\n",
    "### Task 2a: Create a Baseline CNN Model\n",
    "- Design a CNN architecture. Your architecture should use convolutional layers, max pooling layers, and dense layers. You can use any number of layers, and you can experiment with different numbers of filters, filter sizes, strides, padding, etc. The design doesn't need to be perfect, but it should be unique to you.\n",
    "- Print out the model summary."
   ]
  },
  {
   "cell_type": "code",
   "execution_count": 75,
   "id": "c9edafdaf887b8d5",
   "metadata": {
    "collapsed": false
   },
   "outputs": [
    {
     "name": "stdout",
     "output_type": "stream",
     "text": [
      "Model: \"sequential_17\"\n",
      "_________________________________________________________________\n",
      " Layer (type)                Output Shape              Param #   \n",
      "=================================================================\n",
      " conv2d_56 (Conv2D)          (None, 30, 30, 64)        1792      \n",
      "                                                                 \n",
      " conv2d_57 (Conv2D)          (None, 28, 28, 64)        36928     \n",
      "                                                                 \n",
      " max_pooling2d_40 (MaxPoolin  (None, 14, 14, 64)       0         \n",
      " g2D)                                                            \n",
      "                                                                 \n",
      " dropout_17 (Dropout)        (None, 14, 14, 64)        0         \n",
      "                                                                 \n",
      " conv2d_58 (Conv2D)          (None, 12, 12, 128)       73856     \n",
      "                                                                 \n",
      " conv2d_59 (Conv2D)          (None, 10, 10, 128)       147584    \n",
      "                                                                 \n",
      " max_pooling2d_41 (MaxPoolin  (None, 5, 5, 128)        0         \n",
      " g2D)                                                            \n",
      "                                                                 \n",
      " dropout_18 (Dropout)        (None, 5, 5, 128)         0         \n",
      "                                                                 \n",
      " conv2d_60 (Conv2D)          (None, 3, 3, 256)         295168    \n",
      "                                                                 \n",
      " conv2d_61 (Conv2D)          (None, 1, 1, 256)         590080    \n",
      "                                                                 \n",
      " dropout_19 (Dropout)        (None, 1, 1, 256)         0         \n",
      "                                                                 \n",
      " flatten_12 (Flatten)        (None, 256)               0         \n",
      "                                                                 \n",
      " dense_24 (Dense)            (None, 512)               131584    \n",
      "                                                                 \n",
      " dense_25 (Dense)            (None, 100)               51300     \n",
      "                                                                 \n",
      "=================================================================\n",
      "Total params: 1,328,292\n",
      "Trainable params: 1,328,292\n",
      "Non-trainable params: 0\n",
      "_________________________________________________________________\n"
     ]
    }
   ],
   "source": [
    "from keras.models import Sequential\n",
    "from keras.layers import Conv2D, MaxPooling2D, Flatten, Dense, Dropout, BatchNormalization\n",
    "\n",
    "# Your code here\n",
    "\n",
    "model = Sequential()\n",
    "model.add(Conv2D(64, (3,3), activation='relu', input_shape=(32, 32, 3)))\n",
    "model.add(Conv2D(64, (3,3), activation='relu'))\n",
    "model.add(MaxPooling2D(2,2))\n",
    "model.add(Dropout(0.2))\n",
    "\n",
    "model.add(Conv2D(128, (3,3), activation='relu'))\n",
    "model.add(Conv2D(128, (3,3), activation='relu'))\n",
    "model.add(MaxPooling2D(2,2))\n",
    "model.add(Dropout(0.3))\n",
    "\n",
    "model.add(Conv2D(256, (3,3), activation='relu'))\n",
    "model.add(Conv2D(256, (3,3), activation='relu'))\n",
    "model.add(Dropout(0.5))\n",
    "\n",
    "# Add a classifier on top of CNN\n",
    "model.add(Flatten())\n",
    "model.add(Dense(512, activation='relu'))\n",
    "model.add(Dense(100, activation='softmax'))\n",
    "model.summary()"
   ]
  },
  {
   "cell_type": "markdown",
   "id": "546324c007c73db5",
   "metadata": {
    "collapsed": false
   },
   "source": [
    "### Task 2b: Compile the model\n",
    "\n",
    "- Select an appropriate loss function and optimizer for your model. These can be ones we have looked at already, or they can be different. \n",
    "- Briefly explain your choices (one or two sentences each).\n",
    "- <b>Loss function:</b> ______\n",
    "- <b>Optimizer:</b> ______"
   ]
  },
  {
   "cell_type": "code",
   "execution_count": 78,
   "id": "ab39f4ba69d684e9",
   "metadata": {
    "collapsed": false
   },
   "outputs": [],
   "source": [
    "from tensorflow.keras.optimizers import Adam, RMSprop\n",
    "from keras.callbacks import EarlyStopping, ReduceLROnPlateau\n",
    "from tensorflow.keras.preprocessing.image import ImageDataGenerator\n",
    "\n",
    "# Your code here\n",
    "# model needs to classify input data into one of multiple classes so I used categorical_crossentropy and use Adam as it is commonly used.\n",
    "\n",
    "optimizer = Adam(learning_rate = 0.0001)\n",
    "model.compile(optimizer=optimizer, loss='categorical_crossentropy', metrics=['accuracy'])\n",
    "\n",
    "datagen = ImageDataGenerator(\n",
    "    rotation_range=15,\n",
    "    width_shift_range=0.1,\n",
    "    height_shift_range=0.1,\n",
    "    horizontal_flip=True,\n",
    "    vertical_flip=False)\n",
    "\n",
    "datagen.fit(x_train)\n",
    "\n",
    "#early stopping to monitor the validation loss and avoid overfitting\n",
    "early_stop = EarlyStopping(monitor='val_loss', mode='min', verbose=1, patience=10, restore_best_weights=True)\n",
    "\n",
    "#reducing learning rate on plateau\n",
    "rlrop = ReduceLROnPlateau(monitor='val_loss', mode='min', patience= 5, factor= 0.2, min_lr= 1e-5)\n",
    "\n"
   ]
  },
  {
   "cell_type": "markdown",
   "id": "653fba928413b9f6",
   "metadata": {
    "collapsed": false
   },
   "source": [
    "## Task 3: Model Training and Evaluation (Complete or Incomplete)\n",
    "### Task 3a: Train the Model\n",
    "\n",
    "- Train your model for an appropriate number of epochs. Explain your choice of the number of epochs used - you can change this number before submitting your assignment.\n",
    "- Use a batch size of 32.\n",
    "- Use the validation set for validation."
   ]
  },
  {
   "cell_type": "code",
   "execution_count": 79,
   "id": "9de74f274ad08546",
   "metadata": {
    "collapsed": false
   },
   "outputs": [
    {
     "name": "stdout",
     "output_type": "stream",
     "text": [
      "Epoch 1/20\n",
      "1250/1250 [==============================] - 209s 167ms/step - loss: 4.4329 - accuracy: 0.0248 - val_loss: 4.1365 - val_accuracy: 0.0620 - lr: 1.0000e-04\n",
      "Epoch 2/20\n",
      "1250/1250 [==============================] - 351s 281ms/step - loss: 4.0157 - accuracy: 0.0786 - val_loss: 3.7531 - val_accuracy: 0.1254 - lr: 1.0000e-04\n",
      "Epoch 3/20\n",
      "1250/1250 [==============================] - 323s 258ms/step - loss: 3.7748 - accuracy: 0.1159 - val_loss: 3.5325 - val_accuracy: 0.1641 - lr: 1.0000e-04\n",
      "Epoch 4/20\n",
      "1250/1250 [==============================] - 345s 276ms/step - loss: 3.6170 - accuracy: 0.1408 - val_loss: 3.4056 - val_accuracy: 0.1761 - lr: 1.0000e-04\n",
      "Epoch 5/20\n",
      "1250/1250 [==============================] - 367s 293ms/step - loss: 3.4885 - accuracy: 0.1614 - val_loss: 3.3152 - val_accuracy: 0.1986 - lr: 1.0000e-04\n",
      "Epoch 6/20\n",
      "1250/1250 [==============================] - 369s 295ms/step - loss: 3.3731 - accuracy: 0.1825 - val_loss: 3.1676 - val_accuracy: 0.2362 - lr: 1.0000e-04\n",
      "Epoch 7/20\n",
      "1250/1250 [==============================] - 332s 266ms/step - loss: 3.2739 - accuracy: 0.2037 - val_loss: 3.0983 - val_accuracy: 0.2443 - lr: 1.0000e-04\n",
      "Epoch 8/20\n",
      "1250/1250 [==============================] - 307s 246ms/step - loss: 3.1667 - accuracy: 0.2225 - val_loss: 3.0241 - val_accuracy: 0.2534 - lr: 1.0000e-04\n",
      "Epoch 9/20\n",
      "1250/1250 [==============================] - 228s 182ms/step - loss: 3.0761 - accuracy: 0.2382 - val_loss: 2.9159 - val_accuracy: 0.2763 - lr: 1.0000e-04\n",
      "Epoch 10/20\n",
      "1250/1250 [==============================] - 117s 94ms/step - loss: 3.0012 - accuracy: 0.2526 - val_loss: 2.8465 - val_accuracy: 0.2881 - lr: 1.0000e-04\n",
      "Epoch 11/20\n",
      "1250/1250 [==============================] - 116s 92ms/step - loss: 2.9246 - accuracy: 0.2668 - val_loss: 2.7897 - val_accuracy: 0.3043 - lr: 1.0000e-04\n",
      "Epoch 12/20\n",
      "1250/1250 [==============================] - 147s 117ms/step - loss: 2.8593 - accuracy: 0.2790 - val_loss: 2.7462 - val_accuracy: 0.3088 - lr: 1.0000e-04\n",
      "Epoch 13/20\n",
      "1250/1250 [==============================] - 151s 120ms/step - loss: 2.8035 - accuracy: 0.2905 - val_loss: 2.6862 - val_accuracy: 0.3230 - lr: 1.0000e-04\n",
      "Epoch 14/20\n",
      "1250/1250 [==============================] - 1833s 1s/step - loss: 2.7404 - accuracy: 0.3034 - val_loss: 2.6533 - val_accuracy: 0.3272 - lr: 1.0000e-04\n",
      "Epoch 15/20\n",
      "1250/1250 [==============================] - 112s 89ms/step - loss: 2.6824 - accuracy: 0.3155 - val_loss: 2.6176 - val_accuracy: 0.3347 - lr: 1.0000e-04\n",
      "Epoch 16/20\n",
      "1250/1250 [==============================] - 115s 92ms/step - loss: 2.6198 - accuracy: 0.3296 - val_loss: 2.5755 - val_accuracy: 0.3426 - lr: 1.0000e-04\n",
      "Epoch 17/20\n",
      "1250/1250 [==============================] - 136s 109ms/step - loss: 2.5680 - accuracy: 0.3391 - val_loss: 2.5708 - val_accuracy: 0.3412 - lr: 1.0000e-04\n",
      "Epoch 18/20\n",
      "1250/1250 [==============================] - 192s 153ms/step - loss: 2.5151 - accuracy: 0.3523 - val_loss: 2.4966 - val_accuracy: 0.3636 - lr: 1.0000e-04\n",
      "Epoch 19/20\n",
      "1250/1250 [==============================] - 201s 161ms/step - loss: 2.4617 - accuracy: 0.3620 - val_loss: 2.4523 - val_accuracy: 0.3694 - lr: 1.0000e-04\n",
      "Epoch 20/20\n",
      "1250/1250 [==============================] - 201s 161ms/step - loss: 2.4153 - accuracy: 0.3718 - val_loss: 2.4199 - val_accuracy: 0.3727 - lr: 1.0000e-04\n"
     ]
    }
   ],
   "source": [
    "# Your code here\n",
    "# Trial and error to the epoch at first but then I coded for an early end if the rates plateau\n",
    "history = model.fit(x_train, y_train, epochs=20, batch_size=32, validation_data=(x_val, y_val), callbacks=[early_stop,rlrop])"
   ]
  },
  {
   "cell_type": "markdown",
   "id": "b48615c26b99d2e9",
   "metadata": {
    "collapsed": false
   },
   "source": [
    "### Task 3b: Accuracy and other relevant metrics on the test set\n",
    "\n",
    "- Report the accuracy of your model on the test set.\n",
    "- While accuracy is a good metric, there are many other ways to numerically evaluate a model. Report at least one other metric, and explain what it measures and how it is calculated.\n",
    "\n",
    "- <b>Accuracy:</b> ______\n",
    "- <b>Other metric:</b> ______\n",
    "- <b>Reason for selection:</b> _____\n",
    "- <b>Value of metric:</b> ______\n",
    "- <b>Interpretation of metric value:</b> ______"
   ]
  },
  {
   "cell_type": "code",
   "execution_count": 81,
   "id": "f670665fda92fb0e",
   "metadata": {
    "ExecuteTime": {
     "end_time": "2024-01-26T17:49:39.016880Z",
     "start_time": "2024-01-26T17:49:39.012100Z"
    },
    "collapsed": false
   },
   "outputs": [
    {
     "name": "stdout",
     "output_type": "stream",
     "text": [
      "Epoch 1/40\n",
      "1250/1250 [==============================] - 221s 176ms/step - loss: 2.7136 - accuracy: 0.3142 - val_loss: 2.5026 - val_accuracy: 0.3582 - lr: 1.0000e-04\n",
      "Epoch 2/40\n",
      "1250/1250 [==============================] - 313s 250ms/step - loss: 2.6663 - accuracy: 0.3207 - val_loss: 2.4498 - val_accuracy: 0.3701 - lr: 1.0000e-04\n",
      "Epoch 3/40\n",
      "1250/1250 [==============================] - 369s 295ms/step - loss: 2.6299 - accuracy: 0.3262 - val_loss: 2.4880 - val_accuracy: 0.3654 - lr: 1.0000e-04\n",
      "Epoch 4/40\n",
      "1250/1250 [==============================] - 332s 266ms/step - loss: 2.6055 - accuracy: 0.3305 - val_loss: 2.4556 - val_accuracy: 0.3735 - lr: 1.0000e-04\n",
      "Epoch 5/40\n",
      "1250/1250 [==============================] - 307s 246ms/step - loss: 2.5738 - accuracy: 0.3362 - val_loss: 2.3938 - val_accuracy: 0.3859 - lr: 1.0000e-04\n",
      "Epoch 6/40\n",
      "1250/1250 [==============================] - 342s 273ms/step - loss: 2.5304 - accuracy: 0.3492 - val_loss: 2.3632 - val_accuracy: 0.3890 - lr: 1.0000e-04\n",
      "Epoch 7/40\n",
      "1250/1250 [==============================] - 350s 280ms/step - loss: 2.5147 - accuracy: 0.3495 - val_loss: 2.3120 - val_accuracy: 0.3988 - lr: 1.0000e-04\n",
      "Epoch 8/40\n",
      "1250/1250 [==============================] - 301s 241ms/step - loss: 2.4822 - accuracy: 0.3555 - val_loss: 2.3676 - val_accuracy: 0.3885 - lr: 1.0000e-04\n",
      "Epoch 9/40\n",
      "1250/1250 [==============================] - 335s 268ms/step - loss: 2.4611 - accuracy: 0.3587 - val_loss: 2.2692 - val_accuracy: 0.4071 - lr: 1.0000e-04\n",
      "Epoch 10/40\n",
      "1250/1250 [==============================] - 336s 269ms/step - loss: 2.4388 - accuracy: 0.3661 - val_loss: 2.2650 - val_accuracy: 0.4082 - lr: 1.0000e-04\n",
      "Epoch 11/40\n",
      "1250/1250 [==============================] - 323s 258ms/step - loss: 2.4160 - accuracy: 0.3711 - val_loss: 2.2684 - val_accuracy: 0.4066 - lr: 1.0000e-04\n",
      "Epoch 12/40\n",
      "1250/1250 [==============================] - 373s 299ms/step - loss: 2.3874 - accuracy: 0.3749 - val_loss: 2.2965 - val_accuracy: 0.4041 - lr: 1.0000e-04\n",
      "Epoch 13/40\n",
      "1250/1250 [==============================] - 348s 278ms/step - loss: 2.3656 - accuracy: 0.3807 - val_loss: 2.3682 - val_accuracy: 0.3886 - lr: 1.0000e-04\n",
      "Epoch 14/40\n",
      "1250/1250 [==============================] - 328s 262ms/step - loss: 2.3493 - accuracy: 0.3837 - val_loss: 2.2857 - val_accuracy: 0.4079 - lr: 1.0000e-04\n",
      "Epoch 15/40\n",
      "1250/1250 [==============================] - 421s 337ms/step - loss: 2.3273 - accuracy: 0.3893 - val_loss: 2.2212 - val_accuracy: 0.4209 - lr: 1.0000e-04\n",
      "Epoch 16/40\n",
      "1250/1250 [==============================] - 239s 192ms/step - loss: 2.2981 - accuracy: 0.3924 - val_loss: 2.1514 - val_accuracy: 0.4311 - lr: 1.0000e-04\n",
      "Epoch 17/40\n",
      "1250/1250 [==============================] - 316s 253ms/step - loss: 2.2837 - accuracy: 0.3990 - val_loss: 2.4337 - val_accuracy: 0.3903 - lr: 1.0000e-04\n",
      "Epoch 18/40\n",
      "1250/1250 [==============================] - 269s 215ms/step - loss: 2.2663 - accuracy: 0.3982 - val_loss: 2.2651 - val_accuracy: 0.4111 - lr: 1.0000e-04\n",
      "Epoch 19/40\n",
      "1250/1250 [==============================] - 136s 108ms/step - loss: 2.2477 - accuracy: 0.4045 - val_loss: 2.1668 - val_accuracy: 0.4323 - lr: 1.0000e-04\n",
      "Epoch 20/40\n",
      "1250/1250 [==============================] - 138s 111ms/step - loss: 2.2324 - accuracy: 0.4107 - val_loss: 2.1641 - val_accuracy: 0.4332 - lr: 1.0000e-04\n",
      "Epoch 21/40\n",
      "1250/1250 [==============================] - 141s 113ms/step - loss: 2.2122 - accuracy: 0.4125 - val_loss: 2.0914 - val_accuracy: 0.4450 - lr: 1.0000e-04\n",
      "Epoch 22/40\n",
      "1250/1250 [==============================] - 140s 112ms/step - loss: 2.1851 - accuracy: 0.4190 - val_loss: 2.1377 - val_accuracy: 0.4402 - lr: 1.0000e-04\n",
      "Epoch 23/40\n",
      "1250/1250 [==============================] - 164s 131ms/step - loss: 2.1758 - accuracy: 0.4229 - val_loss: 2.2781 - val_accuracy: 0.4193 - lr: 1.0000e-04\n",
      "Epoch 24/40\n",
      "1250/1250 [==============================] - 144s 115ms/step - loss: 2.1513 - accuracy: 0.4268 - val_loss: 2.1019 - val_accuracy: 0.4464 - lr: 1.0000e-04\n",
      "Epoch 25/40\n",
      "1250/1250 [==============================] - 146s 117ms/step - loss: 2.1405 - accuracy: 0.4296 - val_loss: 2.0970 - val_accuracy: 0.4501 - lr: 1.0000e-04\n",
      "Epoch 26/40\n",
      "1250/1250 [==============================] - 143s 114ms/step - loss: 2.1315 - accuracy: 0.4292 - val_loss: 2.1671 - val_accuracy: 0.4393 - lr: 1.0000e-04\n",
      "Epoch 27/40\n",
      "1250/1250 [==============================] - 146s 117ms/step - loss: 2.0307 - accuracy: 0.4511 - val_loss: 2.0856 - val_accuracy: 0.4590 - lr: 2.0000e-05\n",
      "Epoch 28/40\n",
      "1250/1250 [==============================] - 137s 110ms/step - loss: 2.0101 - accuracy: 0.4575 - val_loss: 2.0190 - val_accuracy: 0.4675 - lr: 2.0000e-05\n",
      "Epoch 29/40\n",
      "1250/1250 [==============================] - 156s 125ms/step - loss: 1.9966 - accuracy: 0.4573 - val_loss: 2.0472 - val_accuracy: 0.4606 - lr: 2.0000e-05\n",
      "Epoch 30/40\n",
      "1250/1250 [==============================] - 143s 115ms/step - loss: 1.9946 - accuracy: 0.4631 - val_loss: 2.0789 - val_accuracy: 0.4615 - lr: 2.0000e-05\n",
      "Epoch 31/40\n",
      "1250/1250 [==============================] - 145s 116ms/step - loss: 1.9859 - accuracy: 0.4644 - val_loss: 2.0531 - val_accuracy: 0.4640 - lr: 2.0000e-05\n",
      "Epoch 32/40\n",
      "1250/1250 [==============================] - 144s 115ms/step - loss: 1.9868 - accuracy: 0.4631 - val_loss: 2.0352 - val_accuracy: 0.4654 - lr: 2.0000e-05\n",
      "Epoch 33/40\n",
      "1250/1250 [==============================] - 147s 118ms/step - loss: 1.9835 - accuracy: 0.4651 - val_loss: 2.0097 - val_accuracy: 0.4720 - lr: 2.0000e-05\n",
      "Epoch 34/40\n",
      "1250/1250 [==============================] - 144s 115ms/step - loss: 1.9827 - accuracy: 0.4638 - val_loss: 1.9911 - val_accuracy: 0.4743 - lr: 2.0000e-05\n",
      "Epoch 35/40\n",
      "1250/1250 [==============================] - 145s 116ms/step - loss: 1.9639 - accuracy: 0.4673 - val_loss: 1.9999 - val_accuracy: 0.4732 - lr: 2.0000e-05\n",
      "Epoch 36/40\n",
      "1250/1250 [==============================] - 152s 121ms/step - loss: 1.9582 - accuracy: 0.4688 - val_loss: 2.0066 - val_accuracy: 0.4723 - lr: 2.0000e-05\n",
      "Epoch 37/40\n",
      "1250/1250 [==============================] - 149s 119ms/step - loss: 1.9563 - accuracy: 0.4716 - val_loss: 1.9961 - val_accuracy: 0.4750 - lr: 2.0000e-05\n",
      "Epoch 38/40\n",
      "1250/1250 [==============================] - 235s 188ms/step - loss: 1.9647 - accuracy: 0.4690 - val_loss: 1.9931 - val_accuracy: 0.4753 - lr: 2.0000e-05\n",
      "Epoch 39/40\n",
      "1250/1250 [==============================] - 112s 89ms/step - loss: 1.9495 - accuracy: 0.4707 - val_loss: 2.0145 - val_accuracy: 0.4680 - lr: 2.0000e-05\n",
      "Epoch 40/40\n",
      "1250/1250 [==============================] - 110s 88ms/step - loss: 1.9342 - accuracy: 0.4739 - val_loss: 2.0064 - val_accuracy: 0.4716 - lr: 1.0000e-05\n",
      "313/313 [==============================] - 8s 26ms/step - loss: 1.9822 - accuracy: 0.4784\n",
      "Test accuracy: 0.47839999198913574\n",
      "313/313 [==============================] - 8s 24ms/step\n",
      "Precision: 0.49202474737187535\n"
     ]
    }
   ],
   "source": [
    "# Your code here\n",
    "\n",
    "# Continue training the model for an additional 20 epochs\n",
    "additional_history = model.fit(datagen.flow(x_train, y_train, batch_size=32),\n",
    "                               steps_per_epoch=len(x_train) // 32,\n",
    "                               epochs=40,\n",
    "                               validation_data=(x_val, y_val),\n",
    "                               callbacks=[early_stop, rlrop])\n"
   ]
  },
  {
   "cell_type": "code",
   "execution_count": 83,
   "id": "7895c7df",
   "metadata": {},
   "outputs": [
    {
     "name": "stdout",
     "output_type": "stream",
     "text": [
      "Epoch 1/70\n",
      "1250/1250 [==============================] - 285s 228ms/step - loss: 1.9321 - accuracy: 0.4737 - val_loss: 1.9996 - val_accuracy: 0.4729 - lr: 1.0000e-05\n",
      "Epoch 2/70\n",
      "1250/1250 [==============================] - 303s 242ms/step - loss: 1.9271 - accuracy: 0.4778 - val_loss: 2.0081 - val_accuracy: 0.4745 - lr: 1.0000e-05\n",
      "Epoch 3/70\n",
      "1250/1250 [==============================] - 313s 250ms/step - loss: 1.9250 - accuracy: 0.4747 - val_loss: 2.0039 - val_accuracy: 0.4757 - lr: 1.0000e-05\n",
      "Epoch 4/70\n",
      "1250/1250 [==============================] - 317s 253ms/step - loss: 1.9244 - accuracy: 0.4751 - val_loss: 2.0001 - val_accuracy: 0.4727 - lr: 1.0000e-05\n",
      "Epoch 5/70\n",
      "1250/1250 [==============================] - 342s 273ms/step - loss: 1.9267 - accuracy: 0.4763 - val_loss: 2.0039 - val_accuracy: 0.4746 - lr: 1.0000e-05\n",
      "Epoch 6/70\n",
      "1250/1250 [==============================] - 290s 232ms/step - loss: 1.9253 - accuracy: 0.4753 - val_loss: 1.9955 - val_accuracy: 0.4790 - lr: 1.0000e-05\n",
      "Epoch 7/70\n",
      "1250/1250 [==============================] - 392s 314ms/step - loss: 1.9213 - accuracy: 0.4768 - val_loss: 2.0127 - val_accuracy: 0.4733 - lr: 1.0000e-05\n",
      "Epoch 8/70\n",
      "1250/1250 [==============================] - 339s 272ms/step - loss: 1.9165 - accuracy: 0.4783 - val_loss: 2.0104 - val_accuracy: 0.4738 - lr: 1.0000e-05\n",
      "Epoch 9/70\n",
      "1250/1250 [==============================] - 352s 281ms/step - loss: 1.9165 - accuracy: 0.4764 - val_loss: 1.9551 - val_accuracy: 0.4841 - lr: 1.0000e-05\n",
      "Epoch 10/70\n",
      "1250/1250 [==============================] - 329s 263ms/step - loss: 1.9113 - accuracy: 0.4782 - val_loss: 1.9734 - val_accuracy: 0.4801 - lr: 1.0000e-05\n",
      "Epoch 11/70\n",
      "1250/1250 [==============================] - 288s 231ms/step - loss: 1.9100 - accuracy: 0.4807 - val_loss: 1.9725 - val_accuracy: 0.4825 - lr: 1.0000e-05\n",
      "Epoch 12/70\n",
      "1250/1250 [==============================] - 299s 239ms/step - loss: 1.8976 - accuracy: 0.4825 - val_loss: 1.9914 - val_accuracy: 0.4789 - lr: 1.0000e-05\n",
      "Epoch 13/70\n",
      "1250/1250 [==============================] - 328s 263ms/step - loss: 1.9024 - accuracy: 0.4808 - val_loss: 2.0024 - val_accuracy: 0.4784 - lr: 1.0000e-05\n",
      "Epoch 14/70\n",
      "1250/1250 [==============================] - 305s 244ms/step - loss: 1.8957 - accuracy: 0.4844 - val_loss: 2.0002 - val_accuracy: 0.4753 - lr: 1.0000e-05\n",
      "Epoch 15/70\n",
      "1250/1250 [==============================] - 358s 287ms/step - loss: 1.8965 - accuracy: 0.4846 - val_loss: 2.0002 - val_accuracy: 0.4776 - lr: 1.0000e-05\n",
      "Epoch 16/70\n",
      "1250/1250 [==============================] - 329s 263ms/step - loss: 1.8954 - accuracy: 0.4825 - val_loss: 1.9985 - val_accuracy: 0.4770 - lr: 1.0000e-05\n",
      "Epoch 17/70\n",
      "1250/1250 [==============================] - 293s 234ms/step - loss: 1.8950 - accuracy: 0.4824 - val_loss: 1.9742 - val_accuracy: 0.4818 - lr: 1.0000e-05\n",
      "Epoch 18/70\n",
      "1250/1250 [==============================] - 322s 257ms/step - loss: 1.8965 - accuracy: 0.4839 - val_loss: 1.9417 - val_accuracy: 0.4881 - lr: 1.0000e-05\n",
      "Epoch 19/70\n",
      "1250/1250 [==============================] - 351s 280ms/step - loss: 1.9002 - accuracy: 0.4838 - val_loss: 1.9825 - val_accuracy: 0.4802 - lr: 1.0000e-05\n",
      "Epoch 20/70\n",
      "1250/1250 [==============================] - 285s 228ms/step - loss: 1.8837 - accuracy: 0.4845 - val_loss: 2.0110 - val_accuracy: 0.4744 - lr: 1.0000e-05\n",
      "Epoch 21/70\n",
      "1250/1250 [==============================] - 405s 324ms/step - loss: 1.8930 - accuracy: 0.4835 - val_loss: 1.9636 - val_accuracy: 0.4832 - lr: 1.0000e-05\n",
      "Epoch 22/70\n",
      "1250/1250 [==============================] - 270s 216ms/step - loss: 1.8882 - accuracy: 0.4857 - val_loss: 1.9650 - val_accuracy: 0.4800 - lr: 1.0000e-05\n",
      "Epoch 23/70\n",
      "1250/1250 [==============================] - 292s 234ms/step - loss: 1.8899 - accuracy: 0.4839 - val_loss: 1.9830 - val_accuracy: 0.4807 - lr: 1.0000e-05\n",
      "Epoch 24/70\n",
      "1250/1250 [==============================] - 354s 283ms/step - loss: 1.8852 - accuracy: 0.4863 - val_loss: 1.9762 - val_accuracy: 0.4779 - lr: 1.0000e-05\n",
      "Epoch 25/70\n",
      "1250/1250 [==============================] - 329s 264ms/step - loss: 1.8737 - accuracy: 0.4869 - val_loss: 1.9742 - val_accuracy: 0.4801 - lr: 1.0000e-05\n",
      "Epoch 26/70\n",
      "1250/1250 [==============================] - 296s 237ms/step - loss: 1.8851 - accuracy: 0.4858 - val_loss: 1.9756 - val_accuracy: 0.4838 - lr: 1.0000e-05\n",
      "Epoch 27/70\n",
      "1250/1250 [==============================] - 376s 301ms/step - loss: 1.8741 - accuracy: 0.4873 - val_loss: 1.9935 - val_accuracy: 0.4756 - lr: 1.0000e-05\n",
      "Epoch 28/70\n",
      "1250/1250 [==============================] - ETA: 0s - loss: 1.8775 - accuracy: 0.4888Restoring model weights from the end of the best epoch: 18.\n",
      "1250/1250 [==============================] - 278s 222ms/step - loss: 1.8775 - accuracy: 0.4888 - val_loss: 1.9693 - val_accuracy: 0.4807 - lr: 1.0000e-05\n",
      "Epoch 28: early stopping\n",
      "313/313 [==============================] - 23s 74ms/step - loss: 1.9186 - accuracy: 0.4917\n",
      "Test accuracy: 0.4916999936103821\n",
      "313/313 [==============================] - 23s 73ms/step\n",
      "Precision: 0.4977956160281891\n"
     ]
    }
   ],
   "source": [
    "additional_history_2 = model.fit(datagen.flow(x_train, y_train, batch_size=32),\n",
    "                               steps_per_epoch=len(x_train) // 32,\n",
    "                               epochs=70,\n",
    "                               validation_data=(x_val, y_val),\n",
    "                               callbacks=[early_stop, rlrop])\n",
    "\n",
    "def combine_histories(history1, history2, history3):\n",
    "    combined_history = {}\n",
    "    for key in history1.history.keys():\n",
    "        combined_history[key] = history1.history[key] + history2.history[key] + history3.history[key]\n",
    "    return combined_history\n",
    "\n",
    "combined_history = combine_histories(history, additional_history, additional_history_2)\n",
    "\n",
    "test_loss, test_accuracy = model.evaluate(x_test, y_test)\n",
    "print(f\"Test accuracy: {test_accuracy}\")\n",
    "\n",
    "from sklearn.metrics import precision_score\n",
    "\n",
    "y_pred = np.argmax(model.predict(x_test), axis=-1)\n",
    "y_true = np.argmax(y_test, axis=-1)\n",
    "\n",
    "precision = precision_score(y_true, y_pred, average='macro')\n",
    "print(f\"Precision: {precision}\")"
   ]
  },
  {
   "cell_type": "markdown",
   "id": "58d2d836d4e8ce99",
   "metadata": {
    "collapsed": false
   },
   "source": [
    "### Task 3c: Visualize the model's learning\n",
    "\n",
    "- Plot the training accuracy and validation accuracy with respect to epochs.\n",
    "- Select an image that the model correctly classified in the test set, and an image that the model incorrectly classified in the test set. Plot the images and report the model's classification probabilities for each.\n",
    "- Briefly discuss the results. What do the plots show? Do the results make sense? What do the classification probabilities indicate?"
   ]
  },
  {
   "cell_type": "code",
   "execution_count": 96,
   "id": "c5b214475a496ca5",
   "metadata": {
    "ExecuteTime": {
     "end_time": "2024-01-26T17:50:59.733968Z",
     "start_time": "2024-01-26T17:50:59.730635Z"
    },
    "collapsed": false
   },
   "outputs": [
    {
     "data": {
      "image/png": "[encoded data removed]",
      "text/plain": [
       "<Figure size 640x480 with 1 Axes>"
      ]
     },
     "metadata": {},
     "output_type": "display_data"
    },
    {
     "data": {
      "image/png": "[encoded data removed]",
      "text/plain": [
       "<Figure size 640x480 with 1 Axes>"
      ]
     },
     "metadata": {},
     "output_type": "display_data"
    },
    {
     "data": {
      "image/png": "[encoded data removed]",
      "text/plain": [
       "<Figure size 640x480 with 1 Axes>"
      ]
     },
     "metadata": {},
     "output_type": "display_data"
    },
    {
     "data": {
      "image/png": "[encoded data removed]",
      "text/plain": [
       "<Figure size 640x480 with 1 Axes>"
      ]
     },
     "metadata": {},
     "output_type": "display_data"
    }
   ],
   "source": [
    "# Your code here\n",
    "from tensorflow.keras.models import save_model, load_model\n",
    "\n",
    "def training_plot(history):\n",
    "  acc = history['accuracy']\n",
    "  val_acc = history['val_accuracy']\n",
    "  loss = history['loss']\n",
    "  val_loss = history['val_loss']\n",
    "  epochs = range(1, len(acc) + 1)\n",
    "  plt.plot(epochs, acc, 'bo', label='Training acc')\n",
    "  plt.plot(epochs, val_acc, 'b', label='Validation acc')\n",
    "  plt.title('Training and validation accuracy')\n",
    "  plt.legend()\n",
    "  plt.figure()\n",
    "  plt.plot(epochs, loss, 'bo', label='Training loss')\n",
    "  plt.plot(epochs, val_loss, 'b', label='Validation loss')\n",
    "  plt.ylim(0,6)\n",
    "  plt.title('Training and validation loss')\n",
    "  plt.legend()\n",
    "  plt.show()\n",
    "\n",
    "training_plot(combined_history)\n",
    "\n",
    "correct_idx = np.where(y_pred == y_true)[0]\n",
    "incorrect_idx = np.where(y_pred != y_true)[0]\n",
    "\n",
    "plt.imshow(x_test[correct_idx[0]])\n",
    "plt.title(f\"True: {y_true[correct_idx[0]]}, Predicted: {y_pred[correct_idx[0]]}\")\n",
    "plt.show()\n",
    "\n",
    "plt.imshow(x_test[incorrect_idx[0]])\n",
    "plt.title(f\"True: {y_true[incorrect_idx[0]]}, Predicted: {y_pred[incorrect_idx[0]]}\")\n",
    "plt.show()\n",
    "\n",
    "model.save('feature_focused_model.h5')\n"
   ]
  },
  {
   "cell_type": "markdown",
   "id": "a648758ebea0561d",
   "metadata": {
    "collapsed": false
   },
   "source": [
    "## Task 4: Model Enhancement (Complete or Incomplete)\n",
    "### Task 4a: Implementation of at least one advanced technique\n",
    "\n",
    "- Now it's time to improve your model. Implement at least one technique to improve your model's performance. You can use any of the techniques we have covered in class, or you can use a technique that we haven't covered. If you need inspiration, you can refer to the [Keras documentation](https://keras.io/).\n",
    "- Explain the technique you used and why you chose it.\n",
    "- If you used a technique that requires tuning, explain how you selected the values for the hyperparameters."
   ]
  },
  {
   "cell_type": "code",
   "execution_count": null,
   "id": "f3659ac83122567f",
   "metadata": {
    "collapsed": false
   },
   "outputs": [],
   "source": [
    "# Your code here\n",
    "# I wrote it below, sorry\n"
   ]
  },
  {
   "cell_type": "code",
   "execution_count": null,
   "id": "83968e72",
   "metadata": {},
   "outputs": [],
   "source": []
  },
  {
   "cell_type": "markdown",
   "id": "d9467a483a1dd5d3",
   "metadata": {
    "collapsed": false
   },
   "source": [
    "### Task 4b: Evaluation of the enhanced model\n",
    "\n",
    "- Re-train your model using the same number of epochs as before.\n",
    "- Compare the accuracy and other selected metric on the test set to the results you obtained before.\n",
    "- As before, plot the training accuracy and validation accuracy with respect to epochs, and select an image that the model correctly classified in the test set, and an image that the model incorrectly classified in the test set. Plot the images and report the model's classification probabilities for each."
   ]
  },
  {
   "cell_type": "code",
   "execution_count": 114,
   "id": "7c4701b36dc8fc55",
   "metadata": {
    "collapsed": false
   },
   "outputs": [
    {
     "name": "stdout",
     "output_type": "stream",
     "text": [
      "313/313 [==============================] - 6s 18ms/step\n",
      "313/313 [==============================] - 10s 33ms/step\n",
      "313/313 [==============================] - 5s 16ms/step\n",
      "313/313 [==============================] - 10s 31ms/step\n",
      "313/313 [==============================] - 15s 48ms/step\n",
      "313/313 [==============================] - 6s 20ms/step\n",
      "313/313 [==============================] - 9s 30ms/step\n",
      "313/313 [==============================] - 13s 41ms/step\n",
      "313/313 [==============================] - 14s 44ms/step\n",
      "313/313 [==============================] - 11s 34ms/step\n",
      "313/313 [==============================] - 13s 42ms/step\n",
      "313/313 [==============================] - 10s 30ms/step\n",
      "313/313 [==============================] - 13s 40ms/step\n",
      "313/313 [==============================] - 17s 55ms/step\n",
      "313/313 [==============================] - 14s 44ms/step\n",
      "313/313 [==============================] - 12s 38ms/step\n",
      "313/313 [==============================] - 14s 45ms/step\n",
      "313/313 [==============================] - 16s 50ms/step\n",
      "313/313 [==============================] - 15s 48ms/step\n",
      "313/313 [==============================] - 18s 57ms/step\n",
      "313/313 [==============================] - 15s 48ms/step\n",
      "313/313 [==============================] - 16s 49ms/step\n",
      "313/313 [==============================] - 16s 50ms/step\n",
      "313/313 [==============================] - 15s 49ms/step\n",
      "313/313 [==============================] - 16s 50ms/step\n",
      "313/313 [==============================] - 16s 51ms/step\n",
      "313/313 [==============================] - 16s 51ms/step\n",
      "313/313 [==============================] - 16s 50ms/step\n",
      "313/313 [==============================] - 16s 52ms/step\n",
      "313/313 [==============================] - 16s 51ms/step\n",
      "313/313 [==============================] - 16s 49ms/step\n",
      "313/313 [==============================] - 16s 50ms/step\n",
      "313/313 [==============================] - 16s 50ms/step\n",
      "313/313 [==============================] - 16s 50ms/step\n",
      "313/313 [==============================] - 16s 51ms/step\n",
      "313/313 [==============================] - 16s 50ms/step\n",
      "313/313 [==============================] - 16s 50ms/step\n",
      "313/313 [==============================] - 16s 50ms/step\n",
      "313/313 [==============================] - 16s 51ms/step\n",
      "313/313 [==============================] - 16s 51ms/step\n",
      "313/313 [==============================] - 16s 52ms/step\n",
      "313/313 [==============================] - 16s 51ms/step\n",
      "313/313 [==============================] - 11s 35ms/step\n",
      "313/313 [==============================] - 16s 52ms/step\n",
      "313/313 [==============================] - 16s 51ms/step\n",
      "313/313 [==============================] - 16s 50ms/step\n",
      "313/313 [==============================] - 16s 50ms/step\n",
      "313/313 [==============================] - 15s 49ms/step\n",
      "313/313 [==============================] - 16s 50ms/step\n",
      "313/313 [==============================] - 16s 50ms/step\n",
      "313/313 [==============================] - 15s 48ms/step\n",
      "313/313 [==============================] - 16s 51ms/step\n",
      "313/313 [==============================] - 16s 50ms/step\n",
      "313/313 [==============================] - 16s 50ms/step\n",
      "313/313 [==============================] - 16s 49ms/step\n",
      "313/313 [==============================] - 15s 48ms/step\n",
      "313/313 [==============================] - 16s 52ms/step\n",
      "313/313 [==============================] - 16s 50ms/step\n",
      "313/313 [==============================] - 17s 55ms/step\n",
      "313/313 [==============================] - 16s 50ms/step\n",
      "313/313 [==============================] - 16s 50ms/step\n",
      "313/313 [==============================] - 16s 52ms/step\n",
      "313/313 [==============================] - 16s 52ms/step\n",
      "313/313 [==============================] - 16s 51ms/step\n",
      "313/313 [==============================] - 16s 51ms/step\n",
      "313/313 [==============================] - 16s 50ms/step\n",
      "313/313 [==============================] - 16s 52ms/step\n",
      "313/313 [==============================] - 17s 53ms/step\n",
      "313/313 [==============================] - 16s 52ms/step\n",
      "313/313 [==============================] - 16s 51ms/step\n",
      "313/313 [==============================] - 16s 52ms/step\n",
      "313/313 [==============================] - 16s 50ms/step\n",
      "313/313 [==============================] - 16s 50ms/step\n",
      "313/313 [==============================] - 16s 52ms/step\n",
      "313/313 [==============================] - 16s 50ms/step\n",
      "313/313 [==============================] - 16s 51ms/step\n",
      "313/313 [==============================] - 16s 51ms/step\n",
      "313/313 [==============================] - 16s 51ms/step\n",
      "313/313 [==============================] - 16s 51ms/step\n",
      "313/313 [==============================] - 16s 51ms/step\n",
      "313/313 [==============================] - 17s 54ms/step\n",
      "313/313 [==============================] - 15s 49ms/step\n",
      "313/313 [==============================] - 17s 53ms/step\n",
      "313/313 [==============================] - 16s 51ms/step\n",
      "313/313 [==============================] - 16s 52ms/step\n",
      "313/313 [==============================] - 16s 51ms/step\n",
      "313/313 [==============================] - 16s 50ms/step\n",
      "313/313 [==============================] - 16s 52ms/step\n",
      "313/313 [==============================] - 16s 51ms/step\n",
      "313/313 [==============================] - 17s 53ms/step\n",
      "313/313 [==============================] - 16s 52ms/step\n",
      "313/313 [==============================] - 17s 53ms/step\n",
      "313/313 [==============================] - 16s 52ms/step\n",
      "313/313 [==============================] - 16s 52ms/step\n",
      "313/313 [==============================] - 16s 51ms/step\n",
      "313/313 [==============================] - 13s 42ms/step\n",
      "313/313 [==============================] - 16s 51ms/step\n",
      "313/313 [==============================] - 16s 50ms/step\n",
      "313/313 [==============================] - 16s 50ms/step\n",
      "313/313 [==============================] - 16s 51ms/step\n",
      "TTA test accuracy: 0.527\n"
     ]
    }
   ],
   "source": [
    "# Your code here\n",
    "# Create an ImageDataGenerator instance with the augmentations --> Test-Time Augmentations.\n",
    "tta_datagen = ImageDataGenerator(\n",
    "    rotation_range=15,\n",
    "    width_shift_range=0.1,\n",
    "    height_shift_range=0.1,\n",
    "    horizontal_flip=True,\n",
    "    vertical_flip=False\n",
    ")\n",
    "\n",
    "def tta_predict(model, x_test, num_augmentations=10):\n",
    "    tta_preds = []\n",
    "    for _ in range(num_augmentations):\n",
    "        augmented_images = tta_datagen.flow(x_test, batch_size=x_test.shape[0], shuffle=False)\n",
    "        tta_preds.append(model.predict(augmented_images[0]))\n",
    "    return np.mean(tta_preds, axis=0)\n",
    "\n",
    "tta_predictions = tta_predict(model, x_test, num_augmentations=100)\n",
    "tta_pred_classes = np.argmax(tta_predictions, axis=1)\n",
    "true_classes = np.argmax(y_test, axis=1)\n",
    "\n",
    "tta_accuracy = np.mean(tta_pred_classes == true_classes)\n",
    "print(f\"TTA test accuracy: {tta_accuracy}\")\n"
   ]
  },
  {
   "cell_type": "markdown",
   "id": "eadfc848700215e8",
   "metadata": {
    "collapsed": false
   },
   "source": [
    "### Task 4c: Discussion of the results\n",
    "\n",
    "- Briefly discuss the results. \n",
    "- Did the model's performance improve? \n",
    "- Why do you think this is?\n",
    "- Do you think there is room for further improvement? Why or why not?\n",
    "- What other techniques might you try in the future?\n",
    "- Your answer should be no more than 200 words.\n",
    "\n",
    "# Your answer here\n",
    "Yes the accuracy imporve by 10%, there is great deal of improvement that could be made to the model architecture, but I dont have the run capacity or patience. Test-Time Augmentation makes predictions more robust by considering multiple augmented versions of the input images. As well helping with generalization. \n",
    "\n"
   ]
  },
  {
   "cell_type": "markdown",
   "id": "7415f68f",
   "metadata": {},
   "source": [
    "## Criteria\n",
    "\n",
    "|Criteria|Complete|Incomplete|\n",
    "|----|----|----|\n",
    "|Task 1|The task has been completed successfully and there are no errors.|The task is still incomplete and there is at least one error.|\n",
    "|Task 2|The task has been completed successfully and there are no errors.|The task is still incomplete and there is at least one error.|\n",
    "|Task 3|The task has been completed successfully and there are no errors.|The task is still incomplete and there is at least one error.|\n",
    "|Task 4|The task has been completed successfully and there are no errors.|The task is still incomplete and there is at least one error.|"
   ]
  },
  {
   "cell_type": "markdown",
   "id": "ad0c10bc",
   "metadata": {},
   "source": [
    "## Submission Information\n",
    "\n",
    "🚨 **Please review our [Assignment Submission Guide](https://github.com/UofT-DSI/onboarding/blob/main/onboarding_documents/submissions.md)** 🚨 for detailed instructions on how to format, branch, and submit your work. Following these guidelines is crucial for your submissions to be evaluated correctly.\n",
    "\n",
    "### Submission Parameters:\n",
    "* Submission Due Date: `HH:MM AM/PM - DD/MM/YYYY`\n",
    "* The branch name for your repo should be: `assignment-1`\n",
    "* What to submit for this assignment:\n",
    "    * This Jupyter Notebook (assignment_1.ipynb) should be populated and should be the only change in your pull request.\n",
    "* What the pull request link should look like for this assignment: `https://github.com/<your_github_username>/deep_learning/pull/<pr_id>`\n",
    "    * Open a private window in your browser. Copy and paste the link to your pull request into the address bar. Make sure you can see your pull request properly. This helps the technical facilitator and learning support staff review your submission easily.\n",
    "\n",
    "Checklist:\n",
    "- [ ] Created a branch with the correct naming convention.\n",
    "- [ ] Ensured that the repository is public.\n",
    "- [ ] Reviewed the PR description guidelines and adhered to them.\n",
    "- [ ] Verify that the link is accessible in a private browser window.\n",
    "\n",
    "If you encounter any difficulties or have questions, please don't hesitate to reach out to our team via our Slack at `#cohort-3-help`. Our Technical Facilitators and Learning Support staff are here to help you navigate any challenges."
   ]
  }
 ],
 "metadata": {
  "kernelspec": {
   "display_name": "Python 3 (ipykernel)",
   "language": "python",
   "name": "python3"
  },
  "language_info": {
   "codemirror_mode": {
    "name": "ipython",
    "version": 3
   },
   "file_extension": ".py",
   "mimetype": "text/x-python",
   "name": "python",
   "nbconvert_exporter": "python",
   "pygments_lexer": "ipython3",
   "version": "3.9.15"
  }
 },
 "nbformat": 4,
 "nbformat_minor": 5
}
