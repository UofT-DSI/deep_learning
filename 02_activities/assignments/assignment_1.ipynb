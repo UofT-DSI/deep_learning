{
 "cells": [
  {
   "cell_type": "markdown",
   "id": "927ae8f4",
   "metadata": {},
   "source": [
    "# Assignment 1 - Building a Vision Model with Keras\n",
    "\n",
    "In this assignment, you will build a simple vision model using Keras. The goal is to classify images from the Fashion MNIST dataset, which contains images of clothing items.\n",
    "\n",
    "You will:\n",
    "1. Load and inspect the Fashion MNIST dataset.\n",
    "2. Run a simple baseline model to establish a performance benchmark.\n",
    "3. Build and evaluate a simple CNN model, choosing appropriate loss and metrics.\n",
    "4. Design and run controlled experiments on one hyperparameter (e.g., number of filters, kernel size, etc.) and one regularization technique (e.g., dropout, L2 regularization).\n",
    "5. Analyze the results and visualize the model's performance.\n",
    "\n",
    "# 1. Loading and Inspecting the Dataset\n",
    "\n",
    "Fashion MNIST is a dataset of grayscale images of clothing items, with 10 classes. Each image is 28x28 pixels, like the MNIST dataset of handwritten digits. Keras provides a convenient way to load this dataset. \n",
    "\n",
    "In this section, you should:\n",
    "\n",
    "- [ ] Inspect the shapes of the training and test sets to confirm their size and structure.\n",
    "- [ ] Convert the labels to one-hot encoded format if necessary. (There is a utility function in Keras for this.)\n",
    "- [ ] Visualize a few images from the dataset to understand what the data looks like."
   ]
  },
  {
   "cell_type": "code",
   "execution_count": 2,
   "id": "420c7178",
   "metadata": {},
   "outputs": [],
   "source": [
    "from tensorflow.keras.datasets import fashion_mnist\n",
    "(X_train, y_train), (X_test, y_test) = fashion_mnist.load_data()\n",
    "\n",
    "# Normalize the pixel values to be between 0 and 1\n",
    "X_train = X_train.astype('float32') / 255.0\n",
    "X_test = X_test.astype('float32') / 255.0\n",
    "\n",
    "# Classes in the Fashion MNIST dataset\n",
    "class_names = [\"T-shirt/top\", \"Trouser\", \"Pullover\", \"Dress\", \"Coat\", \"Sandal\", \"Shirt\", \"Sneaker\", \"Bag\", \"Ankle boot\"]"
   ]
  },
  {
   "cell_type": "code",
   "execution_count": 3,
   "id": "a6c89fe7",
   "metadata": {},
   "outputs": [
    {
     "name": "stdout",
     "output_type": "stream",
     "text": [
      "(60000, 28, 28)\n",
      "(60000,)\n",
      "(10000, 28, 28)\n",
      "(10000,)\n"
     ]
    }
   ],
   "source": [
    "# Inspect the shapes of the datasets\n",
    "print(X_train.shape)\n",
    "print(y_train.shape)\n",
    "print(X_test.shape)\n",
    "print(y_test.shape)\n",
    "\n",
    "# Convert labels to one-hot encoding\n",
    "from tensorflow.keras.utils import to_categorical\n",
    "\n",
    "y_train_cat = to_categorical(y_train, num_classes=10)\n",
    "y_test_cat = to_categorical(y_test, num_classes=10)"
   ]
  },
  {
   "cell_type": "code",
   "execution_count": 4,
   "id": "13e100db",
   "metadata": {},
   "outputs": [
    {
     "ename": "",
     "evalue": "",
     "output_type": "error",
     "traceback": [
      "\u001b[1;31mThe Kernel crashed while executing code in the current cell or a previous cell. \n",
      "\u001b[1;31mPlease review the code in the cell(s) to identify a possible cause of the failure. \n",
      "\u001b[1;31mClick <a href='https://aka.ms/vscodeJupyterKernelCrash'>here</a> for more info. \n",
      "\u001b[1;31mView Jupyter <a href='command:jupyter.viewOutput'>log</a> for further details."
     ]
    }
   ],
   "source": [
    "import matplotlib.pyplot as plt\n",
    "# Verify the data looks as expected\n",
    "\n",
    "for i in range(5):\n",
    "    plt.subplot(1, 5, i + 1)  # 1 row, 5 columns\n",
    "    plt.imshow(X_train[i], cmap='gray')\n",
    "    plt.title(class_names[y_train[i]])\n",
    "    \n",
    "plt.show()"
   ]
  },
  {
   "cell_type": "markdown",
   "id": "989f7dd0",
   "metadata": {},
   "source": [
    "Reflection: Does the data look as expected? How is the quality of the images? Are there any issues with the dataset that you notice?\n",
    "\n",
    "**Your answer here**\n",
    "# The data looks good - some confusion between ankle boots vs sandals\n",
    "# quality of image is decent (not great)\n"
   ]
  },
  {
   "cell_type": "code",
   "execution_count": null,
   "id": "fe5bf856",
   "metadata": {},
   "outputs": [],
   "source": []
  },
  {
   "cell_type": "markdown",
   "id": "c9e8ad60",
   "metadata": {},
   "source": [
    "# 2. Baseline Model\n",
    "\n",
    "In this section, you will create a linear regression model as a baseline. This model will not use any convolutional layers, but it will help you understand the performance of a simple model on this dataset.\n",
    "You should:\n",
    "- [ ] Create a simple linear regression model using Keras.\n",
    "- [ ] Compile the model with an appropriate loss function and optimizer.\n",
    "- [ ] Train the model on the training set and evaluate it on the test set.\n",
    "\n",
    "A linear regression model can be created using the `Sequential` API in Keras. Using a single `Dense` layer with no activation function is equivalent to a simple linear regression model. Make sure that the number of units in the output layer matches the number of classes in the dataset.\n",
    "\n",
    "Note that for this step, we will need to use `Flatten` to convert the 2D images into 1D vectors before passing them to the model. Put a `Flatten()` layer as the first layer in your model so that the 2D image data can be flattened into 1D vectors."
   ]
  },
  {
   "cell_type": "code",
   "execution_count": 5,
   "id": "8563a7aa",
   "metadata": {},
   "outputs": [
    {
     "name": "stdout",
     "output_type": "stream",
     "text": [
      "Epoch 1/10\n",
      "1688/1688 [==============================] - 4s 2ms/step - loss: 2.3555 - accuracy: 0.2842 - val_loss: 2.3014 - val_accuracy: 0.1888\n",
      "Epoch 2/10\n",
      "1688/1688 [==============================] - 3s 2ms/step - loss: 2.3028 - accuracy: 0.1739 - val_loss: 2.3022 - val_accuracy: 0.1817\n",
      "Epoch 3/10\n",
      "1688/1688 [==============================] - 3s 2ms/step - loss: 2.3031 - accuracy: 0.1654 - val_loss: 2.3026 - val_accuracy: 0.1698\n",
      "Epoch 4/10\n",
      "1688/1688 [==============================] - 4s 2ms/step - loss: 2.3031 - accuracy: 0.1620 - val_loss: 2.3026 - val_accuracy: 0.1872\n",
      "Epoch 5/10\n",
      "1688/1688 [==============================] - 3s 2ms/step - loss: 2.3027 - accuracy: 0.1820 - val_loss: 2.3026 - val_accuracy: 0.1938\n",
      "Epoch 6/10\n",
      "1688/1688 [==============================] - 3s 2ms/step - loss: 2.3027 - accuracy: 0.1925 - val_loss: 2.3026 - val_accuracy: 0.2197\n",
      "Epoch 7/10\n",
      "1688/1688 [==============================] - 4s 2ms/step - loss: 2.3025 - accuracy: 0.2072 - val_loss: 2.3026 - val_accuracy: 0.2197\n",
      "Epoch 8/10\n",
      "1688/1688 [==============================] - 4s 2ms/step - loss: 2.3025 - accuracy: 0.2073 - val_loss: 2.3026 - val_accuracy: 0.2197\n",
      "Epoch 9/10\n",
      "1688/1688 [==============================] - 4s 2ms/step - loss: 2.3025 - accuracy: 0.2073 - val_loss: 2.3026 - val_accuracy: 0.2197\n",
      "Epoch 10/10\n",
      "1688/1688 [==============================] - 4s 2ms/step - loss: 2.3025 - accuracy: 0.2073 - val_loss: 2.3026 - val_accuracy: 0.2197\n",
      "313/313 [==============================] - 1s 2ms/step - loss: 2.3026 - accuracy: 0.2036\n",
      "accuracy: 0.204\n"
     ]
    }
   ],
   "source": [
    "from keras.models import Sequential\n",
    "from keras.layers import Dense, Flatten\n",
    "from tensorflow.keras.optimizers import Adam\n",
    "\n",
    "from tensorflow.keras.datasets import fashion_mnist\n",
    "(X_train, y_train), (X_test, y_test) = fashion_mnist.load_data()\n",
    "\n",
    "# Normalize the pixel values to be between 0 and 1\n",
    "X_train = X_train.astype('float32') / 255.0\n",
    "X_test = X_test.astype('float32') / 255.0\n",
    "\n",
    "# Classes in the Fashion MNIST dataset\n",
    "class_names = [\"T-shirt/top\", \"Trouser\", \"Pullover\", \"Dress\", \"Coat\", \"Sandal\", \"Shirt\", \"Sneaker\", \"Bag\", \"Ankle boot\"]\n",
    "\n",
    "# Create a simple linear regression model\n",
    "model = Sequential()\n",
    "# You can use `model.add(<layer>)` to add layers to the model\n",
    "model.add(Flatten(input_shape=(28, 28)))\n",
    "model.add(Dense(10))\n",
    "\n",
    "# Compile the model using `model.compile()`\n",
    "model.compile(optimizer=Adam(),\n",
    "              loss='sparse_categorical_crossentropy',\n",
    "              metrics=['accuracy'])\n",
    "\n",
    "# Train the model with `model.fit()`\n",
    "model1 = model.fit(X_train, y_train, epochs=10, batch_size=32, validation_split=0.1)\n",
    "\n",
    "# Evaluate the model with `model.evaluate()`\n",
    "test_loss, test_accuracy = model.evaluate(X_test, y_test)\n",
    "print(f\"accuracy: {test_accuracy:.3f}\")"
   ]
  },
  {
   "cell_type": "markdown",
   "id": "9a07e9f7",
   "metadata": {},
   "source": [
    "Reflection: What is the performance of the baseline model? How does it compare to what you expected? Why do you think the performance is at this level?\n",
    "\n",
    "**Your answer here**"
   ]
  },
  {
   "cell_type": "code",
   "execution_count": null,
   "id": "28777e6f",
   "metadata": {},
   "outputs": [],
   "source": [
    "# The performance of the model is poor and not learning anything as it iterates. We aren't using an \n",
    "# activiation and the images are complex and will need to use ReLu for complex images. \n",
    "# model overall is underfitting\n"
   ]
  },
  {
   "cell_type": "markdown",
   "id": "fa107b59",
   "metadata": {},
   "source": [
    "# 3. Building and Evaluating a Simple CNN Model\n",
    "\n",
    "In this section, you will build a simple Convolutional Neural Network (CNN) model using Keras. A convolutional neural network is a type of deep learning model that is particularly effective for image classification tasks. Unlike the basic neural networks we have built in the labs, CNNs can accept images as input without needing to flatten them into vectors.\n",
    "\n",
    "You should:\n",
    "- [ ] Build a simple CNN model with at least one convolutional layer (to learn spatial hierarchies in images) and one fully connected layer (to make predictions).\n",
    "- [ ] Compile the model with an appropriate loss function and metrics for a multi-class classification problem.\n",
    "- [ ] Train the model on the training set and evaluate it on the test set.\n",
    "\n",
    "Convolutional layers are designed to accept inputs with three dimensions: height, width and channels (e.g., RGB for color images). For grayscale images like those in Fashion MNIST, the input shape will be (28, 28, 1).\n",
    "\n",
    "When you progress from the convolutional layers to the fully connected layers, you will need to flatten the output of the convolutional layers. This can be done using the `Flatten` layer in Keras, which doesn't require any parameters."
   ]
  },
  {
   "cell_type": "code",
   "execution_count": 9,
   "id": "3513cf3d",
   "metadata": {},
   "outputs": [
    {
     "name": "stdout",
     "output_type": "stream",
     "text": [
      "Epoch 1/3\n",
      "844/844 [==============================] - 7s 8ms/step - loss: 0.4713 - accuracy: 0.8367 - val_loss: 0.3750 - val_accuracy: 0.8670\n",
      "Epoch 2/3\n",
      "844/844 [==============================] - 7s 8ms/step - loss: 0.3241 - accuracy: 0.8856 - val_loss: 0.3116 - val_accuracy: 0.8900\n",
      "Epoch 3/3\n",
      "844/844 [==============================] - 7s 8ms/step - loss: 0.2827 - accuracy: 0.9000 - val_loss: 0.2969 - val_accuracy: 0.8937\n",
      "313/313 [==============================] - 8s 26ms/step - loss: 0.3131 - accuracy: 0.8884\n",
      "accuracy: 0.888\n"
     ]
    }
   ],
   "source": [
    "from keras.layers import Conv2D\n",
    "\n",
    "from tensorflow.keras.datasets import fashion_mnist\n",
    "(X_train, y_train), (X_test, y_test) = fashion_mnist.load_data()\n",
    "\n",
    "# Normalize the pixel values to be between 0 and 1\n",
    "X_train = X_train.astype('float32') / 255.0\n",
    "X_test = X_test.astype('float32') / 255.0\n",
    "\n",
    "# Reshape the data to include the channel dimension\n",
    "X_train = X_train.reshape(-1, 28, 28, 1)\n",
    "X_test = X_test.reshape(-1, 28, 28, 1)\n",
    "\n",
    "# Create a simple CNN model\n",
    "model = Sequential()\n",
    "model.add(Conv2D(16, (3, 3), activation='relu', input_shape=(28, 28, 1)))\n",
    "model.add(Flatten())\n",
    "model.add(Dense(10, activation='softmax'))\n",
    "\n",
    "model.compile(optimizer='adam',\n",
    "              loss='sparse_categorical_crossentropy',\n",
    "              metrics=['accuracy'])\n",
    "\n",
    "# Train the model\n",
    "model1 = model.fit(X_train, y_train, epochs=3, batch_size=64, validation_split=0.1)\n",
    "\n",
    "# Evaluate the model\n",
    "\n",
    "test_loss, test_accuracy = model.evaluate(X_test, y_test)\n",
    "print(f\"accuracy: {test_accuracy:.3f}\")"
   ]
  },
  {
   "cell_type": "markdown",
   "id": "fabe379c",
   "metadata": {},
   "source": [
    "Reflection: Did the CNN model perform better than the baseline model? If so, by how much? What do you think contributed to this improvement?\n",
    "\n",
    "**Your answer here**"
   ]
  },
  {
   "cell_type": "code",
   "execution_count": null,
   "id": "e6b3f6ea",
   "metadata": {},
   "outputs": [],
   "source": [
    "# Significant improvement in performance almost 70% highe accuracy \n",
    "# Using convolutional layers it was able to extract the features better and CNN architecture is better\n",
    "# for image classification tasks"
   ]
  },
  {
   "cell_type": "markdown",
   "id": "1a5e2463",
   "metadata": {},
   "source": [
    "# 3. Designing and Running Controlled Experiments\n",
    "\n",
    "In this section, you will design and run controlled experiments to improve the model's performance. You will focus on one hyperparameter and one regularization technique.\n",
    "You should:\n",
    "- [ ] Choose one hyperparameter to experiment with (e.g., number of filters, kernel size, number of layers, etc.) and one regularization technique (e.g., dropout, L2 regularization). For your hyperparameter, you should choose at least three different values to test (but there is no upper limit). For your regularization technique, simply test the presence or absence of the technique.\n",
    "- [ ] Run experiments by modifying the model architecture or hyperparameters, and evaluate the performance of each model on the test set.\n",
    "- [ ] Record the results of your experiments, including the test accuracy and any other relevant metrics.\n",
    "- [ ] Visualize the results of your experiments using plots or tables to compare the performance of different models.\n",
    "\n",
    "The best way to run your experiments is to create a `for` loop that iterates over a range of values for the hyperparameter you are testing. For example, if you are testing different numbers of filters, you can create a loop that runs the model with 32, 64, and 128 filters. Within the loop, you can compile and train the model, then evaluate it on the test set. After each iteration, you can store the results in a list or a dictionary for later analysis.\n",
    "\n",
    "Note: It's critical that you re-initialize the model (by creating a new instance of the model) before each experiment. If you don't, the model will retain the weights from the previous experiment, which can lead to misleading results."
   ]
  },
  {
   "cell_type": "code",
   "execution_count": 11,
   "id": "99d6f46c",
   "metadata": {},
   "outputs": [
    {
     "name": "stdout",
     "output_type": "stream",
     "text": [
      "Epoch 1/3\n",
      "844/844 [==============================] - 10s 11ms/step - loss: 0.4274 - accuracy: 0.8513 - val_loss: 0.3212 - val_accuracy: 0.8843\n",
      "Epoch 2/3\n",
      "844/844 [==============================] - 10s 12ms/step - loss: 0.2904 - accuracy: 0.8961 - val_loss: 0.3116 - val_accuracy: 0.8852\n",
      "Epoch 3/3\n",
      "844/844 [==============================] - 10s 11ms/step - loss: 0.2535 - accuracy: 0.9092 - val_loss: 0.2839 - val_accuracy: 0.9000\n",
      "313/313 [==============================] - 10s 33ms/step - loss: 0.3058 - accuracy: 0.8900\n",
      "accuracy: 0.890\n",
      "Epoch 1/3\n",
      "844/844 [==============================] - 16s 18ms/step - loss: 0.4146 - accuracy: 0.8540 - val_loss: 0.3248 - val_accuracy: 0.8828\n",
      "Epoch 2/3\n",
      "844/844 [==============================] - 14s 17ms/step - loss: 0.2870 - accuracy: 0.8975 - val_loss: 0.2933 - val_accuracy: 0.8970\n",
      "Epoch 3/3\n",
      "844/844 [==============================] - 14s 17ms/step - loss: 0.2449 - accuracy: 0.9119 - val_loss: 0.2962 - val_accuracy: 0.8955\n",
      "313/313 [==============================] - 11s 34ms/step - loss: 0.3098 - accuracy: 0.8921\n",
      "accuracy: 0.892\n",
      "Epoch 1/3\n",
      "844/844 [==============================] - 27s 32ms/step - loss: 0.4032 - accuracy: 0.8583 - val_loss: 0.3286 - val_accuracy: 0.8847\n",
      "Epoch 2/3\n",
      "844/844 [==============================] - 28s 33ms/step - loss: 0.2788 - accuracy: 0.9000 - val_loss: 0.3118 - val_accuracy: 0.8905\n",
      "Epoch 3/3\n",
      "844/844 [==============================] - 30s 35ms/step - loss: 0.2378 - accuracy: 0.9148 - val_loss: 0.2942 - val_accuracy: 0.8973\n",
      "313/313 [==============================] - 7s 21ms/step - loss: 0.3051 - accuracy: 0.8900\n",
      "accuracy: 0.890\n"
     ]
    }
   ],
   "source": [
    "# A. Test Hyperparameters\n",
    "\n",
    "from keras.layers import Conv2D\n",
    "from tensorflow.keras.datasets import fashion_mnist\n",
    "(X_train, y_train), (X_test, y_test) = fashion_mnist.load_data()\n",
    "\n",
    "# Normalize the pixel values to be between 0 and 1\n",
    "X_train = X_train.astype('float32') / 255.0\n",
    "X_test = X_test.astype('float32') / 255.0\n",
    "\n",
    "# Reshape the data to include the channel dimension\n",
    "X_train = X_train.reshape(-1, 28, 28, 1)\n",
    "X_test = X_test.reshape(-1, 28, 28, 1)\n",
    "\n",
    "filter_values = [32, 64, 128]\n",
    "\n",
    "for i in filter_values:\n",
    "\n",
    "    # Create a simple CNN model\n",
    "    model = Sequential()\n",
    "    model.add(Conv2D(i, (3, 3), activation='relu', input_shape=(28, 28, 1)))\n",
    "    model.add(Flatten())\n",
    "    model.add(Dense(10, activation='softmax'))\n",
    "\n",
    "    model.compile(optimizer='adam',\n",
    "                loss='sparse_categorical_crossentropy',\n",
    "                metrics=['accuracy'])\n",
    "\n",
    "    # Train the model\n",
    "    model1 = model.fit(X_train, y_train, epochs=3, batch_size=64, validation_split=0.1)\n",
    "\n",
    "    # Evaluate the model\n",
    "\n",
    "    test_loss, test_accuracy = model.evaluate(X_test, y_test)\n",
    "    print(f\"accuracy: {test_accuracy:.3f}\")\n",
    "\n",
    "\n",
    "\n"
   ]
  },
  {
   "cell_type": "code",
   "execution_count": 12,
   "id": "dc43ac81",
   "metadata": {},
   "outputs": [
    {
     "name": "stdout",
     "output_type": "stream",
     "text": [
      "Epoch 1/3\n",
      "844/844 [==============================] - 16s 18ms/step - loss: 0.4134 - accuracy: 0.8540 - val_loss: 0.3267 - val_accuracy: 0.8858\n",
      "Epoch 2/3\n",
      "844/844 [==============================] - 15s 18ms/step - loss: 0.2875 - accuracy: 0.8977 - val_loss: 0.2929 - val_accuracy: 0.8935\n",
      "Epoch 3/3\n",
      "844/844 [==============================] - 15s 17ms/step - loss: 0.2466 - accuracy: 0.9116 - val_loss: 0.2918 - val_accuracy: 0.9005\n",
      "313/313 [==============================] - 11s 36ms/step - loss: 0.3030 - accuracy: 0.8917\n",
      "accuracy: 0.892\n",
      "Epoch 1/3\n",
      "844/844 [==============================] - 33s 39ms/step - loss: 0.4241 - accuracy: 0.8503 - val_loss: 0.3176 - val_accuracy: 0.8847\n",
      "Epoch 2/3\n",
      "844/844 [==============================] - 31s 36ms/step - loss: 0.3051 - accuracy: 0.8917 - val_loss: 0.2986 - val_accuracy: 0.8937\n",
      "Epoch 3/3\n",
      "844/844 [==============================] - 32s 38ms/step - loss: 0.2744 - accuracy: 0.9001 - val_loss: 0.2952 - val_accuracy: 0.8980\n",
      "313/313 [==============================] - 11s 36ms/step - loss: 0.3107 - accuracy: 0.8894\n",
      "accuracy: 0.889\n"
     ]
    }
   ],
   "source": [
    "# B. Test presence or absence of regularization\n",
    "\n",
    "from keras.layers import Dropout\n",
    "\n",
    "from tensorflow.keras.datasets import fashion_mnist\n",
    "(X_train, y_train), (X_test, y_test) = fashion_mnist.load_data()\n",
    "\n",
    "# Normalize the pixel values to be between 0 and 1\n",
    "X_train = X_train.astype('float32') / 255.0\n",
    "X_test = X_test.astype('float32') / 255.0\n",
    "\n",
    "# Reshape the data to include the channel dimension\n",
    "X_train = X_train.reshape(-1, 28, 28, 1)\n",
    "X_test = X_test.reshape(-1, 28, 28, 1)\n",
    "\n",
    "dropout_options = [False, True]\n",
    "\n",
    "for i in dropout_options:\n",
    "    \n",
    "    # Create a simple CNN model\n",
    "    model = Sequential()\n",
    "    model.add(Conv2D(64, (3, 3), activation='relu', input_shape=(28, 28, 1))) # set to 64 since best performance\n",
    "    if i: # add drop out parameter\n",
    "        model.add(Dropout(0.5))  \n",
    "    model.add(Flatten())\n",
    "    model.add(Dense(10, activation='softmax'))\n",
    "\n",
    "    model.compile(optimizer='adam',\n",
    "                loss='sparse_categorical_crossentropy',\n",
    "                metrics=['accuracy'])\n",
    "\n",
    "    # Train the model\n",
    "    model1 = model.fit(X_train, y_train, epochs=3, batch_size=64, validation_split=0.1)\n",
    "\n",
    "    # Evaluate the model\n",
    "\n",
    "    test_loss, test_accuracy = model.evaluate(X_test, y_test)\n",
    "    print(f\"accuracy: {test_accuracy:.3f}\")"
   ]
  },
  {
   "cell_type": "markdown",
   "id": "cb426f26",
   "metadata": {},
   "source": [
    "Reflection: Report on the performance of the models you tested. Did any of the changes you made improve the model's performance? If so, which ones? What do you think contributed to these improvements? Finally, what combination of hyperparameters and regularization techniques yielded the best performance?\n",
    "\n",
    "**Your answer here**"
   ]
  },
  {
   "cell_type": "code",
   "execution_count": null,
   "id": "233b3f98",
   "metadata": {},
   "outputs": [],
   "source": [
    "# Changing the filter and running with no dropout yielded the best results. \n",
    "# filtering above 64 didn't improve results but increased time. \n",
    "# dropout didn't provide improvement -> could be because my epoch was set to 3...\n",
    "# longer training would help and make dropout useful"
   ]
  },
  {
   "cell_type": "markdown",
   "id": "46c43a3d",
   "metadata": {},
   "source": [
    "# 5. Training Final Model and Evaluation\n",
    "\n",
    "In this section, you will train the final model using the best hyperparameters and regularization techniques you found in the previous section. You should:\n",
    "- [ ] Compile the final model with the best hyperparameters and regularization techniques.\n",
    "- [ ] Train the final model on the training set and evaluate it on the test set.\n",
    "- [ ] Report the final model's performance on the test set, including accuracy and any other relevant metrics."
   ]
  },
  {
   "cell_type": "code",
   "execution_count": 14,
   "id": "31f926d1",
   "metadata": {},
   "outputs": [
    {
     "name": "stdout",
     "output_type": "stream",
     "text": [
      "Epoch 1/10\n",
      "844/844 [==============================] - 42s 49ms/step - loss: 0.4288 - accuracy: 0.8491 - val_loss: 0.3488 - val_accuracy: 0.8738\n",
      "Epoch 2/10\n",
      "844/844 [==============================] - 31s 37ms/step - loss: 0.3106 - accuracy: 0.8889 - val_loss: 0.3085 - val_accuracy: 0.8913\n",
      "Epoch 3/10\n",
      "844/844 [==============================] - 30s 36ms/step - loss: 0.2782 - accuracy: 0.9008 - val_loss: 0.2977 - val_accuracy: 0.8940\n",
      "Epoch 4/10\n",
      "844/844 [==============================] - 30s 36ms/step - loss: 0.2577 - accuracy: 0.9068 - val_loss: 0.2901 - val_accuracy: 0.8977\n",
      "Epoch 5/10\n",
      "844/844 [==============================] - 31s 36ms/step - loss: 0.2410 - accuracy: 0.9127 - val_loss: 0.2943 - val_accuracy: 0.8993\n",
      "Epoch 6/10\n",
      "844/844 [==============================] - 31s 36ms/step - loss: 0.2288 - accuracy: 0.9168 - val_loss: 0.2783 - val_accuracy: 0.9042\n",
      "Epoch 7/10\n",
      "844/844 [==============================] - 31s 36ms/step - loss: 0.2169 - accuracy: 0.9208 - val_loss: 0.2754 - val_accuracy: 0.9035\n",
      "Epoch 8/10\n",
      "844/844 [==============================] - 30s 36ms/step - loss: 0.2086 - accuracy: 0.9251 - val_loss: 0.2836 - val_accuracy: 0.9032\n",
      "Epoch 9/10\n",
      "844/844 [==============================] - 30s 36ms/step - loss: 0.1981 - accuracy: 0.9265 - val_loss: 0.2884 - val_accuracy: 0.9027\n",
      "Epoch 10/10\n",
      "844/844 [==============================] - 31s 37ms/step - loss: 0.1900 - accuracy: 0.9297 - val_loss: 0.2801 - val_accuracy: 0.9062\n",
      "313/313 [==============================] - 11s 35ms/step - loss: 0.2831 - accuracy: 0.9003\n",
      "Final model test accuracy: 0.900\n"
     ]
    }
   ],
   "source": [
    "from keras.models import Sequential\n",
    "from keras.layers import Conv2D, Flatten, Dense, Dropout\n",
    "from tensorflow.keras.datasets import fashion_mnist\n",
    "(X_train, y_train), (X_test, y_test) = fashion_mnist.load_data()\n",
    "\n",
    "# Normalize the pixel values to be between 0 and 1\n",
    "X_train = X_train.astype('float32') / 255.0\n",
    "X_test = X_test.astype('float32') / 255.0\n",
    "\n",
    "# Reshape the data to include the channel dimension\n",
    "X_train = X_train.reshape(-1, 28, 28, 1)\n",
    "X_test = X_test.reshape(-1, 28, 28, 1)\n",
    "\n",
    "# Build model with filter set to 64 and will utilize dropout with larger epoch\n",
    "model = Sequential([\n",
    "    Conv2D(64, (3, 3), activation='relu', input_shape=(28, 28, 1)),\n",
    "    Dropout(0.5),\n",
    "    Flatten(),\n",
    "    Dense(10, activation='softmax')\n",
    "])\n",
    "\n",
    "# Compile the model\n",
    "model.compile(optimizer='adam',\n",
    "              loss='sparse_categorical_crossentropy',\n",
    "              metrics=['accuracy'])\n",
    "\n",
    "# Train the model\n",
    "model1 = model.fit(X_train, y_train, epochs=10, batch_size=64, validation_split=0.1)\n",
    "\n",
    "# Evaluate on test data\n",
    "test_loss, test_accuracy = model.evaluate(X_test, y_test)\n",
    "print(f\"Final model test accuracy: {test_accuracy:.3f}\")"
   ]
  },
  {
   "cell_type": "markdown",
   "id": "a01f8ebc",
   "metadata": {},
   "source": [
    "Reflection: How does the final model's performance compare to the baseline and the CNN model? What do you think contributed to the final model's performance? If you had time, what other experiments would you run to further improve the model's performance?\n",
    "\n",
    "**Your answer here**"
   ]
  },
  {
   "cell_type": "code",
   "execution_count": 15,
   "id": "4b960bd6",
   "metadata": {},
   "outputs": [],
   "source": [
    "# The final model is superior achieving an accuracy of 90%\n",
    "# I think the dropouthelped with generalization \n",
    "# If I had more time I would try to tune the dropout and increase training epoch\n",
    "# maybe batch normalization to boost performance\n"
   ]
  },
  {
   "cell_type": "markdown",
   "id": "01db8512",
   "metadata": {},
   "source": [
    "🚨 **Please review our [Assignment Submission Guide](https://github.com/UofT-DSI/onboarding/blob/main/onboarding_documents/submissions.md)** 🚨 for detailed instructions on how to format, branch, and submit your work. Following these guidelines is crucial for your submissions to be evaluated correctly.\n",
    "### Submission Parameters:\n",
    "* Submission Due Date: `23:59 PM - 06/07/2025`\n",
    "* The branch name for your repo should be: `assignment-1`\n",
    "* What to submit for this assignment:\n",
    "    * This Jupyter Notebook (assignment_1.ipynb)\n",
    "    * The Lab 1 notebook (labs/lab_1.ipynb)\n",
    "    * The Lab 2 notebook (labs/lab_2.ipynb)\n",
    "* What the pull request link should look like for this assignment: `https://github.com/<your_github_username>/deep_learning/pull/<pr_id>`\n",
    "* Open a private window in your browser. Copy and paste the link to your pull request into the address bar. Make sure you can see your pull request properly. This helps the technical facilitator and learning support staff review your submission easily.\n",
    "Checklist:\n",
    "- [ ] Created a branch with the correct naming convention.\n",
    "- [ ] Ensured that the repository is public.\n",
    "- [ ] Reviewed the PR description guidelines and adhered to them.\n",
    "- [ ] Verify that the link is accessible in a private browser window.\n",
    "If you encounter any difficulties or have questions, please don't hesitate to reach out to our team via our Slack at `#cohort-6-ml-help`. Our Technical Facilitators and Learning Support staff are here to help you navigate any challenges."
   ]
  }
 ],
 "metadata": {
  "kernelspec": {
   "display_name": "dsi_participant",
   "language": "python",
   "name": "python3"
  },
  "language_info": {
   "codemirror_mode": {
    "name": "ipython",
    "version": 3
   },
   "file_extension": ".py",
   "mimetype": "text/x-python",
   "name": "python",
   "nbconvert_exporter": "python",
   "pygments_lexer": "ipython3",
   "version": "3.9.15"
  }
 },
 "nbformat": 4,
 "nbformat_minor": 5
}
