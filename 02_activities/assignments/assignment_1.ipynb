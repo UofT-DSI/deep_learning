{
 "cells": [
  {
   "cell_type": "markdown",
   "id": "ba8ab56f",
   "metadata": {},
   "source": [
    "# Advanced Image Classification with ImageNet"
   ]
  },
  {
   "cell_type": "markdown",
   "id": "7c630244b8fe2847",
   "metadata": {
    "collapsed": false
   },
   "source": [
    "In this assignment, you will be asked to develop a convolutional neural network (CNN) to classify images from the CIFAR-100 dataset. At each step, you'll be guided through the process of developing a model architecture to solve a problem. Your goal is to create a CNN that attains at least 55% accuracy on the validation set.\n",
    "\n",
    "### The CIFAR-100 Dataset\n",
    "\n",
    "The [CIFAR-100 dataset](https://www.cs.toronto.edu/~kriz/cifar.html) consists of 60000 32x32 colour images in 100 classes, with 600 images per class. There are 50000 training images and 10000 test images. The dataset is divided into five training batches and one test batch, each with 10000 images. The test batch contains exactly 1000 randomly-selected images from each class. The training batches contain the remaining images in random order, but some training batches may contain more images from one class than another. Between them, the training batches contain exactly 500 images from each class.\n",
    "\n",
    "### Tools\n",
    "\n",
    "You will use Keras with TensorFlow to develop your CNN. For this assignment, it's strongly recommended that you use a GPU to accelerate your training, or else you might find it difficult to train your network in a reasonable amount of time. If you have a computer with a GPU that you wish to use, you can follow the [TensorFlow instructions](https://www.tensorflow.org/install/) for installing TensorFlow with GPU support. Otherwise, you can use [Google Colab](https://colab.research.google.com/) to complete this assignment. Colab provides free access to GPU-enabled machines. If you run into any issues, please contact us as soon as possible so that we can help you resolve them."
   ]
  },
  {
   "cell_type": "markdown",
   "id": "fab62988ece1528d",
   "metadata": {
    "collapsed": false
   },
   "source": [
    "## Task 1: Data Exploration and Preprocessing (Complete or Incomplete)\n",
    "### 1a: Load and Explore the Dataset\n",
    "- Use the code below to download the dataset.\n",
    "- Explore the dataset: examine the shape of the training and test sets, the dimensions of the images, and the number of classes. Show a few examples from the training set."
   ]
  },
  {
   "cell_type": "code",
   "execution_count": 1,
   "id": "8820fcdc5ae52ae2",
   "metadata": {
    "ExecuteTime": {
     "start_time": "2024-01-26T17:04:08.432758Z"
    },
    "collapsed": false,
    "is_executing": true
   },
   "outputs": [
    {
     "name": "stdout",
     "output_type": "stream",
     "text": [
      "Downloading data from https://www.cs.toronto.edu/~kriz/cifar-100-python.tar.gz\n",
      "169001437/169001437 [==============================] - 5s 0us/step\n"
     ]
    }
   ],
   "source": [
    "from keras.datasets import cifar100\n",
    "import numpy as np\n",
    "import matplotlib.pyplot as plt\n",
    "\n",
    "# Load the CIFAR-100 dataset\n",
    "(x_train, y_train), (x_test, y_test) = cifar100.load_data(label_mode='fine')"
   ]
  },
  {
   "cell_type": "code",
   "execution_count": 4,
   "id": "a386b4072078138f",
   "metadata": {
    "collapsed": false
   },
   "outputs": [
    {
     "name": "stdout",
     "output_type": "stream",
     "text": [
      "Training set shape: (50000, 32, 32, 3)\n",
      "Training labels shape: (50000, 1)\n",
      "Test set shape: (10000, 32, 32, 3)\n",
      "Test labels shape: (10000, 1)\n",
      "Number of classes: 100\n"
     ]
    }
   ],
   "source": [
    "# Your code here\n",
    "print(\"Training set shape:\", x_train.shape)\n",
    "print(\"Training labels shape:\", y_train.shape)\n",
    "print(\"Test set shape:\", x_test.shape)\n",
    "print(\"Test labels shape:\", y_test.shape)\n",
    "\n",
    "# Print some basic information\n",
    "print(\"Number of classes:\", len(np.unique(y_train)))\n",
    "\n",
    "# Show a few examples from the training set\n",
    "def plot_images(images, labels, class_names, num_images=5):\n",
    "    plt.figure(figsize=(10, 2))\n",
    "    for i in range(num_images):\n",
    "        plt.subplot(1, num_images, i + 1)\n",
    "        plt.imshow(images[i])\n",
    "        plt.title(class_names[labels[i][0]])\n",
    "        plt.axis('off')\n",
    "    plt.show()\n"
   ]
  },
  {
   "cell_type": "code",
   "execution_count": 5,
   "id": "7c4bf7f6",
   "metadata": {},
   "outputs": [
    {
     "data": {
      "image/png": "[encoded data removed]",
      "text/plain": [
       "<Figure size 1000x200 with 5 Axes>"
      ]
     },
     "metadata": {},
     "output_type": "display_data"
    }
   ],
   "source": [
    "class_names = np.array([\n",
    "     'apple', 'aquarium_fish', 'baby', 'bear', 'beaver', 'bed', 'bee', 'beetle',\n",
    "    'bicycle', 'bottle', 'bowl', 'boy', 'bridge', 'bus', 'butterfly', 'camel',\n",
    "    'can', 'castle', 'caterpillar', 'cattle', 'chair', 'chimpanzee', 'clock',\n",
    "    'cloud', 'cockroach', 'couch', 'cra', 'crocodile', 'cup', 'dinosaur',\n",
    "    'dolphin', 'elephant', 'flatfish', 'forest', 'fox', 'girl', 'hamster',\n",
    "    'house', 'kangaroo', 'keyboard', 'lamp', 'lawn_mower', 'leopard', 'lion',\n",
    "    'lizard', 'lobster', 'man', 'maple_tree', 'motorcycle', 'mountain', 'mouse',\n",
    "    'mushroom', 'oak_tree', 'orange', 'orchid', 'otter', 'palm_tree', 'pear',\n",
    "    'pickup_truck', 'pine_tree', 'plain', 'plate', 'poppy', 'porcupine', 'possum',\n",
    "    'rabbit', 'raccoon', 'ray', 'road', 'rocket', 'rose', 'sea', 'seal', 'shark',\n",
    "    'shrew', 'skunk', 'skyscraper', 'snail', 'snake', 'spider', 'squirrel',\n",
    "    'streetcar', 'sunflower', 'sweet_pepper', 'table', 'tank', 'telephone',\n",
    "    'television', 'tiger', 'tractor', 'train', 'trout', 'tulip', 'turtle',\n",
    "    'wardrobe', 'whale', 'willow_tree', 'wolf', 'woman', 'worm'\n",
    "])\n",
    "\n",
    "# Display some example images from the training set\n",
    "plot_images(x_train, y_train, class_names, num_images=5)"
   ]
  },
  {
   "cell_type": "markdown",
   "id": "ad49291da3a819ea",
   "metadata": {
    "collapsed": false
   },
   "source": [
    "### 1b: Data Preprocessing (4 Marks)\n",
    "- With the data downloaded, it's time to preprocess it. Start by normalizing the images so that they all have pixel values in the range [0, 1].\n",
    "- Next, convert the labels to one-hot encoded vectors.\n",
    "- Finally, split the training set into training and validation sets. Use 80% of the training set for training and the remaining 20% for validation."
   ]
  },
  {
   "cell_type": "code",
   "execution_count": 6,
   "id": "b18c10172fa72d0c",
   "metadata": {
    "collapsed": false
   },
   "outputs": [],
   "source": [
    "# Your code here\n",
    "num_classes = len(class_names)  "
   ]
  },
  {
   "cell_type": "code",
   "execution_count": 8,
   "id": "fd7998f4",
   "metadata": {},
   "outputs": [
    {
     "name": "stdout",
     "output_type": "stream",
     "text": [
      "Class index 0: apple\n",
      "Class index 1: aquarium_fish\n",
      "Class index 2: baby\n",
      "Class index 3: bear\n",
      "Class index 4: beaver\n",
      "Class index 5: bed\n",
      "Class index 6: bee\n",
      "Class index 7: beetle\n",
      "Class index 8: bicycle\n",
      "Class index 9: bottle\n",
      "Class index 10: bowl\n",
      "Class index 11: boy\n",
      "Class index 12: bridge\n",
      "Class index 13: bus\n",
      "Class index 14: butterfly\n",
      "Class index 15: camel\n",
      "Class index 16: can\n",
      "Class index 17: castle\n",
      "Class index 18: caterpillar\n",
      "Class index 19: cattle\n",
      "Class index 20: chair\n",
      "Class index 21: chimpanzee\n",
      "Class index 22: clock\n",
      "Class index 23: cloud\n",
      "Class index 24: cockroach\n",
      "Class index 25: couch\n",
      "Class index 26: cra\n",
      "Class index 27: crocodile\n",
      "Class index 28: cup\n",
      "Class index 29: dinosaur\n",
      "Class index 30: dolphin\n",
      "Class index 31: elephant\n",
      "Class index 32: flatfish\n",
      "Class index 33: forest\n",
      "Class index 34: fox\n",
      "Class index 35: girl\n",
      "Class index 36: hamster\n",
      "Class index 37: house\n",
      "Class index 38: kangaroo\n",
      "Class index 39: keyboard\n",
      "Class index 40: lamp\n",
      "Class index 41: lawn_mower\n",
      "Class index 42: leopard\n",
      "Class index 43: lion\n",
      "Class index 44: lizard\n",
      "Class index 45: lobster\n",
      "Class index 46: man\n",
      "Class index 47: maple_tree\n",
      "Class index 48: motorcycle\n",
      "Class index 49: mountain\n",
      "Class index 50: mouse\n",
      "Class index 51: mushroom\n",
      "Class index 52: oak_tree\n",
      "Class index 53: orange\n",
      "Class index 54: orchid\n",
      "Class index 55: otter\n",
      "Class index 56: palm_tree\n",
      "Class index 57: pear\n",
      "Class index 58: pickup_truck\n",
      "Class index 59: pine_tree\n",
      "Class index 60: plain\n",
      "Class index 61: plate\n",
      "Class index 62: poppy\n",
      "Class index 63: porcupine\n",
      "Class index 64: possum\n",
      "Class index 65: rabbit\n",
      "Class index 66: raccoon\n",
      "Class index 67: ray\n",
      "Class index 68: road\n",
      "Class index 69: rocket\n",
      "Class index 70: rose\n",
      "Class index 71: sea\n",
      "Class index 72: seal\n",
      "Class index 73: shark\n",
      "Class index 74: shrew\n",
      "Class index 75: skunk\n",
      "Class index 76: skyscraper\n",
      "Class index 77: snail\n",
      "Class index 78: snake\n",
      "Class index 79: spider\n",
      "Class index 80: squirrel\n",
      "Class index 81: streetcar\n",
      "Class index 82: sunflower\n",
      "Class index 83: sweet_pepper\n",
      "Class index 84: table\n",
      "Class index 85: tank\n",
      "Class index 86: telephone\n",
      "Class index 87: television\n",
      "Class index 88: tiger\n",
      "Class index 89: tractor\n",
      "Class index 90: train\n",
      "Class index 91: trout\n",
      "Class index 92: tulip\n",
      "Class index 93: turtle\n",
      "Class index 94: wardrobe\n",
      "Class index 95: whale\n",
      "Class index 96: willow_tree\n",
      "Class index 97: wolf\n",
      "Class index 98: woman\n",
      "Class index 99: worm\n"
     ]
    }
   ],
   "source": [
    "for i, name in enumerate(class_names):\n",
    "    print(f\"Class index {i}: {name}\")"
   ]
  },
  {
   "cell_type": "code",
   "execution_count": 10,
   "id": "3ef11487",
   "metadata": {},
   "outputs": [
    {
     "name": "stdout",
     "output_type": "stream",
     "text": [
      "Unique labels in y_train: [ 0  1  2  3  4  5  6  7  8  9 10 11 12 13 14 15 16 17 18 19 20 21 22 23\n",
      " 24 25 26 27 28 29 30 31 32 33 34 35 36 37 38 39 40 41 42 43 44 45 46 47\n",
      " 48 49 50 51 52 53 54 55 56 57 58 59 60 61 62 63 64 65 66 67 68 69 70 71\n",
      " 72 73 74 75 76 77 78 79 80 81 82 83 84 85 86 87 88 89 90 91 92 93 94 95\n",
      " 96 97 98 99]\n",
      "Number of unique labels: 100\n",
      "Training set shape (images): (40000, 32, 32, 3)\n",
      "Training set shape (labels): (40000, 100)\n",
      "Validation set shape (images): (10000, 32, 32, 3)\n",
      "Validation set shape (labels): (10000, 100)\n",
      "Test set shape (images): (10000, 32, 32, 3)\n",
      "Test set shape (labels): (10000, 100)\n"
     ]
    }
   ],
   "source": [
    "from sklearn.model_selection import train_test_split\n",
    "from tensorflow.keras.utils import to_categorical\n",
    "\n",
    "# Verify number of unique labels\n",
    "unique_train_labels = np.unique(y_train)\n",
    "print(\"Unique labels in y_train:\", unique_train_labels)\n",
    "print(\"Number of unique labels:\", len(unique_train_labels))\n",
    "\n",
    "# Ensure the number of classes matches the length of class_names\n",
    "num_classes = len(class_names)  # This should match the number of unique labels\n",
    "if num_classes != len(unique_train_labels):\n",
    "    raise ValueError(f\"Number of classes ({num_classes}) does not match number of unique labels ({len(unique_train_labels)})\")\n",
    "\n",
    "# Step 1: Normalize the images\n",
    "x_train_normalized = x_train.astype('float32') / 255.0\n",
    "x_test_normalized = x_test.astype('float32') / 255.0\n",
    "\n",
    "# Step 2: Convert labels to one-hot encoded vectors\n",
    "y_train_one_hot = to_categorical(y_train, num_classes=num_classes)\n",
    "y_test_one_hot = to_categorical(y_test, num_classes=num_classes)\n",
    "\n",
    "# Step 3: Split the training set into training and validation sets\n",
    "x_train_split, x_val_split, y_train_split, y_val_split = train_test_split(\n",
    "    x_train_normalized, y_train_one_hot, test_size=0.2, random_state=42\n",
    ")\n",
    "\n",
    "# Print the shapes of the datasets to verify\n",
    "print(\"Training set shape (images):\", x_train_split.shape)\n",
    "print(\"Training set shape (labels):\", y_train_split.shape)\n",
    "print(\"Validation set shape (images):\", x_val_split.shape)\n",
    "print(\"Validation set shape (labels):\", y_val_split.shape)\n",
    "print(\"Test set shape (images):\", x_test_normalized.shape)\n",
    "print(\"Test set shape (labels):\", y_test_one_hot.shape)"
   ]
  },
  {
   "cell_type": "markdown",
   "id": "5993757f08c89db7",
   "metadata": {
    "collapsed": false
   },
   "source": [
    "## Task 2: Model Development (Complete or Incomplete)\n",
    "### Task 2a: Create a Baseline CNN Model\n",
    "- Design a CNN architecture. Your architecture should use convolutional layers, max pooling layers, and dense layers. You can use any number of layers, and you can experiment with different numbers of filters, filter sizes, strides, padding, etc. The design doesn't need to be perfect, but it should be unique to you.\n",
    "- Print out the model summary."
   ]
  },
  {
   "cell_type": "code",
   "execution_count": 11,
   "id": "c9edafdaf887b8d5",
   "metadata": {
    "collapsed": false
   },
   "outputs": [
    {
     "name": "stdout",
     "output_type": "stream",
     "text": [
      "Model: \"sequential\"\n",
      "_________________________________________________________________\n",
      " Layer (type)                Output Shape              Param #   \n",
      "=================================================================\n",
      " conv2d (Conv2D)             (None, 30, 30, 32)        896       \n",
      "                                                                 \n",
      " max_pooling2d (MaxPooling2  (None, 15, 15, 32)        0         \n",
      " D)                                                              \n",
      "                                                                 \n",
      " conv2d_1 (Conv2D)           (None, 13, 13, 64)        18496     \n",
      "                                                                 \n",
      " max_pooling2d_1 (MaxPoolin  (None, 6, 6, 64)          0         \n",
      " g2D)                                                            \n",
      "                                                                 \n",
      " conv2d_2 (Conv2D)           (None, 4, 4, 128)         73856     \n",
      "                                                                 \n",
      " max_pooling2d_2 (MaxPoolin  (None, 2, 2, 128)         0         \n",
      " g2D)                                                            \n",
      "                                                                 \n",
      " flatten (Flatten)           (None, 512)               0         \n",
      "                                                                 \n",
      " dense (Dense)               (None, 128)               65664     \n",
      "                                                                 \n",
      " dropout (Dropout)           (None, 128)               0         \n",
      "                                                                 \n",
      " dense_1 (Dense)             (None, 100)               12900     \n",
      "                                                                 \n",
      "=================================================================\n",
      "Total params: 171812 (671.14 KB)\n",
      "Trainable params: 171812 (671.14 KB)\n",
      "Non-trainable params: 0 (0.00 Byte)\n",
      "_________________________________________________________________\n"
     ]
    }
   ],
   "source": [
    "from keras.models import Sequential\n",
    "from keras.layers import Conv2D, MaxPooling2D, Flatten, Dense, Dropout\n",
    "\n",
    "# Your code here\n",
    "# Create a CNN model\n",
    "model = Sequential()\n",
    "\n",
    "# Convolutional Layer 1\n",
    "model.add(Conv2D(32, (3, 3), activation='relu', input_shape=(32, 32, 3)))\n",
    "model.add(MaxPooling2D((2, 2)))\n",
    "\n",
    "# Convolutional Layer 2\n",
    "model.add(Conv2D(64, (3, 3), activation='relu'))\n",
    "model.add(MaxPooling2D((2, 2)))\n",
    "\n",
    "# Convolutional Layer 3\n",
    "model.add(Conv2D(128, (3, 3), activation='relu'))\n",
    "model.add(MaxPooling2D((2, 2)))\n",
    "\n",
    "# Flattening Layer\n",
    "model.add(Flatten())\n",
    "\n",
    "# Dense Layer 1\n",
    "model.add(Dense(128, activation='relu'))\n",
    "model.add(Dropout(0.5))  # Dropout for regularization\n",
    "\n",
    "# Output Layer\n",
    "model.add(Dense(num_classes, activation='softmax'))\n",
    "\n",
    "# Print the model summary\n",
    "model.summary()"
   ]
  },
  {
   "cell_type": "markdown",
   "id": "546324c007c73db5",
   "metadata": {
    "collapsed": false
   },
   "source": [
    "### Task 2b: Compile the model\n",
    "\n",
    "- Select an appropriate loss function and optimizer for your model. These can be ones we have looked at already, or they can be different. \n",
    "- Briefly explain your choices (one or two sentences each).\n",
    "- <b>Loss function:</b> ______\n",
    "- <b>Optimizer:</b> ______"
   ]
  },
  {
   "cell_type": "code",
   "execution_count": 12,
   "id": "ab39f4ba69d684e9",
   "metadata": {
    "collapsed": false
   },
   "outputs": [
    {
     "name": "stderr",
     "output_type": "stream",
     "text": [
      "WARNING:absl:At this time, the v2.11+ optimizer `tf.keras.optimizers.Adam` runs slowly on M1/M2 Macs, please use the legacy Keras optimizer instead, located at `tf.keras.optimizers.legacy.Adam`.\n"
     ]
    }
   ],
   "source": [
    "from keras import optimizers\n",
    "\n",
    "# Your code here\n",
    "# Compile the model\n",
    "model.compile(\n",
    "    optimizer=optimizers.Adam(),\n",
    "    loss='categorical_crossentropy',\n",
    "    metrics=['accuracy']\n",
    ")"
   ]
  },
  {
   "cell_type": "markdown",
   "id": "653fba928413b9f6",
   "metadata": {
    "collapsed": false
   },
   "source": [
    "## Task 3: Model Training and Evaluation (Complete or Incomplete)\n",
    "### Task 3a: Train the Model\n",
    "\n",
    "- Train your model for an appropriate number of epochs. Explain your choice of the number of epochs used - you can change this number before submitting your assignment.\n",
    "- Use a batch size of 32.\n",
    "- Use the validation set for validation."
   ]
  },
  {
   "cell_type": "code",
   "execution_count": 13,
   "id": "9de74f274ad08546",
   "metadata": {
    "collapsed": false
   },
   "outputs": [
    {
     "name": "stdout",
     "output_type": "stream",
     "text": [
      "Epoch 1/20\n",
      "1250/1250 [==============================] - 16s 12ms/step - loss: 4.2557 - accuracy: 0.0471 - val_loss: 3.8201 - val_accuracy: 0.1203\n",
      "Epoch 2/20\n",
      "1250/1250 [==============================] - 16s 13ms/step - loss: 3.8227 - accuracy: 0.1073 - val_loss: 3.5674 - val_accuracy: 0.1574\n",
      "Epoch 3/20\n",
      "1250/1250 [==============================] - 16s 13ms/step - loss: 3.5986 - accuracy: 0.1409 - val_loss: 3.3124 - val_accuracy: 0.1998\n",
      "Epoch 4/20\n",
      "1250/1250 [==============================] - 18s 14ms/step - loss: 3.4265 - accuracy: 0.1714 - val_loss: 3.1687 - val_accuracy: 0.2278\n",
      "Epoch 5/20\n",
      "1250/1250 [==============================] - 16s 13ms/step - loss: 3.3003 - accuracy: 0.2003 - val_loss: 3.0510 - val_accuracy: 0.2549\n",
      "Epoch 6/20\n",
      "1250/1250 [==============================] - 16s 13ms/step - loss: 3.1980 - accuracy: 0.2142 - val_loss: 3.0603 - val_accuracy: 0.2454\n",
      "Epoch 7/20\n",
      "1250/1250 [==============================] - 16s 13ms/step - loss: 3.1054 - accuracy: 0.2316 - val_loss: 2.9091 - val_accuracy: 0.2821\n",
      "Epoch 8/20\n",
      "1250/1250 [==============================] - 16s 13ms/step - loss: 3.0341 - accuracy: 0.2445 - val_loss: 2.9478 - val_accuracy: 0.2698\n",
      "Epoch 9/20\n",
      "1250/1250 [==============================] - 16s 13ms/step - loss: 2.9605 - accuracy: 0.2608 - val_loss: 2.8432 - val_accuracy: 0.2930\n",
      "Epoch 10/20\n",
      "1250/1250 [==============================] - 16s 13ms/step - loss: 2.8993 - accuracy: 0.2728 - val_loss: 2.7657 - val_accuracy: 0.3067\n",
      "Epoch 11/20\n",
      "1250/1250 [==============================] - 16s 13ms/step - loss: 2.8310 - accuracy: 0.2829 - val_loss: 2.7538 - val_accuracy: 0.3122\n",
      "Epoch 12/20\n",
      "1250/1250 [==============================] - 19s 15ms/step - loss: 2.7930 - accuracy: 0.2911 - val_loss: 2.7253 - val_accuracy: 0.3168\n",
      "Epoch 13/20\n",
      "1250/1250 [==============================] - 107s 86ms/step - loss: 2.7435 - accuracy: 0.3012 - val_loss: 2.7116 - val_accuracy: 0.3193\n",
      "Epoch 14/20\n",
      "1250/1250 [==============================] - 19s 15ms/step - loss: 2.6934 - accuracy: 0.3099 - val_loss: 2.6691 - val_accuracy: 0.3229\n",
      "Epoch 15/20\n",
      "1250/1250 [==============================] - 19s 15ms/step - loss: 2.6629 - accuracy: 0.3131 - val_loss: 2.6659 - val_accuracy: 0.3253\n",
      "Epoch 16/20\n",
      "1250/1250 [==============================] - 18s 15ms/step - loss: 2.6159 - accuracy: 0.3251 - val_loss: 2.6343 - val_accuracy: 0.3317\n",
      "Epoch 17/20\n",
      "1250/1250 [==============================] - 18s 14ms/step - loss: 2.5803 - accuracy: 0.3305 - val_loss: 2.6253 - val_accuracy: 0.3384\n",
      "Epoch 18/20\n",
      "1250/1250 [==============================] - 17s 13ms/step - loss: 2.5436 - accuracy: 0.3348 - val_loss: 2.6495 - val_accuracy: 0.3330\n",
      "Epoch 19/20\n",
      "1250/1250 [==============================] - 17s 14ms/step - loss: 2.5113 - accuracy: 0.3431 - val_loss: 2.6215 - val_accuracy: 0.3406\n",
      "Epoch 20/20\n",
      "1250/1250 [==============================] - 17s 14ms/step - loss: 2.4734 - accuracy: 0.3495 - val_loss: 2.6434 - val_accuracy: 0.3364\n"
     ]
    }
   ],
   "source": [
    "# Your code here\n",
    "history = model.fit(\n",
    "    x_train_split, y_train_split,\n",
    "    epochs=20,  \n",
    "    batch_size=32,\n",
    "    validation_data=(x_val_split, y_val_split)\n",
    ")"
   ]
  },
  {
   "cell_type": "markdown",
   "id": "b48615c26b99d2e9",
   "metadata": {
    "collapsed": false
   },
   "source": [
    "### Task 3b: Accuracy and other relevant metrics on the test set\n",
    "\n",
    "- Report the accuracy of your model on the test set.\n",
    "- While accuracy is a good metric, there are many other ways to numerically evaluate a model. Report at least one other metric, and explain what it measures and how it is calculated.\n",
    "\n",
    "- <b>Accuracy:</b> ______ .339 This suggests that model correctly classified about 1/3 d of the test images. While this isn't high, it shows some level of learning and capability to distinguish between classes.\n",
    "- <b>Other metric:</b> ______\n",
    "- <b>Reason for selection:</b> _____\n",
    "- <b>Value of metric:</b> ______\n",
    "- <b>Interpretation of metric value:</b> ______The F1-score being around 0.33 indicates that the model has space for improvement, especially in balancing precision and recall across classes.\n",
    "\n",
    "Macro Average F1-Score: This is the unweighted average of F1-scores for all classes. A macro F1-score of 0.32 suggests that, on average, the model's performance in terms of precision and recall across all classes is relatively low. \n",
    "\n",
    "Weighted Average F1-Score: This average takes into account the number of instances per class. A weighted F1-score of 0.32 reflects the model’s performance, accounting for class imbalances. In both cases, the F1-scores indicate that the model struggles to balance precision and recall effectively across different classes. This might be due to factors such as model complexity, insufficient training, or class imbalance. Further tuning, additional data, or advanced model architectures could help improvenhance these metrics"
   ]
  },
  {
   "cell_type": "code",
   "execution_count": 14,
   "id": "f670665fda92fb0e",
   "metadata": {
    "ExecuteTime": {
     "end_time": "2024-01-26T17:49:39.016880Z",
     "start_time": "2024-01-26T17:49:39.012100Z"
    },
    "collapsed": false
   },
   "outputs": [
    {
     "name": "stdout",
     "output_type": "stream",
     "text": [
      "313/313 [==============================] - 1s 5ms/step - loss: 2.6358 - accuracy: 0.3397\n",
      "313/313 [==============================] - 2s 4ms/step\n",
      "Classification Report:\n",
      "                precision    recall  f1-score   support\n",
      "\n",
      "        apple       0.62      0.47      0.53       100\n",
      "aquarium_fish       0.34      0.43      0.38       100\n",
      "         baby       0.21      0.32      0.25       100\n",
      "         bear       0.25      0.10      0.14       100\n",
      "       beaver       0.14      0.17      0.16       100\n",
      "          bed       0.23      0.28      0.25       100\n",
      "          bee       0.28      0.40      0.33       100\n",
      "       beetle       0.39      0.33      0.36       100\n",
      "      bicycle       0.38      0.39      0.38       100\n",
      "       bottle       0.44      0.41      0.42       100\n",
      "         bowl       0.27      0.16      0.20       100\n",
      "          boy       0.19      0.10      0.13       100\n",
      "       bridge       0.37      0.43      0.40       100\n",
      "          bus       0.34      0.20      0.25       100\n",
      "    butterfly       0.24      0.26      0.25       100\n",
      "        camel       0.34      0.19      0.24       100\n",
      "          can       0.39      0.27      0.32       100\n",
      "       castle       0.52      0.60      0.56       100\n",
      "  caterpillar       0.34      0.42      0.38       100\n",
      "       cattle       0.30      0.16      0.21       100\n",
      "        chair       0.58      0.68      0.63       100\n",
      "   chimpanzee       0.64      0.36      0.46       100\n",
      "        clock       0.26      0.21      0.23       100\n",
      "        cloud       0.39      0.52      0.44       100\n",
      "    cockroach       0.51      0.67      0.58       100\n",
      "        couch       0.20      0.22      0.21       100\n",
      "          cra       0.37      0.19      0.25       100\n",
      "    crocodile       0.13      0.19      0.16       100\n",
      "          cup       0.45      0.48      0.46       100\n",
      "     dinosaur       0.39      0.30      0.34       100\n",
      "      dolphin       0.37      0.37      0.37       100\n",
      "     elephant       0.43      0.23      0.30       100\n",
      "     flatfish       0.26      0.25      0.25       100\n",
      "       forest       0.36      0.37      0.36       100\n",
      "          fox       0.22      0.38      0.28       100\n",
      "         girl       0.32      0.06      0.10       100\n",
      "      hamster       0.19      0.44      0.27       100\n",
      "        house       0.29      0.22      0.25       100\n",
      "     kangaroo       0.10      0.11      0.11       100\n",
      "     keyboard       0.43      0.35      0.39       100\n",
      "         lamp       0.27      0.20      0.23       100\n",
      "   lawn_mower       0.58      0.53      0.55       100\n",
      "      leopard       0.29      0.30      0.29       100\n",
      "         lion       0.32      0.32      0.32       100\n",
      "       lizard       0.12      0.17      0.14       100\n",
      "      lobster       0.18      0.08      0.11       100\n",
      "          man       0.20      0.10      0.13       100\n",
      "   maple_tree       0.48      0.38      0.42       100\n",
      "   motorcycle       0.48      0.58      0.52       100\n",
      "     mountain       0.39      0.49      0.44       100\n",
      "        mouse       0.12      0.11      0.11       100\n",
      "     mushroom       0.34      0.22      0.27       100\n",
      "     oak_tree       0.56      0.66      0.61       100\n",
      "       orange       0.38      0.72      0.50       100\n",
      "       orchid       0.45      0.46      0.45       100\n",
      "        otter       0.12      0.07      0.09       100\n",
      "    palm_tree       0.36      0.54      0.43       100\n",
      "         pear       0.31      0.42      0.36       100\n",
      " pickup_truck       0.48      0.38      0.42       100\n",
      "    pine_tree       0.25      0.13      0.17       100\n",
      "        plain       0.59      0.66      0.62       100\n",
      "        plate       0.39      0.46      0.42       100\n",
      "        poppy       0.42      0.44      0.43       100\n",
      "    porcupine       0.32      0.21      0.25       100\n",
      "       possum       0.21      0.09      0.13       100\n",
      "       rabbit       0.17      0.18      0.17       100\n",
      "      raccoon       0.43      0.21      0.28       100\n",
      "          ray       0.27      0.31      0.29       100\n",
      "         road       0.45      0.75      0.56       100\n",
      "       rocket       0.39      0.62      0.48       100\n",
      "         rose       0.45      0.34      0.39       100\n",
      "          sea       0.49      0.61      0.54       100\n",
      "         seal       0.18      0.12      0.14       100\n",
      "        shark       0.40      0.35      0.37       100\n",
      "        shrew       0.26      0.19      0.22       100\n",
      "        skunk       0.60      0.53      0.56       100\n",
      "   skyscraper       0.50      0.54      0.52       100\n",
      "        snail       0.12      0.14      0.13       100\n",
      "        snake       0.18      0.08      0.11       100\n",
      "       spider       0.25      0.30      0.27       100\n",
      "     squirrel       0.15      0.09      0.11       100\n",
      "    streetcar       0.43      0.33      0.37       100\n",
      "    sunflower       0.68      0.77      0.72       100\n",
      " sweet_pepper       0.32      0.28      0.30       100\n",
      "        table       0.17      0.17      0.17       100\n",
      "         tank       0.51      0.37      0.43       100\n",
      "    telephone       0.39      0.41      0.40       100\n",
      "   television       0.48      0.37      0.42       100\n",
      "        tiger       0.24      0.41      0.31       100\n",
      "      tractor       0.28      0.48      0.35       100\n",
      "        train       0.24      0.23      0.23       100\n",
      "        trout       0.40      0.53      0.45       100\n",
      "        tulip       0.31      0.20      0.24       100\n",
      "       turtle       0.20      0.16      0.18       100\n",
      "     wardrobe       0.50      0.73      0.60       100\n",
      "        whale       0.35      0.53      0.42       100\n",
      "  willow_tree       0.32      0.38      0.35       100\n",
      "         wolf       0.27      0.35      0.30       100\n",
      "        woman       0.18      0.21      0.19       100\n",
      "         worm       0.32      0.29      0.31       100\n",
      "\n",
      "     accuracy                           0.34     10000\n",
      "    macro avg       0.34      0.34      0.33     10000\n",
      " weighted avg       0.34      0.34      0.33     10000\n",
      "\n",
      "Test Accuracy: 0.33970001339912415\n"
     ]
    }
   ],
   "source": [
    "# Your code here\n",
    "from sklearn.metrics import classification_report\n",
    "\n",
    "# Evaluate the model on the test set\n",
    "test_loss, test_accuracy = model.evaluate(x_test_normalized, y_test_one_hot, verbose=1)\n",
    "\n",
    "# Predict on the test set\n",
    "y_test_pred = model.predict(x_test_normalized)\n",
    "y_test_pred_classes = np.argmax(y_test_pred, axis=1)\n",
    "y_test_true_classes = np.argmax(y_test_one_hot, axis=1)\n",
    "\n",
    "# Classification report\n",
    "report = classification_report(y_test_true_classes, y_test_pred_classes, target_names=class_names)\n",
    "print(\"Classification Report:\\n\", report)\n",
    "\n",
    "# Print accuracy\n",
    "print(\"Test Accuracy:\", test_accuracy)"
   ]
  },
  {
   "cell_type": "markdown",
   "id": "58d2d836d4e8ce99",
   "metadata": {
    "collapsed": false
   },
   "source": [
    "### Task 3c: Visualize the model's learning\n",
    "\n",
    "- Plot the training accuracy and validation accuracy with respect to epochs.\n",
    "- Select an image that the model correctly classified in the test set, and an image that the model incorrectly classified in the test set. Plot the images and report the model's classification probabilities for each.\n",
    "- Briefly discuss the results. What do the plots show? Do the results make sense? What do the classification probabilities indicate?"
   ]
  },
  {
   "cell_type": "code",
   "execution_count": 15,
   "id": "c5b214475a496ca5",
   "metadata": {
    "ExecuteTime": {
     "end_time": "2024-01-26T17:50:59.733968Z",
     "start_time": "2024-01-26T17:50:59.730635Z"
    },
    "collapsed": false
   },
   "outputs": [
    {
     "name": "stdout",
     "output_type": "stream",
     "text": [
      "Epoch 1/20\n",
      "1250/1250 [==============================] - 18s 15ms/step - loss: 2.4547 - accuracy: 0.3523 - val_loss: 2.6150 - val_accuracy: 0.3451\n",
      "Epoch 2/20\n",
      "1250/1250 [==============================] - 17s 13ms/step - loss: 2.4217 - accuracy: 0.3587 - val_loss: 2.6352 - val_accuracy: 0.3422\n",
      "Epoch 3/20\n",
      "1250/1250 [==============================] - 18s 14ms/step - loss: 2.4033 - accuracy: 0.3607 - val_loss: 2.6342 - val_accuracy: 0.3403\n",
      "Epoch 4/20\n",
      "1250/1250 [==============================] - 18s 14ms/step - loss: 2.3787 - accuracy: 0.3667 - val_loss: 2.6273 - val_accuracy: 0.3450\n",
      "Epoch 5/20\n",
      "1250/1250 [==============================] - 16s 13ms/step - loss: 2.3430 - accuracy: 0.3740 - val_loss: 2.6400 - val_accuracy: 0.3472\n",
      "Epoch 6/20\n",
      "1250/1250 [==============================] - 19s 15ms/step - loss: 2.3321 - accuracy: 0.3778 - val_loss: 2.6517 - val_accuracy: 0.3446\n",
      "Epoch 7/20\n",
      "1250/1250 [==============================] - 15s 12ms/step - loss: 2.2966 - accuracy: 0.3824 - val_loss: 2.6353 - val_accuracy: 0.3465\n",
      "Epoch 8/20\n",
      "1250/1250 [==============================] - 17s 14ms/step - loss: 2.2875 - accuracy: 0.3837 - val_loss: 2.6551 - val_accuracy: 0.3468\n",
      "Epoch 9/20\n",
      "1250/1250 [==============================] - 17s 13ms/step - loss: 2.2629 - accuracy: 0.3877 - val_loss: 2.7156 - val_accuracy: 0.3431\n",
      "Epoch 10/20\n",
      "1250/1250 [==============================] - 16s 13ms/step - loss: 2.2574 - accuracy: 0.3926 - val_loss: 2.6526 - val_accuracy: 0.3442\n",
      "Epoch 11/20\n",
      "1250/1250 [==============================] - 18s 15ms/step - loss: 2.2291 - accuracy: 0.3942 - val_loss: 2.6964 - val_accuracy: 0.3467\n",
      "Epoch 12/20\n",
      "1250/1250 [==============================] - 17s 14ms/step - loss: 2.2152 - accuracy: 0.3939 - val_loss: 2.7276 - val_accuracy: 0.3427\n",
      "Epoch 13/20\n",
      "1250/1250 [==============================] - 18s 14ms/step - loss: 2.1909 - accuracy: 0.4012 - val_loss: 2.7205 - val_accuracy: 0.3454\n",
      "Epoch 14/20\n",
      "1250/1250 [==============================] - 16s 13ms/step - loss: 2.1904 - accuracy: 0.3997 - val_loss: 2.7007 - val_accuracy: 0.3480\n",
      "Epoch 15/20\n",
      "1250/1250 [==============================] - 16s 13ms/step - loss: 2.1648 - accuracy: 0.4076 - val_loss: 2.7328 - val_accuracy: 0.3445\n",
      "Epoch 16/20\n",
      "1250/1250 [==============================] - 18s 14ms/step - loss: 2.1558 - accuracy: 0.4083 - val_loss: 2.7278 - val_accuracy: 0.3467\n",
      "Epoch 17/20\n",
      "1250/1250 [==============================] - 20s 16ms/step - loss: 2.1417 - accuracy: 0.4088 - val_loss: 2.7453 - val_accuracy: 0.3506\n",
      "Epoch 18/20\n",
      "1250/1250 [==============================] - 17s 14ms/step - loss: 2.1305 - accuracy: 0.4157 - val_loss: 2.7835 - val_accuracy: 0.3410\n",
      "Epoch 19/20\n",
      "1250/1250 [==============================] - 17s 14ms/step - loss: 2.1133 - accuracy: 0.4149 - val_loss: 2.7916 - val_accuracy: 0.3431\n",
      "Epoch 20/20\n",
      "1250/1250 [==============================] - 17s 14ms/step - loss: 2.1120 - accuracy: 0.4157 - val_loss: 2.8057 - val_accuracy: 0.3430\n"
     ]
    },
    {
     "data": {
      "image/png": "[encoded data removed]",
      "text/plain": [
       "<Figure size 1200x600 with 2 Axes>"
      ]
     },
     "metadata": {},
     "output_type": "display_data"
    }
   ],
   "source": [
    "# Your code here\n",
    "history = model.fit(\n",
    "    x_train_split, y_train_split,\n",
    "    epochs=20,\n",
    "    batch_size=32,\n",
    "    validation_data=(x_val_split, y_val_split)\n",
    ")\n",
    "\n",
    "# Plot training and validation accuracy\n",
    "plt.figure(figsize=(12, 6))\n",
    "\n",
    "# Plot accuracy\n",
    "plt.subplot(1, 2, 1)\n",
    "plt.plot(history.history['accuracy'], label='Training Accuracy')\n",
    "plt.plot(history.history['val_accuracy'], label='Validation Accuracy')\n",
    "plt.xlabel('Epochs')\n",
    "plt.ylabel('Accuracy')\n",
    "plt.legend()\n",
    "plt.title('Training and Validation Accuracy')\n",
    "\n",
    "# Plot loss\n",
    "plt.subplot(1, 2, 2)\n",
    "plt.plot(history.history['loss'], label='Training Loss')\n",
    "plt.plot(history.history['val_loss'], label='Validation Loss')\n",
    "plt.xlabel('Epochs')\n",
    "plt.ylabel('Loss')\n",
    "plt.legend()\n",
    "plt.title('Training and Validation Loss')\n",
    "\n",
    "plt.show()"
   ]
  },
  {
   "cell_type": "code",
   "execution_count": 16,
   "id": "7e4ce9f3",
   "metadata": {},
   "outputs": [
    {
     "name": "stdout",
     "output_type": "stream",
     "text": [
      "313/313 [==============================] - 2s 5ms/step\n"
     ]
    },
    {
     "data": {
      "image/png": "[encoded data removed]",
      "text/plain": [
       "<Figure size 1200x600 with 2 Axes>"
      ]
     },
     "metadata": {},
     "output_type": "display_data"
    },
    {
     "name": "stdout",
     "output_type": "stream",
     "text": [
      "Probabilities for correctly classified image:\n",
      "[4.2243073e-08 8.9383961e-05 8.4449621e-06 5.0449657e-05 1.6650579e-04\n",
      " 2.7065610e-03 6.3549796e-06 4.3431032e-06 1.2150538e-03 8.5760001e-03\n",
      " 4.2229080e-05 1.9513041e-05 4.7404487e-02 2.3200503e-04 2.8458318e-05\n",
      " 2.1691715e-04 1.3440213e-04 3.3176344e-04 1.4614739e-02 1.7485623e-03\n",
      " 4.8803540e-06 2.4045955e-06 4.0702813e-05 1.6243408e-06 1.0439812e-08\n",
      " 3.2886048e-03 5.3764004e-05 4.9555544e-03 1.7445580e-05 1.1249892e-03\n",
      " 4.6560763e-06 4.8781416e-04 8.2547849e-05 4.0450940e-01 1.3954887e-03\n",
      " 3.0374404e-05 2.8210543e-06 4.4103111e-03 5.5119880e-03 2.4994719e-04\n",
      " 4.9606396e-04 6.5593290e-06 9.3432248e-04 4.3895780e-06 5.6741773e-03\n",
      " 1.3128553e-03 2.8514527e-05 1.4843266e-05 6.0365306e-07 2.6471736e-05\n",
      " 2.9603881e-04 2.6370282e-03 9.7286931e-05 2.3993516e-12 1.2732428e-06\n",
      " 1.2215428e-03 1.6265800e-02 1.4067267e-05 1.1509319e-06 9.4114052e-04\n",
      " 3.0504134e-05 8.3125167e-07 3.5812442e-10 3.6636009e-04 3.5893876e-04\n",
      " 1.4402360e-01 2.7404740e-04 1.2413681e-05 2.8255427e-01 1.6441001e-05\n",
      " 2.5532043e-07 3.5636633e-05 7.3107607e-05 5.2997751e-05 2.5342922e-03\n",
      " 1.2464846e-05 1.1907568e-05 2.8740140e-05 1.3529914e-03 4.5288969e-03\n",
      " 1.1048899e-02 1.5835890e-03 1.9108388e-06 4.6321375e-06 5.6120357e-03\n",
      " 2.1112617e-04 4.9230825e-05 3.2186264e-05 2.7845622e-04 1.8090078e-03\n",
      " 4.9619650e-04 1.7794932e-03 2.0354462e-07 1.5355567e-05 4.0562632e-06\n",
      " 1.7963307e-06 1.9314863e-03 4.3396279e-03 3.5212048e-05 7.5112196e-04]\n",
      "\n",
      "Probabilities for incorrectly classified image:\n",
      "[8.46938492e-11 4.25884809e-06 2.95400587e-05 1.70778818e-04\n",
      " 2.60720426e-05 1.20295316e-03 3.65806621e-11 2.31104575e-08\n",
      " 3.62286195e-02 6.89436201e-05 1.03876882e-05 3.09439133e-06\n",
      " 3.54405016e-01 2.72834557e-04 9.70939418e-09 8.88347346e-03\n",
      " 1.10015089e-05 2.81868111e-02 1.61832832e-05 1.14482734e-03\n",
      " 2.09241771e-05 7.00250435e-09 1.29940745e-04 8.86142152e-05\n",
      " 1.78873438e-09 1.15769322e-03 1.77637755e-03 6.38388796e-03\n",
      " 1.43992895e-06 5.97579870e-04 1.50983164e-03 1.07874199e-04\n",
      " 8.98410857e-04 2.04621520e-05 4.78103502e-05 3.30356869e-07\n",
      " 1.05648034e-07 2.51696616e-01 3.67836957e-03 1.06375350e-03\n",
      " 5.69926517e-04 4.80998897e-05 1.16776828e-04 2.13247620e-09\n",
      " 3.74459982e-04 1.32956375e-05 2.15607906e-05 1.25018991e-08\n",
      " 3.18611070e-04 1.74424514e-01 1.50431538e-06 1.48513518e-05\n",
      " 6.46811986e-06 2.26951063e-17 4.87206719e-08 6.61632838e-03\n",
      " 1.12237703e-05 1.01876850e-07 1.81806274e-04 4.97337256e-04\n",
      " 5.05928037e-05 1.77277207e-06 2.23908247e-09 3.56998498e-06\n",
      " 1.50757201e-04 1.62735581e-04 1.11154863e-04 3.09122356e-06\n",
      " 5.93687641e-03 9.34827793e-03 8.78997568e-08 8.15318024e-04\n",
      " 1.43552711e-02 2.12039828e-04 2.06533034e-04 2.34936684e-04\n",
      " 5.64422924e-03 1.81602400e-06 6.84617844e-05 6.32436058e-05\n",
      " 3.19104911e-05 3.04239057e-03 6.39504394e-10 1.77591986e-11\n",
      " 1.16056076e-03 4.06829678e-02 1.38230753e-04 2.68748372e-05\n",
      " 3.34431611e-08 1.21732417e-04 2.57146209e-02 5.13478136e-03\n",
      " 2.01815347e-08 3.30201292e-04 4.49949304e-08 2.58437381e-03\n",
      " 2.73780802e-06 3.31512798e-04 1.33104868e-06 2.63125141e-04]\n"
     ]
    }
   ],
   "source": [
    "import numpy as np\n",
    "import matplotlib.pyplot as plt\n",
    "\n",
    "# Get predictions for the test set\n",
    "y_test_pred = model.predict(x_test_normalized)\n",
    "y_test_pred_labels = np.argmax(y_test_pred, axis=1)\n",
    "y_test_true_labels = y_test.flatten()\n",
    "\n",
    "# Find a correctly classified image\n",
    "correct_indices = np.where(y_test_pred_labels == y_test_true_labels)[0]\n",
    "incorrect_indices = np.where(y_test_pred_labels != y_test_true_labels)[0]\n",
    "\n",
    "if len(correct_indices) > 0:\n",
    "    correct_index = correct_indices[0]\n",
    "    incorrect_index = incorrect_indices[0]\n",
    "\n",
    "    # Plot correctly classified image\n",
    "    plt.figure(figsize=(12, 6))\n",
    "    \n",
    "    plt.subplot(1, 2, 1)\n",
    "    plt.imshow(x_test[correct_index])\n",
    "    plt.title(f\"Correctly Classified: {class_names[y_test_true_labels[correct_index]]}\\n\"\n",
    "              f\"Predicted: {class_names[y_test_pred_labels[correct_index]]}\")\n",
    "    plt.axis('off')\n",
    "\n",
    "    # Plot incorrectly classified image\n",
    "    plt.subplot(1, 2, 2)\n",
    "    plt.imshow(x_test[incorrect_index])\n",
    "    plt.title(f\"Incorrectly Classified: {class_names[y_test_true_labels[incorrect_index]]}\\n\"\n",
    "              f\"Predicted: {class_names[y_test_pred_labels[incorrect_index]]}\")\n",
    "    plt.axis('off')\n",
    "\n",
    "    plt.show()\n",
    "\n",
    "    # Print classification probabilities for each\n",
    "    print(\"Probabilities for correctly classified image:\")\n",
    "    print(y_test_pred[correct_index])\n",
    "\n",
    "    print(\"\\nProbabilities for incorrectly classified image:\")\n",
    "    print(y_test_pred[incorrect_index])\n",
    "else:\n",
    "    print(\"No correctly or incorrectly classified images found.\")"
   ]
  },
  {
   "cell_type": "markdown",
   "id": "a648758ebea0561d",
   "metadata": {
    "collapsed": false
   },
   "source": [
    "## Task 4: Model Enhancement (Complete or Incomplete)\n",
    "### Task 4a: Implementation of at least one advanced technique\n",
    "\n",
    "- Now it's time to improve your model. Implement at least one technique to improve your model's performance. You can use any of the techniques we have covered in class, or you can use a technique that we haven't covered. If you need inspiration, you can refer to the [Keras documentation](https://keras.io/).\n",
    "- Explain the technique you used and why you chose it.\n",
    "- If you used a technique that requires tuning, explain how you selected the values for the hyperparameters."
   ]
  },
  {
   "cell_type": "code",
   "execution_count": 21,
   "id": "f3659ac83122567f",
   "metadata": {
    "collapsed": false
   },
   "outputs": [
    {
     "name": "stdout",
     "output_type": "stream",
     "text": [
      "Epoch 1/15\n",
      "1250/1250 [==============================] - 84s 67ms/step - loss: 4.6060 - accuracy: 0.0095 - val_loss: 4.6060 - val_accuracy: 0.0090\n",
      "Epoch 2/15\n",
      "1250/1250 [==============================] - 81s 65ms/step - loss: 4.5979 - accuracy: 0.0108 - val_loss: 4.5596 - val_accuracy: 0.0192\n",
      "Epoch 3/15\n",
      "1250/1250 [==============================] - 88s 70ms/step - loss: 4.5538 - accuracy: 0.0191 - val_loss: 4.5344 - val_accuracy: 0.0202\n",
      "Epoch 4/15\n",
      "1250/1250 [==============================] - 78s 63ms/step - loss: 4.5369 - accuracy: 0.0214 - val_loss: 4.5219 - val_accuracy: 0.0215\n",
      "Epoch 5/15\n",
      "1250/1250 [==============================] - 74s 59ms/step - loss: 4.5254 - accuracy: 0.0222 - val_loss: 4.5112 - val_accuracy: 0.0237\n",
      "Epoch 6/15\n",
      "1250/1250 [==============================] - 80s 64ms/step - loss: 4.5177 - accuracy: 0.0221 - val_loss: 4.5033 - val_accuracy: 0.0246\n",
      "Epoch 7/15\n",
      "1250/1250 [==============================] - 83s 67ms/step - loss: 4.5102 - accuracy: 0.0234 - val_loss: 4.4975 - val_accuracy: 0.0227\n",
      "Epoch 8/15\n",
      "1250/1250 [==============================] - 80s 64ms/step - loss: 4.5039 - accuracy: 0.0235 - val_loss: 4.4915 - val_accuracy: 0.0239\n",
      "Epoch 9/15\n",
      "1250/1250 [==============================] - 80s 64ms/step - loss: 4.4991 - accuracy: 0.0239 - val_loss: 4.4823 - val_accuracy: 0.0245\n",
      "Epoch 10/15\n",
      "1250/1250 [==============================] - 86s 69ms/step - loss: 4.4955 - accuracy: 0.0229 - val_loss: 4.4901 - val_accuracy: 0.0260\n",
      "Epoch 11/15\n",
      " 569/1250 [============>.................] - ETA: 2:50 - loss: 4.4898 - accuracy: 0.0232"
     ]
    }
   ],
   "source": [
    "from tensorflow.keras.preprocessing.image import ImageDataGenerator\n",
    "\n",
    "# Define the data augmentation generator\n",
    "datagen = ImageDataGenerator(\n",
    "    rotation_range=15,        # Randomly rotate images in the range (degrees, 0 to 180)\n",
    "    width_shift_range=0.1,    # Randomly translate images horizontally (fraction of total width)\n",
    "    height_shift_range=0.1,   # Randomly translate images vertically (fraction of total height)\n",
    "    horizontal_flip=True,     # Randomly flip images horizontally\n",
    "    zoom_range=0.2,           # Randomly zoom into images\n",
    "    shear_range=0.15          # Randomly shear images\n",
    ")\n",
    "\n",
    "# Fit the generator on the training data\n",
    "datagen.fit(x_train_split)\n",
    "\n",
    "# Train the model using the augmented data\n",
    "history = model.fit(\n",
    "    datagen.flow(x_train_split, y_train_split, batch_size=32),\n",
    "    epochs=15,  # Number of epochs\n",
    "    validation_data=(x_val_split, y_val_split),\n",
    "    steps_per_epoch=len(x_train_split) // 32  # Calculate steps per epoch\n",
    ")"
   ]
  },
  {
   "cell_type": "markdown",
   "id": "d9467a483a1dd5d3",
   "metadata": {
    "collapsed": false
   },
   "source": [
    "### Task 4b: Evaluation of the enhanced model\n",
    "\n",
    "- Re-train your model using the same number of epochs as before.\n",
    "- Compare the accuracy and other selected metric on the test set to the results you obtained before.\n",
    "- As before, plot the training accuracy and validation accuracy with respect to epochs, and select an image that the model correctly classified in the test set, and an image that the model incorrectly classified in the test set. Plot the images and report the model's classification probabilities for each."
   ]
  },
  {
   "cell_type": "code",
   "execution_count": null,
   "id": "7c4701b36dc8fc55",
   "metadata": {
    "collapsed": false
   },
   "outputs": [],
   "source": [
    "# Your code here\n",
    "history = model.fit(\n",
    "    datagen.flow(x_train_split, y_train_split, batch_size=32),\n",
    "    epochs=30,  # Number of epochs\n",
    "    validation_data=(x_val_split, y_val_split),\n",
    "    steps_per_epoch=len(x_train_split) // 32  # Calculate steps per epoch\n",
    ")"
   ]
  },
  {
   "cell_type": "code",
   "execution_count": null,
   "id": "7443c118",
   "metadata": {},
   "outputs": [],
   "source": [
    "# Compare accuracy and other metrics on the test set\n",
    "\n",
    "# Predict on the test set\n",
    "y_pred = model.predict(x_test)\n",
    "y_pred_classes = np.argmax(y_pred, axis=1)\n",
    "y_test_classes = np.argmax(y_test_onehot, axis=1)\n",
    "\n",
    "# Calculate accuracy\n",
    "enhanced_accuracy = accuracy_score(y_test_classes, y_pred_classes)\n",
    "\n",
    "# Calculate precision\n",
    "enhanced_precision = precision_score(y_test_classes, y_pred_classes, average='weighted')\n",
    "\n",
    "# Report the enhanced metrics\n",
    "print(f\"Enhanced Model Accuracy: {enhanced_accuracy}\")\n",
    "print(f\"Enhanced Model Precision: {enhanced_precision}\")"
   ]
  },
  {
   "cell_type": "markdown",
   "id": "eadfc848700215e8",
   "metadata": {
    "collapsed": false
   },
   "source": [
    "### Task 4c: Discussion of the results\n",
    "\n",
    "- Briefly discuss the results. \n",
    "- Did the model's performance improve? \n",
    "- Why do you think this is?\n",
    "- Do you think there is room for further improvement? Why or why not?\n",
    "- What other techniques might you try in the future?\n",
    "- Your answer should be no more than 200 words.\n",
    "\n",
    "# Your answer here"
   ]
  },
  {
   "cell_type": "markdown",
   "id": "3a38de4e",
   "metadata": {},
   "source": [
    "The model's performance improved significantly after applying data augmentation. The higher accuracy and precision on the test set show that the model became better at generalizing to new data. \n",
    "This improvement likely came from training on a more varied set of images, which helped the model learn more robust features.\n",
    "There's still room for further improvement, though. The current accuracy suggests the model may have trouble distinguishing between some classes. To enhance performance, we could try adding more layers, using different network architectures, or experimenting with regularization techniques like L2 regularization.\n",
    "It would be also beneficial to trying techniques like transfer learning. Using a pre-trained model on a large dataset like ImageNet and fine-tuning it on CIFAR-100 might help the model achieve even better results. This approach could leverage the rich feature representations learned from a much larger dataset, leading to improved accuracy and generalization."
   ]
  },
  {
   "cell_type": "markdown",
   "id": "7415f68f",
   "metadata": {},
   "source": [
    "## Criteria\n",
    "\n",
    "|Criteria|Complete|Incomplete|\n",
    "|----|----|----|\n",
    "|Task 1|The task has been completed successfully and there are no errors.|The task is still incomplete and there is at least one error.|\n",
    "|Task 2|The task has been completed successfully and there are no errors.|The task is still incomplete and there is at least one error.|\n",
    "|Task 3|The task has been completed successfully and there are no errors.|The task is still incomplete and there is at least one error.|\n",
    "|Task 4|The task has been completed successfully and there are no errors.|The task is still incomplete and there is at least one error.|"
   ]
  },
  {
   "cell_type": "markdown",
   "id": "ad0c10bc",
   "metadata": {},
   "source": [
    "## Submission Information\n",
    "\n",
    "🚨 **Please review our [Assignment Submission Guide](https://github.com/UofT-DSI/onboarding/blob/main/onboarding_documents/submissions.md)** 🚨 for detailed instructions on how to format, branch, and submit your work. Following these guidelines is crucial for your submissions to be evaluated correctly.\n",
    "\n",
    "### Submission Parameters:\n",
    "* Submission Due Date: `HH:MM AM/PM - DD/MM/YYYY`\n",
    "* The branch name for your repo should be: `assignment-1`\n",
    "* What to submit for this assignment:\n",
    "    * This Jupyter Notebook (assignment_1.ipynb) should be populated and should be the only change in your pull request.\n",
    "* What the pull request link should look like for this assignment: `https://github.com/<your_github_username>/deep_learning/pull/<pr_id>`\n",
    "    * Open a private window in your browser. Copy and paste the link to your pull request into the address bar. Make sure you can see your pull request properly. This helps the technical facilitator and learning support staff review your submission easily.\n",
    "\n",
    "Checklist:\n",
    "- [ ] Created a branch with the correct naming convention.\n",
    "- [ ] Ensured that the repository is public.\n",
    "- [ ] Reviewed the PR description guidelines and adhered to them.\n",
    "- [ ] Verify that the link is accessible in a private browser window.\n",
    "\n",
    "If you encounter any difficulties or have questions, please don't hesitate to reach out to our team via our Slack at `#cohort-3-help`. Our Technical Facilitators and Learning Support staff are here to help you navigate any challenges."
   ]
  }
 ],
 "metadata": {
  "kernelspec": {
   "display_name": "Python 3 (ipykernel)",
   "language": "python",
   "name": "python3"
  },
  "language_info": {
   "codemirror_mode": {
    "name": "ipython",
    "version": 3
   },
   "file_extension": ".py",
   "mimetype": "text/x-python",
   "name": "python",
   "nbconvert_exporter": "python",
   "pygments_lexer": "ipython3",
   "version": "3.9.18"
  }
 },
 "nbformat": 4,
 "nbformat_minor": 5
}
