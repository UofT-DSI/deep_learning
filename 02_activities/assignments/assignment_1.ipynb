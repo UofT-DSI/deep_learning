{
 "cells": [
  {
   "cell_type": "markdown",
   "id": "ba8ab56f",
   "metadata": {},
   "source": [
    "# Advanced Image Classification with ImageNet"
   ]
  },
  {
   "cell_type": "markdown",
   "id": "7c630244b8fe2847",
   "metadata": {
    "collapsed": false
   },
   "source": [
    "In this assignment, you will be asked to develop a convolutional neural network (CNN) to classify images from the CIFAR-100 dataset. At each step, you'll be guided through the process of developing a model architecture to solve a problem. Your goal is to create a CNN that attains at least 55% accuracy on the validation set.\n",
    "\n",
    "### The CIFAR-100 Dataset\n",
    "\n",
    "The [CIFAR-100 dataset](https://www.cs.toronto.edu/~kriz/cifar.html) consists of 60000 32x32 colour images in 100 classes, with 600 images per class. There are 50000 training images and 10000 test images. The dataset is divided into five training batches and one test batch, each with 10000 images. The test batch contains exactly 1000 randomly-selected images from each class. The training batches contain the remaining images in random order, but some training batches may contain more images from one class than another. Between them, the training batches contain exactly 500 images from each class.\n",
    "\n",
    "### Tools\n",
    "\n",
    "You will use Keras with TensorFlow to develop your CNN. For this assignment, it's strongly recommended that you use a GPU to accelerate your training, or else you might find it difficult to train your network in a reasonable amount of time. If you have a computer with a GPU that you wish to use, you can follow the [TensorFlow instructions](https://www.tensorflow.org/install/) for installing TensorFlow with GPU support. Otherwise, you can use [Google Colab](https://colab.research.google.com/) to complete this assignment. Colab provides free access to GPU-enabled machines. If you run into any issues, please contact us as soon as possible so that we can help you resolve them."
   ]
  },
  {
   "cell_type": "markdown",
   "id": "fab62988ece1528d",
   "metadata": {
    "collapsed": false
   },
   "source": [
    "## Task 1: Data Exploration and Preprocessing (Complete or Incomplete)\n",
    "### 1a: Load and Explore the Dataset\n",
    "- Use the code below to download the dataset.\n",
    "- Explore the dataset: examine the shape of the training and test sets, the dimensions of the images, and the number of classes. Show a few examples from the training set."
   ]
  },
  {
   "cell_type": "code",
   "execution_count": 1,
   "id": "c6bc3fe5",
   "metadata": {},
   "outputs": [
    {
     "name": "stdout",
     "output_type": "stream",
     "text": [
      "Requirement already satisfied: tensorflow in /usr/local/python/3.10.13/lib/python3.10/site-packages (2.17.0)\n",
      "Requirement already satisfied: absl-py>=1.0.0 in /usr/local/python/3.10.13/lib/python3.10/site-packages (from tensorflow) (2.1.0)\n",
      "Requirement already satisfied: astunparse>=1.6.0 in /usr/local/python/3.10.13/lib/python3.10/site-packages (from tensorflow) (1.6.3)\n",
      "Requirement already satisfied: flatbuffers>=24.3.25 in /usr/local/python/3.10.13/lib/python3.10/site-packages (from tensorflow) (24.3.25)\n",
      "Requirement already satisfied: gast!=0.5.0,!=0.5.1,!=0.5.2,>=0.2.1 in /usr/local/python/3.10.13/lib/python3.10/site-packages (from tensorflow) (0.6.0)\n",
      "Requirement already satisfied: google-pasta>=0.1.1 in /usr/local/python/3.10.13/lib/python3.10/site-packages (from tensorflow) (0.2.0)\n",
      "Requirement already satisfied: h5py>=3.10.0 in /usr/local/python/3.10.13/lib/python3.10/site-packages (from tensorflow) (3.11.0)\n",
      "Requirement already satisfied: libclang>=13.0.0 in /usr/local/python/3.10.13/lib/python3.10/site-packages (from tensorflow) (18.1.1)\n",
      "Requirement already satisfied: ml-dtypes<0.5.0,>=0.3.1 in /usr/local/python/3.10.13/lib/python3.10/site-packages (from tensorflow) (0.4.0)\n",
      "Requirement already satisfied: opt-einsum>=2.3.2 in /usr/local/python/3.10.13/lib/python3.10/site-packages (from tensorflow) (3.3.0)\n",
      "Requirement already satisfied: packaging in /home/codespace/.local/lib/python3.10/site-packages (from tensorflow) (24.1)\n",
      "Requirement already satisfied: protobuf!=4.21.0,!=4.21.1,!=4.21.2,!=4.21.3,!=4.21.4,!=4.21.5,<5.0.0dev,>=3.20.3 in /usr/local/python/3.10.13/lib/python3.10/site-packages (from tensorflow) (4.25.4)\n",
      "Requirement already satisfied: requests<3,>=2.21.0 in /home/codespace/.local/lib/python3.10/site-packages (from tensorflow) (2.32.3)\n",
      "Requirement already satisfied: setuptools in /usr/local/python/3.10.13/lib/python3.10/site-packages (from tensorflow) (68.2.2)\n",
      "Requirement already satisfied: six>=1.12.0 in /home/codespace/.local/lib/python3.10/site-packages (from tensorflow) (1.16.0)\n",
      "Requirement already satisfied: termcolor>=1.1.0 in /usr/local/python/3.10.13/lib/python3.10/site-packages (from tensorflow) (2.4.0)\n",
      "Requirement already satisfied: typing-extensions>=3.6.6 in /home/codespace/.local/lib/python3.10/site-packages (from tensorflow) (4.12.2)\n",
      "Requirement already satisfied: wrapt>=1.11.0 in /usr/local/python/3.10.13/lib/python3.10/site-packages (from tensorflow) (1.16.0)\n",
      "Requirement already satisfied: grpcio<2.0,>=1.24.3 in /usr/local/python/3.10.13/lib/python3.10/site-packages (from tensorflow) (1.65.1)\n",
      "Requirement already satisfied: tensorboard<2.18,>=2.17 in /usr/local/python/3.10.13/lib/python3.10/site-packages (from tensorflow) (2.17.0)\n",
      "Requirement already satisfied: keras>=3.2.0 in /usr/local/python/3.10.13/lib/python3.10/site-packages (from tensorflow) (3.4.1)\n",
      "Requirement already satisfied: tensorflow-io-gcs-filesystem>=0.23.1 in /usr/local/python/3.10.13/lib/python3.10/site-packages (from tensorflow) (0.37.1)\n",
      "Requirement already satisfied: numpy<2.0.0,>=1.23.5 in /usr/local/python/3.10.13/lib/python3.10/site-packages (from tensorflow) (1.23.5)\n",
      "Requirement already satisfied: wheel<1.0,>=0.23.0 in /usr/local/python/3.10.13/lib/python3.10/site-packages (from astunparse>=1.6.0->tensorflow) (0.43.0)\n",
      "Requirement already satisfied: rich in /usr/local/python/3.10.13/lib/python3.10/site-packages (from keras>=3.2.0->tensorflow) (13.7.1)\n",
      "Requirement already satisfied: namex in /usr/local/python/3.10.13/lib/python3.10/site-packages (from keras>=3.2.0->tensorflow) (0.0.8)\n",
      "Requirement already satisfied: optree in /usr/local/python/3.10.13/lib/python3.10/site-packages (from keras>=3.2.0->tensorflow) (0.12.1)\n",
      "Requirement already satisfied: charset-normalizer<4,>=2 in /home/codespace/.local/lib/python3.10/site-packages (from requests<3,>=2.21.0->tensorflow) (3.3.2)\n",
      "Requirement already satisfied: idna<4,>=2.5 in /home/codespace/.local/lib/python3.10/site-packages (from requests<3,>=2.21.0->tensorflow) (3.7)\n",
      "Requirement already satisfied: urllib3<3,>=1.21.1 in /usr/local/python/3.10.13/lib/python3.10/site-packages (from requests<3,>=2.21.0->tensorflow) (2.0.7)\n",
      "Requirement already satisfied: certifi>=2017.4.17 in /home/codespace/.local/lib/python3.10/site-packages (from requests<3,>=2.21.0->tensorflow) (2024.7.4)\n",
      "Requirement already satisfied: markdown>=2.6.8 in /usr/local/python/3.10.13/lib/python3.10/site-packages (from tensorboard<2.18,>=2.17->tensorflow) (3.6)\n",
      "Requirement already satisfied: tensorboard-data-server<0.8.0,>=0.7.0 in /usr/local/python/3.10.13/lib/python3.10/site-packages (from tensorboard<2.18,>=2.17->tensorflow) (0.7.2)\n",
      "Requirement already satisfied: werkzeug>=1.0.1 in /usr/local/python/3.10.13/lib/python3.10/site-packages (from tensorboard<2.18,>=2.17->tensorflow) (3.0.3)\n",
      "Requirement already satisfied: MarkupSafe>=2.1.1 in /home/codespace/.local/lib/python3.10/site-packages (from werkzeug>=1.0.1->tensorboard<2.18,>=2.17->tensorflow) (2.1.5)\n",
      "Requirement already satisfied: markdown-it-py>=2.2.0 in /usr/local/python/3.10.13/lib/python3.10/site-packages (from rich->keras>=3.2.0->tensorflow) (3.0.0)\n",
      "Requirement already satisfied: pygments<3.0.0,>=2.13.0 in /home/codespace/.local/lib/python3.10/site-packages (from rich->keras>=3.2.0->tensorflow) (2.18.0)\n",
      "Requirement already satisfied: mdurl~=0.1 in /usr/local/python/3.10.13/lib/python3.10/site-packages (from markdown-it-py>=2.2.0->rich->keras>=3.2.0->tensorflow) (0.1.2)\n",
      "\n",
      "\u001b[1m[\u001b[0m\u001b[34;49mnotice\u001b[0m\u001b[1;39;49m]\u001b[0m\u001b[39;49m A new release of pip is available: \u001b[0m\u001b[31;49m24.1.2\u001b[0m\u001b[39;49m -> \u001b[0m\u001b[32;49m24.2\u001b[0m\n",
      "\u001b[1m[\u001b[0m\u001b[34;49mnotice\u001b[0m\u001b[1;39;49m]\u001b[0m\u001b[39;49m To update, run: \u001b[0m\u001b[32;49mpython3 -m pip install --upgrade pip\u001b[0m\n",
      "Note: you may need to restart the kernel to use updated packages.\n"
     ]
    }
   ],
   "source": [
    "pip install tensorflow"
   ]
  },
  {
   "cell_type": "code",
   "execution_count": 2,
   "id": "30b2cd72",
   "metadata": {},
   "outputs": [
    {
     "name": "stdout",
     "output_type": "stream",
     "text": [
      "Requirement already satisfied: numpy==1.23.5 in /usr/local/python/3.10.13/lib/python3.10/site-packages (1.23.5)\n",
      "\n",
      "\u001b[1m[\u001b[0m\u001b[34;49mnotice\u001b[0m\u001b[1;39;49m]\u001b[0m\u001b[39;49m A new release of pip is available: \u001b[0m\u001b[31;49m24.1.2\u001b[0m\u001b[39;49m -> \u001b[0m\u001b[32;49m24.2\u001b[0m\n",
      "\u001b[1m[\u001b[0m\u001b[34;49mnotice\u001b[0m\u001b[1;39;49m]\u001b[0m\u001b[39;49m To update, run: \u001b[0m\u001b[32;49mpython3 -m pip install --upgrade pip\u001b[0m\n",
      "Note: you may need to restart the kernel to use updated packages.\n"
     ]
    }
   ],
   "source": [
    "pip install numpy==1.23.5"
   ]
  },
  {
   "cell_type": "code",
   "execution_count": 3,
   "id": "8820fcdc5ae52ae2",
   "metadata": {
    "ExecuteTime": {
     "start_time": "2024-01-26T17:04:08.432758Z"
    },
    "collapsed": false,
    "is_executing": true
   },
   "outputs": [
    {
     "name": "stderr",
     "output_type": "stream",
     "text": [
      "2024-08-03 03:12:42.243751: I external/local_xla/xla/tsl/cuda/cudart_stub.cc:32] Could not find cuda drivers on your machine, GPU will not be used.\n",
      "2024-08-03 03:12:43.286342: I external/local_xla/xla/tsl/cuda/cudart_stub.cc:32] Could not find cuda drivers on your machine, GPU will not be used.\n",
      "2024-08-03 03:12:43.589939: E external/local_xla/xla/stream_executor/cuda/cuda_fft.cc:485] Unable to register cuFFT factory: Attempting to register factory for plugin cuFFT when one has already been registered\n",
      "2024-08-03 03:12:44.187241: E external/local_xla/xla/stream_executor/cuda/cuda_dnn.cc:8454] Unable to register cuDNN factory: Attempting to register factory for plugin cuDNN when one has already been registered\n",
      "2024-08-03 03:12:44.340066: E external/local_xla/xla/stream_executor/cuda/cuda_blas.cc:1452] Unable to register cuBLAS factory: Attempting to register factory for plugin cuBLAS when one has already been registered\n",
      "2024-08-03 03:12:45.316889: I tensorflow/core/platform/cpu_feature_guard.cc:210] This TensorFlow binary is optimized to use available CPU instructions in performance-critical operations.\n",
      "To enable the following instructions: AVX2 FMA, in other operations, rebuild TensorFlow with the appropriate compiler flags.\n",
      "2024-08-03 03:12:49.158143: W tensorflow/compiler/tf2tensorrt/utils/py_utils.cc:38] TF-TRT Warning: Could not find TensorRT\n"
     ]
    }
   ],
   "source": [
    "import numpy as np\n",
    "import matplotlib.pyplot as plt\n",
    "from tensorflow.keras.datasets import cifar100\n",
    "from tensorflow.keras.utils import to_categorical\n",
    "from tensorflow.keras.models import Sequential\n",
    "from tensorflow.keras.layers import Conv2D, MaxPooling2D, Flatten, Dense\n",
    "from tensorflow.keras.optimizers import Adam\n",
    "from sklearn.model_selection import train_test_split\n",
    "\n",
    "# Load the CIFAR-100 dataset\n",
    "(x_train, y_train), (x_test, y_test) = cifar100.load_data(label_mode='fine')"
   ]
  },
  {
   "cell_type": "code",
   "execution_count": 4,
   "id": "a386b4072078138f",
   "metadata": {
    "collapsed": false
   },
   "outputs": [
    {
     "name": "stdout",
     "output_type": "stream",
     "text": [
      "Training data shape: (50000, 32, 32, 3)\n",
      "Training labels shape: (50000, 1)\n",
      "Test data shape: (10000, 32, 32, 3)\n",
      "Test labels shape: (10000, 1)\n",
      "Number of classes: 100\n",
      "Image dimensions: 32x32 with 3 channels\n"
     ]
    }
   ],
   "source": [
    "# Examine the shape of the dataset\n",
    "print(\"Training data shape:\", x_train.shape)\n",
    "print(\"Training labels shape:\", y_train.shape)\n",
    "print(\"Test data shape:\", x_test.shape)\n",
    "print(\"Test labels shape:\", y_test.shape)\n",
    "\n",
    "# Number of classes\n",
    "num_classes = len(np.unique(y_train))\n",
    "print(\"Number of classes:\", num_classes)\n",
    "\n",
    "# Image dimensions\n",
    "img_height, img_width, img_channels = x_train.shape[1], x_train.shape[2], x_train.shape[3]\n",
    "print(\"Image dimensions: {}x{} with {} channels\".format(img_height, img_width, img_channels))\n",
    "\n"
   ]
  },
  {
   "cell_type": "code",
   "execution_count": 5,
   "id": "12972236",
   "metadata": {},
   "outputs": [
    {
     "data": {
      "image/png": "[encoded data removed]",
      "text/plain": [
       "<Figure size 1000x400 with 10 Axes>"
      ]
     },
     "metadata": {},
     "output_type": "display_data"
    }
   ],
   "source": [
    "def plot_images(images, labels, class_names, num_rows, num_cols):\n",
    "    plt.figure(figsize=(num_cols * 2, num_rows * 2))\n",
    "    for i in range(num_rows * num_cols):\n",
    "        plt.subplot(num_rows, num_cols, i + 1)\n",
    "        plt.imshow(images[i])\n",
    "        plt.title(class_names[labels[i][0]])\n",
    "        plt.axis('off')\n",
    "    plt.show()\n",
    "\n",
    "# Display first 10 images from the training set\n",
    "class_names = [str(i) for i in range(num_classes)]  # Placeholder for class names\n",
    "plot_images(x_train, y_train, class_names, num_rows=2, num_cols=5)\n"
   ]
  },
  {
   "cell_type": "markdown",
   "id": "ad49291da3a819ea",
   "metadata": {
    "collapsed": false
   },
   "source": [
    "### 1b: Data Preprocessing (4 Marks)\n",
    "- With the data downloaded, it's time to preprocess it. Start by normalizing the images so that they all have pixel values in the range [0, 1].\n",
    "- Next, convert the labels to one-hot encoded vectors.\n",
    "- Finally, split the training set into training and validation sets. Use 80% of the training set for training and the remaining 20% for validation."
   ]
  },
  {
   "cell_type": "code",
   "execution_count": 6,
   "id": "b18c10172fa72d0c",
   "metadata": {
    "collapsed": false
   },
   "outputs": [],
   "source": [
    "# Normalize images\n",
    "x_train = x_train.astype('float32') / 255.0\n",
    "x_test = x_test.astype('float32') / 255.0\n"
   ]
  },
  {
   "cell_type": "code",
   "execution_count": 7,
   "id": "1e44a9ba",
   "metadata": {},
   "outputs": [],
   "source": [
    "# Convert labels to one-hot encoding\n",
    "from sklearn.model_selection import train_test_split\n",
    "from tensorflow.keras.utils import to_categorical\n",
    "\n",
    "y_train = to_categorical(y_train, num_classes=100)\n",
    "y_test = to_categorical(y_test, num_classes=100)\n",
    "\n",
    "# Split the training set into training and validation sets\n",
    "x_train, x_val, y_train, y_val = train_test_split(\n",
    "    x_train, y_train, test_size=0.2, random_state=42\n",
    ")\n",
    "\n"
   ]
  },
  {
   "cell_type": "code",
   "execution_count": 8,
   "id": "8096ae6c",
   "metadata": {},
   "outputs": [
    {
     "name": "stdout",
     "output_type": "stream",
     "text": [
      "Training data shape: (32000, 32, 32, 3)\n",
      "Validation data shape: (8000, 32, 32, 3)\n",
      "Test data shape: (10000, 32, 32, 3)\n",
      "Training labels shape: (32000, 100)\n",
      "Validation labels shape: (8000, 100)\n",
      "Test labels shape: (10000, 100)\n"
     ]
    }
   ],
   "source": [
    "# Split the training set into training and validation sets\n",
    "x_train, x_val, y_train, y_val = train_test_split(\n",
    "    x_train, y_train, test_size=0.2, random_state=42\n",
    ")\n",
    "\n",
    "# Check the shapes of the resulting datasets\n",
    "print(\"Training data shape:\", x_train.shape)\n",
    "print(\"Validation data shape:\", x_val.shape)\n",
    "print(\"Test data shape:\", x_test.shape)\n",
    "print(\"Training labels shape:\", y_train.shape)\n",
    "print(\"Validation labels shape:\", y_val.shape)\n",
    "print(\"Test labels shape:\", y_test.shape)"
   ]
  },
  {
   "cell_type": "markdown",
   "id": "5993757f08c89db7",
   "metadata": {
    "collapsed": false
   },
   "source": [
    "## Task 2: Model Development (Complete or Incomplete)\n",
    "### Task 2a: Create a Baseline CNN Model\n",
    "- Design a CNN architecture. Your architecture should use convolutional layers, max pooling layers, and dense layers. You can use any number of layers, and you can experiment with different numbers of filters, filter sizes, strides, padding, etc. The design doesn't need to be perfect, but it should be unique to you.\n",
    "- Print out the model summary."
   ]
  },
  {
   "cell_type": "code",
   "execution_count": 9,
   "id": "c9edafdaf887b8d5",
   "metadata": {
    "collapsed": false
   },
   "outputs": [
    {
     "name": "stderr",
     "output_type": "stream",
     "text": [
      "/usr/local/python/3.10.13/lib/python3.10/site-packages/keras/src/layers/convolutional/base_conv.py:107: UserWarning: Do not pass an `input_shape`/`input_dim` argument to a layer. When using Sequential models, prefer using an `Input(shape)` object as the first layer in the model instead.\n",
      "  super().__init__(activity_regularizer=activity_regularizer, **kwargs)\n"
     ]
    }
   ],
   "source": [
    "# Define the CNN model\n",
    "model = Sequential([\n",
    "    Conv2D(32, (3, 3), activation='relu', padding='same', input_shape=(32, 32, 3)),\n",
    "    MaxPooling2D((2, 2)),\n",
    "    Conv2D(64, (3, 3), activation='relu', padding='same'),\n",
    "    MaxPooling2D((2, 2)),\n",
    "    Conv2D(128, (3, 3), activation='relu', padding='same'),\n",
    "    MaxPooling2D((2, 2)),\n",
    "    Flatten(),\n",
    "    Dense(256, activation='relu'),\n",
    "    Dense(100, activation='softmax')\n",
    "])"
   ]
  },
  {
   "cell_type": "markdown",
   "id": "546324c007c73db5",
   "metadata": {
    "collapsed": false
   },
   "source": [
    "### Task 2b: Compile the model\n",
    "\n",
    "- Select an appropriate loss function and optimizer for your model. These can be ones we have looked at already, or they can be different. \n",
    "- Briefly explain your choices (one or two sentences each).\n",
    "- <b>Loss function:</b> ______\n",
    "- <b>Optimizer:</b> ______"
   ]
  },
  {
   "cell_type": "markdown",
   "id": "78fdc9d8",
   "metadata": {},
   "source": [
    "Categorical Crossentropy is choosen as the loss function, since it it used for multi-class classifcation problems wehre each label is one-hot encoded. It calculates the difference between the true label distribution and the predicted label distribution, making it suitable for our 100-class classification problem.\n"
   ]
  },
  {
   "cell_type": "markdown",
   "id": "1b82e427",
   "metadata": {},
   "source": [
    "As for the optimizer, Adam is chosen since it is an adaptive learning rate optimizer that combines the advantages of two other extensions of stochastic gradient descent (SGD). It adjusts the learning rate based on the first and second moments of the gradients, which often results in faster convergence and better performance."
   ]
  },
  {
   "cell_type": "code",
   "execution_count": 10,
   "id": "58fa76c4",
   "metadata": {},
   "outputs": [],
   "source": [
    "# Compile the model\n",
    "model.compile(\n",
    "    loss='categorical_crossentropy',  # Loss function for multi-class classification\n",
    "    optimizer='adam',                 # Optimizer with adaptive learning rate\n",
    "    metrics=['accuracy']              # Metric to evaluate the performance\n",
    ")"
   ]
  },
  {
   "cell_type": "markdown",
   "id": "653fba928413b9f6",
   "metadata": {
    "collapsed": false
   },
   "source": [
    "## Task 3: Model Training and Evaluation (Complete or Incomplete)\n",
    "### Task 3a: Train the Model\n",
    "\n",
    "- Train your model for an appropriate number of epochs. Explain your choice of the number of epochs used - you can change this number before submitting your assignment.\n",
    "- Use a batch size of 32.\n",
    "- Use the validation set for validation."
   ]
  },
  {
   "cell_type": "code",
   "execution_count": 11,
   "id": "869ad60b",
   "metadata": {},
   "outputs": [
    {
     "name": "stdout",
     "output_type": "stream",
     "text": [
      "Epoch 1/30\n",
      "\u001b[1m1000/1000\u001b[0m \u001b[32m━━━━━━━━━━━━━━━━━━━━\u001b[0m\u001b[37m\u001b[0m \u001b[1m24s\u001b[0m 23ms/step - accuracy: 0.0632 - loss: 4.2079 - val_accuracy: 0.2041 - val_loss: 3.3062\n",
      "Epoch 2/30\n",
      "\u001b[1m1000/1000\u001b[0m \u001b[32m━━━━━━━━━━━━━━━━━━━━\u001b[0m\u001b[37m\u001b[0m \u001b[1m40s\u001b[0m 22ms/step - accuracy: 0.2326 - loss: 3.1356 - val_accuracy: 0.2727 - val_loss: 2.9511\n",
      "Epoch 3/30\n",
      "\u001b[1m1000/1000\u001b[0m \u001b[32m━━━━━━━━━━━━━━━━━━━━\u001b[0m\u001b[37m\u001b[0m \u001b[1m22s\u001b[0m 22ms/step - accuracy: 0.3262 - loss: 2.6779 - val_accuracy: 0.3268 - val_loss: 2.7001\n",
      "Epoch 4/30\n",
      "\u001b[1m1000/1000\u001b[0m \u001b[32m━━━━━━━━━━━━━━━━━━━━\u001b[0m\u001b[37m\u001b[0m \u001b[1m22s\u001b[0m 22ms/step - accuracy: 0.3919 - loss: 2.3411 - val_accuracy: 0.3460 - val_loss: 2.6228\n",
      "Epoch 5/30\n",
      "\u001b[1m1000/1000\u001b[0m \u001b[32m━━━━━━━━━━━━━━━━━━━━\u001b[0m\u001b[37m\u001b[0m \u001b[1m22s\u001b[0m 22ms/step - accuracy: 0.4598 - loss: 2.0468 - val_accuracy: 0.3534 - val_loss: 2.5888\n",
      "Epoch 6/30\n",
      "\u001b[1m1000/1000\u001b[0m \u001b[32m━━━━━━━━━━━━━━━━━━━━\u001b[0m\u001b[37m\u001b[0m \u001b[1m23s\u001b[0m 23ms/step - accuracy: 0.5153 - loss: 1.7970 - val_accuracy: 0.3731 - val_loss: 2.6222\n",
      "Epoch 7/30\n",
      "\u001b[1m1000/1000\u001b[0m \u001b[32m━━━━━━━━━━━━━━━━━━━━\u001b[0m\u001b[37m\u001b[0m \u001b[1m23s\u001b[0m 22ms/step - accuracy: 0.5720 - loss: 1.5433 - val_accuracy: 0.3652 - val_loss: 2.7197\n",
      "Epoch 8/30\n",
      "\u001b[1m1000/1000\u001b[0m \u001b[32m━━━━━━━━━━━━━━━━━━━━\u001b[0m\u001b[37m\u001b[0m \u001b[1m22s\u001b[0m 22ms/step - accuracy: 0.6303 - loss: 1.3191 - val_accuracy: 0.3639 - val_loss: 2.8218\n",
      "Epoch 9/30\n",
      "\u001b[1m1000/1000\u001b[0m \u001b[32m━━━━━━━━━━━━━━━━━━━━\u001b[0m\u001b[37m\u001b[0m \u001b[1m41s\u001b[0m 22ms/step - accuracy: 0.6840 - loss: 1.1076 - val_accuracy: 0.3586 - val_loss: 3.0142\n",
      "Epoch 10/30\n",
      "\u001b[1m1000/1000\u001b[0m \u001b[32m━━━━━━━━━━━━━━━━━━━━\u001b[0m\u001b[37m\u001b[0m \u001b[1m41s\u001b[0m 22ms/step - accuracy: 0.7328 - loss: 0.9144 - val_accuracy: 0.3507 - val_loss: 3.2780\n",
      "Epoch 11/30\n",
      "\u001b[1m1000/1000\u001b[0m \u001b[32m━━━━━━━━━━━━━━━━━━━━\u001b[0m\u001b[37m\u001b[0m \u001b[1m22s\u001b[0m 22ms/step - accuracy: 0.7778 - loss: 0.7481 - val_accuracy: 0.3456 - val_loss: 3.5790\n",
      "Epoch 12/30\n",
      "\u001b[1m1000/1000\u001b[0m \u001b[32m━━━━━━━━━━━━━━━━━━━━\u001b[0m\u001b[37m\u001b[0m \u001b[1m22s\u001b[0m 22ms/step - accuracy: 0.8202 - loss: 0.5946 - val_accuracy: 0.3345 - val_loss: 4.0413\n",
      "Epoch 13/30\n",
      "\u001b[1m1000/1000\u001b[0m \u001b[32m━━━━━━━━━━━━━━━━━━━━\u001b[0m\u001b[37m\u001b[0m \u001b[1m23s\u001b[0m 22ms/step - accuracy: 0.8514 - loss: 0.4758 - val_accuracy: 0.3351 - val_loss: 4.1545\n",
      "Epoch 14/30\n",
      "\u001b[1m1000/1000\u001b[0m \u001b[32m━━━━━━━━━━━━━━━━━━━━\u001b[0m\u001b[37m\u001b[0m \u001b[1m22s\u001b[0m 22ms/step - accuracy: 0.8733 - loss: 0.3994 - val_accuracy: 0.3365 - val_loss: 4.7022\n",
      "Epoch 15/30\n",
      "\u001b[1m1000/1000\u001b[0m \u001b[32m━━━━━━━━━━━━━━━━━━━━\u001b[0m\u001b[37m\u001b[0m \u001b[1m22s\u001b[0m 22ms/step - accuracy: 0.8965 - loss: 0.3184 - val_accuracy: 0.3433 - val_loss: 5.0125\n",
      "Epoch 16/30\n",
      "\u001b[1m1000/1000\u001b[0m \u001b[32m━━━━━━━━━━━━━━━━━━━━\u001b[0m\u001b[37m\u001b[0m \u001b[1m22s\u001b[0m 22ms/step - accuracy: 0.9050 - loss: 0.2934 - val_accuracy: 0.3356 - val_loss: 5.4307\n",
      "Epoch 17/30\n",
      "\u001b[1m1000/1000\u001b[0m \u001b[32m━━━━━━━━━━━━━━━━━━━━\u001b[0m\u001b[37m\u001b[0m \u001b[1m22s\u001b[0m 22ms/step - accuracy: 0.9222 - loss: 0.2397 - val_accuracy: 0.3350 - val_loss: 5.7198\n",
      "Epoch 18/30\n",
      "\u001b[1m1000/1000\u001b[0m \u001b[32m━━━━━━━━━━━━━━━━━━━━\u001b[0m\u001b[37m\u001b[0m \u001b[1m22s\u001b[0m 22ms/step - accuracy: 0.9234 - loss: 0.2379 - val_accuracy: 0.3316 - val_loss: 6.0593\n",
      "Epoch 19/30\n",
      "\u001b[1m1000/1000\u001b[0m \u001b[32m━━━━━━━━━━━━━━━━━━━━\u001b[0m\u001b[37m\u001b[0m \u001b[1m25s\u001b[0m 25ms/step - accuracy: 0.9346 - loss: 0.2038 - val_accuracy: 0.3315 - val_loss: 6.3893\n",
      "Epoch 20/30\n",
      "\u001b[1m1000/1000\u001b[0m \u001b[32m━━━━━━━━━━━━━━━━━━━━\u001b[0m\u001b[37m\u001b[0m \u001b[1m23s\u001b[0m 23ms/step - accuracy: 0.9307 - loss: 0.2140 - val_accuracy: 0.3295 - val_loss: 6.3407\n",
      "Epoch 21/30\n",
      "\u001b[1m1000/1000\u001b[0m \u001b[32m━━━━━━━━━━━━━━━━━━━━\u001b[0m\u001b[37m\u001b[0m \u001b[1m40s\u001b[0m 22ms/step - accuracy: 0.9343 - loss: 0.2018 - val_accuracy: 0.3356 - val_loss: 6.7798\n",
      "Epoch 22/30\n",
      "\u001b[1m1000/1000\u001b[0m \u001b[32m━━━━━━━━━━━━━━━━━━━━\u001b[0m\u001b[37m\u001b[0m \u001b[1m41s\u001b[0m 22ms/step - accuracy: 0.9391 - loss: 0.1897 - val_accuracy: 0.3290 - val_loss: 7.1843\n",
      "Epoch 23/30\n",
      "\u001b[1m1000/1000\u001b[0m \u001b[32m━━━━━━━━━━━━━━━━━━━━\u001b[0m\u001b[37m\u001b[0m \u001b[1m22s\u001b[0m 22ms/step - accuracy: 0.9442 - loss: 0.1735 - val_accuracy: 0.3259 - val_loss: 7.2650\n",
      "Epoch 24/30\n",
      "\u001b[1m1000/1000\u001b[0m \u001b[32m━━━━━━━━━━━━━━━━━━━━\u001b[0m\u001b[37m\u001b[0m \u001b[1m22s\u001b[0m 22ms/step - accuracy: 0.9450 - loss: 0.1710 - val_accuracy: 0.3254 - val_loss: 7.5649\n",
      "Epoch 25/30\n",
      "\u001b[1m1000/1000\u001b[0m \u001b[32m━━━━━━━━━━━━━━━━━━━━\u001b[0m\u001b[37m\u001b[0m \u001b[1m22s\u001b[0m 22ms/step - accuracy: 0.9371 - loss: 0.1934 - val_accuracy: 0.3266 - val_loss: 7.5441\n",
      "Epoch 26/30\n",
      "\u001b[1m1000/1000\u001b[0m \u001b[32m━━━━━━━━━━━━━━━━━━━━\u001b[0m\u001b[37m\u001b[0m \u001b[1m22s\u001b[0m 22ms/step - accuracy: 0.9470 - loss: 0.1687 - val_accuracy: 0.3206 - val_loss: 7.8607\n",
      "Epoch 27/30\n",
      "\u001b[1m1000/1000\u001b[0m \u001b[32m━━━━━━━━━━━━━━━━━━━━\u001b[0m\u001b[37m\u001b[0m \u001b[1m22s\u001b[0m 22ms/step - accuracy: 0.9482 - loss: 0.1563 - val_accuracy: 0.3229 - val_loss: 7.8408\n",
      "Epoch 28/30\n",
      "\u001b[1m1000/1000\u001b[0m \u001b[32m━━━━━━━━━━━━━━━━━━━━\u001b[0m\u001b[37m\u001b[0m \u001b[1m41s\u001b[0m 22ms/step - accuracy: 0.9459 - loss: 0.1669 - val_accuracy: 0.3262 - val_loss: 7.9515\n",
      "Epoch 29/30\n",
      "\u001b[1m1000/1000\u001b[0m \u001b[32m━━━━━━━━━━━━━━━━━━━━\u001b[0m\u001b[37m\u001b[0m \u001b[1m22s\u001b[0m 22ms/step - accuracy: 0.9545 - loss: 0.1475 - val_accuracy: 0.3217 - val_loss: 8.2184\n",
      "Epoch 30/30\n",
      "\u001b[1m1000/1000\u001b[0m \u001b[32m━━━━━━━━━━━━━━━━━━━━\u001b[0m\u001b[37m\u001b[0m \u001b[1m22s\u001b[0m 22ms/step - accuracy: 0.9440 - loss: 0.1868 - val_accuracy: 0.3241 - val_loss: 8.1875\n"
     ]
    }
   ],
   "source": [
    "# Train the model\n",
    "history = model.fit(\n",
    "    x_train, y_train,\n",
    "    epochs=30,\n",
    "    batch_size=32,\n",
    "    validation_data=(x_val, y_val),\n",
    "    verbose=1\n",
    ")"
   ]
  },
  {
   "cell_type": "markdown",
   "id": "b48615c26b99d2e9",
   "metadata": {
    "collapsed": false
   },
   "source": [
    "### Task 3b: Accuracy and other relevant metrics on the test set\n",
    "\n",
    "- Report the accuracy of your model on the test set.\n",
    "- While accuracy is a good metric, there are many other ways to numerically evaluate a model. Report at least one other metric, and explain what it measures and how it is calculated.\n",
    "\n",
    "- <b>Accuracy:</b> ______\n",
    "- <b>Other metric:</b> ______\n",
    "- <b>Reason for selection:</b> _____\n",
    "- <b>Value of metric:</b> ______\n",
    "- <b>Interpretation of metric value:</b> ______"
   ]
  },
  {
   "cell_type": "code",
   "execution_count": 12,
   "id": "d53099e8",
   "metadata": {},
   "outputs": [
    {
     "name": "stdout",
     "output_type": "stream",
     "text": [
      "\u001b[1m313/313\u001b[0m \u001b[32m━━━━━━━━━━━━━━━━━━━━\u001b[0m\u001b[37m\u001b[0m \u001b[1m2s\u001b[0m 7ms/step - accuracy: 0.3251 - loss: 8.2181\n",
      "Test accuracy: 0.3248\n",
      "Test loss: 8.1816\n",
      "\u001b[1m313/313\u001b[0m \u001b[32m━━━━━━━━━━━━━━━━━━━━\u001b[0m\u001b[37m\u001b[0m \u001b[1m2s\u001b[0m 7ms/step\n",
      "\n",
      "Classification Report:\n",
      "              precision    recall  f1-score   support\n",
      "\n",
      "           0       0.43      0.70      0.53       100\n",
      "           1       0.46      0.33      0.39       100\n",
      "           2       0.20      0.21      0.20       100\n",
      "           3       0.15      0.13      0.14       100\n",
      "           4       0.14      0.22      0.17       100\n",
      "           5       0.22      0.34      0.27       100\n",
      "           6       0.26      0.36      0.30       100\n",
      "           7       0.33      0.24      0.28       100\n",
      "           8       0.46      0.41      0.43       100\n",
      "           9       0.53      0.38      0.44       100\n",
      "          10       0.22      0.19      0.20       100\n",
      "          11       0.20      0.19      0.19       100\n",
      "          12       0.30      0.29      0.29       100\n",
      "          13       0.27      0.25      0.26       100\n",
      "          14       0.20      0.29      0.24       100\n",
      "          15       0.24      0.27      0.26       100\n",
      "          16       0.31      0.28      0.30       100\n",
      "          17       0.47      0.49      0.48       100\n",
      "          18       0.30      0.20      0.24       100\n",
      "          19       0.30      0.24      0.27       100\n",
      "          20       0.64      0.62      0.63       100\n",
      "          21       0.37      0.34      0.36       100\n",
      "          22       0.23      0.30      0.26       100\n",
      "          23       0.56      0.45      0.50       100\n",
      "          24       0.49      0.60      0.54       100\n",
      "          25       0.18      0.25      0.21       100\n",
      "          26       0.23      0.28      0.25       100\n",
      "          27       0.20      0.22      0.21       100\n",
      "          28       0.50      0.50      0.50       100\n",
      "          29       0.38      0.24      0.29       100\n",
      "          30       0.28      0.38      0.32       100\n",
      "          31       0.35      0.29      0.32       100\n",
      "          32       0.20      0.29      0.24       100\n",
      "          33       0.30      0.39      0.34       100\n",
      "          34       0.24      0.36      0.29       100\n",
      "          35       0.18      0.08      0.11       100\n",
      "          36       0.55      0.22      0.31       100\n",
      "          37       0.29      0.19      0.23       100\n",
      "          38       0.16      0.22      0.18       100\n",
      "          39       0.48      0.26      0.34       100\n",
      "          40       0.27      0.27      0.27       100\n",
      "          41       0.56      0.54      0.55       100\n",
      "          42       0.28      0.29      0.29       100\n",
      "          43       0.32      0.27      0.29       100\n",
      "          44       0.13      0.18      0.15       100\n",
      "          45       0.20      0.18      0.19       100\n",
      "          46       0.15      0.21      0.17       100\n",
      "          47       0.47      0.42      0.44       100\n",
      "          48       0.57      0.47      0.51       100\n",
      "          49       0.36      0.29      0.32       100\n",
      "          50       0.21      0.13      0.16       100\n",
      "          51       0.32      0.20      0.25       100\n",
      "          52       0.48      0.31      0.38       100\n",
      "          53       0.60      0.55      0.58       100\n",
      "          54       0.43      0.47      0.45       100\n",
      "          55       0.08      0.04      0.05       100\n",
      "          56       0.41      0.52      0.46       100\n",
      "          57       0.38      0.39      0.39       100\n",
      "          58       0.32      0.43      0.36       100\n",
      "          59       0.25      0.26      0.26       100\n",
      "          60       0.79      0.59      0.67       100\n",
      "          61       0.61      0.36      0.45       100\n",
      "          62       0.40      0.37      0.39       100\n",
      "          63       0.27      0.25      0.26       100\n",
      "          64       0.18      0.14      0.16       100\n",
      "          65       0.20      0.26      0.23       100\n",
      "          66       0.30      0.21      0.25       100\n",
      "          67       0.28      0.23      0.25       100\n",
      "          68       0.66      0.63      0.65       100\n",
      "          69       0.59      0.53      0.56       100\n",
      "          70       0.39      0.46      0.42       100\n",
      "          71       0.43      0.57      0.49       100\n",
      "          72       0.13      0.09      0.11       100\n",
      "          73       0.25      0.29      0.27       100\n",
      "          74       0.21      0.19      0.20       100\n",
      "          75       0.76      0.47      0.58       100\n",
      "          76       0.58      0.52      0.55       100\n",
      "          77       0.25      0.25      0.25       100\n",
      "          78       0.12      0.13      0.12       100\n",
      "          79       0.25      0.31      0.28       100\n",
      "          80       0.17      0.27      0.21       100\n",
      "          81       0.30      0.34      0.32       100\n",
      "          82       0.66      0.59      0.62       100\n",
      "          83       0.36      0.21      0.26       100\n",
      "          84       0.22      0.23      0.23       100\n",
      "          85       0.42      0.43      0.42       100\n",
      "          86       0.39      0.45      0.42       100\n",
      "          87       0.29      0.46      0.35       100\n",
      "          88       0.39      0.32      0.35       100\n",
      "          89       0.27      0.25      0.26       100\n",
      "          90       0.27      0.31      0.29       100\n",
      "          91       0.45      0.37      0.41       100\n",
      "          92       0.29      0.25      0.27       100\n",
      "          93       0.18      0.23      0.20       100\n",
      "          94       0.67      0.56      0.61       100\n",
      "          95       0.36      0.47      0.41       100\n",
      "          96       0.27      0.27      0.27       100\n",
      "          97       0.27      0.34      0.30       100\n",
      "          98       0.14      0.10      0.12       100\n",
      "          99       0.29      0.27      0.28       100\n",
      "\n",
      "    accuracy                           0.32     10000\n",
      "   macro avg       0.34      0.32      0.33     10000\n",
      "weighted avg       0.34      0.32      0.33     10000\n",
      "\n"
     ]
    }
   ],
   "source": [
    "import tensorflow as tf\n",
    "from tensorflow.keras.datasets import cifar100\n",
    "import matplotlib.pyplot as plt\n",
    "\n",
    "# Evaluate the model on the test set\n",
    "test_loss, test_accuracy = model.evaluate(x_test, y_test, verbose=1)\n",
    "\n",
    "# Print the accuracy\n",
    "print(f\"Test accuracy: {test_accuracy:.4f}\")\n",
    "print(f\"Test loss: {test_loss:.4f}\")\n",
    "\n",
    "# Obtain predictions\n",
    "y_pred = model.predict(x_test)\n",
    "\n",
    "# Convert predictions and true labels to class indices\n",
    "y_pred_classes = tf.argmax(y_pred, axis=1)\n",
    "y_true_classes = tf.argmax(y_test, axis=1)\n",
    "\n",
    "# Compute confusion matrix\n",
    "from sklearn.metrics import confusion_matrix\n",
    "conf_matrix = confusion_matrix(y_true_classes, y_pred_classes)\n",
    "\n",
    "# Calculate Precision, Recall, and F1 Score\n",
    "from sklearn.metrics import classification_report\n",
    "report = classification_report(y_true_classes, y_pred_classes, target_names=[str(i) for i in range(100)])\n",
    "\n",
    "print(\"\\nClassification Report:\")\n",
    "print(report)\n"
   ]
  },
  {
   "cell_type": "markdown",
   "id": "b7be3ef6",
   "metadata": {},
   "source": [
    "- <b>Accuracy:</b> 0.3248\n",
    "- <b>Other metric:</b> F1 Score\n",
    "- <b>Reason for selection:</b> F1 Score is a harmonic mean of precision and recall. It is particularly useful in cases where the class distribution is imbalanced or when both false positives and false negatives are important. This metric balances the trade-off between precision and recall.\n",
    "- <b>Value of metric:</b> 0.32\n",
    "- <b>Interpretation of metric value:</b> The metric value is low, indicating that the model is not performing very well in identifying positive instances and reducing false positives and negatives.\n",
    "\n"
   ]
  },
  {
   "cell_type": "markdown",
   "id": "58d2d836d4e8ce99",
   "metadata": {
    "collapsed": false
   },
   "source": [
    "### Task 3c: Visualize the model's learning\n",
    "\n",
    "- Plot the training accuracy and validation accuracy with respect to epochs.\n",
    "- Select an image that the model correctly classified in the test set, and an image that the model incorrectly classified in the test set. Plot the images and report the model's classification probabilities for each.\n",
    "- Briefly discuss the results. What do the plots show? Do the results make sense? What do the classification probabilities indicate?"
   ]
  },
  {
   "cell_type": "code",
   "execution_count": 27,
   "id": "79acab19",
   "metadata": {},
   "outputs": [
    {
     "name": "stderr",
     "output_type": "stream",
     "text": [
      "/usr/local/python/3.10.13/lib/python3.10/site-packages/keras/src/layers/convolutional/base_conv.py:107: UserWarning: Do not pass an `input_shape`/`input_dim` argument to a layer. When using Sequential models, prefer using an `Input(shape)` object as the first layer in the model instead.\n",
      "  super().__init__(activity_regularizer=activity_regularizer, **kwargs)\n"
     ]
    },
    {
     "name": "stdout",
     "output_type": "stream",
     "text": [
      "Epoch 1/10\n"
     ]
    },
    {
     "name": "stderr",
     "output_type": "stream",
     "text": [
      "2024-08-03 02:28:45.040815: W external/local_tsl/tsl/framework/cpu_allocator_impl.cc:83] Allocation of 491520000 exceeds 10% of free system memory.\n"
     ]
    },
    {
     "name": "stdout",
     "output_type": "stream",
     "text": [
      "\u001b[1m1250/1250\u001b[0m \u001b[32m━━━━━━━━━━━━━━━━━━━━\u001b[0m\u001b[37m\u001b[0m \u001b[1m30s\u001b[0m 23ms/step - accuracy: 0.0605 - loss: 4.2066 - val_accuracy: 0.2045 - val_loss: 3.2844\n",
      "Epoch 2/10\n",
      "\u001b[1m1250/1250\u001b[0m \u001b[32m━━━━━━━━━━━━━━━━━━━━\u001b[0m\u001b[37m\u001b[0m \u001b[1m29s\u001b[0m 23ms/step - accuracy: 0.2383 - loss: 3.0890 - val_accuracy: 0.2976 - val_loss: 2.8596\n",
      "Epoch 3/10\n",
      "\u001b[1m1250/1250\u001b[0m \u001b[32m━━━━━━━━━━━━━━━━━━━━\u001b[0m\u001b[37m\u001b[0m \u001b[1m41s\u001b[0m 23ms/step - accuracy: 0.3364 - loss: 2.6066 - val_accuracy: 0.3339 - val_loss: 2.6346\n",
      "Epoch 4/10\n",
      "\u001b[1m1250/1250\u001b[0m \u001b[32m━━━━━━━━━━━━━━━━━━━━\u001b[0m\u001b[37m\u001b[0m \u001b[1m29s\u001b[0m 23ms/step - accuracy: 0.4054 - loss: 2.3013 - val_accuracy: 0.3576 - val_loss: 2.5357\n",
      "Epoch 5/10\n",
      "\u001b[1m1250/1250\u001b[0m \u001b[32m━━━━━━━━━━━━━━━━━━━━\u001b[0m\u001b[37m\u001b[0m \u001b[1m28s\u001b[0m 23ms/step - accuracy: 0.4665 - loss: 2.0273 - val_accuracy: 0.3742 - val_loss: 2.4777\n",
      "Epoch 6/10\n",
      "\u001b[1m1250/1250\u001b[0m \u001b[32m━━━━━━━━━━━━━━━━━━━━\u001b[0m\u001b[37m\u001b[0m \u001b[1m29s\u001b[0m 23ms/step - accuracy: 0.5113 - loss: 1.8175 - val_accuracy: 0.3915 - val_loss: 2.4769\n",
      "Epoch 7/10\n",
      "\u001b[1m1250/1250\u001b[0m \u001b[32m━━━━━━━━━━━━━━━━━━━━\u001b[0m\u001b[37m\u001b[0m \u001b[1m29s\u001b[0m 23ms/step - accuracy: 0.5579 - loss: 1.5981 - val_accuracy: 0.3905 - val_loss: 2.5329\n",
      "Epoch 8/10\n",
      "\u001b[1m1250/1250\u001b[0m \u001b[32m━━━━━━━━━━━━━━━━━━━━\u001b[0m\u001b[37m\u001b[0m \u001b[1m29s\u001b[0m 23ms/step - accuracy: 0.6092 - loss: 1.4016 - val_accuracy: 0.3957 - val_loss: 2.5994\n",
      "Epoch 9/10\n",
      "\u001b[1m1250/1250\u001b[0m \u001b[32m━━━━━━━━━━━━━━━━━━━━\u001b[0m\u001b[37m\u001b[0m \u001b[1m41s\u001b[0m 23ms/step - accuracy: 0.6511 - loss: 1.2251 - val_accuracy: 0.3732 - val_loss: 2.6858\n",
      "Epoch 10/10\n",
      "\u001b[1m1250/1250\u001b[0m \u001b[32m━━━━━━━━━━━━━━━━━━━━\u001b[0m\u001b[37m\u001b[0m \u001b[1m29s\u001b[0m 23ms/step - accuracy: 0.6970 - loss: 1.0578 - val_accuracy: 0.3824 - val_loss: 2.8641\n",
      "Available history keys: dict_keys(['accuracy', 'loss', 'val_accuracy', 'val_loss'])\n"
     ]
    },
    {
     "data": {
      "image/png": "[encoded data removed]",
      "text/plain": [
       "<Figure size 1200x600 with 1 Axes>"
      ]
     },
     "metadata": {},
     "output_type": "display_data"
    }
   ],
   "source": [
    "import matplotlib.pyplot as plt\n",
    "\n",
    "# Assuming 'history' is the History object returned by model.fit()\n",
    "history = model.history\n",
    "\n",
    "# Plot training & validation accuracy\n",
    "plt.figure(figsize=(12, 6))\n",
    "\n",
    "# Plot training accuracy\n",
    "plt.plot(history.history['accuracy'], label='Training Accuracy')\n",
    "# Plot validation accuracy\n",
    "plt.plot(history.history['val_accuracy'], label='Validation Accuracy')\n",
    "\n",
    "plt.title('Training and Validation Accuracy')\n",
    "plt.xlabel('Epoch')\n",
    "plt.ylabel('Accuracy')\n",
    "plt.legend()\n",
    "plt.grid(True)\n",
    "plt.show()"
   ]
  },
  {
   "cell_type": "markdown",
   "id": "a648758ebea0561d",
   "metadata": {
    "collapsed": false
   },
   "source": [
    "## Task 4: Model Enhancement (Complete or Incomplete)\n",
    "### Task 4a: Implementation of at least one advanced technique\n",
    "\n",
    "- Now it's time to improve your model. Implement at least one technique to improve your model's performance. You can use any of the techniques we have covered in class, or you can use a technique that we haven't covered. If you need inspiration, you can refer to the [Keras documentation](https://keras.io/).\n",
    "- Explain the technique you used and why you chose it.\n",
    "- If you used a technique that requires tuning, explain how you selected the values for the hyperparameters."
   ]
  },
  {
   "cell_type": "markdown",
   "id": "e1782533",
   "metadata": {},
   "source": [
    "Technique: Dropout is a regularization method that randomly sets a fraction of the input units to 0 at each update during training, which helps prevent overfitting. Reason of using dropout is that Dropout reduces overfitting by preventing complex co-adaptations of neurons. It is a simple yet effective regularization method."
   ]
  },
  {
   "cell_type": "markdown",
   "id": "d9467a483a1dd5d3",
   "metadata": {
    "collapsed": false
   },
   "source": [
    "### Task 4b: Evaluation of the enhanced model\n",
    "\n",
    "- Re-train your model using the same number of epochs as before.\n",
    "- Compare the accuracy and other selected metric on the test set to the results you obtained before.\n",
    "- As before, plot the training accuracy and validation accuracy with respect to epochs, and select an image that the model correctly classified in the test set, and an image that the model incorrectly classified in the test set. Plot the images and report the model's classification probabilities for each."
   ]
  },
  {
   "cell_type": "code",
   "execution_count": 10,
   "id": "7c4701b36dc8fc55",
   "metadata": {
    "collapsed": false
   },
   "outputs": [
    {
     "name": "stderr",
     "output_type": "stream",
     "text": [
      "/usr/local/python/3.10.13/lib/python3.10/site-packages/keras/src/layers/convolutional/base_conv.py:107: UserWarning: Do not pass an `input_shape`/`input_dim` argument to a layer. When using Sequential models, prefer using an `Input(shape)` object as the first layer in the model instead.\n",
      "  super().__init__(activity_regularizer=activity_regularizer, **kwargs)\n"
     ]
    },
    {
     "data": {
      "text/html": [
       "<pre style=\"white-space:pre;overflow-x:auto;line-height:normal;font-family:Menlo,'DejaVu Sans Mono',consolas,'Courier New',monospace\"><span style=\"font-weight: bold\">Model: \"sequential_1\"</span>\n",
       "</pre>\n"
      ],
      "text/plain": [
       "\u001b[1mModel: \"sequential_1\"\u001b[0m\n"
      ]
     },
     "metadata": {},
     "output_type": "display_data"
    },
    {
     "data": {
      "text/html": [
       "<pre style=\"white-space:pre;overflow-x:auto;line-height:normal;font-family:Menlo,'DejaVu Sans Mono',consolas,'Courier New',monospace\">┏━━━━━━━━━━━━━━━━━━━━━━━━━━━━━━━━━┳━━━━━━━━━━━━━━━━━━━━━━━━┳━━━━━━━━━━━━━━━┓\n",
       "┃<span style=\"font-weight: bold\"> Layer (type)                    </span>┃<span style=\"font-weight: bold\"> Output Shape           </span>┃<span style=\"font-weight: bold\">       Param # </span>┃\n",
       "┡━━━━━━━━━━━━━━━━━━━━━━━━━━━━━━━━━╇━━━━━━━━━━━━━━━━━━━━━━━━╇━━━━━━━━━━━━━━━┩\n",
       "│ conv2d_3 (<span style=\"color: #0087ff; text-decoration-color: #0087ff\">Conv2D</span>)               │ (<span style=\"color: #00d7ff; text-decoration-color: #00d7ff\">None</span>, <span style=\"color: #00af00; text-decoration-color: #00af00\">32</span>, <span style=\"color: #00af00; text-decoration-color: #00af00\">32</span>, <span style=\"color: #00af00; text-decoration-color: #00af00\">32</span>)     │           <span style=\"color: #00af00; text-decoration-color: #00af00\">896</span> │\n",
       "├─────────────────────────────────┼────────────────────────┼───────────────┤\n",
       "│ max_pooling2d_3 (<span style=\"color: #0087ff; text-decoration-color: #0087ff\">MaxPooling2D</span>)  │ (<span style=\"color: #00d7ff; text-decoration-color: #00d7ff\">None</span>, <span style=\"color: #00af00; text-decoration-color: #00af00\">16</span>, <span style=\"color: #00af00; text-decoration-color: #00af00\">16</span>, <span style=\"color: #00af00; text-decoration-color: #00af00\">32</span>)     │             <span style=\"color: #00af00; text-decoration-color: #00af00\">0</span> │\n",
       "├─────────────────────────────────┼────────────────────────┼───────────────┤\n",
       "│ dropout_4 (<span style=\"color: #0087ff; text-decoration-color: #0087ff\">Dropout</span>)             │ (<span style=\"color: #00d7ff; text-decoration-color: #00d7ff\">None</span>, <span style=\"color: #00af00; text-decoration-color: #00af00\">16</span>, <span style=\"color: #00af00; text-decoration-color: #00af00\">16</span>, <span style=\"color: #00af00; text-decoration-color: #00af00\">32</span>)     │             <span style=\"color: #00af00; text-decoration-color: #00af00\">0</span> │\n",
       "├─────────────────────────────────┼────────────────────────┼───────────────┤\n",
       "│ conv2d_4 (<span style=\"color: #0087ff; text-decoration-color: #0087ff\">Conv2D</span>)               │ (<span style=\"color: #00d7ff; text-decoration-color: #00d7ff\">None</span>, <span style=\"color: #00af00; text-decoration-color: #00af00\">16</span>, <span style=\"color: #00af00; text-decoration-color: #00af00\">16</span>, <span style=\"color: #00af00; text-decoration-color: #00af00\">64</span>)     │        <span style=\"color: #00af00; text-decoration-color: #00af00\">18,496</span> │\n",
       "├─────────────────────────────────┼────────────────────────┼───────────────┤\n",
       "│ max_pooling2d_4 (<span style=\"color: #0087ff; text-decoration-color: #0087ff\">MaxPooling2D</span>)  │ (<span style=\"color: #00d7ff; text-decoration-color: #00d7ff\">None</span>, <span style=\"color: #00af00; text-decoration-color: #00af00\">8</span>, <span style=\"color: #00af00; text-decoration-color: #00af00\">8</span>, <span style=\"color: #00af00; text-decoration-color: #00af00\">64</span>)       │             <span style=\"color: #00af00; text-decoration-color: #00af00\">0</span> │\n",
       "├─────────────────────────────────┼────────────────────────┼───────────────┤\n",
       "│ dropout_5 (<span style=\"color: #0087ff; text-decoration-color: #0087ff\">Dropout</span>)             │ (<span style=\"color: #00d7ff; text-decoration-color: #00d7ff\">None</span>, <span style=\"color: #00af00; text-decoration-color: #00af00\">8</span>, <span style=\"color: #00af00; text-decoration-color: #00af00\">8</span>, <span style=\"color: #00af00; text-decoration-color: #00af00\">64</span>)       │             <span style=\"color: #00af00; text-decoration-color: #00af00\">0</span> │\n",
       "├─────────────────────────────────┼────────────────────────┼───────────────┤\n",
       "│ conv2d_5 (<span style=\"color: #0087ff; text-decoration-color: #0087ff\">Conv2D</span>)               │ (<span style=\"color: #00d7ff; text-decoration-color: #00d7ff\">None</span>, <span style=\"color: #00af00; text-decoration-color: #00af00\">8</span>, <span style=\"color: #00af00; text-decoration-color: #00af00\">8</span>, <span style=\"color: #00af00; text-decoration-color: #00af00\">128</span>)      │        <span style=\"color: #00af00; text-decoration-color: #00af00\">73,856</span> │\n",
       "├─────────────────────────────────┼────────────────────────┼───────────────┤\n",
       "│ max_pooling2d_5 (<span style=\"color: #0087ff; text-decoration-color: #0087ff\">MaxPooling2D</span>)  │ (<span style=\"color: #00d7ff; text-decoration-color: #00d7ff\">None</span>, <span style=\"color: #00af00; text-decoration-color: #00af00\">4</span>, <span style=\"color: #00af00; text-decoration-color: #00af00\">4</span>, <span style=\"color: #00af00; text-decoration-color: #00af00\">128</span>)      │             <span style=\"color: #00af00; text-decoration-color: #00af00\">0</span> │\n",
       "├─────────────────────────────────┼────────────────────────┼───────────────┤\n",
       "│ dropout_6 (<span style=\"color: #0087ff; text-decoration-color: #0087ff\">Dropout</span>)             │ (<span style=\"color: #00d7ff; text-decoration-color: #00d7ff\">None</span>, <span style=\"color: #00af00; text-decoration-color: #00af00\">4</span>, <span style=\"color: #00af00; text-decoration-color: #00af00\">4</span>, <span style=\"color: #00af00; text-decoration-color: #00af00\">128</span>)      │             <span style=\"color: #00af00; text-decoration-color: #00af00\">0</span> │\n",
       "├─────────────────────────────────┼────────────────────────┼───────────────┤\n",
       "│ flatten_1 (<span style=\"color: #0087ff; text-decoration-color: #0087ff\">Flatten</span>)             │ (<span style=\"color: #00d7ff; text-decoration-color: #00d7ff\">None</span>, <span style=\"color: #00af00; text-decoration-color: #00af00\">2048</span>)           │             <span style=\"color: #00af00; text-decoration-color: #00af00\">0</span> │\n",
       "├─────────────────────────────────┼────────────────────────┼───────────────┤\n",
       "│ dense_2 (<span style=\"color: #0087ff; text-decoration-color: #0087ff\">Dense</span>)                 │ (<span style=\"color: #00d7ff; text-decoration-color: #00d7ff\">None</span>, <span style=\"color: #00af00; text-decoration-color: #00af00\">256</span>)            │       <span style=\"color: #00af00; text-decoration-color: #00af00\">524,544</span> │\n",
       "├─────────────────────────────────┼────────────────────────┼───────────────┤\n",
       "│ dropout_7 (<span style=\"color: #0087ff; text-decoration-color: #0087ff\">Dropout</span>)             │ (<span style=\"color: #00d7ff; text-decoration-color: #00d7ff\">None</span>, <span style=\"color: #00af00; text-decoration-color: #00af00\">256</span>)            │             <span style=\"color: #00af00; text-decoration-color: #00af00\">0</span> │\n",
       "├─────────────────────────────────┼────────────────────────┼───────────────┤\n",
       "│ dense_3 (<span style=\"color: #0087ff; text-decoration-color: #0087ff\">Dense</span>)                 │ (<span style=\"color: #00d7ff; text-decoration-color: #00d7ff\">None</span>, <span style=\"color: #00af00; text-decoration-color: #00af00\">100</span>)            │        <span style=\"color: #00af00; text-decoration-color: #00af00\">25,700</span> │\n",
       "└─────────────────────────────────┴────────────────────────┴───────────────┘\n",
       "</pre>\n"
      ],
      "text/plain": [
       "┏━━━━━━━━━━━━━━━━━━━━━━━━━━━━━━━━━┳━━━━━━━━━━━━━━━━━━━━━━━━┳━━━━━━━━━━━━━━━┓\n",
       "┃\u001b[1m \u001b[0m\u001b[1mLayer (type)                   \u001b[0m\u001b[1m \u001b[0m┃\u001b[1m \u001b[0m\u001b[1mOutput Shape          \u001b[0m\u001b[1m \u001b[0m┃\u001b[1m \u001b[0m\u001b[1m      Param #\u001b[0m\u001b[1m \u001b[0m┃\n",
       "┡━━━━━━━━━━━━━━━━━━━━━━━━━━━━━━━━━╇━━━━━━━━━━━━━━━━━━━━━━━━╇━━━━━━━━━━━━━━━┩\n",
       "│ conv2d_3 (\u001b[38;5;33mConv2D\u001b[0m)               │ (\u001b[38;5;45mNone\u001b[0m, \u001b[38;5;34m32\u001b[0m, \u001b[38;5;34m32\u001b[0m, \u001b[38;5;34m32\u001b[0m)     │           \u001b[38;5;34m896\u001b[0m │\n",
       "├─────────────────────────────────┼────────────────────────┼───────────────┤\n",
       "│ max_pooling2d_3 (\u001b[38;5;33mMaxPooling2D\u001b[0m)  │ (\u001b[38;5;45mNone\u001b[0m, \u001b[38;5;34m16\u001b[0m, \u001b[38;5;34m16\u001b[0m, \u001b[38;5;34m32\u001b[0m)     │             \u001b[38;5;34m0\u001b[0m │\n",
       "├─────────────────────────────────┼────────────────────────┼───────────────┤\n",
       "│ dropout_4 (\u001b[38;5;33mDropout\u001b[0m)             │ (\u001b[38;5;45mNone\u001b[0m, \u001b[38;5;34m16\u001b[0m, \u001b[38;5;34m16\u001b[0m, \u001b[38;5;34m32\u001b[0m)     │             \u001b[38;5;34m0\u001b[0m │\n",
       "├─────────────────────────────────┼────────────────────────┼───────────────┤\n",
       "│ conv2d_4 (\u001b[38;5;33mConv2D\u001b[0m)               │ (\u001b[38;5;45mNone\u001b[0m, \u001b[38;5;34m16\u001b[0m, \u001b[38;5;34m16\u001b[0m, \u001b[38;5;34m64\u001b[0m)     │        \u001b[38;5;34m18,496\u001b[0m │\n",
       "├─────────────────────────────────┼────────────────────────┼───────────────┤\n",
       "│ max_pooling2d_4 (\u001b[38;5;33mMaxPooling2D\u001b[0m)  │ (\u001b[38;5;45mNone\u001b[0m, \u001b[38;5;34m8\u001b[0m, \u001b[38;5;34m8\u001b[0m, \u001b[38;5;34m64\u001b[0m)       │             \u001b[38;5;34m0\u001b[0m │\n",
       "├─────────────────────────────────┼────────────────────────┼───────────────┤\n",
       "│ dropout_5 (\u001b[38;5;33mDropout\u001b[0m)             │ (\u001b[38;5;45mNone\u001b[0m, \u001b[38;5;34m8\u001b[0m, \u001b[38;5;34m8\u001b[0m, \u001b[38;5;34m64\u001b[0m)       │             \u001b[38;5;34m0\u001b[0m │\n",
       "├─────────────────────────────────┼────────────────────────┼───────────────┤\n",
       "│ conv2d_5 (\u001b[38;5;33mConv2D\u001b[0m)               │ (\u001b[38;5;45mNone\u001b[0m, \u001b[38;5;34m8\u001b[0m, \u001b[38;5;34m8\u001b[0m, \u001b[38;5;34m128\u001b[0m)      │        \u001b[38;5;34m73,856\u001b[0m │\n",
       "├─────────────────────────────────┼────────────────────────┼───────────────┤\n",
       "│ max_pooling2d_5 (\u001b[38;5;33mMaxPooling2D\u001b[0m)  │ (\u001b[38;5;45mNone\u001b[0m, \u001b[38;5;34m4\u001b[0m, \u001b[38;5;34m4\u001b[0m, \u001b[38;5;34m128\u001b[0m)      │             \u001b[38;5;34m0\u001b[0m │\n",
       "├─────────────────────────────────┼────────────────────────┼───────────────┤\n",
       "│ dropout_6 (\u001b[38;5;33mDropout\u001b[0m)             │ (\u001b[38;5;45mNone\u001b[0m, \u001b[38;5;34m4\u001b[0m, \u001b[38;5;34m4\u001b[0m, \u001b[38;5;34m128\u001b[0m)      │             \u001b[38;5;34m0\u001b[0m │\n",
       "├─────────────────────────────────┼────────────────────────┼───────────────┤\n",
       "│ flatten_1 (\u001b[38;5;33mFlatten\u001b[0m)             │ (\u001b[38;5;45mNone\u001b[0m, \u001b[38;5;34m2048\u001b[0m)           │             \u001b[38;5;34m0\u001b[0m │\n",
       "├─────────────────────────────────┼────────────────────────┼───────────────┤\n",
       "│ dense_2 (\u001b[38;5;33mDense\u001b[0m)                 │ (\u001b[38;5;45mNone\u001b[0m, \u001b[38;5;34m256\u001b[0m)            │       \u001b[38;5;34m524,544\u001b[0m │\n",
       "├─────────────────────────────────┼────────────────────────┼───────────────┤\n",
       "│ dropout_7 (\u001b[38;5;33mDropout\u001b[0m)             │ (\u001b[38;5;45mNone\u001b[0m, \u001b[38;5;34m256\u001b[0m)            │             \u001b[38;5;34m0\u001b[0m │\n",
       "├─────────────────────────────────┼────────────────────────┼───────────────┤\n",
       "│ dense_3 (\u001b[38;5;33mDense\u001b[0m)                 │ (\u001b[38;5;45mNone\u001b[0m, \u001b[38;5;34m100\u001b[0m)            │        \u001b[38;5;34m25,700\u001b[0m │\n",
       "└─────────────────────────────────┴────────────────────────┴───────────────┘\n"
      ]
     },
     "metadata": {},
     "output_type": "display_data"
    },
    {
     "data": {
      "text/html": [
       "<pre style=\"white-space:pre;overflow-x:auto;line-height:normal;font-family:Menlo,'DejaVu Sans Mono',consolas,'Courier New',monospace\"><span style=\"font-weight: bold\"> Total params: </span><span style=\"color: #00af00; text-decoration-color: #00af00\">643,492</span> (2.45 MB)\n",
       "</pre>\n"
      ],
      "text/plain": [
       "\u001b[1m Total params: \u001b[0m\u001b[38;5;34m643,492\u001b[0m (2.45 MB)\n"
      ]
     },
     "metadata": {},
     "output_type": "display_data"
    },
    {
     "data": {
      "text/html": [
       "<pre style=\"white-space:pre;overflow-x:auto;line-height:normal;font-family:Menlo,'DejaVu Sans Mono',consolas,'Courier New',monospace\"><span style=\"font-weight: bold\"> Trainable params: </span><span style=\"color: #00af00; text-decoration-color: #00af00\">643,492</span> (2.45 MB)\n",
       "</pre>\n"
      ],
      "text/plain": [
       "\u001b[1m Trainable params: \u001b[0m\u001b[38;5;34m643,492\u001b[0m (2.45 MB)\n"
      ]
     },
     "metadata": {},
     "output_type": "display_data"
    },
    {
     "data": {
      "text/html": [
       "<pre style=\"white-space:pre;overflow-x:auto;line-height:normal;font-family:Menlo,'DejaVu Sans Mono',consolas,'Courier New',monospace\"><span style=\"font-weight: bold\"> Non-trainable params: </span><span style=\"color: #00af00; text-decoration-color: #00af00\">0</span> (0.00 B)\n",
       "</pre>\n"
      ],
      "text/plain": [
       "\u001b[1m Non-trainable params: \u001b[0m\u001b[38;5;34m0\u001b[0m (0.00 B)\n"
      ]
     },
     "metadata": {},
     "output_type": "display_data"
    },
    {
     "name": "stdout",
     "output_type": "stream",
     "text": [
      "Epoch 1/30\n",
      "\u001b[1m1000/1000\u001b[0m \u001b[32m━━━━━━━━━━━━━━━━━━━━\u001b[0m\u001b[37m\u001b[0m \u001b[1m26s\u001b[0m 25ms/step - accuracy: 0.0251 - loss: 4.4605 - val_accuracy: 0.1086 - val_loss: 3.8790\n",
      "Epoch 2/30\n",
      "\u001b[1m1000/1000\u001b[0m \u001b[32m━━━━━━━━━━━━━━━━━━━━\u001b[0m\u001b[37m\u001b[0m \u001b[1m40s\u001b[0m 24ms/step - accuracy: 0.1080 - loss: 3.8438 - val_accuracy: 0.1691 - val_loss: 3.4936\n",
      "Epoch 3/30\n",
      "\u001b[1m1000/1000\u001b[0m \u001b[32m━━━━━━━━━━━━━━━━━━━━\u001b[0m\u001b[37m\u001b[0m \u001b[1m24s\u001b[0m 24ms/step - accuracy: 0.1637 - loss: 3.5298 - val_accuracy: 0.2185 - val_loss: 3.2765\n",
      "Epoch 4/30\n",
      "\u001b[1m1000/1000\u001b[0m \u001b[32m━━━━━━━━━━━━━━━━━━━━\u001b[0m\u001b[37m\u001b[0m \u001b[1m41s\u001b[0m 24ms/step - accuracy: 0.1900 - loss: 3.3408 - val_accuracy: 0.2545 - val_loss: 3.1087\n",
      "Epoch 5/30\n",
      "\u001b[1m1000/1000\u001b[0m \u001b[32m━━━━━━━━━━━━━━━━━━━━\u001b[0m\u001b[37m\u001b[0m \u001b[1m24s\u001b[0m 24ms/step - accuracy: 0.2161 - loss: 3.2046 - val_accuracy: 0.2804 - val_loss: 2.9311\n",
      "Epoch 6/30\n",
      "\u001b[1m1000/1000\u001b[0m \u001b[32m━━━━━━━━━━━━━━━━━━━━\u001b[0m\u001b[37m\u001b[0m \u001b[1m24s\u001b[0m 24ms/step - accuracy: 0.2360 - loss: 3.0919 - val_accuracy: 0.2881 - val_loss: 2.9193\n",
      "Epoch 7/30\n",
      "\u001b[1m1000/1000\u001b[0m \u001b[32m━━━━━━━━━━━━━━━━━━━━\u001b[0m\u001b[37m\u001b[0m \u001b[1m41s\u001b[0m 24ms/step - accuracy: 0.2535 - loss: 2.9896 - val_accuracy: 0.2889 - val_loss: 2.8895\n",
      "Epoch 8/30\n",
      "\u001b[1m1000/1000\u001b[0m \u001b[32m━━━━━━━━━━━━━━━━━━━━\u001b[0m\u001b[37m\u001b[0m \u001b[1m24s\u001b[0m 24ms/step - accuracy: 0.2664 - loss: 2.9205 - val_accuracy: 0.3180 - val_loss: 2.7448\n",
      "Epoch 9/30\n",
      "\u001b[1m1000/1000\u001b[0m \u001b[32m━━━━━━━━━━━━━━━━━━━━\u001b[0m\u001b[37m\u001b[0m \u001b[1m41s\u001b[0m 24ms/step - accuracy: 0.2788 - loss: 2.8484 - val_accuracy: 0.3255 - val_loss: 2.6956\n",
      "Epoch 10/30\n",
      "\u001b[1m1000/1000\u001b[0m \u001b[32m━━━━━━━━━━━━━━━━━━━━\u001b[0m\u001b[37m\u001b[0m \u001b[1m24s\u001b[0m 24ms/step - accuracy: 0.2909 - loss: 2.8020 - val_accuracy: 0.3306 - val_loss: 2.6887\n",
      "Epoch 11/30\n",
      "\u001b[1m1000/1000\u001b[0m \u001b[32m━━━━━━━━━━━━━━━━━━━━\u001b[0m\u001b[37m\u001b[0m \u001b[1m24s\u001b[0m 24ms/step - accuracy: 0.2912 - loss: 2.7827 - val_accuracy: 0.3494 - val_loss: 2.5900\n",
      "Epoch 12/30\n",
      "\u001b[1m1000/1000\u001b[0m \u001b[32m━━━━━━━━━━━━━━━━━━━━\u001b[0m\u001b[37m\u001b[0m \u001b[1m41s\u001b[0m 24ms/step - accuracy: 0.3054 - loss: 2.7329 - val_accuracy: 0.3302 - val_loss: 2.6581\n",
      "Epoch 13/30\n",
      "\u001b[1m1000/1000\u001b[0m \u001b[32m━━━━━━━━━━━━━━━━━━━━\u001b[0m\u001b[37m\u001b[0m \u001b[1m27s\u001b[0m 27ms/step - accuracy: 0.3168 - loss: 2.6613 - val_accuracy: 0.3419 - val_loss: 2.5856\n",
      "Epoch 14/30\n",
      "\u001b[1m1000/1000\u001b[0m \u001b[32m━━━━━━━━━━━━━━━━━━━━\u001b[0m\u001b[37m\u001b[0m \u001b[1m39s\u001b[0m 24ms/step - accuracy: 0.3188 - loss: 2.6560 - val_accuracy: 0.3435 - val_loss: 2.6195\n",
      "Epoch 15/30\n",
      "\u001b[1m1000/1000\u001b[0m \u001b[32m━━━━━━━━━━━━━━━━━━━━\u001b[0m\u001b[37m\u001b[0m \u001b[1m24s\u001b[0m 24ms/step - accuracy: 0.3241 - loss: 2.6280 - val_accuracy: 0.3616 - val_loss: 2.5353\n",
      "Epoch 16/30\n",
      "\u001b[1m1000/1000\u001b[0m \u001b[32m━━━━━━━━━━━━━━━━━━━━\u001b[0m\u001b[37m\u001b[0m \u001b[1m41s\u001b[0m 24ms/step - accuracy: 0.3330 - loss: 2.5940 - val_accuracy: 0.3623 - val_loss: 2.5250\n",
      "Epoch 17/30\n",
      "\u001b[1m1000/1000\u001b[0m \u001b[32m━━━━━━━━━━━━━━━━━━━━\u001b[0m\u001b[37m\u001b[0m \u001b[1m24s\u001b[0m 24ms/step - accuracy: 0.3356 - loss: 2.5759 - val_accuracy: 0.3659 - val_loss: 2.5027\n",
      "Epoch 18/30\n",
      "\u001b[1m1000/1000\u001b[0m \u001b[32m━━━━━━━━━━━━━━━━━━━━\u001b[0m\u001b[37m\u001b[0m \u001b[1m24s\u001b[0m 24ms/step - accuracy: 0.3411 - loss: 2.5396 - val_accuracy: 0.3779 - val_loss: 2.4429\n",
      "Epoch 19/30\n",
      "\u001b[1m1000/1000\u001b[0m \u001b[32m━━━━━━━━━━━━━━━━━━━━\u001b[0m\u001b[37m\u001b[0m \u001b[1m41s\u001b[0m 24ms/step - accuracy: 0.3508 - loss: 2.5010 - val_accuracy: 0.3844 - val_loss: 2.4136\n",
      "Epoch 20/30\n",
      "\u001b[1m1000/1000\u001b[0m \u001b[32m━━━━━━━━━━━━━━━━━━━━\u001b[0m\u001b[37m\u001b[0m \u001b[1m41s\u001b[0m 24ms/step - accuracy: 0.3482 - loss: 2.5105 - val_accuracy: 0.3812 - val_loss: 2.4362\n",
      "Epoch 21/30\n",
      "\u001b[1m1000/1000\u001b[0m \u001b[32m━━━━━━━━━━━━━━━━━━━━\u001b[0m\u001b[37m\u001b[0m \u001b[1m24s\u001b[0m 24ms/step - accuracy: 0.3568 - loss: 2.4639 - val_accuracy: 0.3844 - val_loss: 2.4293\n",
      "Epoch 22/30\n",
      "\u001b[1m1000/1000\u001b[0m \u001b[32m━━━━━━━━━━━━━━━━━━━━\u001b[0m\u001b[37m\u001b[0m \u001b[1m24s\u001b[0m 24ms/step - accuracy: 0.3620 - loss: 2.4419 - val_accuracy: 0.3685 - val_loss: 2.4791\n",
      "Epoch 23/30\n",
      "\u001b[1m1000/1000\u001b[0m \u001b[32m━━━━━━━━━━━━━━━━━━━━\u001b[0m\u001b[37m\u001b[0m \u001b[1m41s\u001b[0m 24ms/step - accuracy: 0.3629 - loss: 2.4374 - val_accuracy: 0.3776 - val_loss: 2.4618\n",
      "Epoch 24/30\n",
      "\u001b[1m1000/1000\u001b[0m \u001b[32m━━━━━━━━━━━━━━━━━━━━\u001b[0m\u001b[37m\u001b[0m \u001b[1m41s\u001b[0m 24ms/step - accuracy: 0.3667 - loss: 2.4117 - val_accuracy: 0.3865 - val_loss: 2.4294\n",
      "Epoch 25/30\n",
      "\u001b[1m1000/1000\u001b[0m \u001b[32m━━━━━━━━━━━━━━━━━━━━\u001b[0m\u001b[37m\u001b[0m \u001b[1m24s\u001b[0m 24ms/step - accuracy: 0.3675 - loss: 2.4183 - val_accuracy: 0.3749 - val_loss: 2.4356\n",
      "Epoch 26/30\n",
      "\u001b[1m1000/1000\u001b[0m \u001b[32m━━━━━━━━━━━━━━━━━━━━\u001b[0m\u001b[37m\u001b[0m \u001b[1m41s\u001b[0m 24ms/step - accuracy: 0.3757 - loss: 2.3660 - val_accuracy: 0.3988 - val_loss: 2.3510\n",
      "Epoch 27/30\n",
      "\u001b[1m1000/1000\u001b[0m \u001b[32m━━━━━━━━━━━━━━━━━━━━\u001b[0m\u001b[37m\u001b[0m \u001b[1m24s\u001b[0m 24ms/step - accuracy: 0.3767 - loss: 2.3494 - val_accuracy: 0.3853 - val_loss: 2.4033\n",
      "Epoch 28/30\n",
      "\u001b[1m1000/1000\u001b[0m \u001b[32m━━━━━━━━━━━━━━━━━━━━\u001b[0m\u001b[37m\u001b[0m \u001b[1m24s\u001b[0m 24ms/step - accuracy: 0.3805 - loss: 2.3613 - val_accuracy: 0.3957 - val_loss: 2.3740\n",
      "Epoch 29/30\n",
      "\u001b[1m1000/1000\u001b[0m \u001b[32m━━━━━━━━━━━━━━━━━━━━\u001b[0m\u001b[37m\u001b[0m \u001b[1m41s\u001b[0m 24ms/step - accuracy: 0.3774 - loss: 2.3542 - val_accuracy: 0.3936 - val_loss: 2.3533\n",
      "Epoch 30/30\n",
      "\u001b[1m1000/1000\u001b[0m \u001b[32m━━━━━━━━━━━━━━━━━━━━\u001b[0m\u001b[37m\u001b[0m \u001b[1m41s\u001b[0m 24ms/step - accuracy: 0.3889 - loss: 2.3238 - val_accuracy: 0.3920 - val_loss: 2.3682\n"
     ]
    }
   ],
   "source": [
    "from tensorflow.keras import layers, models\n",
    "\n",
    "# Define the CNN model with Dropout\n",
    "model_with_dropout = models.Sequential([\n",
    "    # First convolutional block\n",
    "    layers.Conv2D(32, (3, 3), activation='relu', padding='same', input_shape=(32, 32, 3)),\n",
    "    layers.MaxPooling2D((2, 2)),\n",
    "    layers.Dropout(0.25),  # Dropout layer\n",
    "\n",
    "    # Second convolutional block\n",
    "    layers.Conv2D(64, (3, 3), activation='relu', padding='same'),\n",
    "    layers.MaxPooling2D((2, 2)),\n",
    "    layers.Dropout(0.25),  # Dropout layer\n",
    "\n",
    "    # Third convolutional block\n",
    "    layers.Conv2D(128, (3, 3), activation='relu', padding='same'),\n",
    "    layers.MaxPooling2D((2, 2)),\n",
    "    layers.Dropout(0.25),  # Dropout layer\n",
    "\n",
    "    # Flatten the output of the last convolutional block\n",
    "    layers.Flatten(),\n",
    "    \n",
    "    # Fully connected layers\n",
    "    layers.Dense(256, activation='relu'),\n",
    "    layers.Dropout(0.5),  # Dropout layer\n",
    "    layers.Dense(100, activation='softmax')  # Output layer for 100 classes\n",
    "])\n",
    "\n",
    "# Print the model summary\n",
    "model_with_dropout.summary()\n",
    "\n",
    "# Compile the model\n",
    "model_with_dropout.compile(\n",
    "    loss='categorical_crossentropy',\n",
    "    optimizer='adam',\n",
    "    metrics=['accuracy']\n",
    ")\n",
    "\n",
    "# Define the batch size\n",
    "batch_size = 32\n",
    "\n",
    "# Train the model\n",
    "history_with_dropout = model_with_dropout.fit(\n",
    "    x_train, y_train,\n",
    "    epochs=30,  # Same number of epochs as before\n",
    "    batch_size=batch_size,\n",
    "    validation_data=(x_val, y_val),\n",
    "    verbose=1\n",
    ")\n"
   ]
  },
  {
   "cell_type": "code",
   "execution_count": 13,
   "id": "53baaf40",
   "metadata": {},
   "outputs": [
    {
     "name": "stdout",
     "output_type": "stream",
     "text": [
      "\u001b[1m313/313\u001b[0m \u001b[32m━━━━━━━━━━━━━━━━━━━━\u001b[0m\u001b[37m\u001b[0m \u001b[1m2s\u001b[0m 7ms/step - accuracy: 0.3954 - loss: 2.3991\n",
      "Test accuracy with dropout: 0.3926\n",
      "Test loss with dropout: 2.3891\n",
      "\u001b[1m313/313\u001b[0m \u001b[32m━━━━━━━━━━━━━━━━━━━━\u001b[0m\u001b[37m\u001b[0m \u001b[1m2s\u001b[0m 7ms/step\n",
      "\n",
      "Classification Report with Dropout:\n",
      "              precision    recall  f1-score   support\n",
      "\n",
      "           0       0.67      0.67      0.67       100\n",
      "           1       0.45      0.45      0.45       100\n",
      "           2       0.28      0.35      0.31       100\n",
      "           3       0.20      0.17      0.18       100\n",
      "           4       0.16      0.20      0.18       100\n",
      "           5       0.28      0.38      0.32       100\n",
      "           6       0.60      0.38      0.47       100\n",
      "           7       0.59      0.43      0.50       100\n",
      "           8       0.48      0.48      0.48       100\n",
      "           9       0.63      0.45      0.53       100\n",
      "          10       0.21      0.19      0.20       100\n",
      "          11       0.30      0.20      0.24       100\n",
      "          12       0.49      0.39      0.43       100\n",
      "          13       0.34      0.21      0.26       100\n",
      "          14       0.42      0.30      0.35       100\n",
      "          15       0.37      0.26      0.31       100\n",
      "          16       0.69      0.31      0.43       100\n",
      "          17       0.58      0.50      0.54       100\n",
      "          18       0.44      0.22      0.29       100\n",
      "          19       0.45      0.28      0.35       100\n",
      "          20       0.78      0.72      0.75       100\n",
      "          21       0.42      0.66      0.51       100\n",
      "          22       0.39      0.26      0.31       100\n",
      "          23       0.39      0.70      0.50       100\n",
      "          24       0.52      0.68      0.59       100\n",
      "          25       0.27      0.23      0.25       100\n",
      "          26       0.34      0.33      0.34       100\n",
      "          27       0.22      0.41      0.29       100\n",
      "          28       0.59      0.60      0.60       100\n",
      "          29       0.42      0.34      0.38       100\n",
      "          30       0.30      0.46      0.36       100\n",
      "          31       0.35      0.41      0.38       100\n",
      "          32       0.43      0.24      0.31       100\n",
      "          33       0.32      0.57      0.41       100\n",
      "          34       0.24      0.32      0.28       100\n",
      "          35       0.19      0.10      0.13       100\n",
      "          36       0.40      0.36      0.38       100\n",
      "          37       0.36      0.23      0.28       100\n",
      "          38       0.19      0.24      0.21       100\n",
      "          39       0.45      0.49      0.47       100\n",
      "          40       0.45      0.31      0.37       100\n",
      "          41       0.70      0.59      0.64       100\n",
      "          42       0.29      0.49      0.37       100\n",
      "          43       0.29      0.47      0.36       100\n",
      "          44       0.14      0.18      0.16       100\n",
      "          45       0.22      0.19      0.20       100\n",
      "          46       0.34      0.23      0.28       100\n",
      "          47       0.45      0.44      0.44       100\n",
      "          48       0.67      0.75      0.71       100\n",
      "          49       0.48      0.48      0.48       100\n",
      "          50       0.16      0.15      0.15       100\n",
      "          51       0.43      0.30      0.35       100\n",
      "          52       0.50      0.71      0.59       100\n",
      "          53       0.50      0.70      0.58       100\n",
      "          54       0.51      0.58      0.54       100\n",
      "          55       0.11      0.15      0.13       100\n",
      "          56       0.59      0.47      0.52       100\n",
      "          57       0.50      0.32      0.39       100\n",
      "          58       0.55      0.32      0.41       100\n",
      "          59       0.39      0.30      0.34       100\n",
      "          60       0.70      0.69      0.69       100\n",
      "          61       0.46      0.53      0.49       100\n",
      "          62       0.45      0.52      0.48       100\n",
      "          63       0.26      0.38      0.31       100\n",
      "          64       0.12      0.13      0.12       100\n",
      "          65       0.20      0.19      0.20       100\n",
      "          66       0.36      0.33      0.34       100\n",
      "          67       0.28      0.40      0.33       100\n",
      "          68       0.59      0.76      0.66       100\n",
      "          69       0.47      0.60      0.53       100\n",
      "          70       0.56      0.31      0.40       100\n",
      "          71       0.52      0.69      0.59       100\n",
      "          72       0.12      0.08      0.10       100\n",
      "          73       0.41      0.34      0.37       100\n",
      "          74       0.18      0.43      0.25       100\n",
      "          75       0.71      0.68      0.69       100\n",
      "          76       0.68      0.53      0.60       100\n",
      "          77       0.23      0.16      0.19       100\n",
      "          78       0.21      0.35      0.27       100\n",
      "          79       0.29      0.33      0.31       100\n",
      "          80       0.10      0.04      0.06       100\n",
      "          81       0.37      0.48      0.42       100\n",
      "          82       0.71      0.72      0.72       100\n",
      "          83       0.41      0.26      0.32       100\n",
      "          84       0.38      0.28      0.32       100\n",
      "          85       0.54      0.57      0.55       100\n",
      "          86       0.54      0.44      0.48       100\n",
      "          87       0.53      0.48      0.51       100\n",
      "          88       0.38      0.38      0.38       100\n",
      "          89       0.43      0.39      0.41       100\n",
      "          90       0.31      0.29      0.30       100\n",
      "          91       0.62      0.49      0.55       100\n",
      "          92       0.29      0.30      0.29       100\n",
      "          93       0.34      0.21      0.26       100\n",
      "          94       0.65      0.68      0.67       100\n",
      "          95       0.49      0.42      0.45       100\n",
      "          96       0.24      0.34      0.28       100\n",
      "          97       0.41      0.30      0.34       100\n",
      "          98       0.26      0.17      0.21       100\n",
      "          99       0.34      0.29      0.31       100\n",
      "\n",
      "    accuracy                           0.39     10000\n",
      "   macro avg       0.41      0.39      0.39     10000\n",
      "weighted avg       0.41      0.39      0.39     10000\n",
      "\n"
     ]
    }
   ],
   "source": [
    "import tensorflow as tf\n",
    "# Evaluate the model on the test set\n",
    "test_loss_with_dropout, test_accuracy_with_dropout = model_with_dropout.evaluate(x_test, y_test, verbose=1)\n",
    "\n",
    "# Print the accuracy and loss\n",
    "print(f\"Test accuracy with dropout: {test_accuracy_with_dropout:.4f}\")\n",
    "print(f\"Test loss with dropout: {test_loss_with_dropout:.4f}\")\n",
    "\n",
    "# Obtain predictions\n",
    "y_pred_with_dropout = model_with_dropout.predict(x_test)\n",
    "\n",
    "# Convert predictions and true labels to class indices\n",
    "y_pred_classes_with_dropout = tf.argmax(y_pred_with_dropout, axis=1)\n",
    "y_true_classes = tf.argmax(y_test, axis=1)\n",
    "\n",
    "# Compute confusion matrix\n",
    "from sklearn.metrics import confusion_matrix, classification_report\n",
    "conf_matrix_with_dropout = confusion_matrix(y_true_classes, y_pred_classes_with_dropout)\n",
    "report_with_dropout = classification_report(y_true_classes, y_pred_classes_with_dropout, target_names=[str(i) for i in range(100)])\n",
    "\n",
    "print(\"\\nClassification Report with Dropout:\")\n",
    "print(report_with_dropout)\n"
   ]
  },
  {
   "cell_type": "code",
   "execution_count": 12,
   "id": "b642811b",
   "metadata": {},
   "outputs": [
    {
     "data": {
      "image/png": "[encoded data removed]",
      "text/plain": [
       "<Figure size 1200x600 with 1 Axes>"
      ]
     },
     "metadata": {},
     "output_type": "display_data"
    }
   ],
   "source": [
    "import matplotlib.pyplot as plt\n",
    "\n",
    "# Plot training & validation accuracy\n",
    "plt.figure(figsize=(12, 6))\n",
    "\n",
    "# Plot training accuracy\n",
    "plt.plot(history_with_dropout.history['accuracy'], label='Training Accuracy with Dropout')\n",
    "# Plot validation accuracy\n",
    "plt.plot(history_with_dropout.history['val_accuracy'], label='Validation Accuracy with Dropout')\n",
    "\n",
    "plt.title('Training and Validation Accuracy with Dropout')\n",
    "plt.xlabel('Epoch')\n",
    "plt.ylabel('Accuracy')\n",
    "plt.legend()\n",
    "plt.grid(True)\n",
    "plt.show()\n"
   ]
  },
  {
   "cell_type": "markdown",
   "id": "eadfc848700215e8",
   "metadata": {
    "collapsed": false
   },
   "source": [
    "### Task 4c: Discussion of the results\n",
    "\n",
    "- Briefly discuss the results. \n",
    "- Did the model's performance improve? \n",
    "- Why do you think this is?\n",
    "- Do you think there is room for further improvement? Why or why not?\n",
    "- What other techniques might you try in the future?\n",
    "- Your answer should be no more than 200 words.\n",
    "\n",
    "# Your answer here"
   ]
  },
  {
   "cell_type": "markdown",
   "id": "7415f68f",
   "metadata": {},
   "source": [
    "## Criteria\n",
    "\n",
    "|Criteria|Complete|Incomplete|\n",
    "|----|----|----|\n",
    "|Task 1|The task has been completed successfully and there are no errors.|The task is still incomplete and there is at least one error.|\n",
    "|Task 2|The task has been completed successfully and there are no errors.|The task is still incomplete and there is at least one error.|\n",
    "|Task 3|The task has been completed successfully and there are no errors.|The task is still incomplete and there is at least one error.|\n",
    "|Task 4|The task has been completed successfully and there are no errors.|The task is still incomplete and there is at least one error.|"
   ]
  },
  {
   "cell_type": "markdown",
   "id": "ad0c10bc",
   "metadata": {},
   "source": [
    "## Submission Information\n",
    "\n",
    "🚨 **Please review our [Assignment Submission Guide](https://github.com/UofT-DSI/onboarding/blob/main/onboarding_documents/submissions.md)** 🚨 for detailed instructions on how to format, branch, and submit your work. Following these guidelines is crucial for your submissions to be evaluated correctly.\n",
    "\n",
    "### Submission Parameters:\n",
    "* Submission Due Date: `HH:MM AM/PM - DD/MM/YYYY`\n",
    "* The branch name for your repo should be: `assignment-1`\n",
    "* What to submit for this assignment:\n",
    "    * This Jupyter Notebook (assignment_1.ipynb) should be populated and should be the only change in your pull request.\n",
    "* What the pull request link should look like for this assignment: `https://github.com/<your_github_username>/deep_learning/pull/<pr_id>`\n",
    "    * Open a private window in your browser. Copy and paste the link to your pull request into the address bar. Make sure you can see your pull request properly. This helps the technical facilitator and learning support staff review your submission easily.\n",
    "\n",
    "Checklist:\n",
    "- [ ] Created a branch with the correct naming convention.\n",
    "- [ ] Ensured that the repository is public.\n",
    "- [ ] Reviewed the PR description guidelines and adhered to them.\n",
    "- [ ] Verify that the link is accessible in a private browser window.\n",
    "\n",
    "If you encounter any difficulties or have questions, please don't hesitate to reach out to our team via our Slack at `#cohort-3-help`. Our Technical Facilitators and Learning Support staff are here to help you navigate any challenges."
   ]
  }
 ],
 "metadata": {
  "kernelspec": {
   "display_name": "Python 3 (ipykernel)",
   "language": "python",
   "name": "python3"
  },
  "language_info": {
   "codemirror_mode": {
    "name": "ipython",
    "version": 3
   },
   "file_extension": ".py",
   "mimetype": "text/x-python",
   "name": "python",
   "nbconvert_exporter": "python",
   "pygments_lexer": "ipython3",
   "version": "3.10.13"
  }
 },
 "nbformat": 4,
 "nbformat_minor": 5
}
