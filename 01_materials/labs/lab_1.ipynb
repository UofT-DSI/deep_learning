{
 "cells": [
  {
   "cell_type": "markdown",
   "metadata": {},
   "source": [
    "# Training Neural Networks with Keras\n",
    "\n",
    "Welcome to the first practical session of the course! In this session, we will learn how to train neural networks with Keras. We will start with a simple example of a feedforward neural network for classification and then we will study the impact of the initialization of the weights on the convergence of the training algorithm.\n",
    "\n",
    "Keras is a high-level neural network API, built on top of TensorFlow 2.0. It provides a user-friendly interface to build, train and deploy deep learning models. Keras is designed to be modular, fast and easy to use.\n",
    "\n",
    "Throughout this course, we will focus on using Keras and TensorFlow for building and training neural networks. However, there are other popular deep learning frameworks such as PyTorch, MXNet, CNTK, etc. that you can also use to build and train neural networks.\n",
    "\n",
    "In order to use our code on Google Colab, we will need to ensure that any required packages are installed. We will use the following packages in this session:\n",
    "\n",
    "- `tensorflow`: an open-source library for numerical computation and large-scale machine learning.\n",
    "- `matplotlib`: a plotting library for the Python programming language and its numerical mathematics extension NumPy.\n",
    "- `numpy`: a library for scientific computing in Python.\n",
    "- `scikit-learn`: a machine learning library for the Python programming language.\n",
    "- `pandas`: a library providing high-performance, easy-to-use data structures and data analysis tools for the Python programming language.\n",
    "\n",
    "The following cell will check if the packages are installed, and if not, it will install them. Students familiar with how pip works might note that it already checks this before installing! The reason for this code (which will also appear in subsequent notebooks) is to speed up execution if you re-run the entire notebook - it will skip the installation step if the packages are already installed."
   ]
  },
  {
   "cell_type": "markdown",
   "metadata": {
    "collapsed": false
   },
   "source": [
    "With the packages installed, we can now get started on the practical session!\n",
    "\n",
    "Today, we will be working with the famous MNIST dataset. MNIST (Modified National Institute of Standards and Technology) is a database of low resolution images of handwritten digits. The history here is interesting - the dataset was originally created in the 1980s, when researchers from the aforementioned institute collected samples from American Census Bureau employees and high school students. The dataset was then modified in the 1990s (hence the M in MNIST), and has since become a popular benchmark for machine learning algorithms. \n",
    "\n",
    "The dataset contains images, each of which is a 28x28 grayscale image of a handwritten digit. The goal is to classify each image into one of the 10 possible classes (0-9).\n",
    "\n",
    "![MNIST](https://upload.wikimedia.org/wikipedia/commons/2/27/MnistExamples.png)\n",
    "\n",
    "The Scikit-Learn library provides a convenient function to download and load the MNIST dataset. The following cell will download the dataset. Then we will take a look at the shape of the data."
   ]
  },
  {
   "cell_type": "code",
   "execution_count": 10,
   "metadata": {},
   "outputs": [],
   "source": [
    "import matplotlib.pyplot as plt\n",
    "import numpy as np\n",
    "\n",
    "from sklearn.datasets import load_digits\n",
    "\n",
    "digits = load_digits()"
   ]
  },
  {
   "cell_type": "code",
   "execution_count": 11,
   "metadata": {},
   "outputs": [
    {
     "data": {
      "text/plain": [
       "(1797, 8, 8)"
      ]
     },
     "execution_count": 11,
     "metadata": {},
     "output_type": "execute_result"
    }
   ],
   "source": [
    "digits.images.shape"
   ]
  },
  {
   "cell_type": "markdown",
   "metadata": {
    "collapsed": false
   },
   "source": [
    "This means that we have 1797 images, each of which is a 8x8 image. For basic image processing, we will need to flatten the images into a 1D array. In this case, Scikit-Learn has already provided the data in this format too:"
   ]
  },
  {
   "cell_type": "code",
   "execution_count": 12,
   "metadata": {},
   "outputs": [
    {
     "data": {
      "text/plain": [
       "(1797, 64)"
      ]
     },
     "execution_count": 12,
     "metadata": {},
     "output_type": "execute_result"
    }
   ],
   "source": [
    "digits.data.shape"
   ]
  },
  {
   "cell_type": "markdown",
   "metadata": {
    "collapsed": false
   },
   "source": [
    "For each image, we also have the corresponding label (or target, or class) in `digits.target`:"
   ]
  },
  {
   "cell_type": "code",
   "execution_count": 13,
   "metadata": {},
   "outputs": [
    {
     "data": {
      "text/plain": [
       "(1797,)"
      ]
     },
     "execution_count": 13,
     "metadata": {},
     "output_type": "execute_result"
    }
   ],
   "source": [
    "digits.target.shape"
   ]
  },
  {
   "cell_type": "markdown",
   "metadata": {
    "collapsed": false
   },
   "source": [
    "We can take a look at some random images from the dataset. The following cell will select 9 random images and plot them in a 3x3 grid (meaning that you can rerun the cell to see different images)."
   ]
  },
  {
   "cell_type": "code",
   "execution_count": 14,
   "metadata": {},
   "outputs": [
    {
     "data": {
      "image/png": "[encoded data removed]",
      "text/plain": [
       "<Figure size 600x600 with 9 Axes>"
      ]
     },
     "metadata": {},
     "output_type": "display_data"
    }
   ],
   "source": [
    "# Selecting 9 random indices\n",
    "random_indices = np.random.choice(len(digits.images), 9, replace=False)\n",
    "\n",
    "# Creating a 3x3 grid plot\n",
    "fig, axes = plt.subplots(3, 3, figsize=(6, 6))\n",
    "\n",
    "for i, ax in enumerate(axes.flat):\n",
    "    ax.imshow(digits.images[random_indices[i]], cmap=plt.cm.gray_r, interpolation='nearest')\n",
    "    ax.set_title(f\"Label: {digits.target[random_indices[i]]}\")\n",
    "\n",
    "    # Removing axis labels\n",
    "    ax.set_xticks([])\n",
    "    ax.set_yticks([])\n",
    "\n",
    "plt.show()"
   ]
  },
  {
   "cell_type": "markdown",
   "metadata": {
    "collapsed": false
   },
   "source": [
    "As you can see, these images are very low resolution. This is because they were originally scanned from paper forms, and then scaled down to 8x8 pixels. This is a common problem in machine learning - the quality of the data is often a limiting factor in the performance of the model. In this case, the low resolution of the images makes it difficult to distinguish between some digits, even for humans. For example, the following images are all labelled as 9, but they look very different:"
   ]
  },
  {
   "cell_type": "code",
   "execution_count": 15,
   "metadata": {
    "collapsed": false
   },
   "outputs": [
    {
     "data": {
      "image/png": "[encoded data removed]",
      "text/plain": [
       "<Figure size 600x600 with 9 Axes>"
      ]
     },
     "metadata": {},
     "output_type": "display_data"
    }
   ],
   "source": [
    "# Selecting 9 random indices of images labelled as 9\n",
    "random_indices = np.random.choice(np.where(digits.target == 9)[0], 9, replace=False)\n",
    "\n",
    "# Creating a 3x3 grid plot\n",
    "fig, axes = plt.subplots(3, 3, figsize=(6, 6))\n",
    "\n",
    "for i, ax in enumerate(axes.flat):\n",
    "    ax.imshow(digits.images[random_indices[i]], cmap=plt.cm.gray_r, interpolation='nearest')\n",
    "    ax.set_title(f\"Label: {digits.target[random_indices[i]]}\")\n",
    "\n",
    "    # Removing axis labels\n",
    "    ax.set_xticks([])\n",
    "    ax.set_yticks([])\n",
    "    \n",
    "plt.show()"
   ]
  },
  {
   "cell_type": "markdown",
   "metadata": {
    "collapsed": false
   },
   "source": [
    "While we are plotting the samples as images, remember that our model is only going to see a 1D array of numbers. "
   ]
  },
  {
   "cell_type": "markdown",
   "metadata": {},
   "source": [
    "## Train / Test Split\n",
    "\n",
    "In order to understand how well our model performs on _new_ data, we need to split our dataset into a training set and a test set. The training set will be used to train the model, and the test set will be used to evaluate the performance of the model.\n",
    "\n",
    "Let's keep some held-out data to be able to measure the generalization performance of our model. "
   ]
  },
  {
   "cell_type": "code",
   "execution_count": 16,
   "metadata": {},
   "outputs": [],
   "source": [
    "from sklearn.model_selection import train_test_split\n",
    "X_train, X_test, y_train, y_test = train_test_split(\n",
    "    digits.data, digits.target,\n",
    "    test_size=0.2, # 20% of the data is used for testing\n",
    "    random_state=42 # Providing a value here means getting the same \"random\" split every time\n",
    "    )"
   ]
  },
  {
   "cell_type": "markdown",
   "metadata": {
    "collapsed": false
   },
   "source": [
    "Let's confirm that the data has been split correctly:"
   ]
  },
  {
   "cell_type": "code",
   "execution_count": 17,
   "metadata": {
    "collapsed": false
   },
   "outputs": [
    {
     "name": "stdout",
     "output_type": "stream",
     "text": [
      "X_train shape: (1437, 64)\n",
      "y_train shape: (1437,)\n",
      "X_test shape: (360, 64)\n",
      "y_test shape: (360,)\n"
     ]
    }
   ],
   "source": [
    "print(f'X_train shape: {X_train.shape}')\n",
    "print(f'y_train shape: {y_train.shape}')\n",
    "print(f'X_test shape: {X_test.shape}')\n",
    "print(f'y_test shape: {y_test.shape}')"
   ]
  },
  {
   "cell_type": "markdown",
   "metadata": {
    "collapsed": false
   },
   "source": [
    "This is what we expected to see. It's always good to check as you go, to make sure that you haven't made a mistake somewhere - this is something that working in a notebook like this makes it easy to do."
   ]
  },
  {
   "cell_type": "markdown",
   "metadata": {},
   "source": [
    "## Preprocessing of the Target Data\n",
    "\n",
    "The labels that we have are integers between 0 and 9. However, we want to train a neural network to classify the images into one of 10 classes. It can be a little counter-intuitive because we are dealing with numbers, but our classes are not ordinal.\n",
    "\n",
    "What do we mean by that? Let's imagine we were trying to predict the height of a building (separated into classes) from images. If a given building was actually 10m tall, and our model predicted 9m, we would consider that to be a better prediction than if it predicted 1m. This is because the classes are ordinal - there is meaning in the difference between the classes.\n",
    "\n",
    "In our case, even though we are dealing with numbers, the classes are not ordinal. If a given image is actually a 9, and our model predicts 8, we would consider that to be just as bad as if it predicted 1. This is because the classes are not ordered, and the difference between the classes is not meaningful.\n",
    "\n",
    "Because of this, we need to convert our labels from an integer value into a one-hot encoded vector. This means that each label will be represented as a vector of length 10, with a 1 in the position corresponding to the class, and 0s everywhere else. For example, the label 9 would be represented as `[0, 0, 0, 0, 0, 0, 0, 0, 0, 1]`. This is a common way of representing categorical data in machine learning. By doing this, we ensure that our model is taught the correct relationship between the classes."
   ]
  },
  {
   "cell_type": "code",
   "execution_count": 18,
   "metadata": {},
   "outputs": [
    {
     "ename": "NotFoundError",
     "evalue": "dlopen(/opt/miniconda3/envs/dsi_participant/lib/python3.9/site-packages/tensorflow-plugins/libmetal_plugin.dylib, 0x0006): Symbol not found: __ZN10tensorflow32_OpDef_AttrDef_default_instance_E\n  Referenced from: <D2EF42E3-3A7F-39DD-9982-FB6BCDC2853C> /opt/miniconda3/envs/dsi_participant/lib/python3.9/site-packages/tensorflow-plugins/libmetal_plugin.dylib\n  Expected in:     <36402B1F-ABA6-3FB8-8D43-3AEA533D0332> /opt/miniconda3/envs/dsi_participant/lib/python3.9/site-packages/tensorflow/python/_pywrap_tensorflow_internal.so",
     "output_type": "error",
     "traceback": [
      "\u001b[0;31m---------------------------------------------------------------------------\u001b[0m",
      "\u001b[0;31mNotFoundError\u001b[0m                             Traceback (most recent call last)",
      "Cell \u001b[0;32mIn[18], line 1\u001b[0m\n\u001b[0;32m----> 1\u001b[0m \u001b[38;5;28;01mfrom\u001b[39;00m \u001b[38;5;21;01mtensorflow\u001b[39;00m\u001b[38;5;21;01m.\u001b[39;00m\u001b[38;5;21;01mkeras\u001b[39;00m\u001b[38;5;21;01m.\u001b[39;00m\u001b[38;5;21;01mutils\u001b[39;00m \u001b[38;5;28;01mimport\u001b[39;00m to_categorical\n\u001b[1;32m      3\u001b[0m \u001b[38;5;28mprint\u001b[39m(\u001b[38;5;124mf\u001b[39m\u001b[38;5;124m'\u001b[39m\u001b[38;5;124mBefore one-hot encoding: \u001b[39m\u001b[38;5;132;01m{\u001b[39;00my_train[\u001b[38;5;241m0\u001b[39m]\u001b[38;5;132;01m}\u001b[39;00m\u001b[38;5;124m'\u001b[39m)\n\u001b[1;32m      4\u001b[0m y_train \u001b[38;5;241m=\u001b[39m to_categorical(y_train, num_classes\u001b[38;5;241m=\u001b[39m\u001b[38;5;241m10\u001b[39m)\n",
      "File \u001b[0;32m/opt/miniconda3/envs/dsi_participant/lib/python3.9/site-packages/tensorflow/__init__.py:457\u001b[0m\n\u001b[1;32m    455\u001b[0m _plugin_dir \u001b[38;5;241m=\u001b[39m _os\u001b[38;5;241m.\u001b[39mpath\u001b[38;5;241m.\u001b[39mjoin(_s, \u001b[38;5;124m\"\u001b[39m\u001b[38;5;124mtensorflow-plugins\u001b[39m\u001b[38;5;124m\"\u001b[39m)\n\u001b[1;32m    456\u001b[0m \u001b[38;5;28;01mif\u001b[39;00m _os\u001b[38;5;241m.\u001b[39mpath\u001b[38;5;241m.\u001b[39mexists(_plugin_dir):\n\u001b[0;32m--> 457\u001b[0m   \u001b[43m_ll\u001b[49m\u001b[38;5;241;43m.\u001b[39;49m\u001b[43mload_library\u001b[49m\u001b[43m(\u001b[49m\u001b[43m_plugin_dir\u001b[49m\u001b[43m)\u001b[49m\n\u001b[1;32m    458\u001b[0m   \u001b[38;5;66;03m# Load Pluggable Device Library\u001b[39;00m\n\u001b[1;32m    459\u001b[0m   _ll\u001b[38;5;241m.\u001b[39mload_pluggable_device_library(_plugin_dir)\n",
      "File \u001b[0;32m/opt/miniconda3/envs/dsi_participant/lib/python3.9/site-packages/tensorflow/python/framework/load_library.py:151\u001b[0m, in \u001b[0;36mload_library\u001b[0;34m(library_location)\u001b[0m\n\u001b[1;32m    148\u001b[0m     kernel_libraries \u001b[38;5;241m=\u001b[39m [library_location]\n\u001b[1;32m    150\u001b[0m   \u001b[38;5;28;01mfor\u001b[39;00m lib \u001b[38;5;129;01min\u001b[39;00m kernel_libraries:\n\u001b[0;32m--> 151\u001b[0m     \u001b[43mpy_tf\u001b[49m\u001b[38;5;241;43m.\u001b[39;49m\u001b[43mTF_LoadLibrary\u001b[49m\u001b[43m(\u001b[49m\u001b[43mlib\u001b[49m\u001b[43m)\u001b[49m\n\u001b[1;32m    153\u001b[0m \u001b[38;5;28;01melse\u001b[39;00m:\n\u001b[1;32m    154\u001b[0m   \u001b[38;5;28;01mraise\u001b[39;00m \u001b[38;5;167;01mOSError\u001b[39;00m(\n\u001b[1;32m    155\u001b[0m       errno\u001b[38;5;241m.\u001b[39mENOENT,\n\u001b[1;32m    156\u001b[0m       \u001b[38;5;124m'\u001b[39m\u001b[38;5;124mThe file or folder to load kernel libraries from does not exist.\u001b[39m\u001b[38;5;124m'\u001b[39m,\n\u001b[1;32m    157\u001b[0m       library_location)\n",
      "\u001b[0;31mNotFoundError\u001b[0m: dlopen(/opt/miniconda3/envs/dsi_participant/lib/python3.9/site-packages/tensorflow-plugins/libmetal_plugin.dylib, 0x0006): Symbol not found: __ZN10tensorflow32_OpDef_AttrDef_default_instance_E\n  Referenced from: <D2EF42E3-3A7F-39DD-9982-FB6BCDC2853C> /opt/miniconda3/envs/dsi_participant/lib/python3.9/site-packages/tensorflow-plugins/libmetal_plugin.dylib\n  Expected in:     <36402B1F-ABA6-3FB8-8D43-3AEA533D0332> /opt/miniconda3/envs/dsi_participant/lib/python3.9/site-packages/tensorflow/python/_pywrap_tensorflow_internal.so"
     ]
    }
   ],
   "source": [
    "from tensorflow.keras.utils import to_categorical\n",
    "\n",
    "print(f'Before one-hot encoding: {y_train[0]}')\n",
    "y_train = to_categorical(y_train, num_classes=10)\n",
    "y_test = to_categorical(y_test, num_classes=10)\n",
    "print(f'After one-hot encoding: {y_train[0]}')"
   ]
  },
  {
   "cell_type": "markdown",
   "metadata": {},
   "source": [
    "## Feed Forward Neural Networks with Keras\n",
    "\n",
    "Now that we have prepared our data, it's time to build a simple neural network! In this section, we will use the Keras API to build a simple feed forward neural network. We will then train the model on the MNIST dataset, and evaluate its performance on the test set.\n",
    "\n",
    "In most modern deep learning frameworks, the process of building a model can be broken down into a few steps:\n",
    "\n",
    "- Define the model architecture: this is where we define the layers of the model, and how they are connected to each other.\n",
    "- Compile the model: this is where we define the loss function, the optimizer, and the metrics that we want to use to evaluate the model.\n",
    "- Train the model: this is where we train the model on the training data.\n",
    "\n",
    "Let's start with defining the model architecture. There are two ways to do this in Keras - the Sequential API and the Functional API. The Sequential API is the simplest way to build a model, and is suitable for most use cases. The Functional API is more flexible, and allows you to build more complex models. We will start with the Sequential API, and then we will look at the Functional API later in the course.\n",
    "\n",
    "Our simple neural network will be \"fully-connected\". This means that each neuron in a given layer is connected to every neuron in the next layer. This is also known as a \"dense\" layer. We will use the `Dense` class from Keras to define our layers."
   ]
  },
  {
   "cell_type": "code",
   "execution_count": null,
   "metadata": {
    "collapsed": false
   },
   "outputs": [
    {
     "name": "stdout",
     "output_type": "stream",
     "text": [
      "Model: \"sequential\"\n",
      "_________________________________________________________________\n",
      " Layer (type)                Output Shape              Param #   \n",
      "=================================================================\n",
      " dense (Dense)               (None, 64)                4160      \n",
      "                                                                 \n",
      " dense_1 (Dense)             (None, 64)                4160      \n",
      "                                                                 \n",
      " dense_2 (Dense)             (None, 10)                650       \n",
      "                                                                 \n",
      "=================================================================\n",
      "Total params: 8970 (35.04 KB)\n",
      "Trainable params: 8970 (35.04 KB)\n",
      "Non-trainable params: 0 (0.00 Byte)\n",
      "_________________________________________________________________\n"
     ]
    }
   ],
   "source": [
    "from tensorflow.keras.models import Sequential\n",
    "from tensorflow.keras.layers import Dense\n",
    "model = Sequential()\n",
    "# Input layer\n",
    "model.add(Dense(64, activation='relu', input_shape=(64,))) # 64 neurons, ReLU activation, input shape of 64\n",
    "# Hidden layer\n",
    "model.add(Dense(64, activation='relu')) # 64 neurons, ReLU activation\n",
    "# Output layer\n",
    "model.add(Dense(10, activation='softmax')) # 10 neurons, softmax activation\n",
    "model.summary()"
   ]
  },
  {
   "cell_type": "markdown",
   "metadata": {
    "collapsed": false
   },
   "source": [
    "Congratulations! You have just built your first neural network with Keras. As we can confirm from the `model.summary()` output, our model has 3 layers. The first layer has 64 neurons, the second layer has 64 neurons, and the output layer has 10 neurons. The output layer uses the softmax activation function, which is commonly used for multi-class classification problems. The other layers use the ReLU activation function, which is commonly used for hidden layers in neural networks.\n",
    "\n",
    "Next, we need to compile the model. This is where we define the loss function, the optimizer, and the metrics that we want to use to evaluate the model. We will use the `compile` method of the model to do this."
   ]
  },
  {
   "cell_type": "code",
   "execution_count": null,
   "metadata": {
    "collapsed": false
   },
   "outputs": [],
   "source": [
    "model.compile(\n",
    "    loss='categorical_crossentropy', # Loss function\n",
    "    optimizer='sgd', # Optimizer \n",
    "    #optimizer=optimizers.sgd(learning_rate=0.01)\n",
    "    metrics=['accuracy'] # Metrics to evaluate the model\n",
    "    )"
   ]
  },
  {
   "cell_type": "markdown",
   "metadata": {
    "collapsed": false
   },
   "source": [
    "Because we are predicting which class a sample belongs to, we will use the `categorical_crossentropy` function. This loss function is commonly used for multi-class classification problems. \n",
    "\n",
    "For our optimizer, we are using the standard stochastic gradient descent (SGD) algorithm. This is a simple optimizer that works well for many problems. We will look at more advanced optimizers later in the course.\n",
    "\n",
    "Finally, we are using the `accuracy` metric to evaluate the model. This is a common metric for classification problems, and it is simply the fraction of samples that are correctly classified. This is an easier metric for us to understand, but it's not quite as useful for actually training the model (for example, it doesn't tell us how \"confident\" the model is in its predictions).\n",
    "\n",
    "Now that we have (a) defined the model architecture and (b) compiled the model, we are ready to train the model. We will use the `fit` method of the model to do this."
   ]
  },
  {
   "cell_type": "code",
   "execution_count": null,
   "metadata": {
    "collapsed": false
   },
   "outputs": [
    {
     "name": "stdout",
     "output_type": "stream",
     "text": [
      "Epoch 1/5\n",
      "36/36 [==============================] - 0s 3ms/step - loss: 1.6393 - accuracy: 0.5596 - val_loss: 0.7069 - val_accuracy: 0.7847\n",
      "Epoch 2/5\n",
      "36/36 [==============================] - 0s 865us/step - loss: 0.5196 - accuracy: 0.8416 - val_loss: 0.3702 - val_accuracy: 0.9062\n",
      "Epoch 3/5\n",
      "36/36 [==============================] - 0s 850us/step - loss: 0.3405 - accuracy: 0.8956 - val_loss: 0.2828 - val_accuracy: 0.9306\n",
      "Epoch 4/5\n",
      "36/36 [==============================] - 0s 1ms/step - loss: 0.2544 - accuracy: 0.9312 - val_loss: 0.2254 - val_accuracy: 0.9375\n",
      "Epoch 5/5\n",
      "36/36 [==============================] - 0s 850us/step - loss: 0.2009 - accuracy: 0.9495 - val_loss: 0.1983 - val_accuracy: 0.9514\n"
     ]
    },
    {
     "data": {
      "text/plain": [
       "<keras.src.callbacks.History at 0x17e6c1eb0>"
      ]
     },
     "execution_count": 12,
     "metadata": {},
     "output_type": "execute_result"
    }
   ],
   "source": [
    "model.fit(\n",
    "    X_train, # Training data\n",
    "    y_train, # Training labels\n",
    "    epochs=5, # Number of epochs\n",
    "    batch_size=32, # Number of samples per batch\n",
    "    validation_split=0.2 # Use 20% of the data for validation\n",
    ")"
   ]
  },
  {
   "cell_type": "markdown",
   "metadata": {
    "collapsed": false
   },
   "source": [
    "We have now trained our model! We can see that the model has been trained for 5 epochs, and the loss and accuracy have been printed for each epoch. We can also see that the model has been evaluated on the validation data at the end of each epoch. This is useful for us to see how the model is performing on data that it hasn't seen during training.\n",
    "\n",
    "Once the model is trained, it's time to evaluate the model on the test set. We can use the `evaluate` method of the model to do this. If you were building a model for a real-world application, this is the very last thing you would do, and the result here would be the figure you'd report in your paper or presentation."
   ]
  },
  {
   "cell_type": "code",
   "execution_count": null,
   "metadata": {
    "collapsed": false
   },
   "outputs": [
    {
     "name": "stdout",
     "output_type": "stream",
     "text": [
      "12/12 [==============================] - 0s 560us/step - loss: 0.1970 - accuracy: 0.9528\n",
      "Loss:     0.20\n",
      "Accuracy: 95.28%\n"
     ]
    }
   ],
   "source": [
    "loss, accuracy = model.evaluate(X_test, y_test)\n",
    "print(f'Loss:     {loss:.2f}')\n",
    "print(f'Accuracy: {accuracy*100:.2f}%')"
   ]
  },
  {
   "cell_type": "markdown",
   "metadata": {
    "collapsed": false
   },
   "source": [
    "Hopefully you have achieved an accuracy of around 95%. This is pretty good, but we can do better! In the next section, we will look at how we can improve the performance of our model by using a more advanced optimizer. But before we get there, let's do one other thing - let's look at the predictions that our model is making on the test set. When you are building a model, it's often useful to have a look at some of the examples your model is getting wrong. Sometimes this can reveal problems with the data, or it can give you ideas for how to improve your model."
   ]
  },
  {
   "cell_type": "code",
   "execution_count": null,
   "metadata": {
    "collapsed": false
   },
   "outputs": [
    {
     "name": "stdout",
     "output_type": "stream",
     "text": [
      "12/12 [==============================] - 0s 443us/step\n"
     ]
    },
    {
     "data": {
      "image/png": "[encoded data removed]",
      "text/plain": [
       "<Figure size 600x600 with 9 Axes>"
      ]
     },
     "metadata": {},
     "output_type": "display_data"
    }
   ],
   "source": [
    "# Get the predictions for the test data\n",
    "predictions = model.predict(X_test)\n",
    "\n",
    "# Get the index of the largest probability (i.e. the predicted class)\n",
    "predicted_classes = np.argmax(predictions, axis=1)\n",
    "true_classes = np.argmax(y_test, axis=1)\n",
    "misclassified_indices = np.where(predicted_classes != true_classes)[0]\n",
    "\n",
    "# Get the misclassified samples themselves\n",
    "misclassified_samples = X_test[misclassified_indices]\n",
    "misclassified_labels = np.argmax(y_test[misclassified_indices], axis=1)\n",
    "\n",
    "# Pick 9 random misclassified samples\n",
    "random_indices = np.random.choice(len(misclassified_indices), 9, replace=False)\n",
    "\n",
    "fig, axes = plt.subplots(3, 3, figsize=(6, 6))\n",
    "for i, ax in enumerate(axes.flat):\n",
    "    ax.imshow(misclassified_samples[random_indices[i]].reshape(8, 8), cmap=plt.cm.gray_r, interpolation='nearest')\n",
    "    ax.set_title(f\"Pred: {predicted_classes[misclassified_indices[random_indices[i]]]}, Real: {misclassified_labels[random_indices[i]]}\")\n",
    "\n",
    "    # Removing axis labels\n",
    "    ax.set_xticks([])\n",
    "    ax.set_yticks([])\n",
    "    \n",
    "plt.show()"
   ]
  },
  {
   "cell_type": "markdown",
   "metadata": {
    "collapsed": false
   },
   "source": [
    "What do you think? Would you have made the same mistakes as the model? Determining whether the mistakes are \"understandable\" is a rough way of seeing if you could improve the model further, or if this is the best you can do with the data you have."
   ]
  },
  {
   "cell_type": "markdown",
   "metadata": {},
   "source": [
    "### b) Exercises: Impact of the Optimizer\n",
    "\n",
    "In this section, you will play around with the optimizer and see how it affects the performance of the model. We will start with the standard SGD optimizer, and then we will look at more advanced optimizers.\n",
    "\n",
    "1. Try decreasing the learning rate of the SGD optimizer by a factor of 10, or 100. What do you observe?\n",
    "2. Try increasing the learning rate of the SGD optimizer. What happens?\n",
    "3. The SGD optimizer has a momentum parameter. In a nutshell, this parameter controls how much the gradient from the previous step affects the current step. Try enabling momentum in the SGD optimizer with a value of 0.9. What happens?\n",
    "  \n",
    "**Notes**: \n",
    "\n",
    "The keras API documentation is available at:\n",
    "\n",
    "https://www.tensorflow.org/api_docs/python/tf/keras\n",
    "\n",
    "It is also possible to learn more about the parameters of a class by using the question mark: type and evaluate:\n",
    "\n",
    "```python\n",
    "optimizers.SGD?\n",
    "```\n",
    "\n",
    "in a jupyter notebook cell.\n",
    "\n",
    "It is also possible to type the beginning of a function call / constructor and type \"shift-tab\" after the opening paren:\n",
    "\n",
    "```python\n",
    "optimizers.SGD(<shift-tab>\n",
    "```"
   ]
  },
  {
   "cell_type": "code",
   "execution_count": null,
   "metadata": {},
   "outputs": [
    {
     "name": "stdout",
     "output_type": "stream",
     "text": [
      "Model: \"sequential_1\"\n",
      "_________________________________________________________________\n",
      " Layer (type)                Output Shape              Param #   \n",
      "=================================================================\n",
      " dense_3 (Dense)             (None, 64)                4160      \n",
      "                                                                 \n",
      " dense_4 (Dense)             (None, 64)                4160      \n",
      "                                                                 \n",
      " dense_5 (Dense)             (None, 10)                650       \n",
      "                                                                 \n",
      "=================================================================\n",
      "Total params: 8970 (35.04 KB)\n",
      "Trainable params: 8970 (35.04 KB)\n",
      "Non-trainable params: 0 (0.00 Byte)\n",
      "_________________________________________________________________\n"
     ]
    },
    {
     "name": "stderr",
     "output_type": "stream",
     "text": [
      "WARNING:absl:At this time, the v2.11+ optimizer `tf.keras.optimizers.SGD` runs slowly on M1/M2 Macs, please use the legacy Keras optimizer instead, located at `tf.keras.optimizers.legacy.SGD`.\n"
     ]
    },
    {
     "name": "stdout",
     "output_type": "stream",
     "text": [
      "Epoch 1/15\n",
      "45/45 [==============================] - 0s 500us/step - loss: 3.8785 - accuracy: 0.1844\n",
      "Epoch 2/15\n",
      "45/45 [==============================] - 0s 488us/step - loss: 2.0310 - accuracy: 0.2526\n",
      "Epoch 3/15\n",
      "45/45 [==============================] - 0s 465us/step - loss: 1.6595 - accuracy: 0.3960\n",
      "Epoch 4/15\n",
      "45/45 [==============================] - 0s 451us/step - loss: 1.8415 - accuracy: 0.4001\n",
      "Epoch 5/15\n",
      "45/45 [==============================] - 0s 441us/step - loss: 1.8651 - accuracy: 0.2686\n",
      "Epoch 6/15\n",
      "45/45 [==============================] - 0s 453us/step - loss: 1.7243 - accuracy: 0.2992\n",
      "Epoch 7/15\n",
      "45/45 [==============================] - 0s 475us/step - loss: 1.6452 - accuracy: 0.3285\n",
      "Epoch 8/15\n",
      "45/45 [==============================] - 0s 453us/step - loss: 1.5711 - accuracy: 0.3473\n",
      "Epoch 9/15\n",
      "45/45 [==============================] - 0s 452us/step - loss: 1.5369 - accuracy: 0.3765\n",
      "Epoch 10/15\n",
      "45/45 [==============================] - 0s 461us/step - loss: 1.6167 - accuracy: 0.3633\n",
      "Epoch 11/15\n",
      "45/45 [==============================] - 0s 455us/step - loss: 1.4447 - accuracy: 0.4217\n",
      "Epoch 12/15\n",
      "45/45 [==============================] - 0s 970us/step - loss: 1.6030 - accuracy: 0.3814\n",
      "Epoch 13/15\n",
      "45/45 [==============================] - 0s 446us/step - loss: 1.4311 - accuracy: 0.4252\n",
      "Epoch 14/15\n",
      "45/45 [==============================] - 0s 444us/step - loss: 1.4101 - accuracy: 0.4370\n",
      "Epoch 15/15\n",
      "45/45 [==============================] - 0s 437us/step - loss: 1.3342 - accuracy: 0.4502\n",
      "12/12 [==============================] - 0s 532us/step - loss: 1.4705 - accuracy: 0.3972\n"
     ]
    },
    {
     "name": "stderr",
     "output_type": "stream",
     "text": [
      "WARNING:absl:At this time, the v2.11+ optimizer `tf.keras.optimizers.SGD` runs slowly on M1/M2 Macs, please use the legacy Keras optimizer instead, located at `tf.keras.optimizers.legacy.SGD`.\n"
     ]
    },
    {
     "name": "stdout",
     "output_type": "stream",
     "text": [
      "Learning rate:     0.1\n",
      "Loss:     1.47\n",
      "Accuracy: 39.72%\n",
      "Epoch 1/15\n",
      "45/45 [==============================] - 0s 489us/step - loss: 1.1384 - accuracy: 0.5296\n",
      "Epoch 2/15\n",
      "45/45 [==============================] - 0s 446us/step - loss: 1.0867 - accuracy: 0.5477\n",
      "Epoch 3/15\n",
      "45/45 [==============================] - 0s 437us/step - loss: 1.0677 - accuracy: 0.5616\n",
      "Epoch 4/15\n",
      "45/45 [==============================] - 0s 432us/step - loss: 1.0574 - accuracy: 0.5616\n",
      "Epoch 5/15\n",
      "45/45 [==============================] - 0s 443us/step - loss: 1.0468 - accuracy: 0.5623\n",
      "Epoch 6/15\n",
      "45/45 [==============================] - 0s 471us/step - loss: 1.0367 - accuracy: 0.5595\n",
      "Epoch 7/15\n",
      "45/45 [==============================] - 0s 440us/step - loss: 1.0295 - accuracy: 0.5699\n",
      "Epoch 8/15\n",
      "45/45 [==============================] - 0s 441us/step - loss: 1.0225 - accuracy: 0.5665\n",
      "Epoch 9/15\n",
      "45/45 [==============================] - 0s 447us/step - loss: 1.0157 - accuracy: 0.5741\n",
      "Epoch 10/15\n",
      "45/45 [==============================] - 0s 459us/step - loss: 1.0096 - accuracy: 0.5804\n",
      "Epoch 11/15\n",
      "45/45 [==============================] - 0s 440us/step - loss: 1.0039 - accuracy: 0.5748\n",
      "Epoch 12/15\n",
      "45/45 [==============================] - 0s 440us/step - loss: 1.0009 - accuracy: 0.5616\n",
      "Epoch 13/15\n",
      "45/45 [==============================] - 0s 442us/step - loss: 0.9939 - accuracy: 0.5692\n",
      "Epoch 14/15\n",
      "45/45 [==============================] - 0s 480us/step - loss: 0.9876 - accuracy: 0.5769\n",
      "Epoch 15/15\n",
      "45/45 [==============================] - 0s 453us/step - loss: 0.9865 - accuracy: 0.5713\n",
      "12/12 [==============================] - 0s 538us/step - loss: 0.9967 - accuracy: 0.5722\n"
     ]
    },
    {
     "name": "stderr",
     "output_type": "stream",
     "text": [
      "WARNING:absl:At this time, the v2.11+ optimizer `tf.keras.optimizers.SGD` runs slowly on M1/M2 Macs, please use the legacy Keras optimizer instead, located at `tf.keras.optimizers.legacy.SGD`.\n"
     ]
    },
    {
     "name": "stdout",
     "output_type": "stream",
     "text": [
      "Learning rate:     0.01\n",
      "Loss:     1.00\n",
      "Accuracy: 57.22%\n",
      "Epoch 1/15\n",
      "45/45 [==============================] - 0s 475us/step - loss: 0.9767 - accuracy: 0.5887\n",
      "Epoch 2/15\n",
      "45/45 [==============================] - 0s 468us/step - loss: 0.9724 - accuracy: 0.5880\n",
      "Epoch 3/15\n",
      "45/45 [==============================] - 0s 453us/step - loss: 0.9715 - accuracy: 0.5832\n",
      "Epoch 4/15\n",
      "45/45 [==============================] - 0s 437us/step - loss: 0.9707 - accuracy: 0.5839\n",
      "Epoch 5/15\n",
      "45/45 [==============================] - 0s 949us/step - loss: 0.9703 - accuracy: 0.5811\n",
      "Epoch 6/15\n",
      "45/45 [==============================] - 0s 443us/step - loss: 0.9695 - accuracy: 0.5873\n",
      "Epoch 7/15\n",
      "45/45 [==============================] - 0s 443us/step - loss: 0.9692 - accuracy: 0.5811\n",
      "Epoch 8/15\n",
      "45/45 [==============================] - 0s 462us/step - loss: 0.9687 - accuracy: 0.5811\n",
      "Epoch 9/15\n",
      "45/45 [==============================] - 0s 472us/step - loss: 0.9683 - accuracy: 0.5852\n",
      "Epoch 10/15\n",
      "45/45 [==============================] - 0s 450us/step - loss: 0.9678 - accuracy: 0.5818\n",
      "Epoch 11/15\n",
      "45/45 [==============================] - 0s 461us/step - loss: 0.9675 - accuracy: 0.5852\n",
      "Epoch 12/15\n",
      "45/45 [==============================] - 0s 462us/step - loss: 0.9670 - accuracy: 0.5859\n",
      "Epoch 13/15\n",
      "45/45 [==============================] - 0s 434us/step - loss: 0.9668 - accuracy: 0.5852\n",
      "Epoch 14/15\n",
      "45/45 [==============================] - 0s 440us/step - loss: 0.9660 - accuracy: 0.5846\n",
      "Epoch 15/15\n",
      "45/45 [==============================] - 0s 437us/step - loss: 0.9659 - accuracy: 0.5825\n",
      "12/12 [==============================] - 0s 515us/step - loss: 0.9789 - accuracy: 0.5472\n",
      "Learning rate:     0.001\n",
      "Loss:     0.98\n",
      "Accuracy: 54.72%\n"
     ]
    }
   ],
   "source": [
    "# Your code here - copy the relevant parts from the previous section and add more cells as needed\n",
    "from tensorflow.keras import optimizers\n",
    "model = Sequential()\n",
    "# Input layer\n",
    "model.add(Dense(64, activation='relu', input_shape=(64,))) # 64 neurons, ReLU activation, input shape of 64\n",
    "# Hidden layer\n",
    "model.add(Dense(64, activation='relu')) # 64 neurons, ReLU activation\n",
    "# Output layer\n",
    "model.add(Dense(10, activation='softmax')) # 10 neurons, softmax activation\n",
    "model.summary()\n",
    "for x in [0.1,0.01,0.001]:\n",
    "    model.compile(optimizer=optimizers.SGD(learning_rate=x), loss='categorical_crossentropy', metrics=['accuracy'])\n",
    "    history = model.fit(X_train,y_train,epochs=15,batch_size=32)\n",
    "    loss, accuracy = model.evaluate(X_test, y_test)\n",
    "    print(f'Learning rate:     {x}')\n",
    "    print(f'Loss:     {loss:.2f}')\n",
    "    print(f'Accuracy: {accuracy*100:.2f}%')\n"
   ]
  },
  {
   "cell_type": "code",
   "execution_count": null,
   "metadata": {},
   "outputs": [
    {
     "name": "stderr",
     "output_type": "stream",
     "text": [
      "WARNING:absl:At this time, the v2.11+ optimizer `tf.keras.optimizers.SGD` runs slowly on M1/M2 Macs, please use the legacy Keras optimizer instead, located at `tf.keras.optimizers.legacy.SGD`.\n"
     ]
    },
    {
     "name": "stdout",
     "output_type": "stream",
     "text": [
      "Epoch 1/15\n",
      "45/45 [==============================] - 0s 501us/step - loss: 0.9674 - accuracy: 0.5866\n",
      "Epoch 2/15\n",
      "45/45 [==============================] - 0s 471us/step - loss: 0.9659 - accuracy: 0.5852\n",
      "Epoch 3/15\n",
      "45/45 [==============================] - 0s 444us/step - loss: 0.9657 - accuracy: 0.5839\n",
      "Epoch 4/15\n",
      "45/45 [==============================] - 0s 435us/step - loss: 0.9643 - accuracy: 0.5839\n",
      "Epoch 5/15\n",
      "45/45 [==============================] - 0s 432us/step - loss: 0.9614 - accuracy: 0.5887\n",
      "Epoch 6/15\n",
      "45/45 [==============================] - 0s 434us/step - loss: 0.9608 - accuracy: 0.5873\n",
      "Epoch 7/15\n",
      "45/45 [==============================] - 0s 456us/step - loss: 0.9602 - accuracy: 0.5887\n",
      "Epoch 8/15\n",
      "45/45 [==============================] - 0s 448us/step - loss: 0.9594 - accuracy: 0.5880\n",
      "Epoch 9/15\n",
      "45/45 [==============================] - 0s 436us/step - loss: 0.9585 - accuracy: 0.5866\n",
      "Epoch 10/15\n",
      "45/45 [==============================] - 0s 433us/step - loss: 0.9576 - accuracy: 0.5880\n",
      "Epoch 11/15\n",
      "45/45 [==============================] - 0s 991us/step - loss: 0.9542 - accuracy: 0.5852\n",
      "Epoch 12/15\n",
      "45/45 [==============================] - 0s 447us/step - loss: 0.9539 - accuracy: 0.5866\n",
      "Epoch 13/15\n",
      "45/45 [==============================] - 0s 445us/step - loss: 0.9521 - accuracy: 0.5846\n",
      "Epoch 14/15\n",
      "45/45 [==============================] - 0s 440us/step - loss: 0.9513 - accuracy: 0.5873\n",
      "Epoch 15/15\n",
      "45/45 [==============================] - 0s 446us/step - loss: 0.9500 - accuracy: 0.5901\n",
      "12/12 [==============================] - 0s 550us/step - loss: 0.9683 - accuracy: 0.5556\n"
     ]
    },
    {
     "name": "stderr",
     "output_type": "stream",
     "text": [
      "WARNING:absl:At this time, the v2.11+ optimizer `tf.keras.optimizers.SGD` runs slowly on M1/M2 Macs, please use the legacy Keras optimizer instead, located at `tf.keras.optimizers.legacy.SGD`.\n"
     ]
    },
    {
     "name": "stdout",
     "output_type": "stream",
     "text": [
      "Learning rate:     0.7\n",
      "Loss:     0.97\n",
      "Accuracy: 55.56%\n",
      "Epoch 1/15\n",
      "45/45 [==============================] - 0s 615us/step - loss: 0.9545 - accuracy: 0.5839\n",
      "Epoch 2/15\n",
      "45/45 [==============================] - 0s 463us/step - loss: 0.9510 - accuracy: 0.5887\n",
      "Epoch 3/15\n",
      "45/45 [==============================] - 0s 461us/step - loss: 0.9499 - accuracy: 0.5943\n",
      "Epoch 4/15\n",
      "45/45 [==============================] - 0s 572us/step - loss: 0.9444 - accuracy: 0.5859\n",
      "Epoch 5/15\n",
      "45/45 [==============================] - 0s 454us/step - loss: 0.9413 - accuracy: 0.5880\n",
      "Epoch 6/15\n",
      "45/45 [==============================] - 0s 454us/step - loss: 0.9459 - accuracy: 0.5915\n",
      "Epoch 7/15\n",
      "45/45 [==============================] - 0s 446us/step - loss: 0.9395 - accuracy: 0.5901\n",
      "Epoch 8/15\n",
      "45/45 [==============================] - 0s 437us/step - loss: 0.9369 - accuracy: 0.5922\n",
      "Epoch 9/15\n",
      "45/45 [==============================] - 0s 448us/step - loss: 0.9317 - accuracy: 0.5880\n",
      "Epoch 10/15\n",
      "45/45 [==============================] - 0s 431us/step - loss: 0.9341 - accuracy: 0.5873\n",
      "Epoch 11/15\n",
      "45/45 [==============================] - 0s 1ms/step - loss: 0.9240 - accuracy: 0.5894\n",
      "Epoch 12/15\n",
      "45/45 [==============================] - 0s 457us/step - loss: 0.9221 - accuracy: 0.5957\n",
      "Epoch 13/15\n",
      "45/45 [==============================] - 0s 438us/step - loss: 0.9234 - accuracy: 0.5901\n",
      "Epoch 14/15\n",
      "45/45 [==============================] - 0s 459us/step - loss: 0.9201 - accuracy: 0.5964\n",
      "Epoch 15/15\n",
      "45/45 [==============================] - 0s 446us/step - loss: 0.9212 - accuracy: 0.5929\n",
      "12/12 [==============================] - 0s 561us/step - loss: 0.9460 - accuracy: 0.5833\n"
     ]
    },
    {
     "name": "stderr",
     "output_type": "stream",
     "text": [
      "WARNING:absl:At this time, the v2.11+ optimizer `tf.keras.optimizers.SGD` runs slowly on M1/M2 Macs, please use the legacy Keras optimizer instead, located at `tf.keras.optimizers.legacy.SGD`.\n"
     ]
    },
    {
     "name": "stdout",
     "output_type": "stream",
     "text": [
      "Learning rate:     0.9\n",
      "Loss:     0.95\n",
      "Accuracy: 58.33%\n",
      "Epoch 1/15\n",
      "45/45 [==============================] - 0s 516us/step - loss: 0.9151 - accuracy: 0.6075\n",
      "Epoch 2/15\n",
      "45/45 [==============================] - 0s 459us/step - loss: 0.9131 - accuracy: 0.6013\n",
      "Epoch 3/15\n",
      "45/45 [==============================] - 0s 450us/step - loss: 0.9249 - accuracy: 0.5929\n",
      "Epoch 4/15\n",
      "45/45 [==============================] - 0s 442us/step - loss: 0.8986 - accuracy: 0.6068\n",
      "Epoch 5/15\n",
      "45/45 [==============================] - 0s 439us/step - loss: 0.9183 - accuracy: 0.5846\n",
      "Epoch 6/15\n",
      "45/45 [==============================] - 0s 450us/step - loss: 0.9074 - accuracy: 0.6082\n",
      "Epoch 7/15\n",
      "45/45 [==============================] - 0s 438us/step - loss: 0.8830 - accuracy: 0.6263\n",
      "Epoch 8/15\n",
      "45/45 [==============================] - 0s 455us/step - loss: 0.8692 - accuracy: 0.6333\n",
      "Epoch 9/15\n",
      "45/45 [==============================] - 0s 447us/step - loss: 0.8720 - accuracy: 0.6305\n",
      "Epoch 10/15\n",
      "45/45 [==============================] - 0s 442us/step - loss: 0.8789 - accuracy: 0.6200\n",
      "Epoch 11/15\n",
      "45/45 [==============================] - 0s 443us/step - loss: 0.8570 - accuracy: 0.6388\n",
      "Epoch 12/15\n",
      "45/45 [==============================] - 0s 464us/step - loss: 0.8411 - accuracy: 0.6423\n",
      "Epoch 13/15\n",
      "45/45 [==============================] - 0s 447us/step - loss: 0.8497 - accuracy: 0.6444\n",
      "Epoch 14/15\n",
      "45/45 [==============================] - 0s 451us/step - loss: 0.8490 - accuracy: 0.6333\n",
      "Epoch 15/15\n",
      "45/45 [==============================] - 0s 438us/step - loss: 0.8316 - accuracy: 0.6430\n",
      "12/12 [==============================] - 0s 553us/step - loss: 0.8914 - accuracy: 0.5972\n",
      "Learning rate:     0.95\n",
      "Loss:     0.89\n",
      "Accuracy: 59.72%\n"
     ]
    }
   ],
   "source": [
    "for x in [0.7,0.9,0.95]:\n",
    "    model.compile(optimizer=optimizers.SGD(learning_rate=0.001, momentum=x), loss='categorical_crossentropy', metrics=['accuracy'])\n",
    "    history = model.fit(X_train,y_train,epochs=15,batch_size=32)\n",
    "    loss, accuracy = model.evaluate(X_test, y_test)\n",
    "    print(f'Learning rate:     {x}')\n",
    "    print(f'Loss:     {loss:.2f}')\n",
    "    print(f'Accuracy: {accuracy*100:.2f}%')"
   ]
  },
  {
   "cell_type": "markdown",
   "metadata": {},
   "source": [
    "Next, let's try a more advanced optimizer. Adam is likely the most popular optimizer for deep learning. It is an adaptive learning rate optimizer, which means that it automatically adjusts the learning rate based on how the training is going. This can be very useful, as it means that we don't need to manually tune the learning rate. Let's see how it performs on our model.\n",
    "\n",
    "\n",
    "1. Replace the SGD optimizer by the Adam optimizer from keras and run it\n",
    "  with the default parameters.\n",
    "\n",
    "2. Add another hidden layer with ReLU activation and 64 neurons. Does it improve the model performance?\n"
   ]
  },
  {
   "cell_type": "code",
   "execution_count": null,
   "metadata": {},
   "outputs": [
    {
     "name": "stderr",
     "output_type": "stream",
     "text": [
      "WARNING:absl:At this time, the v2.11+ optimizer `tf.keras.optimizers.Adam` runs slowly on M1/M2 Macs, please use the legacy Keras optimizer instead, located at `tf.keras.optimizers.legacy.Adam`.\n"
     ]
    },
    {
     "name": "stdout",
     "output_type": "stream",
     "text": [
      "Epoch 1/15\n",
      "45/45 [==============================] - 0s 544us/step - loss: 0.8805 - accuracy: 0.6180\n",
      "Epoch 2/15\n",
      "45/45 [==============================] - 0s 512us/step - loss: 0.8436 - accuracy: 0.6228\n",
      "Epoch 3/15\n",
      "45/45 [==============================] - 0s 487us/step - loss: 0.8749 - accuracy: 0.6117\n",
      "Epoch 4/15\n",
      "45/45 [==============================] - 0s 484us/step - loss: 0.8114 - accuracy: 0.6562\n",
      "Epoch 5/15\n",
      "45/45 [==============================] - 0s 485us/step - loss: 0.8129 - accuracy: 0.6451\n",
      "Epoch 6/15\n",
      "45/45 [==============================] - 0s 488us/step - loss: 0.7998 - accuracy: 0.6541\n",
      "Epoch 7/15\n",
      "45/45 [==============================] - 0s 482us/step - loss: 0.8643 - accuracy: 0.6458\n",
      "Epoch 8/15\n",
      "45/45 [==============================] - 0s 483us/step - loss: 0.7972 - accuracy: 0.6562\n",
      "Epoch 9/15\n",
      "45/45 [==============================] - 0s 496us/step - loss: 0.7769 - accuracy: 0.6618\n",
      "Epoch 10/15\n",
      "45/45 [==============================] - 0s 487us/step - loss: 0.7512 - accuracy: 0.6785\n",
      "Epoch 11/15\n",
      "45/45 [==============================] - 0s 483us/step - loss: 0.7552 - accuracy: 0.6701\n",
      "Epoch 12/15\n",
      "45/45 [==============================] - 0s 491us/step - loss: 0.7376 - accuracy: 0.6785\n",
      "Epoch 13/15\n",
      "45/45 [==============================] - 0s 481us/step - loss: 0.7401 - accuracy: 0.6771\n",
      "Epoch 14/15\n",
      "45/45 [==============================] - 0s 485us/step - loss: 0.7256 - accuracy: 0.6764\n",
      "Epoch 15/15\n",
      "45/45 [==============================] - 0s 486us/step - loss: 0.7455 - accuracy: 0.6708\n",
      "12/12 [==============================] - 0s 526us/step - loss: 0.8796 - accuracy: 0.6417\n",
      "Loss:     0.88\n",
      "Accuracy: 64.17%\n"
     ]
    }
   ],
   "source": [
    "#Change to optimizer Adam\n",
    "model.compile(optimizer=optimizers.Adam(learning_rate=0.01), loss='categorical_crossentropy', metrics=['accuracy'])\n",
    "history = model.fit(X_train,y_train,epochs=15,batch_size=32)\n",
    "loss, accuracy = model.evaluate(X_test, y_test)\n",
    "print(f'Loss:     {loss:.2f}')\n",
    "print(f'Accuracy: {accuracy*100:.2f}%')"
   ]
  },
  {
   "cell_type": "code",
   "execution_count": null,
   "metadata": {},
   "outputs": [
    {
     "name": "stdout",
     "output_type": "stream",
     "text": [
      "Model: \"sequential_2\"\n",
      "_________________________________________________________________\n",
      " Layer (type)                Output Shape              Param #   \n",
      "=================================================================\n",
      " dense_6 (Dense)             (None, 64)                4160      \n",
      "                                                                 \n",
      " dense_7 (Dense)             (None, 64)                4160      \n",
      "                                                                 \n",
      " dense_8 (Dense)             (None, 64)                4160      \n",
      "                                                                 \n",
      " dense_9 (Dense)             (None, 10)                650       \n",
      "                                                                 \n",
      "=================================================================\n",
      "Total params: 13130 (51.29 KB)\n",
      "Trainable params: 13130 (51.29 KB)\n",
      "Non-trainable params: 0 (0.00 Byte)\n",
      "_________________________________________________________________\n"
     ]
    }
   ],
   "source": [
    "#Add another hidden layer with ReLU activation and 64 neurons\n",
    "model = Sequential()\n",
    "# Input layer\n",
    "model.add(Dense(64, activation='relu', input_shape=(64,))) # 64 neurons, ReLU activation, input shape of 64\n",
    "# Hidden layer\n",
    "model.add(Dense(64, activation='relu')) # 64 neurons, ReLU activation\n",
    "#Extra hidden layer\n",
    "model.add(Dense(64, activation='relu')) # 64 neurons, ReLU activation\n",
    "# Output layer\n",
    "model.add(Dense(10, activation='softmax')) # 10 neurons, softmax activation\n",
    "model.summary()"
   ]
  },
  {
   "cell_type": "code",
   "execution_count": null,
   "metadata": {},
   "outputs": [
    {
     "name": "stderr",
     "output_type": "stream",
     "text": [
      "WARNING:absl:At this time, the v2.11+ optimizer `tf.keras.optimizers.Adam` runs slowly on M1/M2 Macs, please use the legacy Keras optimizer instead, located at `tf.keras.optimizers.legacy.Adam`.\n"
     ]
    },
    {
     "name": "stdout",
     "output_type": "stream",
     "text": [
      "Epoch 1/15\n",
      "45/45 [==============================] - 0s 642us/step - loss: 1.0325 - accuracy: 0.7140\n",
      "Epoch 2/15\n",
      "45/45 [==============================] - 0s 567us/step - loss: 0.2502 - accuracy: 0.9144\n",
      "Epoch 3/15\n",
      "45/45 [==============================] - 0s 567us/step - loss: 0.1500 - accuracy: 0.9499\n",
      "Epoch 4/15\n",
      "45/45 [==============================] - 0s 578us/step - loss: 0.1612 - accuracy: 0.9436\n",
      "Epoch 5/15\n",
      "45/45 [==============================] - 0s 554us/step - loss: 0.0767 - accuracy: 0.9722\n",
      "Epoch 6/15\n",
      "45/45 [==============================] - 0s 567us/step - loss: 0.0917 - accuracy: 0.9708\n",
      "Epoch 7/15\n",
      "45/45 [==============================] - 0s 575us/step - loss: 0.1351 - accuracy: 0.9645\n",
      "Epoch 8/15\n",
      "45/45 [==============================] - 0s 549us/step - loss: 0.1577 - accuracy: 0.9555\n",
      "Epoch 9/15\n",
      "45/45 [==============================] - 0s 601us/step - loss: 0.0727 - accuracy: 0.9763\n",
      "Epoch 10/15\n",
      "45/45 [==============================] - 0s 577us/step - loss: 0.1529 - accuracy: 0.9513\n",
      "Epoch 11/15\n",
      "45/45 [==============================] - 0s 546us/step - loss: 0.0945 - accuracy: 0.9722\n",
      "Epoch 12/15\n",
      "45/45 [==============================] - 0s 595us/step - loss: 0.0618 - accuracy: 0.9826\n",
      "Epoch 13/15\n",
      "45/45 [==============================] - 0s 558us/step - loss: 0.0774 - accuracy: 0.9722\n",
      "Epoch 14/15\n",
      "45/45 [==============================] - 0s 573us/step - loss: 0.1163 - accuracy: 0.9694\n",
      "Epoch 15/15\n",
      "45/45 [==============================] - 0s 581us/step - loss: 0.0324 - accuracy: 0.9910\n",
      "12/12 [==============================] - 0s 566us/step - loss: 0.0995 - accuracy: 0.9778\n",
      "Loss:     0.10\n",
      "Accuracy: 97.78%\n"
     ]
    }
   ],
   "source": [
    "model.compile(optimizer=optimizers.Adam(learning_rate=0.01), loss='categorical_crossentropy', metrics=['accuracy'])\n",
    "history = model.fit(X_train,y_train,epochs=15,batch_size=32)\n",
    "loss, accuracy = model.evaluate(X_test, y_test)\n",
    "print(f'Loss:     {loss:.2f}')\n",
    "print(f'Accuracy: {accuracy*100:.2f}%')"
   ]
  },
  {
   "cell_type": "markdown",
   "metadata": {},
   "source": [
    "Yes, adding a layer improves both loss and accuracy."
   ]
  },
  {
   "cell_type": "markdown",
   "metadata": {},
   "source": [
    "### Exercises: Forward Pass and Generalization\n",
    "\n",
    "Let's look in more detail at how the model makes predictions on the test set. We will walk through each step of making predictions, examining exactly what's going on.\n",
    "\n",
    "To start, we will apply our model to the test set, and look at what we get as output:"
   ]
  },
  {
   "cell_type": "code",
   "execution_count": null,
   "metadata": {},
   "outputs": [
    {
     "data": {
      "text/plain": [
       "<tf.Tensor: shape=(5, 10), dtype=float32, numpy=\n",
       "array([[1.20658598e-07, 3.89142052e-11, 8.80110360e-11, 1.70971709e-10,\n",
       "        2.79696124e-08, 1.01446949e-08, 9.99999881e-01, 8.38608349e-11,\n",
       "        8.01751790e-11, 2.70279896e-14],\n",
       "       [1.36680148e-06, 2.03616873e-10, 8.64097544e-11, 7.58258452e-08,\n",
       "        1.12205072e-08, 8.71881377e-03, 4.13202377e-13, 3.60363947e-06,\n",
       "        3.43950894e-08, 9.91276145e-01],\n",
       "       [1.75447967e-14, 2.77098304e-13, 4.24345482e-14, 9.99999881e-01,\n",
       "        4.87143810e-15, 7.37201879e-12, 4.87135661e-14, 2.47735426e-13,\n",
       "        1.08046558e-12, 8.83296991e-08],\n",
       "       [2.77666142e-04, 1.31061529e-06, 3.33514390e-06, 1.74786194e-07,\n",
       "        1.65498073e-04, 3.43022839e-04, 3.42569393e-07, 9.98600543e-01,\n",
       "        1.56197624e-04, 4.51994361e-04],\n",
       "       [1.91674340e-20, 1.13813085e-05, 9.96727705e-01, 7.48796047e-09,\n",
       "        1.05933653e-08, 1.04382226e-12, 4.72575366e-08, 1.61891638e-08,\n",
       "        3.26073007e-03, 1.34865260e-07]], dtype=float32)>"
      ]
     },
     "execution_count": 20,
     "metadata": {},
     "output_type": "execute_result"
    }
   ],
   "source": [
    "predictions_tf = model(X_test)\n",
    "predictions_tf[:5]"
   ]
  },
  {
   "cell_type": "code",
   "execution_count": null,
   "metadata": {},
   "outputs": [
    {
     "data": {
      "text/plain": [
       "(tensorflow.python.framework.ops.EagerTensor, TensorShape([360, 10]))"
      ]
     },
     "execution_count": 21,
     "metadata": {},
     "output_type": "execute_result"
    }
   ],
   "source": [
    "type(predictions_tf), predictions_tf.shape"
   ]
  },
  {
   "cell_type": "markdown",
   "metadata": {},
   "source": [
    "The raw output of the model is a tensor of shape `(360, 10)`. This means that we have 360 samples, and for each sample we have 10 values. Each of these values represents the probability that the sample belongs to a given class. This means that we have 10 probabilities for each sample, and the sum of these probabilities is 1. We can confirm this by summing the probabilities for each sample:"
   ]
  },
  {
   "cell_type": "code",
   "execution_count": null,
   "metadata": {},
   "outputs": [
    {
     "data": {
      "text/plain": [
       "<tf.Tensor: shape=(5,), dtype=float32, numpy=\n",
       "array([1.        , 1.0000001 , 0.99999994, 1.0000001 , 1.        ],\n",
       "      dtype=float32)>"
      ]
     },
     "execution_count": 22,
     "metadata": {},
     "output_type": "execute_result"
    }
   ],
   "source": [
    "import tensorflow as tf\n",
    "\n",
    "tf.reduce_sum(predictions_tf, axis=1)[:5]"
   ]
  },
  {
   "cell_type": "markdown",
   "metadata": {
    "collapsed": false
   },
   "source": [
    "...okay, there might be a small rounding error here and there. This is to do with how floating point numbers are represented in computers, and it's not something we need to worry about for now."
   ]
  },
  {
   "cell_type": "markdown",
   "metadata": {},
   "source": [
    "We can also extract the label with the highest probability using the tensorflow API:"
   ]
  },
  {
   "cell_type": "code",
   "execution_count": null,
   "metadata": {},
   "outputs": [
    {
     "data": {
      "text/plain": [
       "<tf.Tensor: shape=(5,), dtype=int64, numpy=array([6, 9, 3, 7, 2])>"
      ]
     },
     "execution_count": 23,
     "metadata": {},
     "output_type": "execute_result"
    }
   ],
   "source": [
    "predicted_labels_tf = tf.argmax(predictions_tf, axis=1)\n",
    "predicted_labels_tf[:5]"
   ]
  },
  {
   "cell_type": "markdown",
   "metadata": {
    "collapsed": false
   },
   "source": [
    "One helpful aspect of this approach is that we don't just get the prediction, but also a sense of how confident the model is in its prediction. To see this in practice, let's take a look at some of the predictions the model is highly confident about (i.e. a lot of the probability mass is on one class):"
   ]
  },
  {
   "cell_type": "code",
   "execution_count": null,
   "metadata": {
    "collapsed": false
   },
   "outputs": [
    {
     "data": {
      "image/png": "[encoded data removed]",
      "text/plain": [
       "<Figure size 600x600 with 9 Axes>"
      ]
     },
     "metadata": {},
     "output_type": "display_data"
    }
   ],
   "source": [
    "# Get the values corresponding to the predicted labels for each sample\n",
    "predicted_values_tf = tf.reduce_max(predictions_tf, axis=1)\n",
    "\n",
    "# Get the indices of the samples with the highest predicted values\n",
    "most_confident_indices_tf = tf.argsort(predicted_values_tf, direction='DESCENDING').numpy()[:9]\n",
    "\n",
    "# Get the 9 most confident samples\n",
    "most_confident_samples_tf = X_test[most_confident_indices_tf]\n",
    "\n",
    "# Get the true labels for the 9 most confident samples\n",
    "most_confident_labels_tf = np.argmax(y_test[most_confident_indices_tf], axis=1)\n",
    "\n",
    "# Plot the 9 most confident samples\n",
    "fig, axes = plt.subplots(3, 3, figsize=(6, 6))\n",
    "\n",
    "for i, ax in enumerate(axes.flat):\n",
    "    ax.imshow(most_confident_samples_tf[i].reshape(8, 8), cmap=plt.cm.gray_r, interpolation='nearest')\n",
    "    ax.set_title(f\"{most_confident_labels_tf[i]}\")\n",
    "\n",
    "    # Removing axis labels\n",
    "    ax.set_xticks([])\n",
    "    ax.set_yticks([])\n",
    "    \n",
    "plt.show()"
   ]
  },
  {
   "cell_type": "markdown",
   "metadata": {},
   "source": [
    "## Impact of Initialization\n",
    "\n",
    "Let's study the impact of a bad initialization when training\n",
    "a deep feed forward network.\n",
    "\n",
    "By default, Keras dense layers use the \"Glorot Uniform\" initialization\n",
    "strategy to initialize the weight matrices:\n",
    "\n",
    "- each weight coefficient is randomly sampled from [-scale, scale]\n",
    "- scale is proportional to $\\frac{1}{\\sqrt{n_{in} + n_{out}}}$\n",
    "\n",
    "This strategy is known to work well to initialize deep neural networks\n",
    "with \"tanh\" or \"relu\" activation functions and then trained with\n",
    "standard SGD.\n",
    "\n",
    "To assess the impact of initialization let us plug an alternative init\n",
    "scheme into a 2 hidden layers networks with \"tanh\" activations.\n",
    "For the sake of the example let's use normal distributed weights\n",
    "with a manually adjustable scale (standard deviation) and see the\n",
    "impact the scale value:"
   ]
  },
  {
   "cell_type": "code",
   "execution_count": null,
   "metadata": {},
   "outputs": [
    {
     "name": "stderr",
     "output_type": "stream",
     "text": [
      "WARNING:absl:At this time, the v2.11+ optimizer `tf.keras.optimizers.SGD` runs slowly on M1/M2 Macs, please use the legacy Keras optimizer instead, located at `tf.keras.optimizers.legacy.SGD`.\n"
     ]
    }
   ],
   "source": [
    "from tensorflow.keras import initializers\n",
    "from tensorflow.keras import optimizers\n",
    "\n",
    "input_dim = 64\n",
    "hidden_dim = 64\n",
    "output_dim = 10\n",
    "\n",
    "normal_init = initializers.TruncatedNormal(stddev=0.01, seed=42)\n",
    "\n",
    "model = Sequential()\n",
    "model.add(Dense(hidden_dim, input_dim=input_dim, activation=\"tanh\",\n",
    "                kernel_initializer=normal_init))\n",
    "model.add(Dense(hidden_dim, activation=\"tanh\",\n",
    "                kernel_initializer=normal_init))\n",
    "model.add(Dense(output_dim, activation=\"softmax\",\n",
    "                kernel_initializer=normal_init))\n",
    "\n",
    "model.compile(optimizer=optimizers.SGD(learning_rate=0.1),\n",
    "              loss='categorical_crossentropy', metrics=['accuracy'])"
   ]
  },
  {
   "cell_type": "code",
   "execution_count": null,
   "metadata": {},
   "outputs": [
    {
     "data": {
      "text/plain": [
       "[<keras.src.layers.core.dense.Dense at 0x17f60e070>,\n",
       " <keras.src.layers.core.dense.Dense at 0x17f60e520>,\n",
       " <keras.src.layers.core.dense.Dense at 0x17ea18f70>]"
      ]
     },
     "execution_count": 26,
     "metadata": {},
     "output_type": "execute_result"
    }
   ],
   "source": [
    "model.layers"
   ]
  },
  {
   "cell_type": "markdown",
   "metadata": {},
   "source": [
    "Let's have a look at the parameters of the first layer after initialization but before any training has happened:"
   ]
  },
  {
   "cell_type": "code",
   "execution_count": null,
   "metadata": {},
   "outputs": [
    {
     "data": {
      "text/plain": [
       "[<tf.Variable 'dense_10/kernel:0' shape=(64, 64) dtype=float32, numpy=\n",
       " array([[ 0.00015817, -0.01590087,  0.00103594, ...,  0.00962818,\n",
       "          0.00624957,  0.00994726],\n",
       "        [ 0.0081879 ,  0.00756818, -0.00668142, ...,  0.01084459,\n",
       "         -0.00317478, -0.00549116],\n",
       "        [-0.00086618, -0.00287623,  0.00391693, ...,  0.00064558,\n",
       "         -0.00420471,  0.00174566],\n",
       "        ...,\n",
       "        [-0.0029006 , -0.0091218 ,  0.00804327, ..., -0.01407086,\n",
       "          0.00952832, -0.01348555],\n",
       "        [ 0.00375078,  0.00967842,  0.00098119, ..., -0.00413454,\n",
       "          0.01695471,  0.00025196],\n",
       "        [ 0.00459809,  0.01223094, -0.00213172, ...,  0.01246831,\n",
       "         -0.00714749, -0.00868595]], dtype=float32)>,\n",
       " <tf.Variable 'dense_10/bias:0' shape=(64,) dtype=float32, numpy=\n",
       " array([0., 0., 0., 0., 0., 0., 0., 0., 0., 0., 0., 0., 0., 0., 0., 0., 0.,\n",
       "        0., 0., 0., 0., 0., 0., 0., 0., 0., 0., 0., 0., 0., 0., 0., 0., 0.,\n",
       "        0., 0., 0., 0., 0., 0., 0., 0., 0., 0., 0., 0., 0., 0., 0., 0., 0.,\n",
       "        0., 0., 0., 0., 0., 0., 0., 0., 0., 0., 0., 0., 0.], dtype=float32)>]"
      ]
     },
     "execution_count": 27,
     "metadata": {},
     "output_type": "execute_result"
    }
   ],
   "source": [
    "model.layers[0].weights"
   ]
  },
  {
   "cell_type": "code",
   "execution_count": null,
   "metadata": {},
   "outputs": [
    {
     "data": {
      "text/plain": [
       "array([[ 0.00015817, -0.01590087,  0.00103594, ...,  0.00962818,\n",
       "         0.00624957,  0.00994726],\n",
       "       [ 0.0081879 ,  0.00756818, -0.00668142, ...,  0.01084459,\n",
       "        -0.00317478, -0.00549116],\n",
       "       [-0.00086618, -0.00287623,  0.00391693, ...,  0.00064558,\n",
       "        -0.00420471,  0.00174566],\n",
       "       ...,\n",
       "       [-0.0029006 , -0.0091218 ,  0.00804327, ..., -0.01407086,\n",
       "         0.00952832, -0.01348555],\n",
       "       [ 0.00375078,  0.00967842,  0.00098119, ..., -0.00413454,\n",
       "         0.01695471,  0.00025196],\n",
       "       [ 0.00459809,  0.01223094, -0.00213172, ...,  0.01246831,\n",
       "        -0.00714749, -0.00868595]], dtype=float32)"
      ]
     },
     "execution_count": 28,
     "metadata": {},
     "output_type": "execute_result"
    }
   ],
   "source": [
    "w = model.layers[0].weights[0].numpy()\n",
    "w"
   ]
  },
  {
   "cell_type": "code",
   "execution_count": null,
   "metadata": {},
   "outputs": [
    {
     "data": {
      "text/plain": [
       "0.008835949"
      ]
     },
     "execution_count": 29,
     "metadata": {},
     "output_type": "execute_result"
    }
   ],
   "source": [
    "w.std()"
   ]
  },
  {
   "cell_type": "code",
   "execution_count": null,
   "metadata": {},
   "outputs": [
    {
     "data": {
      "text/plain": [
       "array([0., 0., 0., 0., 0., 0., 0., 0., 0., 0., 0., 0., 0., 0., 0., 0., 0.,\n",
       "       0., 0., 0., 0., 0., 0., 0., 0., 0., 0., 0., 0., 0., 0., 0., 0., 0.,\n",
       "       0., 0., 0., 0., 0., 0., 0., 0., 0., 0., 0., 0., 0., 0., 0., 0., 0.,\n",
       "       0., 0., 0., 0., 0., 0., 0., 0., 0., 0., 0., 0., 0.], dtype=float32)"
      ]
     },
     "execution_count": 35,
     "metadata": {},
     "output_type": "execute_result"
    }
   ],
   "source": [
    "b = model.layers[0].weights[1].numpy()\n",
    "b"
   ]
  },
  {
   "cell_type": "code",
   "execution_count": null,
   "metadata": {},
   "outputs": [
    {
     "name": "stdout",
     "output_type": "stream",
     "text": [
      "Epoch 1/15\n",
      "45/45 [==============================] - 0s 487us/step - loss: 2.2863 - accuracy: 0.2122\n",
      "Epoch 2/15\n",
      "45/45 [==============================] - 0s 451us/step - loss: 1.7355 - accuracy: 0.4690\n",
      "Epoch 3/15\n",
      "45/45 [==============================] - 0s 491us/step - loss: 0.9967 - accuracy: 0.7175\n",
      "Epoch 4/15\n",
      "45/45 [==============================] - 0s 466us/step - loss: 0.5618 - accuracy: 0.8525\n",
      "Epoch 5/15\n",
      "45/45 [==============================] - 0s 461us/step - loss: 0.3319 - accuracy: 0.9165\n",
      "Epoch 6/15\n",
      "45/45 [==============================] - 0s 469us/step - loss: 0.2150 - accuracy: 0.9499\n",
      "Epoch 7/15\n",
      "45/45 [==============================] - 0s 478us/step - loss: 0.1522 - accuracy: 0.9687\n",
      "Epoch 8/15\n",
      "45/45 [==============================] - 0s 458us/step - loss: 0.1650 - accuracy: 0.9527\n",
      "Epoch 9/15\n",
      "45/45 [==============================] - 0s 461us/step - loss: 0.1168 - accuracy: 0.9715\n",
      "Epoch 10/15\n",
      "45/45 [==============================] - 0s 452us/step - loss: 0.0867 - accuracy: 0.9798\n",
      "Epoch 11/15\n",
      "45/45 [==============================] - 0s 442us/step - loss: 0.0947 - accuracy: 0.9763\n",
      "Epoch 12/15\n",
      "45/45 [==============================] - 0s 444us/step - loss: 0.0738 - accuracy: 0.9798\n",
      "Epoch 13/15\n",
      "45/45 [==============================] - 0s 441us/step - loss: 0.0604 - accuracy: 0.9875\n",
      "Epoch 14/15\n",
      "45/45 [==============================] - 0s 435us/step - loss: 0.0489 - accuracy: 0.9923\n",
      "Epoch 15/15\n",
      "45/45 [==============================] - 0s 439us/step - loss: 0.0403 - accuracy: 0.9930\n"
     ]
    },
    {
     "data": {
      "image/png": "[encoded data removed]",
      "text/plain": [
       "<Figure size 1200x400 with 1 Axes>"
      ]
     },
     "metadata": {},
     "output_type": "display_data"
    }
   ],
   "source": [
    "history = model.fit(X_train, y_train, epochs=15, batch_size=32)\n",
    "\n",
    "plt.figure(figsize=(12, 4))\n",
    "plt.plot(history.history['loss'], label=\"Truncated Normal init\")\n",
    "plt.legend();"
   ]
  },
  {
   "cell_type": "markdown",
   "metadata": {},
   "source": [
    "Once the model has been fit, the weights have been updated and notably the biases are no longer 0:"
   ]
  },
  {
   "cell_type": "code",
   "execution_count": null,
   "metadata": {},
   "outputs": [
    {
     "data": {
      "text/plain": [
       "[<tf.Variable 'dense_10/kernel:0' shape=(64, 64) dtype=float32, numpy=\n",
       " array([[ 1.58170762e-04, -1.59008689e-02,  1.03594456e-03, ...,\n",
       "          9.62818228e-03,  6.24957308e-03,  9.94726177e-03],\n",
       "        [ 1.11761475e-02, -5.54056372e-03, -4.56783827e-03, ...,\n",
       "         -6.46605331e-04, -1.70560833e-02, -3.01546957e-02],\n",
       "        [ 3.84688452e-02, -6.83812723e-02, -4.96929660e-02, ...,\n",
       "         -1.37646180e-02, -1.03370316e-01,  5.03773391e-02],\n",
       "        ...,\n",
       "        [ 1.84919797e-02, -1.68618876e-02,  1.28123119e-01, ...,\n",
       "         -8.47972035e-02,  7.00398907e-02, -1.64756671e-01],\n",
       "        [ 1.99664440e-02, -3.71353589e-02,  9.58008617e-02, ...,\n",
       "         -7.87478983e-02,  1.89087894e-02, -1.08035684e-01],\n",
       "        [ 3.20964158e-02, -1.95199139e-02,  5.58679812e-02, ...,\n",
       "          3.68167460e-02,  1.85548738e-02, -5.80233037e-02]], dtype=float32)>,\n",
       " <tf.Variable 'dense_10/bias:0' shape=(64,) dtype=float32, numpy=\n",
       " array([-7.9277746e-04, -2.0125480e-03,  1.9437365e-03, -4.1588006e-04,\n",
       "        -2.1642330e-03, -6.4086413e-04, -8.1118423e-04, -4.1886058e-04,\n",
       "         2.4400008e-04,  8.5847505e-04,  5.2377628e-04,  4.7312430e-03,\n",
       "        -6.9254056e-05,  1.4080608e-03,  1.1171773e-03, -2.0008767e-04,\n",
       "         4.2864014e-03,  8.0315390e-04, -3.6693399e-04, -1.6844552e-03,\n",
       "         8.7232410e-04, -8.9291681e-04,  1.4889508e-03,  1.5619389e-03,\n",
       "         6.3850274e-03,  2.4108293e-03,  3.3678714e-04,  1.1092236e-03,\n",
       "        -2.8859082e-04,  2.7228077e-06,  4.2628441e-03,  2.5306555e-04,\n",
       "         7.3466107e-04, -1.0469517e-05, -2.0249295e-03, -9.1243099e-04,\n",
       "        -4.6650702e-04,  3.1116352e-04, -2.0777923e-03, -1.5015635e-03,\n",
       "        -2.0853917e-03, -1.2039731e-03,  1.1412264e-03,  7.8553183e-04,\n",
       "         1.6163087e-03,  2.1372849e-04,  2.4793253e-03,  8.5522141e-04,\n",
       "         1.9025961e-03,  1.6134058e-03,  3.3554807e-03, -3.1271188e-03,\n",
       "        -4.8721684e-03, -3.4106751e-03, -8.1518460e-03, -3.5073929e-03,\n",
       "         1.4998678e-03,  1.2516280e-03,  2.3327682e-03, -2.2466006e-03,\n",
       "        -1.8293285e-04, -9.6588221e-05, -4.7511300e-03,  8.9884398e-04],\n",
       "       dtype=float32)>]"
      ]
     },
     "execution_count": 32,
     "metadata": {},
     "output_type": "execute_result"
    }
   ],
   "source": [
    "model.layers[0].weights"
   ]
  },
  {
   "cell_type": "markdown",
   "metadata": {},
   "source": [
    "#### Questions:\n",
    "\n",
    "- Try the following initialization schemes and see whether\n",
    "  the SGD algorithm can successfully train the network or\n",
    "  not:\n",
    "  \n",
    "  - a very small e.g. `stddev=1e-3`\n",
    "  - a larger scale e.g. `stddev=1` or `10`\n",
    "  - initialize all weights to 0 (constant initialization)\n",
    "  \n",
    "- What do you observe? Can you find an explanation for those\n",
    "  outcomes?\n",
    "\n",
    "When stddev is too small, the model has difficulty finding suitable weights.\n",
    "\n",
    "When stdev is too large, the loss becomes very large too, at least initially.\n",
    "\n",
    "The model also fails to converge when initialization weights are set to zeros.\n",
    "\n",
    "- Are more advanced solvers such as SGD with momentum or Adam able\n",
    "  to deal better with such bad initializations?\n",
    "\n",
    "Adam seems to look further than SGD for suitable weights to reduce loss, but stil fail to converge."
   ]
  },
  {
   "cell_type": "code",
   "execution_count": null,
   "metadata": {},
   "outputs": [
    {
     "name": "stderr",
     "output_type": "stream",
     "text": [
      "WARNING:absl:At this time, the v2.11+ optimizer `tf.keras.optimizers.SGD` runs slowly on M1/M2 Macs, please use the legacy Keras optimizer instead, located at `tf.keras.optimizers.legacy.SGD`.\n"
     ]
    },
    {
     "name": "stdout",
     "output_type": "stream",
     "text": [
      "Epoch 1/15\n",
      "45/45 [==============================] - 0s 501us/step - loss: 2.3037 - accuracy: 0.0835\n",
      "Epoch 2/15\n",
      "45/45 [==============================] - 0s 496us/step - loss: 2.3032 - accuracy: 0.0981\n",
      "Epoch 3/15\n",
      "45/45 [==============================] - 0s 469us/step - loss: 2.3032 - accuracy: 0.1072\n",
      "Epoch 4/15\n",
      "45/45 [==============================] - 0s 475us/step - loss: 2.3032 - accuracy: 0.1072\n",
      "Epoch 5/15\n",
      "45/45 [==============================] - 0s 506us/step - loss: 2.3031 - accuracy: 0.1058\n",
      "Epoch 6/15\n",
      "45/45 [==============================] - 0s 461us/step - loss: 2.3030 - accuracy: 0.0932\n",
      "Epoch 7/15\n",
      "45/45 [==============================] - 0s 467us/step - loss: 2.3031 - accuracy: 0.1072\n",
      "Epoch 8/15\n",
      "45/45 [==============================] - 0s 502us/step - loss: 2.3030 - accuracy: 0.1072\n",
      "Epoch 9/15\n",
      "45/45 [==============================] - 0s 462us/step - loss: 2.3017 - accuracy: 0.1072\n",
      "Epoch 10/15\n",
      "45/45 [==============================] - 0s 525us/step - loss: 2.1246 - accuracy: 0.1712\n",
      "Epoch 11/15\n",
      "45/45 [==============================] - 0s 473us/step - loss: 1.8135 - accuracy: 0.1914\n",
      "Epoch 12/15\n",
      "45/45 [==============================] - 0s 475us/step - loss: 1.6422 - accuracy: 0.2568\n",
      "Epoch 13/15\n",
      "45/45 [==============================] - 0s 494us/step - loss: 1.4602 - accuracy: 0.3250\n",
      "Epoch 14/15\n",
      "45/45 [==============================] - 0s 461us/step - loss: 1.2926 - accuracy: 0.4739\n",
      "Epoch 15/15\n",
      "45/45 [==============================] - 0s 516us/step - loss: 0.9322 - accuracy: 0.6305\n"
     ]
    },
    {
     "name": "stderr",
     "output_type": "stream",
     "text": [
      "WARNING:absl:At this time, the v2.11+ optimizer `tf.keras.optimizers.SGD` runs slowly on M1/M2 Macs, please use the legacy Keras optimizer instead, located at `tf.keras.optimizers.legacy.SGD`.\n"
     ]
    },
    {
     "name": "stdout",
     "output_type": "stream",
     "text": [
      "Epoch 1/15\n",
      "45/45 [==============================] - 0s 527us/step - loss: 4.0424 - accuracy: 0.2867\n",
      "Epoch 2/15\n",
      "45/45 [==============================] - 0s 529us/step - loss: 1.6978 - accuracy: 0.5226\n",
      "Epoch 3/15\n",
      "45/45 [==============================] - 0s 489us/step - loss: 1.3606 - accuracy: 0.5943\n",
      "Epoch 4/15\n",
      "45/45 [==============================] - 0s 476us/step - loss: 1.1575 - accuracy: 0.6423\n",
      "Epoch 5/15\n",
      "45/45 [==============================] - 0s 509us/step - loss: 0.9757 - accuracy: 0.6882\n",
      "Epoch 6/15\n",
      "45/45 [==============================] - 0s 473us/step - loss: 0.8903 - accuracy: 0.7356\n",
      "Epoch 7/15\n",
      "45/45 [==============================] - 0s 502us/step - loss: 0.8112 - accuracy: 0.7404\n",
      "Epoch 8/15\n",
      "45/45 [==============================] - 0s 462us/step - loss: 0.7605 - accuracy: 0.7592\n",
      "Epoch 9/15\n",
      "45/45 [==============================] - 0s 457us/step - loss: 0.6795 - accuracy: 0.7815\n",
      "Epoch 10/15\n",
      "45/45 [==============================] - 0s 501us/step - loss: 0.5852 - accuracy: 0.8107\n",
      "Epoch 11/15\n",
      "45/45 [==============================] - 0s 465us/step - loss: 0.5980 - accuracy: 0.8184\n",
      "Epoch 12/15\n",
      "45/45 [==============================] - 0s 491us/step - loss: 0.5869 - accuracy: 0.8156\n",
      "Epoch 13/15\n",
      "45/45 [==============================] - 0s 484us/step - loss: 0.5406 - accuracy: 0.8330\n",
      "Epoch 14/15\n",
      "45/45 [==============================] - 0s 476us/step - loss: 0.5565 - accuracy: 0.8323\n",
      "Epoch 15/15\n",
      "45/45 [==============================] - 0s 522us/step - loss: 0.4668 - accuracy: 0.8427\n"
     ]
    },
    {
     "name": "stderr",
     "output_type": "stream",
     "text": [
      "WARNING:absl:At this time, the v2.11+ optimizer `tf.keras.optimizers.SGD` runs slowly on M1/M2 Macs, please use the legacy Keras optimizer instead, located at `tf.keras.optimizers.legacy.SGD`.\n"
     ]
    },
    {
     "name": "stdout",
     "output_type": "stream",
     "text": [
      "Epoch 1/15\n",
      "45/45 [==============================] - 0s 532us/step - loss: 81.4727 - accuracy: 0.1148\n",
      "Epoch 2/15\n",
      "45/45 [==============================] - 0s 467us/step - loss: 56.2848 - accuracy: 0.1482\n",
      "Epoch 3/15\n",
      "45/45 [==============================] - 0s 489us/step - loss: 55.3755 - accuracy: 0.1322\n",
      "Epoch 4/15\n",
      "45/45 [==============================] - 0s 507us/step - loss: 49.5242 - accuracy: 0.1524\n",
      "Epoch 5/15\n",
      "45/45 [==============================] - 0s 461us/step - loss: 39.7676 - accuracy: 0.1677\n",
      "Epoch 6/15\n",
      "45/45 [==============================] - 0s 487us/step - loss: 29.2757 - accuracy: 0.1649\n",
      "Epoch 7/15\n",
      "45/45 [==============================] - 0s 481us/step - loss: 19.4028 - accuracy: 0.1608\n",
      "Epoch 8/15\n",
      "45/45 [==============================] - 0s 1ms/step - loss: 17.3928 - accuracy: 0.1851\n",
      "Epoch 9/15\n",
      "45/45 [==============================] - 0s 504us/step - loss: 15.7324 - accuracy: 0.1733\n",
      "Epoch 10/15\n",
      "45/45 [==============================] - 0s 494us/step - loss: 12.7138 - accuracy: 0.2067\n",
      "Epoch 11/15\n",
      "45/45 [==============================] - 0s 482us/step - loss: 10.8657 - accuracy: 0.2338\n",
      "Epoch 12/15\n",
      "45/45 [==============================] - 0s 480us/step - loss: 10.0294 - accuracy: 0.2380\n",
      "Epoch 13/15\n",
      "45/45 [==============================] - 0s 457us/step - loss: 9.7315 - accuracy: 0.2255\n",
      "Epoch 14/15\n",
      "45/45 [==============================] - 0s 490us/step - loss: 9.6658 - accuracy: 0.2046\n",
      "Epoch 15/15\n",
      "45/45 [==============================] - 0s 486us/step - loss: 10.0065 - accuracy: 0.1441\n"
     ]
    },
    {
     "data": {
      "image/png": "[encoded data removed]",
      "text/plain": [
       "<Figure size 1200x400 with 1 Axes>"
      ]
     },
     "metadata": {},
     "output_type": "display_data"
    },
    {
     "data": {
      "image/png": "[encoded data removed]",
      "text/plain": [
       "<Figure size 1200x400 with 1 Axes>"
      ]
     },
     "metadata": {},
     "output_type": "display_data"
    },
    {
     "data": {
      "image/png": "[encoded data removed]",
      "text/plain": [
       "<Figure size 1200x400 with 1 Axes>"
      ]
     },
     "metadata": {},
     "output_type": "display_data"
    }
   ],
   "source": [
    "# Your code here\n",
    "input_dim = 64\n",
    "hidden_dim = 64\n",
    "output_dim = 10\n",
    "for x in [1e-3,1,10]:\n",
    "    normal_init = initializers.TruncatedNormal(stddev=x, seed=42)\n",
    "\n",
    "    model = Sequential()\n",
    "    model.add(Dense(hidden_dim, input_dim=input_dim, activation=\"tanh\",\n",
    "                    kernel_initializer=normal_init))\n",
    "    model.add(Dense(hidden_dim, activation=\"tanh\",\n",
    "                    kernel_initializer=normal_init))\n",
    "    model.add(Dense(output_dim, activation=\"softmax\",\n",
    "                    kernel_initializer=normal_init))\n",
    "    # Compile model\n",
    "    model.compile(optimizer=optimizers.SGD(learning_rate=0.1),\n",
    "                loss='categorical_crossentropy', metrics=['accuracy'])\n",
    "    # Fit model\n",
    "    history = model.fit(X_train, y_train, epochs=15, batch_size=32)\n",
    "    # Plot loss\n",
    "    plt.figure(figsize=(12, 4))\n",
    "    plt.plot(history.history['loss'], label=\"Truncated Normal init\")\n",
    "    plt.title(f'Stddev on Initialization = {x}')\n",
    "    plt.legend();"
   ]
  },
  {
   "cell_type": "code",
   "execution_count": null,
   "metadata": {},
   "outputs": [],
   "source": [
    "from tensorflow.keras.initializers import Zeros\n",
    "initializer = Zeros()"
   ]
  },
  {
   "cell_type": "code",
   "execution_count": null,
   "metadata": {},
   "outputs": [
    {
     "name": "stderr",
     "output_type": "stream",
     "text": [
      "WARNING:absl:At this time, the v2.11+ optimizer `tf.keras.optimizers.SGD` runs slowly on M1/M2 Macs, please use the legacy Keras optimizer instead, located at `tf.keras.optimizers.legacy.SGD`.\n"
     ]
    },
    {
     "name": "stdout",
     "output_type": "stream",
     "text": [
      "Epoch 1/15\n",
      "45/45 [==============================] - 0s 526us/step - loss: 2.3036 - accuracy: 0.0849\n",
      "Epoch 2/15\n",
      "45/45 [==============================] - 0s 471us/step - loss: 2.3033 - accuracy: 0.0974\n",
      "Epoch 3/15\n",
      "45/45 [==============================] - 0s 480us/step - loss: 2.3032 - accuracy: 0.0953\n",
      "Epoch 4/15\n",
      "45/45 [==============================] - 0s 633us/step - loss: 2.3031 - accuracy: 0.1072\n",
      "Epoch 5/15\n",
      "45/45 [==============================] - 0s 488us/step - loss: 2.3032 - accuracy: 0.1072\n",
      "Epoch 6/15\n",
      "45/45 [==============================] - 0s 470us/step - loss: 2.3030 - accuracy: 0.1072\n",
      "Epoch 7/15\n",
      "45/45 [==============================] - 0s 861us/step - loss: 2.3031 - accuracy: 0.1051\n",
      "Epoch 8/15\n",
      "45/45 [==============================] - 0s 495us/step - loss: 2.3031 - accuracy: 0.1072\n",
      "Epoch 9/15\n",
      "45/45 [==============================] - 0s 459us/step - loss: 2.3031 - accuracy: 0.1044\n",
      "Epoch 10/15\n",
      "45/45 [==============================] - 0s 486us/step - loss: 2.3031 - accuracy: 0.1072\n",
      "Epoch 11/15\n",
      "45/45 [==============================] - 0s 677us/step - loss: 2.3031 - accuracy: 0.1072\n",
      "Epoch 12/15\n",
      "45/45 [==============================] - 0s 469us/step - loss: 2.3030 - accuracy: 0.1072\n",
      "Epoch 13/15\n",
      "45/45 [==============================] - 0s 518us/step - loss: 2.3030 - accuracy: 0.1072\n",
      "Epoch 14/15\n",
      "45/45 [==============================] - 0s 461us/step - loss: 2.3031 - accuracy: 0.1065\n",
      "Epoch 15/15\n",
      "45/45 [==============================] - 0s 503us/step - loss: 2.3032 - accuracy: 0.0960\n"
     ]
    },
    {
     "data": {
      "image/png": "[encoded data removed]",
      "text/plain": [
       "<Figure size 1200x400 with 1 Axes>"
      ]
     },
     "metadata": {},
     "output_type": "display_data"
    }
   ],
   "source": [
    "input_dim = 64\n",
    "hidden_dim = 64\n",
    "output_dim = 10\n",
    "\n",
    "model = Sequential()\n",
    "model.add(Dense(hidden_dim, input_dim=input_dim, activation=\"tanh\",\n",
    "                kernel_initializer=Zeros()))\n",
    "model.add(Dense(hidden_dim, activation=\"tanh\",\n",
    "                kernel_initializer=Zeros()))\n",
    "model.add(Dense(output_dim, activation=\"softmax\",\n",
    "                kernel_initializer=Zeros()))\n",
    "# Compile model\n",
    "model.compile(optimizer=optimizers.SGD(learning_rate=0.1),\n",
    "            loss='categorical_crossentropy', metrics=['accuracy'])\n",
    "# Fit model\n",
    "history = model.fit(X_train, y_train, epochs=15, batch_size=32)\n",
    "# Plot loss\n",
    "plt.figure(figsize=(12, 4))\n",
    "plt.plot(history.history['loss'], label=\"Truncated Normal init\")\n",
    "plt.title(f'Stddev on Initialization = {x}')\n",
    "plt.legend();"
   ]
  },
  {
   "cell_type": "code",
   "execution_count": null,
   "metadata": {},
   "outputs": [
    {
     "name": "stderr",
     "output_type": "stream",
     "text": [
      "WARNING:absl:At this time, the v2.11+ optimizer `tf.keras.optimizers.Adam` runs slowly on M1/M2 Macs, please use the legacy Keras optimizer instead, located at `tf.keras.optimizers.legacy.Adam`.\n"
     ]
    },
    {
     "name": "stdout",
     "output_type": "stream",
     "text": [
      "Epoch 1/15\n",
      "45/45 [==============================] - 0s 546us/step - loss: 2.3248 - accuracy: 0.0828\n",
      "Epoch 2/15\n",
      "45/45 [==============================] - 0s 550us/step - loss: 2.3172 - accuracy: 0.1023\n",
      "Epoch 3/15\n",
      "45/45 [==============================] - 0s 515us/step - loss: 2.3192 - accuracy: 0.0995\n",
      "Epoch 4/15\n",
      "45/45 [==============================] - 0s 571us/step - loss: 2.3186 - accuracy: 0.0884\n",
      "Epoch 5/15\n",
      "45/45 [==============================] - 0s 519us/step - loss: 2.3171 - accuracy: 0.1002\n",
      "Epoch 6/15\n",
      "45/45 [==============================] - 0s 549us/step - loss: 2.3173 - accuracy: 0.0884\n",
      "Epoch 7/15\n",
      "45/45 [==============================] - 0s 502us/step - loss: 2.3228 - accuracy: 0.0898\n",
      "Epoch 8/15\n",
      "45/45 [==============================] - 0s 543us/step - loss: 2.3173 - accuracy: 0.1016\n",
      "Epoch 9/15\n",
      "45/45 [==============================] - 0s 506us/step - loss: 2.3176 - accuracy: 0.0856\n",
      "Epoch 10/15\n",
      "45/45 [==============================] - 0s 548us/step - loss: 2.3128 - accuracy: 0.1009\n",
      "Epoch 11/15\n",
      "45/45 [==============================] - 0s 524us/step - loss: 2.3238 - accuracy: 0.0995\n",
      "Epoch 12/15\n",
      "45/45 [==============================] - 0s 572us/step - loss: 2.3176 - accuracy: 0.0898\n",
      "Epoch 13/15\n",
      "45/45 [==============================] - 0s 507us/step - loss: 2.3165 - accuracy: 0.0912\n",
      "Epoch 14/15\n",
      "45/45 [==============================] - 0s 571us/step - loss: 2.3153 - accuracy: 0.0967\n",
      "Epoch 15/15\n",
      "45/45 [==============================] - 0s 497us/step - loss: 2.3214 - accuracy: 0.0967\n"
     ]
    },
    {
     "data": {
      "image/png": "[encoded data removed]",
      "text/plain": [
       "<Figure size 1200x400 with 1 Axes>"
      ]
     },
     "metadata": {},
     "output_type": "display_data"
    }
   ],
   "source": [
    "model = Sequential()\n",
    "model.add(Dense(hidden_dim, input_dim=input_dim, activation=\"tanh\",\n",
    "                kernel_initializer=Zeros()))\n",
    "model.add(Dense(hidden_dim, activation=\"tanh\",\n",
    "                kernel_initializer=Zeros()))\n",
    "model.add(Dense(output_dim, activation=\"softmax\",\n",
    "                kernel_initializer=Zeros()))\n",
    "# Compile model\n",
    "model.compile(optimizer=optimizers.Adam(learning_rate=0.1),\n",
    "            loss='categorical_crossentropy', metrics=['accuracy'])\n",
    "# Fit model\n",
    "history = model.fit(X_train, y_train, epochs=15, batch_size=32)\n",
    "# Plot loss\n",
    "plt.figure(figsize=(12, 4))\n",
    "plt.plot(history.history['loss'], label=\"Truncated Normal init\")\n",
    "plt.title(f'Stddev on Initialization = {x}')\n",
    "plt.legend();"
   ]
  }
 ],
 "metadata": {
  "file_extension": ".py",
  "kernelspec": {
   "display_name": "Python 3 (ipykernel)",
   "language": "python",
   "name": "python3"
  },
  "language_info": {
   "codemirror_mode": {
    "name": "ipython",
    "version": 3
   },
   "file_extension": ".py",
   "mimetype": "text/x-python",
   "name": "python",
   "nbconvert_exporter": "python",
   "pygments_lexer": "ipython3",
   "version": "3.9.18"
  },
  "mimetype": "text/x-python",
  "name": "python",
  "npconvert_exporter": "python",
  "pygments_lexer": "ipython3",
  "toc": {
   "base_numbering": 1,
   "nav_menu": {},
   "number_sections": true,
   "sideBar": true,
   "skip_h1_title": false,
   "title_cell": "Table of Contents",
   "title_sidebar": "Contents",
   "toc_cell": false,
   "toc_position": {},
   "toc_section_display": true,
   "toc_window_display": false
  },
  "version": 3
 },
 "nbformat": 4,
 "nbformat_minor": 4
}
