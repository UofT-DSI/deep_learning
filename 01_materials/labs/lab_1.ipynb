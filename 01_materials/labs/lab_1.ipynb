{
 "cells": [
  {
   "cell_type": "markdown",
   "metadata": {},
   "source": [
    "# Training Neural Networks with Keras\n",
    "\n",
    "Welcome to the first practical session of the course! In this session, we will learn how to train neural networks with Keras. We will start with a simple example of a feedforward neural network for classification and then we will study the impact of the initialization of the weights on the convergence of the training algorithm.\n",
    "\n",
    "Keras is a high-level neural network API, built on top of TensorFlow 2.0. It provides a user-friendly interface to build, train and deploy deep learning models. Keras is designed to be modular, fast and easy to use.\n",
    "\n",
    "Throughout this course, we will focus on using Keras and TensorFlow for building and training neural networks. However, there are other popular deep learning frameworks such as PyTorch, MXNet, CNTK, etc. that you can also use to build and train neural networks.\n",
    "\n",
    "In order to use our code on Google Colab, we will need to ensure that any required packages are installed. We will use the following packages in this session:\n",
    "\n",
    "- `tensorflow`: an open-source library for numerical computation and large-scale machine learning.\n",
    "- `matplotlib`: a plotting library for the Python programming language and its numerical mathematics extension NumPy.\n",
    "- `numpy`: a library for scientific computing in Python.\n",
    "- `scikit-learn`: a machine learning library for the Python programming language.\n",
    "- `pandas`: a library providing high-performance, easy-to-use data structures and data analysis tools for the Python programming language.\n",
    "\n",
    "The following cell will check if the packages are installed, and if not, it will install them. Students familiar with how pip works might note that it already checks this before installing! The reason for this code (which will also appear in subsequent notebooks) is to speed up execution if you re-run the entire notebook - it will skip the installation step if the packages are already installed."
   ]
  },
  {
   "cell_type": "markdown",
   "metadata": {
    "collapsed": false
   },
   "source": [
    "With the packages installed, we can now get started on the practical session!\n",
    "\n",
    "Today, we will be working with the famous MNIST dataset. MNIST (Modified National Institute of Standards and Technology) is a database of low resolution images of handwritten digits. The history here is interesting - the dataset was originally created in the 1980s, when researchers from the aforementioned institute collected samples from American Census Bureau employees and high school students. The dataset was then modified in the 1990s (hence the M in MNIST), and has since become a popular benchmark for machine learning algorithms. \n",
    "\n",
    "The dataset contains images, each of which is a 28x28 grayscale image of a handwritten digit. The goal is to classify each image into one of the 10 possible classes (0-9).\n",
    "\n",
    "![MNIST](https://upload.wikimedia.org/wikipedia/commons/2/27/MnistExamples.png)\n",
    "\n",
    "The Scikit-Learn library provides a convenient function to download and load the MNIST dataset. The following cell will download the dataset. Then we will take a look at the shape of the data."
   ]
  },
  {
   "cell_type": "code",
   "execution_count": 213,
   "metadata": {},
   "outputs": [],
   "source": [
    "import matplotlib.pyplot as plt\n",
    "import numpy as np\n",
    "\n",
    "from sklearn.datasets import load_digits\n",
    "\n",
    "digits = load_digits()"
   ]
  },
  {
   "cell_type": "code",
   "execution_count": 214,
   "metadata": {},
   "outputs": [
    {
     "data": {
      "text/plain": [
       "(1797, 8, 8)"
      ]
     },
     "execution_count": 214,
     "metadata": {},
     "output_type": "execute_result"
    }
   ],
   "source": [
    "digits.images.shape"
   ]
  },
  {
   "cell_type": "markdown",
   "metadata": {
    "collapsed": false
   },
   "source": [
    "This means that we have 1797 images, each of which is a 8x8 image. For basic image processing, we will need to flatten the images into a 1D array. In this case, Scikit-Learn has already provided the data in this format too:"
   ]
  },
  {
   "cell_type": "code",
   "execution_count": 215,
   "metadata": {},
   "outputs": [
    {
     "data": {
      "text/plain": [
       "(1797, 64)"
      ]
     },
     "execution_count": 215,
     "metadata": {},
     "output_type": "execute_result"
    }
   ],
   "source": [
    "digits.data.shape"
   ]
  },
  {
   "cell_type": "markdown",
   "metadata": {
    "collapsed": false
   },
   "source": [
    "For each image, we also have the corresponding label (or target, or class) in `digits.target`:"
   ]
  },
  {
   "cell_type": "code",
   "execution_count": 216,
   "metadata": {},
   "outputs": [
    {
     "data": {
      "text/plain": [
       "(1797,)"
      ]
     },
     "execution_count": 216,
     "metadata": {},
     "output_type": "execute_result"
    }
   ],
   "source": [
    "digits.target.shape"
   ]
  },
  {
   "cell_type": "markdown",
   "metadata": {
    "collapsed": false
   },
   "source": [
    "We can take a look at some random images from the dataset. The following cell will select 9 random images and plot them in a 3x3 grid (meaning that you can rerun the cell to see different images)."
   ]
  },
  {
   "cell_type": "code",
   "execution_count": 217,
   "metadata": {},
   "outputs": [
    {
     "data": {
      "image/png": "[encoded data removed]",
      "text/plain": [
       "<Figure size 600x600 with 9 Axes>"
      ]
     },
     "metadata": {},
     "output_type": "display_data"
    }
   ],
   "source": [
    "# Selecting 9 random indices\n",
    "random_indices = np.random.choice(len(digits.images), 9, replace=False)\n",
    "\n",
    "# Creating a 3x3 grid plot\n",
    "fig, axes = plt.subplots(3, 3, figsize=(6, 6))\n",
    "\n",
    "for i, ax in enumerate(axes.flat):\n",
    "    ax.imshow(digits.images[random_indices[i]], cmap=plt.cm.gray_r, interpolation='nearest')\n",
    "    ax.set_title(f\"Label: {digits.target[random_indices[i]]}\")\n",
    "\n",
    "    # Removing axis labels\n",
    "    ax.set_xticks([])\n",
    "    ax.set_yticks([])\n",
    "\n",
    "plt.show()"
   ]
  },
  {
   "cell_type": "markdown",
   "metadata": {
    "collapsed": false
   },
   "source": [
    "As you can see, these images are very low resolution. This is because they were originally scanned from paper forms, and then scaled down to 8x8 pixels. This is a common problem in machine learning - the quality of the data is often a limiting factor in the performance of the model. In this case, the low resolution of the images makes it difficult to distinguish between some digits, even for humans. For example, the following images are all labelled as 9, but they look very different:"
   ]
  },
  {
   "cell_type": "code",
   "execution_count": 218,
   "metadata": {
    "collapsed": false
   },
   "outputs": [
    {
     "data": {
      "image/png": "[encoded data removed]",
      "text/plain": [
       "<Figure size 600x600 with 9 Axes>"
      ]
     },
     "metadata": {},
     "output_type": "display_data"
    }
   ],
   "source": [
    "# Selecting 9 random indices of images labelled as 9\n",
    "random_indices = np.random.choice(np.where(digits.target == 9)[0], 9, replace=False)\n",
    "\n",
    "# Creating a 3x3 grid plot\n",
    "fig, axes = plt.subplots(3, 3, figsize=(6, 6))\n",
    "\n",
    "for i, ax in enumerate(axes.flat):\n",
    "    ax.imshow(digits.images[random_indices[i]], cmap=plt.cm.gray_r, interpolation='nearest')\n",
    "    ax.set_title(f\"Label: {digits.target[random_indices[i]]}\")\n",
    "\n",
    "    # Removing axis labels\n",
    "    ax.set_xticks([])\n",
    "    ax.set_yticks([])\n",
    "    \n",
    "plt.show()"
   ]
  },
  {
   "cell_type": "markdown",
   "metadata": {
    "collapsed": false
   },
   "source": [
    "While we are plotting the samples as images, remember that our model is only going to see a 1D array of numbers. "
   ]
  },
  {
   "cell_type": "markdown",
   "metadata": {},
   "source": [
    "## Train / Test Split\n",
    "\n",
    "In order to understand how well our model performs on _new_ data, we need to split our dataset into a training set and a test set. The training set will be used to train the model, and the test set will be used to evaluate the performance of the model.\n",
    "\n",
    "Let's keep some held-out data to be able to measure the generalization performance of our model. "
   ]
  },
  {
   "cell_type": "code",
   "execution_count": 219,
   "metadata": {},
   "outputs": [],
   "source": [
    "from sklearn.model_selection import train_test_split\n",
    "\n",
    "\n",
    "X_train, X_test, y_train, y_test = train_test_split(\n",
    "    digits.data, \n",
    "    digits.target,\n",
    "    test_size=0.2, # 20% of the data is used for testing\n",
    "    random_state=42 # Providing a value here means getting the same \"random\" split every time\n",
    ")"
   ]
  },
  {
   "cell_type": "markdown",
   "metadata": {
    "collapsed": false
   },
   "source": [
    "Let's confirm that the data has been split correctly:"
   ]
  },
  {
   "cell_type": "code",
   "execution_count": 220,
   "metadata": {
    "collapsed": false
   },
   "outputs": [
    {
     "name": "stdout",
     "output_type": "stream",
     "text": [
      "X_train shape: (1437, 64)\n",
      "y_train shape: (1437,)\n",
      "X_test shape: (360, 64)\n",
      "y_test shape: (360,)\n"
     ]
    }
   ],
   "source": [
    "print(f'X_train shape: {X_train.shape}')\n",
    "print(f'y_train shape: {y_train.shape}')\n",
    "print(f'X_test shape: {X_test.shape}')\n",
    "print(f'y_test shape: {y_test.shape}')"
   ]
  },
  {
   "cell_type": "markdown",
   "metadata": {
    "collapsed": false
   },
   "source": [
    "This is what we expected to see. It's always good to check as you go, to make sure that you haven't made a mistake somewhere - this is something that working in a notebook like this makes it easy to do."
   ]
  },
  {
   "cell_type": "markdown",
   "metadata": {},
   "source": [
    "## Preprocessing of the Target Data\n",
    "\n",
    "The labels that we have are integers between 0 and 9. However, we want to train a neural network to classify the images into one of 10 classes. It can be a little counter-intuitive because we are dealing with numbers, but our classes are not ordinal.\n",
    "\n",
    "What do we mean by that? Let's imagine we were trying to predict the height of a building (separated into classes) from images. If a given building was actually 10m tall, and our model predicted 9m, we would consider that to be a better prediction than if it predicted 1m. This is because the classes are ordinal - there is meaning in the difference between the classes.\n",
    "\n",
    "In our case, even though we are dealing with numbers, the classes are not ordinal. If a given image is actually a 9, and our model predicts 8, we would consider that to be just as bad as if it predicted 1. This is because the classes are not ordered, and the difference between the classes is not meaningful.\n",
    "\n",
    "Because of this, we need to convert our labels from an integer value into a one-hot encoded vector. This means that each label will be represented as a vector of length 10, with a 1 in the position corresponding to the class, and 0s everywhere else. For example, the label 9 would be represented as `[0, 0, 0, 0, 0, 0, 0, 0, 0, 1]`. This is a common way of representing categorical data in machine learning. By doing this, we ensure that our model is taught the correct relationship between the classes."
   ]
  },
  {
   "cell_type": "code",
   "execution_count": 221,
   "metadata": {},
   "outputs": [
    {
     "name": "stdout",
     "output_type": "stream",
     "text": [
      "Before one-hot encoding: 6\n",
      "After one-hot encoding: [0. 0. 0. 0. 0. 0. 1. 0. 0. 0.]\n"
     ]
    }
   ],
   "source": [
    "from tensorflow.keras.utils import to_categorical\n",
    "\n",
    "print(f'Before one-hot encoding: {y_train[0]}')\n",
    "y_train = to_categorical(y_train, num_classes=10)\n",
    "y_test = to_categorical(y_test, num_classes=10)\n",
    "print(f'After one-hot encoding: {y_train[0]}')"
   ]
  },
  {
   "cell_type": "markdown",
   "metadata": {},
   "source": [
    "## Feed Forward Neural Networks with Keras\n",
    "\n",
    "Now that we have prepared our data, it's time to build a simple neural network! In this section, we will use the Keras API to build a simple feed forward neural network. We will then train the model on the MNIST dataset, and evaluate its performance on the test set.\n",
    "\n",
    "In most modern deep learning frameworks, the process of building a model can be broken down into a few steps:\n",
    "\n",
    "- Define the model architecture: this is where we define the layers of the model, and how they are connected to each other.\n",
    "- Compile the model: this is where we define the loss function, the optimizer, and the metrics that we want to use to evaluate the model.\n",
    "- Train the model: this is where we train the model on the training data.\n",
    "\n",
    "Let's start with defining the model architecture. There are two ways to do this in Keras - the Sequential API and the Functional API. The Sequential API is the simplest way to build a model, and is suitable for most use cases. The Functional API is more flexible, and allows you to build more complex models. We will start with the Sequential API, and then we will look at the Functional API later in the course.\n",
    "\n",
    "Our simple neural network will be \"fully-connected\". This means that each neuron in a given layer is connected to every neuron in the next layer. This is also known as a \"dense\" layer. We will use the `Dense` class from Keras to define our layers."
   ]
  },
  {
   "cell_type": "code",
   "execution_count": 222,
   "metadata": {
    "collapsed": false
   },
   "outputs": [
    {
     "name": "stdout",
     "output_type": "stream",
     "text": [
      "Model: \"sequential_45\"\n",
      "_________________________________________________________________\n",
      " Layer (type)                Output Shape              Param #   \n",
      "=================================================================\n",
      " dense_135 (Dense)           (None, 64)                4160      \n",
      "                                                                 \n",
      " dense_136 (Dense)           (None, 64)                4160      \n",
      "                                                                 \n",
      " dense_137 (Dense)           (None, 10)                650       \n",
      "                                                                 \n",
      "=================================================================\n",
      "Total params: 8,970\n",
      "Trainable params: 8,970\n",
      "Non-trainable params: 0\n",
      "_________________________________________________________________\n"
     ]
    }
   ],
   "source": [
    "from tensorflow.keras.models import Sequential\n",
    "from tensorflow.keras.layers import Dense\n",
    "\n",
    "model = Sequential()\n",
    "\n",
    "# Input layer\n",
    "model.add(Dense(64, activation='relu', input_shape=(64,))) # 64 neurons, ReLU activation, input shape of 64\n",
    "\n",
    "# Hidden layer\n",
    "model.add(Dense(64, activation='relu')) # 64 neurons, ReLU activation\n",
    "\n",
    "# Output layer\n",
    "model.add(Dense(10, activation='softmax')) # 10 neurons, softmax activation\n",
    "\n",
    "model.summary()"
   ]
  },
  {
   "cell_type": "markdown",
   "metadata": {
    "collapsed": false
   },
   "source": [
    "Congratulations! You have just built your first neural network with Keras. As we can confirm from the `model.summary()` output, our model has 3 layers. The first layer has 64 neurons, the second layer has 64 neurons, and the output layer has 10 neurons. The output layer uses the softmax activation function, which is commonly used for multi-class classification problems. The other layers use the ReLU activation function, which is commonly used for hidden layers in neural networks.\n",
    "\n",
    "Next, we need to compile the model. This is where we define the loss function, the optimizer, and the metrics that we want to use to evaluate the model. We will use the `compile` method of the model to do this."
   ]
  },
  {
   "cell_type": "code",
   "execution_count": 223,
   "metadata": {
    "collapsed": false
   },
   "outputs": [],
   "source": [
    "model.compile(\n",
    "    loss='categorical_crossentropy', # Loss function\n",
    "    optimizer='sgd', # Optimizer\n",
    "    metrics=['accuracy'] # Metrics to evaluate the model\n",
    ")"
   ]
  },
  {
   "cell_type": "markdown",
   "metadata": {
    "collapsed": false
   },
   "source": [
    "Because we are predicting which class a sample belongs to, we will use the `categorical_crossentropy` function. This loss function is commonly used for multi-class classification problems. \n",
    "\n",
    "For our optimizer, we are using the standard stochastic gradient descent (SGD) algorithm. This is a simple optimizer that works well for many problems. We will look at more advanced optimizers later in the course.\n",
    "\n",
    "Finally, we are using the `accuracy` metric to evaluate the model. This is a common metric for classification problems, and it is simply the fraction of samples that are correctly classified. This is an easier metric for us to understand, but it's not quite as useful for actually training the model (for example, it doesn't tell us how \"confident\" the model is in its predictions).\n",
    "\n",
    "Now that we have (a) defined the model architecture and (b) compiled the model, we are ready to train the model. We will use the `fit` method of the model to do this."
   ]
  },
  {
   "cell_type": "code",
   "execution_count": 224,
   "metadata": {
    "collapsed": false
   },
   "outputs": [
    {
     "name": "stdout",
     "output_type": "stream",
     "text": [
      "Epoch 1/5\n",
      "36/36 [==============================] - 1s 11ms/step - loss: 1.8030 - accuracy: 0.5892 - val_loss: 0.5629 - val_accuracy: 0.8160\n",
      "Epoch 2/5\n",
      "36/36 [==============================] - 0s 2ms/step - loss: 0.4097 - accuracy: 0.8799 - val_loss: 0.3399 - val_accuracy: 0.9097\n",
      "Epoch 3/5\n",
      "36/36 [==============================] - 0s 2ms/step - loss: 0.2689 - accuracy: 0.9225 - val_loss: 0.2688 - val_accuracy: 0.9271\n",
      "Epoch 4/5\n",
      "36/36 [==============================] - 0s 2ms/step - loss: 0.1968 - accuracy: 0.9469 - val_loss: 0.2289 - val_accuracy: 0.9271\n",
      "Epoch 5/5\n",
      "36/36 [==============================] - 0s 2ms/step - loss: 0.1638 - accuracy: 0.9521 - val_loss: 0.1935 - val_accuracy: 0.9410\n"
     ]
    },
    {
     "data": {
      "text/plain": [
       "<keras.callbacks.History at 0x22aaa324130>"
      ]
     },
     "execution_count": 224,
     "metadata": {},
     "output_type": "execute_result"
    }
   ],
   "source": [
    "model.fit(\n",
    "    X_train, # Training data\n",
    "    y_train, # Training labels\n",
    "    epochs=5, # Number of epochs\n",
    "    batch_size=32, # Number of samples per batch\n",
    "    validation_split=0.2 # Use 20% of the data for validation\n",
    ")"
   ]
  },
  {
   "cell_type": "markdown",
   "metadata": {
    "collapsed": false
   },
   "source": [
    "We have now trained our model! We can see that the model has been trained for 5 epochs, and the loss and accuracy have been printed for each epoch. We can also see that the model has been evaluated on the validation data at the end of each epoch. This is useful for us to see how the model is performing on data that it hasn't seen during training.\n",
    "\n",
    "Once the model is trained, it's time to evaluate the model on the test set. We can use the `evaluate` method of the model to do this. If you were building a model for a real-world application, this is the very last thing you would do, and the result here would be the figure you'd report in your paper or presentation."
   ]
  },
  {
   "cell_type": "code",
   "execution_count": 225,
   "metadata": {
    "collapsed": false
   },
   "outputs": [
    {
     "name": "stdout",
     "output_type": "stream",
     "text": [
      "12/12 [==============================] - 0s 916us/step - loss: 0.1846 - accuracy: 0.9361\n",
      "Loss:     0.18\n",
      "Accuracy: 93.61%\n"
     ]
    }
   ],
   "source": [
    "loss, accuracy = model.evaluate(X_test, y_test)\n",
    "\n",
    "print(f'Loss:     {loss:.2f}')\n",
    "print(f'Accuracy: {accuracy*100:.2f}%')"
   ]
  },
  {
   "cell_type": "markdown",
   "metadata": {
    "collapsed": false
   },
   "source": [
    "Hopefully you have achieved an accuracy of around 95%. This is pretty good, but we can do better! In the next section, we will look at how we can improve the performance of our model by using a more advanced optimizer. But before we get there, let's do one other thing - let's look at the predictions that our model is making on the test set. When you are building a model, it's often useful to have a look at some of the examples your model is getting wrong. Sometimes this can reveal problems with the data, or it can give you ideas for how to improve your model."
   ]
  },
  {
   "cell_type": "code",
   "execution_count": 226,
   "metadata": {
    "collapsed": false
   },
   "outputs": [
    {
     "name": "stdout",
     "output_type": "stream",
     "text": [
      "12/12 [==============================] - 0s 1ms/step\n"
     ]
    },
    {
     "data": {
      "image/png": "[encoded data removed]",
      "text/plain": [
       "<Figure size 600x600 with 9 Axes>"
      ]
     },
     "metadata": {},
     "output_type": "display_data"
    }
   ],
   "source": [
    "# Get the predictions for the test data\n",
    "predictions = model.predict(X_test)\n",
    "\n",
    "# Get the index of the largest probability (i.e. the predicted class)\n",
    "predicted_classes = np.argmax(predictions, axis=1)\n",
    "true_classes = np.argmax(y_test, axis=1)\n",
    "misclassified_indices = np.where(predicted_classes != true_classes)[0]\n",
    "\n",
    "# Get the misclassified samples themselves\n",
    "misclassified_samples = X_test[misclassified_indices]\n",
    "misclassified_labels = np.argmax(y_test[misclassified_indices], axis=1)\n",
    "\n",
    "# Pick 9 random misclassified samples\n",
    "random_indices = np.random.choice(len(misclassified_indices), 9, replace=False)\n",
    "\n",
    "fig, axes = plt.subplots(3, 3, figsize=(6, 6))\n",
    "for i, ax in enumerate(axes.flat):\n",
    "    ax.imshow(misclassified_samples[random_indices[i]].reshape(8, 8), cmap=plt.cm.gray_r, interpolation='nearest')\n",
    "    ax.set_title(f\"Pred: {predicted_classes[misclassified_indices[random_indices[i]]]}, Real: {misclassified_labels[random_indices[i]]}\")\n",
    "\n",
    "    # Removing axis labels\n",
    "    ax.set_xticks([])\n",
    "    ax.set_yticks([])\n",
    "    \n",
    "plt.show()"
   ]
  },
  {
   "cell_type": "markdown",
   "metadata": {
    "collapsed": false
   },
   "source": [
    "What do you think? Would you have made the same mistakes as the model? Determining whether the mistakes are \"understandable\" is a rough way of seeing if you could improve the model further, or if this is the best you can do with the data you have."
   ]
  },
  {
   "cell_type": "markdown",
   "metadata": {},
   "source": [
    "### b) Exercises: Impact of the Optimizer\n",
    "\n",
    "In this section, you will play around with the optimizer and see how it affects the performance of the model. We will start with the standard SGD optimizer, and then we will look at more advanced optimizers.\n",
    "\n",
    "1. Try decreasing the learning rate of the SGD optimizer by a factor of 10, or 100. What do you observe?\n",
    "2. Try increasing the learning rate of the SGD optimizer. What happens?\n",
    "3. The SGD optimizer has a momentum parameter. In a nutshell, this parameter controls how much the gradient from the previous step affects the current step. Try enabling momentum in the SGD optimizer with a value of 0.9. What happens?\n",
    "  \n",
    "**Notes**: \n",
    "\n",
    "The keras API documentation is available at:\n",
    "\n",
    "https://www.tensorflow.org/api_docs/python/tf/keras\n",
    "\n",
    "It is also possible to learn more about the parameters of a class by using the question mark: type and evaluate:\n",
    "\n",
    "```python\n",
    "optimizers.SGD?\n",
    "```\n",
    "\n",
    "in a jupyter notebook cell.\n",
    "\n",
    "It is also possible to type the beginning of a function call / constructor and type \"shift-tab\" after the opening paren:\n",
    "\n",
    "```python\n",
    "optimizers.SGD(<shift-tab>\n",
    "```"
   ]
  },
  {
   "cell_type": "code",
   "execution_count": null,
   "metadata": {},
   "outputs": [
    {
     "name": "stdout",
     "output_type": "stream",
     "text": [
      "Model: \"sequential_62\"\n",
      "_________________________________________________________________\n",
      " Layer (type)                Output Shape              Param #   \n",
      "=================================================================\n",
      " dense_186 (Dense)           (None, 64)                4160      \n",
      "                                                                 \n",
      " dense_187 (Dense)           (None, 64)                4160      \n",
      "                                                                 \n",
      " dense_188 (Dense)           (None, 10)                650       \n",
      "                                                                 \n",
      "=================================================================\n",
      "Total params: 8,970\n",
      "Trainable params: 8,970\n",
      "Non-trainable params: 0\n",
      "_________________________________________________________________\n",
      "Epoch 1/30\n",
      "36/36 [==============================] - 0s 5ms/step - loss: 3.6849 - accuracy: 0.1610 - val_loss: 2.3884 - val_accuracy: 0.2847\n",
      "Epoch 2/30\n",
      "36/36 [==============================] - 0s 2ms/step - loss: 2.1833 - accuracy: 0.2933 - val_loss: 1.6768 - val_accuracy: 0.4410\n",
      "Epoch 3/30\n",
      "36/36 [==============================] - 0s 2ms/step - loss: 1.5917 - accuracy: 0.4447 - val_loss: 1.2857 - val_accuracy: 0.5729\n",
      "Epoch 4/30\n",
      "36/36 [==============================] - 0s 2ms/step - loss: 1.2400 - accuracy: 0.5814 - val_loss: 1.0477 - val_accuracy: 0.6597\n",
      "Epoch 5/30\n",
      "36/36 [==============================] - 0s 2ms/step - loss: 1.0147 - accuracy: 0.6701 - val_loss: 0.8859 - val_accuracy: 0.7049\n",
      "Epoch 6/30\n",
      "36/36 [==============================] - 0s 2ms/step - loss: 0.8609 - accuracy: 0.7372 - val_loss: 0.7736 - val_accuracy: 0.7604\n",
      "Epoch 7/30\n",
      "36/36 [==============================] - 0s 2ms/step - loss: 0.7497 - accuracy: 0.7755 - val_loss: 0.6930 - val_accuracy: 0.7917\n",
      "Epoch 8/30\n",
      "36/36 [==============================] - 0s 2ms/step - loss: 0.6665 - accuracy: 0.8111 - val_loss: 0.6272 - val_accuracy: 0.8125\n",
      "Epoch 9/30\n",
      "36/36 [==============================] - 0s 2ms/step - loss: 0.6004 - accuracy: 0.8372 - val_loss: 0.5761 - val_accuracy: 0.8472\n",
      "Epoch 10/30\n",
      "36/36 [==============================] - 0s 2ms/step - loss: 0.5476 - accuracy: 0.8503 - val_loss: 0.5378 - val_accuracy: 0.8438\n",
      "Epoch 11/30\n",
      "36/36 [==============================] - 0s 2ms/step - loss: 0.5028 - accuracy: 0.8642 - val_loss: 0.5062 - val_accuracy: 0.8542\n",
      "Epoch 12/30\n",
      "36/36 [==============================] - 0s 2ms/step - loss: 0.4665 - accuracy: 0.8755 - val_loss: 0.4778 - val_accuracy: 0.8646\n",
      "Epoch 13/30\n",
      "36/36 [==============================] - 0s 2ms/step - loss: 0.4344 - accuracy: 0.8869 - val_loss: 0.4567 - val_accuracy: 0.8681\n",
      "Epoch 14/30\n",
      "36/36 [==============================] - 0s 2ms/step - loss: 0.4074 - accuracy: 0.8956 - val_loss: 0.4369 - val_accuracy: 0.8889\n",
      "Epoch 15/30\n",
      "36/36 [==============================] - 0s 2ms/step - loss: 0.3835 - accuracy: 0.9008 - val_loss: 0.4195 - val_accuracy: 0.8750\n",
      "Epoch 16/30\n",
      "36/36 [==============================] - 0s 2ms/step - loss: 0.3642 - accuracy: 0.9104 - val_loss: 0.4037 - val_accuracy: 0.8854\n",
      "Epoch 17/30\n",
      "36/36 [==============================] - 0s 2ms/step - loss: 0.3433 - accuracy: 0.9095 - val_loss: 0.3916 - val_accuracy: 0.8785\n",
      "Epoch 18/30\n",
      "36/36 [==============================] - 0s 2ms/step - loss: 0.3275 - accuracy: 0.9156 - val_loss: 0.3796 - val_accuracy: 0.8924\n",
      "Epoch 19/30\n",
      "36/36 [==============================] - 0s 2ms/step - loss: 0.3126 - accuracy: 0.9199 - val_loss: 0.3668 - val_accuracy: 0.8993\n",
      "Epoch 20/30\n",
      "36/36 [==============================] - 0s 2ms/step - loss: 0.2981 - accuracy: 0.9243 - val_loss: 0.3567 - val_accuracy: 0.8889\n",
      "Epoch 21/30\n",
      "36/36 [==============================] - 0s 2ms/step - loss: 0.2860 - accuracy: 0.9278 - val_loss: 0.3477 - val_accuracy: 0.8993\n",
      "Epoch 22/30\n",
      "36/36 [==============================] - 0s 2ms/step - loss: 0.2740 - accuracy: 0.9295 - val_loss: 0.3396 - val_accuracy: 0.8993\n",
      "Epoch 23/30\n",
      "36/36 [==============================] - 0s 2ms/step - loss: 0.2647 - accuracy: 0.9347 - val_loss: 0.3298 - val_accuracy: 0.8924\n",
      "Epoch 24/30\n",
      "36/36 [==============================] - 0s 2ms/step - loss: 0.2544 - accuracy: 0.9347 - val_loss: 0.3257 - val_accuracy: 0.9028\n",
      "Epoch 25/30\n",
      "36/36 [==============================] - 0s 2ms/step - loss: 0.2453 - accuracy: 0.9382 - val_loss: 0.3190 - val_accuracy: 0.9028\n",
      "Epoch 26/30\n",
      "36/36 [==============================] - 0s 2ms/step - loss: 0.2370 - accuracy: 0.9399 - val_loss: 0.3138 - val_accuracy: 0.8958\n",
      "Epoch 27/30\n",
      "36/36 [==============================] - 0s 2ms/step - loss: 0.2297 - accuracy: 0.9408 - val_loss: 0.3055 - val_accuracy: 0.8958\n",
      "Epoch 28/30\n",
      "36/36 [==============================] - 0s 2ms/step - loss: 0.2226 - accuracy: 0.9460 - val_loss: 0.3000 - val_accuracy: 0.9028\n",
      "Epoch 29/30\n",
      "36/36 [==============================] - 0s 2ms/step - loss: 0.2154 - accuracy: 0.9469 - val_loss: 0.2967 - val_accuracy: 0.8958\n",
      "Epoch 30/30\n",
      "36/36 [==============================] - 0s 2ms/step - loss: 0.2096 - accuracy: 0.9504 - val_loss: 0.2918 - val_accuracy: 0.9028\n"
     ]
    }
   ],
   "source": [
    "# 1. Try decreasing the learning rate of the SGD optimizer by a factor of 10, or 100. What do you observe?\n",
    "# Slower convergence and in smaller change values and seems to need more epochs to get a better results.\n",
    "# 2. Try increasing the learning rate of the SGD optimizer. What happens?\n",
    "# Faster convergence, but seems to kind of overshoot resulting in bad results.\n",
    "# 3. The SGD optimizer has a momentum parameter. In a nutshell, this parameter controls how much the gradient from the previous step affects the current step. Try enabling momentum in the SGD optimizer with a value of 0.9. What happens?\n",
    "# Faster, smoother convergence\n",
    "\n",
    "from tensorflow.keras import optimizers\n",
    "from tensorflow.keras.models import Sequential\n",
    "from tensorflow.keras.layers import Dense\n",
    "\n",
    "model = Sequential()\n",
    "\n",
    "# Input layer\n",
    "model.add(Dense(64, activation='relu', input_shape=(64,))) # 64 neurons, ReLU activation, input shape of 64\n",
    "\n",
    "# Hidden layer\n",
    "model.add(Dense(64, activation='relu')) # 64 neurons, ReLU activation\n",
    "\n",
    "# Output layer\n",
    "model.add(Dense(10, activation='softmax')) # 10 neurons, softmax activation\n",
    "\n",
    "model.summary()\n",
    "\n",
    "# 1. Try decreasing the learning rate of the SGD optimizer by a factor of 10, or 100. What do you observe?\n",
    "\n",
    "model.compile(\n",
    "    loss='categorical_crossentropy', # Loss function\n",
    "    optimizer=optimizers.SGD(learning_rate=0.001), # Optimizer\n",
    "    metrics=['accuracy'] # Metrics to evaluate the model\n",
    ")\n",
    "\n",
    "# 2. Try increasing the learning rate of the SGD optimizer. What happens?\n",
    "# model.compile(\n",
    "#     loss='categorical_crossentropy', # Loss function\n",
    "#     optimizer=optimizers.SGD(learning_rate=100.0), # Optimizer\n",
    "#     metrics=['accuracy'] # Metrics to evaluate the model\n",
    "# )\n",
    "\n",
    "# 3. The SGD optimizer has a momentum parameter. In a nutshell, this parameter controls how much the gradient from the previous step affects the current step. Try enabling momentum in the SGD optimizer with a value of 0.9. What happens?\n",
    "# model.compile(\n",
    "#     loss='categorical_crossentropy', # Loss function\n",
    "#     optimizer=optimizers.SGD(learning_rate=0.01,momentum=0.9), # Optimizer\n",
    "#     metrics=['accuracy'] # Metrics to evaluate the model\n",
    "# )\n",
    "\n",
    "history = model.fit(\n",
    "    X_train, # Training data\n",
    "    y_train, # Training labels\n",
    "    epochs=30, # Number of epochs\n",
    "    batch_size=32, # Number of samples per batch\n",
    "    validation_split=0.2 # Use 20% of the data for validation\n",
    ")"
   ]
  },
  {
   "cell_type": "markdown",
   "metadata": {},
   "source": [
    "Next, let's try a more advanced optimizer. Adam is likely the most popular optimizer for deep learning. It is an adaptive learning rate optimizer, which means that it automatically adjusts the learning rate based on how the training is going. This can be very useful, as it means that we don't need to manually tune the learning rate. Let's see how it performs on our model.\n",
    "\n",
    "\n",
    "1. Replace the SGD optimizer by the Adam optimizer from keras and run it\n",
    "  with the default parameters.\n",
    "\n",
    "2. Add another hidden layer with ReLU activation and 64 neurons. Does it improve the model performance?\n"
   ]
  },
  {
   "cell_type": "code",
   "execution_count": null,
   "metadata": {},
   "outputs": [
    {
     "name": "stdout",
     "output_type": "stream",
     "text": [
      "Model: \"sequential_78\"\n",
      "_________________________________________________________________\n",
      " Layer (type)                Output Shape              Param #   \n",
      "=================================================================\n",
      " dense_237 (Dense)           (None, 64)                4160      \n",
      "                                                                 \n",
      " dense_238 (Dense)           (None, 64)                4160      \n",
      "                                                                 \n",
      " dense_239 (Dense)           (None, 64)                4160      \n",
      "                                                                 \n",
      " dense_240 (Dense)           (None, 10)                650       \n",
      "                                                                 \n",
      "=================================================================\n",
      "Total params: 13,130\n",
      "Trainable params: 13,130\n",
      "Non-trainable params: 0\n",
      "_________________________________________________________________\n",
      "Epoch 1/15\n",
      "36/36 [==============================] - 1s 7ms/step - loss: 2.1318 - accuracy: 0.4587 - val_loss: 0.8473 - val_accuracy: 0.7500\n",
      "Epoch 2/15\n",
      "36/36 [==============================] - 0s 2ms/step - loss: 0.5451 - accuracy: 0.8399 - val_loss: 0.4276 - val_accuracy: 0.8646\n",
      "Epoch 3/15\n",
      "36/36 [==============================] - 0s 2ms/step - loss: 0.2959 - accuracy: 0.9173 - val_loss: 0.3339 - val_accuracy: 0.8924\n",
      "Epoch 4/15\n",
      "36/36 [==============================] - 0s 2ms/step - loss: 0.1918 - accuracy: 0.9408 - val_loss: 0.2708 - val_accuracy: 0.9201\n",
      "Epoch 5/15\n",
      "36/36 [==============================] - 0s 2ms/step - loss: 0.1476 - accuracy: 0.9565 - val_loss: 0.2215 - val_accuracy: 0.9479\n",
      "Epoch 6/15\n",
      "36/36 [==============================] - 0s 2ms/step - loss: 0.1000 - accuracy: 0.9721 - val_loss: 0.2176 - val_accuracy: 0.9375\n",
      "Epoch 7/15\n",
      "36/36 [==============================] - 0s 2ms/step - loss: 0.0692 - accuracy: 0.9843 - val_loss: 0.1781 - val_accuracy: 0.9444\n",
      "Epoch 8/15\n",
      "36/36 [==============================] - 0s 2ms/step - loss: 0.0538 - accuracy: 0.9896 - val_loss: 0.1683 - val_accuracy: 0.9479\n",
      "Epoch 9/15\n",
      "36/36 [==============================] - 0s 2ms/step - loss: 0.0419 - accuracy: 0.9930 - val_loss: 0.1580 - val_accuracy: 0.9410\n",
      "Epoch 10/15\n",
      "36/36 [==============================] - 0s 2ms/step - loss: 0.0293 - accuracy: 0.9983 - val_loss: 0.1549 - val_accuracy: 0.9410\n",
      "Epoch 11/15\n",
      "36/36 [==============================] - 0s 2ms/step - loss: 0.0222 - accuracy: 0.9983 - val_loss: 0.1487 - val_accuracy: 0.9514\n",
      "Epoch 12/15\n",
      "36/36 [==============================] - 0s 2ms/step - loss: 0.0206 - accuracy: 0.9983 - val_loss: 0.1770 - val_accuracy: 0.9340\n",
      "Epoch 13/15\n",
      "36/36 [==============================] - 0s 2ms/step - loss: 0.0181 - accuracy: 0.9983 - val_loss: 0.1583 - val_accuracy: 0.9340\n",
      "Epoch 14/15\n",
      "36/36 [==============================] - 0s 2ms/step - loss: 0.0161 - accuracy: 0.9991 - val_loss: 0.1527 - val_accuracy: 0.9444\n",
      "Epoch 15/15\n",
      "36/36 [==============================] - 0s 2ms/step - loss: 0.0104 - accuracy: 1.0000 - val_loss: 0.1475 - val_accuracy: 0.9479\n"
     ]
    }
   ],
   "source": [
    "# 1. Replace the SGD optimizer by the Adam optimizer from keras and run it with the default parameters.\n",
    "# seems to have a better result than SGD\n",
    "# 2. Add another hidden layer with ReLU activation and 64 neurons. Does it improve the model performance?\n",
    "# seems to improve processing and allow it to reach good accuracy values faster, but also seems to reach a point where it just give the same accuracy values, which could be indications of overfitting\n",
    "\n",
    "from tensorflow.keras import optimizers\n",
    "from tensorflow.keras.models import Sequential\n",
    "from tensorflow.keras.layers import Dense\n",
    "\n",
    "model = Sequential()\n",
    "\n",
    "# Input layer\n",
    "model.add(Dense(64, activation='relu', input_shape=(64,))) # 64 neurons, ReLU activation, input shape of 64\n",
    "\n",
    "# Hidden layer\n",
    "model.add(Dense(64, activation='relu')) # 64 neurons, ReLU activation\n",
    "\n",
    "# 2. Add another hidden layer with ReLU activation and 64 neurons. Does it improve the model performance?\n",
    "model.add(Dense(64, activation='relu')) # 64 neurons, ReLU activation\n",
    "\n",
    "# Output layer\n",
    "model.add(Dense(10, activation='softmax')) # 10 neurons, softmax activation\n",
    "\n",
    "model.summary()\n",
    "\n",
    "# 1. Replace the SGD optimizer by the Adam optimizer from keras and run it with the default parameters.\n",
    "model.compile(\n",
    "    loss='categorical_crossentropy', # Loss function\n",
    "    optimizer=optimizers.Adam(), # Optimizer\n",
    "    metrics=['accuracy'] # Metrics to evaluate the model\n",
    ")\n",
    "\n",
    "history = model.fit(\n",
    "    X_train, # Training data\n",
    "    y_train, # Training labels\n",
    "    epochs=15, # Number of epochs\n",
    "    batch_size=32, # Number of samples per batch\n",
    "    validation_split=0.2 # Use 20% of the data for validation\n",
    ")"
   ]
  },
  {
   "cell_type": "markdown",
   "metadata": {},
   "source": [
    "### Exercises: Forward Pass and Generalization\n",
    "\n",
    "Let's look in more detail at how the model makes predictions on the test set. We will walk through each step of making predictions, examining exactly what's going on.\n",
    "\n",
    "To start, we will apply our model to the test set, and look at what we get as output:"
   ]
  },
  {
   "cell_type": "code",
   "execution_count": 231,
   "metadata": {},
   "outputs": [
    {
     "data": {
      "text/plain": [
       "<tf.Tensor: shape=(5, 10), dtype=float32, numpy=\n",
       "array([[1.2700534e-06, 1.2129561e-06, 1.6354095e-08, 3.8365752e-10,\n",
       "        6.6438433e-06, 3.0485398e-06, 9.9996156e-01, 8.7333248e-08,\n",
       "        3.9280144e-06, 2.2279453e-05],\n",
       "       [1.5333126e-06, 7.8312341e-06, 1.0378946e-05, 1.7631196e-06,\n",
       "        3.0526982e-05, 9.7432680e-02, 3.3397698e-09, 1.9364679e-05,\n",
       "        8.8491943e-05, 9.0240741e-01],\n",
       "       [3.3915608e-13, 1.4344815e-09, 1.9982792e-07, 9.9999684e-01,\n",
       "        1.9357013e-15, 5.4245297e-09, 2.1922065e-12, 1.1014585e-10,\n",
       "        2.7358251e-06, 1.3325229e-07],\n",
       "       [2.8671455e-04, 2.8195229e-04, 6.6053708e-06, 1.0752299e-04,\n",
       "        2.8672349e-03, 1.4831651e-02, 1.0793656e-07, 9.4690925e-01,\n",
       "        3.2660950e-04, 3.4382299e-02],\n",
       "       [2.1375172e-08, 7.8518305e-08, 9.7875017e-01, 1.8870877e-02,\n",
       "        1.0793199e-09, 7.2733933e-06, 3.8636696e-08, 8.7549907e-08,\n",
       "        2.3677680e-03, 3.6689949e-06]], dtype=float32)>"
      ]
     },
     "execution_count": 231,
     "metadata": {},
     "output_type": "execute_result"
    }
   ],
   "source": [
    "predictions_tf = model(X_test)\n",
    "predictions_tf[:5]"
   ]
  },
  {
   "cell_type": "code",
   "execution_count": 232,
   "metadata": {},
   "outputs": [
    {
     "data": {
      "text/plain": [
       "(tensorflow.python.framework.ops.EagerTensor, TensorShape([360, 10]))"
      ]
     },
     "execution_count": 232,
     "metadata": {},
     "output_type": "execute_result"
    }
   ],
   "source": [
    "type(predictions_tf), predictions_tf.shape"
   ]
  },
  {
   "cell_type": "markdown",
   "metadata": {},
   "source": [
    "The raw output of the model is a tensor of shape `(360, 10)`. This means that we have 360 samples, and for each sample we have 10 values. Each of these values represents the probability that the sample belongs to a given class. This means that we have 10 probabilities for each sample, and the sum of these probabilities is 1. We can confirm this by summing the probabilities for each sample:"
   ]
  },
  {
   "cell_type": "code",
   "execution_count": 233,
   "metadata": {},
   "outputs": [
    {
     "data": {
      "text/plain": [
       "<tf.Tensor: shape=(5,), dtype=float32, numpy=\n",
       "array([1.        , 1.        , 0.9999999 , 0.99999994, 1.        ],\n",
       "      dtype=float32)>"
      ]
     },
     "execution_count": 233,
     "metadata": {},
     "output_type": "execute_result"
    }
   ],
   "source": [
    "import tensorflow as tf\n",
    "\n",
    "tf.reduce_sum(predictions_tf, axis=1)[:5]"
   ]
  },
  {
   "cell_type": "markdown",
   "metadata": {
    "collapsed": false
   },
   "source": [
    "...okay, there might be a small rounding error here and there. This is to do with how floating point numbers are represented in computers, and it's not something we need to worry about for now."
   ]
  },
  {
   "cell_type": "markdown",
   "metadata": {},
   "source": [
    "We can also extract the label with the highest probability using the tensorflow API:"
   ]
  },
  {
   "cell_type": "code",
   "execution_count": 234,
   "metadata": {},
   "outputs": [
    {
     "data": {
      "text/plain": [
       "<tf.Tensor: shape=(5,), dtype=int64, numpy=array([6, 9, 3, 7, 2], dtype=int64)>"
      ]
     },
     "execution_count": 234,
     "metadata": {},
     "output_type": "execute_result"
    }
   ],
   "source": [
    "predicted_labels_tf = tf.argmax(predictions_tf, axis=1)\n",
    "predicted_labels_tf[:5]"
   ]
  },
  {
   "cell_type": "markdown",
   "metadata": {
    "collapsed": false
   },
   "source": [
    "One helpful aspect of this approach is that we don't just get the prediction, but also a sense of how confident the model is in its prediction. To see this in practice, let's take a look at some of the predictions the model is highly confident about (i.e. a lot of the probability mass is on one class):"
   ]
  },
  {
   "cell_type": "code",
   "execution_count": 235,
   "metadata": {
    "collapsed": false
   },
   "outputs": [
    {
     "data": {
      "image/png": "[encoded data removed]",
      "text/plain": [
       "<Figure size 600x600 with 9 Axes>"
      ]
     },
     "metadata": {},
     "output_type": "display_data"
    }
   ],
   "source": [
    "# Get the values corresponding to the predicted labels for each sample\n",
    "predicted_values_tf = tf.reduce_max(predictions_tf, axis=1)\n",
    "\n",
    "# Get the indices of the samples with the highest predicted values\n",
    "most_confident_indices_tf = tf.argsort(predicted_values_tf, direction='DESCENDING').numpy()[:9]\n",
    "\n",
    "# Get the 9 most confident samples\n",
    "most_confident_samples_tf = X_test[most_confident_indices_tf]\n",
    "\n",
    "# Get the true labels for the 9 most confident samples\n",
    "most_confident_labels_tf = np.argmax(y_test[most_confident_indices_tf], axis=1)\n",
    "\n",
    "# Plot the 9 most confident samples\n",
    "fig, axes = plt.subplots(3, 3, figsize=(6, 6))\n",
    "\n",
    "for i, ax in enumerate(axes.flat):\n",
    "    ax.imshow(most_confident_samples_tf[i].reshape(8, 8), cmap=plt.cm.gray_r, interpolation='nearest')\n",
    "    ax.set_title(f\"{most_confident_labels_tf[i]}\")\n",
    "\n",
    "    # Removing axis labels\n",
    "    ax.set_xticks([])\n",
    "    ax.set_yticks([])\n",
    "    \n",
    "plt.show()"
   ]
  },
  {
   "cell_type": "markdown",
   "metadata": {},
   "source": [
    "## Impact of Initialization\n",
    "\n",
    "Let's study the impact of a bad initialization when training\n",
    "a deep feed forward network.\n",
    "\n",
    "By default, Keras dense layers use the \"Glorot Uniform\" initialization\n",
    "strategy to initialize the weight matrices:\n",
    "\n",
    "- each weight coefficient is randomly sampled from [-scale, scale]\n",
    "- scale is proportional to $\\frac{1}{\\sqrt{n_{in} + n_{out}}}$\n",
    "\n",
    "This strategy is known to work well to initialize deep neural networks\n",
    "with \"tanh\" or \"relu\" activation functions and then trained with\n",
    "standard SGD.\n",
    "\n",
    "To assess the impact of initialization let us plug an alternative init\n",
    "scheme into a 2 hidden layers networks with \"tanh\" activations.\n",
    "For the sake of the example let's use normal distributed weights\n",
    "with a manually adjustable scale (standard deviation) and see the\n",
    "impact the scale value:"
   ]
  },
  {
   "cell_type": "code",
   "execution_count": 236,
   "metadata": {},
   "outputs": [],
   "source": [
    "from tensorflow.keras import initializers\n",
    "from tensorflow.keras import optimizers\n",
    "\n",
    "input_dim = 64\n",
    "hidden_dim = 64\n",
    "output_dim = 10\n",
    "\n",
    "normal_init = initializers.TruncatedNormal(stddev=0.01, seed=42)\n",
    "\n",
    "model = Sequential()\n",
    "model.add(Dense(hidden_dim, input_dim=input_dim, activation=\"tanh\",\n",
    "                kernel_initializer=normal_init))\n",
    "model.add(Dense(hidden_dim, activation=\"tanh\",\n",
    "                kernel_initializer=normal_init))\n",
    "model.add(Dense(output_dim, activation=\"softmax\",\n",
    "                kernel_initializer=normal_init))\n",
    "\n",
    "model.compile(optimizer=optimizers.SGD(learning_rate=0.1),\n",
    "              loss='categorical_crossentropy', metrics=['accuracy'])"
   ]
  },
  {
   "cell_type": "code",
   "execution_count": 237,
   "metadata": {},
   "outputs": [
    {
     "data": {
      "text/plain": [
       "[<keras.layers.core.dense.Dense at 0x22aa3fa02b0>,\n",
       " <keras.layers.core.dense.Dense at 0x22aa534d820>,\n",
       " <keras.layers.core.dense.Dense at 0x22aa7b9ef70>]"
      ]
     },
     "execution_count": 237,
     "metadata": {},
     "output_type": "execute_result"
    }
   ],
   "source": [
    "model.layers"
   ]
  },
  {
   "cell_type": "markdown",
   "metadata": {},
   "source": [
    "Let's have a look at the parameters of the first layer after initialization but before any training has happened:"
   ]
  },
  {
   "cell_type": "code",
   "execution_count": 238,
   "metadata": {},
   "outputs": [
    {
     "data": {
      "text/plain": [
       "[<tf.Variable 'dense_150/kernel:0' shape=(64, 64) dtype=float32, numpy=\n",
       " array([[ 0.00015817, -0.01590087,  0.00103594, ...,  0.00962818,\n",
       "          0.00624957,  0.00994726],\n",
       "        [ 0.0081879 ,  0.00756818, -0.00668142, ...,  0.01084459,\n",
       "         -0.00317478, -0.00549116],\n",
       "        [-0.00086618, -0.00287623,  0.00391693, ...,  0.00064558,\n",
       "         -0.00420471,  0.00174566],\n",
       "        ...,\n",
       "        [-0.0029006 , -0.0091218 ,  0.00804327, ..., -0.01407086,\n",
       "          0.00952832, -0.01348555],\n",
       "        [ 0.00375078,  0.00967842,  0.00098119, ..., -0.00413454,\n",
       "          0.01695471,  0.00025196],\n",
       "        [ 0.00459809,  0.01223094, -0.00213172, ...,  0.01246831,\n",
       "         -0.00714749, -0.00868595]], dtype=float32)>,\n",
       " <tf.Variable 'dense_150/bias:0' shape=(64,) dtype=float32, numpy=\n",
       " array([0., 0., 0., 0., 0., 0., 0., 0., 0., 0., 0., 0., 0., 0., 0., 0., 0.,\n",
       "        0., 0., 0., 0., 0., 0., 0., 0., 0., 0., 0., 0., 0., 0., 0., 0., 0.,\n",
       "        0., 0., 0., 0., 0., 0., 0., 0., 0., 0., 0., 0., 0., 0., 0., 0., 0.,\n",
       "        0., 0., 0., 0., 0., 0., 0., 0., 0., 0., 0., 0., 0.], dtype=float32)>]"
      ]
     },
     "execution_count": 238,
     "metadata": {},
     "output_type": "execute_result"
    }
   ],
   "source": [
    "model.layers[0].weights"
   ]
  },
  {
   "cell_type": "code",
   "execution_count": 239,
   "metadata": {},
   "outputs": [
    {
     "data": {
      "text/plain": [
       "array([[ 0.00015817, -0.01590087,  0.00103594, ...,  0.00962818,\n",
       "         0.00624957,  0.00994726],\n",
       "       [ 0.0081879 ,  0.00756818, -0.00668142, ...,  0.01084459,\n",
       "        -0.00317478, -0.00549116],\n",
       "       [-0.00086618, -0.00287623,  0.00391693, ...,  0.00064558,\n",
       "        -0.00420471,  0.00174566],\n",
       "       ...,\n",
       "       [-0.0029006 , -0.0091218 ,  0.00804327, ..., -0.01407086,\n",
       "         0.00952832, -0.01348555],\n",
       "       [ 0.00375078,  0.00967842,  0.00098119, ..., -0.00413454,\n",
       "         0.01695471,  0.00025196],\n",
       "       [ 0.00459809,  0.01223094, -0.00213172, ...,  0.01246831,\n",
       "        -0.00714749, -0.00868595]], dtype=float32)"
      ]
     },
     "execution_count": 239,
     "metadata": {},
     "output_type": "execute_result"
    }
   ],
   "source": [
    "w = model.layers[0].weights[0].numpy()\n",
    "w"
   ]
  },
  {
   "cell_type": "code",
   "execution_count": 240,
   "metadata": {},
   "outputs": [
    {
     "data": {
      "text/plain": [
       "0.008835949"
      ]
     },
     "execution_count": 240,
     "metadata": {},
     "output_type": "execute_result"
    }
   ],
   "source": [
    "w.std()"
   ]
  },
  {
   "cell_type": "code",
   "execution_count": 241,
   "metadata": {},
   "outputs": [
    {
     "data": {
      "text/plain": [
       "array([0., 0., 0., 0., 0., 0., 0., 0., 0., 0., 0., 0., 0., 0., 0., 0., 0.,\n",
       "       0., 0., 0., 0., 0., 0., 0., 0., 0., 0., 0., 0., 0., 0., 0., 0., 0.,\n",
       "       0., 0., 0., 0., 0., 0., 0., 0., 0., 0., 0., 0., 0., 0., 0., 0., 0.,\n",
       "       0., 0., 0., 0., 0., 0., 0., 0., 0., 0., 0., 0., 0.], dtype=float32)"
      ]
     },
     "execution_count": 241,
     "metadata": {},
     "output_type": "execute_result"
    }
   ],
   "source": [
    "b = model.layers[0].weights[1].numpy()\n",
    "b"
   ]
  },
  {
   "cell_type": "code",
   "execution_count": 242,
   "metadata": {},
   "outputs": [
    {
     "name": "stdout",
     "output_type": "stream",
     "text": [
      "Epoch 1/15\n",
      "45/45 [==============================] - 0s 1000us/step - loss: 2.2857 - accuracy: 0.2450\n",
      "Epoch 2/15\n",
      "45/45 [==============================] - 0s 1ms/step - loss: 1.7445 - accuracy: 0.4718\n",
      "Epoch 3/15\n",
      "45/45 [==============================] - 0s 983us/step - loss: 1.0306 - accuracy: 0.6966\n",
      "Epoch 4/15\n",
      "45/45 [==============================] - 0s 1ms/step - loss: 0.5589 - accuracy: 0.8525\n",
      "Epoch 5/15\n",
      "45/45 [==============================] - 0s 996us/step - loss: 0.3328 - accuracy: 0.9130\n",
      "Epoch 6/15\n",
      "45/45 [==============================] - 0s 1ms/step - loss: 0.2357 - accuracy: 0.9346\n",
      "Epoch 7/15\n",
      "45/45 [==============================] - 0s 970us/step - loss: 0.1701 - accuracy: 0.9569\n",
      "Epoch 8/15\n",
      "45/45 [==============================] - 0s 972us/step - loss: 0.1199 - accuracy: 0.9722\n",
      "Epoch 9/15\n",
      "45/45 [==============================] - 0s 980us/step - loss: 0.1037 - accuracy: 0.9729\n",
      "Epoch 10/15\n",
      "45/45 [==============================] - 0s 985us/step - loss: 0.1280 - accuracy: 0.9652\n",
      "Epoch 11/15\n",
      "45/45 [==============================] - 0s 974us/step - loss: 0.0871 - accuracy: 0.9784\n",
      "Epoch 12/15\n",
      "45/45 [==============================] - 0s 1ms/step - loss: 0.0879 - accuracy: 0.9770\n",
      "Epoch 13/15\n",
      "45/45 [==============================] - 0s 976us/step - loss: 0.0652 - accuracy: 0.9833\n",
      "Epoch 14/15\n",
      "45/45 [==============================] - 0s 992us/step - loss: 0.0466 - accuracy: 0.9916\n",
      "Epoch 15/15\n",
      "45/45 [==============================] - 0s 1ms/step - loss: 0.0511 - accuracy: 0.9875\n"
     ]
    },
    {
     "data": {
      "image/png": "[encoded data removed]",
      "text/plain": [
       "<Figure size 1200x400 with 1 Axes>"
      ]
     },
     "metadata": {},
     "output_type": "display_data"
    }
   ],
   "source": [
    "history = model.fit(X_train, y_train, epochs=15, batch_size=32)\n",
    "\n",
    "plt.figure(figsize=(12, 4))\n",
    "plt.plot(history.history['loss'], label=\"Truncated Normal init\")\n",
    "plt.legend();"
   ]
  },
  {
   "cell_type": "markdown",
   "metadata": {},
   "source": [
    "Once the model has been fit, the weights have been updated and notably the biases are no longer 0:"
   ]
  },
  {
   "cell_type": "code",
   "execution_count": 243,
   "metadata": {},
   "outputs": [
    {
     "data": {
      "text/plain": [
       "[<tf.Variable 'dense_150/kernel:0' shape=(64, 64) dtype=float32, numpy=\n",
       " array([[ 1.58170762e-04, -1.59008689e-02,  1.03594456e-03, ...,\n",
       "          9.62818228e-03,  6.24957308e-03,  9.94726177e-03],\n",
       "        [ 1.68548822e-02, -1.46560976e-02, -1.84420906e-02, ...,\n",
       "         -1.54035818e-02, -1.35431159e-02, -3.38209830e-02],\n",
       "        [ 5.25689945e-02, -8.98100063e-02, -8.86750594e-02, ...,\n",
       "         -5.54787591e-02, -1.23347715e-01,  9.40424483e-03],\n",
       "        ...,\n",
       "        [ 2.70844754e-02,  1.27813872e-02,  1.13644972e-01, ...,\n",
       "         -7.93485790e-02,  5.38661629e-02, -1.81852460e-01],\n",
       "        [ 1.04147047e-02, -1.03035113e-02,  1.35269538e-01, ...,\n",
       "         -6.06297106e-02,  2.90117245e-02, -1.14904545e-01],\n",
       "        [ 2.60923896e-02, -1.16638551e-02,  6.10603355e-02, ...,\n",
       "          6.19767830e-02,  1.93858612e-02, -6.68813288e-02]], dtype=float32)>,\n",
       " <tf.Variable 'dense_150/bias:0' shape=(64,) dtype=float32, numpy=\n",
       " array([-9.9271513e-04, -1.4182515e-03,  5.8833248e-04, -3.6127353e-03,\n",
       "        -5.4826732e-03, -2.1748587e-04, -6.7625224e-04, -6.3786068e-04,\n",
       "         8.5408689e-04, -1.7476819e-03,  1.2565227e-03, -8.3360448e-04,\n",
       "         3.5537472e-03, -5.9191609e-04,  3.9769295e-03, -1.4276758e-03,\n",
       "         5.4935291e-03,  1.2996217e-03, -2.6653146e-03, -2.4805053e-03,\n",
       "         2.0041952e-03, -1.2591562e-03,  2.5650237e-03, -5.3122232e-04,\n",
       "         2.7604643e-03,  7.8254507e-04, -2.9004347e-03,  1.2073170e-03,\n",
       "        -9.8307326e-05,  9.2858609e-06,  4.0925122e-03,  2.4113483e-03,\n",
       "         1.0979195e-03,  6.2358850e-03,  2.0861393e-03,  1.3226654e-03,\n",
       "        -3.0860943e-03,  2.8873503e-03, -3.9065015e-03, -1.4950190e-03,\n",
       "         1.7851727e-03, -1.7861280e-03, -4.5391734e-04,  1.0679727e-03,\n",
       "         2.2044417e-03,  7.7971825e-05,  3.6009436e-03, -1.2095128e-04,\n",
       "         2.1359771e-03,  7.3815545e-04,  5.0835935e-03, -3.9338847e-03,\n",
       "        -4.8489403e-03, -2.1017219e-03, -3.5592534e-03, -5.4685576e-03,\n",
       "         3.4933223e-03,  6.7264691e-04,  1.0854804e-03, -9.0650166e-05,\n",
       "        -5.1891175e-04,  7.6089241e-04, -5.4343194e-03,  4.0670391e-04],\n",
       "       dtype=float32)>]"
      ]
     },
     "execution_count": 243,
     "metadata": {},
     "output_type": "execute_result"
    }
   ],
   "source": [
    "model.layers[0].weights"
   ]
  },
  {
   "cell_type": "markdown",
   "metadata": {},
   "source": [
    "#### Questions:\n",
    "\n",
    "- Try the following initialization schemes and see whether\n",
    "  the SGD algorithm can successfully train the network or\n",
    "  not:\n",
    "  \n",
    "  - a very small e.g. `stddev=1e-3`\n",
    "  - a larger scale e.g. `stddev=1` or `10`\n",
    "  - initialize all weights to 0 (constant initialization)\n",
    "  \n",
    "- What do you observe? Can you find an explanation for those\n",
    "  outcomes?\n",
    "\n",
    "- Are more advanced solvers such as SGD with momentum or Adam able\n",
    "  to deal better with such bad initializations?"
   ]
  },
  {
   "cell_type": "code",
   "execution_count": 277,
   "metadata": {},
   "outputs": [
    {
     "name": "stdout",
     "output_type": "stream",
     "text": [
      "Epoch 1/15\n",
      "45/45 [==============================] - 0s 1ms/step - loss: 2.3036 - accuracy: 0.0995\n",
      "Epoch 2/15\n",
      "45/45 [==============================] - 0s 1ms/step - loss: 2.3031 - accuracy: 0.1037\n",
      "Epoch 3/15\n",
      "45/45 [==============================] - 0s 1ms/step - loss: 2.3031 - accuracy: 0.1016\n",
      "Epoch 4/15\n",
      "45/45 [==============================] - 0s 977us/step - loss: 2.3031 - accuracy: 0.1072\n",
      "Epoch 5/15\n",
      "45/45 [==============================] - 0s 966us/step - loss: 2.3032 - accuracy: 0.1058\n",
      "Epoch 6/15\n",
      "45/45 [==============================] - 0s 972us/step - loss: 2.3031 - accuracy: 0.0995\n",
      "Epoch 7/15\n",
      "45/45 [==============================] - 0s 1ms/step - loss: 2.3031 - accuracy: 0.1072\n",
      "Epoch 8/15\n",
      "45/45 [==============================] - 0s 1ms/step - loss: 2.3028 - accuracy: 0.1072\n",
      "Epoch 9/15\n",
      "45/45 [==============================] - 0s 982us/step - loss: 2.3016 - accuracy: 0.1072\n",
      "Epoch 10/15\n",
      "45/45 [==============================] - 0s 1ms/step - loss: 2.1108 - accuracy: 0.1858\n",
      "Epoch 11/15\n",
      "45/45 [==============================] - 0s 1ms/step - loss: 1.7819 - accuracy: 0.2053\n",
      "Epoch 12/15\n",
      "45/45 [==============================] - 0s 1ms/step - loss: 1.6140 - accuracy: 0.2728\n",
      "Epoch 13/15\n",
      "45/45 [==============================] - 0s 1ms/step - loss: 1.4354 - accuracy: 0.3584\n",
      "Epoch 14/15\n",
      "45/45 [==============================] - 0s 977us/step - loss: 1.2710 - accuracy: 0.5031\n",
      "Epoch 15/15\n",
      "45/45 [==============================] - 0s 1ms/step - loss: 0.8611 - accuracy: 0.6910\n",
      "Epoch 1/15\n",
      "45/45 [==============================] - 0s 1ms/step - loss: 0.6076 - accuracy: 0.8260\n",
      "Epoch 2/15\n",
      "45/45 [==============================] - 0s 1ms/step - loss: 0.4317 - accuracy: 0.8768\n",
      "Epoch 3/15\n",
      "45/45 [==============================] - 0s 1ms/step - loss: 0.3540 - accuracy: 0.9054\n",
      "Epoch 4/15\n",
      "45/45 [==============================] - 0s 955us/step - loss: 0.2544 - accuracy: 0.9402\n",
      "Epoch 5/15\n",
      "45/45 [==============================] - 0s 1ms/step - loss: 0.1806 - accuracy: 0.9596\n",
      "Epoch 6/15\n",
      "45/45 [==============================] - 0s 1ms/step - loss: 0.1360 - accuracy: 0.9756\n",
      "Epoch 7/15\n",
      "45/45 [==============================] - 0s 966us/step - loss: 0.1342 - accuracy: 0.9680\n",
      "Epoch 8/15\n",
      "45/45 [==============================] - 0s 977us/step - loss: 0.1426 - accuracy: 0.9624\n",
      "Epoch 9/15\n",
      "45/45 [==============================] - 0s 1ms/step - loss: 0.1150 - accuracy: 0.9743\n",
      "Epoch 10/15\n",
      "45/45 [==============================] - 0s 1ms/step - loss: 0.0856 - accuracy: 0.9812\n",
      "Epoch 11/15\n",
      "45/45 [==============================] - 0s 999us/step - loss: 0.0891 - accuracy: 0.9770\n",
      "Epoch 12/15\n",
      "45/45 [==============================] - 0s 966us/step - loss: 0.0916 - accuracy: 0.9777\n",
      "Epoch 13/15\n",
      "45/45 [==============================] - 0s 955us/step - loss: 0.0601 - accuracy: 0.9875\n",
      "Epoch 14/15\n",
      "45/45 [==============================] - 0s 965us/step - loss: 0.0422 - accuracy: 0.9916\n",
      "Epoch 15/15\n",
      "45/45 [==============================] - 0s 977us/step - loss: 0.0399 - accuracy: 0.9916\n",
      "Epoch 1/15\n",
      "45/45 [==============================] - 0s 1ms/step - loss: 4.1593 - accuracy: 0.2818\n",
      "Epoch 2/15\n",
      "45/45 [==============================] - 0s 1ms/step - loss: 1.9116 - accuracy: 0.4468\n",
      "Epoch 3/15\n",
      "45/45 [==============================] - 0s 1ms/step - loss: 1.4085 - accuracy: 0.5630\n",
      "Epoch 4/15\n",
      "45/45 [==============================] - 0s 1ms/step - loss: 1.2242 - accuracy: 0.5957\n",
      "Epoch 5/15\n",
      "45/45 [==============================] - 0s 987us/step - loss: 1.0654 - accuracy: 0.6569\n",
      "Epoch 6/15\n",
      "45/45 [==============================] - 0s 1000us/step - loss: 1.0979 - accuracy: 0.6360\n",
      "Epoch 7/15\n",
      "45/45 [==============================] - 0s 990us/step - loss: 0.9254 - accuracy: 0.6966\n",
      "Epoch 8/15\n",
      "45/45 [==============================] - 0s 1ms/step - loss: 0.8364 - accuracy: 0.6987\n",
      "Epoch 9/15\n",
      "45/45 [==============================] - 0s 1ms/step - loss: 0.7869 - accuracy: 0.7182\n",
      "Epoch 10/15\n",
      "45/45 [==============================] - 0s 1ms/step - loss: 0.7780 - accuracy: 0.7516\n",
      "Epoch 11/15\n",
      "45/45 [==============================] - 0s 1ms/step - loss: 0.6184 - accuracy: 0.7940\n",
      "Epoch 12/15\n",
      "45/45 [==============================] - 0s 977us/step - loss: 0.6202 - accuracy: 0.7996\n",
      "Epoch 13/15\n",
      "45/45 [==============================] - 0s 980us/step - loss: 0.5806 - accuracy: 0.8225\n",
      "Epoch 14/15\n",
      "45/45 [==============================] - 0s 1ms/step - loss: 0.5746 - accuracy: 0.8079\n",
      "Epoch 15/15\n",
      "45/45 [==============================] - 0s 1ms/step - loss: 0.5335 - accuracy: 0.8170\n",
      "Epoch 1/15\n",
      "45/45 [==============================] - 0s 1ms/step - loss: 0.5060 - accuracy: 0.8260\n",
      "Epoch 2/15\n",
      "45/45 [==============================] - 0s 1ms/step - loss: 0.5044 - accuracy: 0.8225\n",
      "Epoch 3/15\n",
      "45/45 [==============================] - 0s 978us/step - loss: 0.4794 - accuracy: 0.8386\n",
      "Epoch 4/15\n",
      "45/45 [==============================] - 0s 1ms/step - loss: 0.4842 - accuracy: 0.8469\n",
      "Epoch 5/15\n",
      "45/45 [==============================] - 0s 1ms/step - loss: 0.5146 - accuracy: 0.8344\n",
      "Epoch 6/15\n",
      "45/45 [==============================] - 0s 977us/step - loss: 0.4903 - accuracy: 0.8337\n",
      "Epoch 7/15\n",
      "45/45 [==============================] - 0s 1ms/step - loss: 0.4748 - accuracy: 0.8483\n",
      "Epoch 8/15\n",
      "45/45 [==============================] - 0s 1ms/step - loss: 0.4277 - accuracy: 0.8629\n",
      "Epoch 9/15\n",
      "45/45 [==============================] - 0s 1ms/step - loss: 0.3936 - accuracy: 0.8720\n",
      "Epoch 10/15\n",
      "45/45 [==============================] - 0s 1ms/step - loss: 0.3751 - accuracy: 0.8810\n",
      "Epoch 11/15\n",
      "45/45 [==============================] - 0s 1ms/step - loss: 0.3287 - accuracy: 0.9026\n",
      "Epoch 12/15\n",
      "45/45 [==============================] - 0s 1ms/step - loss: 0.3833 - accuracy: 0.8678\n",
      "Epoch 13/15\n",
      "45/45 [==============================] - 0s 1ms/step - loss: 0.3404 - accuracy: 0.8894\n",
      "Epoch 14/15\n",
      "45/45 [==============================] - 0s 989us/step - loss: 0.3101 - accuracy: 0.8949\n",
      "Epoch 15/15\n",
      "45/45 [==============================] - 0s 1ms/step - loss: 0.3208 - accuracy: 0.8977\n",
      "Epoch 1/15\n",
      "45/45 [==============================] - 0s 1ms/step - loss: 88.3960 - accuracy: 0.1079\n",
      "Epoch 2/15\n",
      "45/45 [==============================] - 0s 955us/step - loss: 75.2761 - accuracy: 0.1176\n",
      "Epoch 3/15\n",
      "45/45 [==============================] - 0s 1ms/step - loss: 55.9281 - accuracy: 0.1113\n",
      "Epoch 4/15\n",
      "45/45 [==============================] - 0s 1ms/step - loss: 48.2721 - accuracy: 0.1232\n",
      "Epoch 5/15\n",
      "45/45 [==============================] - 0s 978us/step - loss: 39.2497 - accuracy: 0.1385\n",
      "Epoch 6/15\n",
      "45/45 [==============================] - 0s 1ms/step - loss: 27.6850 - accuracy: 0.1893\n",
      "Epoch 7/15\n",
      "45/45 [==============================] - 0s 1ms/step - loss: 24.1588 - accuracy: 0.1768\n",
      "Epoch 8/15\n",
      "45/45 [==============================] - 0s 1ms/step - loss: 23.1867 - accuracy: 0.2276\n",
      "Epoch 9/15\n",
      "45/45 [==============================] - 0s 1ms/step - loss: 22.6092 - accuracy: 0.1642\n",
      "Epoch 10/15\n",
      "45/45 [==============================] - 0s 977us/step - loss: 18.3062 - accuracy: 0.1413\n",
      "Epoch 11/15\n",
      "45/45 [==============================] - 0s 1ms/step - loss: 15.9550 - accuracy: 0.1614\n",
      "Epoch 12/15\n",
      "45/45 [==============================] - 0s 977us/step - loss: 14.7592 - accuracy: 0.1197\n",
      "Epoch 13/15\n",
      "45/45 [==============================] - 0s 978us/step - loss: 10.5444 - accuracy: 0.1155\n",
      "Epoch 14/15\n",
      "45/45 [==============================] - 0s 978us/step - loss: 8.4339 - accuracy: 0.1232\n",
      "Epoch 15/15\n",
      "45/45 [==============================] - 0s 979us/step - loss: 8.0431 - accuracy: 0.1100\n",
      "Epoch 1/15\n",
      "45/45 [==============================] - 0s 1ms/step - loss: 7.7269 - accuracy: 0.1232\n",
      "Epoch 2/15\n",
      "45/45 [==============================] - 0s 1000us/step - loss: 6.8073 - accuracy: 0.1079\n",
      "Epoch 3/15\n",
      "45/45 [==============================] - 0s 977us/step - loss: 5.4701 - accuracy: 0.1002\n",
      "Epoch 4/15\n",
      "45/45 [==============================] - 0s 978us/step - loss: 5.3682 - accuracy: 0.1190\n",
      "Epoch 5/15\n",
      "45/45 [==============================] - 0s 978us/step - loss: 5.2700 - accuracy: 0.1113\n",
      "Epoch 6/15\n",
      "45/45 [==============================] - 0s 1ms/step - loss: 5.2456 - accuracy: 0.1246\n",
      "Epoch 7/15\n",
      "45/45 [==============================] - 0s 977us/step - loss: 5.1769 - accuracy: 0.1183\n",
      "Epoch 8/15\n",
      "45/45 [==============================] - 0s 990us/step - loss: 5.0949 - accuracy: 0.1322\n",
      "Epoch 9/15\n",
      "45/45 [==============================] - 0s 1ms/step - loss: 5.0424 - accuracy: 0.1315\n",
      "Epoch 10/15\n",
      "45/45 [==============================] - 0s 982us/step - loss: 4.9876 - accuracy: 0.1357\n",
      "Epoch 11/15\n",
      "45/45 [==============================] - 0s 977us/step - loss: 4.9452 - accuracy: 0.1413\n",
      "Epoch 12/15\n",
      "45/45 [==============================] - 0s 1ms/step - loss: 4.9065 - accuracy: 0.1385\n",
      "Epoch 13/15\n",
      "45/45 [==============================] - 0s 977us/step - loss: 4.8244 - accuracy: 0.1273\n",
      "Epoch 14/15\n",
      "45/45 [==============================] - 0s 1ms/step - loss: 4.7462 - accuracy: 0.1454\n",
      "Epoch 15/15\n",
      "45/45 [==============================] - 0s 977us/step - loss: 4.7071 - accuracy: 0.1413\n",
      "Epoch 1/15\n",
      "45/45 [==============================] - 0s 1ms/step - loss: 2.3037 - accuracy: 0.0981\n",
      "Epoch 2/15\n",
      "45/45 [==============================] - 0s 932us/step - loss: 2.3033 - accuracy: 0.1002\n",
      "Epoch 3/15\n",
      "45/45 [==============================] - 0s 955us/step - loss: 2.3033 - accuracy: 0.1044\n",
      "Epoch 4/15\n",
      "45/45 [==============================] - 0s 954us/step - loss: 2.3033 - accuracy: 0.0981\n",
      "Epoch 5/15\n",
      "45/45 [==============================] - 0s 955us/step - loss: 2.3033 - accuracy: 0.1072\n",
      "Epoch 6/15\n",
      "45/45 [==============================] - 0s 956us/step - loss: 2.3032 - accuracy: 0.1065\n",
      "Epoch 7/15\n",
      "45/45 [==============================] - 0s 909us/step - loss: 2.3033 - accuracy: 0.0988\n",
      "Epoch 8/15\n",
      "45/45 [==============================] - 0s 967us/step - loss: 2.3031 - accuracy: 0.1051\n",
      "Epoch 9/15\n",
      "45/45 [==============================] - 0s 962us/step - loss: 2.3030 - accuracy: 0.1072\n",
      "Epoch 10/15\n",
      "45/45 [==============================] - 0s 966us/step - loss: 2.3031 - accuracy: 0.1072\n",
      "Epoch 11/15\n",
      "45/45 [==============================] - 0s 955us/step - loss: 2.3031 - accuracy: 0.1072\n",
      "Epoch 12/15\n",
      "45/45 [==============================] - 0s 1ms/step - loss: 2.3031 - accuracy: 0.1051\n",
      "Epoch 13/15\n",
      "45/45 [==============================] - 0s 1ms/step - loss: 2.3030 - accuracy: 0.1030\n",
      "Epoch 14/15\n",
      "45/45 [==============================] - 0s 967us/step - loss: 2.3029 - accuracy: 0.1072\n",
      "Epoch 15/15\n",
      "45/45 [==============================] - 0s 955us/step - loss: 2.3032 - accuracy: 0.0967\n",
      "Epoch 1/15\n",
      "45/45 [==============================] - 0s 1ms/step - loss: 2.3031 - accuracy: 0.1072\n",
      "Epoch 2/15\n",
      "45/45 [==============================] - 0s 1ms/step - loss: 2.3031 - accuracy: 0.1072\n",
      "Epoch 3/15\n",
      "45/45 [==============================] - 0s 954us/step - loss: 2.3032 - accuracy: 0.0919\n",
      "Epoch 4/15\n",
      "45/45 [==============================] - 0s 966us/step - loss: 2.3032 - accuracy: 0.1072\n",
      "Epoch 5/15\n",
      "45/45 [==============================] - 0s 1ms/step - loss: 2.3031 - accuracy: 0.1051\n",
      "Epoch 6/15\n",
      "45/45 [==============================] - 0s 1000us/step - loss: 2.3032 - accuracy: 0.1037\n",
      "Epoch 7/15\n",
      "45/45 [==============================] - 0s 978us/step - loss: 2.3029 - accuracy: 0.1072\n",
      "Epoch 8/15\n",
      "45/45 [==============================] - 0s 977us/step - loss: 2.3032 - accuracy: 0.1072\n",
      "Epoch 9/15\n",
      "45/45 [==============================] - 0s 979us/step - loss: 2.3031 - accuracy: 0.1072\n",
      "Epoch 10/15\n",
      "45/45 [==============================] - 0s 954us/step - loss: 2.3030 - accuracy: 0.1058\n",
      "Epoch 11/15\n",
      "45/45 [==============================] - 0s 955us/step - loss: 2.3030 - accuracy: 0.1072\n",
      "Epoch 12/15\n",
      "45/45 [==============================] - 0s 999us/step - loss: 2.3031 - accuracy: 0.1072\n",
      "Epoch 13/15\n",
      "45/45 [==============================] - 0s 979us/step - loss: 2.3031 - accuracy: 0.1058\n",
      "Epoch 14/15\n",
      "45/45 [==============================] - 0s 975us/step - loss: 2.3030 - accuracy: 0.1072\n",
      "Epoch 15/15\n",
      "45/45 [==============================] - 0s 985us/step - loss: 2.3032 - accuracy: 0.1051\n",
      "Epoch 1/15\n",
      "45/45 [==============================] - 0s 979us/step - loss: 3.9978 - accuracy: 0.1621\n",
      "Epoch 2/15\n",
      "45/45 [==============================] - 0s 1ms/step - loss: 2.4640 - accuracy: 0.2317\n",
      "Epoch 3/15\n",
      "45/45 [==============================] - 0s 1ms/step - loss: 2.7821 - accuracy: 0.1322\n",
      "Epoch 4/15\n",
      "45/45 [==============================] - 0s 990us/step - loss: 2.8373 - accuracy: 0.1120\n",
      "Epoch 5/15\n",
      "45/45 [==============================] - 0s 955us/step - loss: 2.6833 - accuracy: 0.1023\n",
      "Epoch 6/15\n",
      "45/45 [==============================] - 0s 959us/step - loss: 2.9402 - accuracy: 0.1392\n",
      "Epoch 7/15\n",
      "45/45 [==============================] - 0s 1000us/step - loss: 3.0172 - accuracy: 0.1204\n",
      "Epoch 8/15\n",
      "45/45 [==============================] - 0s 956us/step - loss: 3.0314 - accuracy: 0.0877\n",
      "Epoch 9/15\n",
      "45/45 [==============================] - 0s 1000us/step - loss: 3.1470 - accuracy: 0.1106\n",
      "Epoch 10/15\n",
      "45/45 [==============================] - 0s 984us/step - loss: 2.7961 - accuracy: 0.1169\n",
      "Epoch 11/15\n",
      "45/45 [==============================] - 0s 977us/step - loss: 2.8465 - accuracy: 0.0898\n",
      "Epoch 12/15\n",
      "45/45 [==============================] - 0s 955us/step - loss: 2.9278 - accuracy: 0.0967\n",
      "Epoch 13/15\n",
      "45/45 [==============================] - 0s 966us/step - loss: 2.9875 - accuracy: 0.1065\n",
      "Epoch 14/15\n",
      "45/45 [==============================] - 0s 977us/step - loss: 2.9581 - accuracy: 0.0932\n",
      "Epoch 15/15\n",
      "45/45 [==============================] - 0s 966us/step - loss: 2.8526 - accuracy: 0.0988\n",
      "Epoch 1/15\n",
      "45/45 [==============================] - 0s 1ms/step - loss: 2.8791 - accuracy: 0.1016\n",
      "Epoch 2/15\n",
      "45/45 [==============================] - 0s 978us/step - loss: 3.0717 - accuracy: 0.1065\n",
      "Epoch 3/15\n",
      "45/45 [==============================] - 0s 1ms/step - loss: 3.1431 - accuracy: 0.0981\n",
      "Epoch 4/15\n",
      "45/45 [==============================] - 0s 976us/step - loss: 2.9741 - accuracy: 0.0953\n",
      "Epoch 5/15\n",
      "45/45 [==============================] - 0s 1ms/step - loss: 2.9319 - accuracy: 0.0967\n",
      "Epoch 6/15\n",
      "45/45 [==============================] - 0s 977us/step - loss: 2.9273 - accuracy: 0.0870\n",
      "Epoch 7/15\n",
      "45/45 [==============================] - 0s 956us/step - loss: 2.9858 - accuracy: 0.0995\n",
      "Epoch 8/15\n",
      "45/45 [==============================] - 0s 1ms/step - loss: 3.0662 - accuracy: 0.0898\n",
      "Epoch 9/15\n",
      "45/45 [==============================] - 0s 1ms/step - loss: 2.7336 - accuracy: 0.1447\n",
      "Epoch 10/15\n",
      "45/45 [==============================] - 0s 1ms/step - loss: 2.5945 - accuracy: 0.1434\n",
      "Epoch 11/15\n",
      "45/45 [==============================] - 0s 1ms/step - loss: 2.7808 - accuracy: 0.1580\n",
      "Epoch 12/15\n",
      "45/45 [==============================] - 0s 1000us/step - loss: 2.8245 - accuracy: 0.1601\n",
      "Epoch 13/15\n",
      "45/45 [==============================] - 0s 1ms/step - loss: 2.7852 - accuracy: 0.1447\n",
      "Epoch 14/15\n",
      "45/45 [==============================] - 0s 1ms/step - loss: 2.7147 - accuracy: 0.1218\n",
      "Epoch 15/15\n",
      "45/45 [==============================] - 0s 1ms/step - loss: 2.7409 - accuracy: 0.1510\n",
      "Epoch 1/15\n",
      "45/45 [==============================] - 0s 1ms/step - loss: 8.0798 - accuracy: 0.1482\n",
      "Epoch 2/15\n",
      "45/45 [==============================] - 0s 1ms/step - loss: 5.4784 - accuracy: 0.2199\n",
      "Epoch 3/15\n",
      "45/45 [==============================] - 0s 1ms/step - loss: 4.1418 - accuracy: 0.2978\n",
      "Epoch 4/15\n",
      "45/45 [==============================] - 0s 1ms/step - loss: 3.3051 - accuracy: 0.3584\n",
      "Epoch 5/15\n",
      "45/45 [==============================] - 0s 1ms/step - loss: 2.7177 - accuracy: 0.4127\n",
      "Epoch 6/15\n",
      "45/45 [==============================] - 0s 1ms/step - loss: 2.2705 - accuracy: 0.4600\n",
      "Epoch 7/15\n",
      "45/45 [==============================] - 0s 1ms/step - loss: 1.9686 - accuracy: 0.5122\n",
      "Epoch 8/15\n",
      "45/45 [==============================] - 0s 1ms/step - loss: 1.7496 - accuracy: 0.5623\n",
      "Epoch 9/15\n",
      "45/45 [==============================] - 0s 1ms/step - loss: 1.5610 - accuracy: 0.5818\n",
      "Epoch 10/15\n",
      "45/45 [==============================] - 0s 1ms/step - loss: 1.4048 - accuracy: 0.6235\n",
      "Epoch 11/15\n",
      "45/45 [==============================] - 0s 1ms/step - loss: 1.2806 - accuracy: 0.6437\n",
      "Epoch 12/15\n",
      "45/45 [==============================] - 0s 1ms/step - loss: 1.1567 - accuracy: 0.6729\n",
      "Epoch 13/15\n",
      "45/45 [==============================] - 0s 1ms/step - loss: 1.0645 - accuracy: 0.7022\n",
      "Epoch 14/15\n",
      "45/45 [==============================] - 0s 1ms/step - loss: 0.9874 - accuracy: 0.7161\n",
      "Epoch 15/15\n",
      "45/45 [==============================] - 0s 1ms/step - loss: 0.9109 - accuracy: 0.7286\n",
      "Epoch 1/15\n",
      "45/45 [==============================] - 0s 1ms/step - loss: 0.8571 - accuracy: 0.7425\n",
      "Epoch 2/15\n",
      "45/45 [==============================] - 0s 1ms/step - loss: 0.8024 - accuracy: 0.7613\n",
      "Epoch 3/15\n",
      "45/45 [==============================] - 0s 1ms/step - loss: 0.7617 - accuracy: 0.7794\n",
      "Epoch 4/15\n",
      "45/45 [==============================] - 0s 1ms/step - loss: 0.7185 - accuracy: 0.7905\n",
      "Epoch 5/15\n",
      "45/45 [==============================] - 0s 1ms/step - loss: 0.6794 - accuracy: 0.8038\n",
      "Epoch 6/15\n",
      "45/45 [==============================] - 0s 1ms/step - loss: 0.6437 - accuracy: 0.8107\n",
      "Epoch 7/15\n",
      "45/45 [==============================] - 0s 1ms/step - loss: 0.6163 - accuracy: 0.8212\n",
      "Epoch 8/15\n",
      "45/45 [==============================] - 0s 1ms/step - loss: 0.5815 - accuracy: 0.8330\n",
      "Epoch 9/15\n",
      "45/45 [==============================] - 0s 1ms/step - loss: 0.5592 - accuracy: 0.8399\n",
      "Epoch 10/15\n",
      "45/45 [==============================] - 0s 1ms/step - loss: 0.5344 - accuracy: 0.8504\n",
      "Epoch 11/15\n",
      "45/45 [==============================] - 0s 1ms/step - loss: 0.5092 - accuracy: 0.8511\n",
      "Epoch 12/15\n",
      "45/45 [==============================] - 0s 1ms/step - loss: 0.4871 - accuracy: 0.8594\n",
      "Epoch 13/15\n",
      "45/45 [==============================] - 0s 1ms/step - loss: 0.4650 - accuracy: 0.8685\n",
      "Epoch 14/15\n",
      "45/45 [==============================] - 0s 1ms/step - loss: 0.4470 - accuracy: 0.8747\n",
      "Epoch 15/15\n",
      "45/45 [==============================] - 0s 1ms/step - loss: 0.4288 - accuracy: 0.8803\n"
     ]
    },
    {
     "data": {
      "image/png": "[encoded data removed]",
      "text/plain": [
       "<Figure size 1200x400 with 1 Axes>"
      ]
     },
     "metadata": {},
     "output_type": "display_data"
    },
    {
     "data": {
      "image/png": "[encoded data removed]",
      "text/plain": [
       "<Figure size 1200x400 with 1 Axes>"
      ]
     },
     "metadata": {},
     "output_type": "display_data"
    },
    {
     "data": {
      "image/png": "[encoded data removed]",
      "text/plain": [
       "<Figure size 1200x400 with 1 Axes>"
      ]
     },
     "metadata": {},
     "output_type": "display_data"
    },
    {
     "data": {
      "image/png": "[encoded data removed]",
      "text/plain": [
       "<Figure size 1200x400 with 1 Axes>"
      ]
     },
     "metadata": {},
     "output_type": "display_data"
    },
    {
     "data": {
      "image/png": "[encoded data removed]",
      "text/plain": [
       "<Figure size 1200x400 with 1 Axes>"
      ]
     },
     "metadata": {},
     "output_type": "display_data"
    },
    {
     "data": {
      "image/png": "[encoded data removed]",
      "text/plain": [
       "<Figure size 1200x400 with 1 Axes>"
      ]
     },
     "metadata": {},
     "output_type": "display_data"
    }
   ],
   "source": [
    "#   - a very small e.g. `stddev=1e-3`\n",
    "# seems to result in less smoother curve\n",
    "#   - a larger scale e.g. `stddev=1` or `10`\n",
    "#   - initialize all weights to 0 (constant initialization)\n",
    "\n",
    "from tensorflow.keras import initializers\n",
    "from tensorflow.keras import optimizers\n",
    "\n",
    "input_dim = 64\n",
    "hidden_dim = 64\n",
    "output_dim = 10\n",
    "\n",
    "stddev_values = [1e-3, 1, 10, 0]\n",
    "\n",
    "for stddev in stddev_values:\n",
    "\n",
    "    normal_init = initializers.TruncatedNormal(stddev=stddev, seed=42)\n",
    "\n",
    "    model = Sequential()\n",
    "    model.add(Dense(hidden_dim, input_dim=input_dim, activation=\"tanh\",\n",
    "                    kernel_initializer=normal_init))\n",
    "    model.add(Dense(hidden_dim, activation=\"tanh\",\n",
    "                    kernel_initializer=normal_init))\n",
    "    model.add(Dense(output_dim, activation=\"softmax\",\n",
    "                    kernel_initializer=normal_init))\n",
    "\n",
    "    model.compile(optimizer=optimizers.SGD(learning_rate=0.1),\n",
    "                loss='categorical_crossentropy', metrics=['accuracy'])\n",
    "\n",
    "    history = model.fit(X_train, y_train, epochs=15, batch_size=32)\n",
    "\n",
    "    history = model.fit(X_train, y_train, epochs=15, batch_size=32)\n",
    "\n",
    "    plt.figure(figsize=(12, 4))\n",
    "    plt.plot(history.history['loss'], label=\"Truncated Normal init\")\n",
    "    plt.legend();\n",
    "\n",
    "# Are more advanced solvers such as SGD with momentum or Adam able to deal better with such bad initializations?\n",
    "normal_init = initializers.TruncatedNormal(stddev=1, seed=42)\n",
    "\n",
    "model = Sequential()\n",
    "model.add(Dense(hidden_dim, input_dim=input_dim, activation=\"tanh\",\n",
    "                kernel_initializer=normal_init))\n",
    "model.add(Dense(hidden_dim, activation=\"tanh\",\n",
    "                kernel_initializer=normal_init))\n",
    "model.add(Dense(output_dim, activation=\"softmax\",\n",
    "                kernel_initializer=normal_init))\n",
    "\n",
    "model.compile(optimizer=optimizers.SGD(learning_rate=0.1, momentum=0.9),\n",
    "            loss='categorical_crossentropy', metrics=['accuracy'])\n",
    "\n",
    "history = model.fit(X_train, y_train, epochs=15, batch_size=32)\n",
    "\n",
    "history = model.fit(X_train, y_train, epochs=15, batch_size=32)\n",
    "\n",
    "plt.figure(figsize=(12, 4))\n",
    "plt.plot(history.history['loss'], label=\"Truncated Normal init\")\n",
    "plt.legend();\n",
    "\n",
    "normal_init = initializers.TruncatedNormal(stddev=1, seed=42)\n",
    "\n",
    "model = Sequential()\n",
    "model.add(Dense(hidden_dim, input_dim=input_dim, activation=\"tanh\",\n",
    "                kernel_initializer=normal_init))\n",
    "model.add(Dense(hidden_dim, activation=\"tanh\",\n",
    "                kernel_initializer=normal_init))\n",
    "model.add(Dense(output_dim, activation=\"softmax\",\n",
    "                kernel_initializer=normal_init))\n",
    "\n",
    "model.compile(optimizer=optimizers.Adam(),\n",
    "            loss='categorical_crossentropy', metrics=['accuracy'])\n",
    "\n",
    "history = model.fit(X_train, y_train, epochs=15, batch_size=32)\n",
    "\n",
    "history = model.fit(X_train, y_train, epochs=15, batch_size=32)\n",
    "\n",
    "plt.figure(figsize=(12, 4))\n",
    "plt.plot(history.history['loss'], label=\"Truncated Normal init\")\n",
    "plt.legend();"
   ]
  }
 ],
 "metadata": {
  "file_extension": ".py",
  "kernelspec": {
   "display_name": "dsi_participant",
   "language": "python",
   "name": "python3"
  },
  "language_info": {
   "codemirror_mode": {
    "name": "ipython",
    "version": 3
   },
   "file_extension": ".py",
   "mimetype": "text/x-python",
   "name": "python",
   "nbconvert_exporter": "python",
   "pygments_lexer": "ipython3",
   "version": "3.9.15"
  },
  "mimetype": "text/x-python",
  "name": "python",
  "npconvert_exporter": "python",
  "pygments_lexer": "ipython3",
  "toc": {
   "base_numbering": 1,
   "nav_menu": {},
   "number_sections": true,
   "sideBar": true,
   "skip_h1_title": false,
   "title_cell": "Table of Contents",
   "title_sidebar": "Contents",
   "toc_cell": false,
   "toc_position": {},
   "toc_section_display": true,
   "toc_window_display": false
  },
  "version": 3
 },
 "nbformat": 4,
 "nbformat_minor": 4
}
