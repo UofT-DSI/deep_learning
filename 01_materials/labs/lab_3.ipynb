{
 "cells": [
  {
   "cell_type": "markdown",
   "metadata": {},
   "source": [
    "# Recommender Systems\n",
    "\n",
    "In this lab, we'll be using Keras to build a recommender system. We'll be using the MovieLens dataset, a common benchmark dataset for recommender systems. \n",
    "\n",
    "MovieLens is a web-based recommender system and virtual community that recommends movies for its users to watch, based on their film preferences using collaborative filtering of members' movie ratings and movie reviews. You can check out the website here: https://movielens.org/\n",
    "\n",
    "We will download a subset of the dataset containing 100k ratings. There are tens of millions of ratings in the full dataset, spanning hundreds of thousands of users and movies. The subset we'll be using is a good example to demonstrate the concepts in this lab."
   ]
  },
  {
   "cell_type": "code",
   "execution_count": 1,
   "metadata": {},
   "outputs": [],
   "source": [
    "%matplotlib inline\n",
    "import matplotlib.pyplot as plt\n",
    "import numpy as np\n",
    "from zipfile import ZipFile\n",
    "from urllib.request import urlretrieve\n",
    "from pathlib import Path\n",
    "\n",
    "ML_100K_URL = \"http://files.grouplens.org/datasets/movielens/ml-100k.zip\"\n",
    "ML_100K_FILENAME = Path(\"ml-100k.zip\")\n",
    "ML_100K_FOLDER = Path(\"ml-100k\")\n",
    "\n",
    "if not ML_100K_FOLDER.exists():\n",
    "    if not ML_100K_FILENAME.exists():\n",
    "        urlretrieve(ML_100K_URL, ML_100K_FILENAME.name)\n",
    "    with ZipFile(ML_100K_FILENAME.name) as zip_file:\n",
    "        zip_file.extractall()"
   ]
  },
  {
   "cell_type": "markdown",
   "metadata": {},
   "source": [
    "The goal of MovieLens is to enable models to predict the rating a user would give to a movie they have not yet watched. This is a classic example of a recommendation system. The dataset is huge, and contains many parts giving information about the movies, the users, and the ratings. To begin with, we will look at the ratings file. Each line in the ratings file (u.data) is formatted as:\n",
    "\n",
    "`user_id, item_id, rating, timestamp`\n",
    "\n",
    "Which tells us a single user's rating of a single movie.\n",
    "\n",
    "We will start by loading the ratings data into a pandas dataframe and then take a look at the first few rows. If you haven't used Pandas before, it's an extremely powerful library for dealing with tabular data. You can think of it as a Python version of Excel."
   ]
  },
  {
   "cell_type": "code",
   "execution_count": 2,
   "metadata": {},
   "outputs": [
    {
     "data": {
      "text/html": [
       "<div>\n",
       "<style scoped>\n",
       "    .dataframe tbody tr th:only-of-type {\n",
       "        vertical-align: middle;\n",
       "    }\n",
       "\n",
       "    .dataframe tbody tr th {\n",
       "        vertical-align: top;\n",
       "    }\n",
       "\n",
       "    .dataframe thead th {\n",
       "        text-align: right;\n",
       "    }\n",
       "</style>\n",
       "<table border=\"1\" class=\"dataframe\">\n",
       "  <thead>\n",
       "    <tr style=\"text-align: right;\">\n",
       "      <th></th>\n",
       "      <th>user_id</th>\n",
       "      <th>item_id</th>\n",
       "      <th>rating</th>\n",
       "      <th>timestamp</th>\n",
       "    </tr>\n",
       "  </thead>\n",
       "  <tbody>\n",
       "    <tr>\n",
       "      <th>0</th>\n",
       "      <td>196</td>\n",
       "      <td>242</td>\n",
       "      <td>3</td>\n",
       "      <td>881250949</td>\n",
       "    </tr>\n",
       "    <tr>\n",
       "      <th>1</th>\n",
       "      <td>186</td>\n",
       "      <td>302</td>\n",
       "      <td>3</td>\n",
       "      <td>891717742</td>\n",
       "    </tr>\n",
       "    <tr>\n",
       "      <th>2</th>\n",
       "      <td>22</td>\n",
       "      <td>377</td>\n",
       "      <td>1</td>\n",
       "      <td>878887116</td>\n",
       "    </tr>\n",
       "    <tr>\n",
       "      <th>3</th>\n",
       "      <td>244</td>\n",
       "      <td>51</td>\n",
       "      <td>2</td>\n",
       "      <td>880606923</td>\n",
       "    </tr>\n",
       "    <tr>\n",
       "      <th>4</th>\n",
       "      <td>166</td>\n",
       "      <td>346</td>\n",
       "      <td>1</td>\n",
       "      <td>886397596</td>\n",
       "    </tr>\n",
       "    <tr>\n",
       "      <th>...</th>\n",
       "      <td>...</td>\n",
       "      <td>...</td>\n",
       "      <td>...</td>\n",
       "      <td>...</td>\n",
       "    </tr>\n",
       "    <tr>\n",
       "      <th>99995</th>\n",
       "      <td>880</td>\n",
       "      <td>476</td>\n",
       "      <td>3</td>\n",
       "      <td>880175444</td>\n",
       "    </tr>\n",
       "    <tr>\n",
       "      <th>99996</th>\n",
       "      <td>716</td>\n",
       "      <td>204</td>\n",
       "      <td>5</td>\n",
       "      <td>879795543</td>\n",
       "    </tr>\n",
       "    <tr>\n",
       "      <th>99997</th>\n",
       "      <td>276</td>\n",
       "      <td>1090</td>\n",
       "      <td>1</td>\n",
       "      <td>874795795</td>\n",
       "    </tr>\n",
       "    <tr>\n",
       "      <th>99998</th>\n",
       "      <td>13</td>\n",
       "      <td>225</td>\n",
       "      <td>2</td>\n",
       "      <td>882399156</td>\n",
       "    </tr>\n",
       "    <tr>\n",
       "      <th>99999</th>\n",
       "      <td>12</td>\n",
       "      <td>203</td>\n",
       "      <td>3</td>\n",
       "      <td>879959583</td>\n",
       "    </tr>\n",
       "  </tbody>\n",
       "</table>\n",
       "<p>100000 rows × 4 columns</p>\n",
       "</div>"
      ],
      "text/plain": [
       "       user_id  item_id  rating  timestamp\n",
       "0          196      242       3  881250949\n",
       "1          186      302       3  891717742\n",
       "2           22      377       1  878887116\n",
       "3          244       51       2  880606923\n",
       "4          166      346       1  886397596\n",
       "...        ...      ...     ...        ...\n",
       "99995      880      476       3  880175444\n",
       "99996      716      204       5  879795543\n",
       "99997      276     1090       1  874795795\n",
       "99998       13      225       2  882399156\n",
       "99999       12      203       3  879959583\n",
       "\n",
       "[100000 rows x 4 columns]"
      ]
     },
     "execution_count": 2,
     "metadata": {},
     "output_type": "execute_result"
    }
   ],
   "source": [
    "import pandas as pd\n",
    "\n",
    "raw_ratings = pd.read_csv(ML_100K_FOLDER / \"u.data\", sep='\\t',\n",
    "                          names=[\"user_id\", \"item_id\", \"rating\", \"timestamp\"])\n",
    "raw_ratings"
   ]
  },
  {
   "cell_type": "markdown",
   "metadata": {},
   "source": [
    "The second file we'll look at is the movie metadata. This file (u.item) contains information about each movie, including the title and release date. Each line in the file is formatted as:\n",
    "\n",
    "`movie_id | movie_title | release_date | video_release_date | IMDb_URL | unknown | Action | Adventure | Animation | Children's | Comedy | Crime | Documentary | Drama | Fantasy | Film-Noir | Horror | Musical | Mystery | Romance | Sci-Fi | Thriller | War | Western`\n",
    "\n",
    "As you can see, the genres are binary variables. As with one-hot encoding, a 1 indicates that the movie is of that genre, and a 0 indicates that it is not. We aren't going to work with the genre data in this lab, but it's easy to imagine that it could be useful in a real-world recommendation system."
   ]
  },
  {
   "cell_type": "code",
   "execution_count": 3,
   "metadata": {},
   "outputs": [
    {
     "data": {
      "text/html": [
       "<div>\n",
       "<style scoped>\n",
       "    .dataframe tbody tr th:only-of-type {\n",
       "        vertical-align: middle;\n",
       "    }\n",
       "\n",
       "    .dataframe tbody tr th {\n",
       "        vertical-align: top;\n",
       "    }\n",
       "\n",
       "    .dataframe thead th {\n",
       "        text-align: right;\n",
       "    }\n",
       "</style>\n",
       "<table border=\"1\" class=\"dataframe\">\n",
       "  <thead>\n",
       "    <tr style=\"text-align: right;\">\n",
       "      <th></th>\n",
       "      <th>item_id</th>\n",
       "      <th>title</th>\n",
       "      <th>release_date</th>\n",
       "      <th>video_release_date</th>\n",
       "      <th>imdb_url</th>\n",
       "    </tr>\n",
       "  </thead>\n",
       "  <tbody>\n",
       "    <tr>\n",
       "      <th>0</th>\n",
       "      <td>1</td>\n",
       "      <td>Toy Story (1995)</td>\n",
       "      <td>01-Jan-1995</td>\n",
       "      <td>NaN</td>\n",
       "      <td>http://us.imdb.com/M/title-exact?Toy%20Story%2...</td>\n",
       "    </tr>\n",
       "    <tr>\n",
       "      <th>1</th>\n",
       "      <td>2</td>\n",
       "      <td>GoldenEye (1995)</td>\n",
       "      <td>01-Jan-1995</td>\n",
       "      <td>NaN</td>\n",
       "      <td>http://us.imdb.com/M/title-exact?GoldenEye%20(...</td>\n",
       "    </tr>\n",
       "    <tr>\n",
       "      <th>2</th>\n",
       "      <td>3</td>\n",
       "      <td>Four Rooms (1995)</td>\n",
       "      <td>01-Jan-1995</td>\n",
       "      <td>NaN</td>\n",
       "      <td>http://us.imdb.com/M/title-exact?Four%20Rooms%...</td>\n",
       "    </tr>\n",
       "    <tr>\n",
       "      <th>3</th>\n",
       "      <td>4</td>\n",
       "      <td>Get Shorty (1995)</td>\n",
       "      <td>01-Jan-1995</td>\n",
       "      <td>NaN</td>\n",
       "      <td>http://us.imdb.com/M/title-exact?Get%20Shorty%...</td>\n",
       "    </tr>\n",
       "    <tr>\n",
       "      <th>4</th>\n",
       "      <td>5</td>\n",
       "      <td>Copycat (1995)</td>\n",
       "      <td>01-Jan-1995</td>\n",
       "      <td>NaN</td>\n",
       "      <td>http://us.imdb.com/M/title-exact?Copycat%20(1995)</td>\n",
       "    </tr>\n",
       "    <tr>\n",
       "      <th>...</th>\n",
       "      <td>...</td>\n",
       "      <td>...</td>\n",
       "      <td>...</td>\n",
       "      <td>...</td>\n",
       "      <td>...</td>\n",
       "    </tr>\n",
       "    <tr>\n",
       "      <th>1677</th>\n",
       "      <td>1678</td>\n",
       "      <td>Mat' i syn (1997)</td>\n",
       "      <td>06-Feb-1998</td>\n",
       "      <td>NaN</td>\n",
       "      <td>http://us.imdb.com/M/title-exact?Mat%27+i+syn+...</td>\n",
       "    </tr>\n",
       "    <tr>\n",
       "      <th>1678</th>\n",
       "      <td>1679</td>\n",
       "      <td>B. Monkey (1998)</td>\n",
       "      <td>06-Feb-1998</td>\n",
       "      <td>NaN</td>\n",
       "      <td>http://us.imdb.com/M/title-exact?B%2E+Monkey+(...</td>\n",
       "    </tr>\n",
       "    <tr>\n",
       "      <th>1679</th>\n",
       "      <td>1680</td>\n",
       "      <td>Sliding Doors (1998)</td>\n",
       "      <td>01-Jan-1998</td>\n",
       "      <td>NaN</td>\n",
       "      <td>http://us.imdb.com/Title?Sliding+Doors+(1998)</td>\n",
       "    </tr>\n",
       "    <tr>\n",
       "      <th>1680</th>\n",
       "      <td>1681</td>\n",
       "      <td>You So Crazy (1994)</td>\n",
       "      <td>01-Jan-1994</td>\n",
       "      <td>NaN</td>\n",
       "      <td>http://us.imdb.com/M/title-exact?You%20So%20Cr...</td>\n",
       "    </tr>\n",
       "    <tr>\n",
       "      <th>1681</th>\n",
       "      <td>1682</td>\n",
       "      <td>Scream of Stone (Schrei aus Stein) (1991)</td>\n",
       "      <td>08-Mar-1996</td>\n",
       "      <td>NaN</td>\n",
       "      <td>http://us.imdb.com/M/title-exact?Schrei%20aus%...</td>\n",
       "    </tr>\n",
       "  </tbody>\n",
       "</table>\n",
       "<p>1682 rows × 5 columns</p>\n",
       "</div>"
      ],
      "text/plain": [
       "      item_id                                      title release_date  \\\n",
       "0           1                           Toy Story (1995)  01-Jan-1995   \n",
       "1           2                           GoldenEye (1995)  01-Jan-1995   \n",
       "2           3                          Four Rooms (1995)  01-Jan-1995   \n",
       "3           4                          Get Shorty (1995)  01-Jan-1995   \n",
       "4           5                             Copycat (1995)  01-Jan-1995   \n",
       "...       ...                                        ...          ...   \n",
       "1677     1678                          Mat' i syn (1997)  06-Feb-1998   \n",
       "1678     1679                           B. Monkey (1998)  06-Feb-1998   \n",
       "1679     1680                       Sliding Doors (1998)  01-Jan-1998   \n",
       "1680     1681                        You So Crazy (1994)  01-Jan-1994   \n",
       "1681     1682  Scream of Stone (Schrei aus Stein) (1991)  08-Mar-1996   \n",
       "\n",
       "      video_release_date                                           imdb_url  \n",
       "0                    NaN  http://us.imdb.com/M/title-exact?Toy%20Story%2...  \n",
       "1                    NaN  http://us.imdb.com/M/title-exact?GoldenEye%20(...  \n",
       "2                    NaN  http://us.imdb.com/M/title-exact?Four%20Rooms%...  \n",
       "3                    NaN  http://us.imdb.com/M/title-exact?Get%20Shorty%...  \n",
       "4                    NaN  http://us.imdb.com/M/title-exact?Copycat%20(1995)  \n",
       "...                  ...                                                ...  \n",
       "1677                 NaN  http://us.imdb.com/M/title-exact?Mat%27+i+syn+...  \n",
       "1678                 NaN  http://us.imdb.com/M/title-exact?B%2E+Monkey+(...  \n",
       "1679                 NaN      http://us.imdb.com/Title?Sliding+Doors+(1998)  \n",
       "1680                 NaN  http://us.imdb.com/M/title-exact?You%20So%20Cr...  \n",
       "1681                 NaN  http://us.imdb.com/M/title-exact?Schrei%20aus%...  \n",
       "\n",
       "[1682 rows x 5 columns]"
      ]
     },
     "execution_count": 3,
     "metadata": {},
     "output_type": "execute_result"
    }
   ],
   "source": [
    "columns_to_keep = ['item_id', 'title', 'release_date', 'video_release_date', 'imdb_url']\n",
    "items = pd.read_csv(ML_100K_FOLDER / \"u.item\", sep='|', names=columns_to_keep,\n",
    "                    encoding='latin-1', usecols=range(5))\n",
    "items"
   ]
  },
  {
   "cell_type": "markdown",
   "metadata": {},
   "source": [
    "By default, the `release_date` column is a string. We can convert it to a `datetime` object using the `pd.to_datetime` function. This will make it easier to work with in the future (if we want to do things like check which date came first, for example).\n",
    " \n",
    "We can also extract the year from the date and store it in a separate column. This will make it easier to do things like plot the number of movies released each year."
   ]
  },
  {
   "cell_type": "code",
   "execution_count": 4,
   "metadata": {},
   "outputs": [],
   "source": [
    "items['release_date'] = pd.to_datetime(items['release_date']) # Pandas makes this easy!\n",
    "items['release_year'] = items['release_date'].dt.year # For later use"
   ]
  },
  {
   "cell_type": "markdown",
   "metadata": {},
   "source": [
    "For our purposes, it will be easier to work with the data if we merge our two dataframes into a single dataframe. We can do this using the `merge` method. We'll merge the `items` dataframe into the `raw_ratings` dataframe, using the `item_id` column as the key. This will add the movie title and release year to each rating."
   ]
  },
  {
   "cell_type": "code",
   "execution_count": 5,
   "metadata": {},
   "outputs": [],
   "source": [
    "all_ratings = pd.merge(items, raw_ratings)"
   ]
  },
  {
   "cell_type": "code",
   "execution_count": 6,
   "metadata": {},
   "outputs": [
    {
     "data": {
      "text/html": [
       "<div>\n",
       "<style scoped>\n",
       "    .dataframe tbody tr th:only-of-type {\n",
       "        vertical-align: middle;\n",
       "    }\n",
       "\n",
       "    .dataframe tbody tr th {\n",
       "        vertical-align: top;\n",
       "    }\n",
       "\n",
       "    .dataframe thead th {\n",
       "        text-align: right;\n",
       "    }\n",
       "</style>\n",
       "<table border=\"1\" class=\"dataframe\">\n",
       "  <thead>\n",
       "    <tr style=\"text-align: right;\">\n",
       "      <th></th>\n",
       "      <th>item_id</th>\n",
       "      <th>title</th>\n",
       "      <th>release_date</th>\n",
       "      <th>video_release_date</th>\n",
       "      <th>imdb_url</th>\n",
       "      <th>release_year</th>\n",
       "      <th>user_id</th>\n",
       "      <th>rating</th>\n",
       "      <th>timestamp</th>\n",
       "    </tr>\n",
       "  </thead>\n",
       "  <tbody>\n",
       "    <tr>\n",
       "      <th>0</th>\n",
       "      <td>1</td>\n",
       "      <td>Toy Story (1995)</td>\n",
       "      <td>1995-01-01</td>\n",
       "      <td>NaN</td>\n",
       "      <td>http://us.imdb.com/M/title-exact?Toy%20Story%2...</td>\n",
       "      <td>1995.0</td>\n",
       "      <td>308</td>\n",
       "      <td>4</td>\n",
       "      <td>887736532</td>\n",
       "    </tr>\n",
       "    <tr>\n",
       "      <th>1</th>\n",
       "      <td>1</td>\n",
       "      <td>Toy Story (1995)</td>\n",
       "      <td>1995-01-01</td>\n",
       "      <td>NaN</td>\n",
       "      <td>http://us.imdb.com/M/title-exact?Toy%20Story%2...</td>\n",
       "      <td>1995.0</td>\n",
       "      <td>287</td>\n",
       "      <td>5</td>\n",
       "      <td>875334088</td>\n",
       "    </tr>\n",
       "    <tr>\n",
       "      <th>2</th>\n",
       "      <td>1</td>\n",
       "      <td>Toy Story (1995)</td>\n",
       "      <td>1995-01-01</td>\n",
       "      <td>NaN</td>\n",
       "      <td>http://us.imdb.com/M/title-exact?Toy%20Story%2...</td>\n",
       "      <td>1995.0</td>\n",
       "      <td>148</td>\n",
       "      <td>4</td>\n",
       "      <td>877019411</td>\n",
       "    </tr>\n",
       "    <tr>\n",
       "      <th>3</th>\n",
       "      <td>1</td>\n",
       "      <td>Toy Story (1995)</td>\n",
       "      <td>1995-01-01</td>\n",
       "      <td>NaN</td>\n",
       "      <td>http://us.imdb.com/M/title-exact?Toy%20Story%2...</td>\n",
       "      <td>1995.0</td>\n",
       "      <td>280</td>\n",
       "      <td>4</td>\n",
       "      <td>891700426</td>\n",
       "    </tr>\n",
       "    <tr>\n",
       "      <th>4</th>\n",
       "      <td>1</td>\n",
       "      <td>Toy Story (1995)</td>\n",
       "      <td>1995-01-01</td>\n",
       "      <td>NaN</td>\n",
       "      <td>http://us.imdb.com/M/title-exact?Toy%20Story%2...</td>\n",
       "      <td>1995.0</td>\n",
       "      <td>66</td>\n",
       "      <td>3</td>\n",
       "      <td>883601324</td>\n",
       "    </tr>\n",
       "  </tbody>\n",
       "</table>\n",
       "</div>"
      ],
      "text/plain": [
       "   item_id             title release_date  video_release_date  \\\n",
       "0        1  Toy Story (1995)   1995-01-01                 NaN   \n",
       "1        1  Toy Story (1995)   1995-01-01                 NaN   \n",
       "2        1  Toy Story (1995)   1995-01-01                 NaN   \n",
       "3        1  Toy Story (1995)   1995-01-01                 NaN   \n",
       "4        1  Toy Story (1995)   1995-01-01                 NaN   \n",
       "\n",
       "                                            imdb_url  release_year  user_id  \\\n",
       "0  http://us.imdb.com/M/title-exact?Toy%20Story%2...        1995.0      308   \n",
       "1  http://us.imdb.com/M/title-exact?Toy%20Story%2...        1995.0      287   \n",
       "2  http://us.imdb.com/M/title-exact?Toy%20Story%2...        1995.0      148   \n",
       "3  http://us.imdb.com/M/title-exact?Toy%20Story%2...        1995.0      280   \n",
       "4  http://us.imdb.com/M/title-exact?Toy%20Story%2...        1995.0       66   \n",
       "\n",
       "   rating  timestamp  \n",
       "0       4  887736532  \n",
       "1       5  875334088  \n",
       "2       4  877019411  \n",
       "3       4  891700426  \n",
       "4       3  883601324  "
      ]
     },
     "execution_count": 6,
     "metadata": {},
     "output_type": "execute_result"
    }
   ],
   "source": [
    "all_ratings.head()"
   ]
  },
  {
   "cell_type": "markdown",
   "metadata": {},
   "source": [
    "### Data preprocessing\n",
    "\n",
    "It's always important to understand the data you've collected. Thankfully, Pandas continues to make this easy for us. Using the `describe` method, we can get a quick statistical summary of the data."
   ]
  },
  {
   "cell_type": "code",
   "execution_count": 7,
   "metadata": {},
   "outputs": [
    {
     "data": {
      "text/html": [
       "<div>\n",
       "<style scoped>\n",
       "    .dataframe tbody tr th:only-of-type {\n",
       "        vertical-align: middle;\n",
       "    }\n",
       "\n",
       "    .dataframe tbody tr th {\n",
       "        vertical-align: top;\n",
       "    }\n",
       "\n",
       "    .dataframe thead th {\n",
       "        text-align: right;\n",
       "    }\n",
       "</style>\n",
       "<table border=\"1\" class=\"dataframe\">\n",
       "  <thead>\n",
       "    <tr style=\"text-align: right;\">\n",
       "      <th></th>\n",
       "      <th>item_id</th>\n",
       "      <th>release_date</th>\n",
       "      <th>video_release_date</th>\n",
       "      <th>release_year</th>\n",
       "      <th>user_id</th>\n",
       "      <th>rating</th>\n",
       "      <th>timestamp</th>\n",
       "    </tr>\n",
       "  </thead>\n",
       "  <tbody>\n",
       "    <tr>\n",
       "      <th>count</th>\n",
       "      <td>100000.000000</td>\n",
       "      <td>99991</td>\n",
       "      <td>0.0</td>\n",
       "      <td>99991.000000</td>\n",
       "      <td>100000.00000</td>\n",
       "      <td>100000.000000</td>\n",
       "      <td>1.000000e+05</td>\n",
       "    </tr>\n",
       "    <tr>\n",
       "      <th>mean</th>\n",
       "      <td>425.530130</td>\n",
       "      <td>1988-02-09 00:43:11.369223296</td>\n",
       "      <td>NaN</td>\n",
       "      <td>1987.956216</td>\n",
       "      <td>462.48475</td>\n",
       "      <td>3.529860</td>\n",
       "      <td>8.835289e+08</td>\n",
       "    </tr>\n",
       "    <tr>\n",
       "      <th>min</th>\n",
       "      <td>1.000000</td>\n",
       "      <td>1922-01-01 00:00:00</td>\n",
       "      <td>NaN</td>\n",
       "      <td>1922.000000</td>\n",
       "      <td>1.00000</td>\n",
       "      <td>1.000000</td>\n",
       "      <td>8.747247e+08</td>\n",
       "    </tr>\n",
       "    <tr>\n",
       "      <th>25%</th>\n",
       "      <td>175.000000</td>\n",
       "      <td>1986-01-01 00:00:00</td>\n",
       "      <td>NaN</td>\n",
       "      <td>1986.000000</td>\n",
       "      <td>254.00000</td>\n",
       "      <td>3.000000</td>\n",
       "      <td>8.794487e+08</td>\n",
       "    </tr>\n",
       "    <tr>\n",
       "      <th>50%</th>\n",
       "      <td>322.000000</td>\n",
       "      <td>1994-01-01 00:00:00</td>\n",
       "      <td>NaN</td>\n",
       "      <td>1994.000000</td>\n",
       "      <td>447.00000</td>\n",
       "      <td>4.000000</td>\n",
       "      <td>8.828269e+08</td>\n",
       "    </tr>\n",
       "    <tr>\n",
       "      <th>75%</th>\n",
       "      <td>631.000000</td>\n",
       "      <td>1996-09-28 00:00:00</td>\n",
       "      <td>NaN</td>\n",
       "      <td>1996.000000</td>\n",
       "      <td>682.00000</td>\n",
       "      <td>4.000000</td>\n",
       "      <td>8.882600e+08</td>\n",
       "    </tr>\n",
       "    <tr>\n",
       "      <th>max</th>\n",
       "      <td>1682.000000</td>\n",
       "      <td>1998-10-23 00:00:00</td>\n",
       "      <td>NaN</td>\n",
       "      <td>1998.000000</td>\n",
       "      <td>943.00000</td>\n",
       "      <td>5.000000</td>\n",
       "      <td>8.932866e+08</td>\n",
       "    </tr>\n",
       "    <tr>\n",
       "      <th>std</th>\n",
       "      <td>330.798356</td>\n",
       "      <td>NaN</td>\n",
       "      <td>NaN</td>\n",
       "      <td>14.155523</td>\n",
       "      <td>266.61442</td>\n",
       "      <td>1.125674</td>\n",
       "      <td>5.343856e+06</td>\n",
       "    </tr>\n",
       "  </tbody>\n",
       "</table>\n",
       "</div>"
      ],
      "text/plain": [
       "             item_id                   release_date  video_release_date  \\\n",
       "count  100000.000000                          99991                 0.0   \n",
       "mean      425.530130  1988-02-09 00:43:11.369223296                 NaN   \n",
       "min         1.000000            1922-01-01 00:00:00                 NaN   \n",
       "25%       175.000000            1986-01-01 00:00:00                 NaN   \n",
       "50%       322.000000            1994-01-01 00:00:00                 NaN   \n",
       "75%       631.000000            1996-09-28 00:00:00                 NaN   \n",
       "max      1682.000000            1998-10-23 00:00:00                 NaN   \n",
       "std       330.798356                            NaN                 NaN   \n",
       "\n",
       "       release_year       user_id         rating     timestamp  \n",
       "count  99991.000000  100000.00000  100000.000000  1.000000e+05  \n",
       "mean    1987.956216     462.48475       3.529860  8.835289e+08  \n",
       "min     1922.000000       1.00000       1.000000  8.747247e+08  \n",
       "25%     1986.000000     254.00000       3.000000  8.794487e+08  \n",
       "50%     1994.000000     447.00000       4.000000  8.828269e+08  \n",
       "75%     1996.000000     682.00000       4.000000  8.882600e+08  \n",
       "max     1998.000000     943.00000       5.000000  8.932866e+08  \n",
       "std       14.155523     266.61442       1.125674  5.343856e+06  "
      ]
     },
     "execution_count": 7,
     "metadata": {},
     "output_type": "execute_result"
    }
   ],
   "source": [
    "all_ratings.describe()"
   ]
  },
  {
   "cell_type": "markdown",
   "metadata": {},
   "source": [
    "Let's do a bit more pandas magic to compute the popularity of each movie (number of ratings). We will use the `groupby` method to group the dataframe by the `item_id` column and then use the `size` method to compute the number of ratings for each movie. We will use the `reset_index` method to convert the resulting Series into a dataframe with an `item_id` column."
   ]
  },
  {
   "cell_type": "code",
   "execution_count": 8,
   "metadata": {},
   "outputs": [],
   "source": [
    "popularity = all_ratings.groupby('item_id').size().reset_index(name='popularity')\n",
    "items = pd.merge(popularity, items)"
   ]
  },
  {
   "cell_type": "code",
   "execution_count": 9,
   "metadata": {},
   "outputs": [
    {
     "data": {
      "image/png": "[encoded data removed]",
      "text/plain": [
       "<Figure size 640x480 with 1 Axes>"
      ]
     },
     "metadata": {},
     "output_type": "display_data"
    }
   ],
   "source": [
    "items['popularity'].plot.hist(bins=30);"
   ]
  },
  {
   "cell_type": "code",
   "execution_count": 10,
   "metadata": {},
   "outputs": [
    {
     "data": {
      "text/plain": [
       "np.int64(141)"
      ]
     },
     "execution_count": 10,
     "metadata": {},
     "output_type": "execute_result"
    }
   ],
   "source": [
    "(items['popularity'] == 1).sum() # Number of movies with only one rating"
   ]
  },
  {
   "cell_type": "code",
   "execution_count": 11,
   "metadata": {},
   "outputs": [
    {
     "data": {
      "text/plain": [
       "49                  Star Wars (1977)\n",
       "257                   Contact (1997)\n",
       "99                      Fargo (1996)\n",
       "180        Return of the Jedi (1983)\n",
       "293                 Liar Liar (1997)\n",
       "285      English Patient, The (1996)\n",
       "287                    Scream (1996)\n",
       "0                   Toy Story (1995)\n",
       "299             Air Force One (1997)\n",
       "120    Independence Day (ID4) (1996)\n",
       "Name: title, dtype: object"
      ]
     },
     "execution_count": 11,
     "metadata": {},
     "output_type": "execute_result"
    }
   ],
   "source": [
    "items.nlargest(10, 'popularity')['title'] # Get the 10 most popular movies"
   ]
  },
  {
   "cell_type": "code",
   "execution_count": 12,
   "metadata": {},
   "outputs": [
    {
     "data": {
      "text/html": [
       "<div>\n",
       "<style scoped>\n",
       "    .dataframe tbody tr th:only-of-type {\n",
       "        vertical-align: middle;\n",
       "    }\n",
       "\n",
       "    .dataframe tbody tr th {\n",
       "        vertical-align: top;\n",
       "    }\n",
       "\n",
       "    .dataframe thead th {\n",
       "        text-align: right;\n",
       "    }\n",
       "</style>\n",
       "<table border=\"1\" class=\"dataframe\">\n",
       "  <thead>\n",
       "    <tr style=\"text-align: right;\">\n",
       "      <th></th>\n",
       "      <th>item_id</th>\n",
       "      <th>popularity</th>\n",
       "      <th>release_date</th>\n",
       "      <th>video_release_date</th>\n",
       "      <th>release_year</th>\n",
       "      <th>user_id</th>\n",
       "      <th>rating</th>\n",
       "      <th>timestamp</th>\n",
       "    </tr>\n",
       "  </thead>\n",
       "  <tbody>\n",
       "    <tr>\n",
       "      <th>count</th>\n",
       "      <td>100000.000000</td>\n",
       "      <td>100000.000000</td>\n",
       "      <td>99991</td>\n",
       "      <td>0.0</td>\n",
       "      <td>99991.000000</td>\n",
       "      <td>100000.00000</td>\n",
       "      <td>100000.000000</td>\n",
       "      <td>1.000000e+05</td>\n",
       "    </tr>\n",
       "    <tr>\n",
       "      <th>mean</th>\n",
       "      <td>425.530130</td>\n",
       "      <td>168.071900</td>\n",
       "      <td>1988-02-09 00:43:11.369223296</td>\n",
       "      <td>NaN</td>\n",
       "      <td>1987.956216</td>\n",
       "      <td>462.48475</td>\n",
       "      <td>3.529860</td>\n",
       "      <td>8.835289e+08</td>\n",
       "    </tr>\n",
       "    <tr>\n",
       "      <th>min</th>\n",
       "      <td>1.000000</td>\n",
       "      <td>1.000000</td>\n",
       "      <td>1922-01-01 00:00:00</td>\n",
       "      <td>NaN</td>\n",
       "      <td>1922.000000</td>\n",
       "      <td>1.00000</td>\n",
       "      <td>1.000000</td>\n",
       "      <td>8.747247e+08</td>\n",
       "    </tr>\n",
       "    <tr>\n",
       "      <th>25%</th>\n",
       "      <td>175.000000</td>\n",
       "      <td>71.000000</td>\n",
       "      <td>1986-01-01 00:00:00</td>\n",
       "      <td>NaN</td>\n",
       "      <td>1986.000000</td>\n",
       "      <td>254.00000</td>\n",
       "      <td>3.000000</td>\n",
       "      <td>8.794487e+08</td>\n",
       "    </tr>\n",
       "    <tr>\n",
       "      <th>50%</th>\n",
       "      <td>322.000000</td>\n",
       "      <td>145.000000</td>\n",
       "      <td>1994-01-01 00:00:00</td>\n",
       "      <td>NaN</td>\n",
       "      <td>1994.000000</td>\n",
       "      <td>447.00000</td>\n",
       "      <td>4.000000</td>\n",
       "      <td>8.828269e+08</td>\n",
       "    </tr>\n",
       "    <tr>\n",
       "      <th>75%</th>\n",
       "      <td>631.000000</td>\n",
       "      <td>239.000000</td>\n",
       "      <td>1996-09-28 00:00:00</td>\n",
       "      <td>NaN</td>\n",
       "      <td>1996.000000</td>\n",
       "      <td>682.00000</td>\n",
       "      <td>4.000000</td>\n",
       "      <td>8.882600e+08</td>\n",
       "    </tr>\n",
       "    <tr>\n",
       "      <th>max</th>\n",
       "      <td>1682.000000</td>\n",
       "      <td>583.000000</td>\n",
       "      <td>1998-10-23 00:00:00</td>\n",
       "      <td>NaN</td>\n",
       "      <td>1998.000000</td>\n",
       "      <td>943.00000</td>\n",
       "      <td>5.000000</td>\n",
       "      <td>8.932866e+08</td>\n",
       "    </tr>\n",
       "    <tr>\n",
       "      <th>std</th>\n",
       "      <td>330.798356</td>\n",
       "      <td>121.784558</td>\n",
       "      <td>NaN</td>\n",
       "      <td>NaN</td>\n",
       "      <td>14.155523</td>\n",
       "      <td>266.61442</td>\n",
       "      <td>1.125674</td>\n",
       "      <td>5.343856e+06</td>\n",
       "    </tr>\n",
       "  </tbody>\n",
       "</table>\n",
       "</div>"
      ],
      "text/plain": [
       "             item_id     popularity                   release_date  \\\n",
       "count  100000.000000  100000.000000                          99991   \n",
       "mean      425.530130     168.071900  1988-02-09 00:43:11.369223296   \n",
       "min         1.000000       1.000000            1922-01-01 00:00:00   \n",
       "25%       175.000000      71.000000            1986-01-01 00:00:00   \n",
       "50%       322.000000     145.000000            1994-01-01 00:00:00   \n",
       "75%       631.000000     239.000000            1996-09-28 00:00:00   \n",
       "max      1682.000000     583.000000            1998-10-23 00:00:00   \n",
       "std       330.798356     121.784558                            NaN   \n",
       "\n",
       "       video_release_date  release_year       user_id         rating  \\\n",
       "count                 0.0  99991.000000  100000.00000  100000.000000   \n",
       "mean                  NaN   1987.956216     462.48475       3.529860   \n",
       "min                   NaN   1922.000000       1.00000       1.000000   \n",
       "25%                   NaN   1986.000000     254.00000       3.000000   \n",
       "50%                   NaN   1994.000000     447.00000       4.000000   \n",
       "75%                   NaN   1996.000000     682.00000       4.000000   \n",
       "max                   NaN   1998.000000     943.00000       5.000000   \n",
       "std                   NaN     14.155523     266.61442       1.125674   \n",
       "\n",
       "          timestamp  \n",
       "count  1.000000e+05  \n",
       "mean   8.835289e+08  \n",
       "min    8.747247e+08  \n",
       "25%    8.794487e+08  \n",
       "50%    8.828269e+08  \n",
       "75%    8.882600e+08  \n",
       "max    8.932866e+08  \n",
       "std    5.343856e+06  "
      ]
     },
     "execution_count": 12,
     "metadata": {},
     "output_type": "execute_result"
    }
   ],
   "source": [
    "all_ratings = pd.merge(popularity, all_ratings)\n",
    "all_ratings.describe()"
   ]
  },
  {
   "cell_type": "code",
   "execution_count": 13,
   "metadata": {
    "collapsed": false
   },
   "outputs": [],
   "source": [
    "indexed_items = items.set_index('item_id')"
   ]
  },
  {
   "cell_type": "code",
   "execution_count": 14,
   "metadata": {},
   "outputs": [
    {
     "data": {
      "text/html": [
       "<div>\n",
       "<style scoped>\n",
       "    .dataframe tbody tr th:only-of-type {\n",
       "        vertical-align: middle;\n",
       "    }\n",
       "\n",
       "    .dataframe tbody tr th {\n",
       "        vertical-align: top;\n",
       "    }\n",
       "\n",
       "    .dataframe thead th {\n",
       "        text-align: right;\n",
       "    }\n",
       "</style>\n",
       "<table border=\"1\" class=\"dataframe\">\n",
       "  <thead>\n",
       "    <tr style=\"text-align: right;\">\n",
       "      <th></th>\n",
       "      <th>item_id</th>\n",
       "      <th>popularity</th>\n",
       "      <th>title</th>\n",
       "      <th>release_date</th>\n",
       "      <th>video_release_date</th>\n",
       "      <th>imdb_url</th>\n",
       "      <th>release_year</th>\n",
       "      <th>user_id</th>\n",
       "      <th>rating</th>\n",
       "      <th>timestamp</th>\n",
       "    </tr>\n",
       "  </thead>\n",
       "  <tbody>\n",
       "    <tr>\n",
       "      <th>0</th>\n",
       "      <td>1</td>\n",
       "      <td>452</td>\n",
       "      <td>Toy Story (1995)</td>\n",
       "      <td>1995-01-01</td>\n",
       "      <td>NaN</td>\n",
       "      <td>http://us.imdb.com/M/title-exact?Toy%20Story%2...</td>\n",
       "      <td>1995.0</td>\n",
       "      <td>308</td>\n",
       "      <td>4</td>\n",
       "      <td>887736532</td>\n",
       "    </tr>\n",
       "    <tr>\n",
       "      <th>1</th>\n",
       "      <td>1</td>\n",
       "      <td>452</td>\n",
       "      <td>Toy Story (1995)</td>\n",
       "      <td>1995-01-01</td>\n",
       "      <td>NaN</td>\n",
       "      <td>http://us.imdb.com/M/title-exact?Toy%20Story%2...</td>\n",
       "      <td>1995.0</td>\n",
       "      <td>287</td>\n",
       "      <td>5</td>\n",
       "      <td>875334088</td>\n",
       "    </tr>\n",
       "    <tr>\n",
       "      <th>2</th>\n",
       "      <td>1</td>\n",
       "      <td>452</td>\n",
       "      <td>Toy Story (1995)</td>\n",
       "      <td>1995-01-01</td>\n",
       "      <td>NaN</td>\n",
       "      <td>http://us.imdb.com/M/title-exact?Toy%20Story%2...</td>\n",
       "      <td>1995.0</td>\n",
       "      <td>148</td>\n",
       "      <td>4</td>\n",
       "      <td>877019411</td>\n",
       "    </tr>\n",
       "    <tr>\n",
       "      <th>3</th>\n",
       "      <td>1</td>\n",
       "      <td>452</td>\n",
       "      <td>Toy Story (1995)</td>\n",
       "      <td>1995-01-01</td>\n",
       "      <td>NaN</td>\n",
       "      <td>http://us.imdb.com/M/title-exact?Toy%20Story%2...</td>\n",
       "      <td>1995.0</td>\n",
       "      <td>280</td>\n",
       "      <td>4</td>\n",
       "      <td>891700426</td>\n",
       "    </tr>\n",
       "    <tr>\n",
       "      <th>4</th>\n",
       "      <td>1</td>\n",
       "      <td>452</td>\n",
       "      <td>Toy Story (1995)</td>\n",
       "      <td>1995-01-01</td>\n",
       "      <td>NaN</td>\n",
       "      <td>http://us.imdb.com/M/title-exact?Toy%20Story%2...</td>\n",
       "      <td>1995.0</td>\n",
       "      <td>66</td>\n",
       "      <td>3</td>\n",
       "      <td>883601324</td>\n",
       "    </tr>\n",
       "  </tbody>\n",
       "</table>\n",
       "</div>"
      ],
      "text/plain": [
       "   item_id  popularity             title release_date  video_release_date  \\\n",
       "0        1         452  Toy Story (1995)   1995-01-01                 NaN   \n",
       "1        1         452  Toy Story (1995)   1995-01-01                 NaN   \n",
       "2        1         452  Toy Story (1995)   1995-01-01                 NaN   \n",
       "3        1         452  Toy Story (1995)   1995-01-01                 NaN   \n",
       "4        1         452  Toy Story (1995)   1995-01-01                 NaN   \n",
       "\n",
       "                                            imdb_url  release_year  user_id  \\\n",
       "0  http://us.imdb.com/M/title-exact?Toy%20Story%2...        1995.0      308   \n",
       "1  http://us.imdb.com/M/title-exact?Toy%20Story%2...        1995.0      287   \n",
       "2  http://us.imdb.com/M/title-exact?Toy%20Story%2...        1995.0      148   \n",
       "3  http://us.imdb.com/M/title-exact?Toy%20Story%2...        1995.0      280   \n",
       "4  http://us.imdb.com/M/title-exact?Toy%20Story%2...        1995.0       66   \n",
       "\n",
       "   rating  timestamp  \n",
       "0       4  887736532  \n",
       "1       5  875334088  \n",
       "2       4  877019411  \n",
       "3       4  891700426  \n",
       "4       3  883601324  "
      ]
     },
     "execution_count": 14,
     "metadata": {},
     "output_type": "execute_result"
    }
   ],
   "source": [
    "all_ratings.head()"
   ]
  },
  {
   "cell_type": "markdown",
   "metadata": {
    "collapsed": false
   },
   "source": [
    "**Quick Exercise**:\n",
    "\n",
    "As we have seen, the `groupby` method is a powerful tool to quickly compute statistics on the data. Use it to compute the average rating for each movie.\n",
    "\n",
    "**Hint**: you can use the `mean` method after the `groupby` method."
   ]
  },
  {
   "cell_type": "code",
   "execution_count": 15,
   "metadata": {
    "collapsed": false
   },
   "outputs": [
    {
     "data": {
      "text/html": [
       "<div>\n",
       "<style scoped>\n",
       "    .dataframe tbody tr th:only-of-type {\n",
       "        vertical-align: middle;\n",
       "    }\n",
       "\n",
       "    .dataframe tbody tr th {\n",
       "        vertical-align: top;\n",
       "    }\n",
       "\n",
       "    .dataframe thead th {\n",
       "        text-align: right;\n",
       "    }\n",
       "</style>\n",
       "<table border=\"1\" class=\"dataframe\">\n",
       "  <thead>\n",
       "    <tr style=\"text-align: right;\">\n",
       "      <th></th>\n",
       "      <th>num_ratings</th>\n",
       "      <th>avg_rating</th>\n",
       "    </tr>\n",
       "    <tr>\n",
       "      <th>title</th>\n",
       "      <th></th>\n",
       "      <th></th>\n",
       "    </tr>\n",
       "  </thead>\n",
       "  <tbody>\n",
       "    <tr>\n",
       "      <th>'Til There Was You (1997)</th>\n",
       "      <td>9</td>\n",
       "      <td>2.333333</td>\n",
       "    </tr>\n",
       "    <tr>\n",
       "      <th>1-900 (1994)</th>\n",
       "      <td>5</td>\n",
       "      <td>2.600000</td>\n",
       "    </tr>\n",
       "    <tr>\n",
       "      <th>101 Dalmatians (1996)</th>\n",
       "      <td>109</td>\n",
       "      <td>2.908257</td>\n",
       "    </tr>\n",
       "    <tr>\n",
       "      <th>12 Angry Men (1957)</th>\n",
       "      <td>125</td>\n",
       "      <td>4.344000</td>\n",
       "    </tr>\n",
       "    <tr>\n",
       "      <th>187 (1997)</th>\n",
       "      <td>41</td>\n",
       "      <td>3.024390</td>\n",
       "    </tr>\n",
       "    <tr>\n",
       "      <th>...</th>\n",
       "      <td>...</td>\n",
       "      <td>...</td>\n",
       "    </tr>\n",
       "    <tr>\n",
       "      <th>Young Guns II (1990)</th>\n",
       "      <td>44</td>\n",
       "      <td>2.772727</td>\n",
       "    </tr>\n",
       "    <tr>\n",
       "      <th>Young Poisoner's Handbook, The (1995)</th>\n",
       "      <td>41</td>\n",
       "      <td>3.341463</td>\n",
       "    </tr>\n",
       "    <tr>\n",
       "      <th>Zeus and Roxanne (1997)</th>\n",
       "      <td>6</td>\n",
       "      <td>2.166667</td>\n",
       "    </tr>\n",
       "    <tr>\n",
       "      <th>unknown</th>\n",
       "      <td>9</td>\n",
       "      <td>3.444444</td>\n",
       "    </tr>\n",
       "    <tr>\n",
       "      <th>Á köldum klaka (Cold Fever) (1994)</th>\n",
       "      <td>1</td>\n",
       "      <td>3.000000</td>\n",
       "    </tr>\n",
       "  </tbody>\n",
       "</table>\n",
       "<p>1664 rows × 2 columns</p>\n",
       "</div>"
      ],
      "text/plain": [
       "                                       num_ratings  avg_rating\n",
       "title                                                         \n",
       "'Til There Was You (1997)                        9    2.333333\n",
       "1-900 (1994)                                     5    2.600000\n",
       "101 Dalmatians (1996)                          109    2.908257\n",
       "12 Angry Men (1957)                            125    4.344000\n",
       "187 (1997)                                      41    3.024390\n",
       "...                                            ...         ...\n",
       "Young Guns II (1990)                            44    2.772727\n",
       "Young Poisoner's Handbook, The (1995)           41    3.341463\n",
       "Zeus and Roxanne (1997)                          6    2.166667\n",
       "unknown                                          9    3.444444\n",
       "Á köldum klaka (Cold Fever) (1994)               1    3.000000\n",
       "\n",
       "[1664 rows x 2 columns]"
      ]
     },
     "execution_count": 15,
     "metadata": {},
     "output_type": "execute_result"
    }
   ],
   "source": [
    "all_ratings.groupby('title').agg(\n",
    "  num_ratings=('rating', 'count'),\n",
    "  avg_rating=('rating', 'mean'),\n",
    ")"
   ]
  },
  {
   "cell_type": "markdown",
   "metadata": {},
   "source": [
    "Let's split the enriched data in a train / test split to make it possible to do predictive modeling:"
   ]
  },
  {
   "cell_type": "code",
   "execution_count": 16,
   "metadata": {},
   "outputs": [],
   "source": [
    "from sklearn.model_selection import train_test_split\n",
    "\n",
    "ratings_train, ratings_test = train_test_split(\n",
    "    all_ratings, test_size=0.2, random_state=0)\n",
    "\n",
    "user_id_train = np.array(ratings_train['user_id'])\n",
    "item_id_train = np.array(ratings_train['item_id'])\n",
    "rating_train = np.array(ratings_train['rating'])\n",
    "\n",
    "user_id_test = np.array(ratings_test['user_id'])\n",
    "item_id_test = np.array(ratings_test['item_id'])\n",
    "rating_test = np.array(ratings_test['rating'])"
   ]
  },
  {
   "cell_type": "markdown",
   "metadata": {},
   "source": [
    "# Explicit feedback: supervised ratings prediction\n",
    "\n",
    "Now let's begin to do some recommendation! We will build a model that takes a user and a movie as input and outputs a predicted rating. We will be taking advantage of embeddings to represent users and movies. That means that each movie and user will have an abstract representation in a continuous vector space. The model will learn these representations based on the ratings."
   ]
  },
  {
   "cell_type": "markdown",
   "metadata": {},
   "source": [
    "## Predictive ratings  as a regression problem\n",
    "\n",
    "The following code implements the following architecture:\n",
    "\n",
    "<img src=\"https://raw.githubusercontent.com/UofT-DSI/deep_learning/refs/heads/main/01_materials/labs/images/rec_archi_1.svg\" style=\"width: 600px;\" />"
   ]
  },
  {
   "cell_type": "code",
   "execution_count": 17,
   "metadata": {},
   "outputs": [],
   "source": [
    "from tensorflow.keras.layers import Embedding, Flatten, Dense, Dropout\n",
    "from tensorflow.keras.layers import Dot\n",
    "from tensorflow.keras.models import Model"
   ]
  },
  {
   "cell_type": "code",
   "execution_count": 18,
   "metadata": {},
   "outputs": [],
   "source": [
    "# For each sample we input the integer identifiers\n",
    "# of a single user and a single item\n",
    "class RegressionModel(Model):\n",
    "    def __init__(self, embedding_size, max_user_id, max_item_id):\n",
    "        super().__init__()\n",
    "        \n",
    "        self.user_embedding = Embedding(output_dim=embedding_size,\n",
    "                                        input_dim=max_user_id + 1,\n",
    "                                        name='user_embedding')\n",
    "        self.item_embedding = Embedding(output_dim=embedding_size,\n",
    "                                        input_dim=max_item_id + 1,\n",
    "                                        name='item_embedding')\n",
    "        \n",
    "        # The following two layers don't have parameters.\n",
    "        self.flatten = Flatten()\n",
    "        self.dot = Dot(axes=1)\n",
    "        \n",
    "    def call(self, inputs):\n",
    "        user_inputs = inputs[0]\n",
    "        item_inputs = inputs[1]\n",
    "        \n",
    "        user_vecs = self.flatten(self.user_embedding(user_inputs))\n",
    "        item_vecs = self.flatten(self.item_embedding(item_inputs))\n",
    "        \n",
    "        y = self.dot([user_vecs, item_vecs])\n",
    "        return y\n",
    "\n",
    "\n",
    "model = RegressionModel(embedding_size=64, max_user_id=all_ratings['user_id'].max(), max_item_id=all_ratings['item_id'].max())\n",
    "model.compile(optimizer=\"adam\", loss='mae')"
   ]
  },
  {
   "cell_type": "markdown",
   "metadata": {},
   "source": [
    "### Monitoring runs\n",
    "\n",
    "When training a model with Keras, we get a `history` object back that contains lots of information about the training run. We can use this to plot the training and validation loss to see how the model has improved during training."
   ]
  },
  {
   "cell_type": "code",
   "execution_count": 19,
   "metadata": {},
   "outputs": [
    {
     "name": "stdout",
     "output_type": "stream",
     "text": [
      "Epoch 1/10\n",
      "\u001b[1m1125/1125\u001b[0m \u001b[32m━━━━━━━━━━━━━━━━━━━━\u001b[0m\u001b[37m\u001b[0m \u001b[1m2s\u001b[0m 2ms/step - loss: 3.3189 - val_loss: 1.0515\n",
      "Epoch 2/10\n",
      "\u001b[1m1125/1125\u001b[0m \u001b[32m━━━━━━━━━━━━━━━━━━━━\u001b[0m\u001b[37m\u001b[0m \u001b[1m2s\u001b[0m 2ms/step - loss: 0.9113 - val_loss: 0.7929\n",
      "Epoch 3/10\n",
      "\u001b[1m1125/1125\u001b[0m \u001b[32m━━━━━━━━━━━━━━━━━━━━\u001b[0m\u001b[37m\u001b[0m \u001b[1m2s\u001b[0m 2ms/step - loss: 0.7485 - val_loss: 0.7653\n",
      "Epoch 4/10\n",
      "\u001b[1m1125/1125\u001b[0m \u001b[32m━━━━━━━━━━━━━━━━━━━━\u001b[0m\u001b[37m\u001b[0m \u001b[1m2s\u001b[0m 2ms/step - loss: 0.7208 - val_loss: 0.7488\n",
      "Epoch 5/10\n",
      "\u001b[1m1125/1125\u001b[0m \u001b[32m━━━━━━━━━━━━━━━━━━━━\u001b[0m\u001b[37m\u001b[0m \u001b[1m2s\u001b[0m 2ms/step - loss: 0.6957 - val_loss: 0.7433\n",
      "Epoch 6/10\n",
      "\u001b[1m1125/1125\u001b[0m \u001b[32m━━━━━━━━━━━━━━━━━━━━\u001b[0m\u001b[37m\u001b[0m \u001b[1m2s\u001b[0m 2ms/step - loss: 0.6780 - val_loss: 0.7389\n",
      "Epoch 7/10\n",
      "\u001b[1m1125/1125\u001b[0m \u001b[32m━━━━━━━━━━━━━━━━━━━━\u001b[0m\u001b[37m\u001b[0m \u001b[1m2s\u001b[0m 1ms/step - loss: 0.6558 - val_loss: 0.7395\n",
      "Epoch 8/10\n",
      "\u001b[1m1125/1125\u001b[0m \u001b[32m━━━━━━━━━━━━━━━━━━━━\u001b[0m\u001b[37m\u001b[0m \u001b[1m2s\u001b[0m 1ms/step - loss: 0.6328 - val_loss: 0.7373\n",
      "Epoch 9/10\n",
      "\u001b[1m1125/1125\u001b[0m \u001b[32m━━━━━━━━━━━━━━━━━━━━\u001b[0m\u001b[37m\u001b[0m \u001b[1m3s\u001b[0m 2ms/step - loss: 0.6085 - val_loss: 0.7388\n",
      "Epoch 10/10\n",
      "\u001b[1m1125/1125\u001b[0m \u001b[32m━━━━━━━━━━━━━━━━━━━━\u001b[0m\u001b[37m\u001b[0m \u001b[1m2s\u001b[0m 1ms/step - loss: 0.5886 - val_loss: 0.7391\n",
      "CPU times: user 21.5 s, sys: 6.98 s, total: 28.5 s\n",
      "Wall time: 18.9 s\n"
     ]
    }
   ],
   "source": [
    "%%time\n",
    "\n",
    "# Training the model\n",
    "history = model.fit([user_id_train, item_id_train], rating_train,\n",
    "                    batch_size=64, epochs=10, validation_split=0.1,\n",
    "                    shuffle=True)"
   ]
  },
  {
   "cell_type": "code",
   "execution_count": 20,
   "metadata": {},
   "outputs": [
    {
     "data": {
      "image/png": "[encoded data removed]",
      "text/plain": [
       "<Figure size 640x480 with 1 Axes>"
      ]
     },
     "metadata": {},
     "output_type": "display_data"
    }
   ],
   "source": [
    "plt.plot(history.history['loss'], label='train')\n",
    "plt.plot(history.history['val_loss'], label='validation')\n",
    "plt.ylim(0, 2)\n",
    "plt.legend(loc='best')\n",
    "plt.title('Loss');"
   ]
  },
  {
   "cell_type": "markdown",
   "metadata": {},
   "source": [
    "**Questions**:\n",
    "\n",
    "- Does it look like our model has overfit? Why or why not?  \n",
    "Your Answer: ____________ Yes, it overfits, because train and validation loss are almost same.\n",
    "- Suggest something we could do to prevent overfitting.  \n",
    "Your Answer: ____________ \n",
    "\n",
    "Now that the model is trained, let's check out the quality of predictions:"
   ]
  },
  {
   "cell_type": "code",
   "execution_count": 21,
   "metadata": {},
   "outputs": [],
   "source": [
    "def plot_predictions(y_true, y_pred):\n",
    "    plt.figure(figsize=(4, 4))\n",
    "    plt.xlim(-1, 6)\n",
    "    plt.xlabel(\"True rating\")\n",
    "    plt.ylim(-1, 6)\n",
    "    plt.ylabel(\"Predicted rating\")\n",
    "    plt.scatter(y_true, y_pred, s=60, alpha=0.01)"
   ]
  },
  {
   "cell_type": "code",
   "execution_count": 22,
   "metadata": {},
   "outputs": [
    {
     "name": "stdout",
     "output_type": "stream",
     "text": [
      "\u001b[1m625/625\u001b[0m \u001b[32m━━━━━━━━━━━━━━━━━━━━\u001b[0m\u001b[37m\u001b[0m \u001b[1m0s\u001b[0m 506us/step\n",
      "Final test MSE: 0.897\n",
      "Final test MAE: 0.731\n"
     ]
    },
    {
     "data": {
      "image/png": "[encoded data removed]",
      "text/plain": [
       "<Figure size 400x400 with 1 Axes>"
      ]
     },
     "metadata": {},
     "output_type": "display_data"
    }
   ],
   "source": [
    "from sklearn.metrics import mean_squared_error\n",
    "from sklearn.metrics import mean_absolute_error\n",
    "\n",
    "test_preds = model.predict([user_id_test, item_id_test])\n",
    "print(\"Final test MSE: %0.3f\" % mean_squared_error(test_preds, rating_test))\n",
    "print(\"Final test MAE: %0.3f\" % mean_absolute_error(test_preds, rating_test))\n",
    "plot_predictions(rating_test, test_preds)"
   ]
  },
  {
   "cell_type": "markdown",
   "metadata": {
    "collapsed": false
   },
   "source": [
    "This graph shows us the range of predicted ratings our model gives, organized by the true rating. We can see that generally, the higher the true rating the higher the predicted rating, although there is quite a range of predictions for each instance. That's okay - our model is very simple, and human preferences are very complex!\n",
    "\n",
    "Taking a look at the Mean Absolute Error, hopefully you got something around 0.75. This means that, on average, our predicted ratings are about 0.75 stars off from the true ratings. This is a pretty good result for a first attempt. We could probably do better with a more complex model, but we'll leave that for another time."
   ]
  },
  {
   "cell_type": "markdown",
   "metadata": {},
   "source": [
    "### Model Embeddings\n",
    "\n",
    "Our model was built with two embedding layers. These layers have learned a representation of both the users and the movies in our dataset. We can extract these representations and use them to find similar movies or users. We can also do interesting exploratory analysis, like finding the most popular movies among our users, or finding the users that are most interested in a given movie."
   ]
  },
  {
   "cell_type": "code",
   "execution_count": 23,
   "metadata": {},
   "outputs": [
    {
     "data": {
      "text/plain": [
       "[(944, 64), (1683, 64)]"
      ]
     },
     "execution_count": 23,
     "metadata": {},
     "output_type": "execute_result"
    }
   ],
   "source": [
    "# weights and shape\n",
    "weights = model.get_weights()\n",
    "[w.shape for w in weights]"
   ]
  },
  {
   "cell_type": "code",
   "execution_count": 24,
   "metadata": {},
   "outputs": [],
   "source": [
    "user_embeddings = weights[0]\n",
    "item_embeddings = weights[1]"
   ]
  },
  {
   "cell_type": "code",
   "execution_count": 25,
   "metadata": {},
   "outputs": [
    {
     "name": "stdout",
     "output_type": "stream",
     "text": [
      "Title for item_id=181: Return of the Jedi (1983)\n"
     ]
    }
   ],
   "source": [
    "item_id = 181\n",
    "print(f\"Title for item_id={item_id}: {indexed_items['title'][item_id]}\")"
   ]
  },
  {
   "cell_type": "code",
   "execution_count": 26,
   "metadata": {},
   "outputs": [
    {
     "name": "stdout",
     "output_type": "stream",
     "text": [
      "Embedding vector for item_id=181\n",
      "[-0.38877073 -0.23324428  0.40001932  0.25253665  0.34384537 -0.3295874\n",
      " -0.42965737 -0.1689939   0.44581258 -0.029267   -0.08629837  0.3385953\n",
      " -0.47961178 -0.01020198 -0.5128352  -0.27278525  0.20243146 -0.43040708\n",
      " -0.02607542 -0.27698815 -0.43400744  0.04285605  0.5662385  -0.38267332\n",
      "  0.2757949  -0.28191674  0.07046349  0.07318527 -0.24058387  0.1544108\n",
      " -0.38053888  0.18689603  0.3198233  -0.41535732  0.43841705  0.36227858\n",
      "  0.49574006 -0.34335437 -0.30768842  0.35437945 -0.32295638 -0.36118904\n",
      " -0.03310502  0.36791658  0.322171    0.37707552 -0.14542957 -0.34103537\n",
      "  0.5304153   0.28535312 -0.06373677  0.39827788 -0.2303025   0.60322833\n",
      "  0.47855175  0.36117628  0.43227363  0.18518992 -0.16847575 -0.3975712\n",
      " -0.38732007 -0.38122034  0.2006094  -0.06673076]\n",
      "shape: (64,)\n"
     ]
    }
   ],
   "source": [
    "print(f\"Embedding vector for item_id={item_id}\")\n",
    "print(item_embeddings[item_id])\n",
    "print(\"shape:\", item_embeddings[item_id].shape)"
   ]
  },
  {
   "cell_type": "markdown",
   "metadata": {
    "collapsed": false
   },
   "source": [
    "As we discussed in lecture, our embeddings are not directly interpretable - we can't look at, say, a value of 0.297 in the embedding vector and say \"this means that the movie is a drama\". As an aside, there is a field of research dedicated to making _interpretable_ embeddings, but it's not something we'll cover in this course. "
   ]
  },
  {
   "cell_type": "markdown",
   "metadata": {},
   "source": [
    "### Finding our most similar items\n",
    "\n",
    "Now we can have some fun, investigating the embeddings we've learned. We can start by finding the most similar items to a given item. We can do this by computing the cosine similarity between the item's embedding and the embedding of every other item. We can use the `cosine_similarity` function from `sklearn` to do this."
   ]
  },
  {
   "cell_type": "code",
   "execution_count": 27,
   "metadata": {
    "collapsed": false
   },
   "outputs": [],
   "source": [
    "from sklearn.metrics.pairwise import cosine_similarity\n",
    "\n",
    "def cosine(a, b):\n",
    "    # Reshape to the shape our function expects\n",
    "    a = a.reshape(1, -1)\n",
    "    b = b.reshape(1, -1)\n",
    "    return cosine_similarity(a, b)[0, 0]"
   ]
  },
  {
   "cell_type": "code",
   "execution_count": 28,
   "metadata": {},
   "outputs": [
    {
     "name": "stdout",
     "output_type": "stream",
     "text": [
      "Star Wars (1977)\n",
      "Return of the Jedi (1983)\n",
      "Cosine similarity: 0.915\n"
     ]
    }
   ],
   "source": [
    "def print_similarity(item_a, item_b, item_embeddings, titles):\n",
    "    print(titles[item_a])\n",
    "    print(titles[item_b])\n",
    "    similarity = cosine(item_embeddings[item_a],\n",
    "                        item_embeddings[item_b])\n",
    "    print(f\"Cosine similarity: {similarity:.3}\")\n",
    "    \n",
    "print_similarity(50, 181, item_embeddings, indexed_items[\"title\"])"
   ]
  },
  {
   "cell_type": "markdown",
   "metadata": {
    "collapsed": false
   },
   "source": [
    "It makes sense that the original Star Wars, and its later sequel Return of the Jedi have a high similarity. Let's try some other examples:"
   ]
  },
  {
   "cell_type": "code",
   "execution_count": 29,
   "metadata": {},
   "outputs": [
    {
     "name": "stdout",
     "output_type": "stream",
     "text": [
      "Return of the Jedi (1983)\n",
      "Scream (1996)\n",
      "Cosine similarity: 0.74\n"
     ]
    }
   ],
   "source": [
    "print_similarity(181, 288, item_embeddings, indexed_items[\"title\"])"
   ]
  },
  {
   "cell_type": "code",
   "execution_count": 30,
   "metadata": {},
   "outputs": [
    {
     "name": "stdout",
     "output_type": "stream",
     "text": [
      "Return of the Jedi (1983)\n",
      "Toy Story (1995)\n",
      "Cosine similarity: 0.858\n"
     ]
    }
   ],
   "source": [
    "print_similarity(181, 1, item_embeddings, indexed_items[\"title\"])"
   ]
  },
  {
   "cell_type": "code",
   "execution_count": 31,
   "metadata": {},
   "outputs": [
    {
     "name": "stdout",
     "output_type": "stream",
     "text": [
      "Return of the Jedi (1983)\n",
      "Return of the Jedi (1983)\n",
      "Cosine similarity: 1.0\n"
     ]
    }
   ],
   "source": [
    "print_similarity(181, 181, item_embeddings, indexed_items[\"title\"])"
   ]
  },
  {
   "cell_type": "markdown",
   "metadata": {
    "collapsed": false
   },
   "source": [
    "*Quick Exercise*:\n",
    "\n",
    "- Find some other films and compare their similarity. Do the results make sense to you? Can you find a pair of films that are very _dissimilar_?"
   ]
  },
  {
   "cell_type": "code",
   "execution_count": 37,
   "metadata": {
    "collapsed": false
   },
   "outputs": [
    {
     "name": "stdout",
     "output_type": "stream",
     "text": [
      "Star Wars movies:\n"
     ]
    },
    {
     "data": {
      "text/html": [
       "<div>\n",
       "<style scoped>\n",
       "    .dataframe tbody tr th:only-of-type {\n",
       "        vertical-align: middle;\n",
       "    }\n",
       "\n",
       "    .dataframe tbody tr th {\n",
       "        vertical-align: top;\n",
       "    }\n",
       "\n",
       "    .dataframe thead th {\n",
       "        text-align: right;\n",
       "    }\n",
       "</style>\n",
       "<table border=\"1\" class=\"dataframe\">\n",
       "  <thead>\n",
       "    <tr style=\"text-align: right;\">\n",
       "      <th></th>\n",
       "      <th>popularity</th>\n",
       "      <th>title</th>\n",
       "      <th>release_date</th>\n",
       "      <th>video_release_date</th>\n",
       "      <th>imdb_url</th>\n",
       "      <th>release_year</th>\n",
       "    </tr>\n",
       "    <tr>\n",
       "      <th>item_id</th>\n",
       "      <th></th>\n",
       "      <th></th>\n",
       "      <th></th>\n",
       "      <th></th>\n",
       "      <th></th>\n",
       "      <th></th>\n",
       "    </tr>\n",
       "  </thead>\n",
       "  <tbody>\n",
       "    <tr>\n",
       "      <th>50</th>\n",
       "      <td>583</td>\n",
       "      <td>Star Wars (1977)</td>\n",
       "      <td>1977-01-01</td>\n",
       "      <td>NaN</td>\n",
       "      <td>http://us.imdb.com/M/title-exact?Star%20Wars%2...</td>\n",
       "      <td>1977.0</td>\n",
       "    </tr>\n",
       "  </tbody>\n",
       "</table>\n",
       "</div>"
      ],
      "text/plain": [
       "         popularity             title release_date  video_release_date  \\\n",
       "item_id                                                                  \n",
       "50              583  Star Wars (1977)   1977-01-01                 NaN   \n",
       "\n",
       "                                                  imdb_url  release_year  \n",
       "item_id                                                                   \n",
       "50       http://us.imdb.com/M/title-exact?Star%20Wars%2...        1977.0  "
      ]
     },
     "execution_count": 37,
     "metadata": {},
     "output_type": "execute_result"
    }
   ],
   "source": [
    "# Code to help you search for a movie title\n",
    "def search_movies(partial_title):\n",
    "    \"\"\"Search for movies with titles containing the given string\"\"\"\n",
    "    return indexed_items[indexed_items['title'].str.contains(partial_title, case=False)]\n",
    "\n",
    "# Let's search for some movies from different genres\n",
    "print(\"Star Wars movies:\")\n",
    "search_movies(\"Star Wars\")"
   ]
  },
  {
   "cell_type": "code",
   "execution_count": 38,
   "metadata": {},
   "outputs": [
    {
     "name": "stdout",
     "output_type": "stream",
     "text": [
      "Comparing Star Wars movies:\n",
      "Return of the Jedi (1983)\n",
      "Independence Day (ID4) (1996)\n",
      "Cosine similarity: 0.804\n",
      "\n",
      "Comparing comedies:\n",
      "Stargate (1994)\n",
      "When Harry Met Sally... (1989)\n",
      "Cosine similarity: 0.652\n",
      "\n",
      "Comparing action films:\n",
      "True Romance (1993)\n",
      "Black Sheep (1996)\n",
      "Cosine similarity: 0.699\n"
     ]
    }
   ],
   "source": [
    "# Let's look at some similar films (same genre/franchise)\n",
    "print(\"Comparing Star Wars movies:\")\n",
    "print_similarity(181, 121, item_embeddings, indexed_items[\"title\"])  # Return of the Jedi vs. Empire Strikes Back\n",
    "\n",
    "print(\"\\nComparing comedies:\")\n",
    "search_movies(\"Comedy\")\n",
    "print_similarity(62, 216, item_embeddings, indexed_items[\"title\"])  # Mr. Holland's Opus vs. Mr. Smith Goes to Washington\n",
    "\n",
    "print(\"\\nComparing action films:\")\n",
    "print_similarity(92, 369, item_embeddings, indexed_items[\"title\"])  # Terminator 2 vs. True Lies (both Arnold Schwarzenegger movies)"
   ]
  },
  {
   "cell_type": "code",
   "execution_count": 39,
   "metadata": {},
   "outputs": [
    {
     "name": "stdout",
     "output_type": "stream",
     "text": [
      "Finding dissimilar films:\n",
      "\n",
      "Science Fiction vs. Children's Animation:\n",
      "Return of the Jedi (1983)\n",
      "Rainmaker, The (1997)\n",
      "Cosine similarity: 0.778\n",
      "\n",
      "Horror vs. Comedy:\n",
      "Pulp Fiction (1994)\n",
      "Star Trek VI: The Undiscovered Country (1991)\n",
      "Cosine similarity: 0.649\n",
      "\n",
      "Romantic Drama vs. Action:\n",
      "Evil Dead II (1987)\n",
      "True Romance (1993)\n",
      "Cosine similarity: 0.868\n"
     ]
    }
   ],
   "source": [
    "# Let's find some very dissimilar films (different genres/target audiences)\n",
    "print(\"Finding dissimilar films:\")\n",
    "print(\"\\nScience Fiction vs. Children's Animation:\")\n",
    "print_similarity(181, 310, item_embeddings, indexed_items[\"title\"])  # Return of the Jedi vs. Lion King\n",
    "\n",
    "print(\"\\nHorror vs. Comedy:\")\n",
    "search_movies(\"Horror\")\n",
    "print_similarity(56, 227, item_embeddings, indexed_items[\"title\"])  # Psycho vs. Dumb & Dumber\n",
    "\n",
    "print(\"\\nRomantic Drama vs. Action:\")\n",
    "search_movies(\"Romance\")\n",
    "print_similarity(201, 92, item_embeddings, indexed_items[\"title\"])  # Sense and Sensibility vs. Terminator 2"
   ]
  },
  {
   "cell_type": "code",
   "execution_count": 40,
   "metadata": {},
   "outputs": [
    {
     "name": "stdout",
     "output_type": "stream",
     "text": [
      "Most dissimilar movies to 'Return of the Jedi (1983)':\n",
      "Beyond Bedlam (1993) - Similarity: -0.310\n",
      "Desert Winds (1995) - Similarity: -0.282\n",
      "Symphonie pastorale, La (1946) - Similarity: -0.233\n",
      "New York Cop (1996) - Similarity: -0.199\n",
      "Show, The (1995) - Similarity: -0.193\n",
      "\n",
      "\n",
      "Most dissimilar movies to 'Star Trek VI: The Undiscovered Country (1991)':\n",
      "Beyond Bedlam (1993) - Similarity: -0.258\n",
      "Quartier Mozart (1992) - Similarity: -0.216\n",
      "Symphonie pastorale, La (1946) - Similarity: -0.205\n",
      "New York Cop (1996) - Similarity: -0.202\n",
      "Brothers in Trouble (1995) - Similarity: -0.181\n"
     ]
    },
    {
     "data": {
      "text/plain": [
       "[(784, np.float32(-0.25809687)),\n",
       " (1570, np.float32(-0.21606645)),\n",
       " (1584, np.float32(-0.20499568)),\n",
       " (1304, np.float32(-0.20164423)),\n",
       " (1636, np.float32(-0.18072405))]"
      ]
     },
     "execution_count": 40,
     "metadata": {},
     "output_type": "execute_result"
    }
   ],
   "source": [
    "# Let's create a function to find the most dissimilar movies\n",
    "def most_dissimilar(item_id, item_embeddings, titles, top_n=5):\n",
    "    \"\"\"Find the most dissimilar movies to the given movie ID\"\"\"\n",
    "    # Calculate cosine similarities with all movies\n",
    "    similarities = []\n",
    "    for i in range(len(item_embeddings)):\n",
    "        if i != item_id:  # Skip comparing with self\n",
    "            sim = cosine(item_embeddings[item_id], item_embeddings[i])\n",
    "            similarities.append((i, sim))\n",
    "    \n",
    "    # Sort by similarity (ascending to get most dissimilar first)\n",
    "    similarities.sort(key=lambda x: x[1])\n",
    "    \n",
    "    print(f\"Most dissimilar movies to '{titles[item_id]}':\")\n",
    "    for i in range(min(top_n, len(similarities))):\n",
    "        movie_id, similarity = similarities[i]\n",
    "        print(f\"{titles[movie_id]} - Similarity: {similarity:.3f}\")\n",
    "    \n",
    "    return similarities[:top_n]\n",
    "\n",
    "# Try with Star Wars and a comedy\n",
    "most_dissimilar(181, item_embeddings, indexed_items[\"title\"])  # Most dissimilar to Return of the Jedi\n",
    "print(\"\\n\")\n",
    "most_dissimilar(227, item_embeddings, indexed_items[\"title\"])  # Most dissimilar to Dumb & Dumber"
   ]
  },
  {
   "cell_type": "markdown",
   "metadata": {},
   "source": [
    "### Observations on Movie Similarities\n",
    "\n",
    "The results show that films in the same genre/franchise have high similarity scores (close to 1.0), while films from different genres have low or negative similarity scores, reflecting different audience preferences.\n",
    "\n",
    "This demonstrates how collaborative filtering can capture semantic relationships between items without explicitly using content features - it learns these relationships purely from user interaction patterns."
   ]
  },
  {
   "cell_type": "markdown",
   "metadata": {
    "collapsed": false
   },
   "source": [
    "Sometimes, even without knowing anything about a user, we can recommend films by asking them about a film that they do like. The code below compares the similarity of a given film to all others, and returns the most similar films."
   ]
  },
  {
   "cell_type": "code",
   "execution_count": 41,
   "metadata": {},
   "outputs": [
    {
     "data": {
      "text/plain": [
       "[(np.int64(50), 'Star Wars (1977)', np.float32(0.9999999)),\n",
       " (np.int64(181), 'Return of the Jedi (1983)', np.float32(0.9146121)),\n",
       " (np.int64(172), 'Empire Strikes Back, The (1980)', np.float32(0.90622157)),\n",
       " (np.int64(1554), 'Safe Passage (1994)', np.float32(0.86351407)),\n",
       " (np.int64(173), 'Princess Bride, The (1987)', np.float32(0.85980797)),\n",
       " (np.int64(174), 'Raiders of the Lost Ark (1981)', np.float32(0.85454774)),\n",
       " (np.int64(135), '2001: A Space Odyssey (1968)', np.float32(0.8506997)),\n",
       " (np.int64(257), 'Men in Black (1997)', np.float32(0.84813523)),\n",
       " (np.int64(69), 'Forrest Gump (1994)', np.float32(0.84718955)),\n",
       " (np.int64(293), 'Donnie Brasco (1997)', np.float32(0.8465525))]"
      ]
     },
     "execution_count": 41,
     "metadata": {},
     "output_type": "execute_result"
    }
   ],
   "source": [
    "def most_similar(item_id, item_embeddings, titles,\n",
    "                 top_n=30):\n",
    "    # Compute the cosine similarity between the item and all other items\n",
    "    sims = cosine_similarity(item_embeddings[item_id].reshape(1, -1),\n",
    "                             item_embeddings).ravel()\n",
    "    \n",
    "    # [::-1] makes it possible to reverse the order of a numpy\n",
    "    # array, this is required because most similar items have\n",
    "    # a larger cosine similarity value\n",
    "    sorted_indexes = np.argsort(sims)[::-1]\n",
    "    idxs = sorted_indexes[0:top_n]\n",
    "    return list(zip(idxs, titles[idxs], sims[idxs]))\n",
    "\n",
    "# Find the most similar films to \"Star Wars\"\n",
    "most_similar(50, item_embeddings, indexed_items[\"title\"], top_n=10)"
   ]
  },
  {
   "cell_type": "code",
   "execution_count": 42,
   "metadata": {},
   "outputs": [
    {
     "data": {
      "text/plain": [
       "[(np.int64(227),\n",
       "  'Star Trek VI: The Undiscovered Country (1991)',\n",
       "  np.float32(1.0)),\n",
       " (np.int64(228), 'Star Trek: The Wrath of Khan (1982)', np.float32(0.8965862)),\n",
       " (np.int64(230),\n",
       "  'Star Trek IV: The Voyage Home (1986)',\n",
       "  np.float32(0.8799088)),\n",
       " (np.int64(186), 'Blues Brothers, The (1980)', np.float32(0.8751334)),\n",
       " (np.int64(431), 'Highlander (1986)', np.float32(0.86157316)),\n",
       " (np.int64(636), 'Escape from New York (1981)', np.float32(0.856365)),\n",
       " (np.int64(290), 'Fierce Creatures (1997)', np.float32(0.8526957)),\n",
       " (np.int64(470), 'Tombstone (1993)', np.float32(0.8514906)),\n",
       " (np.int64(152), 'Sleeper (1973)', np.float32(0.84854156)),\n",
       " (np.int64(1657), 'Target (1995)', np.float32(0.8466687))]"
      ]
     },
     "execution_count": 42,
     "metadata": {},
     "output_type": "execute_result"
    }
   ],
   "source": [
    "# Find the most similar films to \"Star Trek VI: The Undiscovered Country\"\n",
    "most_similar(227, item_embeddings, indexed_items[\"title\"], top_n=10)"
   ]
  },
  {
   "cell_type": "markdown",
   "metadata": {},
   "source": [
    "The similarities do not always make sense: the number of ratings is low and the embedding  does not automatically capture semantic relationships in that context. Better representations arise with higher number of ratings, and less overfitting  in models or maybe better loss function, such as those based on implicit feedback."
   ]
  },
  {
   "cell_type": "markdown",
   "metadata": {},
   "source": [
    "### Visualizing embeddings using TSNE\n",
    "\n",
    "The [t-SNE](https://en.wikipedia.org/wiki/T-distributed_stochastic_neighbor_embedding) algorithm enables us to visualize high dimensional vectors in a 2D space by preserving local neighborhoods. We can use it to get a 2D visualization of the item embeddings and see if similar items are close in the embedding space."
   ]
  },
  {
   "cell_type": "code",
   "execution_count": 43,
   "metadata": {},
   "outputs": [],
   "source": [
    "from sklearn.manifold import TSNE\n",
    "\n",
    "item_tsne = TSNE(learning_rate=\"auto\", init=\"pca\", perplexity=30).fit_transform(item_embeddings)"
   ]
  },
  {
   "cell_type": "code",
   "execution_count": 44,
   "metadata": {},
   "outputs": [
    {
     "data": {
      "image/png": "[encoded data removed]",
      "text/plain": [
       "<Figure size 1000x1000 with 1 Axes>"
      ]
     },
     "metadata": {},
     "output_type": "display_data"
    }
   ],
   "source": [
    "import matplotlib.pyplot as plt\n",
    "\n",
    "plt.figure(figsize=(10, 10))\n",
    "plt.scatter(item_tsne[:, 0], item_tsne[:, 1]);\n",
    "plt.xticks(()); plt.yticks(());\n",
    "plt.show()"
   ]
  },
  {
   "cell_type": "code",
   "execution_count": 46,
   "metadata": {},
   "outputs": [
    {
     "name": "stdout",
     "output_type": "stream",
     "text": [
      "Collecting plotly\n",
      "  Downloading plotly-6.2.0-py3-none-any.whl (9.6 MB)\n",
      "\u001b[K     |▌                               | 143 kB 2.8 MB/s eta 0:00:04  Downloading plotly-6.2.0-py3-none-any.whl (9.6 MB)\n",
      "\u001b[K     |████████████████████████████████| 9.6 MB 2.8 MB/s eta 0:00:01\n",
      "\u001b[?25hRequirement already satisfied: packaging in /Users/soumyadey/.pyenv/versions/3.10.0/lib/python3.10/site-packages (from plotly) (24.0)\n",
      "\u001b[K     |████████████████████████████████| 9.6 MB 2.8 MB/s \n",
      "\u001b[?25hRequirement already satisfied: packaging in /Users/soumyadey/.pyenv/versions/3.10.0/lib/python3.10/site-packages (from plotly) (24.0)\n",
      "Collecting narwhals>=1.15.1\n",
      "Collecting narwhals>=1.15.1\n",
      "  Downloading narwhals-1.48.0-py3-none-any.whl (376 kB)\n",
      "\u001b[K     |███████████████████████████████▎| 368 kB 5.9 MB/s eta 0:00:01  Downloading narwhals-1.48.0-py3-none-any.whl (376 kB)\n",
      "\u001b[K     |████████████████████████████████| 376 kB 5.9 MB/s eta 0:00:01\n",
      "\u001b[K     |████████████████████████████████| 376 kB 5.9 MB/s \n",
      "\u001b[?25hInstalling collected packages: narwhals, plotly\n",
      "Installing collected packages: narwhals, plotly\n",
      "Successfully installed narwhals-1.48.0 plotly-6.2.0\n",
      "\u001b[33mWARNING: You are using pip version 21.2.3; however, version 25.1.1 is available.\n",
      "You should consider upgrading via the '/Users/soumyadey/.pyenv/versions/3.10.0/bin/python3.10 -m pip install --upgrade pip' command.\u001b[0m\n",
      "Successfully installed narwhals-1.48.0 plotly-6.2.0\n",
      "\u001b[33mWARNING: You are using pip version 21.2.3; however, version 25.1.1 is available.\n",
      "You should consider upgrading via the '/Users/soumyadey/.pyenv/versions/3.10.0/bin/python3.10 -m pip install --upgrade pip' command.\u001b[0m\n"
     ]
    }
   ],
   "source": [
    "!pip install plotly"
   ]
  },
  {
   "cell_type": "code",
   "execution_count": 47,
   "metadata": {
    "tags": []
   },
   "outputs": [
    {
     "ename": "ValueError",
     "evalue": "Mime type rendering requires nbformat>=4.2.0 but it is not installed",
     "output_type": "error",
     "traceback": [
      "\u001b[0;31m---------------------------------------------------------------------------\u001b[0m",
      "\u001b[0;31mValueError\u001b[0m                                Traceback (most recent call last)",
      "File \u001b[0;32m~/.pyenv/versions/3.10.0/lib/python3.10/site-packages/IPython/core/formatters.py:984\u001b[0m, in \u001b[0;36mIPythonDisplayFormatter.__call__\u001b[0;34m(self, obj)\u001b[0m\n\u001b[1;32m    982\u001b[0m method \u001b[38;5;241m=\u001b[39m get_real_method(obj, \u001b[38;5;28mself\u001b[39m\u001b[38;5;241m.\u001b[39mprint_method)\n\u001b[1;32m    983\u001b[0m \u001b[38;5;28;01mif\u001b[39;00m method \u001b[38;5;129;01mis\u001b[39;00m \u001b[38;5;129;01mnot\u001b[39;00m \u001b[38;5;28;01mNone\u001b[39;00m:\n\u001b[0;32m--> 984\u001b[0m     \u001b[43mmethod\u001b[49m\u001b[43m(\u001b[49m\u001b[43m)\u001b[49m\n\u001b[1;32m    985\u001b[0m     \u001b[38;5;28;01mreturn\u001b[39;00m \u001b[38;5;28;01mTrue\u001b[39;00m\n",
      "File \u001b[0;32m~/.pyenv/versions/3.10.0/lib/python3.10/site-packages/plotly/basedatatypes.py:850\u001b[0m, in \u001b[0;36mBaseFigure._ipython_display_\u001b[0;34m(self)\u001b[0m\n\u001b[1;32m    847\u001b[0m \u001b[38;5;28;01mimport\u001b[39;00m \u001b[38;5;21;01mplotly\u001b[39;00m\u001b[38;5;21;01m.\u001b[39;00m\u001b[38;5;21;01mio\u001b[39;00m \u001b[38;5;28;01mas\u001b[39;00m \u001b[38;5;21;01mpio\u001b[39;00m\n\u001b[1;32m    849\u001b[0m \u001b[38;5;28;01mif\u001b[39;00m pio\u001b[38;5;241m.\u001b[39mrenderers\u001b[38;5;241m.\u001b[39mrender_on_display \u001b[38;5;129;01mand\u001b[39;00m pio\u001b[38;5;241m.\u001b[39mrenderers\u001b[38;5;241m.\u001b[39mdefault:\n\u001b[0;32m--> 850\u001b[0m     \u001b[43mpio\u001b[49m\u001b[38;5;241;43m.\u001b[39;49m\u001b[43mshow\u001b[49m\u001b[43m(\u001b[49m\u001b[38;5;28;43mself\u001b[39;49m\u001b[43m)\u001b[49m\n\u001b[1;32m    851\u001b[0m \u001b[38;5;28;01melse\u001b[39;00m:\n\u001b[1;32m    852\u001b[0m     \u001b[38;5;28mprint\u001b[39m(\u001b[38;5;28mrepr\u001b[39m(\u001b[38;5;28mself\u001b[39m))\n",
      "File \u001b[0;32m~/.pyenv/versions/3.10.0/lib/python3.10/site-packages/plotly/io/_renderers.py:415\u001b[0m, in \u001b[0;36mshow\u001b[0;34m(fig, renderer, validate, **kwargs)\u001b[0m\n\u001b[1;32m    410\u001b[0m     \u001b[38;5;28;01mraise\u001b[39;00m \u001b[38;5;167;01mValueError\u001b[39;00m(\n\u001b[1;32m    411\u001b[0m         \u001b[38;5;124m\"\u001b[39m\u001b[38;5;124mMime type rendering requires ipython but it is not installed\u001b[39m\u001b[38;5;124m\"\u001b[39m\n\u001b[1;32m    412\u001b[0m     )\n\u001b[1;32m    414\u001b[0m \u001b[38;5;28;01mif\u001b[39;00m \u001b[38;5;129;01mnot\u001b[39;00m nbformat \u001b[38;5;129;01mor\u001b[39;00m Version(nbformat\u001b[38;5;241m.\u001b[39m__version__) \u001b[38;5;241m<\u001b[39m Version(\u001b[38;5;124m\"\u001b[39m\u001b[38;5;124m4.2.0\u001b[39m\u001b[38;5;124m\"\u001b[39m):\n\u001b[0;32m--> 415\u001b[0m     \u001b[38;5;28;01mraise\u001b[39;00m \u001b[38;5;167;01mValueError\u001b[39;00m(\n\u001b[1;32m    416\u001b[0m         \u001b[38;5;124m\"\u001b[39m\u001b[38;5;124mMime type rendering requires nbformat>=4.2.0 but it is not installed\u001b[39m\u001b[38;5;124m\"\u001b[39m\n\u001b[1;32m    417\u001b[0m     )\n\u001b[1;32m    419\u001b[0m display_jupyter_version_warnings()\n\u001b[1;32m    421\u001b[0m ipython_display\u001b[38;5;241m.\u001b[39mdisplay(bundle, raw\u001b[38;5;241m=\u001b[39m\u001b[38;5;28;01mTrue\u001b[39;00m)\n",
      "\u001b[0;31mValueError\u001b[0m: Mime type rendering requires nbformat>=4.2.0 but it is not installed"
     ]
    },
    {
     "data": {
      "application/vnd.plotly.v1+json": {
       "config": {
        "plotlyServerURL": "https://plot.ly"
       },
       "data": [
        {
         "customdata": [
          [
           1,
           "Toy Story (1995)",
           452
          ],
          [
           2,
           "GoldenEye (1995)",
           131
          ],
          [
           3,
           "Four Rooms (1995)",
           90
          ],
          [
           4,
           "Get Shorty (1995)",
           209
          ],
          [
           5,
           "Copycat (1995)",
           86
          ],
          [
           6,
           "Shanghai Triad (Yao a yao yao dao waipo qiao) (1995)",
           26
          ],
          [
           7,
           "Twelve Monkeys (1995)",
           392
          ],
          [
           8,
           "Babe (1995)",
           219
          ],
          [
           9,
           "Dead Man Walking (1995)",
           299
          ],
          [
           10,
           "Richard III (1995)",
           89
          ],
          [
           11,
           "Seven (Se7en) (1995)",
           236
          ],
          [
           12,
           "Usual Suspects, The (1995)",
           267
          ],
          [
           13,
           "Mighty Aphrodite (1995)",
           184
          ],
          [
           14,
           "Postino, Il (1994)",
           183
          ],
          [
           15,
           "Mr. Holland's Opus (1995)",
           293
          ],
          [
           16,
           "French Twist (Gazon maudit) (1995)",
           39
          ],
          [
           17,
           "From Dusk Till Dawn (1996)",
           92
          ],
          [
           18,
           "White Balloon, The (1995)",
           10
          ],
          [
           19,
           "Antonia's Line (1995)",
           69
          ],
          [
           20,
           "Angels and Insects (1995)",
           72
          ],
          [
           21,
           "Muppet Treasure Island (1996)",
           84
          ],
          [
           22,
           "Braveheart (1995)",
           297
          ],
          [
           23,
           "Taxi Driver (1976)",
           182
          ],
          [
           24,
           "Rumble in the Bronx (1995)",
           174
          ],
          [
           25,
           "Birdcage, The (1996)",
           293
          ],
          [
           26,
           "Brothers McMullen, The (1995)",
           73
          ],
          [
           27,
           "Bad Boys (1995)",
           57
          ],
          [
           28,
           "Apollo 13 (1995)",
           276
          ],
          [
           29,
           "Batman Forever (1995)",
           114
          ],
          [
           30,
           "Belle de jour (1967)",
           37
          ],
          [
           31,
           "Crimson Tide (1995)",
           154
          ],
          [
           32,
           "Crumb (1994)",
           81
          ],
          [
           33,
           "Desperado (1995)",
           97
          ],
          [
           34,
           "Doom Generation, The (1995)",
           7
          ],
          [
           35,
           "Free Willy 2: The Adventure Home (1995)",
           11
          ],
          [
           36,
           "Mad Love (1995)",
           13
          ],
          [
           37,
           "Nadja (1994)",
           8
          ],
          [
           38,
           "Net, The (1995)",
           120
          ],
          [
           39,
           "Strange Days (1995)",
           87
          ],
          [
           40,
           "To Wong Foo, Thanks for Everything! Julie Newmar (1995)",
           57
          ],
          [
           41,
           "Billy Madison (1995)",
           37
          ],
          [
           42,
           "Clerks (1994)",
           148
          ],
          [
           43,
           "Disclosure (1994)",
           40
          ],
          [
           44,
           "Dolores Claiborne (1994)",
           79
          ],
          [
           45,
           "Eat Drink Man Woman (1994)",
           80
          ],
          [
           46,
           "Exotica (1994)",
           27
          ],
          [
           47,
           "Ed Wood (1994)",
           133
          ],
          [
           48,
           "Hoop Dreams (1994)",
           117
          ],
          [
           49,
           "I.Q. (1994)",
           81
          ],
          [
           50,
           "Star Wars (1977)",
           583
          ],
          [
           51,
           "Legends of the Fall (1994)",
           81
          ],
          [
           52,
           "Madness of King George, The (1994)",
           91
          ],
          [
           53,
           "Natural Born Killers (1994)",
           128
          ],
          [
           54,
           "Outbreak (1995)",
           104
          ],
          [
           55,
           "Professional, The (1994)",
           149
          ],
          [
           56,
           "Pulp Fiction (1994)",
           394
          ],
          [
           57,
           "Priest (1994)",
           40
          ],
          [
           58,
           "Quiz Show (1994)",
           175
          ],
          [
           59,
           "Three Colors: Red (1994)",
           83
          ],
          [
           60,
           "Three Colors: Blue (1993)",
           64
          ],
          [
           61,
           "Three Colors: White (1994)",
           59
          ],
          [
           62,
           "Stargate (1994)",
           127
          ],
          [
           63,
           "Santa Clause, The (1994)",
           82
          ],
          [
           64,
           "Shawshank Redemption, The (1994)",
           283
          ],
          [
           65,
           "What's Eating Gilbert Grape (1993)",
           115
          ],
          [
           66,
           "While You Were Sleeping (1995)",
           162
          ],
          [
           67,
           "Ace Ventura: Pet Detective (1994)",
           103
          ],
          [
           68,
           "Crow, The (1994)",
           134
          ],
          [
           69,
           "Forrest Gump (1994)",
           321
          ],
          [
           70,
           "Four Weddings and a Funeral (1994)",
           251
          ],
          [
           71,
           "Lion King, The (1994)",
           220
          ],
          [
           72,
           "Mask, The (1994)",
           129
          ],
          [
           73,
           "Maverick (1994)",
           128
          ],
          [
           74,
           "Faster Pussycat! Kill! Kill! (1965)",
           7
          ],
          [
           75,
           "Brother Minister: The Assassination of Malcolm X (1994)",
           5
          ],
          [
           76,
           "Carlito's Way (1993)",
           54
          ],
          [
           77,
           "Firm, The (1993)",
           151
          ],
          [
           78,
           "Free Willy (1993)",
           33
          ],
          [
           79,
           "Fugitive, The (1993)",
           336
          ],
          [
           80,
           "Hot Shots! Part Deux (1993)",
           68
          ],
          [
           81,
           "Hudsucker Proxy, The (1994)",
           110
          ],
          [
           82,
           "Jurassic Park (1993)",
           261
          ],
          [
           83,
           "Much Ado About Nothing (1993)",
           176
          ],
          [
           84,
           "Robert A. Heinlein's The Puppet Masters (1994)",
           18
          ],
          [
           85,
           "Ref, The (1994)",
           58
          ],
          [
           86,
           "Remains of the Day, The (1993)",
           150
          ],
          [
           87,
           "Searching for Bobby Fischer (1993)",
           138
          ],
          [
           88,
           "Sleepless in Seattle (1993)",
           213
          ],
          [
           89,
           "Blade Runner (1982)",
           275
          ],
          [
           90,
           "So I Married an Axe Murderer (1993)",
           95
          ],
          [
           91,
           "Nightmare Before Christmas, The (1993)",
           143
          ],
          [
           92,
           "True Romance (1993)",
           104
          ],
          [
           93,
           "Welcome to the Dollhouse (1995)",
           112
          ],
          [
           94,
           "Home Alone (1990)",
           137
          ],
          [
           95,
           "Aladdin (1992)",
           219
          ],
          [
           96,
           "Terminator 2: Judgment Day (1991)",
           295
          ],
          [
           97,
           "Dances with Wolves (1990)",
           256
          ],
          [
           98,
           "Silence of the Lambs, The (1991)",
           390
          ],
          [
           99,
           "Snow White and the Seven Dwarfs (1937)",
           172
          ],
          [
           100,
           "Fargo (1996)",
           508
          ],
          [
           101,
           "Heavy Metal (1981)",
           73
          ],
          [
           102,
           "Aristocats, The (1970)",
           54
          ],
          [
           103,
           "All Dogs Go to Heaven 2 (1996)",
           15
          ],
          [
           104,
           "Theodore Rex (1995)",
           5
          ],
          [
           105,
           "Sgt. Bilko (1996)",
           74
          ],
          [
           106,
           "Diabolique (1996)",
           71
          ],
          [
           107,
           "Moll Flanders (1996)",
           42
          ],
          [
           108,
           "Kids in the Hall: Brain Candy (1996)",
           65
          ],
          [
           109,
           "Mystery Science Theater 3000: The Movie (1996)",
           130
          ],
          [
           110,
           "Operation Dumbo Drop (1995)",
           31
          ],
          [
           111,
           "Truth About Cats & Dogs, The (1996)",
           272
          ],
          [
           112,
           "Flipper (1996)",
           20
          ],
          [
           113,
           "Horseman on the Roof, The (Hussard sur le toit, Le) (1995)",
           9
          ],
          [
           114,
           "Wallace & Gromit: The Best of Aardman Animation (1996)",
           67
          ],
          [
           115,
           "Haunted World of Edward D. Wood Jr., The (1995)",
           15
          ],
          [
           116,
           "Cold Comfort Farm (1995)",
           125
          ],
          [
           117,
           "Rock, The (1996)",
           378
          ],
          [
           118,
           "Twister (1996)",
           293
          ],
          [
           119,
           "Maya Lin: A Strong Clear Vision (1994)",
           4
          ],
          [
           120,
           "Striptease (1996)",
           67
          ],
          [
           121,
           "Independence Day (ID4) (1996)",
           429
          ],
          [
           122,
           "Cable Guy, The (1996)",
           106
          ],
          [
           123,
           "Frighteners, The (1996)",
           115
          ],
          [
           124,
           "Lone Star (1996)",
           187
          ],
          [
           125,
           "Phenomenon (1996)",
           244
          ],
          [
           126,
           "Spitfire Grill, The (1996)",
           97
          ],
          [
           127,
           "Godfather, The (1972)",
           413
          ],
          [
           128,
           "Supercop (1992)",
           65
          ],
          [
           129,
           "Bound (1996)",
           129
          ],
          [
           130,
           "Kansas City (1996)",
           23
          ],
          [
           131,
           "Breakfast at Tiffany's (1961)",
           95
          ],
          [
           132,
           "Wizard of Oz, The (1939)",
           246
          ],
          [
           133,
           "Gone with the Wind (1939)",
           171
          ],
          [
           134,
           "Citizen Kane (1941)",
           198
          ],
          [
           135,
           "2001: A Space Odyssey (1968)",
           259
          ],
          [
           136,
           "Mr. Smith Goes to Washington (1939)",
           105
          ],
          [
           137,
           "Big Night (1996)",
           171
          ],
          [
           138,
           "D3: The Mighty Ducks (1996)",
           19
          ],
          [
           139,
           "Love Bug, The (1969)",
           50
          ],
          [
           140,
           "Homeward Bound: The Incredible Journey (1993)",
           61
          ],
          [
           141,
           "20,000 Leagues Under the Sea (1954)",
           72
          ],
          [
           142,
           "Bedknobs and Broomsticks (1971)",
           57
          ],
          [
           143,
           "Sound of Music, The (1965)",
           222
          ],
          [
           144,
           "Die Hard (1988)",
           243
          ],
          [
           145,
           "Lawnmower Man, The (1992)",
           65
          ],
          [
           146,
           "Unhook the Stars (1996)",
           10
          ],
          [
           147,
           "Long Kiss Goodnight, The (1996)",
           185
          ],
          [
           148,
           "Ghost and the Darkness, The (1996)",
           128
          ],
          [
           149,
           "Jude (1996)",
           23
          ],
          [
           150,
           "Swingers (1996)",
           157
          ],
          [
           151,
           "Willy Wonka and the Chocolate Factory (1971)",
           326
          ],
          [
           152,
           "Sleeper (1973)",
           82
          ],
          [
           153,
           "Fish Called Wanda, A (1988)",
           247
          ],
          [
           154,
           "Monty Python's Life of Brian (1979)",
           174
          ],
          [
           155,
           "Dirty Dancing (1987)",
           98
          ],
          [
           156,
           "Reservoir Dogs (1992)",
           148
          ],
          [
           157,
           "Platoon (1986)",
           127
          ],
          [
           158,
           "Weekend at Bernie's (1989)",
           60
          ],
          [
           159,
           "Basic Instinct (1992)",
           101
          ],
          [
           160,
           "Glengarry Glen Ross (1992)",
           69
          ],
          [
           161,
           "Top Gun (1986)",
           220
          ],
          [
           162,
           "On Golden Pond (1981)",
           106
          ],
          [
           163,
           "Return of the Pink Panther, The (1974)",
           92
          ],
          [
           164,
           "Abyss, The (1989)",
           151
          ],
          [
           165,
           "Jean de Florette (1986)",
           64
          ],
          [
           166,
           "Manon of the Spring (Manon des sources) (1986)",
           58
          ],
          [
           167,
           "Private Benjamin (1980)",
           67
          ],
          [
           168,
           "Monty Python and the Holy Grail (1974)",
           316
          ],
          [
           169,
           "Wrong Trousers, The (1993)",
           118
          ],
          [
           170,
           "Cinema Paradiso (1988)",
           121
          ],
          [
           171,
           "Delicatessen (1991)",
           65
          ],
          [
           172,
           "Empire Strikes Back, The (1980)",
           367
          ],
          [
           173,
           "Princess Bride, The (1987)",
           324
          ],
          [
           174,
           "Raiders of the Lost Ark (1981)",
           420
          ],
          [
           175,
           "Brazil (1985)",
           208
          ],
          [
           176,
           "Aliens (1986)",
           284
          ],
          [
           177,
           "Good, The Bad and The Ugly, The (1966)",
           137
          ],
          [
           178,
           "12 Angry Men (1957)",
           125
          ],
          [
           179,
           "Clockwork Orange, A (1971)",
           221
          ],
          [
           180,
           "Apocalypse Now (1979)",
           221
          ],
          [
           181,
           "Return of the Jedi (1983)",
           507
          ],
          [
           182,
           "GoodFellas (1990)",
           226
          ],
          [
           183,
           "Alien (1979)",
           291
          ],
          [
           184,
           "Army of Darkness (1993)",
           116
          ],
          [
           185,
           "Psycho (1960)",
           239
          ],
          [
           186,
           "Blues Brothers, The (1980)",
           251
          ],
          [
           187,
           "Godfather: Part II, The (1974)",
           209
          ],
          [
           188,
           "Full Metal Jacket (1987)",
           170
          ],
          [
           189,
           "Grand Day Out, A (1992)",
           66
          ],
          [
           190,
           "Henry V (1989)",
           124
          ],
          [
           191,
           "Amadeus (1984)",
           276
          ],
          [
           192,
           "Raging Bull (1980)",
           116
          ],
          [
           193,
           "Right Stuff, The (1983)",
           157
          ],
          [
           194,
           "Sting, The (1973)",
           241
          ],
          [
           195,
           "Terminator, The (1984)",
           301
          ],
          [
           196,
           "Dead Poets Society (1989)",
           251
          ],
          [
           197,
           "Graduate, The (1967)",
           239
          ],
          [
           198,
           "Nikita (La Femme Nikita) (1990)",
           127
          ],
          [
           199,
           "Bridge on the River Kwai, The (1957)",
           165
          ],
          [
           200,
           "Shining, The (1980)",
           206
          ],
          [
           201,
           "Evil Dead II (1987)",
           89
          ],
          [
           202,
           "Groundhog Day (1993)",
           280
          ],
          [
           203,
           "Unforgiven (1992)",
           182
          ],
          [
           204,
           "Back to the Future (1985)",
           350
          ],
          [
           205,
           "Patton (1970)",
           136
          ],
          [
           206,
           "Akira (1988)",
           50
          ],
          [
           207,
           "Cyrano de Bergerac (1990)",
           66
          ],
          [
           208,
           "Young Frankenstein (1974)",
           200
          ],
          [
           209,
           "This Is Spinal Tap (1984)",
           191
          ],
          [
           210,
           "Indiana Jones and the Last Crusade (1989)",
           331
          ],
          [
           211,
           "M*A*S*H (1970)",
           206
          ],
          [
           212,
           "Unbearable Lightness of Being, The (1988)",
           92
          ],
          [
           213,
           "Room with a View, A (1986)",
           134
          ],
          [
           214,
           "Pink Floyd - The Wall (1982)",
           114
          ],
          [
           215,
           "Field of Dreams (1989)",
           212
          ],
          [
           216,
           "When Harry Met Sally... (1989)",
           290
          ],
          [
           217,
           "Bram Stoker's Dracula (1992)",
           120
          ],
          [
           218,
           "Cape Fear (1991)",
           171
          ],
          [
           219,
           "Nightmare on Elm Street, A (1984)",
           111
          ],
          [
           220,
           "Mirror Has Two Faces, The (1996)",
           66
          ],
          [
           221,
           "Breaking the Waves (1996)",
           74
          ],
          [
           222,
           "Star Trek: First Contact (1996)",
           365
          ],
          [
           223,
           "Sling Blade (1996)",
           136
          ],
          [
           224,
           "Ridicule (1996)",
           44
          ],
          [
           225,
           "101 Dalmatians (1996)",
           109
          ],
          [
           226,
           "Die Hard 2 (1990)",
           166
          ],
          [
           227,
           "Star Trek VI: The Undiscovered Country (1991)",
           161
          ],
          [
           228,
           "Star Trek: The Wrath of Khan (1982)",
           244
          ],
          [
           229,
           "Star Trek III: The Search for Spock (1984)",
           171
          ],
          [
           230,
           "Star Trek IV: The Voyage Home (1986)",
           199
          ],
          [
           231,
           "Batman Returns (1992)",
           142
          ],
          [
           232,
           "Young Guns (1988)",
           101
          ],
          [
           233,
           "Under Siege (1992)",
           124
          ],
          [
           234,
           "Jaws (1975)",
           280
          ],
          [
           235,
           "Mars Attacks! (1996)",
           217
          ],
          [
           236,
           "Citizen Ruth (1996)",
           45
          ],
          [
           237,
           "Jerry Maguire (1996)",
           384
          ],
          [
           238,
           "Raising Arizona (1987)",
           256
          ],
          [
           239,
           "Sneakers (1992)",
           150
          ],
          [
           240,
           "Beavis and Butt-head Do America (1996)",
           156
          ],
          [
           241,
           "Last of the Mohicans, The (1992)",
           128
          ],
          [
           242,
           "Kolya (1996)",
           117
          ],
          [
           243,
           "Jungle2Jungle (1997)",
           132
          ],
          [
           244,
           "Smilla's Sense of Snow (1997)",
           48
          ],
          [
           245,
           "Devil's Own, The (1997)",
           240
          ],
          [
           246,
           "Chasing Amy (1997)",
           124
          ],
          [
           247,
           "Turbo: A Power Rangers Movie (1997)",
           5
          ],
          [
           248,
           "Grosse Pointe Blank (1997)",
           160
          ],
          [
           249,
           "Austin Powers: International Man of Mystery (1997)",
           130
          ],
          [
           250,
           "Fifth Element, The (1997)",
           197
          ],
          [
           251,
           "Shall We Dance? (1996)",
           46
          ],
          [
           252,
           "Lost World: Jurassic Park, The (1997)",
           158
          ],
          [
           253,
           "Pillow Book, The (1995)",
           26
          ],
          [
           254,
           "Batman & Robin (1997)",
           62
          ],
          [
           255,
           "My Best Friend's Wedding (1997)",
           172
          ],
          [
           256,
           "When the Cats Away (Chacun cherche son chat) (1996)",
           16
          ],
          [
           257,
           "Men in Black (1997)",
           303
          ],
          [
           258,
           "Contact (1997)",
           509
          ],
          [
           259,
           "George of the Jungle (1997)",
           162
          ],
          [
           260,
           "Event Horizon (1997)",
           127
          ],
          [
           261,
           "Air Bud (1997)",
           43
          ],
          [
           262,
           "In the Company of Men (1997)",
           66
          ],
          [
           263,
           "Steel (1997)",
           19
          ],
          [
           264,
           "Mimic (1997)",
           101
          ],
          [
           265,
           "Hunt for Red October, The (1990)",
           227
          ],
          [
           266,
           "Kull the Conqueror (1997)",
           35
          ],
          [
           267,
           "unknown",
           9
          ],
          [
           268,
           "Chasing Amy (1997)",
           255
          ],
          [
           269,
           "Full Monty, The (1997)",
           315
          ],
          [
           270,
           "Gattaca (1997)",
           136
          ],
          [
           271,
           "Starship Troopers (1997)",
           211
          ],
          [
           272,
           "Good Will Hunting (1997)",
           198
          ],
          [
           273,
           "Heat (1995)",
           223
          ],
          [
           274,
           "Sabrina (1995)",
           190
          ],
          [
           275,
           "Sense and Sensibility (1995)",
           268
          ],
          [
           276,
           "Leaving Las Vegas (1995)",
           298
          ],
          [
           277,
           "Restoration (1995)",
           71
          ],
          [
           278,
           "Bed of Roses (1996)",
           60
          ],
          [
           279,
           "Once Upon a Time... When We Were Colored (1995)",
           28
          ],
          [
           280,
           "Up Close and Personal (1996)",
           85
          ],
          [
           281,
           "River Wild, The (1994)",
           146
          ],
          [
           282,
           "Time to Kill, A (1996)",
           232
          ],
          [
           283,
           "Emma (1996)",
           177
          ],
          [
           284,
           "Tin Cup (1996)",
           193
          ],
          [
           285,
           "Secrets & Lies (1996)",
           162
          ],
          [
           286,
           "English Patient, The (1996)",
           481
          ],
          [
           287,
           "Marvin's Room (1996)",
           78
          ],
          [
           288,
           "Scream (1996)",
           478
          ],
          [
           289,
           "Evita (1996)",
           259
          ],
          [
           290,
           "Fierce Creatures (1997)",
           96
          ],
          [
           291,
           "Absolute Power (1997)",
           127
          ],
          [
           292,
           "Rosewood (1997)",
           114
          ],
          [
           293,
           "Donnie Brasco (1997)",
           147
          ],
          [
           294,
           "Liar Liar (1997)",
           485
          ],
          [
           295,
           "Breakdown (1997)",
           77
          ],
          [
           296,
           "Promesse, La (1996)",
           6
          ],
          [
           297,
           "Ulee's Gold (1997)",
           50
          ],
          [
           298,
           "Face/Off (1997)",
           194
          ],
          [
           299,
           "Hoodlum (1997)",
           73
          ],
          [
           300,
           "Air Force One (1997)",
           431
          ],
          [
           301,
           "In & Out (1997)",
           230
          ],
          [
           302,
           "L.A. Confidential (1997)",
           297
          ],
          [
           303,
           "Ulee's Gold (1997)",
           134
          ],
          [
           304,
           "Fly Away Home (1996)",
           149
          ],
          [
           305,
           "Ice Storm, The (1997)",
           87
          ],
          [
           306,
           "Mrs. Brown (Her Majesty, Mrs. Brown) (1997)",
           96
          ],
          [
           307,
           "Devil's Advocate, The (1997)",
           188
          ],
          [
           308,
           "FairyTale: A True Story (1997)",
           30
          ],
          [
           309,
           "Deceiver (1997)",
           28
          ],
          [
           310,
           "Rainmaker, The (1997)",
           145
          ],
          [
           311,
           "Wings of the Dove, The (1997)",
           75
          ],
          [
           312,
           "Midnight in the Garden of Good and Evil (1997)",
           80
          ],
          [
           313,
           "Titanic (1997)",
           350
          ],
          [
           314,
           "3 Ninjas: High Noon At Mega Mountain (1998)",
           5
          ],
          [
           315,
           "Apt Pupil (1998)",
           160
          ],
          [
           316,
           "As Good As It Gets (1997)",
           112
          ],
          [
           317,
           "In the Name of the Father (1993)",
           102
          ],
          [
           318,
           "Schindler's List (1993)",
           298
          ],
          [
           319,
           "Everyone Says I Love You (1996)",
           168
          ],
          [
           320,
           "Paradise Lost: The Child Murders at Robin Hood Hills (1996)",
           20
          ],
          [
           321,
           "Mother (1996)",
           169
          ],
          [
           322,
           "Murder at 1600 (1997)",
           218
          ],
          [
           323,
           "Dante's Peak (1997)",
           240
          ],
          [
           324,
           "Lost Highway (1997)",
           125
          ],
          [
           325,
           "Crash (1996)",
           128
          ],
          [
           326,
           "G.I. Jane (1997)",
           175
          ],
          [
           327,
           "Cop Land (1997)",
           175
          ],
          [
           328,
           "Conspiracy Theory (1997)",
           295
          ],
          [
           329,
           "Desperate Measures (1998)",
           45
          ],
          [
           330,
           "187 (1997)",
           41
          ],
          [
           331,
           "Edge, The (1997)",
           113
          ],
          [
           332,
           "Kiss the Girls (1997)",
           143
          ],
          [
           333,
           "Game, The (1997)",
           251
          ],
          [
           334,
           "U Turn (1997)",
           64
          ],
          [
           335,
           "How to Be a Player (1997)",
           21
          ],
          [
           336,
           "Playing God (1997)",
           43
          ],
          [
           337,
           "House of Yes, The (1997)",
           18
          ],
          [
           338,
           "Bean (1997)",
           91
          ],
          [
           339,
           "Mad City (1997)",
           47
          ],
          [
           340,
           "Boogie Nights (1997)",
           189
          ],
          [
           341,
           "Critical Care (1997)",
           11
          ],
          [
           342,
           "Man Who Knew Too Little, The (1997)",
           52
          ],
          [
           343,
           "Alien: Resurrection (1997)",
           124
          ],
          [
           344,
           "Apostle, The (1997)",
           55
          ],
          [
           345,
           "Deconstructing Harry (1997)",
           65
          ],
          [
           346,
           "Jackie Brown (1997)",
           126
          ],
          [
           347,
           "Wag the Dog (1997)",
           137
          ],
          [
           348,
           "Desperate Measures (1998)",
           27
          ],
          [
           349,
           "Hard Rain (1998)",
           31
          ],
          [
           350,
           "Fallen (1998)",
           41
          ],
          [
           351,
           "Prophecy II, The (1998)",
           20
          ],
          [
           352,
           "Spice World (1997)",
           26
          ],
          [
           353,
           "Deep Rising (1998)",
           14
          ],
          [
           354,
           "Wedding Singer, The (1998)",
           72
          ],
          [
           355,
           "Sphere (1998)",
           41
          ],
          [
           356,
           "Client, The (1994)",
           97
          ],
          [
           357,
           "One Flew Over the Cuckoo's Nest (1975)",
           264
          ],
          [
           358,
           "Spawn (1997)",
           143
          ],
          [
           359,
           "Assignment, The (1997)",
           18
          ],
          [
           360,
           "Wonderland (1997)",
           10
          ],
          [
           361,
           "Incognito (1997)",
           10
          ],
          [
           362,
           "Blues Brothers 2000 (1998)",
           28
          ],
          [
           363,
           "Sudden Death (1995)",
           47
          ],
          [
           364,
           "Ace Ventura: When Nature Calls (1995)",
           37
          ],
          [
           365,
           "Powder (1995)",
           48
          ],
          [
           366,
           "Dangerous Minds (1995)",
           47
          ],
          [
           367,
           "Clueless (1995)",
           170
          ],
          [
           368,
           "Bio-Dome (1996)",
           31
          ],
          [
           369,
           "Black Sheep (1996)",
           55
          ],
          [
           370,
           "Mary Reilly (1996)",
           39
          ],
          [
           371,
           "Bridges of Madison County, The (1995)",
           67
          ],
          [
           372,
           "Jeffrey (1995)",
           34
          ],
          [
           373,
           "Judge Dredd (1995)",
           39
          ],
          [
           374,
           "Mighty Morphin Power Rangers: The Movie (1995)",
           11
          ],
          [
           375,
           "Showgirls (1995)",
           23
          ],
          [
           376,
           "Houseguest (1994)",
           24
          ],
          [
           377,
           "Heavyweights (1994)",
           13
          ],
          [
           378,
           "Miracle on 34th Street (1994)",
           101
          ],
          [
           379,
           "Tales From the Crypt Presents: Demon Knight (1995)",
           43
          ],
          [
           380,
           "Star Trek: Generations (1994)",
           116
          ],
          [
           381,
           "Muriel's Wedding (1994)",
           100
          ],
          [
           382,
           "Adventures of Priscilla, Queen of the Desert, The (1994)",
           111
          ],
          [
           383,
           "Flintstones, The (1994)",
           31
          ],
          [
           384,
           "Naked Gun 33 1/3: The Final Insult (1994)",
           69
          ],
          [
           385,
           "True Lies (1994)",
           208
          ],
          [
           386,
           "Addams Family Values (1993)",
           87
          ],
          [
           387,
           "Age of Innocence, The (1993)",
           65
          ],
          [
           388,
           "Beverly Hills Cop III (1994)",
           28
          ],
          [
           389,
           "Black Beauty (1994)",
           27
          ],
          [
           390,
           "Fear of a Black Hat (1993)",
           10
          ],
          [
           391,
           "Last Action Hero (1993)",
           59
          ],
          [
           392,
           "Man Without a Face, The (1993)",
           68
          ],
          [
           393,
           "Mrs. Doubtfire (1993)",
           192
          ],
          [
           394,
           "Radioland Murders (1994)",
           12
          ],
          [
           395,
           "Robin Hood: Men in Tights (1993)",
           56
          ],
          [
           396,
           "Serial Mom (1994)",
           54
          ],
          [
           397,
           "Striking Distance (1993)",
           12
          ],
          [
           398,
           "Super Mario Bros. (1993)",
           26
          ],
          [
           399,
           "Three Musketeers, The (1993)",
           89
          ],
          [
           400,
           "Little Rascals, The (1994)",
           18
          ],
          [
           401,
           "Brady Bunch Movie, The (1995)",
           76
          ],
          [
           402,
           "Ghost (1990)",
           170
          ],
          [
           403,
           "Batman (1989)",
           201
          ],
          [
           404,
           "Pinocchio (1940)",
           101
          ],
          [
           405,
           "Mission: Impossible (1996)",
           344
          ],
          [
           406,
           "Thinner (1996)",
           49
          ],
          [
           407,
           "Spy Hard (1996)",
           43
          ],
          [
           408,
           "Close Shave, A (1995)",
           112
          ],
          [
           409,
           "Jack (1996)",
           70
          ],
          [
           410,
           "Kingpin (1996)",
           162
          ],
          [
           411,
           "Nutty Professor, The (1996)",
           163
          ],
          [
           412,
           "Very Brady Sequel, A (1996)",
           93
          ],
          [
           413,
           "Tales from the Crypt Presents: Bordello of Blood (1996)",
           55
          ],
          [
           414,
           "My Favorite Year (1982)",
           62
          ],
          [
           415,
           "Apple Dumpling Gang, The (1975)",
           25
          ],
          [
           416,
           "Old Yeller (1957)",
           64
          ],
          [
           417,
           "Parent Trap, The (1961)",
           73
          ],
          [
           418,
           "Cinderella (1950)",
           129
          ],
          [
           419,
           "Mary Poppins (1964)",
           178
          ],
          [
           420,
           "Alice in Wonderland (1951)",
           81
          ],
          [
           421,
           "William Shakespeare's Romeo and Juliet (1996)",
           106
          ],
          [
           422,
           "Aladdin and the King of Thieves (1996)",
           26
          ],
          [
           423,
           "E.T. the Extra-Terrestrial (1982)",
           300
          ],
          [
           424,
           "Children of the Corn: The Gathering (1996)",
           19
          ],
          [
           425,
           "Bob Roberts (1992)",
           85
          ],
          [
           426,
           "Transformers: The Movie, The (1986)",
           32
          ],
          [
           427,
           "To Kill a Mockingbird (1962)",
           219
          ],
          [
           428,
           "Harold and Maude (1971)",
           121
          ],
          [
           429,
           "Day the Earth Stood Still, The (1951)",
           97
          ],
          [
           430,
           "Duck Soup (1933)",
           93
          ],
          [
           431,
           "Highlander (1986)",
           153
          ],
          [
           432,
           "Fantasia (1940)",
           174
          ],
          [
           433,
           "Heathers (1989)",
           171
          ],
          [
           434,
           "Forbidden Planet (1956)",
           67
          ],
          [
           435,
           "Butch Cassidy and the Sundance Kid (1969)",
           216
          ],
          [
           436,
           "American Werewolf in London, An (1981)",
           99
          ],
          [
           437,
           "Amityville 1992: It's About Time (1992)",
           5
          ],
          [
           438,
           "Amityville 3-D (1983)",
           6
          ],
          [
           439,
           "Amityville: A New Generation (1993)",
           5
          ],
          [
           440,
           "Amityville II: The Possession (1982)",
           14
          ],
          [
           441,
           "Amityville Horror, The (1979)",
           53
          ],
          [
           442,
           "Amityville Curse, The (1990)",
           4
          ],
          [
           443,
           "Birds, The (1963)",
           162
          ],
          [
           444,
           "Blob, The (1958)",
           46
          ],
          [
           445,
           "Body Snatcher, The (1945)",
           22
          ],
          [
           446,
           "Burnt Offerings (1976)",
           9
          ],
          [
           447,
           "Carrie (1976)",
           121
          ],
          [
           448,
           "Omen, The (1976)",
           85
          ],
          [
           449,
           "Star Trek: The Motion Picture (1979)",
           117
          ],
          [
           450,
           "Star Trek V: The Final Frontier (1989)",
           63
          ],
          [
           451,
           "Grease (1978)",
           170
          ],
          [
           452,
           "Jaws 2 (1978)",
           66
          ],
          [
           453,
           "Jaws 3-D (1983)",
           16
          ],
          [
           454,
           "Bastard Out of Carolina (1996)",
           16
          ],
          [
           455,
           "Jackie Chan's First Strike (1996)",
           145
          ],
          [
           456,
           "Beverly Hills Ninja (1997)",
           48
          ],
          [
           457,
           "Free Willy 3: The Rescue (1997)",
           27
          ],
          [
           458,
           "Nixon (1995)",
           90
          ],
          [
           459,
           "Cry, the Beloved Country (1995)",
           24
          ],
          [
           460,
           "Crossing Guard, The (1995)",
           28
          ],
          [
           461,
           "Smoke (1995)",
           74
          ],
          [
           462,
           "Like Water For Chocolate (Como agua para chocolate) (1992)",
           148
          ],
          [
           463,
           "Secret of Roan Inish, The (1994)",
           71
          ],
          [
           464,
           "Vanya on 42nd Street (1994)",
           27
          ],
          [
           465,
           "Jungle Book, The (1994)",
           85
          ],
          [
           466,
           "Red Rock West (1992)",
           52
          ],
          [
           467,
           "Bronx Tale, A (1993)",
           48
          ],
          [
           468,
           "Rudy (1993)",
           64
          ],
          [
           469,
           "Short Cuts (1993)",
           67
          ],
          [
           470,
           "Tombstone (1993)",
           108
          ],
          [
           471,
           "Courage Under Fire (1996)",
           221
          ],
          [
           472,
           "Dragonheart (1996)",
           158
          ],
          [
           473,
           "James and the Giant Peach (1996)",
           126
          ],
          [
           474,
           "Dr. Strangelove or: How I Learned to Stop Worrying and Love the Bomb (1963)",
           194
          ],
          [
           475,
           "Trainspotting (1996)",
           250
          ],
          [
           476,
           "First Wives Club, The (1996)",
           160
          ],
          [
           477,
           "Matilda (1996)",
           95
          ],
          [
           478,
           "Philadelphia Story, The (1940)",
           104
          ],
          [
           479,
           "Vertigo (1958)",
           179
          ],
          [
           480,
           "North by Northwest (1959)",
           179
          ],
          [
           481,
           "Apartment, The (1960)",
           63
          ],
          [
           482,
           "Some Like It Hot (1959)",
           128
          ],
          [
           483,
           "Casablanca (1942)",
           243
          ],
          [
           484,
           "Maltese Falcon, The (1941)",
           138
          ],
          [
           485,
           "My Fair Lady (1964)",
           125
          ],
          [
           486,
           "Sabrina (1954)",
           64
          ],
          [
           487,
           "Roman Holiday (1953)",
           68
          ],
          [
           488,
           "Sunset Blvd. (1950)",
           65
          ],
          [
           489,
           "Notorious (1946)",
           52
          ],
          [
           490,
           "To Catch a Thief (1955)",
           50
          ],
          [
           491,
           "Adventures of Robin Hood, The (1938)",
           67
          ],
          [
           492,
           "East of Eden (1955)",
           59
          ],
          [
           493,
           "Thin Man, The (1934)",
           60
          ],
          [
           494,
           "His Girl Friday (1940)",
           56
          ],
          [
           495,
           "Around the World in 80 Days (1956)",
           59
          ],
          [
           496,
           "It's a Wonderful Life (1946)",
           231
          ],
          [
           497,
           "Bringing Up Baby (1938)",
           68
          ],
          [
           498,
           "African Queen, The (1951)",
           152
          ],
          [
           499,
           "Cat on a Hot Tin Roof (1958)",
           62
          ],
          [
           500,
           "Fly Away Home (1996)",
           31
          ],
          [
           501,
           "Dumbo (1941)",
           123
          ],
          [
           502,
           "Bananas (1971)",
           57
          ],
          [
           503,
           "Candidate, The (1972)",
           39
          ],
          [
           504,
           "Bonnie and Clyde (1967)",
           122
          ],
          [
           505,
           "Dial M for Murder (1954)",
           68
          ],
          [
           506,
           "Rebel Without a Cause (1955)",
           90
          ],
          [
           507,
           "Streetcar Named Desire, A (1951)",
           98
          ],
          [
           508,
           "People vs. Larry Flynt, The (1996)",
           215
          ],
          [
           509,
           "My Left Foot (1989)",
           121
          ],
          [
           510,
           "Magnificent Seven, The (1954)",
           121
          ],
          [
           511,
           "Lawrence of Arabia (1962)",
           173
          ],
          [
           512,
           "Wings of Desire (1987)",
           57
          ],
          [
           513,
           "Third Man, The (1949)",
           72
          ],
          [
           514,
           "Annie Hall (1977)",
           180
          ],
          [
           515,
           "Boot, Das (1981)",
           201
          ],
          [
           516,
           "Local Hero (1983)",
           63
          ],
          [
           517,
           "Manhattan (1979)",
           91
          ],
          [
           518,
           "Miller's Crossing (1990)",
           89
          ],
          [
           519,
           "Treasure of the Sierra Madre, The (1948)",
           80
          ],
          [
           520,
           "Great Escape, The (1963)",
           124
          ],
          [
           521,
           "Deer Hunter, The (1978)",
           120
          ],
          [
           522,
           "Down by Law (1986)",
           35
          ],
          [
           523,
           "Cool Hand Luke (1967)",
           164
          ],
          [
           524,
           "Great Dictator, The (1940)",
           46
          ],
          [
           525,
           "Big Sleep, The (1946)",
           73
          ],
          [
           526,
           "Ben-Hur (1959)",
           124
          ],
          [
           527,
           "Gandhi (1982)",
           195
          ],
          [
           528,
           "Killing Fields, The (1984)",
           121
          ],
          [
           529,
           "My Life as a Dog (Mitt liv som hund) (1985)",
           93
          ],
          [
           530,
           "Man Who Would Be King, The (1975)",
           80
          ],
          [
           531,
           "Shine (1996)",
           129
          ],
          [
           532,
           "Kama Sutra: A Tale of Love (1996)",
           22
          ],
          [
           533,
           "Daytrippers, The (1996)",
           15
          ],
          [
           534,
           "Traveller (1997)",
           13
          ],
          [
           535,
           "Addicted to Love (1997)",
           54
          ],
          [
           536,
           "Ponette (1996)",
           10
          ],
          [
           537,
           "My Own Private Idaho (1991)",
           30
          ],
          [
           538,
           "Anastasia (1997)",
           66
          ],
          [
           539,
           "Mouse Hunt (1997)",
           44
          ],
          [
           540,
           "Money Train (1995)",
           43
          ],
          [
           541,
           "Mortal Kombat (1995)",
           49
          ],
          [
           542,
           "Pocahontas (1995)",
           51
          ],
          [
           543,
           "Misérables, Les (1995)",
           21
          ],
          [
           544,
           "Things to Do in Denver when You're Dead (1995)",
           71
          ],
          [
           545,
           "Vampire in Brooklyn (1995)",
           12
          ],
          [
           546,
           "Broken Arrow (1996)",
           254
          ],
          [
           547,
           "Young Poisoner's Handbook, The (1995)",
           41
          ],
          [
           548,
           "NeverEnding Story III, The (1994)",
           12
          ],
          [
           549,
           "Rob Roy (1995)",
           92
          ],
          [
           550,
           "Die Hard: With a Vengeance (1995)",
           151
          ],
          [
           551,
           "Lord of Illusions (1995)",
           24
          ],
          [
           552,
           "Species (1995)",
           45
          ],
          [
           553,
           "Walk in the Clouds, A (1995)",
           63
          ],
          [
           554,
           "Waterworld (1995)",
           102
          ],
          [
           555,
           "White Man's Burden (1995)",
           10
          ],
          [
           556,
           "Wild Bill (1995)",
           12
          ],
          [
           557,
           "Farinelli: il castrato (1994)",
           17
          ],
          [
           558,
           "Heavenly Creatures (1994)",
           70
          ],
          [
           559,
           "Interview with the Vampire (1994)",
           137
          ],
          [
           560,
           "Kid in King Arthur's Court, A (1995)",
           22
          ],
          [
           561,
           "Mary Shelley's Frankenstein (1994)",
           59
          ],
          [
           562,
           "Quick and the Dead, The (1995)",
           48
          ],
          [
           563,
           "Stephen King's The Langoliers (1995)",
           29
          ],
          [
           564,
           "Tales from the Hood (1995)",
           27
          ],
          [
           565,
           "Village of the Damned (1995)",
           22
          ],
          [
           566,
           "Clear and Present Danger (1994)",
           179
          ],
          [
           567,
           "Wes Craven's New Nightmare (1994)",
           35
          ],
          [
           568,
           "Speed (1994)",
           230
          ],
          [
           569,
           "Wolf (1994)",
           67
          ],
          [
           570,
           "Wyatt Earp (1994)",
           50
          ],
          [
           571,
           "Another Stakeout (1993)",
           28
          ],
          [
           572,
           "Blown Away (1994)",
           29
          ],
          [
           573,
           "Body Snatchers (1993)",
           33
          ],
          [
           574,
           "Boxing Helena (1993)",
           15
          ],
          [
           575,
           "City Slickers II: The Legend of Curly's Gold (1994)",
           44
          ],
          [
           576,
           "Cliffhanger (1993)",
           93
          ],
          [
           577,
           "Coneheads (1993)",
           41
          ],
          [
           578,
           "Demolition Man (1993)",
           92
          ],
          [
           579,
           "Fatal Instinct (1993)",
           19
          ],
          [
           580,
           "Englishman Who Went Up a Hill, But Came Down a Mountain, The (1995)",
           32
          ],
          [
           581,
           "Kalifornia (1993)",
           59
          ],
          [
           582,
           "Piano, The (1993)",
           168
          ],
          [
           583,
           "Romeo Is Bleeding (1993)",
           37
          ],
          [
           584,
           "Secret Garden, The (1993)",
           79
          ],
          [
           585,
           "Son in Law (1993)",
           39
          ],
          [
           586,
           "Terminal Velocity (1994)",
           34
          ],
          [
           587,
           "Hour of the Pig, The (1993)",
           14
          ],
          [
           588,
           "Beauty and the Beast (1991)",
           202
          ],
          [
           589,
           "Wild Bunch, The (1969)",
           43
          ],
          [
           590,
           "Hellraiser: Bloodline (1996)",
           18
          ],
          [
           591,
           "Primal Fear (1996)",
           178
          ],
          [
           592,
           "True Crime (1995)",
           9
          ],
          [
           593,
           "Stalingrad (1993)",
           12
          ],
          [
           594,
           "Heavy (1995)",
           5
          ],
          [
           595,
           "Fan, The (1996)",
           64
          ],
          [
           596,
           "Hunchback of Notre Dame, The (1996)",
           127
          ],
          [
           597,
           "Eraser (1996)",
           206
          ],
          [
           598,
           "Big Squeeze, The (1996)",
           4
          ],
          [
           599,
           "Police Story 4: Project S (Chao ji ji hua) (1993)",
           1
          ],
          [
           600,
           "Daniel Defoe's Robinson Crusoe (1996)",
           2
          ],
          [
           601,
           "For Whom the Bell Tolls (1943)",
           20
          ],
          [
           602,
           "American in Paris, An (1951)",
           50
          ],
          [
           603,
           "Rear Window (1954)",
           209
          ],
          [
           604,
           "It Happened One Night (1934)",
           81
          ],
          [
           605,
           "Meet Me in St. Louis (1944)",
           31
          ],
          [
           606,
           "All About Eve (1950)",
           66
          ],
          [
           607,
           "Rebecca (1940)",
           66
          ],
          [
           608,
           "Spellbound (1945)",
           30
          ],
          [
           609,
           "Father of the Bride (1950)",
           60
          ],
          [
           610,
           "Gigi (1958)",
           41
          ],
          [
           611,
           "Laura (1944)",
           40
          ],
          [
           612,
           "Lost Horizon (1937)",
           34
          ],
          [
           613,
           "My Man Godfrey (1936)",
           27
          ],
          [
           614,
           "Giant (1956)",
           51
          ],
          [
           615,
           "39 Steps, The (1935)",
           59
          ],
          [
           616,
           "Night of the Living Dead (1968)",
           64
          ],
          [
           617,
           "Blue Angel, The (Blaue Engel, Der) (1930)",
           18
          ],
          [
           618,
           "Picnic (1955)",
           18
          ],
          [
           619,
           "Extreme Measures (1996)",
           64
          ],
          [
           620,
           "Chamber, The (1996)",
           43
          ],
          [
           621,
           "Davy Crockett, King of the Wild Frontier (1955)",
           11
          ],
          [
           622,
           "Swiss Family Robinson (1960)",
           39
          ],
          [
           623,
           "Angels in the Outfield (1994)",
           39
          ],
          [
           624,
           "Three Caballeros, The (1945)",
           22
          ],
          [
           625,
           "Sword in the Stone, The (1963)",
           82
          ],
          [
           626,
           "So Dear to My Heart (1949)",
           4
          ],
          [
           627,
           "Robin Hood: Prince of Thieves (1991)",
           75
          ],
          [
           628,
           "Sleepers (1996)",
           169
          ],
          [
           629,
           "Victor/Victoria (1982)",
           77
          ],
          [
           630,
           "Great Race, The (1965)",
           31
          ],
          [
           631,
           "Crying Game, The (1992)",
           119
          ],
          [
           632,
           "Sophie's Choice (1982)",
           58
          ],
          [
           633,
           "Christmas Carol, A (1938)",
           69
          ],
          [
           634,
           "Microcosmos: Le peuple de l'herbe (1996)",
           24
          ],
          [
           635,
           "Fog, The (1980)",
           23
          ],
          [
           636,
           "Escape from New York (1981)",
           91
          ],
          [
           637,
           "Howling, The (1981)",
           38
          ],
          [
           638,
           "Return of Martin Guerre, The (Retour de Martin Guerre, Le) (1982)",
           44
          ],
          [
           639,
           "Tin Drum, The (Blechtrommel, Die) (1979)",
           40
          ],
          [
           640,
           "Cook the Thief His Wife & Her Lover, The (1989)",
           82
          ],
          [
           641,
           "Paths of Glory (1957)",
           33
          ],
          [
           642,
           "Grifters, The (1990)",
           89
          ],
          [
           643,
           "The Innocent (1994)",
           4
          ],
          [
           644,
           "Thin Blue Line, The (1988)",
           35
          ],
          [
           645,
           "Paris Is Burning (1990)",
           27
          ],
          [
           646,
           "Once Upon a Time in the West (1969)",
           38
          ],
          [
           647,
           "Ran (1985)",
           70
          ],
          [
           648,
           "Quiet Man, The (1952)",
           67
          ],
          [
           649,
           "Once Upon a Time in America (1984)",
           50
          ],
          [
           650,
           "Seventh Seal, The (Sjunde inseglet, Det) (1957)",
           72
          ],
          [
           651,
           "Glory (1989)",
           171
          ],
          [
           652,
           "Rosencrantz and Guildenstern Are Dead (1990)",
           90
          ],
          [
           653,
           "Touch of Evil (1958)",
           34
          ],
          [
           654,
           "Chinatown (1974)",
           147
          ],
          [
           655,
           "Stand by Me (1986)",
           227
          ],
          [
           656,
           "M (1931)",
           44
          ],
          [
           657,
           "Manchurian Candidate, The (1962)",
           131
          ],
          [
           658,
           "Pump Up the Volume (1990)",
           79
          ],
          [
           659,
           "Arsenic and Old Lace (1944)",
           115
          ],
          [
           660,
           "Fried Green Tomatoes (1991)",
           153
          ],
          [
           661,
           "High Noon (1952)",
           88
          ],
          [
           662,
           "Somewhere in Time (1980)",
           82
          ],
          [
           663,
           "Being There (1979)",
           116
          ],
          [
           664,
           "Paris, Texas (1984)",
           46
          ],
          [
           665,
           "Alien 3 (1992)",
           100
          ],
          [
           666,
           "Blood For Dracula (Andy Warhol's Dracula) (1974)",
           5
          ],
          [
           667,
           "Audrey Rose (1977)",
           12
          ],
          [
           668,
           "Blood Beach (1981)",
           6
          ],
          [
           669,
           "Body Parts (1991)",
           13
          ],
          [
           670,
           "Body Snatchers (1993)",
           36
          ],
          [
           671,
           "Bride of Frankenstein (1935)",
           46
          ],
          [
           672,
           "Candyman (1992)",
           65
          ],
          [
           673,
           "Cape Fear (1962)",
           86
          ],
          [
           674,
           "Cat People (1982)",
           48
          ],
          [
           675,
           "Nosferatu (Nosferatu, eine Symphonie des Grauens) (1922)",
           54
          ],
          [
           676,
           "Crucible, The (1996)",
           77
          ],
          [
           677,
           "Fire on the Mountain (1996)",
           1
          ],
          [
           678,
           "Volcano (1997)",
           219
          ],
          [
           679,
           "Conan the Barbarian (1981)",
           107
          ],
          [
           680,
           "Kull the Conqueror (1997)",
           34
          ],
          [
           681,
           "Wishmaster (1997)",
           27
          ],
          [
           682,
           "I Know What You Did Last Summer (1997)",
           100
          ],
          [
           683,
           "Rocket Man (1997)",
           49
          ],
          [
           684,
           "In the Line of Fire (1993)",
           169
          ],
          [
           685,
           "Executive Decision (1996)",
           157
          ],
          [
           686,
           "Perfect World, A (1993)",
           50
          ],
          [
           687,
           "McHale's Navy (1997)",
           69
          ],
          [
           688,
           "Leave It to Beaver (1997)",
           44
          ],
          [
           689,
           "Jackal, The (1997)",
           87
          ],
          [
           690,
           "Seven Years in Tibet (1997)",
           155
          ],
          [
           691,
           "Dark City (1998)",
           16
          ],
          [
           692,
           "American President, The (1995)",
           164
          ],
          [
           693,
           "Casino (1995)",
           91
          ],
          [
           694,
           "Persuasion (1995)",
           44
          ],
          [
           695,
           "Kicking and Screaming (1995)",
           13
          ],
          [
           696,
           "City Hall (1996)",
           79
          ],
          [
           697,
           "Basketball Diaries, The (1995)",
           40
          ],
          [
           698,
           "Browning Version, The (1994)",
           10
          ],
          [
           699,
           "Little Women (1994)",
           102
          ],
          [
           700,
           "Miami Rhapsody (1995)",
           15
          ],
          [
           701,
           "Wonderful, Horrible Life of Leni Riefenstahl, The (1993)",
           10
          ],
          [
           702,
           "Barcelona (1994)",
           53
          ],
          [
           703,
           "Widows' Peak (1994)",
           19
          ],
          [
           704,
           "House of the Spirits, The (1993)",
           24
          ],
          [
           705,
           "Singin' in the Rain (1952)",
           137
          ],
          [
           706,
           "Bad Moon (1996)",
           6
          ],
          [
           707,
           "Enchanted April (1991)",
           70
          ],
          [
           708,
           "Sex, Lies, and Videotape (1989)",
           101
          ],
          [
           709,
           "Strictly Ballroom (1992)",
           104
          ],
          [
           710,
           "Better Off Dead... (1985)",
           79
          ],
          [
           711,
           "Substance of Fire, The (1996)",
           1
          ],
          [
           712,
           "Tin Men (1987)",
           51
          ],
          [
           713,
           "Othello (1995)",
           72
          ],
          [
           714,
           "Carrington (1995)",
           13
          ],
          [
           715,
           "To Die For (1995)",
           87
          ],
          [
           716,
           "Home for the Holidays (1995)",
           58
          ],
          [
           717,
           "Juror, The (1996)",
           82
          ],
          [
           718,
           "In the Bleak Midwinter (1995)",
           16
          ],
          [
           719,
           "Canadian Bacon (1994)",
           29
          ],
          [
           720,
           "First Knight (1995)",
           86
          ],
          [
           721,
           "Mallrats (1995)",
           54
          ],
          [
           722,
           "Nine Months (1995)",
           58
          ],
          [
           723,
           "Boys on the Side (1995)",
           34
          ],
          [
           724,
           "Circle of Friends (1995)",
           76
          ],
          [
           725,
           "Exit to Eden (1994)",
           16
          ],
          [
           726,
           "Fluke (1995)",
           14
          ],
          [
           727,
           "Immortal Beloved (1994)",
           63
          ],
          [
           728,
           "Junior (1994)",
           45
          ],
          [
           729,
           "Nell (1994)",
           81
          ],
          [
           730,
           "Queen Margot (Reine Margot, La) (1994)",
           24
          ],
          [
           731,
           "Corrina, Corrina (1994)",
           39
          ],
          [
           732,
           "Dave (1993)",
           180
          ],
          [
           733,
           "Go Fish (1994)",
           15
          ],
          [
           734,
           "Made in America (1993)",
           27
          ],
          [
           735,
           "Philadelphia (1993)",
           137
          ],
          [
           736,
           "Shadowlands (1993)",
           78
          ],
          [
           737,
           "Sirens (1994)",
           59
          ],
          [
           738,
           "Threesome (1994)",
           31
          ],
          [
           739,
           "Pretty Woman (1990)",
           164
          ],
          [
           740,
           "Jane Eyre (1996)",
           63
          ],
          [
           741,
           "Last Supper, The (1995)",
           58
          ],
          [
           742,
           "Ransom (1996)",
           267
          ],
          [
           743,
           "Crow: City of Angels, The (1996)",
           39
          ],
          [
           744,
           "Michael Collins (1996)",
           92
          ],
          [
           745,
           "Ruling Class, The (1972)",
           16
          ],
          [
           746,
           "Real Genius (1985)",
           119
          ],
          [
           747,
           "Benny & Joon (1993)",
           102
          ],
          [
           748,
           "Saint, The (1997)",
           316
          ],
          [
           749,
           "MatchMaker, The (1997)",
           51
          ],
          [
           750,
           "Amistad (1997)",
           124
          ],
          [
           751,
           "Tomorrow Never Dies (1997)",
           180
          ],
          [
           752,
           "Replacement Killers, The (1998)",
           39
          ],
          [
           753,
           "Burnt By the Sun (1994)",
           24
          ],
          [
           754,
           "Red Corner (1997)",
           57
          ],
          [
           755,
           "Jumanji (1995)",
           96
          ],
          [
           756,
           "Father of the Bride Part II (1995)",
           128
          ],
          [
           757,
           "Across the Sea of Time (1995)",
           4
          ],
          [
           758,
           "Lawnmower Man 2: Beyond Cyberspace (1996)",
           21
          ],
          [
           759,
           "Fair Game (1995)",
           11
          ],
          [
           760,
           "Screamers (1995)",
           46
          ],
          [
           761,
           "Nick of Time (1995)",
           44
          ],
          [
           762,
           "Beautiful Girls (1996)",
           115
          ],
          [
           763,
           "Happy Gilmore (1996)",
           149
          ],
          [
           764,
           "If Lucy Fell (1996)",
           29
          ],
          [
           765,
           "Boomerang (1992)",
           32
          ],
          [
           766,
           "Man of the Year (1995)",
           9
          ],
          [
           767,
           "Addiction, The (1995)",
           11
          ],
          [
           768,
           "Casper (1995)",
           52
          ],
          [
           769,
           "Congo (1995)",
           42
          ],
          [
           770,
           "Devil in a Blue Dress (1995)",
           57
          ],
          [
           771,
           "Johnny Mnemonic (1995)",
           41
          ],
          [
           772,
           "Kids (1995)",
           49
          ],
          [
           773,
           "Mute Witness (1994)",
           17
          ],
          [
           774,
           "Prophecy, The (1995)",
           32
          ],
          [
           775,
           "Something to Talk About (1995)",
           26
          ],
          [
           776,
           "Three Wishes (1995)",
           9
          ],
          [
           777,
           "Castle Freak (1995)",
           4
          ],
          [
           778,
           "Don Juan DeMarco (1995)",
           76
          ],
          [
           779,
           "Drop Zone (1994)",
           31
          ],
          [
           780,
           "Dumb & Dumber (1994)",
           69
          ],
          [
           781,
           "French Kiss (1995)",
           84
          ],
          [
           782,
           "Little Odessa (1994)",
           10
          ],
          [
           783,
           "Milk Money (1994)",
           37
          ],
          [
           784,
           "Beyond Bedlam (1993)",
           2
          ],
          [
           785,
           "Only You (1994)",
           39
          ],
          [
           786,
           "Perez Family, The (1995)",
           14
          ],
          [
           787,
           "Roommates (1995)",
           13
          ],
          [
           788,
           "Relative Fear (1994)",
           3
          ],
          [
           789,
           "Swimming with Sharks (1995)",
           47
          ],
          [
           790,
           "Tommy Boy (1995)",
           66
          ],
          [
           791,
           "Baby-Sitters Club, The (1995)",
           10
          ],
          [
           792,
           "Bullets Over Broadway (1994)",
           86
          ],
          [
           793,
           "Crooklyn (1994)",
           10
          ],
          [
           794,
           "It Could Happen to You (1994)",
           46
          ],
          [
           795,
           "Richie Rich (1994)",
           21
          ],
          [
           796,
           "Speechless (1994)",
           36
          ],
          [
           797,
           "Timecop (1994)",
           31
          ],
          [
           798,
           "Bad Company (1995)",
           9
          ],
          [
           799,
           "Boys Life (1995)",
           5
          ],
          [
           800,
           "In the Mouth of Madness (1995)",
           26
          ],
          [
           801,
           "Air Up There, The (1994)",
           16
          ],
          [
           802,
           "Hard Target (1993)",
           40
          ],
          [
           803,
           "Heaven & Earth (1993)",
           9
          ],
          [
           804,
           "Jimmy Hollywood (1994)",
           8
          ],
          [
           805,
           "Manhattan Murder Mystery (1993)",
           27
          ],
          [
           806,
           "Menace II Society (1993)",
           50
          ],
          [
           807,
           "Poetic Justice (1993)",
           9
          ],
          [
           808,
           "Program, The (1993)",
           31
          ],
          [
           809,
           "Rising Sun (1993)",
           43
          ],
          [
           810,
           "Shadow, The (1994)",
           45
          ],
          [
           811,
           "Thirty-Two Short Films About Glenn Gould (1993)",
           18
          ],
          [
           812,
           "Andre (1994)",
           18
          ],
          [
           813,
           "Celluloid Closet, The (1995)",
           56
          ],
          [
           814,
           "Great Day in Harlem, A (1994)",
           1
          ],
          [
           815,
           "One Fine Day (1996)",
           112
          ],
          [
           816,
           "Candyman: Farewell to the Flesh (1995)",
           21
          ],
          [
           817,
           "Frisk (1995)",
           3
          ],
          [
           818,
           "Girl 6 (1996)",
           25
          ],
          [
           819,
           "Eddie (1996)",
           40
          ],
          [
           820,
           "Space Jam (1996)",
           93
          ],
          [
           821,
           "Mrs. Winterbourne (1996)",
           22
          ],
          [
           822,
           "Faces (1968)",
           4
          ],
          [
           823,
           "Mulholland Falls (1996)",
           82
          ],
          [
           824,
           "Great White Hype, The (1996)",
           49
          ],
          [
           825,
           "Arrival, The (1996)",
           83
          ],
          [
           826,
           "Phantom, The (1996)",
           80
          ],
          [
           827,
           "Daylight (1996)",
           57
          ],
          [
           828,
           "Alaska (1996)",
           13
          ],
          [
           829,
           "Fled (1996)",
           34
          ],
          [
           830,
           "Power 98 (1995)",
           1
          ],
          [
           831,
           "Escape from L.A. (1996)",
           91
          ],
          [
           832,
           "Bogus (1996)",
           22
          ],
          [
           833,
           "Bulletproof (1996)",
           49
          ],
          [
           834,
           "Halloween: The Curse of Michael Myers (1995)",
           25
          ],
          [
           835,
           "Gay Divorcee, The (1934)",
           15
          ],
          [
           836,
           "Ninotchka (1939)",
           26
          ],
          [
           837,
           "Meet John Doe (1941)",
           25
          ],
          [
           838,
           "In the Line of Duty 2 (1987)",
           4
          ],
          [
           839,
           "Loch Ness (1995)",
           4
          ],
          [
           840,
           "Last Man Standing (1996)",
           53
          ],
          [
           841,
           "Glimmer Man, The (1996)",
           48
          ],
          [
           842,
           "Pollyanna (1960)",
           27
          ],
          [
           843,
           "Shaggy Dog, The (1959)",
           30
          ],
          [
           844,
           "Freeway (1996)",
           42
          ],
          [
           845,
           "That Thing You Do! (1996)",
           176
          ],
          [
           846,
           "To Gillian on Her 37th Birthday (1996)",
           44
          ],
          [
           847,
           "Looking for Richard (1996)",
           55
          ],
          [
           848,
           "Murder, My Sweet (1944)",
           9
          ],
          [
           849,
           "Days of Thunder (1990)",
           53
          ],
          [
           850,
           "Perfect Candidate, A (1996)",
           4
          ],
          [
           851,
           "Two or Three Things I Know About Her (1966)",
           4
          ],
          [
           852,
           "Bloody Child, The (1996)",
           1
          ],
          [
           853,
           "Braindead (1992)",
           14
          ],
          [
           854,
           "Bad Taste (1987)",
           16
          ],
          [
           855,
           "Diva (1981)",
           66
          ],
          [
           856,
           "Night on Earth (1991)",
           36
          ],
          [
           857,
           "Paris Was a Woman (1995)",
           1
          ],
          [
           858,
           "Amityville: Dollhouse (1996)",
           3
          ],
          [
           859,
           "April Fool's Day (1986)",
           15
          ],
          [
           860,
           "Believers, The (1987)",
           16
          ],
          [
           861,
           "Nosferatu a Venezia (1986)",
           3
          ],
          [
           862,
           "Jingle All the Way (1996)",
           18
          ],
          [
           863,
           "Garden of Finzi-Contini, The (Giardino dei Finzi-Contini, Il) (1970)",
           24
          ],
          [
           864,
           "My Fellow Americans (1996)",
           86
          ],
          [
           865,
           "Ice Storm, The (1997)",
           21
          ],
          [
           866,
           "Michael (1996)",
           119
          ],
          [
           867,
           "Whole Wide World, The (1996)",
           6
          ],
          [
           868,
           "Hearts and Minds (1996)",
           5
          ],
          [
           869,
           "Fools Rush In (1997)",
           24
          ],
          [
           870,
           "Touch (1997)",
           9
          ],
          [
           871,
           "Vegas Vacation (1997)",
           75
          ],
          [
           872,
           "Love Jones (1997)",
           42
          ],
          [
           873,
           "Picture Perfect (1997)",
           81
          ],
          [
           874,
           "Career Girls (1997)",
           39
          ],
          [
           875,
           "She's So Lovely (1997)",
           53
          ],
          [
           876,
           "Money Talks (1997)",
           47
          ],
          [
           877,
           "Excess Baggage (1997)",
           52
          ],
          [
           878,
           "That Darn Cat! (1997)",
           33
          ],
          [
           879,
           "Peacemaker, The (1997)",
           136
          ],
          [
           880,
           "Soul Food (1997)",
           59
          ],
          [
           881,
           "Money Talks (1997)",
           45
          ],
          [
           882,
           "Washington Square (1997)",
           34
          ],
          [
           883,
           "Telling Lies in America (1997)",
           13
          ],
          [
           884,
           "Year of the Horse (1997)",
           7
          ],
          [
           885,
           "Phantoms (1998)",
           13
          ],
          [
           886,
           "Life Less Ordinary, A (1997)",
           53
          ],
          [
           887,
           "Eve's Bayou (1997)",
           64
          ],
          [
           888,
           "One Night Stand (1997)",
           15
          ],
          [
           889,
           "Tango Lesson, The (1997)",
           13
          ],
          [
           890,
           "Mortal Kombat: Annihilation (1997)",
           43
          ],
          [
           891,
           "Bent (1997)",
           6
          ],
          [
           892,
           "Flubber (1997)",
           53
          ],
          [
           893,
           "For Richer or Poorer (1997)",
           14
          ],
          [
           894,
           "Home Alone 3 (1997)",
           19
          ],
          [
           895,
           "Scream 2 (1997)",
           106
          ],
          [
           896,
           "Sweet Hereafter, The (1997)",
           44
          ],
          [
           897,
           "Time Tracers (1995)",
           2
          ],
          [
           898,
           "Postman, The (1997)",
           58
          ],
          [
           899,
           "Winter Guest, The (1997)",
           9
          ],
          [
           900,
           "Kundun (1997)",
           42
          ],
          [
           901,
           "Mr. Magoo (1997)",
           12
          ],
          [
           902,
           "Big Lebowski, The (1998)",
           42
          ],
          [
           903,
           "Afterglow (1997)",
           18
          ],
          [
           904,
           "Ma vie en rose (My Life in Pink) (1997)",
           20
          ],
          [
           905,
           "Great Expectations (1998)",
           27
          ],
          [
           906,
           "Oscar & Lucinda (1997)",
           21
          ],
          [
           907,
           "Vermin (1998)",
           2
          ],
          [
           908,
           "Half Baked (1998)",
           20
          ],
          [
           909,
           "Dangerous Beauty (1998)",
           13
          ],
          [
           910,
           "Nil By Mouth (1997)",
           4
          ],
          [
           911,
           "Twilight (1998)",
           4
          ],
          [
           912,
           "U.S. Marshalls (1998)",
           9
          ],
          [
           913,
           "Love and Death on Long Island (1997)",
           2
          ],
          [
           914,
           "Wild Things (1998)",
           11
          ],
          [
           915,
           "Primary Colors (1998)",
           13
          ],
          [
           916,
           "Lost in Space (1998)",
           18
          ],
          [
           917,
           "Mercury Rising (1998)",
           7
          ],
          [
           918,
           "City of Angels (1998)",
           8
          ],
          [
           919,
           "City of Lost Children, The (1995)",
           96
          ],
          [
           920,
           "Two Bits (1995)",
           5
          ],
          [
           921,
           "Farewell My Concubine (1993)",
           46
          ],
          [
           922,
           "Dead Man (1995)",
           34
          ],
          [
           923,
           "Raise the Red Lantern (1991)",
           58
          ],
          [
           924,
           "White Squall (1996)",
           85
          ],
          [
           925,
           "Unforgettable (1996)",
           34
          ],
          [
           926,
           "Down Periscope (1996)",
           101
          ],
          [
           927,
           "Flower of My Secret, The (Flor de mi secreto, La) (1995)",
           6
          ],
          [
           928,
           "Craft, The (1996)",
           104
          ],
          [
           929,
           "Harriet the Spy (1996)",
           40
          ],
          [
           930,
           "Chain Reaction (1996)",
           80
          ],
          [
           931,
           "Island of Dr. Moreau, The (1996)",
           57
          ],
          [
           932,
           "First Kid (1996)",
           40
          ],
          [
           933,
           "Funeral, The (1996)",
           21
          ],
          [
           934,
           "Preacher's Wife, The (1996)",
           68
          ],
          [
           935,
           "Paradise Road (1997)",
           7
          ],
          [
           936,
           "Brassed Off (1996)",
           32
          ],
          [
           937,
           "Thousand Acres, A (1997)",
           37
          ],
          [
           938,
           "Smile Like Yours, A (1997)",
           25
          ],
          [
           939,
           "Murder in the First (1995)",
           60
          ],
          [
           940,
           "Airheads (1994)",
           32
          ],
          [
           941,
           "With Honors (1994)",
           46
          ],
          [
           942,
           "What's Love Got to Do with It (1993)",
           45
          ],
          [
           943,
           "Killing Zoe (1994)",
           40
          ],
          [
           944,
           "Renaissance Man (1994)",
           43
          ],
          [
           945,
           "Charade (1963)",
           40
          ],
          [
           946,
           "Fox and the Hound, The (1981)",
           61
          ],
          [
           947,
           "Big Blue, The (Grand bleu, Le) (1988)",
           17
          ],
          [
           948,
           "Booty Call (1997)",
           48
          ],
          [
           949,
           "How to Make an American Quilt (1995)",
           71
          ],
          [
           950,
           "Georgia (1995)",
           30
          ],
          [
           951,
           "Indian in the Cupboard, The (1995)",
           39
          ],
          [
           952,
           "Blue in the Face (1995)",
           45
          ],
          [
           953,
           "Unstrung Heroes (1995)",
           22
          ],
          [
           954,
           "Unzipped (1995)",
           11
          ],
          [
           955,
           "Before Sunrise (1995)",
           49
          ],
          [
           956,
           "Nobody's Fool (1994)",
           46
          ],
          [
           957,
           "Pushing Hands (1992)",
           2
          ],
          [
           958,
           "To Live (Huozhe) (1994)",
           14
          ],
          [
           959,
           "Dazed and Confused (1993)",
           64
          ],
          [
           960,
           "Naked (1993)",
           25
          ],
          [
           961,
           "Orlando (1993)",
           34
          ],
          [
           962,
           "Ruby in Paradise (1993)",
           23
          ],
          [
           963,
           "Some Folks Call It a Sling Blade (1993)",
           41
          ],
          [
           964,
           "Month by the Lake, A (1995)",
           9
          ],
          [
           965,
           "Funny Face (1957)",
           21
          ],
          [
           966,
           "Affair to Remember, An (1957)",
           26
          ],
          [
           967,
           "Little Lord Fauntleroy (1936)",
           12
          ],
          [
           968,
           "Inspector General, The (1949)",
           18
          ],
          [
           969,
           "Winnie the Pooh and the Blustery Day (1968)",
           75
          ],
          [
           970,
           "Hear My Song (1991)",
           8
          ],
          [
           971,
           "Mediterraneo (1991)",
           34
          ],
          [
           972,
           "Passion Fish (1992)",
           28
          ],
          [
           973,
           "Grateful Dead (1995)",
           4
          ],
          [
           974,
           "Eye for an Eye (1996)",
           32
          ],
          [
           975,
           "Fear (1996)",
           44
          ],
          [
           976,
           "Solo (1996)",
           12
          ],
          [
           977,
           "Substitute, The (1996)",
           49
          ],
          [
           978,
           "Heaven's Prisoners (1996)",
           27
          ],
          [
           979,
           "Trigger Effect, The (1996)",
           35
          ],
          [
           980,
           "Mother Night (1996)",
           22
          ],
          [
           981,
           "Dangerous Ground (1997)",
           8
          ],
          [
           982,
           "Maximum Risk (1996)",
           20
          ],
          [
           983,
           "Rich Man's Wife, The (1996)",
           15
          ],
          [
           984,
           "Shadow Conspiracy (1997)",
           44
          ],
          [
           985,
           "Blood & Wine (1997)",
           22
          ],
          [
           986,
           "Turbulence (1997)",
           23
          ],
          [
           987,
           "Underworld (1997)",
           4
          ],
          [
           988,
           "Beautician and the Beast, The (1997)",
           86
          ],
          [
           989,
           "Cats Don't Dance (1997)",
           32
          ],
          [
           990,
           "Anna Karenina (1997)",
           33
          ],
          [
           991,
           "Keys to Tulsa (1997)",
           25
          ],
          [
           992,
           "Head Above Water (1996)",
           4
          ],
          [
           993,
           "Hercules (1997)",
           66
          ],
          [
           994,
           "Last Time I Committed Suicide, The (1997)",
           7
          ],
          [
           995,
           "Kiss Me, Guido (1997)",
           31
          ],
          [
           996,
           "Big Green, The (1995)",
           14
          ],
          [
           997,
           "Stuart Saves His Family (1995)",
           16
          ],
          [
           998,
           "Cabin Boy (1994)",
           16
          ],
          [
           999,
           "Clean Slate (1994)",
           10
          ],
          [
           1000,
           "Lightning Jack (1994)",
           10
          ],
          [
           1001,
           "Stupids, The (1996)",
           17
          ],
          [
           1002,
           "Pest, The (1997)",
           8
          ],
          [
           1003,
           "That Darn Cat! (1997)",
           8
          ],
          [
           1004,
           "Geronimo: An American Legend (1993)",
           9
          ],
          [
           1005,
           "Double vie de Véronique, La (Double Life of Veronique, The) (1991)",
           22
          ],
          [
           1006,
           "Until the End of the World (Bis ans Ende der Welt) (1991)",
           23
          ],
          [
           1007,
           "Waiting for Guffman (1996)",
           47
          ],
          [
           1008,
           "I Shot Andy Warhol (1996)",
           37
          ],
          [
           1009,
           "Stealing Beauty (1996)",
           64
          ],
          [
           1010,
           "Basquiat (1996)",
           44
          ],
          [
           1011,
           "2 Days in the Valley (1996)",
           93
          ],
          [
           1012,
           "Private Parts (1997)",
           100
          ],
          [
           1013,
           "Anaconda (1997)",
           38
          ],
          [
           1014,
           "Romy and Michele's High School Reunion (1997)",
           98
          ],
          [
           1015,
           "Shiloh (1997)",
           12
          ],
          [
           1016,
           "Con Air (1997)",
           137
          ],
          [
           1017,
           "Trees Lounge (1996)",
           50
          ],
          [
           1018,
           "Tie Me Up! Tie Me Down! (1990)",
           32
          ],
          [
           1019,
           "Die xue shuang xiong (Killer, The) (1989)",
           31
          ],
          [
           1020,
           "Gaslight (1944)",
           35
          ],
          [
           1021,
           "8 1/2 (1963)",
           38
          ],
          [
           1022,
           "Fast, Cheap & Out of Control (1997)",
           32
          ],
          [
           1023,
           "Fathers' Day (1997)",
           31
          ],
          [
           1024,
           "Mrs. Dalloway (1997)",
           15
          ],
          [
           1025,
           "Fire Down Below (1997)",
           44
          ],
          [
           1026,
           "Lay of the Land, The (1997)",
           4
          ],
          [
           1027,
           "Shooter, The (1995)",
           3
          ],
          [
           1028,
           "Grumpier Old Men (1995)",
           148
          ],
          [
           1029,
           "Jury Duty (1995)",
           14
          ],
          [
           1030,
           "Beverly Hillbillies, The (1993)",
           20
          ],
          [
           1031,
           "Lassie (1994)",
           7
          ],
          [
           1032,
           "Little Big League (1994)",
           16
          ],
          [
           1033,
           "Homeward Bound II: Lost in San Francisco (1996)",
           32
          ],
          [
           1034,
           "Quest, The (1996)",
           27
          ],
          [
           1035,
           "Cool Runnings (1993)",
           68
          ],
          [
           1036,
           "Drop Dead Fred (1991)",
           24
          ],
          [
           1037,
           "Grease 2 (1982)",
           24
          ],
          [
           1038,
           "Switchback (1997)",
           17
          ],
          [
           1039,
           "Hamlet (1996)",
           90
          ],
          [
           1040,
           "Two if by Sea (1996)",
           25
          ],
          [
           1041,
           "Forget Paris (1995)",
           62
          ],
          [
           1042,
           "Just Cause (1995)",
           28
          ],
          [
           1043,
           "Rent-a-Kid (1995)",
           8
          ],
          [
           1044,
           "Paper, The (1994)",
           40
          ],
          [
           1045,
           "Fearless (1993)",
           25
          ],
          [
           1046,
           "Malice (1993)",
           46
          ],
          [
           1047,
           "Multiplicity (1996)",
           134
          ],
          [
           1048,
           "She's the One (1996)",
           73
          ],
          [
           1049,
           "House Arrest (1996)",
           25
          ],
          [
           1050,
           "Ghost and Mrs. Muir, The (1947)",
           43
          ],
          [
           1051,
           "Associate, The (1996)",
           41
          ],
          [
           1052,
           "Dracula: Dead and Loving It (1995)",
           25
          ],
          [
           1053,
           "Now and Then (1995)",
           24
          ],
          [
           1054,
           "Mr. Wrong (1996)",
           23
          ],
          [
           1055,
           "Simple Twist of Fate, A (1994)",
           10
          ],
          [
           1056,
           "Cronos (1992)",
           10
          ],
          [
           1057,
           "Pallbearer, The (1996)",
           22
          ],
          [
           1058,
           "War, The (1994)",
           15
          ],
          [
           1059,
           "Don't Be a Menace to South Central While Drinking Your Juice in the Hood (1996)",
           35
          ],
          [
           1060,
           "Adventures of Pinocchio, The (1996)",
           39
          ],
          [
           1061,
           "Evening Star, The (1996)",
           29
          ],
          [
           1062,
           "Four Days in September (1997)",
           12
          ],
          [
           1063,
           "Little Princess, A (1995)",
           41
          ],
          [
           1064,
           "Crossfire (1947)",
           4
          ],
          [
           1065,
           "Koyaanisqatsi (1983)",
           53
          ],
          [
           1066,
           "Balto (1995)",
           16
          ],
          [
           1067,
           "Bottle Rocket (1996)",
           44
          ],
          [
           1068,
           "Star Maker, The (Uomo delle stelle, L') (1995)",
           12
          ],
          [
           1069,
           "Amateur (1994)",
           18
          ],
          [
           1070,
           "Living in Oblivion (1995)",
           27
          ],
          [
           1071,
           "Party Girl (1995)",
           16
          ],
          [
           1072,
           "Pyromaniac's Love Story, A (1995)",
           7
          ],
          [
           1073,
           "Shallow Grave (1994)",
           66
          ],
          [
           1074,
           "Reality Bites (1994)",
           77
          ],
          [
           1075,
           "Man of No Importance, A (1994)",
           7
          ],
          [
           1076,
           "Pagemaster, The (1994)",
           12
          ],
          [
           1077,
           "Love and a .45 (1994)",
           8
          ],
          [
           1078,
           "Oliver & Company (1988)",
           22
          ],
          [
           1079,
           "Joe's Apartment (1996)",
           45
          ],
          [
           1080,
           "Celestial Clockwork (1994)",
           2
          ],
          [
           1081,
           "Curdled (1996)",
           8
          ],
          [
           1082,
           "Female Perversions (1996)",
           8
          ],
          [
           1083,
           "Albino Alligator (1996)",
           6
          ],
          [
           1084,
           "Anne Frank Remembered (1995)",
           21
          ],
          [
           1085,
           "Carried Away (1996)",
           11
          ],
          [
           1086,
           "It's My Party (1995)",
           21
          ],
          [
           1087,
           "Bloodsport 2 (1995)",
           10
          ],
          [
           1088,
           "Double Team (1997)",
           13
          ],
          [
           1089,
           "Speed 2: Cruise Control (1997)",
           38
          ],
          [
           1090,
           "Sliver (1993)",
           37
          ],
          [
           1091,
           "Pete's Dragon (1977)",
           43
          ],
          [
           1092,
           "Dear God (1996)",
           12
          ],
          [
           1093,
           "Live Nude Girls (1995)",
           23
          ],
          [
           1094,
           "Thin Line Between Love and Hate, A (1996)",
           12
          ],
          [
           1095,
           "High School High (1996)",
           29
          ],
          [
           1096,
           "Commandments (1997)",
           3
          ],
          [
           1097,
           "Hate (Haine, La) (1995)",
           18
          ],
          [
           1098,
           "Flirting With Disaster (1996)",
           42
          ],
          [
           1099,
           "Red Firecracker, Green Firecracker (1994)",
           13
          ],
          [
           1100,
           "What Happened Was... (1994)",
           8
          ],
          [
           1101,
           "Six Degrees of Separation (1993)",
           74
          ],
          [
           1102,
           "Two Much (1996)",
           7
          ],
          [
           1103,
           "Trust (1990)",
           19
          ],
          [
           1104,
           "C'est arrivé près de chez vous (1992)",
           4
          ],
          [
           1105,
           "Firestorm (1998)",
           18
          ],
          [
           1106,
           "Newton Boys, The (1998)",
           4
          ],
          [
           1107,
           "Beyond Rangoon (1995)",
           18
          ],
          [
           1108,
           "Feast of July (1995)",
           5
          ],
          [
           1109,
           "Death and the Maiden (1994)",
           28
          ],
          [
           1110,
           "Tank Girl (1995)",
           41
          ],
          [
           1111,
           "Double Happiness (1994)",
           7
          ],
          [
           1112,
           "Cobb (1994)",
           15
          ],
          [
           1113,
           "Mrs. Parker and the Vicious Circle (1994)",
           22
          ],
          [
           1114,
           "Faithful (1996)",
           10
          ],
          [
           1115,
           "Twelfth Night (1996)",
           29
          ],
          [
           1116,
           "Mark of Zorro, The (1940)",
           13
          ],
          [
           1117,
           "Surviving Picasso (1996)",
           19
          ],
          [
           1118,
           "Up in Smoke (1978)",
           47
          ],
          [
           1119,
           "Some Kind of Wonderful (1987)",
           59
          ],
          [
           1120,
           "I'm Not Rappaport (1996)",
           17
          ],
          [
           1121,
           "Umbrellas of Cherbourg, The (Parapluies de Cherbourg, Les) (1964)",
           21
          ],
          [
           1122,
           "They Made Me a Criminal (1939)",
           1
          ],
          [
           1123,
           "Last Time I Saw Paris, The (1954)",
           3
          ],
          [
           1124,
           "Farewell to Arms, A (1932)",
           12
          ],
          [
           1125,
           "Innocents, The (1961)",
           4
          ],
          [
           1126,
           "Old Man and the Sea, The (1958)",
           32
          ],
          [
           1127,
           "Truman Show, The (1998)",
           11
          ],
          [
           1128,
           "Heidi Fleiss: Hollywood Madam (1995) ",
           13
          ],
          [
           1129,
           "Chungking Express (1994)",
           28
          ],
          [
           1130,
           "Jupiter's Wife (1994)",
           1
          ],
          [
           1131,
           "Safe (1995)",
           13
          ],
          [
           1132,
           "Feeling Minnesota (1996)",
           32
          ],
          [
           1133,
           "Escape to Witch Mountain (1975)",
           30
          ],
          [
           1134,
           "Get on the Bus (1996)",
           38
          ],
          [
           1135,
           "Doors, The (1991)",
           46
          ],
          [
           1136,
           "Ghosts of Mississippi (1996)",
           29
          ],
          [
           1137,
           "Beautiful Thing (1996)",
           29
          ],
          [
           1138,
           "Best Men (1997)",
           5
          ],
          [
           1139,
           "Hackers (1995)",
           33
          ],
          [
           1140,
           "Road to Wellville, The (1994)",
           17
          ],
          [
           1141,
           "War Room, The (1993)",
           9
          ],
          [
           1142,
           "When We Were Kings (1996)",
           44
          ],
          [
           1143,
           "Hard Eight (1996)",
           15
          ],
          [
           1144,
           "Quiet Room, The (1996)",
           3
          ],
          [
           1145,
           "Blue Chips (1994)",
           9
          ],
          [
           1146,
           "Calendar Girl (1993)",
           3
          ],
          [
           1147,
           "My Family (1995)",
           21
          ],
          [
           1148,
           "Tom & Viv (1994)",
           9
          ],
          [
           1149,
           "Walkabout (1971)",
           26
          ],
          [
           1150,
           "Last Dance (1996)",
           9
          ],
          [
           1151,
           "Original Gangstas (1996)",
           7
          ],
          [
           1152,
           "In Love and War (1996)",
           28
          ],
          [
           1153,
           "Backbeat (1993)",
           19
          ],
          [
           1154,
           "Alphaville (1965)",
           12
          ],
          [
           1155,
           "Rendezvous in Paris (Rendez-vous de Paris, Les) (1995)",
           3
          ],
          [
           1156,
           "Cyclo (1995)",
           1
          ],
          [
           1157,
           "Relic, The (1997)",
           25
          ],
          [
           1158,
           "Fille seule, La (A Single Girl) (1995)",
           4
          ],
          [
           1159,
           "Stalker (1979)",
           11
          ],
          [
           1160,
           "Love! Valour! Compassion! (1997)",
           26
          ],
          [
           1161,
           "Palookaville (1996)",
           13
          ],
          [
           1162,
           "Phat Beach (1996)",
           5
          ],
          [
           1163,
           "Portrait of a Lady, The (1996)",
           25
          ],
          [
           1164,
           "Zeus and Roxanne (1997)",
           6
          ],
          [
           1165,
           "Big Bully (1996)",
           14
          ],
          [
           1166,
           "Love & Human Remains (1993)",
           12
          ],
          [
           1167,
           "Sum of Us, The (1994)",
           11
          ],
          [
           1168,
           "Little Buddha (1993)",
           22
          ],
          [
           1169,
           "Fresh (1994)",
           10
          ],
          [
           1170,
           "Spanking the Monkey (1994)",
           27
          ],
          [
           1171,
           "Wild Reeds (1994)",
           14
          ],
          [
           1172,
           "Women, The (1939)",
           15
          ],
          [
           1173,
           "Bliss (1997)",
           7
          ],
          [
           1174,
           "Caught (1996)",
           8
          ],
          [
           1175,
           "Hugo Pool (1997)",
           5
          ],
          [
           1176,
           "Welcome To Sarajevo (1997)",
           22
          ],
          [
           1177,
           "Dunston Checks In (1996)",
           7
          ],
          [
           1178,
           "Major Payne (1994)",
           19
          ],
          [
           1179,
           "Man of the House (1995)",
           9
          ],
          [
           1180,
           "I Love Trouble (1994)",
           10
          ],
          [
           1181,
           "Low Down Dirty Shame, A (1994)",
           10
          ],
          [
           1182,
           "Cops and Robbersons (1994)",
           13
          ],
          [
           1183,
           "Cowboy Way, The (1994)",
           19
          ],
          [
           1184,
           "Endless Summer 2, The (1994)",
           10
          ],
          [
           1185,
           "In the Army Now (1994)",
           18
          ],
          [
           1186,
           "Inkwell, The (1994)",
           3
          ],
          [
           1187,
           "Switchblade Sisters (1975)",
           13
          ],
          [
           1188,
           "Young Guns II (1990)",
           44
          ],
          [
           1189,
           "Prefontaine (1997)",
           3
          ],
          [
           1190,
           "That Old Feeling (1997)",
           11
          ],
          [
           1191,
           "Letter From Death Row, A (1998)",
           3
          ],
          [
           1192,
           "Boys of St. Vincent, The (1993)",
           13
          ],
          [
           1193,
           "Before the Rain (Pred dozhdot) (1994)",
           10
          ],
          [
           1194,
           "Once Were Warriors (1994)",
           31
          ],
          [
           1195,
           "Strawberry and Chocolate (Fresa y chocolate) (1993)",
           11
          ],
          [
           1196,
           "Savage Nights (Nuits fauves, Les) (1992)",
           3
          ],
          [
           1197,
           "Family Thing, A (1996)",
           45
          ],
          [
           1198,
           "Purple Noon (1960)",
           7
          ],
          [
           1199,
           "Cemetery Man (Dellamorte Dellamore) (1994)",
           23
          ],
          [
           1200,
           "Kim (1950)",
           7
          ],
          [
           1201,
           "Marlene Dietrich: Shadow and Light (1996) ",
           1
          ],
          [
           1202,
           "Maybe, Maybe Not (Bewegte Mann, Der) (1994)",
           8
          ],
          [
           1203,
           "Top Hat (1935)",
           21
          ],
          [
           1204,
           "To Be or Not to Be (1942)",
           18
          ],
          [
           1205,
           "Secret Agent, The (1996)",
           6
          ],
          [
           1206,
           "Amos & Andrew (1993)",
           19
          ],
          [
           1207,
           "Jade (1995)",
           17
          ],
          [
           1208,
           "Kiss of Death (1995)",
           20
          ],
          [
           1209,
           "Mixed Nuts (1994)",
           15
          ],
          [
           1210,
           "Virtuosity (1995)",
           38
          ],
          [
           1211,
           "Blue Sky (1994)",
           12
          ],
          [
           1212,
           "Flesh and Bone (1993)",
           6
          ],
          [
           1213,
           "Guilty as Sin (1993)",
           6
          ],
          [
           1214,
           "In the Realm of the Senses (Ai no corrida) (1976)",
           9
          ],
          [
           1215,
           "Barb Wire (1996)",
           30
          ],
          [
           1216,
           "Kissed (1996)",
           6
          ],
          [
           1217,
           "Assassins (1995)",
           39
          ],
          [
           1218,
           "Friday (1995)",
           26
          ],
          [
           1219,
           "Goofy Movie, A (1995)",
           20
          ],
          [
           1220,
           "Higher Learning (1995)",
           30
          ],
          [
           1221,
           "When a Man Loves a Woman (1994)",
           39
          ],
          [
           1222,
           "Judgment Night (1993)",
           25
          ],
          [
           1223,
           "King of the Hill (1993)",
           4
          ],
          [
           1224,
           "Scout, The (1994)",
           12
          ],
          [
           1225,
           "Angus (1995)",
           14
          ],
          [
           1226,
           "Night Falls on Manhattan (1997)",
           32
          ],
          [
           1227,
           "Awfully Big Adventure, An (1995)",
           8
          ],
          [
           1228,
           "Under Siege 2: Dark Territory (1995)",
           48
          ],
          [
           1229,
           "Poison Ivy II (1995)",
           13
          ],
          [
           1230,
           "Ready to Wear (Pret-A-Porter) (1994)",
           18
          ],
          [
           1231,
           "Marked for Death (1990)",
           22
          ],
          [
           1232,
           "Madonna: Truth or Dare (1991)",
           17
          ],
          [
           1233,
           "Nénette et Boni (1996)",
           6
          ],
          [
           1234,
           "Chairman of the Board (1998)",
           8
          ],
          [
           1235,
           "Big Bang Theory, The (1994)",
           1
          ],
          [
           1236,
           "Other Voices, Other Rooms (1997)",
           1
          ],
          [
           1237,
           "Twisted (1996)",
           6
          ],
          [
           1238,
           "Full Speed (1996)",
           8
          ],
          [
           1239,
           "Cutthroat Island (1995)",
           18
          ],
          [
           1240,
           "Ghost in the Shell (Kokaku kidotai) (1995)",
           26
          ],
          [
           1241,
           "Van, The (1996)",
           6
          ],
          [
           1242,
           "Old Lady Who Walked in the Sea, The (Vieille qui marchait dans la mer, La) (1991)",
           5
          ],
          [
           1243,
           "Night Flier (1997)",
           7
          ],
          [
           1244,
           "Metro (1997)",
           36
          ],
          [
           1245,
           "Gridlock'd (1997)",
           19
          ],
          [
           1246,
           "Bushwhacked (1995)",
           7
          ],
          [
           1247,
           "Bad Girls (1994)",
           6
          ],
          [
           1248,
           "Blink (1994)",
           19
          ],
          [
           1249,
           "For Love or Money (1993)",
           12
          ],
          [
           1250,
           "Best of the Best 3: No Turning Back (1995)",
           6
          ],
          [
           1251,
           "A Chef in Love (1996)",
           8
          ],
          [
           1252,
           "Contempt (Mépris, Le) (1963)",
           9
          ],
          [
           1253,
           "Tie That Binds, The (1995)",
           7
          ],
          [
           1254,
           "Gone Fishin' (1997)",
           11
          ],
          [
           1255,
           "Broken English (1996)",
           8
          ],
          [
           1256,
           "Designated Mourner, The (1997)",
           3
          ],
          [
           1257,
           "Designated Mourner, The (1997)",
           4
          ],
          [
           1258,
           "Trial and Error (1997)",
           23
          ],
          [
           1259,
           "Pie in the Sky (1995)",
           4
          ],
          [
           1260,
           "Total Eclipse (1995)",
           4
          ],
          [
           1261,
           "Run of the Country, The (1995)",
           4
          ],
          [
           1262,
           "Walking and Talking (1996)",
           8
          ],
          [
           1263,
           "Foxfire (1996)",
           15
          ],
          [
           1264,
           "Nothing to Lose (1994)",
           7
          ],
          [
           1265,
           "Star Maps (1997)",
           19
          ],
          [
           1266,
           "Bread and Chocolate (Pane e cioccolata) (1973)",
           12
          ],
          [
           1267,
           "Clockers (1995)",
           33
          ],
          [
           1268,
           "Bitter Moon (1992)",
           10
          ],
          [
           1269,
           "Love in the Afternoon (1957)",
           10
          ],
          [
           1270,
           "Life with Mikey (1993)",
           7
          ],
          [
           1271,
           "North (1994)",
           7
          ],
          [
           1272,
           "Talking About Sex (1994)",
           5
          ],
          [
           1273,
           "Color of Night (1994)",
           15
          ],
          [
           1274,
           "Robocop 3 (1993)",
           11
          ],
          [
           1275,
           "Killer (Bulletproof Heart) (1994)",
           4
          ],
          [
           1276,
           "Sunset Park (1996)",
           8
          ],
          [
           1277,
           "Set It Off (1996)",
           19
          ],
          [
           1278,
           "Selena (1997)",
           16
          ],
          [
           1279,
           "Wild America (1997)",
           9
          ],
          [
           1280,
           "Gang Related (1997)",
           16
          ],
          [
           1281,
           "Manny & Lo (1996)",
           13
          ],
          [
           1282,
           "Grass Harp, The (1995)",
           9
          ],
          [
           1283,
           "Out to Sea (1997)",
           19
          ],
          [
           1284,
           "Before and After (1996)",
           26
          ],
          [
           1285,
           "Princess Caraboo (1994)",
           15
          ],
          [
           1286,
           "Shall We Dance? (1937)",
           17
          ],
          [
           1287,
           "Ed (1996)",
           6
          ],
          [
           1288,
           "Denise Calls Up (1995)",
           7
          ],
          [
           1289,
           "Jack and Sarah (1995)",
           7
          ],
          [
           1290,
           "Country Life (1994)",
           2
          ],
          [
           1291,
           "Celtic Pride (1996)",
           15
          ],
          [
           1292,
           "Simple Wish, A (1997)",
           3
          ],
          [
           1293,
           "Star Kid (1997)",
           3
          ],
          [
           1294,
           "Ayn Rand: A Sense of Life (1997)",
           7
          ],
          [
           1295,
           "Kicked in the Head (1997)",
           7
          ],
          [
           1296,
           "Indian Summer (1996)",
           20
          ],
          [
           1297,
           "Love Affair (1994)",
           12
          ],
          [
           1298,
           "Band Wagon, The (1953)",
           9
          ],
          [
           1299,
           "Penny Serenade (1941)",
           8
          ],
          [
           1300,
           "'Til There Was You (1997)",
           9
          ],
          [
           1301,
           "Stripes (1981)",
           5
          ],
          [
           1302,
           "Late Bloomers (1996)",
           5
          ],
          [
           1303,
           "Getaway, The (1994)",
           18
          ],
          [
           1304,
           "New York Cop (1996)",
           2
          ],
          [
           1305,
           "National Lampoon's Senior Trip (1995)",
           7
          ],
          [
           1306,
           "Delta of Venus (1994)",
           2
          ],
          [
           1307,
           "Carmen Miranda: Bananas Is My Business (1994)",
           2
          ],
          [
           1308,
           "Babyfever (1994)",
           2
          ],
          [
           1309,
           "Very Natural Thing, A (1974)",
           1
          ],
          [
           1310,
           "Walk in the Sun, A (1945)",
           1
          ],
          [
           1311,
           "Waiting to Exhale (1995)",
           16
          ],
          [
           1312,
           "Pompatus of Love, The (1996)",
           7
          ],
          [
           1313,
           "Palmetto (1998)",
           14
          ],
          [
           1314,
           "Surviving the Game (1994)",
           11
          ],
          [
           1315,
           "Inventing the Abbotts (1997)",
           23
          ],
          [
           1316,
           "Horse Whisperer, The (1998)",
           7
          ],
          [
           1317,
           "Journey of August King, The (1995)",
           4
          ],
          [
           1318,
           "Catwalk (1995)",
           3
          ],
          [
           1319,
           "Neon Bible, The (1995)",
           4
          ],
          [
           1320,
           "Homage (1995)",
           1
          ],
          [
           1321,
           "Open Season (1996)",
           2
          ],
          [
           1322,
           "Metisse (Café au Lait) (1993)",
           6
          ],
          [
           1323,
           "Wooden Man's Bride, The (Wu Kui) (1994)",
           3
          ],
          [
           1324,
           "Loaded (1994)",
           5
          ],
          [
           1325,
           "August (1996)",
           1
          ],
          [
           1326,
           "Boys (1996)",
           6
          ],
          [
           1327,
           "Captives (1994)",
           3
          ],
          [
           1328,
           "Of Love and Shadows (1994)",
           6
          ],
          [
           1329,
           "Low Life, The (1994)",
           1
          ],
          [
           1330,
           "An Unforgettable Summer (1994)",
           4
          ],
          [
           1331,
           "Last Klezmer: Leopold Kozlowski, His Life and Music, The (1995)",
           4
          ],
          [
           1332,
           "My Life and Times With Antonin Artaud (En compagnie d'Antonin Artaud) (1993)",
           2
          ],
          [
           1333,
           "Midnight Dancers (Sibak) (1994)",
           5
          ],
          [
           1334,
           "Somebody to Love (1994)",
           2
          ],
          [
           1335,
           "American Buffalo (1996)",
           11
          ],
          [
           1336,
           "Kazaam (1996)",
           10
          ],
          [
           1337,
           "Larger Than Life (1996)",
           9
          ],
          [
           1338,
           "Two Deaths (1995)",
           4
          ],
          [
           1339,
           "Stefano Quantestorie (1993)",
           1
          ],
          [
           1340,
           "Crude Oasis, The (1995)",
           1
          ],
          [
           1341,
           "Hedd Wyn (1992)",
           1
          ],
          [
           1342,
           "Convent, The (Convento, O) (1995)",
           2
          ],
          [
           1343,
           "Lotto Land (1995)",
           1
          ],
          [
           1344,
           "Story of Xinghua, The (1993)",
           5
          ],
          [
           1345,
           "Day the Sun Turned Cold, The (Tianguo niezi) (1994)",
           2
          ],
          [
           1346,
           "Dingo (1992)",
           5
          ],
          [
           1347,
           "Ballad of Narayama, The (Narayama Bushiko) (1958)",
           4
          ],
          [
           1348,
           "Every Other Weekend (1990)",
           1
          ],
          [
           1349,
           "Mille bolle blu (1993)",
           1
          ],
          [
           1350,
           "Crows and Sparrows (1949)",
           2
          ],
          [
           1351,
           "Lover's Knot (1996)",
           3
          ],
          [
           1352,
           "Shadow of Angels (Schatten der Engel) (1976)",
           1
          ],
          [
           1353,
           "1-900 (1994)",
           5
          ],
          [
           1354,
           "Venice/Venice (1992)",
           2
          ],
          [
           1355,
           "Infinity (1996)",
           6
          ],
          [
           1356,
           "Ed's Next Move (1996)",
           3
          ],
          [
           1357,
           "For the Moment (1994)",
           3
          ],
          [
           1358,
           "The Deadly Cure (1996)",
           2
          ],
          [
           1359,
           "Boys in Venice (1996)",
           2
          ],
          [
           1360,
           "Sexual Life of the Belgians, The (1994)",
           2
          ],
          [
           1361,
           "Search for One-eye Jimmy, The (1996)",
           3
          ],
          [
           1362,
           "American Strays (1996)",
           2
          ],
          [
           1363,
           "Leopard Son, The (1996)",
           1
          ],
          [
           1364,
           "Bird of Prey (1996)",
           1
          ],
          [
           1365,
           "Johnny 100 Pesos (1993)",
           2
          ],
          [
           1366,
           "JLG/JLG - autoportrait de décembre (1994)",
           1
          ],
          [
           1367,
           "Faust (1994)",
           5
          ],
          [
           1368,
           "Mina Tannenbaum (1994)",
           6
          ],
          [
           1369,
           "Forbidden Christ, The (Cristo proibito, Il) (1950)",
           4
          ],
          [
           1370,
           "I Can't Sleep (J'ai pas sommeil) (1994)",
           3
          ],
          [
           1371,
           "Machine, The (1994)",
           2
          ],
          [
           1372,
           "Stranger, The (1994)",
           3
          ],
          [
           1373,
           "Good Morning (1971)",
           1
          ],
          [
           1374,
           "Falling in Love Again (1980)",
           2
          ],
          [
           1375,
           "Cement Garden, The (1993)",
           10
          ],
          [
           1376,
           "Meet Wally Sparks (1997)",
           7
          ],
          [
           1377,
           "Hotel de Love (1996)",
           4
          ],
          [
           1378,
           "Rhyme & Reason (1997)",
           5
          ],
          [
           1379,
           "Love and Other Catastrophes (1996)",
           7
          ],
          [
           1380,
           "Hollow Reed (1996)",
           6
          ],
          [
           1381,
           "Losing Chase (1996)",
           8
          ],
          [
           1382,
           "Bonheur, Le (1965)",
           4
          ],
          [
           1383,
           "Second Jungle Book: Mowgli & Baloo, The (1997)",
           6
          ],
          [
           1384,
           "Squeeze (1996)",
           3
          ],
          [
           1385,
           "Roseanna's Grave (For Roseanna) (1997)",
           5
          ],
          [
           1386,
           "Tetsuo II: Body Hammer (1992)",
           6
          ],
          [
           1387,
           "Fall (1997)",
           3
          ],
          [
           1388,
           "Gabbeh (1996)",
           6
          ],
          [
           1389,
           "Mondo (1996)",
           3
          ],
          [
           1390,
           "Innocent Sleep, The (1995)",
           2
          ],
          [
           1391,
           "For Ever Mozart (1996)",
           3
          ],
          [
           1392,
           "Locusts, The (1997)",
           5
          ],
          [
           1393,
           "Stag (1997)",
           9
          ],
          [
           1394,
           "Swept from the Sea (1997)",
           7
          ],
          [
           1395,
           "Hurricane Streets (1998)",
           6
          ],
          [
           1396,
           "Stonewall (1995)",
           5
          ],
          [
           1397,
           "Of Human Bondage (1934)",
           5
          ],
          [
           1398,
           "Anna (1996)",
           2
          ],
          [
           1399,
           "Stranger in the House (1997)",
           7
          ],
          [
           1400,
           "Picture Bride (1995)",
           10
          ],
          [
           1401,
           "M. Butterfly (1993)",
           18
          ],
          [
           1402,
           "Ciao, Professore! (1993)",
           4
          ],
          [
           1403,
           "Caro Diario (Dear Diary) (1994)",
           4
          ],
          [
           1404,
           "Withnail and I (1987)",
           13
          ],
          [
           1405,
           "Boy's Life 2 (1997)",
           6
          ],
          [
           1406,
           "When Night Is Falling (1995)",
           5
          ],
          [
           1407,
           "Specialist, The (1994)",
           20
          ],
          [
           1408,
           "Gordy (1995)",
           3
          ],
          [
           1409,
           "Swan Princess, The (1994)",
           7
          ],
          [
           1410,
           "Harlem (1993)",
           4
          ],
          [
           1411,
           "Barbarella (1968)",
           28
          ],
          [
           1412,
           "Land Before Time III: The Time of the Great Giving (1995) (V)",
           6
          ],
          [
           1413,
           "Street Fighter (1994)",
           8
          ],
          [
           1414,
           "Coldblooded (1995)",
           1
          ],
          [
           1415,
           "Next Karate Kid, The (1994)",
           9
          ],
          [
           1416,
           "No Escape (1994)",
           5
          ],
          [
           1417,
           "Turning, The (1992)",
           2
          ],
          [
           1418,
           "Joy Luck Club, The (1993)",
           3
          ],
          [
           1419,
           "Highlander III: The Sorcerer (1994)",
           16
          ],
          [
           1420,
           "Gilligan's Island: The Movie (1998)",
           3
          ],
          [
           1421,
           "My Crazy Life (Mi vida loca) (1993)",
           11
          ],
          [
           1422,
           "Suture (1993)",
           4
          ],
          [
           1423,
           "Walking Dead, The (1995)",
           4
          ],
          [
           1424,
           "I Like It Like That (1994)",
           3
          ],
          [
           1425,
           "I'll Do Anything (1994)",
           10
          ],
          [
           1426,
           "Grace of My Heart (1996)",
           8
          ],
          [
           1427,
           "Drunks (1995)",
           5
          ],
          [
           1428,
           "SubUrbia (1997)",
           12
          ],
          [
           1429,
           "Sliding Doors (1998)",
           4
          ],
          [
           1430,
           "Ill Gotten Gains (1997)",
           3
          ],
          [
           1431,
           "Legal Deceit (1997)",
           5
          ],
          [
           1432,
           "Mighty, The (1998)",
           3
          ],
          [
           1433,
           "Men of Means (1998)",
           2
          ],
          [
           1434,
           "Shooting Fish (1997)",
           10
          ],
          [
           1435,
           "Steal Big, Steal Little (1995)",
           7
          ],
          [
           1436,
           "Mr. Jones (1993)",
           2
          ],
          [
           1437,
           "House Party 3 (1994)",
           9
          ],
          [
           1438,
           "Panther (1995)",
           5
          ],
          [
           1439,
           "Jason's Lyric (1994)",
           8
          ],
          [
           1440,
           "Above the Rim (1994)",
           5
          ],
          [
           1441,
           "Moonlight and Valentino (1995)",
           7
          ],
          [
           1442,
           "Scarlet Letter, The (1995)",
           5
          ],
          [
           1443,
           "8 Seconds (1994)",
           4
          ],
          [
           1444,
           "That Darn Cat! (1965)",
           19
          ],
          [
           1445,
           "Ladybird Ladybird (1994)",
           4
          ],
          [
           1446,
           "Bye Bye, Love (1995)",
           15
          ],
          [
           1447,
           "Century (1993)",
           1
          ],
          [
           1448,
           "My Favorite Season (1993)",
           3
          ],
          [
           1449,
           "Pather Panchali (1955)",
           8
          ],
          [
           1450,
           "Golden Earrings (1947)",
           2
          ],
          [
           1451,
           "Foreign Correspondent (1940)",
           15
          ],
          [
           1452,
           "Lady of Burlesque (1943)",
           1
          ],
          [
           1453,
           "Angel on My Shoulder (1946)",
           1
          ],
          [
           1454,
           "Angel and the Badman (1947)",
           6
          ],
          [
           1455,
           "Outlaw, The (1943)",
           2
          ],
          [
           1456,
           "Beat the Devil (1954)",
           7
          ],
          [
           1457,
           "Love Is All There Is (1996)",
           1
          ],
          [
           1458,
           "Damsel in Distress, A (1937)",
           1
          ],
          [
           1459,
           "Madame Butterfly (1995)",
           7
          ],
          [
           1460,
           "Sleepover (1995)",
           1
          ],
          [
           1461,
           "Here Comes Cookie (1935)",
           1
          ],
          [
           1462,
           "Thieves (Voleurs, Les) (1996)",
           7
          ],
          [
           1463,
           "Boys, Les (1997)",
           3
          ],
          [
           1464,
           "Stars Fell on Henrietta, The (1995)",
           3
          ],
          [
           1465,
           "Last Summer in the Hamptons (1995)",
           3
          ],
          [
           1466,
           "Margaret's Museum (1995)",
           6
          ],
          [
           1467,
           "Saint of Fort Washington, The (1993)",
           2
          ],
          [
           1468,
           "Cure, The (1995)",
           6
          ],
          [
           1469,
           "Tom and Huck (1995)",
           12
          ],
          [
           1470,
           "Gumby: The Movie (1995)",
           5
          ],
          [
           1471,
           "Hideaway (1995)",
           9
          ],
          [
           1472,
           "Visitors, The (Visiteurs, Les) (1993)",
           2
          ],
          [
           1473,
           "Little Princess, The (1939)",
           9
          ],
          [
           1474,
           "Nina Takes a Lover (1994)",
           6
          ],
          [
           1475,
           "Bhaji on the Beach (1993)",
           8
          ],
          [
           1476,
           "Raw Deal (1948)",
           1
          ],
          [
           1477,
           "Nightwatch (1997)",
           2
          ],
          [
           1478,
           "Dead Presidents (1995)",
           18
          ],
          [
           1479,
           "Reckless (1995)",
           8
          ],
          [
           1480,
           "Herbie Rides Again (1974)",
           11
          ],
          [
           1481,
           "S.F.W. (1994)",
           2
          ],
          [
           1482,
           "Gate of Heavenly Peace, The (1995)",
           1
          ],
          [
           1483,
           "Man in the Iron Mask, The (1998)",
           12
          ],
          [
           1484,
           "Jerky Boys, The (1994)",
           3
          ],
          [
           1485,
           "Colonel Chabert, Le (1994)",
           4
          ],
          [
           1486,
           "Girl in the Cadillac (1995)",
           1
          ],
          [
           1487,
           "Even Cowgirls Get the Blues (1993)",
           5
          ],
          [
           1488,
           "Germinal (1993)",
           4
          ],
          [
           1489,
           "Chasers (1994)",
           5
          ],
          [
           1490,
           "Fausto (1993)",
           3
          ],
          [
           1491,
           "Tough and Deadly (1995)",
           2
          ],
          [
           1492,
           "Window to Paris (1994)",
           1
          ],
          [
           1493,
           "Modern Affair, A (1995)",
           1
          ],
          [
           1494,
           "Mostro, Il (1994)",
           1
          ],
          [
           1495,
           "Flirt (1995)",
           5
          ],
          [
           1496,
           "Carpool (1996)",
           5
          ],
          [
           1497,
           "Line King: Al Hirschfeld, The (1996)",
           2
          ],
          [
           1498,
           "Farmer & Chase (1995)",
           1
          ],
          [
           1499,
           "Grosse Fatigue (1994)",
           4
          ],
          [
           1500,
           "Santa with Muscles (1996)",
           2
          ],
          [
           1501,
           "Prisoner of the Mountains (Kavkazsky Plennik) (1996)",
           5
          ],
          [
           1502,
           "Naked in New York (1994)",
           2
          ],
          [
           1503,
           "Gold Diggers: The Secret of Bear Mountain (1995)",
           10
          ],
          [
           1504,
           "Bewegte Mann, Der (1994)",
           3
          ],
          [
           1505,
           "Killer: A Journal of Murder (1995)",
           1
          ],
          [
           1506,
           "Nelly & Monsieur Arnaud (1995)",
           3
          ],
          [
           1507,
           "Three Lives and Only One Death (1996)",
           1
          ],
          [
           1508,
           "Babysitter, The (1995)",
           3
          ],
          [
           1509,
           "Getting Even with Dad (1994)",
           5
          ],
          [
           1510,
           "Mad Dog Time (1996)",
           1
          ],
          [
           1511,
           "Children of the Revolution (1996)",
           5
          ],
          [
           1512,
           "World of Apu, The (Apur Sansar) (1959)",
           6
          ],
          [
           1513,
           "Sprung (1997)",
           3
          ],
          [
           1514,
           "Dream With the Fishes (1997)",
           7
          ],
          [
           1515,
           "Wings of Courage (1995)",
           1
          ],
          [
           1516,
           "Wedding Gift, The (1994)",
           3
          ],
          [
           1517,
           "Race the Sun (1996)",
           5
          ],
          [
           1518,
           "Losing Isaiah (1995)",
           12
          ],
          [
           1519,
           "New Jersey Drive (1995)",
           2
          ],
          [
           1520,
           "Fear, The (1995)",
           1
          ],
          [
           1521,
           "Mr. Wonderful (1993)",
           4
          ],
          [
           1522,
           "Trial by Jury (1994)",
           7
          ],
          [
           1523,
           "Good Man in Africa, A (1994)",
           2
          ],
          [
           1524,
           "Kaspar Hauser (1993)",
           8
          ],
          [
           1525,
           "Object of My Affection, The (1998)",
           1
          ],
          [
           1526,
           "Witness (1985)",
           1
          ],
          [
           1527,
           "Senseless (1998)",
           7
          ],
          [
           1528,
           "Nowhere (1997)",
           3
          ],
          [
           1529,
           "Underground (1995)",
           5
          ],
          [
           1530,
           "Jefferson in Paris (1995)",
           5
          ],
          [
           1531,
           "Far From Home: The Adventures of Yellow Dog (1995)",
           7
          ],
          [
           1532,
           "Foreign Student (1994)",
           2
          ],
          [
           1533,
           "I Don't Want to Talk About It (De eso no se habla) (1993)",
           1
          ],
          [
           1534,
           "Twin Town (1997)",
           6
          ],
          [
           1535,
           "Enfer, L' (1994)",
           4
          ],
          [
           1536,
           "Aiqing wansui (1994)",
           1
          ],
          [
           1537,
           "Cosi (1996)",
           4
          ],
          [
           1538,
           "All Over Me (1997)",
           3
          ],
          [
           1539,
           "Being Human (1993)",
           4
          ],
          [
           1540,
           "Amazing Panda Adventure, The (1995)",
           10
          ],
          [
           1541,
           "Beans of Egypt, Maine, The (1994)",
           2
          ],
          [
           1542,
           "Scarlet Letter, The (1926)",
           2
          ],
          [
           1543,
           "Johns (1996)",
           1
          ],
          [
           1544,
           "It Takes Two (1995)",
           3
          ],
          [
           1545,
           "Frankie Starlight (1995)",
           4
          ],
          [
           1546,
           "Shadows (Cienie) (1988)",
           1
          ],
          [
           1547,
           "Show, The (1995)",
           2
          ],
          [
           1548,
           "The Courtyard (1995)",
           1
          ],
          [
           1549,
           "Dream Man (1995)",
           2
          ],
          [
           1550,
           "Destiny Turns on the Radio (1995)",
           2
          ],
          [
           1551,
           "Glass Shield, The (1994)",
           2
          ],
          [
           1552,
           "Hunted, The (1995)",
           3
          ],
          [
           1553,
           "Underneath, The (1995)",
           4
          ],
          [
           1554,
           "Safe Passage (1994)",
           2
          ],
          [
           1555,
           "Secret Adventures of Tom Thumb, The (1993)",
           5
          ],
          [
           1556,
           "Condition Red (1995)",
           2
          ],
          [
           1557,
           "Yankee Zulu (1994)",
           1
          ],
          [
           1558,
           "Aparajito (1956)",
           7
          ],
          [
           1559,
           "Hostile Intentions (1994)",
           1
          ],
          [
           1560,
           "Clean Slate (Coup de Torchon) (1981)",
           4
          ],
          [
           1561,
           "Tigrero: A Film That Was Never Made (1994)",
           1
          ],
          [
           1562,
           "Eye of Vichy, The (Oeil de Vichy, L') (1993)",
           1
          ],
          [
           1563,
           "Promise, The (Versprechen, Das) (1994)",
           1
          ],
          [
           1564,
           "To Cross the Rubicon (1991)",
           1
          ],
          [
           1565,
           "Daens (1992)",
           1
          ],
          [
           1566,
           "Man from Down Under, The (1943)",
           1
          ],
          [
           1567,
           "Careful (1992)",
           1
          ],
          [
           1568,
           "Vermont Is For Lovers (1992)",
           1
          ],
          [
           1569,
           "Vie est belle, La (Life is Rosey) (1987)",
           1
          ],
          [
           1570,
           "Quartier Mozart (1992)",
           1
          ],
          [
           1571,
           "Touki Bouki (Journey of the Hyena) (1973)",
           1
          ],
          [
           1572,
           "Wend Kuuni (God's Gift) (1982)",
           1
          ],
          [
           1573,
           "Spirits of the Dead (Tre passi nel delirio) (1968)",
           2
          ],
          [
           1574,
           "Pharaoh's Army (1995)",
           1
          ],
          [
           1575,
           "I, Worst of All (Yo, la peor de todas) (1990)",
           1
          ],
          [
           1576,
           "Hungarian Fairy Tale, A (1987)",
           1
          ],
          [
           1577,
           "Death in the Garden (Mort en ce jardin, La) (1956)",
           1
          ],
          [
           1578,
           "Collectionneuse, La (1967)",
           2
          ],
          [
           1579,
           "Baton Rouge (1988)",
           1
          ],
          [
           1580,
           "Liebelei (1933)",
           1
          ],
          [
           1581,
           "Woman in Question, The (1950)",
           1
          ],
          [
           1582,
           "T-Men (1947)",
           1
          ],
          [
           1583,
           "Invitation, The (Zaproszenie) (1986)",
           1
          ],
          [
           1584,
           "Symphonie pastorale, La (1946)",
           1
          ],
          [
           1585,
           "American Dream (1990)",
           2
          ],
          [
           1586,
           "Lashou shentan (1992)",
           1
          ],
          [
           1587,
           "Terror in a Texas Town (1958)",
           1
          ],
          [
           1588,
           "Salut cousin! (1996)",
           2
          ],
          [
           1589,
           "Schizopolis (1996)",
           4
          ],
          [
           1590,
           "To Have, or Not (1995)",
           2
          ],
          [
           1591,
           "Duoluo tianshi (1995)",
           6
          ],
          [
           1592,
           "Magic Hour, The (1998)",
           5
          ],
          [
           1593,
           "Death in Brunswick (1991)",
           1
          ],
          [
           1594,
           "Everest (1998)",
           2
          ],
          [
           1595,
           "Shopping (1994)",
           1
          ],
          [
           1596,
           "Nemesis 2: Nebula (1995)",
           1
          ],
          [
           1597,
           "Romper Stomper (1992)",
           5
          ],
          [
           1598,
           "City of Industry (1997)",
           6
          ],
          [
           1599,
           "Someone Else's America (1995)",
           1
          ],
          [
           1600,
           "Guantanamera (1994)",
           4
          ],
          [
           1601,
           "Office Killer (1997)",
           1
          ],
          [
           1602,
           "Price Above Rubies, A (1998)",
           3
          ],
          [
           1603,
           "Angela (1995)",
           1
          ],
          [
           1604,
           "He Walked by Night (1948)",
           1
          ],
          [
           1605,
           "Love Serenade (1996)",
           4
          ],
          [
           1606,
           "Deceiver (1997)",
           1
          ],
          [
           1607,
           "Hurricane Streets (1998)",
           3
          ],
          [
           1608,
           "Buddy (1997)",
           4
          ],
          [
           1609,
           "B*A*P*S (1997)",
           3
          ],
          [
           1610,
           "Truth or Consequences, N.M. (1997)",
           3
          ],
          [
           1611,
           "Intimate Relations (1996)",
           2
          ],
          [
           1612,
           "Leading Man, The (1996)",
           4
          ],
          [
           1613,
           "Tokyo Fist (1995)",
           1
          ],
          [
           1614,
           "Reluctant Debutante, The (1958)",
           1
          ],
          [
           1615,
           "Warriors of Virtue (1997)",
           10
          ],
          [
           1616,
           "Desert Winds (1995)",
           1
          ],
          [
           1617,
           "Hugo Pool (1997)",
           2
          ],
          [
           1618,
           "King of New York (1990)",
           1
          ],
          [
           1619,
           "All Things Fair (1996)",
           1
          ],
          [
           1620,
           "Sixth Man, The (1997)",
           9
          ],
          [
           1621,
           "Butterfly Kiss (1995)",
           1
          ],
          [
           1622,
           "Paris, France (1993)",
           3
          ],
          [
           1623,
           "Cérémonie, La (1995)",
           3
          ],
          [
           1624,
           "Hush (1998)",
           1
          ],
          [
           1625,
           "Nightwatch (1997)",
           1
          ],
          [
           1626,
           "Nobody Loves Me (Keiner liebt mich) (1994)",
           1
          ],
          [
           1627,
           "Wife, The (1995)",
           1
          ],
          [
           1628,
           "Lamerica (1994)",
           4
          ],
          [
           1629,
           "Nico Icon (1995)",
           2
          ],
          [
           1630,
           "Silence of the Palace, The (Saimt el Qusur) (1994)",
           1
          ],
          [
           1631,
           "Slingshot, The (1993)",
           2
          ],
          [
           1632,
           "Land and Freedom (Tierra y libertad) (1995)",
           1
          ],
          [
           1633,
           "Á köldum klaka (Cold Fever) (1994)",
           1
          ],
          [
           1634,
           "Etz Hadomim Tafus (Under the Domin Tree) (1994)",
           1
          ],
          [
           1635,
           "Two Friends (1986) ",
           1
          ],
          [
           1636,
           "Brothers in Trouble (1995)",
           1
          ],
          [
           1637,
           "Girls Town (1996)",
           1
          ],
          [
           1638,
           "Normal Life (1996)",
           1
          ],
          [
           1639,
           "Bitter Sugar (Azucar Amargo) (1996)",
           3
          ],
          [
           1640,
           "Eighth Day, The (1996)",
           1
          ],
          [
           1641,
           "Dadetown (1995)",
           1
          ],
          [
           1642,
           "Some Mother's Son (1996)",
           2
          ],
          [
           1643,
           "Angel Baby (1995)",
           4
          ],
          [
           1644,
           "Sudden Manhattan (1996)",
           2
          ],
          [
           1645,
           "Butcher Boy, The (1998)",
           1
          ],
          [
           1646,
           "Men With Guns (1997)",
           2
          ],
          [
           1647,
           "Hana-bi (1997)",
           1
          ],
          [
           1648,
           "Niagara, Niagara (1997)",
           1
          ],
          [
           1649,
           "Big One, The (1997)",
           1
          ],
          [
           1650,
           "Butcher Boy, The (1998)",
           1
          ],
          [
           1651,
           "Spanish Prisoner, The (1997)",
           1
          ],
          [
           1652,
           "Temptress Moon (Feng Yue) (1996)",
           3
          ],
          [
           1653,
           "Entertaining Angels: The Dorothy Day Story (1996)",
           1
          ],
          [
           1654,
           "Chairman of the Board (1998)",
           1
          ],
          [
           1655,
           "Favor, The (1994)",
           1
          ],
          [
           1656,
           "Little City (1998)",
           2
          ],
          [
           1657,
           "Target (1995)",
           1
          ],
          [
           1658,
           "Substance of Fire, The (1996)",
           3
          ],
          [
           1659,
           "Getting Away With Murder (1996)",
           1
          ],
          [
           1660,
           "Small Faces (1995)",
           1
          ],
          [
           1661,
           "New Age, The (1994)",
           1
          ],
          [
           1662,
           "Rough Magic (1995)",
           2
          ],
          [
           1663,
           "Nothing Personal (1995)",
           1
          ],
          [
           1664,
           "8 Heads in a Duffel Bag (1997)",
           4
          ],
          [
           1665,
           "Brother's Kiss, A (1997)",
           1
          ],
          [
           1666,
           "Ripe (1996)",
           1
          ],
          [
           1667,
           "Next Step, The (1995)",
           1
          ],
          [
           1668,
           "Wedding Bell Blues (1996)",
           1
          ],
          [
           1669,
           "MURDER and murder (1996)",
           1
          ],
          [
           1670,
           "Tainted (1998)",
           1
          ],
          [
           1671,
           "Further Gesture, A (1996)",
           1
          ],
          [
           1672,
           "Kika (1993)",
           2
          ],
          [
           1673,
           "Mirage (1995)",
           1
          ],
          [
           1674,
           "Mamma Roma (1962)",
           1
          ],
          [
           1675,
           "Sunchaser, The (1996)",
           1
          ],
          [
           1676,
           "War at Home, The (1996)",
           1
          ],
          [
           1677,
           "Sweet Nothing (1995)",
           1
          ],
          [
           1678,
           "Mat' i syn (1997)",
           1
          ],
          [
           1679,
           "B. Monkey (1998)",
           1
          ],
          [
           1680,
           "Sliding Doors (1998)",
           1
          ],
          [
           1681,
           "You So Crazy (1994)",
           1
          ],
          [
           1682,
           "Scream of Stone (Schrei aus Stein) (1991)",
           1
          ]
         ],
         "hovertemplate": "tsne_1=%{x}<br>tsne_2=%{y}<br>item_id=%{customdata[0]}<br>title=%{customdata[1]}<br>popularity=%{marker.color}<extra></extra>",
         "legendgroup": "",
         "marker": {
          "color": {
           "bdata": "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",
           "dtype": "i2"
          },
          "coloraxis": "coloraxis",
          "symbol": "circle"
         },
         "mode": "markers",
         "name": "",
         "showlegend": false,
         "type": "scattergl",
         "x": {
          "bdata": "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",
          "dtype": "f4"
         },
         "xaxis": "x",
         "y": {
          "bdata": "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",
          "dtype": "f4"
         },
         "yaxis": "y"
        }
       ],
       "layout": {
        "coloraxis": {
         "colorbar": {
          "title": {
           "text": "popularity"
          }
         },
         "colorscale": [
          [
           0,
           "#0d0887"
          ],
          [
           0.1111111111111111,
           "#46039f"
          ],
          [
           0.2222222222222222,
           "#7201a8"
          ],
          [
           0.3333333333333333,
           "#9c179e"
          ],
          [
           0.4444444444444444,
           "#bd3786"
          ],
          [
           0.5555555555555556,
           "#d8576b"
          ],
          [
           0.6666666666666666,
           "#ed7953"
          ],
          [
           0.7777777777777778,
           "#fb9f3a"
          ],
          [
           0.8888888888888888,
           "#fdca26"
          ],
          [
           1,
           "#f0f921"
          ]
         ]
        },
        "legend": {
         "tracegroupgap": 0
        },
        "margin": {
         "t": 60
        },
        "template": {
         "data": {
          "bar": [
           {
            "error_x": {
             "color": "#2a3f5f"
            },
            "error_y": {
             "color": "#2a3f5f"
            },
            "marker": {
             "line": {
              "color": "#E5ECF6",
              "width": 0.5
             },
             "pattern": {
              "fillmode": "overlay",
              "size": 10,
              "solidity": 0.2
             }
            },
            "type": "bar"
           }
          ],
          "barpolar": [
           {
            "marker": {
             "line": {
              "color": "#E5ECF6",
              "width": 0.5
             },
             "pattern": {
              "fillmode": "overlay",
              "size": 10,
              "solidity": 0.2
             }
            },
            "type": "barpolar"
           }
          ],
          "carpet": [
           {
            "aaxis": {
             "endlinecolor": "#2a3f5f",
             "gridcolor": "white",
             "linecolor": "white",
             "minorgridcolor": "white",
             "startlinecolor": "#2a3f5f"
            },
            "baxis": {
             "endlinecolor": "#2a3f5f",
             "gridcolor": "white",
             "linecolor": "white",
             "minorgridcolor": "white",
             "startlinecolor": "#2a3f5f"
            },
            "type": "carpet"
           }
          ],
          "choropleth": [
           {
            "colorbar": {
             "outlinewidth": 0,
             "ticks": ""
            },
            "type": "choropleth"
           }
          ],
          "contour": [
           {
            "colorbar": {
             "outlinewidth": 0,
             "ticks": ""
            },
            "colorscale": [
             [
              0,
              "#0d0887"
             ],
             [
              0.1111111111111111,
              "#46039f"
             ],
             [
              0.2222222222222222,
              "#7201a8"
             ],
             [
              0.3333333333333333,
              "#9c179e"
             ],
             [
              0.4444444444444444,
              "#bd3786"
             ],
             [
              0.5555555555555556,
              "#d8576b"
             ],
             [
              0.6666666666666666,
              "#ed7953"
             ],
             [
              0.7777777777777778,
              "#fb9f3a"
             ],
             [
              0.8888888888888888,
              "#fdca26"
             ],
             [
              1,
              "#f0f921"
             ]
            ],
            "type": "contour"
           }
          ],
          "contourcarpet": [
           {
            "colorbar": {
             "outlinewidth": 0,
             "ticks": ""
            },
            "type": "contourcarpet"
           }
          ],
          "heatmap": [
           {
            "colorbar": {
             "outlinewidth": 0,
             "ticks": ""
            },
            "colorscale": [
             [
              0,
              "#0d0887"
             ],
             [
              0.1111111111111111,
              "#46039f"
             ],
             [
              0.2222222222222222,
              "#7201a8"
             ],
             [
              0.3333333333333333,
              "#9c179e"
             ],
             [
              0.4444444444444444,
              "#bd3786"
             ],
             [
              0.5555555555555556,
              "#d8576b"
             ],
             [
              0.6666666666666666,
              "#ed7953"
             ],
             [
              0.7777777777777778,
              "#fb9f3a"
             ],
             [
              0.8888888888888888,
              "#fdca26"
             ],
             [
              1,
              "#f0f921"
             ]
            ],
            "type": "heatmap"
           }
          ],
          "histogram": [
           {
            "marker": {
             "pattern": {
              "fillmode": "overlay",
              "size": 10,
              "solidity": 0.2
             }
            },
            "type": "histogram"
           }
          ],
          "histogram2d": [
           {
            "colorbar": {
             "outlinewidth": 0,
             "ticks": ""
            },
            "colorscale": [
             [
              0,
              "#0d0887"
             ],
             [
              0.1111111111111111,
              "#46039f"
             ],
             [
              0.2222222222222222,
              "#7201a8"
             ],
             [
              0.3333333333333333,
              "#9c179e"
             ],
             [
              0.4444444444444444,
              "#bd3786"
             ],
             [
              0.5555555555555556,
              "#d8576b"
             ],
             [
              0.6666666666666666,
              "#ed7953"
             ],
             [
              0.7777777777777778,
              "#fb9f3a"
             ],
             [
              0.8888888888888888,
              "#fdca26"
             ],
             [
              1,
              "#f0f921"
             ]
            ],
            "type": "histogram2d"
           }
          ],
          "histogram2dcontour": [
           {
            "colorbar": {
             "outlinewidth": 0,
             "ticks": ""
            },
            "colorscale": [
             [
              0,
              "#0d0887"
             ],
             [
              0.1111111111111111,
              "#46039f"
             ],
             [
              0.2222222222222222,
              "#7201a8"
             ],
             [
              0.3333333333333333,
              "#9c179e"
             ],
             [
              0.4444444444444444,
              "#bd3786"
             ],
             [
              0.5555555555555556,
              "#d8576b"
             ],
             [
              0.6666666666666666,
              "#ed7953"
             ],
             [
              0.7777777777777778,
              "#fb9f3a"
             ],
             [
              0.8888888888888888,
              "#fdca26"
             ],
             [
              1,
              "#f0f921"
             ]
            ],
            "type": "histogram2dcontour"
           }
          ],
          "mesh3d": [
           {
            "colorbar": {
             "outlinewidth": 0,
             "ticks": ""
            },
            "type": "mesh3d"
           }
          ],
          "parcoords": [
           {
            "line": {
             "colorbar": {
              "outlinewidth": 0,
              "ticks": ""
             }
            },
            "type": "parcoords"
           }
          ],
          "pie": [
           {
            "automargin": true,
            "type": "pie"
           }
          ],
          "scatter": [
           {
            "fillpattern": {
             "fillmode": "overlay",
             "size": 10,
             "solidity": 0.2
            },
            "type": "scatter"
           }
          ],
          "scatter3d": [
           {
            "line": {
             "colorbar": {
              "outlinewidth": 0,
              "ticks": ""
             }
            },
            "marker": {
             "colorbar": {
              "outlinewidth": 0,
              "ticks": ""
             }
            },
            "type": "scatter3d"
           }
          ],
          "scattercarpet": [
           {
            "marker": {
             "colorbar": {
              "outlinewidth": 0,
              "ticks": ""
             }
            },
            "type": "scattercarpet"
           }
          ],
          "scattergeo": [
           {
            "marker": {
             "colorbar": {
              "outlinewidth": 0,
              "ticks": ""
             }
            },
            "type": "scattergeo"
           }
          ],
          "scattergl": [
           {
            "marker": {
             "colorbar": {
              "outlinewidth": 0,
              "ticks": ""
             }
            },
            "type": "scattergl"
           }
          ],
          "scattermap": [
           {
            "marker": {
             "colorbar": {
              "outlinewidth": 0,
              "ticks": ""
             }
            },
            "type": "scattermap"
           }
          ],
          "scattermapbox": [
           {
            "marker": {
             "colorbar": {
              "outlinewidth": 0,
              "ticks": ""
             }
            },
            "type": "scattermapbox"
           }
          ],
          "scatterpolar": [
           {
            "marker": {
             "colorbar": {
              "outlinewidth": 0,
              "ticks": ""
             }
            },
            "type": "scatterpolar"
           }
          ],
          "scatterpolargl": [
           {
            "marker": {
             "colorbar": {
              "outlinewidth": 0,
              "ticks": ""
             }
            },
            "type": "scatterpolargl"
           }
          ],
          "scatterternary": [
           {
            "marker": {
             "colorbar": {
              "outlinewidth": 0,
              "ticks": ""
             }
            },
            "type": "scatterternary"
           }
          ],
          "surface": [
           {
            "colorbar": {
             "outlinewidth": 0,
             "ticks": ""
            },
            "colorscale": [
             [
              0,
              "#0d0887"
             ],
             [
              0.1111111111111111,
              "#46039f"
             ],
             [
              0.2222222222222222,
              "#7201a8"
             ],
             [
              0.3333333333333333,
              "#9c179e"
             ],
             [
              0.4444444444444444,
              "#bd3786"
             ],
             [
              0.5555555555555556,
              "#d8576b"
             ],
             [
              0.6666666666666666,
              "#ed7953"
             ],
             [
              0.7777777777777778,
              "#fb9f3a"
             ],
             [
              0.8888888888888888,
              "#fdca26"
             ],
             [
              1,
              "#f0f921"
             ]
            ],
            "type": "surface"
           }
          ],
          "table": [
           {
            "cells": {
             "fill": {
              "color": "#EBF0F8"
             },
             "line": {
              "color": "white"
             }
            },
            "header": {
             "fill": {
              "color": "#C8D4E3"
             },
             "line": {
              "color": "white"
             }
            },
            "type": "table"
           }
          ]
         },
         "layout": {
          "annotationdefaults": {
           "arrowcolor": "#2a3f5f",
           "arrowhead": 0,
           "arrowwidth": 1
          },
          "autotypenumbers": "strict",
          "coloraxis": {
           "colorbar": {
            "outlinewidth": 0,
            "ticks": ""
           }
          },
          "colorscale": {
           "diverging": [
            [
             0,
             "#8e0152"
            ],
            [
             0.1,
             "#c51b7d"
            ],
            [
             0.2,
             "#de77ae"
            ],
            [
             0.3,
             "#f1b6da"
            ],
            [
             0.4,
             "#fde0ef"
            ],
            [
             0.5,
             "#f7f7f7"
            ],
            [
             0.6,
             "#e6f5d0"
            ],
            [
             0.7,
             "#b8e186"
            ],
            [
             0.8,
             "#7fbc41"
            ],
            [
             0.9,
             "#4d9221"
            ],
            [
             1,
             "#276419"
            ]
           ],
           "sequential": [
            [
             0,
             "#0d0887"
            ],
            [
             0.1111111111111111,
             "#46039f"
            ],
            [
             0.2222222222222222,
             "#7201a8"
            ],
            [
             0.3333333333333333,
             "#9c179e"
            ],
            [
             0.4444444444444444,
             "#bd3786"
            ],
            [
             0.5555555555555556,
             "#d8576b"
            ],
            [
             0.6666666666666666,
             "#ed7953"
            ],
            [
             0.7777777777777778,
             "#fb9f3a"
            ],
            [
             0.8888888888888888,
             "#fdca26"
            ],
            [
             1,
             "#f0f921"
            ]
           ],
           "sequentialminus": [
            [
             0,
             "#0d0887"
            ],
            [
             0.1111111111111111,
             "#46039f"
            ],
            [
             0.2222222222222222,
             "#7201a8"
            ],
            [
             0.3333333333333333,
             "#9c179e"
            ],
            [
             0.4444444444444444,
             "#bd3786"
            ],
            [
             0.5555555555555556,
             "#d8576b"
            ],
            [
             0.6666666666666666,
             "#ed7953"
            ],
            [
             0.7777777777777778,
             "#fb9f3a"
            ],
            [
             0.8888888888888888,
             "#fdca26"
            ],
            [
             1,
             "#f0f921"
            ]
           ]
          },
          "colorway": [
           "#636efa",
           "#EF553B",
           "#00cc96",
           "#ab63fa",
           "#FFA15A",
           "#19d3f3",
           "#FF6692",
           "#B6E880",
           "#FF97FF",
           "#FECB52"
          ],
          "font": {
           "color": "#2a3f5f"
          },
          "geo": {
           "bgcolor": "white",
           "lakecolor": "white",
           "landcolor": "#E5ECF6",
           "showlakes": true,
           "showland": true,
           "subunitcolor": "white"
          },
          "hoverlabel": {
           "align": "left"
          },
          "hovermode": "closest",
          "mapbox": {
           "style": "light"
          },
          "paper_bgcolor": "white",
          "plot_bgcolor": "#E5ECF6",
          "polar": {
           "angularaxis": {
            "gridcolor": "white",
            "linecolor": "white",
            "ticks": ""
           },
           "bgcolor": "#E5ECF6",
           "radialaxis": {
            "gridcolor": "white",
            "linecolor": "white",
            "ticks": ""
           }
          },
          "scene": {
           "xaxis": {
            "backgroundcolor": "#E5ECF6",
            "gridcolor": "white",
            "gridwidth": 2,
            "linecolor": "white",
            "showbackground": true,
            "ticks": "",
            "zerolinecolor": "white"
           },
           "yaxis": {
            "backgroundcolor": "#E5ECF6",
            "gridcolor": "white",
            "gridwidth": 2,
            "linecolor": "white",
            "showbackground": true,
            "ticks": "",
            "zerolinecolor": "white"
           },
           "zaxis": {
            "backgroundcolor": "#E5ECF6",
            "gridcolor": "white",
            "gridwidth": 2,
            "linecolor": "white",
            "showbackground": true,
            "ticks": "",
            "zerolinecolor": "white"
           }
          },
          "shapedefaults": {
           "line": {
            "color": "#2a3f5f"
           }
          },
          "ternary": {
           "aaxis": {
            "gridcolor": "white",
            "linecolor": "white",
            "ticks": ""
           },
           "baxis": {
            "gridcolor": "white",
            "linecolor": "white",
            "ticks": ""
           },
           "bgcolor": "#E5ECF6",
           "caxis": {
            "gridcolor": "white",
            "linecolor": "white",
            "ticks": ""
           }
          },
          "title": {
           "x": 0.05
          },
          "xaxis": {
           "automargin": true,
           "gridcolor": "white",
           "linecolor": "white",
           "ticks": "",
           "title": {
            "standoff": 15
           },
           "zerolinecolor": "white",
           "zerolinewidth": 2
          },
          "yaxis": {
           "automargin": true,
           "gridcolor": "white",
           "linecolor": "white",
           "ticks": "",
           "title": {
            "standoff": 15
           },
           "zerolinecolor": "white",
           "zerolinewidth": 2
          }
         }
        },
        "xaxis": {
         "anchor": "y",
         "domain": [
          0,
          1
         ],
         "title": {
          "text": "tsne_1"
         }
        },
        "yaxis": {
         "anchor": "x",
         "domain": [
          0,
          1
         ],
         "title": {
          "text": "tsne_2"
         }
        }
       }
      },
      "text/html": [
       "<div>                        <script type=\"text/javascript\">window.PlotlyConfig = {MathJaxConfig: 'local'};</script>\n",
       "        <script charset=\"utf-8\" src=\"https://cdn.plot.ly/plotly-3.0.1.min.js\" integrity=\"sha256-oy6Be7Eh6eiQFs5M7oXuPxxm9qbJXEtTpfSI93dW16Q=\" crossorigin=\"anonymous\"></script>                <div id=\"f6236718-c4ad-4aba-8ccc-3b6f9842f306\" class=\"plotly-graph-div\" style=\"height:100%; width:100%;\"></div>            <script type=\"text/javascript\">                window.PLOTLYENV=window.PLOTLYENV || {};                                if (document.getElementById(\"f6236718-c4ad-4aba-8ccc-3b6f9842f306\")) {                    Plotly.newPlot(                        \"f6236718-c4ad-4aba-8ccc-3b6f9842f306\",                        [{\"customdata\":[[1,\"Toy Story (1995)\",452],[2,\"GoldenEye (1995)\",131],[3,\"Four Rooms (1995)\",90],[4,\"Get Shorty (1995)\",209],[5,\"Copycat (1995)\",86],[6,\"Shanghai Triad (Yao a yao yao dao waipo qiao) (1995)\",26],[7,\"Twelve Monkeys (1995)\",392],[8,\"Babe (1995)\",219],[9,\"Dead Man Walking (1995)\",299],[10,\"Richard III (1995)\",89],[11,\"Seven (Se7en) (1995)\",236],[12,\"Usual Suspects, The (1995)\",267],[13,\"Mighty Aphrodite (1995)\",184],[14,\"Postino, Il (1994)\",183],[15,\"Mr. Holland's Opus (1995)\",293],[16,\"French Twist (Gazon maudit) (1995)\",39],[17,\"From Dusk Till Dawn (1996)\",92],[18,\"White Balloon, The (1995)\",10],[19,\"Antonia's Line (1995)\",69],[20,\"Angels and Insects (1995)\",72],[21,\"Muppet Treasure Island (1996)\",84],[22,\"Braveheart (1995)\",297],[23,\"Taxi Driver (1976)\",182],[24,\"Rumble in the Bronx (1995)\",174],[25,\"Birdcage, The (1996)\",293],[26,\"Brothers McMullen, The (1995)\",73],[27,\"Bad Boys (1995)\",57],[28,\"Apollo 13 (1995)\",276],[29,\"Batman Forever (1995)\",114],[30,\"Belle de jour (1967)\",37],[31,\"Crimson Tide (1995)\",154],[32,\"Crumb (1994)\",81],[33,\"Desperado (1995)\",97],[34,\"Doom Generation, The (1995)\",7],[35,\"Free Willy 2: The Adventure Home (1995)\",11],[36,\"Mad Love (1995)\",13],[37,\"Nadja (1994)\",8],[38,\"Net, The (1995)\",120],[39,\"Strange Days (1995)\",87],[40,\"To Wong Foo, Thanks for Everything! Julie Newmar (1995)\",57],[41,\"Billy Madison (1995)\",37],[42,\"Clerks (1994)\",148],[43,\"Disclosure (1994)\",40],[44,\"Dolores Claiborne (1994)\",79],[45,\"Eat Drink Man Woman (1994)\",80],[46,\"Exotica (1994)\",27],[47,\"Ed Wood (1994)\",133],[48,\"Hoop Dreams (1994)\",117],[49,\"I.Q. (1994)\",81],[50,\"Star Wars (1977)\",583],[51,\"Legends of the Fall (1994)\",81],[52,\"Madness of King George, The (1994)\",91],[53,\"Natural Born Killers (1994)\",128],[54,\"Outbreak (1995)\",104],[55,\"Professional, The (1994)\",149],[56,\"Pulp Fiction (1994)\",394],[57,\"Priest (1994)\",40],[58,\"Quiz Show (1994)\",175],[59,\"Three Colors: Red (1994)\",83],[60,\"Three Colors: Blue (1993)\",64],[61,\"Three Colors: White (1994)\",59],[62,\"Stargate (1994)\",127],[63,\"Santa Clause, The (1994)\",82],[64,\"Shawshank Redemption, The (1994)\",283],[65,\"What's Eating Gilbert Grape (1993)\",115],[66,\"While You Were Sleeping (1995)\",162],[67,\"Ace Ventura: Pet Detective (1994)\",103],[68,\"Crow, The (1994)\",134],[69,\"Forrest Gump (1994)\",321],[70,\"Four Weddings and a Funeral (1994)\",251],[71,\"Lion King, The (1994)\",220],[72,\"Mask, The (1994)\",129],[73,\"Maverick (1994)\",128],[74,\"Faster Pussycat! Kill! Kill! (1965)\",7],[75,\"Brother Minister: The Assassination of Malcolm X (1994)\",5],[76,\"Carlito's Way (1993)\",54],[77,\"Firm, The (1993)\",151],[78,\"Free Willy (1993)\",33],[79,\"Fugitive, The (1993)\",336],[80,\"Hot Shots! Part Deux (1993)\",68],[81,\"Hudsucker Proxy, The (1994)\",110],[82,\"Jurassic Park (1993)\",261],[83,\"Much Ado About Nothing (1993)\",176],[84,\"Robert A. Heinlein's The Puppet Masters (1994)\",18],[85,\"Ref, The (1994)\",58],[86,\"Remains of the Day, The (1993)\",150],[87,\"Searching for Bobby Fischer (1993)\",138],[88,\"Sleepless in Seattle (1993)\",213],[89,\"Blade Runner (1982)\",275],[90,\"So I Married an Axe Murderer (1993)\",95],[91,\"Nightmare Before Christmas, The (1993)\",143],[92,\"True Romance (1993)\",104],[93,\"Welcome to the Dollhouse (1995)\",112],[94,\"Home Alone (1990)\",137],[95,\"Aladdin (1992)\",219],[96,\"Terminator 2: Judgment Day (1991)\",295],[97,\"Dances with Wolves (1990)\",256],[98,\"Silence of the Lambs, The (1991)\",390],[99,\"Snow White and the Seven Dwarfs (1937)\",172],[100,\"Fargo (1996)\",508],[101,\"Heavy Metal (1981)\",73],[102,\"Aristocats, The (1970)\",54],[103,\"All Dogs Go to Heaven 2 (1996)\",15],[104,\"Theodore Rex (1995)\",5],[105,\"Sgt. Bilko (1996)\",74],[106,\"Diabolique (1996)\",71],[107,\"Moll Flanders (1996)\",42],[108,\"Kids in the Hall: Brain Candy (1996)\",65],[109,\"Mystery Science Theater 3000: The Movie (1996)\",130],[110,\"Operation Dumbo Drop (1995)\",31],[111,\"Truth About Cats & Dogs, The (1996)\",272],[112,\"Flipper (1996)\",20],[113,\"Horseman on the Roof, The (Hussard sur le toit, Le) (1995)\",9],[114,\"Wallace & Gromit: The Best of Aardman Animation (1996)\",67],[115,\"Haunted World of Edward D. Wood Jr., The (1995)\",15],[116,\"Cold Comfort Farm (1995)\",125],[117,\"Rock, The (1996)\",378],[118,\"Twister (1996)\",293],[119,\"Maya Lin: A Strong Clear Vision (1994)\",4],[120,\"Striptease (1996)\",67],[121,\"Independence Day (ID4) (1996)\",429],[122,\"Cable Guy, The (1996)\",106],[123,\"Frighteners, The (1996)\",115],[124,\"Lone Star (1996)\",187],[125,\"Phenomenon (1996)\",244],[126,\"Spitfire Grill, The (1996)\",97],[127,\"Godfather, The (1972)\",413],[128,\"Supercop (1992)\",65],[129,\"Bound (1996)\",129],[130,\"Kansas City (1996)\",23],[131,\"Breakfast at Tiffany's (1961)\",95],[132,\"Wizard of Oz, The (1939)\",246],[133,\"Gone with the Wind (1939)\",171],[134,\"Citizen Kane (1941)\",198],[135,\"2001: A Space Odyssey (1968)\",259],[136,\"Mr. Smith Goes to Washington (1939)\",105],[137,\"Big Night (1996)\",171],[138,\"D3: The Mighty Ducks (1996)\",19],[139,\"Love Bug, The (1969)\",50],[140,\"Homeward Bound: The Incredible Journey (1993)\",61],[141,\"20,000 Leagues Under the Sea (1954)\",72],[142,\"Bedknobs and Broomsticks (1971)\",57],[143,\"Sound of Music, The (1965)\",222],[144,\"Die Hard (1988)\",243],[145,\"Lawnmower Man, The (1992)\",65],[146,\"Unhook the Stars (1996)\",10],[147,\"Long Kiss Goodnight, The (1996)\",185],[148,\"Ghost and the Darkness, The (1996)\",128],[149,\"Jude (1996)\",23],[150,\"Swingers (1996)\",157],[151,\"Willy Wonka and the Chocolate Factory (1971)\",326],[152,\"Sleeper (1973)\",82],[153,\"Fish Called Wanda, A (1988)\",247],[154,\"Monty Python's Life of Brian (1979)\",174],[155,\"Dirty Dancing (1987)\",98],[156,\"Reservoir Dogs (1992)\",148],[157,\"Platoon (1986)\",127],[158,\"Weekend at Bernie's (1989)\",60],[159,\"Basic Instinct (1992)\",101],[160,\"Glengarry Glen Ross (1992)\",69],[161,\"Top Gun (1986)\",220],[162,\"On Golden Pond (1981)\",106],[163,\"Return of the Pink Panther, The (1974)\",92],[164,\"Abyss, The (1989)\",151],[165,\"Jean de Florette (1986)\",64],[166,\"Manon of the Spring (Manon des sources) (1986)\",58],[167,\"Private Benjamin (1980)\",67],[168,\"Monty Python and the Holy Grail (1974)\",316],[169,\"Wrong Trousers, The (1993)\",118],[170,\"Cinema Paradiso (1988)\",121],[171,\"Delicatessen (1991)\",65],[172,\"Empire Strikes Back, The (1980)\",367],[173,\"Princess Bride, The (1987)\",324],[174,\"Raiders of the Lost Ark (1981)\",420],[175,\"Brazil (1985)\",208],[176,\"Aliens (1986)\",284],[177,\"Good, The Bad and The Ugly, The (1966)\",137],[178,\"12 Angry Men (1957)\",125],[179,\"Clockwork Orange, A (1971)\",221],[180,\"Apocalypse Now (1979)\",221],[181,\"Return of the Jedi (1983)\",507],[182,\"GoodFellas (1990)\",226],[183,\"Alien (1979)\",291],[184,\"Army of Darkness (1993)\",116],[185,\"Psycho (1960)\",239],[186,\"Blues Brothers, The (1980)\",251],[187,\"Godfather: Part II, The (1974)\",209],[188,\"Full Metal Jacket (1987)\",170],[189,\"Grand Day Out, A (1992)\",66],[190,\"Henry V (1989)\",124],[191,\"Amadeus (1984)\",276],[192,\"Raging Bull (1980)\",116],[193,\"Right Stuff, The (1983)\",157],[194,\"Sting, The (1973)\",241],[195,\"Terminator, The (1984)\",301],[196,\"Dead Poets Society (1989)\",251],[197,\"Graduate, The (1967)\",239],[198,\"Nikita (La Femme Nikita) (1990)\",127],[199,\"Bridge on the River Kwai, The (1957)\",165],[200,\"Shining, The (1980)\",206],[201,\"Evil Dead II (1987)\",89],[202,\"Groundhog Day (1993)\",280],[203,\"Unforgiven (1992)\",182],[204,\"Back to the Future (1985)\",350],[205,\"Patton (1970)\",136],[206,\"Akira (1988)\",50],[207,\"Cyrano de Bergerac (1990)\",66],[208,\"Young Frankenstein (1974)\",200],[209,\"This Is Spinal Tap (1984)\",191],[210,\"Indiana Jones and the Last Crusade (1989)\",331],[211,\"M*A*S*H (1970)\",206],[212,\"Unbearable Lightness of Being, The (1988)\",92],[213,\"Room with a View, A (1986)\",134],[214,\"Pink Floyd - The Wall (1982)\",114],[215,\"Field of Dreams (1989)\",212],[216,\"When Harry Met Sally... (1989)\",290],[217,\"Bram Stoker's Dracula (1992)\",120],[218,\"Cape Fear (1991)\",171],[219,\"Nightmare on Elm Street, A (1984)\",111],[220,\"Mirror Has Two Faces, The (1996)\",66],[221,\"Breaking the Waves (1996)\",74],[222,\"Star Trek: First Contact (1996)\",365],[223,\"Sling Blade (1996)\",136],[224,\"Ridicule (1996)\",44],[225,\"101 Dalmatians (1996)\",109],[226,\"Die Hard 2 (1990)\",166],[227,\"Star Trek VI: The Undiscovered Country (1991)\",161],[228,\"Star Trek: The Wrath of Khan (1982)\",244],[229,\"Star Trek III: The Search for Spock (1984)\",171],[230,\"Star Trek IV: The Voyage Home (1986)\",199],[231,\"Batman Returns (1992)\",142],[232,\"Young Guns (1988)\",101],[233,\"Under Siege (1992)\",124],[234,\"Jaws (1975)\",280],[235,\"Mars Attacks! (1996)\",217],[236,\"Citizen Ruth (1996)\",45],[237,\"Jerry Maguire (1996)\",384],[238,\"Raising Arizona (1987)\",256],[239,\"Sneakers (1992)\",150],[240,\"Beavis and Butt-head Do America (1996)\",156],[241,\"Last of the Mohicans, The (1992)\",128],[242,\"Kolya (1996)\",117],[243,\"Jungle2Jungle (1997)\",132],[244,\"Smilla's Sense of Snow (1997)\",48],[245,\"Devil's Own, The (1997)\",240],[246,\"Chasing Amy (1997)\",124],[247,\"Turbo: A Power Rangers Movie (1997)\",5],[248,\"Grosse Pointe Blank (1997)\",160],[249,\"Austin Powers: International Man of Mystery (1997)\",130],[250,\"Fifth Element, The (1997)\",197],[251,\"Shall We Dance? (1996)\",46],[252,\"Lost World: Jurassic Park, The (1997)\",158],[253,\"Pillow Book, The (1995)\",26],[254,\"Batman & Robin (1997)\",62],[255,\"My Best Friend's Wedding (1997)\",172],[256,\"When the Cats Away (Chacun cherche son chat) (1996)\",16],[257,\"Men in Black (1997)\",303],[258,\"Contact (1997)\",509],[259,\"George of the Jungle (1997)\",162],[260,\"Event Horizon (1997)\",127],[261,\"Air Bud (1997)\",43],[262,\"In the Company of Men (1997)\",66],[263,\"Steel (1997)\",19],[264,\"Mimic (1997)\",101],[265,\"Hunt for Red October, The (1990)\",227],[266,\"Kull the Conqueror (1997)\",35],[267,\"unknown\",9],[268,\"Chasing Amy (1997)\",255],[269,\"Full Monty, The (1997)\",315],[270,\"Gattaca (1997)\",136],[271,\"Starship Troopers (1997)\",211],[272,\"Good Will Hunting (1997)\",198],[273,\"Heat (1995)\",223],[274,\"Sabrina (1995)\",190],[275,\"Sense and Sensibility (1995)\",268],[276,\"Leaving Las Vegas (1995)\",298],[277,\"Restoration (1995)\",71],[278,\"Bed of Roses (1996)\",60],[279,\"Once Upon a Time... When We Were Colored (1995)\",28],[280,\"Up Close and Personal (1996)\",85],[281,\"River Wild, The (1994)\",146],[282,\"Time to Kill, A (1996)\",232],[283,\"Emma (1996)\",177],[284,\"Tin Cup (1996)\",193],[285,\"Secrets & Lies (1996)\",162],[286,\"English Patient, The (1996)\",481],[287,\"Marvin's Room (1996)\",78],[288,\"Scream (1996)\",478],[289,\"Evita (1996)\",259],[290,\"Fierce Creatures (1997)\",96],[291,\"Absolute Power (1997)\",127],[292,\"Rosewood (1997)\",114],[293,\"Donnie Brasco (1997)\",147],[294,\"Liar Liar (1997)\",485],[295,\"Breakdown (1997)\",77],[296,\"Promesse, La (1996)\",6],[297,\"Ulee's Gold (1997)\",50],[298,\"Face\\u002fOff (1997)\",194],[299,\"Hoodlum (1997)\",73],[300,\"Air Force One (1997)\",431],[301,\"In & Out (1997)\",230],[302,\"L.A. Confidential (1997)\",297],[303,\"Ulee's Gold (1997)\",134],[304,\"Fly Away Home (1996)\",149],[305,\"Ice Storm, The (1997)\",87],[306,\"Mrs. Brown (Her Majesty, Mrs. Brown) (1997)\",96],[307,\"Devil's Advocate, The (1997)\",188],[308,\"FairyTale: A True Story (1997)\",30],[309,\"Deceiver (1997)\",28],[310,\"Rainmaker, The (1997)\",145],[311,\"Wings of the Dove, The (1997)\",75],[312,\"Midnight in the Garden of Good and Evil (1997)\",80],[313,\"Titanic (1997)\",350],[314,\"3 Ninjas: High Noon At Mega Mountain (1998)\",5],[315,\"Apt Pupil (1998)\",160],[316,\"As Good As It Gets (1997)\",112],[317,\"In the Name of the Father (1993)\",102],[318,\"Schindler's List (1993)\",298],[319,\"Everyone Says I Love You (1996)\",168],[320,\"Paradise Lost: The Child Murders at Robin Hood Hills (1996)\",20],[321,\"Mother (1996)\",169],[322,\"Murder at 1600 (1997)\",218],[323,\"Dante's Peak (1997)\",240],[324,\"Lost Highway (1997)\",125],[325,\"Crash (1996)\",128],[326,\"G.I. Jane (1997)\",175],[327,\"Cop Land (1997)\",175],[328,\"Conspiracy Theory (1997)\",295],[329,\"Desperate Measures (1998)\",45],[330,\"187 (1997)\",41],[331,\"Edge, The (1997)\",113],[332,\"Kiss the Girls (1997)\",143],[333,\"Game, The (1997)\",251],[334,\"U Turn (1997)\",64],[335,\"How to Be a Player (1997)\",21],[336,\"Playing God (1997)\",43],[337,\"House of Yes, The (1997)\",18],[338,\"Bean (1997)\",91],[339,\"Mad City (1997)\",47],[340,\"Boogie Nights (1997)\",189],[341,\"Critical Care (1997)\",11],[342,\"Man Who Knew Too Little, The (1997)\",52],[343,\"Alien: Resurrection (1997)\",124],[344,\"Apostle, The (1997)\",55],[345,\"Deconstructing Harry (1997)\",65],[346,\"Jackie Brown (1997)\",126],[347,\"Wag the Dog (1997)\",137],[348,\"Desperate Measures (1998)\",27],[349,\"Hard Rain (1998)\",31],[350,\"Fallen (1998)\",41],[351,\"Prophecy II, The (1998)\",20],[352,\"Spice World (1997)\",26],[353,\"Deep Rising (1998)\",14],[354,\"Wedding Singer, The (1998)\",72],[355,\"Sphere (1998)\",41],[356,\"Client, The (1994)\",97],[357,\"One Flew Over the Cuckoo's Nest (1975)\",264],[358,\"Spawn (1997)\",143],[359,\"Assignment, The (1997)\",18],[360,\"Wonderland (1997)\",10],[361,\"Incognito (1997)\",10],[362,\"Blues Brothers 2000 (1998)\",28],[363,\"Sudden Death (1995)\",47],[364,\"Ace Ventura: When Nature Calls (1995)\",37],[365,\"Powder (1995)\",48],[366,\"Dangerous Minds (1995)\",47],[367,\"Clueless (1995)\",170],[368,\"Bio-Dome (1996)\",31],[369,\"Black Sheep (1996)\",55],[370,\"Mary Reilly (1996)\",39],[371,\"Bridges of Madison County, The (1995)\",67],[372,\"Jeffrey (1995)\",34],[373,\"Judge Dredd (1995)\",39],[374,\"Mighty Morphin Power Rangers: The Movie (1995)\",11],[375,\"Showgirls (1995)\",23],[376,\"Houseguest (1994)\",24],[377,\"Heavyweights (1994)\",13],[378,\"Miracle on 34th Street (1994)\",101],[379,\"Tales From the Crypt Presents: Demon Knight (1995)\",43],[380,\"Star Trek: Generations (1994)\",116],[381,\"Muriel's Wedding (1994)\",100],[382,\"Adventures of Priscilla, Queen of the Desert, The (1994)\",111],[383,\"Flintstones, The (1994)\",31],[384,\"Naked Gun 33 1\\u002f3: The Final Insult (1994)\",69],[385,\"True Lies (1994)\",208],[386,\"Addams Family Values (1993)\",87],[387,\"Age of Innocence, The (1993)\",65],[388,\"Beverly Hills Cop III (1994)\",28],[389,\"Black Beauty (1994)\",27],[390,\"Fear of a Black Hat (1993)\",10],[391,\"Last Action Hero (1993)\",59],[392,\"Man Without a Face, The (1993)\",68],[393,\"Mrs. Doubtfire (1993)\",192],[394,\"Radioland Murders (1994)\",12],[395,\"Robin Hood: Men in Tights (1993)\",56],[396,\"Serial Mom (1994)\",54],[397,\"Striking Distance (1993)\",12],[398,\"Super Mario Bros. (1993)\",26],[399,\"Three Musketeers, The (1993)\",89],[400,\"Little Rascals, The (1994)\",18],[401,\"Brady Bunch Movie, The (1995)\",76],[402,\"Ghost (1990)\",170],[403,\"Batman (1989)\",201],[404,\"Pinocchio (1940)\",101],[405,\"Mission: Impossible (1996)\",344],[406,\"Thinner (1996)\",49],[407,\"Spy Hard (1996)\",43],[408,\"Close Shave, A (1995)\",112],[409,\"Jack (1996)\",70],[410,\"Kingpin (1996)\",162],[411,\"Nutty Professor, The (1996)\",163],[412,\"Very Brady Sequel, A (1996)\",93],[413,\"Tales from the Crypt Presents: Bordello of Blood (1996)\",55],[414,\"My Favorite Year (1982)\",62],[415,\"Apple Dumpling Gang, The (1975)\",25],[416,\"Old Yeller (1957)\",64],[417,\"Parent Trap, The (1961)\",73],[418,\"Cinderella (1950)\",129],[419,\"Mary Poppins (1964)\",178],[420,\"Alice in Wonderland (1951)\",81],[421,\"William Shakespeare's Romeo and Juliet (1996)\",106],[422,\"Aladdin and the King of Thieves (1996)\",26],[423,\"E.T. the Extra-Terrestrial (1982)\",300],[424,\"Children of the Corn: The Gathering (1996)\",19],[425,\"Bob Roberts (1992)\",85],[426,\"Transformers: The Movie, The (1986)\",32],[427,\"To Kill a Mockingbird (1962)\",219],[428,\"Harold and Maude (1971)\",121],[429,\"Day the Earth Stood Still, The (1951)\",97],[430,\"Duck Soup (1933)\",93],[431,\"Highlander (1986)\",153],[432,\"Fantasia (1940)\",174],[433,\"Heathers (1989)\",171],[434,\"Forbidden Planet (1956)\",67],[435,\"Butch Cassidy and the Sundance Kid (1969)\",216],[436,\"American Werewolf in London, An (1981)\",99],[437,\"Amityville 1992: It's About Time (1992)\",5],[438,\"Amityville 3-D (1983)\",6],[439,\"Amityville: A New Generation (1993)\",5],[440,\"Amityville II: The Possession (1982)\",14],[441,\"Amityville Horror, The (1979)\",53],[442,\"Amityville Curse, The (1990)\",4],[443,\"Birds, The (1963)\",162],[444,\"Blob, The (1958)\",46],[445,\"Body Snatcher, The (1945)\",22],[446,\"Burnt Offerings (1976)\",9],[447,\"Carrie (1976)\",121],[448,\"Omen, The (1976)\",85],[449,\"Star Trek: The Motion Picture (1979)\",117],[450,\"Star Trek V: The Final Frontier (1989)\",63],[451,\"Grease (1978)\",170],[452,\"Jaws 2 (1978)\",66],[453,\"Jaws 3-D (1983)\",16],[454,\"Bastard Out of Carolina (1996)\",16],[455,\"Jackie Chan's First Strike (1996)\",145],[456,\"Beverly Hills Ninja (1997)\",48],[457,\"Free Willy 3: The Rescue (1997)\",27],[458,\"Nixon (1995)\",90],[459,\"Cry, the Beloved Country (1995)\",24],[460,\"Crossing Guard, The (1995)\",28],[461,\"Smoke (1995)\",74],[462,\"Like Water For Chocolate (Como agua para chocolate) (1992)\",148],[463,\"Secret of Roan Inish, The (1994)\",71],[464,\"Vanya on 42nd Street (1994)\",27],[465,\"Jungle Book, The (1994)\",85],[466,\"Red Rock West (1992)\",52],[467,\"Bronx Tale, A (1993)\",48],[468,\"Rudy (1993)\",64],[469,\"Short Cuts (1993)\",67],[470,\"Tombstone (1993)\",108],[471,\"Courage Under Fire (1996)\",221],[472,\"Dragonheart (1996)\",158],[473,\"James and the Giant Peach (1996)\",126],[474,\"Dr. Strangelove or: How I Learned to Stop Worrying and Love the Bomb (1963)\",194],[475,\"Trainspotting (1996)\",250],[476,\"First Wives Club, The (1996)\",160],[477,\"Matilda (1996)\",95],[478,\"Philadelphia Story, The (1940)\",104],[479,\"Vertigo (1958)\",179],[480,\"North by Northwest (1959)\",179],[481,\"Apartment, The (1960)\",63],[482,\"Some Like It Hot (1959)\",128],[483,\"Casablanca (1942)\",243],[484,\"Maltese Falcon, The (1941)\",138],[485,\"My Fair Lady (1964)\",125],[486,\"Sabrina (1954)\",64],[487,\"Roman Holiday (1953)\",68],[488,\"Sunset Blvd. (1950)\",65],[489,\"Notorious (1946)\",52],[490,\"To Catch a Thief (1955)\",50],[491,\"Adventures of Robin Hood, The (1938)\",67],[492,\"East of Eden (1955)\",59],[493,\"Thin Man, The (1934)\",60],[494,\"His Girl Friday (1940)\",56],[495,\"Around the World in 80 Days (1956)\",59],[496,\"It's a Wonderful Life (1946)\",231],[497,\"Bringing Up Baby (1938)\",68],[498,\"African Queen, The (1951)\",152],[499,\"Cat on a Hot Tin Roof (1958)\",62],[500,\"Fly Away Home (1996)\",31],[501,\"Dumbo (1941)\",123],[502,\"Bananas (1971)\",57],[503,\"Candidate, The (1972)\",39],[504,\"Bonnie and Clyde (1967)\",122],[505,\"Dial M for Murder (1954)\",68],[506,\"Rebel Without a Cause (1955)\",90],[507,\"Streetcar Named Desire, A (1951)\",98],[508,\"People vs. Larry Flynt, The (1996)\",215],[509,\"My Left Foot (1989)\",121],[510,\"Magnificent Seven, The (1954)\",121],[511,\"Lawrence of Arabia (1962)\",173],[512,\"Wings of Desire (1987)\",57],[513,\"Third Man, The (1949)\",72],[514,\"Annie Hall (1977)\",180],[515,\"Boot, Das (1981)\",201],[516,\"Local Hero (1983)\",63],[517,\"Manhattan (1979)\",91],[518,\"Miller's Crossing (1990)\",89],[519,\"Treasure of the Sierra Madre, The (1948)\",80],[520,\"Great Escape, The (1963)\",124],[521,\"Deer Hunter, The (1978)\",120],[522,\"Down by Law (1986)\",35],[523,\"Cool Hand Luke (1967)\",164],[524,\"Great Dictator, The (1940)\",46],[525,\"Big Sleep, The (1946)\",73],[526,\"Ben-Hur (1959)\",124],[527,\"Gandhi (1982)\",195],[528,\"Killing Fields, The (1984)\",121],[529,\"My Life as a Dog (Mitt liv som hund) (1985)\",93],[530,\"Man Who Would Be King, The (1975)\",80],[531,\"Shine (1996)\",129],[532,\"Kama Sutra: A Tale of Love (1996)\",22],[533,\"Daytrippers, The (1996)\",15],[534,\"Traveller (1997)\",13],[535,\"Addicted to Love (1997)\",54],[536,\"Ponette (1996)\",10],[537,\"My Own Private Idaho (1991)\",30],[538,\"Anastasia (1997)\",66],[539,\"Mouse Hunt (1997)\",44],[540,\"Money Train (1995)\",43],[541,\"Mortal Kombat (1995)\",49],[542,\"Pocahontas (1995)\",51],[543,\"Mis\\u00e9rables, Les (1995)\",21],[544,\"Things to Do in Denver when You're Dead (1995)\",71],[545,\"Vampire in Brooklyn (1995)\",12],[546,\"Broken Arrow (1996)\",254],[547,\"Young Poisoner's Handbook, The (1995)\",41],[548,\"NeverEnding Story III, The (1994)\",12],[549,\"Rob Roy (1995)\",92],[550,\"Die Hard: With a Vengeance (1995)\",151],[551,\"Lord of Illusions (1995)\",24],[552,\"Species (1995)\",45],[553,\"Walk in the Clouds, A (1995)\",63],[554,\"Waterworld (1995)\",102],[555,\"White Man's Burden (1995)\",10],[556,\"Wild Bill (1995)\",12],[557,\"Farinelli: il castrato (1994)\",17],[558,\"Heavenly Creatures (1994)\",70],[559,\"Interview with the Vampire (1994)\",137],[560,\"Kid in King Arthur's Court, A (1995)\",22],[561,\"Mary Shelley's Frankenstein (1994)\",59],[562,\"Quick and the Dead, The (1995)\",48],[563,\"Stephen King's The Langoliers (1995)\",29],[564,\"Tales from the Hood (1995)\",27],[565,\"Village of the Damned (1995)\",22],[566,\"Clear and Present Danger (1994)\",179],[567,\"Wes Craven's New Nightmare (1994)\",35],[568,\"Speed (1994)\",230],[569,\"Wolf (1994)\",67],[570,\"Wyatt Earp (1994)\",50],[571,\"Another Stakeout (1993)\",28],[572,\"Blown Away (1994)\",29],[573,\"Body Snatchers (1993)\",33],[574,\"Boxing Helena (1993)\",15],[575,\"City Slickers II: The Legend of Curly's Gold (1994)\",44],[576,\"Cliffhanger (1993)\",93],[577,\"Coneheads (1993)\",41],[578,\"Demolition Man (1993)\",92],[579,\"Fatal Instinct (1993)\",19],[580,\"Englishman Who Went Up a Hill, But Came Down a Mountain, The (1995)\",32],[581,\"Kalifornia (1993)\",59],[582,\"Piano, The (1993)\",168],[583,\"Romeo Is Bleeding (1993)\",37],[584,\"Secret Garden, The (1993)\",79],[585,\"Son in Law (1993)\",39],[586,\"Terminal Velocity (1994)\",34],[587,\"Hour of the Pig, The (1993)\",14],[588,\"Beauty and the Beast (1991)\",202],[589,\"Wild Bunch, The (1969)\",43],[590,\"Hellraiser: Bloodline (1996)\",18],[591,\"Primal Fear (1996)\",178],[592,\"True Crime (1995)\",9],[593,\"Stalingrad (1993)\",12],[594,\"Heavy (1995)\",5],[595,\"Fan, The (1996)\",64],[596,\"Hunchback of Notre Dame, The (1996)\",127],[597,\"Eraser (1996)\",206],[598,\"Big Squeeze, The (1996)\",4],[599,\"Police Story 4: Project S (Chao ji ji hua) (1993)\",1],[600,\"Daniel Defoe's Robinson Crusoe (1996)\",2],[601,\"For Whom the Bell Tolls (1943)\",20],[602,\"American in Paris, An (1951)\",50],[603,\"Rear Window (1954)\",209],[604,\"It Happened One Night (1934)\",81],[605,\"Meet Me in St. Louis (1944)\",31],[606,\"All About Eve (1950)\",66],[607,\"Rebecca (1940)\",66],[608,\"Spellbound (1945)\",30],[609,\"Father of the Bride (1950)\",60],[610,\"Gigi (1958)\",41],[611,\"Laura (1944)\",40],[612,\"Lost Horizon (1937)\",34],[613,\"My Man Godfrey (1936)\",27],[614,\"Giant (1956)\",51],[615,\"39 Steps, The (1935)\",59],[616,\"Night of the Living Dead (1968)\",64],[617,\"Blue Angel, The (Blaue Engel, Der) (1930)\",18],[618,\"Picnic (1955)\",18],[619,\"Extreme Measures (1996)\",64],[620,\"Chamber, The (1996)\",43],[621,\"Davy Crockett, King of the Wild Frontier (1955)\",11],[622,\"Swiss Family Robinson (1960)\",39],[623,\"Angels in the Outfield (1994)\",39],[624,\"Three Caballeros, The (1945)\",22],[625,\"Sword in the Stone, The (1963)\",82],[626,\"So Dear to My Heart (1949)\",4],[627,\"Robin Hood: Prince of Thieves (1991)\",75],[628,\"Sleepers (1996)\",169],[629,\"Victor\\u002fVictoria (1982)\",77],[630,\"Great Race, The (1965)\",31],[631,\"Crying Game, The (1992)\",119],[632,\"Sophie's Choice (1982)\",58],[633,\"Christmas Carol, A (1938)\",69],[634,\"Microcosmos: Le peuple de l'herbe (1996)\",24],[635,\"Fog, The (1980)\",23],[636,\"Escape from New York (1981)\",91],[637,\"Howling, The (1981)\",38],[638,\"Return of Martin Guerre, The (Retour de Martin Guerre, Le) (1982)\",44],[639,\"Tin Drum, The (Blechtrommel, Die) (1979)\",40],[640,\"Cook the Thief His Wife & Her Lover, The (1989)\",82],[641,\"Paths of Glory (1957)\",33],[642,\"Grifters, The (1990)\",89],[643,\"The Innocent (1994)\",4],[644,\"Thin Blue Line, The (1988)\",35],[645,\"Paris Is Burning (1990)\",27],[646,\"Once Upon a Time in the West (1969)\",38],[647,\"Ran (1985)\",70],[648,\"Quiet Man, The (1952)\",67],[649,\"Once Upon a Time in America (1984)\",50],[650,\"Seventh Seal, The (Sjunde inseglet, Det) (1957)\",72],[651,\"Glory (1989)\",171],[652,\"Rosencrantz and Guildenstern Are Dead (1990)\",90],[653,\"Touch of Evil (1958)\",34],[654,\"Chinatown (1974)\",147],[655,\"Stand by Me (1986)\",227],[656,\"M (1931)\",44],[657,\"Manchurian Candidate, The (1962)\",131],[658,\"Pump Up the Volume (1990)\",79],[659,\"Arsenic and Old Lace (1944)\",115],[660,\"Fried Green Tomatoes (1991)\",153],[661,\"High Noon (1952)\",88],[662,\"Somewhere in Time (1980)\",82],[663,\"Being There (1979)\",116],[664,\"Paris, Texas (1984)\",46],[665,\"Alien 3 (1992)\",100],[666,\"Blood For Dracula (Andy Warhol's Dracula) (1974)\",5],[667,\"Audrey Rose (1977)\",12],[668,\"Blood Beach (1981)\",6],[669,\"Body Parts (1991)\",13],[670,\"Body Snatchers (1993)\",36],[671,\"Bride of Frankenstein (1935)\",46],[672,\"Candyman (1992)\",65],[673,\"Cape Fear (1962)\",86],[674,\"Cat People (1982)\",48],[675,\"Nosferatu (Nosferatu, eine Symphonie des Grauens) (1922)\",54],[676,\"Crucible, The (1996)\",77],[677,\"Fire on the Mountain (1996)\",1],[678,\"Volcano (1997)\",219],[679,\"Conan the Barbarian (1981)\",107],[680,\"Kull the Conqueror (1997)\",34],[681,\"Wishmaster (1997)\",27],[682,\"I Know What You Did Last Summer (1997)\",100],[683,\"Rocket Man (1997)\",49],[684,\"In the Line of Fire (1993)\",169],[685,\"Executive Decision (1996)\",157],[686,\"Perfect World, A (1993)\",50],[687,\"McHale's Navy (1997)\",69],[688,\"Leave It to Beaver (1997)\",44],[689,\"Jackal, The (1997)\",87],[690,\"Seven Years in Tibet (1997)\",155],[691,\"Dark City (1998)\",16],[692,\"American President, The (1995)\",164],[693,\"Casino (1995)\",91],[694,\"Persuasion (1995)\",44],[695,\"Kicking and Screaming (1995)\",13],[696,\"City Hall (1996)\",79],[697,\"Basketball Diaries, The (1995)\",40],[698,\"Browning Version, The (1994)\",10],[699,\"Little Women (1994)\",102],[700,\"Miami Rhapsody (1995)\",15],[701,\"Wonderful, Horrible Life of Leni Riefenstahl, The (1993)\",10],[702,\"Barcelona (1994)\",53],[703,\"Widows' Peak (1994)\",19],[704,\"House of the Spirits, The (1993)\",24],[705,\"Singin' in the Rain (1952)\",137],[706,\"Bad Moon (1996)\",6],[707,\"Enchanted April (1991)\",70],[708,\"Sex, Lies, and Videotape (1989)\",101],[709,\"Strictly Ballroom (1992)\",104],[710,\"Better Off Dead... (1985)\",79],[711,\"Substance of Fire, The (1996)\",1],[712,\"Tin Men (1987)\",51],[713,\"Othello (1995)\",72],[714,\"Carrington (1995)\",13],[715,\"To Die For (1995)\",87],[716,\"Home for the Holidays (1995)\",58],[717,\"Juror, The (1996)\",82],[718,\"In the Bleak Midwinter (1995)\",16],[719,\"Canadian Bacon (1994)\",29],[720,\"First Knight (1995)\",86],[721,\"Mallrats (1995)\",54],[722,\"Nine Months (1995)\",58],[723,\"Boys on the Side (1995)\",34],[724,\"Circle of Friends (1995)\",76],[725,\"Exit to Eden (1994)\",16],[726,\"Fluke (1995)\",14],[727,\"Immortal Beloved (1994)\",63],[728,\"Junior (1994)\",45],[729,\"Nell (1994)\",81],[730,\"Queen Margot (Reine Margot, La) (1994)\",24],[731,\"Corrina, Corrina (1994)\",39],[732,\"Dave (1993)\",180],[733,\"Go Fish (1994)\",15],[734,\"Made in America (1993)\",27],[735,\"Philadelphia (1993)\",137],[736,\"Shadowlands (1993)\",78],[737,\"Sirens (1994)\",59],[738,\"Threesome (1994)\",31],[739,\"Pretty Woman (1990)\",164],[740,\"Jane Eyre (1996)\",63],[741,\"Last Supper, The (1995)\",58],[742,\"Ransom (1996)\",267],[743,\"Crow: City of Angels, The (1996)\",39],[744,\"Michael Collins (1996)\",92],[745,\"Ruling Class, The (1972)\",16],[746,\"Real Genius (1985)\",119],[747,\"Benny & Joon (1993)\",102],[748,\"Saint, The (1997)\",316],[749,\"MatchMaker, The (1997)\",51],[750,\"Amistad (1997)\",124],[751,\"Tomorrow Never Dies (1997)\",180],[752,\"Replacement Killers, The (1998)\",39],[753,\"Burnt By the Sun (1994)\",24],[754,\"Red Corner (1997)\",57],[755,\"Jumanji (1995)\",96],[756,\"Father of the Bride Part II (1995)\",128],[757,\"Across the Sea of Time (1995)\",4],[758,\"Lawnmower Man 2: Beyond Cyberspace (1996)\",21],[759,\"Fair Game (1995)\",11],[760,\"Screamers (1995)\",46],[761,\"Nick of Time (1995)\",44],[762,\"Beautiful Girls (1996)\",115],[763,\"Happy Gilmore (1996)\",149],[764,\"If Lucy Fell (1996)\",29],[765,\"Boomerang (1992)\",32],[766,\"Man of the Year (1995)\",9],[767,\"Addiction, The (1995)\",11],[768,\"Casper (1995)\",52],[769,\"Congo (1995)\",42],[770,\"Devil in a Blue Dress (1995)\",57],[771,\"Johnny Mnemonic (1995)\",41],[772,\"Kids (1995)\",49],[773,\"Mute Witness (1994)\",17],[774,\"Prophecy, The (1995)\",32],[775,\"Something to Talk About (1995)\",26],[776,\"Three Wishes (1995)\",9],[777,\"Castle Freak (1995)\",4],[778,\"Don Juan DeMarco (1995)\",76],[779,\"Drop Zone (1994)\",31],[780,\"Dumb & Dumber (1994)\",69],[781,\"French Kiss (1995)\",84],[782,\"Little Odessa (1994)\",10],[783,\"Milk Money (1994)\",37],[784,\"Beyond Bedlam (1993)\",2],[785,\"Only You (1994)\",39],[786,\"Perez Family, The (1995)\",14],[787,\"Roommates (1995)\",13],[788,\"Relative Fear (1994)\",3],[789,\"Swimming with Sharks (1995)\",47],[790,\"Tommy Boy (1995)\",66],[791,\"Baby-Sitters Club, The (1995)\",10],[792,\"Bullets Over Broadway (1994)\",86],[793,\"Crooklyn (1994)\",10],[794,\"It Could Happen to You (1994)\",46],[795,\"Richie Rich (1994)\",21],[796,\"Speechless (1994)\",36],[797,\"Timecop (1994)\",31],[798,\"Bad Company (1995)\",9],[799,\"Boys Life (1995)\",5],[800,\"In the Mouth of Madness (1995)\",26],[801,\"Air Up There, The (1994)\",16],[802,\"Hard Target (1993)\",40],[803,\"Heaven & Earth (1993)\",9],[804,\"Jimmy Hollywood (1994)\",8],[805,\"Manhattan Murder Mystery (1993)\",27],[806,\"Menace II Society (1993)\",50],[807,\"Poetic Justice (1993)\",9],[808,\"Program, The (1993)\",31],[809,\"Rising Sun (1993)\",43],[810,\"Shadow, The (1994)\",45],[811,\"Thirty-Two Short Films About Glenn Gould (1993)\",18],[812,\"Andre (1994)\",18],[813,\"Celluloid Closet, The (1995)\",56],[814,\"Great Day in Harlem, A (1994)\",1],[815,\"One Fine Day (1996)\",112],[816,\"Candyman: Farewell to the Flesh (1995)\",21],[817,\"Frisk (1995)\",3],[818,\"Girl 6 (1996)\",25],[819,\"Eddie (1996)\",40],[820,\"Space Jam (1996)\",93],[821,\"Mrs. Winterbourne (1996)\",22],[822,\"Faces (1968)\",4],[823,\"Mulholland Falls (1996)\",82],[824,\"Great White Hype, The (1996)\",49],[825,\"Arrival, The (1996)\",83],[826,\"Phantom, The (1996)\",80],[827,\"Daylight (1996)\",57],[828,\"Alaska (1996)\",13],[829,\"Fled (1996)\",34],[830,\"Power 98 (1995)\",1],[831,\"Escape from L.A. (1996)\",91],[832,\"Bogus (1996)\",22],[833,\"Bulletproof (1996)\",49],[834,\"Halloween: The Curse of Michael Myers (1995)\",25],[835,\"Gay Divorcee, The (1934)\",15],[836,\"Ninotchka (1939)\",26],[837,\"Meet John Doe (1941)\",25],[838,\"In the Line of Duty 2 (1987)\",4],[839,\"Loch Ness (1995)\",4],[840,\"Last Man Standing (1996)\",53],[841,\"Glimmer Man, The (1996)\",48],[842,\"Pollyanna (1960)\",27],[843,\"Shaggy Dog, The (1959)\",30],[844,\"Freeway (1996)\",42],[845,\"That Thing You Do! (1996)\",176],[846,\"To Gillian on Her 37th Birthday (1996)\",44],[847,\"Looking for Richard (1996)\",55],[848,\"Murder, My Sweet (1944)\",9],[849,\"Days of Thunder (1990)\",53],[850,\"Perfect Candidate, A (1996)\",4],[851,\"Two or Three Things I Know About Her (1966)\",4],[852,\"Bloody Child, The (1996)\",1],[853,\"Braindead (1992)\",14],[854,\"Bad Taste (1987)\",16],[855,\"Diva (1981)\",66],[856,\"Night on Earth (1991)\",36],[857,\"Paris Was a Woman (1995)\",1],[858,\"Amityville: Dollhouse (1996)\",3],[859,\"April Fool's Day (1986)\",15],[860,\"Believers, The (1987)\",16],[861,\"Nosferatu a Venezia (1986)\",3],[862,\"Jingle All the Way (1996)\",18],[863,\"Garden of Finzi-Contini, The (Giardino dei Finzi-Contini, Il) (1970)\",24],[864,\"My Fellow Americans (1996)\",86],[865,\"Ice Storm, The (1997)\",21],[866,\"Michael (1996)\",119],[867,\"Whole Wide World, The (1996)\",6],[868,\"Hearts and Minds (1996)\",5],[869,\"Fools Rush In (1997)\",24],[870,\"Touch (1997)\",9],[871,\"Vegas Vacation (1997)\",75],[872,\"Love Jones (1997)\",42],[873,\"Picture Perfect (1997)\",81],[874,\"Career Girls (1997)\",39],[875,\"She's So Lovely (1997)\",53],[876,\"Money Talks (1997)\",47],[877,\"Excess Baggage (1997)\",52],[878,\"That Darn Cat! (1997)\",33],[879,\"Peacemaker, The (1997)\",136],[880,\"Soul Food (1997)\",59],[881,\"Money Talks (1997)\",45],[882,\"Washington Square (1997)\",34],[883,\"Telling Lies in America (1997)\",13],[884,\"Year of the Horse (1997)\",7],[885,\"Phantoms (1998)\",13],[886,\"Life Less Ordinary, A (1997)\",53],[887,\"Eve's Bayou (1997)\",64],[888,\"One Night Stand (1997)\",15],[889,\"Tango Lesson, The (1997)\",13],[890,\"Mortal Kombat: Annihilation (1997)\",43],[891,\"Bent (1997)\",6],[892,\"Flubber (1997)\",53],[893,\"For Richer or Poorer (1997)\",14],[894,\"Home Alone 3 (1997)\",19],[895,\"Scream 2 (1997)\",106],[896,\"Sweet Hereafter, The (1997)\",44],[897,\"Time Tracers (1995)\",2],[898,\"Postman, The (1997)\",58],[899,\"Winter Guest, The (1997)\",9],[900,\"Kundun (1997)\",42],[901,\"Mr. Magoo (1997)\",12],[902,\"Big Lebowski, The (1998)\",42],[903,\"Afterglow (1997)\",18],[904,\"Ma vie en rose (My Life in Pink) (1997)\",20],[905,\"Great Expectations (1998)\",27],[906,\"Oscar & Lucinda (1997)\",21],[907,\"Vermin (1998)\",2],[908,\"Half Baked (1998)\",20],[909,\"Dangerous Beauty (1998)\",13],[910,\"Nil By Mouth (1997)\",4],[911,\"Twilight (1998)\",4],[912,\"U.S. Marshalls (1998)\",9],[913,\"Love and Death on Long Island (1997)\",2],[914,\"Wild Things (1998)\",11],[915,\"Primary Colors (1998)\",13],[916,\"Lost in Space (1998)\",18],[917,\"Mercury Rising (1998)\",7],[918,\"City of Angels (1998)\",8],[919,\"City of Lost Children, The (1995)\",96],[920,\"Two Bits (1995)\",5],[921,\"Farewell My Concubine (1993)\",46],[922,\"Dead Man (1995)\",34],[923,\"Raise the Red Lantern (1991)\",58],[924,\"White Squall (1996)\",85],[925,\"Unforgettable (1996)\",34],[926,\"Down Periscope (1996)\",101],[927,\"Flower of My Secret, The (Flor de mi secreto, La) (1995)\",6],[928,\"Craft, The (1996)\",104],[929,\"Harriet the Spy (1996)\",40],[930,\"Chain Reaction (1996)\",80],[931,\"Island of Dr. Moreau, The (1996)\",57],[932,\"First Kid (1996)\",40],[933,\"Funeral, The (1996)\",21],[934,\"Preacher's Wife, The (1996)\",68],[935,\"Paradise Road (1997)\",7],[936,\"Brassed Off (1996)\",32],[937,\"Thousand Acres, A (1997)\",37],[938,\"Smile Like Yours, A (1997)\",25],[939,\"Murder in the First (1995)\",60],[940,\"Airheads (1994)\",32],[941,\"With Honors (1994)\",46],[942,\"What's Love Got to Do with It (1993)\",45],[943,\"Killing Zoe (1994)\",40],[944,\"Renaissance Man (1994)\",43],[945,\"Charade (1963)\",40],[946,\"Fox and the Hound, The (1981)\",61],[947,\"Big Blue, The (Grand bleu, Le) (1988)\",17],[948,\"Booty Call (1997)\",48],[949,\"How to Make an American Quilt (1995)\",71],[950,\"Georgia (1995)\",30],[951,\"Indian in the Cupboard, The (1995)\",39],[952,\"Blue in the Face (1995)\",45],[953,\"Unstrung Heroes (1995)\",22],[954,\"Unzipped (1995)\",11],[955,\"Before Sunrise (1995)\",49],[956,\"Nobody's Fool (1994)\",46],[957,\"Pushing Hands (1992)\",2],[958,\"To Live (Huozhe) (1994)\",14],[959,\"Dazed and Confused (1993)\",64],[960,\"Naked (1993)\",25],[961,\"Orlando (1993)\",34],[962,\"Ruby in Paradise (1993)\",23],[963,\"Some Folks Call It a Sling Blade (1993)\",41],[964,\"Month by the Lake, A (1995)\",9],[965,\"Funny Face (1957)\",21],[966,\"Affair to Remember, An (1957)\",26],[967,\"Little Lord Fauntleroy (1936)\",12],[968,\"Inspector General, The (1949)\",18],[969,\"Winnie the Pooh and the Blustery Day (1968)\",75],[970,\"Hear My Song (1991)\",8],[971,\"Mediterraneo (1991)\",34],[972,\"Passion Fish (1992)\",28],[973,\"Grateful Dead (1995)\",4],[974,\"Eye for an Eye (1996)\",32],[975,\"Fear (1996)\",44],[976,\"Solo (1996)\",12],[977,\"Substitute, The (1996)\",49],[978,\"Heaven's Prisoners (1996)\",27],[979,\"Trigger Effect, The (1996)\",35],[980,\"Mother Night (1996)\",22],[981,\"Dangerous Ground (1997)\",8],[982,\"Maximum Risk (1996)\",20],[983,\"Rich Man's Wife, The (1996)\",15],[984,\"Shadow Conspiracy (1997)\",44],[985,\"Blood & Wine (1997)\",22],[986,\"Turbulence (1997)\",23],[987,\"Underworld (1997)\",4],[988,\"Beautician and the Beast, The (1997)\",86],[989,\"Cats Don't Dance (1997)\",32],[990,\"Anna Karenina (1997)\",33],[991,\"Keys to Tulsa (1997)\",25],[992,\"Head Above Water (1996)\",4],[993,\"Hercules (1997)\",66],[994,\"Last Time I Committed Suicide, The (1997)\",7],[995,\"Kiss Me, Guido (1997)\",31],[996,\"Big Green, The (1995)\",14],[997,\"Stuart Saves His Family (1995)\",16],[998,\"Cabin Boy (1994)\",16],[999,\"Clean Slate (1994)\",10],[1000,\"Lightning Jack (1994)\",10],[1001,\"Stupids, The (1996)\",17],[1002,\"Pest, The (1997)\",8],[1003,\"That Darn Cat! (1997)\",8],[1004,\"Geronimo: An American Legend (1993)\",9],[1005,\"Double vie de V\\u00e9ronique, La (Double Life of Veronique, The) (1991)\",22],[1006,\"Until the End of the World (Bis ans Ende der Welt) (1991)\",23],[1007,\"Waiting for Guffman (1996)\",47],[1008,\"I Shot Andy Warhol (1996)\",37],[1009,\"Stealing Beauty (1996)\",64],[1010,\"Basquiat (1996)\",44],[1011,\"2 Days in the Valley (1996)\",93],[1012,\"Private Parts (1997)\",100],[1013,\"Anaconda (1997)\",38],[1014,\"Romy and Michele's High School Reunion (1997)\",98],[1015,\"Shiloh (1997)\",12],[1016,\"Con Air (1997)\",137],[1017,\"Trees Lounge (1996)\",50],[1018,\"Tie Me Up! Tie Me Down! (1990)\",32],[1019,\"Die xue shuang xiong (Killer, The) (1989)\",31],[1020,\"Gaslight (1944)\",35],[1021,\"8 1\\u002f2 (1963)\",38],[1022,\"Fast, Cheap & Out of Control (1997)\",32],[1023,\"Fathers' Day (1997)\",31],[1024,\"Mrs. Dalloway (1997)\",15],[1025,\"Fire Down Below (1997)\",44],[1026,\"Lay of the Land, The (1997)\",4],[1027,\"Shooter, The (1995)\",3],[1028,\"Grumpier Old Men (1995)\",148],[1029,\"Jury Duty (1995)\",14],[1030,\"Beverly Hillbillies, The (1993)\",20],[1031,\"Lassie (1994)\",7],[1032,\"Little Big League (1994)\",16],[1033,\"Homeward Bound II: Lost in San Francisco (1996)\",32],[1034,\"Quest, The (1996)\",27],[1035,\"Cool Runnings (1993)\",68],[1036,\"Drop Dead Fred (1991)\",24],[1037,\"Grease 2 (1982)\",24],[1038,\"Switchback (1997)\",17],[1039,\"Hamlet (1996)\",90],[1040,\"Two if by Sea (1996)\",25],[1041,\"Forget Paris (1995)\",62],[1042,\"Just Cause (1995)\",28],[1043,\"Rent-a-Kid (1995)\",8],[1044,\"Paper, The (1994)\",40],[1045,\"Fearless (1993)\",25],[1046,\"Malice (1993)\",46],[1047,\"Multiplicity (1996)\",134],[1048,\"She's the One (1996)\",73],[1049,\"House Arrest (1996)\",25],[1050,\"Ghost and Mrs. Muir, The (1947)\",43],[1051,\"Associate, The (1996)\",41],[1052,\"Dracula: Dead and Loving It (1995)\",25],[1053,\"Now and Then (1995)\",24],[1054,\"Mr. Wrong (1996)\",23],[1055,\"Simple Twist of Fate, A (1994)\",10],[1056,\"Cronos (1992)\",10],[1057,\"Pallbearer, The (1996)\",22],[1058,\"War, The (1994)\",15],[1059,\"Don't Be a Menace to South Central While Drinking Your Juice in the Hood (1996)\",35],[1060,\"Adventures of Pinocchio, The (1996)\",39],[1061,\"Evening Star, The (1996)\",29],[1062,\"Four Days in September (1997)\",12],[1063,\"Little Princess, A (1995)\",41],[1064,\"Crossfire (1947)\",4],[1065,\"Koyaanisqatsi (1983)\",53],[1066,\"Balto (1995)\",16],[1067,\"Bottle Rocket (1996)\",44],[1068,\"Star Maker, The (Uomo delle stelle, L') (1995)\",12],[1069,\"Amateur (1994)\",18],[1070,\"Living in Oblivion (1995)\",27],[1071,\"Party Girl (1995)\",16],[1072,\"Pyromaniac's Love Story, A (1995)\",7],[1073,\"Shallow Grave (1994)\",66],[1074,\"Reality Bites (1994)\",77],[1075,\"Man of No Importance, A (1994)\",7],[1076,\"Pagemaster, The (1994)\",12],[1077,\"Love and a .45 (1994)\",8],[1078,\"Oliver & Company (1988)\",22],[1079,\"Joe's Apartment (1996)\",45],[1080,\"Celestial Clockwork (1994)\",2],[1081,\"Curdled (1996)\",8],[1082,\"Female Perversions (1996)\",8],[1083,\"Albino Alligator (1996)\",6],[1084,\"Anne Frank Remembered (1995)\",21],[1085,\"Carried Away (1996)\",11],[1086,\"It's My Party (1995)\",21],[1087,\"Bloodsport 2 (1995)\",10],[1088,\"Double Team (1997)\",13],[1089,\"Speed 2: Cruise Control (1997)\",38],[1090,\"Sliver (1993)\",37],[1091,\"Pete's Dragon (1977)\",43],[1092,\"Dear God (1996)\",12],[1093,\"Live Nude Girls (1995)\",23],[1094,\"Thin Line Between Love and Hate, A (1996)\",12],[1095,\"High School High (1996)\",29],[1096,\"Commandments (1997)\",3],[1097,\"Hate (Haine, La) (1995)\",18],[1098,\"Flirting With Disaster (1996)\",42],[1099,\"Red Firecracker, Green Firecracker (1994)\",13],[1100,\"What Happened Was... (1994)\",8],[1101,\"Six Degrees of Separation (1993)\",74],[1102,\"Two Much (1996)\",7],[1103,\"Trust (1990)\",19],[1104,\"C'est arriv\\u00e9 pr\\u00e8s de chez vous (1992)\",4],[1105,\"Firestorm (1998)\",18],[1106,\"Newton Boys, The (1998)\",4],[1107,\"Beyond Rangoon (1995)\",18],[1108,\"Feast of July (1995)\",5],[1109,\"Death and the Maiden (1994)\",28],[1110,\"Tank Girl (1995)\",41],[1111,\"Double Happiness (1994)\",7],[1112,\"Cobb (1994)\",15],[1113,\"Mrs. Parker and the Vicious Circle (1994)\",22],[1114,\"Faithful (1996)\",10],[1115,\"Twelfth Night (1996)\",29],[1116,\"Mark of Zorro, The (1940)\",13],[1117,\"Surviving Picasso (1996)\",19],[1118,\"Up in Smoke (1978)\",47],[1119,\"Some Kind of Wonderful (1987)\",59],[1120,\"I'm Not Rappaport (1996)\",17],[1121,\"Umbrellas of Cherbourg, The (Parapluies de Cherbourg, Les) (1964)\",21],[1122,\"They Made Me a Criminal (1939)\",1],[1123,\"Last Time I Saw Paris, The (1954)\",3],[1124,\"Farewell to Arms, A (1932)\",12],[1125,\"Innocents, The (1961)\",4],[1126,\"Old Man and the Sea, The (1958)\",32],[1127,\"Truman Show, The (1998)\",11],[1128,\"Heidi Fleiss: Hollywood Madam (1995) \",13],[1129,\"Chungking Express (1994)\",28],[1130,\"Jupiter's Wife (1994)\",1],[1131,\"Safe (1995)\",13],[1132,\"Feeling Minnesota (1996)\",32],[1133,\"Escape to Witch Mountain (1975)\",30],[1134,\"Get on the Bus (1996)\",38],[1135,\"Doors, The (1991)\",46],[1136,\"Ghosts of Mississippi (1996)\",29],[1137,\"Beautiful Thing (1996)\",29],[1138,\"Best Men (1997)\",5],[1139,\"Hackers (1995)\",33],[1140,\"Road to Wellville, The (1994)\",17],[1141,\"War Room, The (1993)\",9],[1142,\"When We Were Kings (1996)\",44],[1143,\"Hard Eight (1996)\",15],[1144,\"Quiet Room, The (1996)\",3],[1145,\"Blue Chips (1994)\",9],[1146,\"Calendar Girl (1993)\",3],[1147,\"My Family (1995)\",21],[1148,\"Tom & Viv (1994)\",9],[1149,\"Walkabout (1971)\",26],[1150,\"Last Dance (1996)\",9],[1151,\"Original Gangstas (1996)\",7],[1152,\"In Love and War (1996)\",28],[1153,\"Backbeat (1993)\",19],[1154,\"Alphaville (1965)\",12],[1155,\"Rendezvous in Paris (Rendez-vous de Paris, Les) (1995)\",3],[1156,\"Cyclo (1995)\",1],[1157,\"Relic, The (1997)\",25],[1158,\"Fille seule, La (A Single Girl) (1995)\",4],[1159,\"Stalker (1979)\",11],[1160,\"Love! Valour! Compassion! (1997)\",26],[1161,\"Palookaville (1996)\",13],[1162,\"Phat Beach (1996)\",5],[1163,\"Portrait of a Lady, The (1996)\",25],[1164,\"Zeus and Roxanne (1997)\",6],[1165,\"Big Bully (1996)\",14],[1166,\"Love & Human Remains (1993)\",12],[1167,\"Sum of Us, The (1994)\",11],[1168,\"Little Buddha (1993)\",22],[1169,\"Fresh (1994)\",10],[1170,\"Spanking the Monkey (1994)\",27],[1171,\"Wild Reeds (1994)\",14],[1172,\"Women, The (1939)\",15],[1173,\"Bliss (1997)\",7],[1174,\"Caught (1996)\",8],[1175,\"Hugo Pool (1997)\",5],[1176,\"Welcome To Sarajevo (1997)\",22],[1177,\"Dunston Checks In (1996)\",7],[1178,\"Major Payne (1994)\",19],[1179,\"Man of the House (1995)\",9],[1180,\"I Love Trouble (1994)\",10],[1181,\"Low Down Dirty Shame, A (1994)\",10],[1182,\"Cops and Robbersons (1994)\",13],[1183,\"Cowboy Way, The (1994)\",19],[1184,\"Endless Summer 2, The (1994)\",10],[1185,\"In the Army Now (1994)\",18],[1186,\"Inkwell, The (1994)\",3],[1187,\"Switchblade Sisters (1975)\",13],[1188,\"Young Guns II (1990)\",44],[1189,\"Prefontaine (1997)\",3],[1190,\"That Old Feeling (1997)\",11],[1191,\"Letter From Death Row, A (1998)\",3],[1192,\"Boys of St. Vincent, The (1993)\",13],[1193,\"Before the Rain (Pred dozhdot) (1994)\",10],[1194,\"Once Were Warriors (1994)\",31],[1195,\"Strawberry and Chocolate (Fresa y chocolate) (1993)\",11],[1196,\"Savage Nights (Nuits fauves, Les) (1992)\",3],[1197,\"Family Thing, A (1996)\",45],[1198,\"Purple Noon (1960)\",7],[1199,\"Cemetery Man (Dellamorte Dellamore) (1994)\",23],[1200,\"Kim (1950)\",7],[1201,\"Marlene Dietrich: Shadow and Light (1996) \",1],[1202,\"Maybe, Maybe Not (Bewegte Mann, Der) (1994)\",8],[1203,\"Top Hat (1935)\",21],[1204,\"To Be or Not to Be (1942)\",18],[1205,\"Secret Agent, The (1996)\",6],[1206,\"Amos & Andrew (1993)\",19],[1207,\"Jade (1995)\",17],[1208,\"Kiss of Death (1995)\",20],[1209,\"Mixed Nuts (1994)\",15],[1210,\"Virtuosity (1995)\",38],[1211,\"Blue Sky (1994)\",12],[1212,\"Flesh and Bone (1993)\",6],[1213,\"Guilty as Sin (1993)\",6],[1214,\"In the Realm of the Senses (Ai no corrida) (1976)\",9],[1215,\"Barb Wire (1996)\",30],[1216,\"Kissed (1996)\",6],[1217,\"Assassins (1995)\",39],[1218,\"Friday (1995)\",26],[1219,\"Goofy Movie, A (1995)\",20],[1220,\"Higher Learning (1995)\",30],[1221,\"When a Man Loves a Woman (1994)\",39],[1222,\"Judgment Night (1993)\",25],[1223,\"King of the Hill (1993)\",4],[1224,\"Scout, The (1994)\",12],[1225,\"Angus (1995)\",14],[1226,\"Night Falls on Manhattan (1997)\",32],[1227,\"Awfully Big Adventure, An (1995)\",8],[1228,\"Under Siege 2: Dark Territory (1995)\",48],[1229,\"Poison Ivy II (1995)\",13],[1230,\"Ready to Wear (Pret-A-Porter) (1994)\",18],[1231,\"Marked for Death (1990)\",22],[1232,\"Madonna: Truth or Dare (1991)\",17],[1233,\"N\\u00e9nette et Boni (1996)\",6],[1234,\"Chairman of the Board (1998)\",8],[1235,\"Big Bang Theory, The (1994)\",1],[1236,\"Other Voices, Other Rooms (1997)\",1],[1237,\"Twisted (1996)\",6],[1238,\"Full Speed (1996)\",8],[1239,\"Cutthroat Island (1995)\",18],[1240,\"Ghost in the Shell (Kokaku kidotai) (1995)\",26],[1241,\"Van, The (1996)\",6],[1242,\"Old Lady Who Walked in the Sea, The (Vieille qui marchait dans la mer, La) (1991)\",5],[1243,\"Night Flier (1997)\",7],[1244,\"Metro (1997)\",36],[1245,\"Gridlock'd (1997)\",19],[1246,\"Bushwhacked (1995)\",7],[1247,\"Bad Girls (1994)\",6],[1248,\"Blink (1994)\",19],[1249,\"For Love or Money (1993)\",12],[1250,\"Best of the Best 3: No Turning Back (1995)\",6],[1251,\"A Chef in Love (1996)\",8],[1252,\"Contempt (M\\u00e9pris, Le) (1963)\",9],[1253,\"Tie That Binds, The (1995)\",7],[1254,\"Gone Fishin' (1997)\",11],[1255,\"Broken English (1996)\",8],[1256,\"Designated Mourner, The (1997)\",3],[1257,\"Designated Mourner, The (1997)\",4],[1258,\"Trial and Error (1997)\",23],[1259,\"Pie in the Sky (1995)\",4],[1260,\"Total Eclipse (1995)\",4],[1261,\"Run of the Country, The (1995)\",4],[1262,\"Walking and Talking (1996)\",8],[1263,\"Foxfire (1996)\",15],[1264,\"Nothing to Lose (1994)\",7],[1265,\"Star Maps (1997)\",19],[1266,\"Bread and Chocolate (Pane e cioccolata) (1973)\",12],[1267,\"Clockers (1995)\",33],[1268,\"Bitter Moon (1992)\",10],[1269,\"Love in the Afternoon (1957)\",10],[1270,\"Life with Mikey (1993)\",7],[1271,\"North (1994)\",7],[1272,\"Talking About Sex (1994)\",5],[1273,\"Color of Night (1994)\",15],[1274,\"Robocop 3 (1993)\",11],[1275,\"Killer (Bulletproof Heart) (1994)\",4],[1276,\"Sunset Park (1996)\",8],[1277,\"Set It Off (1996)\",19],[1278,\"Selena (1997)\",16],[1279,\"Wild America (1997)\",9],[1280,\"Gang Related (1997)\",16],[1281,\"Manny & Lo (1996)\",13],[1282,\"Grass Harp, The (1995)\",9],[1283,\"Out to Sea (1997)\",19],[1284,\"Before and After (1996)\",26],[1285,\"Princess Caraboo (1994)\",15],[1286,\"Shall We Dance? (1937)\",17],[1287,\"Ed (1996)\",6],[1288,\"Denise Calls Up (1995)\",7],[1289,\"Jack and Sarah (1995)\",7],[1290,\"Country Life (1994)\",2],[1291,\"Celtic Pride (1996)\",15],[1292,\"Simple Wish, A (1997)\",3],[1293,\"Star Kid (1997)\",3],[1294,\"Ayn Rand: A Sense of Life (1997)\",7],[1295,\"Kicked in the Head (1997)\",7],[1296,\"Indian Summer (1996)\",20],[1297,\"Love Affair (1994)\",12],[1298,\"Band Wagon, The (1953)\",9],[1299,\"Penny Serenade (1941)\",8],[1300,\"'Til There Was You (1997)\",9],[1301,\"Stripes (1981)\",5],[1302,\"Late Bloomers (1996)\",5],[1303,\"Getaway, The (1994)\",18],[1304,\"New York Cop (1996)\",2],[1305,\"National Lampoon's Senior Trip (1995)\",7],[1306,\"Delta of Venus (1994)\",2],[1307,\"Carmen Miranda: Bananas Is My Business (1994)\",2],[1308,\"Babyfever (1994)\",2],[1309,\"Very Natural Thing, A (1974)\",1],[1310,\"Walk in the Sun, A (1945)\",1],[1311,\"Waiting to Exhale (1995)\",16],[1312,\"Pompatus of Love, The (1996)\",7],[1313,\"Palmetto (1998)\",14],[1314,\"Surviving the Game (1994)\",11],[1315,\"Inventing the Abbotts (1997)\",23],[1316,\"Horse Whisperer, The (1998)\",7],[1317,\"Journey of August King, The (1995)\",4],[1318,\"Catwalk (1995)\",3],[1319,\"Neon Bible, The (1995)\",4],[1320,\"Homage (1995)\",1],[1321,\"Open Season (1996)\",2],[1322,\"Metisse (Caf\\u00e9 au Lait) (1993)\",6],[1323,\"Wooden Man's Bride, The (Wu Kui) (1994)\",3],[1324,\"Loaded (1994)\",5],[1325,\"August (1996)\",1],[1326,\"Boys (1996)\",6],[1327,\"Captives (1994)\",3],[1328,\"Of Love and Shadows (1994)\",6],[1329,\"Low Life, The (1994)\",1],[1330,\"An Unforgettable Summer (1994)\",4],[1331,\"Last Klezmer: Leopold Kozlowski, His Life and Music, The (1995)\",4],[1332,\"My Life and Times With Antonin Artaud (En compagnie d'Antonin Artaud) (1993)\",2],[1333,\"Midnight Dancers (Sibak) (1994)\",5],[1334,\"Somebody to Love (1994)\",2],[1335,\"American Buffalo (1996)\",11],[1336,\"Kazaam (1996)\",10],[1337,\"Larger Than Life (1996)\",9],[1338,\"Two Deaths (1995)\",4],[1339,\"Stefano Quantestorie (1993)\",1],[1340,\"Crude Oasis, The (1995)\",1],[1341,\"Hedd Wyn (1992)\",1],[1342,\"Convent, The (Convento, O) (1995)\",2],[1343,\"Lotto Land (1995)\",1],[1344,\"Story of Xinghua, The (1993)\",5],[1345,\"Day the Sun Turned Cold, The (Tianguo niezi) (1994)\",2],[1346,\"Dingo (1992)\",5],[1347,\"Ballad of Narayama, The (Narayama Bushiko) (1958)\",4],[1348,\"Every Other Weekend (1990)\",1],[1349,\"Mille bolle blu (1993)\",1],[1350,\"Crows and Sparrows (1949)\",2],[1351,\"Lover's Knot (1996)\",3],[1352,\"Shadow of Angels (Schatten der Engel) (1976)\",1],[1353,\"1-900 (1994)\",5],[1354,\"Venice\\u002fVenice (1992)\",2],[1355,\"Infinity (1996)\",6],[1356,\"Ed's Next Move (1996)\",3],[1357,\"For the Moment (1994)\",3],[1358,\"The Deadly Cure (1996)\",2],[1359,\"Boys in Venice (1996)\",2],[1360,\"Sexual Life of the Belgians, The (1994)\",2],[1361,\"Search for One-eye Jimmy, The (1996)\",3],[1362,\"American Strays (1996)\",2],[1363,\"Leopard Son, The (1996)\",1],[1364,\"Bird of Prey (1996)\",1],[1365,\"Johnny 100 Pesos (1993)\",2],[1366,\"JLG\\u002fJLG - autoportrait de d\\u00e9cembre (1994)\",1],[1367,\"Faust (1994)\",5],[1368,\"Mina Tannenbaum (1994)\",6],[1369,\"Forbidden Christ, The (Cristo proibito, Il) (1950)\",4],[1370,\"I Can't Sleep (J'ai pas sommeil) (1994)\",3],[1371,\"Machine, The (1994)\",2],[1372,\"Stranger, The (1994)\",3],[1373,\"Good Morning (1971)\",1],[1374,\"Falling in Love Again (1980)\",2],[1375,\"Cement Garden, The (1993)\",10],[1376,\"Meet Wally Sparks (1997)\",7],[1377,\"Hotel de Love (1996)\",4],[1378,\"Rhyme & Reason (1997)\",5],[1379,\"Love and Other Catastrophes (1996)\",7],[1380,\"Hollow Reed (1996)\",6],[1381,\"Losing Chase (1996)\",8],[1382,\"Bonheur, Le (1965)\",4],[1383,\"Second Jungle Book: Mowgli & Baloo, The (1997)\",6],[1384,\"Squeeze (1996)\",3],[1385,\"Roseanna's Grave (For Roseanna) (1997)\",5],[1386,\"Tetsuo II: Body Hammer (1992)\",6],[1387,\"Fall (1997)\",3],[1388,\"Gabbeh (1996)\",6],[1389,\"Mondo (1996)\",3],[1390,\"Innocent Sleep, The (1995)\",2],[1391,\"For Ever Mozart (1996)\",3],[1392,\"Locusts, The (1997)\",5],[1393,\"Stag (1997)\",9],[1394,\"Swept from the Sea (1997)\",7],[1395,\"Hurricane Streets (1998)\",6],[1396,\"Stonewall (1995)\",5],[1397,\"Of Human Bondage (1934)\",5],[1398,\"Anna (1996)\",2],[1399,\"Stranger in the House (1997)\",7],[1400,\"Picture Bride (1995)\",10],[1401,\"M. Butterfly (1993)\",18],[1402,\"Ciao, Professore! (1993)\",4],[1403,\"Caro Diario (Dear Diary) (1994)\",4],[1404,\"Withnail and I (1987)\",13],[1405,\"Boy's Life 2 (1997)\",6],[1406,\"When Night Is Falling (1995)\",5],[1407,\"Specialist, The (1994)\",20],[1408,\"Gordy (1995)\",3],[1409,\"Swan Princess, The (1994)\",7],[1410,\"Harlem (1993)\",4],[1411,\"Barbarella (1968)\",28],[1412,\"Land Before Time III: The Time of the Great Giving (1995) (V)\",6],[1413,\"Street Fighter (1994)\",8],[1414,\"Coldblooded (1995)\",1],[1415,\"Next Karate Kid, The (1994)\",9],[1416,\"No Escape (1994)\",5],[1417,\"Turning, The (1992)\",2],[1418,\"Joy Luck Club, The (1993)\",3],[1419,\"Highlander III: The Sorcerer (1994)\",16],[1420,\"Gilligan's Island: The Movie (1998)\",3],[1421,\"My Crazy Life (Mi vida loca) (1993)\",11],[1422,\"Suture (1993)\",4],[1423,\"Walking Dead, The (1995)\",4],[1424,\"I Like It Like That (1994)\",3],[1425,\"I'll Do Anything (1994)\",10],[1426,\"Grace of My Heart (1996)\",8],[1427,\"Drunks (1995)\",5],[1428,\"SubUrbia (1997)\",12],[1429,\"Sliding Doors (1998)\",4],[1430,\"Ill Gotten Gains (1997)\",3],[1431,\"Legal Deceit (1997)\",5],[1432,\"Mighty, The (1998)\",3],[1433,\"Men of Means (1998)\",2],[1434,\"Shooting Fish (1997)\",10],[1435,\"Steal Big, Steal Little (1995)\",7],[1436,\"Mr. Jones (1993)\",2],[1437,\"House Party 3 (1994)\",9],[1438,\"Panther (1995)\",5],[1439,\"Jason's Lyric (1994)\",8],[1440,\"Above the Rim (1994)\",5],[1441,\"Moonlight and Valentino (1995)\",7],[1442,\"Scarlet Letter, The (1995)\",5],[1443,\"8 Seconds (1994)\",4],[1444,\"That Darn Cat! (1965)\",19],[1445,\"Ladybird Ladybird (1994)\",4],[1446,\"Bye Bye, Love (1995)\",15],[1447,\"Century (1993)\",1],[1448,\"My Favorite Season (1993)\",3],[1449,\"Pather Panchali (1955)\",8],[1450,\"Golden Earrings (1947)\",2],[1451,\"Foreign Correspondent (1940)\",15],[1452,\"Lady of Burlesque (1943)\",1],[1453,\"Angel on My Shoulder (1946)\",1],[1454,\"Angel and the Badman (1947)\",6],[1455,\"Outlaw, The (1943)\",2],[1456,\"Beat the Devil (1954)\",7],[1457,\"Love Is All There Is (1996)\",1],[1458,\"Damsel in Distress, A (1937)\",1],[1459,\"Madame Butterfly (1995)\",7],[1460,\"Sleepover (1995)\",1],[1461,\"Here Comes Cookie (1935)\",1],[1462,\"Thieves (Voleurs, Les) (1996)\",7],[1463,\"Boys, Les (1997)\",3],[1464,\"Stars Fell on Henrietta, The (1995)\",3],[1465,\"Last Summer in the Hamptons (1995)\",3],[1466,\"Margaret's Museum (1995)\",6],[1467,\"Saint of Fort Washington, The (1993)\",2],[1468,\"Cure, The (1995)\",6],[1469,\"Tom and Huck (1995)\",12],[1470,\"Gumby: The Movie (1995)\",5],[1471,\"Hideaway (1995)\",9],[1472,\"Visitors, The (Visiteurs, Les) (1993)\",2],[1473,\"Little Princess, The (1939)\",9],[1474,\"Nina Takes a Lover (1994)\",6],[1475,\"Bhaji on the Beach (1993)\",8],[1476,\"Raw Deal (1948)\",1],[1477,\"Nightwatch (1997)\",2],[1478,\"Dead Presidents (1995)\",18],[1479,\"Reckless (1995)\",8],[1480,\"Herbie Rides Again (1974)\",11],[1481,\"S.F.W. (1994)\",2],[1482,\"Gate of Heavenly Peace, The (1995)\",1],[1483,\"Man in the Iron Mask, The (1998)\",12],[1484,\"Jerky Boys, The (1994)\",3],[1485,\"Colonel Chabert, Le (1994)\",4],[1486,\"Girl in the Cadillac (1995)\",1],[1487,\"Even Cowgirls Get the Blues (1993)\",5],[1488,\"Germinal (1993)\",4],[1489,\"Chasers (1994)\",5],[1490,\"Fausto (1993)\",3],[1491,\"Tough and Deadly (1995)\",2],[1492,\"Window to Paris (1994)\",1],[1493,\"Modern Affair, A (1995)\",1],[1494,\"Mostro, Il (1994)\",1],[1495,\"Flirt (1995)\",5],[1496,\"Carpool (1996)\",5],[1497,\"Line King: Al Hirschfeld, The (1996)\",2],[1498,\"Farmer & Chase (1995)\",1],[1499,\"Grosse Fatigue (1994)\",4],[1500,\"Santa with Muscles (1996)\",2],[1501,\"Prisoner of the Mountains (Kavkazsky Plennik) (1996)\",5],[1502,\"Naked in New York (1994)\",2],[1503,\"Gold Diggers: The Secret of Bear Mountain (1995)\",10],[1504,\"Bewegte Mann, Der (1994)\",3],[1505,\"Killer: A Journal of Murder (1995)\",1],[1506,\"Nelly & Monsieur Arnaud (1995)\",3],[1507,\"Three Lives and Only One Death (1996)\",1],[1508,\"Babysitter, The (1995)\",3],[1509,\"Getting Even with Dad (1994)\",5],[1510,\"Mad Dog Time (1996)\",1],[1511,\"Children of the Revolution (1996)\",5],[1512,\"World of Apu, The (Apur Sansar) (1959)\",6],[1513,\"Sprung (1997)\",3],[1514,\"Dream With the Fishes (1997)\",7],[1515,\"Wings of Courage (1995)\",1],[1516,\"Wedding Gift, The (1994)\",3],[1517,\"Race the Sun (1996)\",5],[1518,\"Losing Isaiah (1995)\",12],[1519,\"New Jersey Drive (1995)\",2],[1520,\"Fear, The (1995)\",1],[1521,\"Mr. Wonderful (1993)\",4],[1522,\"Trial by Jury (1994)\",7],[1523,\"Good Man in Africa, A (1994)\",2],[1524,\"Kaspar Hauser (1993)\",8],[1525,\"Object of My Affection, The (1998)\",1],[1526,\"Witness (1985)\",1],[1527,\"Senseless (1998)\",7],[1528,\"Nowhere (1997)\",3],[1529,\"Underground (1995)\",5],[1530,\"Jefferson in Paris (1995)\",5],[1531,\"Far From Home: The Adventures of Yellow Dog (1995)\",7],[1532,\"Foreign Student (1994)\",2],[1533,\"I Don't Want to Talk About It (De eso no se habla) (1993)\",1],[1534,\"Twin Town (1997)\",6],[1535,\"Enfer, L' (1994)\",4],[1536,\"Aiqing wansui (1994)\",1],[1537,\"Cosi (1996)\",4],[1538,\"All Over Me (1997)\",3],[1539,\"Being Human (1993)\",4],[1540,\"Amazing Panda Adventure, The (1995)\",10],[1541,\"Beans of Egypt, Maine, The (1994)\",2],[1542,\"Scarlet Letter, The (1926)\",2],[1543,\"Johns (1996)\",1],[1544,\"It Takes Two (1995)\",3],[1545,\"Frankie Starlight (1995)\",4],[1546,\"Shadows (Cienie) (1988)\",1],[1547,\"Show, The (1995)\",2],[1548,\"The Courtyard (1995)\",1],[1549,\"Dream Man (1995)\",2],[1550,\"Destiny Turns on the Radio (1995)\",2],[1551,\"Glass Shield, The (1994)\",2],[1552,\"Hunted, The (1995)\",3],[1553,\"Underneath, The (1995)\",4],[1554,\"Safe Passage (1994)\",2],[1555,\"Secret Adventures of Tom Thumb, The (1993)\",5],[1556,\"Condition Red (1995)\",2],[1557,\"Yankee Zulu (1994)\",1],[1558,\"Aparajito (1956)\",7],[1559,\"Hostile Intentions (1994)\",1],[1560,\"Clean Slate (Coup de Torchon) (1981)\",4],[1561,\"Tigrero: A Film That Was Never Made (1994)\",1],[1562,\"Eye of Vichy, The (Oeil de Vichy, L') (1993)\",1],[1563,\"Promise, The (Versprechen, Das) (1994)\",1],[1564,\"To Cross the Rubicon (1991)\",1],[1565,\"Daens (1992)\",1],[1566,\"Man from Down Under, The (1943)\",1],[1567,\"Careful (1992)\",1],[1568,\"Vermont Is For Lovers (1992)\",1],[1569,\"Vie est belle, La (Life is Rosey) (1987)\",1],[1570,\"Quartier Mozart (1992)\",1],[1571,\"Touki Bouki (Journey of the Hyena) (1973)\",1],[1572,\"Wend Kuuni (God's Gift) (1982)\",1],[1573,\"Spirits of the Dead (Tre passi nel delirio) (1968)\",2],[1574,\"Pharaoh's Army (1995)\",1],[1575,\"I, Worst of All (Yo, la peor de todas) (1990)\",1],[1576,\"Hungarian Fairy Tale, A (1987)\",1],[1577,\"Death in the Garden (Mort en ce jardin, La) (1956)\",1],[1578,\"Collectionneuse, La (1967)\",2],[1579,\"Baton Rouge (1988)\",1],[1580,\"Liebelei (1933)\",1],[1581,\"Woman in Question, The (1950)\",1],[1582,\"T-Men (1947)\",1],[1583,\"Invitation, The (Zaproszenie) (1986)\",1],[1584,\"Symphonie pastorale, La (1946)\",1],[1585,\"American Dream (1990)\",2],[1586,\"Lashou shentan (1992)\",1],[1587,\"Terror in a Texas Town (1958)\",1],[1588,\"Salut cousin! (1996)\",2],[1589,\"Schizopolis (1996)\",4],[1590,\"To Have, or Not (1995)\",2],[1591,\"Duoluo tianshi (1995)\",6],[1592,\"Magic Hour, The (1998)\",5],[1593,\"Death in Brunswick (1991)\",1],[1594,\"Everest (1998)\",2],[1595,\"Shopping (1994)\",1],[1596,\"Nemesis 2: Nebula (1995)\",1],[1597,\"Romper Stomper (1992)\",5],[1598,\"City of Industry (1997)\",6],[1599,\"Someone Else's America (1995)\",1],[1600,\"Guantanamera (1994)\",4],[1601,\"Office Killer (1997)\",1],[1602,\"Price Above Rubies, A (1998)\",3],[1603,\"Angela (1995)\",1],[1604,\"He Walked by Night (1948)\",1],[1605,\"Love Serenade (1996)\",4],[1606,\"Deceiver (1997)\",1],[1607,\"Hurricane Streets (1998)\",3],[1608,\"Buddy (1997)\",4],[1609,\"B*A*P*S (1997)\",3],[1610,\"Truth or Consequences, N.M. (1997)\",3],[1611,\"Intimate Relations (1996)\",2],[1612,\"Leading Man, The (1996)\",4],[1613,\"Tokyo Fist (1995)\",1],[1614,\"Reluctant Debutante, The (1958)\",1],[1615,\"Warriors of Virtue (1997)\",10],[1616,\"Desert Winds (1995)\",1],[1617,\"Hugo Pool (1997)\",2],[1618,\"King of New York (1990)\",1],[1619,\"All Things Fair (1996)\",1],[1620,\"Sixth Man, The (1997)\",9],[1621,\"Butterfly Kiss (1995)\",1],[1622,\"Paris, France (1993)\",3],[1623,\"C\\u00e9r\\u00e9monie, La (1995)\",3],[1624,\"Hush (1998)\",1],[1625,\"Nightwatch (1997)\",1],[1626,\"Nobody Loves Me (Keiner liebt mich) (1994)\",1],[1627,\"Wife, The (1995)\",1],[1628,\"Lamerica (1994)\",4],[1629,\"Nico Icon (1995)\",2],[1630,\"Silence of the Palace, The (Saimt el Qusur) (1994)\",1],[1631,\"Slingshot, The (1993)\",2],[1632,\"Land and Freedom (Tierra y libertad) (1995)\",1],[1633,\"\\u00c1 k\\u00f6ldum klaka (Cold Fever) (1994)\",1],[1634,\"Etz Hadomim Tafus (Under the Domin Tree) (1994)\",1],[1635,\"Two Friends (1986) \",1],[1636,\"Brothers in Trouble (1995)\",1],[1637,\"Girls Town (1996)\",1],[1638,\"Normal Life (1996)\",1],[1639,\"Bitter Sugar (Azucar Amargo) (1996)\",3],[1640,\"Eighth Day, The (1996)\",1],[1641,\"Dadetown (1995)\",1],[1642,\"Some Mother's Son (1996)\",2],[1643,\"Angel Baby (1995)\",4],[1644,\"Sudden Manhattan (1996)\",2],[1645,\"Butcher Boy, The (1998)\",1],[1646,\"Men With Guns (1997)\",2],[1647,\"Hana-bi (1997)\",1],[1648,\"Niagara, Niagara (1997)\",1],[1649,\"Big One, The (1997)\",1],[1650,\"Butcher Boy, The (1998)\",1],[1651,\"Spanish Prisoner, The (1997)\",1],[1652,\"Temptress Moon (Feng Yue) (1996)\",3],[1653,\"Entertaining Angels: The Dorothy Day Story (1996)\",1],[1654,\"Chairman of the Board (1998)\",1],[1655,\"Favor, The (1994)\",1],[1656,\"Little City (1998)\",2],[1657,\"Target (1995)\",1],[1658,\"Substance of Fire, The (1996)\",3],[1659,\"Getting Away With Murder (1996)\",1],[1660,\"Small Faces (1995)\",1],[1661,\"New Age, The (1994)\",1],[1662,\"Rough Magic (1995)\",2],[1663,\"Nothing Personal (1995)\",1],[1664,\"8 Heads in a Duffel Bag (1997)\",4],[1665,\"Brother's Kiss, A (1997)\",1],[1666,\"Ripe (1996)\",1],[1667,\"Next Step, The (1995)\",1],[1668,\"Wedding Bell Blues (1996)\",1],[1669,\"MURDER and murder (1996)\",1],[1670,\"Tainted (1998)\",1],[1671,\"Further Gesture, A (1996)\",1],[1672,\"Kika (1993)\",2],[1673,\"Mirage (1995)\",1],[1674,\"Mamma Roma (1962)\",1],[1675,\"Sunchaser, The (1996)\",1],[1676,\"War at Home, The (1996)\",1],[1677,\"Sweet Nothing (1995)\",1],[1678,\"Mat' i syn (1997)\",1],[1679,\"B. Monkey (1998)\",1],[1680,\"Sliding Doors (1998)\",1],[1681,\"You So Crazy (1994)\",1],[1682,\"Scream of Stone (Schrei aus Stein) (1991)\",1]],\"hovertemplate\":\"tsne_1=%{x}\\u003cbr\\u003etsne_2=%{y}\\u003cbr\\u003eitem_id=%{customdata[0]}\\u003cbr\\u003etitle=%{customdata[1]}\\u003cbr\\u003epopularity=%{marker.color}\\u003cextra\\u003e\\u003c\\u002fextra\\u003e\",\"legendgroup\":\"\",\"marker\":{\"color\":{\"dtype\":\"i2\",\"bdata\":\"xAGDAFoA0QBWABoAiAHbACsBWQDsAAsBuAC3ACUBJwBcAAoARQBIAFQAKQG2AK4AJQFJADkAFAFyACUAmgBRAGEABwALAA0ACAB4AFcAOQAlAJQAKABPAFAAGwCFAHUAUQBHAlEAWwCAAGgAlQCKASgArwBTAEAAOwB\\u002fAFIAGwFzAKIAZwCGAEEB+wDcAIEAgAAHAAUANgCXACEAUAFEAG4ABQGwABIAOgCWAIoA1QATAV8AjwBoAHAAiQDbACcBAAGGAawA\\u002fAFJADYADwAFAEoARwAqAEEAggAfABABFAAJAEMADwB9AHoBJQEEAEMArQFqAHMAuwD0AGEAnQFBAIEAFwBfAPYAqwDGAAMBaQCrABMAMgA9AEgAOQDeAPMAQQAKALkAgAAXAJ0ARgFSAPcArgBiAJQAfwA8AGUARQDcAGoAXACXAEAAOgBDADwBdgB5AEEAbwFEAaQB0AAcAYkAfQDdAN0A+wHiACMBdADvAPsA0QCqAEIAfAAUAXQAnQDxAC0B+wDvAH8ApQDOAFkAGAG2AF4BiAAyAEIAyAC\\u002fAEsBzgBcAIYAcgDUACIBeACrAG8AQgBKAG0BiAAsAG0ApgChAPQAqwDHAI4AZQB8ABgB2QAtAIABAAGWAJwAgAB1AIQAMADwAHwABQCgAIIAxQAuAJ4AGgA+AKwAEAAvAf0BogB\\u002fACsAQgATAGUA4wAjAAkA\\u002fwA7AYgA0wDGAN8AvgAMASoBRwA8ABwAVQCSAOgAsQDBAKIA4QFOAN4BAwFgAH8AcgCTAOUBTQAGADIAwgBJAK8B5gApAYYAlQBXAGAAvAAeABwAkQBLAFAAXgEFAKAAcABmACoBqAAUAKkA2gDwAH0AgACvAK8AJwEtACkAcQCPAPsAQAAVACsAEgBbAC8AvQALADQAfAA3AEEAfgCJABsAHwApABQAGgAOAEgAKQBhAAgBjwASAAoACgAcAC8AJQAwAC8AqgAfADcAJwBDACIAJwALABcAGAANAGUAKwB0AGQAbwAfAEUA0ABXAEEAHAAbAAoAOwBEAMAADAA4ADYADAAaAFkAEgBMAKoAyQBlAFgBMQArAHAARgCiAKMAXQA3AD4AGQBAAEkAgQCyAFEAagAaACwBEwBVACAA2wB5AGEAXQCZAK4AqwBDANgAYwAFAAYABQAOADUABACiAC4AFgAJAHkAVQB1AD8AqgBCABAAEACRADAAGwBaABgAHABKAJQARwAbAFUANAAwAEAAQwBsAN0AngB+AMIA+gCgAF8AaACzALMAPwCAAPMAigB9AEAARABBADQAMgBDADsAPAA4ADsA5wBEAJgAPgAfAHsAOQAnAHoARABaAGIA1wB5AHkArQA5AEgAtADJAD8AWwBZAFAAfAB4ACMApAAuAEkAfADDAHkAXQBQAIEAFgAPAA0ANgAKAB4AQgAsACsAMQAzABUARwAMAP4AKQAMAFwAlwAYAC0APwBmAAoADAARAEYAiQAWADsAMAAdABsAFgCzACMA5gBDADIAHAAdACEADwAsAF0AKQBcABMAIAA7AKgAJQBPACcAIgAOAMoAKwASALIACQAMAAUAQAB\\u002fAM4ABAABAAIAFAAyANEAUQAfAEIAQgAeADwAKQAoACIAGwAzADsAQAASABIAQAArAAsAJwAnABYAUgAEAEsAqQBNAB8AdwA6AEUAGAAXAFsAJgAsACgAUgAhAFkABAAjABsAJgBGAEMAMgBIAKsAWgAiAJMA4wAsAIMATwBzAJkAWABSAHQALgBkAAUADAAGAA0AJAAuAEEAVgAwADYATQABANsAawAiABsAZAAxAKkAnQAyAEUALABXAJsAEACkAFsALAANAE8AKAAKAGYADwAKADUAEwAYAIkABgBGAGUAaABPAAEAMwBIAA0AVwA6AFIAEAAdAFYANgA6ACIATAAQAA4APwAtAFEAGAAnALQADwAbAIkATgA7AB8ApAA\\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\"},\"coloraxis\":\"coloraxis\",\"symbol\":\"circle\"},\"mode\":\"markers\",\"name\":\"\",\"showlegend\":false,\"x\":{\"dtype\":\"f4\",\"bdata\":\"42a1v60uCMHUkOjAmH60QJmpG8HiATpBTi4\\u002fQIF84UGQvrxBXSGxQbx8xL9THIbAMT2YQZZajUGeY6\\u002fAFR2FQR3L1cCKfolBwlUfQedUmkH8tlTBDjebv+Zg0kFViq9AHWQywXIo50FES\\u002fZAx04KQacjjsF7L5VB5otPwUcpu0FKq0jBQ36kwLuTtMGTioDBnzJxQTxhUsHaqINAOGk+wPdzHUC43ae9OGN8QHcOkEFncRJBFuekQfuI50HuaAhCirw2wCkBvz4KbgK\\u002f\\u002fjDdQVi9LUGiUv\\u002fAjiDLvnrMCEL2vlBBXhPMQWzte0FW93FBs855QTlXecG2r0rBHVmSwKx0MEF0pYzAfOkOwa5eVEDyxiS\\u002fU2DuQBfibMBHoEvBJ6MGwXeFgEGBOtnAEyikQALMEsEfTJPB2feVv+SJlMDJhPpBzeMnwIjUA0EeuPdA4dYJwb+BWUFrgArAIYNJwLExC0K8NhpAbqQoQS\\u002fES0GcsZFBQWS5wEysr7+\\u002fzDg\\u002fzpP7QdnpBUJrUs5BEQoMQpuFEcEUOADBGP\\u002fPwcN+1MEOt7DBeuOawSiuj0HO6YBB9P5EwBwqgr8CBzPAgzeqwaFVGUGTfghCsMTgwMysJkEmD2HBSgGCwdA1v0HjT5rBHJlowWQj4z\\u002fXgFTAmoScQSDzwMBYb5zAyUsIQjBInEAOyVRA06IHweLS3kE66fhBsFv8QVTk00GsevNBSaOkQdeQmUG2laXBJwqNvBfrOcF6nutB\\u002f5CKPwwEMkERYe0\\u002fJXtmweaO2r4zD0XB9QekwfNxiEE52pJBgoPEQb0FyUEJQ9BBd5oFQggUL8CXgAg\\u002fsGEaQa\\u002fAXcFNq5++RcLEQFFIgMF6Z6NBYFWaQXDG88DaGFtB25loQRLJIUC7FgdCqWAMQtYFNkHPcqxB2lmyPuPcoT\\u002fUqWc9dBL+Qfg+G0BP4apB3hT+QZSP6EH73\\u002fJBdcyTPt+iqUGA6RxAcbtjQKU790Fn8U4\\u002fTUUBQinpg0CVpEZBVOroQX23A0LKn+FBmLzqQZ3arEGt44w\\u002fWFUdQYEKAELJgg5BbHDlQQkWgkFHtHNBsbuEvwst9kHlnQzASy6sQbNHRUHvG3lBkGixQdpV0EHRXhDAdjXzQTa8fEFqCpVBHN7CQWnfl7\\u002fpwxpBNiXVvkau5sCeVRXBMySXwCN7tEEtXra\\u002fXq\\u002flQeK3GEEZvlDBeT2YwC8Rez\\u002f6LoI\\u002fQUy3QBW\\u002fqb9fJDLBqeOQwDw8jMCIWPFBDUitwaoGMj9BcEPBh30IQtl7IsFYPApARpz8wE8qgEHgZKPBNuV+vxUrnsGzN8G\\u002f8+2Kwam7Dr8TQBzBM7XRwDtVWUF253HBX1jDvJ5ldsFjPjnBzDCgQdmfJ8HXlDPB65+NwTuVocE7FcDBDwqfQXXKqsGgiYbBi1yMv8+Zz8GCAoLArhTAv2xuREFr00TB+qeBwRYoQEAEC6rBvS5HwGygMkGpc6lBHZhmQc9LIcFUO69BRVc6wdd8a8GW52\\u002fBaZJLQe+rKMHR86VBvgYfQbosTsB3mEXBz\\u002fwUwNeZSEGjoFzBDmNFQaIJlr8b83fBAu7PwG9NucCU6FNAF885wa4JHUEivn3B1r51wXiYXUGuD4JBVD5jwR3aZUGCQ0hBBzhxwT0zz0DPT5DBghtWwZKHKkFL51fANqG1wL3JAMII6kJA+xlEQHXdHEF+yQZCR917QYXWd0G6qQ5B+HWbwTMyrMEzjrhBXG+MwWjLdMHlKnDBOUpkwR9cfcFUQ5ZAiAVcweBtZcH46nHBwxe2QNLrl8EIwrHBgZCzQIgH2MCJ34vAdxpiQdOeLcClIIDAS1BYwdHKokBtK4lBSqN4QVBo9EHFKILBiR+SwVwd2T+6lZjBloRlwdF2bMHubPPAXgWtQFAjlECV1v1BFtsBwQ9o\\u002fz\\u002fTjIdAkJODwBoCc0HZTzjA\\u002fgsJwe\\u002fdaUD6JaE\\u002f9jy9QBlKp8HGnJHAb2GnwSKDjkHvOTdB\\u002fSuwwMLsh8HZLFHBDRTOvxLOoMFs3AhBitlXwHWbdcCA571Bd01MQcqJnMFX9qnANUEbwSna6T6FWUVBd1yNwVvhG8CLnZpBRvE1QNZOFECGoHo\\u002f\\u002fpKtwYEBi8HOD5hBv+sjwZo3lsFQ1cO+q351PzAIg0GPSQPA3UrxwJFg0UHa3H7BUDZTwTfLEUGSQQ1C9F\\u002fSwGTtLsEXLrLB68WLQXFPpsEpTplBKfeVwNqSokGuNQNAg6VNvR9C+UFiJuJB9rJYwBU0M0EgmwJCRza6weJXqEHM78G\\u002fjsgDQhO72EEuXp5BT1G5QYZ+FsGflOdBCmDMQPfzoUGOpgtBfjj0QB3I0sFNgcfB7mDPwbV+uMEG5FbAoxa\\u002fwUBdvkHhX4VBaVibQUy5sMFWv4NBffYXQTRRz0B46lfAn2W9wIseJ8Ey1ojBiJCfwTIVtEDgZLvBK5qzwf6bGsF3JNtAQANBQPzWwEGQZnpBq0lWQXmJhUGCCwtBXpp6QbW\\u002fEEEdg67A297sQQ+4SL\\u002f7RyLBkvwVwfsixkHuG\\u002fZBMvKvQZp0qsG29ZhAOZnPQbnvu0FJFQNC18eyQYno40HltPNB6pTZQZJlkkF5DvtAAai5QVhY1kFcuLhByaOsQcS3rEEJ9bhB7aK+QbSFzkEwaaNBlBkBQqS22UFL0LFBtqayQQKInEGb9dBBcrqcQGnTDEE1PLNBAJelQWffqUHjkelBh6BEQWe44kFkj6tB0Hf1QS5pwUHfEIhBTNfaQW+1B0Ila1dBHy6ZQR0q+UFmPcRBMRmuQdjhAUIZldhBJUTZQcatiEHSIMdBhVUNQcYnB0I95gdCsUCKQVuh30FKMBtBYXWcQCSYyUFH9s5BZvIywfyGnkGpu8tBgwgfwZIdicGjwCPAiTB3wRE8nsGUmbRB14ZqPxTmqcGUMMDBR85dQC9ztEEWFClBCqQJwSu6wMAUPiPBzGKrwOfjaMHr1ITBpgSPQVHsk0Fk8KpB5eX4wBkqlsDK+Ou\\u002fc9yiwGKpQ8GI\\u002fSrBWaDWv\\u002fayDsGQfUPBwkYXwOAXN8G3O+pAQZGNwaBp8sA2P1k\\u002fQSCewTxNJMHIG7jACnOpwTdQhcF2lV3BIp+UQY9kPUFnGdBBqYs0Qcg4eUGki4XBEmUiwThNSkEFS6LAoefJQcE3tMF7dSnB\\u002fYqWQUw2rEHNBYVBja6MwW0TGMFiGiPBVwAswTH1BsKxq7VAAwUGQbaGqkEsawZC+wp3QW0Mh0E0ddlB\\u002fzDmQaHBiEGBn1BBFMjYQf3M1kH+Xp1BNfYrQc+lCkFZT\\u002fFBfW3JQXPElkGKG6hBQ587wSMcZ0BdxpJBXxTOwHULY8Gvm8w\\u002fC\\u002f4cQYGXy0GxNTs\\u002f1VMswREOcUAJY8M\\u002feqalQSUztUEMMMhBO8B7QZT0W0GOikZAoItLQWd\\u002fwEGm0pZBGgT\\u002fQTUb0kE0JrNB5WudQQItvkFRu5BB5CqFQecr6kFgl4hBz4awQYwixEFxkAFCqGKJQeQh2UG56t5BgdzuQcaCzEGSh\\u002fNBqd2swDknIEG\\u002fJgdB5rPfQRnJyEBPGuNBDkzEQaDHLz2zQRjB+p0NwS31R0FI2oHB+\\u002ff4wMuOwEFwq6bA1iWKwLcW70AAf9NBlT6bwDDTLMI63KzBvS7qPy4uz8GEYbvBwS1Iwd1ausHcoQlBsg+BwfK2JkHt+InBgXWxwaVNksFj4VHBXHE5QT5XXsDsDf9AmXO1QVi03D8qn86\\u002f5XTWP8XLAUEk0elAb2mxQLKAn0F4RqRAMs4vQUmj\\u002fkD89N5Bi4ZbwGWaqkCgvqlBe15iQRAK6T\\u002f6ACPClxTWQGRm7kAJqYJBF0eZQSLusUBlDpTB\\u002f4ZeQZTJ7sAk43HBr0BbwDutDUH2aYVAHTD6QRBGM8CcyrC\\u002fy+aDQJICIcHTF\\u002fLA\\u002fxutQWN8wsD6cVrAwH6BQWmyw8E3OTJBHDuHQYlcmUHC1TbAcTwOwEF4tUDZPQNBdtlowXxdI8Ep0i7AnDaBQd8yz0CNIWBBbi+Uwfq4hcESMgLBkhJHwXlt8cCIzg9Bg7tXwJDCQb9i4pbBimB1QP\\u002f7ocG2bhzBPY\\u002fHv+mYLME0cRnB2sgwwX3yJcBVD+7AbzayQS5ujD\\u002fOmlrBQ\\u002fSkwUV79UEnkz\\u002fBRuBDQaZNh0GU0XrBBTx+vzTVicB6SG3BpMlVQcH8TcGwNvDAEeS4wDJon0GKQDbBD8IswllWn0BJCzFBuKmcwHJFK8Jjri1B\\u002f2nxwDBRXcEXh9lBt7xhQeGLSj\\u002fhw53BmPShwPAehkDx9JTBvOKFQahhO8E68RNAS5IkwTQOhEEanmnBif2eQWXuPUGqslvAyjq7wclrNMHR37q\\u002fYuiKQQbKCMEWrOpAHdwpwhAgG8GA8nbB3eUCwcrtfkHW+anBGAIiwbekMsFnpHRBl244wXHVrcC4h67Az9vVP8vHfsE16Z\\u002fBv7v7wMaiBMISSyTBWaOLwB8jpcARMbnBputjQTDfnEEwsJ1BR+60wTU6BMIwPS3Bhv1dwcPxqUHfitlA8mroQNNU10D8upbBcsMZQcoFgkHp0LLBOX+tQapGxUHGfAXCsXHcQCZm3EBUGnVBlPq0QTPjtEGZL8zBcAe8vz+dtcHlr2pBF5ytwbNRL0Eb2j9AvbvQQbAfhcEO06RBxLKvQVEgUcFe3hDBCzizwRM8VEEHjEzBPdkQQP0NOkHK75DBtvuOwfVQn8GfAYXBdxzlQH7Ol8FrJsm\\u002feAqtQCbwvkCFB2TBK13lwF0zx0BqZIvAjTt6QagXAMGJ3JrBERI3wTFKMMHM1b\\u002fBZp0+wUwMg0HGBZPByiabQBbtYEBXAVJB47+mwfatQEHigs9ACg2yQCHSg8FuRCO\\u002f+CKxwRliAcETlg5BOqRAwc\\u002fVScEZIFZBw4YFwhVZIcGFLrZBhh5Mwb0dAEE+7azAVfPEQQ53lUFmZmxBScucQS65LkE7biDBG1B3wb8Vd8F22crBMqkWwd0tJsALWKHB4040wbJulsEPtNbAyLWbwR++MUHg+Xg+es+cwJ8eesGu0kbAkkwJwYpl\\u002f7+wq45BuSz8QK3GmcEb+2BBFtUTQY9vtUHo+IPBTvBhQeyHaEExqStBKLZ\\u002fQcmIdEEONFpBExaMQRtVmEEpE2FBe99QQW2YnUG1srVBTh2lQSkTdkGgeA5BSBbTQU42sEGKVGVB4avnQOPoTkHyogtBSHfWQQoOQ0FNOqdBVd6SQIWsycAnJm9B9dWVwcbKqsHyu8u6WHwMwaX\\u002fs0FJko\\u002fB\\u002f+NWwYhgnMFcx5\\u002fBCfY0vVXjnMFPBGfB\\u002f4i1wct+UsAkIrvA1gmYwbL6WMFmSzDBF3Umvu36iEFk5jDBadpJQRFuX8B8kElATu3XwL8\\u002fwsGqkKHBzoy0wXHtJEAfUAhBhB70QEgWNEHjY\\u002f1AsnpuQNnb9EBbJChBL5R2QHgvncGykR3BAUbowKjjYMHZB5ZBXGOLQfvdTUE2e+BBrDa3QSS7S0ET8ZvBd79HQZqdtsFG35DATSjLwTD\\u002ficG275rBYy0YwZMc+z7mRz\\u002fBJ6a9wVkoJcCGudfAtCUQwXiepsHkSC\\u002fAaRbyQXYSnMGaqmDAT+CXQNelcMDEEKHAmWvyQZ8Uzr\\u002fxF3rBt9q7QcDul8FlMi5B6Om1wITxdsH64tvAeuKKwaBgpcDwjUBBnEgeQAFItEAM7eDAYvWTQXlhBsH9dbhAZhcCQu4m0kHyxaZBcAyAQVriur9pMnxBvNK5QDwN10G+VI9AP6TswI9fnEH4Nj\\u002fBlV4SQdhBjsA9\\u002f31AZUNlv5A7Q8G+D5VBQPLOQDDTkMGtJyvBWSqsQUY0n0GyWZBAdDrbwfW8WsEtiKXB\\u002fW6DwWXH0L8UnXbB7HkeQbiGhcGd2JzBWM9mQDF800Djb2FBYrHJQdePPsFHA1W\\u002ffp2fwWhhw0E0skvBfrGNwQFrKUBx9HVBlVvWQesANUDzhtbAV7KCQY4ONMCrqb9BLqQXQfMWh0HF59JB+mrOQFrJfEEEMIhAm9ubwFQvnUGciUtBss6gQdw7SEEFX2dB1grJQafEd8FSWJRBE7ogQV2tfUFpcaNBOXylPwKXzEDYkBhBmr9wP\\u002f4QgTw8nmBBz6yUQP9yG8EzISXBAV+FQZOiEEFgRqJB4QdoQVeIQ8ECYsbBrBNKQacJwUE27eNB0Zb0QEInp8Gd3EfBEi2bQf+RckAfJSrCYs9tQVt1h7\\u002fPeYlBbCNNQUqnnD9eFzNBkfKSwfzJtMFRPGy\\u002fYkSSweUNzT\\u002frnNw\\u002fxLdLwMC2u0EDk\\u002fNBsmc8QfZnokHr6\\u002fK\\u002ffcZjQX86dr8UXhZBby6qwRivnMC+g5jB0T+QwfVwmMFTkjnB9bONwWA\\u002fM0F0s4LBSzDVQZjPx0G\\u002fz\\u002fTA1OCmwL4CgcGX7SFBkVGjQQa5ckEwzYRB\\u002fk7ZQZEQj0He7FRBZOKPQRM5QkGU\\u002fFlBtxkiwuYy0UFSBsFBctrDQWmOEMGiKkHBWBONwDvCDcE8A1rBeg1QwR0JlUGjpkRBVcodwLsAF8EsmJ\\u002fBW+WgQcXKZsGexODAOBjzwJJQ38A72LC\\u002fmYraQDBOmkEAdlk\\u002fajL\\u002fwPq1n0Es1V1BogduwT5RhsE+4Q7BhPDFwN+MbkEB4XBBfbHiv0YsLsFmNCDCyqAGwZUu08CWip\\u002fBDfddQCcbfkGlzjRBB\\u002fFnwbE\\u002fCsG23+JBgxCUwRRLLcFkOTdB0h3xwLye2sEDCylARLTmP8MvsMDM4QvBIpaFQYR4YEEu9VjBLW5wwUlY\\u002fb7q84rBoCBSQfr+QUEKVcVB4HAfQfvmrz9IM65BgQ+EQS8\\u002fd0G5DTK\\u002fp5mbwfphCMG2KzPBZrKUwTbih8E+SurAPMObwRADG8HOIcnAWkIZwGdigcF5yWdBnQebP6vCfcGU6tHA1yIqv9nFskF0uNHBA6EBQf\\u002fdhsHkLyHCwu0jQenLq8HgzTTA4ItkwR2wqsABesRAXk44Pxs3nkFXhlFBw7lPwfIC6kDyxTRAP9YBwe8LJcLN2c\\u002fAclIbQTS0WcGVoMbBleMlwmYIK0DkR0TBgUQMQRgLE0H\\u002fkyLB0cQWwYVnhsC6esfBZj93wfsJbkEJ1cPBrjKEwA+1MEFiKktA+R07wTn8x8GDBBxAqCOXwWPxpEC3LyjCxCTNQUrBJ0FPMVHBINm8QRj8x8E2ozHBC+zawZeJcsEm13ZAAyPHwUiNzMEr0MDB2iUNwMqQw8EvjzDAh8ktwUo8i8An1D8+nAPLwVxxJMJbjMzBo6F8QUrhycG\\u002fYcRAmH+7wSdoLMFtun5BHam8wfHUUEFG87\\u002fBBO5hweKNuUG3t83B1DzKwXKzIMKtXI3BXwTEwUnGaUEsv2NBUXbAQV2OY0CnhlzBS0axQbyczcFIPsDBt5VCQeBYn8FD\\u002f4NAt46AQRjaq0B5nItBxuhCwGGB4D\\u002fuaa7BQwXEwd4Dl0A+anrBGE6KwQHSS0CzGojBCySKwaDOicFILb7BPKKJwX\\u002fmvMBKCJ1BPxQ9Qcsu0kGeTutBUsWHwbZk3kBFMUdBikVAwXavZEH9MvNBsx2ZQUh8okE7oI\\u002fBFDNzwenJd0ABtKzAI0aBQT5sKMEZN7fApkhKwU7RisGIzIfByapvQSS2mEGb\\u002fW7BJ9CCwWQczEBhe2FBnZsewUwJikGARnBBscVBQOhwS8Hil7ZBKWLAQBKP28DpSXDA722TwRQhFcHWvONAo7H5wMK3P8GRG7fAeHpnQRgFLkAWQ8VAvCBIQJrWQsGE0OtAJ\\u002fwEv\\u002fMT0UG9n1rBM6rLQeTaH8ID5+VBCMrLQRisq0HrQ9NBEC8qwinlqEE\\u002fIJ8\\u002fOX3OQfPxy0Fh1NJBSTVaQe2oLsJlITbBq6HQQfDhnMFkfohBnnAnQSnjdkHVqqy\\u002fEc7dwFaL68BR5DfBHQq+weYcMcLTqe5BIk4qQeXhGEHa+ibCjd2SwcStsUBF9fk\\u002fCOIrwb3ksMAYd3ZBLj4ZwXnEn0BSEqFArH4Dwj+vPsGEXItBjnQywTHTssAFyzHCxO+GwA0uKsL66KnBW0RVwFe5kMGRO5nBHaWDwDRmzkGLKWJB0AOZQdGRAsLqJhJBtlXqP5xoJ8L7aJlBOyiDQdFJncH7VqXBReeGQQz5fEEGDORBmXBPwQVfnkBsQXVBTTcWQTW8UcGxBwHBEJTQwMmvdMGmQFFBXgegvzGMO0G8jL5BA+fgQUXoJcIRhWzBkN2IQd\\u002fTyEHBQVrBvquHQSVQS8FXu69Bh2duwfqSikEXKtxB+QcmQYNxrEDdjDXBQEYpwX2Rv0FJNu+\\u002fZ0wmwnavjcCiij9AYLS8wSR0JcKhg8fB2XzRwekfn8HLhCvCZfgYwTz\\u002f1b+NWZ\\u002fB4U29QU28CEGQcM\\u002fBcleSQVQIwsHLdIBBph3Dwawq0MHuLsfBqPItwrxvysGv1CjCdfcsws20ysHU5b\\u002fBeV0mwql6x8HGyMbBOLXHwR1gwMEm4MHBaKjCwTkEycHS1YpBY1vQwVs1zcEowCrC4a\\u002fJwRUMKcL7lirCmDyKQcTt0MEq3r\\u002fBy+OIwW+e0ECzuYzBRi9pQdrykkH5uifCgFWmwN9oI8KArnHBoBnDQac+lcHddLVBngnbQE4Hb8Hlfo1BDfknwtqoq0FjBgRAZBuHwYBfgEB1k6jB02qwwVsep8DKtVhBcfqkv+7wFsFm1S\\u002fC5P1iwUJjJcLQTdy\\u002fPj4mwlvztkA2ma\\u002fBodAKwknhJ0Gs4I1BolqWwa8LQcGZKgPC0YRtQL8XbkF30NtB7aR6QeuKakFmyoJBdDCEQQgBPsHjDYBB6\\u002fAtwq17f0Ea6ijC4DiJQSUOgkFnsx7CAuJrQe1VMr+GwSrC+10kwjZHaUGGBH5BdRAuwiZ6gkHX3SLCAt4jwpbCqMATvCvC3NMtwu13JMIKxYnBxJkswT01IEFg5QTClco+waqNBsIJG6rBEaSYwS1HjsFmFiDCZ4OXwUyricGZ+4jBsYGYwROPiMGda7DBZsc+wUCjK0E9rKNBoJsvwg0HVcHR9IZBHoqxwRjBfsFgq5TB3VDAQCbwhEE=\"},\"xaxis\":\"x\",\"y\":{\"dtype\":\"f4\",\"bdata\":\"u6xxwACUTkAmSzBBaeb+wLCSGsDI\\u002fYXBmw6qv+Vjw0ABmKXBlUQWwVtD0sHeZcnBwvXAwQ5zusFF9iLAPg+JwNiceUF3q0ZB2X7HwTa0ysFXEGbAj6CavuMom8Gb\\u002fo3AnaUgwQCPAEFHGwpByTGqQPQUSb9RN3bBifK\\u002fwNgyVsEZFArBJtIuwfQF3UG3kLFBCCwBQSrEuEBTQ4TBJSvawEhTCkEUBsrBL2TqQNDXncBo97jBuWKUwYmjHcGnYcW\\u002f3Q0\\u002fwYW\\u002fgcDJEqZAk\\u002fqUwIFQ2UB1aUY\\u002f4YXFwQd+VcEQoXXBtXGOPhwvr8G7xKjBsIitwa+tRT8rMIpACHLIwRh6ScGrKdU\\u002fPa\\u002fCQHFwjMBFwq++fvUnwZ9017w2eV7AsPU6wJ71G0EPdJQ+xvz4wKAbhz8SgOVAxuuYv2ViSUHSBg3Bum7xv6g86cA0m1hAgWKcwImficHHATRAiLcoP9AEucDN3MHA56oIwSQrGMH7aKPBOtfbQN8vD8Ao6hrAoyMFQeMabED6hMlAgs6lP5fJD7\\u002fyepZAghDEQSYdtkHX3ylBrMJUwEuRlb3Ig+DAnjSWwF8ofEHiqYXB7mrnPhAst8EAftnAcgOKQK6ZysGiPOnA5ArbwIxyHcHRZoVBVvKjwEWL4MBnO5LALtnMwVvP1j87fZXB\\u002foUNQFmcqsBg4EDAeujWQRaoesH\\u002f5iZAG\\u002fliQOIZoMFVNw9AfEIdP6A1lMFpd5Q\\u002f7UqRQdCHwEAWz9JA\\u002fSetQEcqO0CvbyTAw9Z4P7QxOsEFlmC\\u002fEfKZwKE51cF3brbB9W8SQR+XGEFHGB5BO4n6wGKXikAwAsnBH5MXvyjBkUGiGBLB7NnEwLTFqsCeHYLAYnlgQNA\\u002fHECnfEbB9kPGwFzPMkFUUtbAwdDTwL8\\u002fq8GhA6XB4\\u002fZ2wPqIAMCENhvA4tQxweppKsCClutAwsKbPyeyNcGAhlbBDI97wJNm+UB9\\u002fijAaoKVwKt+G0D7OT2+frUbQNy04MDlhr\\u002fAzPWqwEWrD0CgrgDBef2wQEYHmED58RPAsrLNwJ1AHr8uBwHBT\\u002fGKQEEuWkDSgiZA3p8owAnQXcFf8PS\\u002fsR6TQBCBAsHTqQnB6dARQEJNW8Ci3OW\\u002f8RKFQCy\\u002fiMHqASzBGcYbQZJLwj\\u002f1YcHAYbQ8QQ9M9MDeYPVAKGB3wR\\u002ffrcFp2mvAHZNzvrdCr8FaMTvB5IDWQGeJTz+m2w4\\u002f7sIOQepgkUAwBoZBNAybv5r\\u002f0kB0L4Q\\u002fy9GMwY2DS8EgxELBpUtUwW8\\u002fgb7QM7zA8M4OwfWIwsEJdQXB44J3wRhEKcHuE9XB9eXNQDXawsG0RxLBUjBpv\\u002f6ytcFi9AxBU9iWwYb7C0EkPNPAaA0swfADOsFZrrXBRNdJwftAacGG7ovAUv+bwfVen0EPF4XByiubv2OHG8Czzd\\u002fA\\u002fufWwZa41ME+X6vBmEeswdYa3cH\\u002fQ4zBPgYDPyFVucFjEb\\u002fBGnfivvramcHu4kc\\u002f+B8uQGmsFcFFmczAYXGLwbhuZ8Gs4LjBsynVwd5RpsG9kpPBLDtQwS4kfz9vvEDBL+SiwfUbzcENUVDBQY4qwHaCYsHrApPB2n5+waBQfcBUzsHA5R6EwScr1MG9x9PBN6aFwSWe1cHUrabBunt3wTYJkMFzZdPAgohXwZVUzcFBDHHBfMTHwTZ6wUEn6NzBUvfcwVPShcFcRHFAu8WawWkolEBbuqHBUw4KweLpDcF7vsbBZr5cwNeqXcEG1JPBCnNGwcHqncGgcm6+zCKawUfwcMGKF2bBXoahwQKmk8EP7S9BUfxOwePWGUGCS0HBgrXVwbOcXsGoRrZAAvF5wQZdssFHJ6HB7ZfawWUujUCnwarBEfcgwbXbssFlKYfBTQSoQTolR0Gj9Vm9fLxzQVI+UUFJKY4\\u002fCvRDQYmgl8EWXpnB6LKNwe4d5kCVFWFBo+owQQTkoUAvYs5AEJggwR4iOkBcqFbBv6OLwKfgfsFl6znBvJgGQRKKNL\\u002fcmctB6BqWQQUnY74VKStAepEqwWtEfECz2nbBDlQ0webFvkGLxF5BVJwwQIb3kkGw22TBCEQTQbcuPkDtMrC+ffkkQUHbfUDi8FtAcl4QwO4nG0Hq+U1BwqW+QDJZrUBNystAC4NSQa5\\u002fV0GQeco\\u002fghyyv4nev0AP6VvAUY9tQa7WBkHH+tXApbIUwaW758AWzVfBD7RUQUUWeMHJMBLBrbMfQedSq0BnUexAkUUQQP888EDGpig+Uw6dwR3jA0Fy+eVAd4i5Qdv1qsEReDrBx66XP+VNj8ExUY5ABnzAQPj1\\u002f74JHkC\\u002fqa7LwOpHhkAImK\\u002fAGVIcwDvp10FxhNdB+WTaQVFH0kFYrAlBdZvUQXKUgMAvIwpBrNKoQItJm0AEJpRAUBQ4Qdn4kEE\\u002f4G9BypkeP+y6F0Gd2AlBkzwLwD6EbsC9odlAOpK5wP80j8GKH2TBl+MowYnufcFznnjBcImEwbXiPcFtihVArQclwS0TAsEzMnPAxBokwXc6tkD\\u002fSDvBNn9QP0edq8FOxrrA3TW9wWRHzcAHHifBY3JzwEUEysCV0Mc\\u002fIw\\u002ffvzKXVUBawzbAnzk3v3fe68DlOkZBd3WbwKqFLsE5wdHA0frxwDM8BUBzaxy\\u002fAlo6v1dyjD+4KmhAGqoAQf1Oc0DxVMjA8F1lwRGKOkDpP8BAdZUbQe5Tn78aOx\\u002fAjwRBwBCcwMD7CglA6pvFwRMGk8CL2fE\\u002fruEEwGScOcFdaCfB9wKKwTq5CT9zpMPARvATwW53JsGP8yjAqDODQE0kyUD5ICi\\u002fiZ3kP4seLsCM0hzAzSxjQeOGYr6GYZ2\\u002fRNyNwV5cAsC1HhfB2gl4wdNjUb9bqJzA9sYUwUvpacEb2JHAWnqFwSN3TUB\\u002fQatAAjN2QDu5FkFo84zBMLShwUnDykEcpV9AJyO9wQbTREE05DPBKfMEQN3srUGbiB5By+kkwfIUez9f+\\u002fJAl8s5QbEU58DU5IDBiKFzv1+oH0GAOOdAnfbcwOOrKkGCWDtBm0SWQZ8GEECAVyrBwzBGv\\u002f4IL8B7EMdAqoTQQa5CucBnDzRBSx9AQElduEDaIdxAmirwQWPfQb+WhtFAl+abv+OPEcFHCHzBs9MLwXp8m8C65R5B3QKBQSEBjMBrFQLAkr8\\u002fwQ7cw0ELBVbBCyYwP+iJGMD4f5RBQTJrPyILLMHSZyxAgDigQblIu0G1RTBB4Bf8v08me8CUD4s\\u002flDpnwa+9z0Cy3H\\u002fBaUzZwJDAGMEAx51APTQewdpTpsAZH\\u002fQ\\u002fqrG2wcrhoUDp3VvAkBY9vz5Urj+LOwdBR1VOwYHwPkEYPwlA6\\u002fPDwP3XmkAY33hB9zeAQDGg68BdMrJAmb5VwUsNHUAIntZAYV1Nwd4WqsCWjwLBEHqGvp5tH0Dq4GxB5IwBQbV78sBWg7nAjmwmwQATD8EvErrBVYQAv7r6jr\\u002fiaWDBmigXQKPVUsECx2bBgCyOwJp\\u002frsDJX0tA1QmxwdRWgcH3LC3BBYt4QPpvFsGC1WLAPhL9PWWE6MCELDPBOAcUQCFhAUFtMT7AeQTMwNTfHUEYwJFBUCKkQXDtL0GH9IFB8xVPv023eD9rQ6rAxReovy3tYr\\u002fjwwzBfymmwdgjrEHniw3BomV+QRYZHMC2Mh3AFW+LwVoDtcAm+GdBUDUAwfs8BMCZFKBATTGIQW1JD8F8vqrBAMwev3uv+z9J8wjBUUMzwV3V4MDvamrBBx+jwW5Hgr4sGybBf1ESwDI9rL+lLxbALDbDwLXqOEHRm\\u002f6\\u002fyNsJwbj5hMEkyUrBuJCxwTx5FL+61pRBGDXgvlR7xsHHVkjBWLdHQfeFtECnThRACQXiwJdKXUHOSqNAcAuOwPdl4kDNzRfBw4rpQEgODEEYOP5AsZPyP0\\u002fhqkAFwUTA+BCowP5Tc8ACKP0\\u002fPAxZP7xUPj\\u002fH90rAmIbvwLC3GEE6Sz1BlHW6P4wJjsHyGH7At7vBwItXX0EkAa3BAO\\u002fxv\\u002fbzkEHS8Y\\u002fA2Qv3wEiRmsG5Q6vBGIGrwRhPZ8FQPo3BGHx+wbG7u0DuMaHA3iTSQMs2zUHpSExByqUhwTDxBMEWkxPBIYbrwNysFcEkgndBqgucPqnIZMHZAQU\\u002fKir\\u002fP3r1DMHsmBlB5fhGwRtWgUHUqjw\\u002fL4JWQc5dD8G9zqNBGN1WP3U+80C8D9hAUeFbQOptgkHvrVVAnVKpQXwHmEDUmxVBMGowQB2ck0Fjb4\\u002fBpDDWQAcdsUH+0Vg\\u002fU46xQDBplEBcxRNBNmIeQUTh\\u002fEAr16dBGF3lwEuCBEFuhSJA2vR1QNQ7pUFVHIlA\\u002fKcNwP2hlcEVDgbBFQ9rQJtrEEBHFRtBIUSowW+DFUF9bcXBcpSRQePZo0C0V2FBoUweQWtEO0GNRMbAtiWtwAp6MEAgHklA5InKvNsSeEGjA5xASxlLQQtVA8AUkdO\\u002fsZZQwToltkE7dJpBOUGcQcZUEMExSdVA786AwYQ+ucBTnSBA58PDQEaAt0H4hoxATVTHv31t7cBo1F5BheSEwe38RMHlZKPAgIcdwYywnD+mPxJA99w1wBOFIcFmY7hBAPjkwa7h5MHlDDbB40NAweCvIEGOPtZBbQwEweNlgkDfnghBUrTdQbX6iz\\u002f6TEY\\u002ftnZVwbQy+MA+oWfBBnYowFJVGUAbFtLA33ciQWvxekDRIYrB+V6TwTwmz0Ap9yDAu\\u002fGBwa81TcFFHRPB3QWLwFh0AcBlr4PBByldwUhVYMHgiD9BTMeewQhHw8FOUYLBHI3CwdbUREHku2zBT6SYPyiEzb9tyZ5BpJeMwQvsz8HZMJFBjGjFwXqKvMFtrwjBjUueQbb1qsFKIq3BZdfCwYF4LsFtdYTB8dGaQMcmecElNmXBARHXQVLByUFUzaRB1L6+Qbu1jsFiX0bAAbgGwdvNMEHnVS6\\u002f12hgwW3\\u002fL8AhAgLBw5uJwZqOfMGNlJnBOlUZwdmgIUD+T7VB1hL7QDrh+MCxtglBnO1oQYzAEEFbUJFBhR\\u002fWwF\\u002ffasFIqIrBu4irwR4AlMGSn5DBIcFvQT8wSUH3u4JAy5VXwUKxjb4HdDnA3Yo8QdmiNMEAm4NBhYBZQUY5lEFwYnlBH4GzQG+vkMGNmSC\\u002fVK+cwcLBu8FIWR5BHdK2wbacicA3FobBG9cIwVI0hEGH\\u002ffzAo0nuwIMYKcGR8hvAcmEeQYS1D8DCFjrB+Zb7wEFrOsFybI3BXI+nQF7iMkFHGkpBvjJmQcS6xb+89XLBvuoxwaKhmMFzks5A7ABXQZ0kwsA1kgTBDCNxwdG1g78KBs1BHTmNwA0vKMG4+H3B+ddswW1xqEHF0hvBEVtjwQawjcH2XuVA8wpLQaEhUUFI8NJAn\\u002fJMQUECwUGeXZ++FuHkQVo3j0AZdSvAe9RiPxu0o8DJuYHBnfR3wci6j8He8ZzBAQvkwMVKTkGa37XA2N2mQOG28MA4KBPAVuIgQbPy78C\\u002fz9vA+RYwwbrqcb82kOPATJt\\u002fwQ6kt8Dw01rBCnPrQa2w5T+6mcBBG1Y7QRyL80DcwbpAIz88PAsLhEFxGfDAYhYdQdkg60FH3l3B2xa6QO9PPUDFIeFAkZOMvoy0JsGn\\u002fOjA\\u002fv8OwfSpEkHz366\\u002fKCe6wYgoA0EL6QvAW\\u002fI\\u002fwcn0mEFi54rARMWJQQFNE8FM3VzA8TESwQLSTkBLdHVBovxiwFbe6sDcusLB9qjJQCBUDkBJ5CPBlhVGwGpmlcEXGJrBiGE\\u002fQADeWcEtlrVAT0VVQYuZQ8E+rprAKGhYwapZm0G1XkfB0aNyQTCxmUFNeZLB4U6XQMvCmcH9sqBBRq8IwT+br8G18IvAceupQQ09h0GINdRAehXSQEjzMkFZgWBBHaeTwX9srkHCaZnBHPsnwXVBe8FiZxPBtvQXwZhB2EFQWJHBkce9QKTXYMGaYrRBoocgwaI4esFKW6dBtwlDwbqjZMG9YK9AZJtTwe+NuUBcyoXBd\\u002fx1wFfnjsBxexPAT70WwWKDy8D1pV5AckKLQXUy6sBtRP+\\u002f5jDyvznBIsAddUDBLasYQCiEjMGvHzlBBxRtwWjznkBlE5TBs9EjwUvT50A3PSE\\u002fFKFWQWMfysDrLW\\u002fB+cUSQSC3jsCgTdBBiH2PQU70t8Ey2CjBv7wlwWiRm0C01\\u002fdBbsYNwbEqksEplinA862Pwaa6YkEwnGzBUkpWwbZOXcESeodB\\u002fU8GQXj1VUGKclLBpfaiwOQ5PsGtglXBB5bNQZNOPkFPRVLBXcmEQRAbRMH\\u002fq0LB3qwJwfCWGsHfMBjBxbtBwcdZgcAErOhAyQOzQN32o8EcvXbB1EirQS5NW0EWLqpApZdIQYXK1kGudEtBTKDXQWhh4UCDl8hAot8TQLX6j8EswINBkgcTQCpQBsH7T3rB1RoXPz6bTsEyi2zBduXYwCCl70CxuV\\u002fBu3\\u002fsQNd+3kDa5TvBkICjQQqkwcCdSwHBeSCQQImqV0F7eNVAvgmDQb9cs0EoByNBPWcJQdzUisFRgQNBXniqQW6dv0FY7pJBAHCowSctd0Axb7m9noIKQYkzLMGt3NvAA571v708fcHpsRRBtbKiwFT5d8GH+ClBDjvfQOgV2kCWkGBB2uNhQfkhjUFOjpZB3Lt1wcFLZMGii5RBVcRWwRO1ocAk6CdAuBKrwcUEg8HdV1xBO\\u002fNxwdIoEkHHYBXB+f\\u002fHQGahkEHStH1BPAmhQBmQ4EFDm5bBDIqjwWmnAME07cZBABOIQQw7pkF7VLhBBQdzQd5aYMFXemdBGf27wIVqg0HtoZDBZzV3v7UNl8FA05HB40C2wEmCS78jAklAwTufQLsnoEFMycRBOm6hQd0OwkExDj5BG1EXwIa7NMGTXRpAtrsuQWaEkEHO9pnBuceAwY3JMkG0EDXB2mFbQLoY8cAvA7NB6PP+v3eXsUHQ14pBWE0IQS1\\u002fi0Fsd37BbXNhwTfsN8F6uqDBU\\u002fnsQGRbu8CWxRtBdcU+Qf8p6r9FpKTBgA2cQaP6j0GZuE5BrekMQBkepkGJneRBv1ubQbyTJUFZlpJBh8ujPzrgUsEn4QNBeiNSwTx6asGon69BenaeQVXaoUF+AbNBa7U3QXIypUAQ\\u002fWzBEbWuQUfPsUH7cYfBkW6dQcf\\u002fYMFBIbBBfmw1QC7wkcE835tBFbsQQO5xqUGi359BJ9epQT6H30C3JxvB+2KxQfPTskG4wa9B1OZ\\u002fwWtvskFX8KTBbIbYPzLBY8H3yCrBmq2sQfPmkkGSUaxBcPmbQdm9qUF2EGvB3jSrQbu5i8BhnZxBH7ixQVlZqMA6KrRBZruaQXUvocF7eapBpzWpQcGhnEHcLYxBvJatQblPI8G3rcLBJlBiwNb7OsGjdJVBAhWkwG\\u002f0rEFZTK9BBKh7wUd8zUGAGmTBftJWwfixq8HRkZBB64GPwY7CrsH34YVB0\\u002ffgQaQFbsGY0MtBueaVwZR9ocGZY5bB6NyLweiNlsHwPinA97unQGz7iMGx5KXBxOV7wCzYFUC\\u002fHwvBU1x3wbjj7T\\u002fBNLk+PNi6QbfZoEGFmRDBsymwwSHXZr+qCEhBH23EQar51kDwpQpB77wHQTRStEGBOkpB6K+pQd9UF0G00Z9B1oU2Qfqcf8HH\\u002fIBBdv6uQUsI4b6WSflANb2pQW1\\u002fMkGSdhRBswpTwUnDokEYB57BgNBrPz1br8CVz4\\u002fB2DyeQcQKYcGbyWPBKzobQcKWyUE\\u002fhVhBij0YQfD2kkB0hvRARo8CQZinoEBMmr9Au1REQFRn+MALJyFAvMR0QFTcokF33U3BJsZtQF3NXb8CaTRARhieQWzjS79uox1By+wPQAH8c0AS7TFAOs1\\u002fv5BMikG2WbNBAIgxwfdBnEF94My\\u002fuT74QAfVwMHXn5HBu59mQFHOCkHiSTpBsOGrPVlUmkE2pL5A68C2P8uumcGB54tB\\u002fXSNwaNzXkDRDyBBJZOGQTBISEF+345AibsXwGFt0EBY557AU\\u002fq5QRG0ukGRswvBZts8QSGrTUH5PZ5B0ZU3QXb\\u002fpkGlBcNBa\\u002fI2QVgPz0FP08VBkIk5QYhZLcHi+zHAXGWFQRsHuUFrm21AsRNfwbL\\u002flkH9IZ7BKHg5Qd1Cb0DFic5BYFlJQXK9XMH8b0\\u002fB+bizQdMOP8Eayj1AVm0nwGB1AMFoSYZAo3cuwCC3bEGdkxFBDclxQexbKUHBEiDBiHUVwYWXokGmUL9B2GcoQWzkocAPZrpBmyUFwP1NxEG05GHBxGK2QWUVUMGdBQ\\u002fBWsd7wfzhrMHOq5BBXxR7QGHOU8D1GClBNSmOQdp4JMFtsFLB7ujlQe9TmEFE5uhBLBLhQSG9+EGA14xBZYecwGp7J0FJzPhBRTJ7QIGROD5AquVBtK5DwfYF4EEP+HrBqkPkQc2i50F4WtxBSbedQZqM6EF3QptBlQCjQZVE4UHmWuRB5DyWQWB+3UEAE\\u002fJBn0ngQah55UGU8+xBJdHmQSoK7kH7PZ1BRzDpQU8z7EEHs5RBH6niQYGKp0EtCpxBhVycQXpj5kHg8upB3qWMwdyPYcC0zI7BkslgwY+0lsHeH4ZBb2gIQBe4lkE4S4ZBLMacwRyUUUEcw2HBRQ9jwPWXv0Gb75zBZ+qhQUV4q8AVd+hAmwSjQZKWqcE2XYZBBhu0QUY5xkEDiIdAnLilwZd9VcFEfKRBDypewKzqn0GGHILBwImhQSUPMUGUyBvAC9G0QbwNJEETBEnBVIiPQcjKhcEYsLpBAVBDQXpRlcHLrRvBAVOZQX4pEEHudZlBAVOYQUdoy0EgwZNBrR6WQQoVl0ECTqtB5WyZQd+flEEXTZdBQySUwcHQRsHdqaRBtm+gQR\\u002fuvcFj7ZdBrNyaQUPKmEHHPY1B\\u002fBCqQW5MxkHIe41BgDSTQRNSqkGMaZVBEOyEP1SumsFGOr1BAVKxQTy5uUEQWIdBPEWUQXooo8HFP5tBQcCVQYDZjcHLPozBpH+WQSEai8Hezq5BvyymQeuHAkHyXqnATGSmQZ\\u002fTokHNZyxBU2uwQQ23icFev5dBUOdBQYnONkE=\"},\"yaxis\":\"y\",\"type\":\"scattergl\"}],                        {\"template\":{\"data\":{\"histogram2dcontour\":[{\"type\":\"histogram2dcontour\",\"colorbar\":{\"outlinewidth\":0,\"ticks\":\"\"},\"colorscale\":[[0.0,\"#0d0887\"],[0.1111111111111111,\"#46039f\"],[0.2222222222222222,\"#7201a8\"],[0.3333333333333333,\"#9c179e\"],[0.4444444444444444,\"#bd3786\"],[0.5555555555555556,\"#d8576b\"],[0.6666666666666666,\"#ed7953\"],[0.7777777777777778,\"#fb9f3a\"],[0.8888888888888888,\"#fdca26\"],[1.0,\"#f0f921\"]]}],\"choropleth\":[{\"type\":\"choropleth\",\"colorbar\":{\"outlinewidth\":0,\"ticks\":\"\"}}],\"histogram2d\":[{\"type\":\"histogram2d\",\"colorbar\":{\"outlinewidth\":0,\"ticks\":\"\"},\"colorscale\":[[0.0,\"#0d0887\"],[0.1111111111111111,\"#46039f\"],[0.2222222222222222,\"#7201a8\"],[0.3333333333333333,\"#9c179e\"],[0.4444444444444444,\"#bd3786\"],[0.5555555555555556,\"#d8576b\"],[0.6666666666666666,\"#ed7953\"],[0.7777777777777778,\"#fb9f3a\"],[0.8888888888888888,\"#fdca26\"],[1.0,\"#f0f921\"]]}],\"heatmap\":[{\"type\":\"heatmap\",\"colorbar\":{\"outlinewidth\":0,\"ticks\":\"\"},\"colorscale\":[[0.0,\"#0d0887\"],[0.1111111111111111,\"#46039f\"],[0.2222222222222222,\"#7201a8\"],[0.3333333333333333,\"#9c179e\"],[0.4444444444444444,\"#bd3786\"],[0.5555555555555556,\"#d8576b\"],[0.6666666666666666,\"#ed7953\"],[0.7777777777777778,\"#fb9f3a\"],[0.8888888888888888,\"#fdca26\"],[1.0,\"#f0f921\"]]}],\"contourcarpet\":[{\"type\":\"contourcarpet\",\"colorbar\":{\"outlinewidth\":0,\"ticks\":\"\"}}],\"contour\":[{\"type\":\"contour\",\"colorbar\":{\"outlinewidth\":0,\"ticks\":\"\"},\"colorscale\":[[0.0,\"#0d0887\"],[0.1111111111111111,\"#46039f\"],[0.2222222222222222,\"#7201a8\"],[0.3333333333333333,\"#9c179e\"],[0.4444444444444444,\"#bd3786\"],[0.5555555555555556,\"#d8576b\"],[0.6666666666666666,\"#ed7953\"],[0.7777777777777778,\"#fb9f3a\"],[0.8888888888888888,\"#fdca26\"],[1.0,\"#f0f921\"]]}],\"surface\":[{\"type\":\"surface\",\"colorbar\":{\"outlinewidth\":0,\"ticks\":\"\"},\"colorscale\":[[0.0,\"#0d0887\"],[0.1111111111111111,\"#46039f\"],[0.2222222222222222,\"#7201a8\"],[0.3333333333333333,\"#9c179e\"],[0.4444444444444444,\"#bd3786\"],[0.5555555555555556,\"#d8576b\"],[0.6666666666666666,\"#ed7953\"],[0.7777777777777778,\"#fb9f3a\"],[0.8888888888888888,\"#fdca26\"],[1.0,\"#f0f921\"]]}],\"mesh3d\":[{\"type\":\"mesh3d\",\"colorbar\":{\"outlinewidth\":0,\"ticks\":\"\"}}],\"scatter\":[{\"fillpattern\":{\"fillmode\":\"overlay\",\"size\":10,\"solidity\":0.2},\"type\":\"scatter\"}],\"parcoords\":[{\"type\":\"parcoords\",\"line\":{\"colorbar\":{\"outlinewidth\":0,\"ticks\":\"\"}}}],\"scatterpolargl\":[{\"type\":\"scatterpolargl\",\"marker\":{\"colorbar\":{\"outlinewidth\":0,\"ticks\":\"\"}}}],\"bar\":[{\"error_x\":{\"color\":\"#2a3f5f\"},\"error_y\":{\"color\":\"#2a3f5f\"},\"marker\":{\"line\":{\"color\":\"#E5ECF6\",\"width\":0.5},\"pattern\":{\"fillmode\":\"overlay\",\"size\":10,\"solidity\":0.2}},\"type\":\"bar\"}],\"scattergeo\":[{\"type\":\"scattergeo\",\"marker\":{\"colorbar\":{\"outlinewidth\":0,\"ticks\":\"\"}}}],\"scatterpolar\":[{\"type\":\"scatterpolar\",\"marker\":{\"colorbar\":{\"outlinewidth\":0,\"ticks\":\"\"}}}],\"histogram\":[{\"marker\":{\"pattern\":{\"fillmode\":\"overlay\",\"size\":10,\"solidity\":0.2}},\"type\":\"histogram\"}],\"scattergl\":[{\"type\":\"scattergl\",\"marker\":{\"colorbar\":{\"outlinewidth\":0,\"ticks\":\"\"}}}],\"scatter3d\":[{\"type\":\"scatter3d\",\"line\":{\"colorbar\":{\"outlinewidth\":0,\"ticks\":\"\"}},\"marker\":{\"colorbar\":{\"outlinewidth\":0,\"ticks\":\"\"}}}],\"scattermap\":[{\"type\":\"scattermap\",\"marker\":{\"colorbar\":{\"outlinewidth\":0,\"ticks\":\"\"}}}],\"scattermapbox\":[{\"type\":\"scattermapbox\",\"marker\":{\"colorbar\":{\"outlinewidth\":0,\"ticks\":\"\"}}}],\"scatterternary\":[{\"type\":\"scatterternary\",\"marker\":{\"colorbar\":{\"outlinewidth\":0,\"ticks\":\"\"}}}],\"scattercarpet\":[{\"type\":\"scattercarpet\",\"marker\":{\"colorbar\":{\"outlinewidth\":0,\"ticks\":\"\"}}}],\"carpet\":[{\"aaxis\":{\"endlinecolor\":\"#2a3f5f\",\"gridcolor\":\"white\",\"linecolor\":\"white\",\"minorgridcolor\":\"white\",\"startlinecolor\":\"#2a3f5f\"},\"baxis\":{\"endlinecolor\":\"#2a3f5f\",\"gridcolor\":\"white\",\"linecolor\":\"white\",\"minorgridcolor\":\"white\",\"startlinecolor\":\"#2a3f5f\"},\"type\":\"carpet\"}],\"table\":[{\"cells\":{\"fill\":{\"color\":\"#EBF0F8\"},\"line\":{\"color\":\"white\"}},\"header\":{\"fill\":{\"color\":\"#C8D4E3\"},\"line\":{\"color\":\"white\"}},\"type\":\"table\"}],\"barpolar\":[{\"marker\":{\"line\":{\"color\":\"#E5ECF6\",\"width\":0.5},\"pattern\":{\"fillmode\":\"overlay\",\"size\":10,\"solidity\":0.2}},\"type\":\"barpolar\"}],\"pie\":[{\"automargin\":true,\"type\":\"pie\"}]},\"layout\":{\"autotypenumbers\":\"strict\",\"colorway\":[\"#636efa\",\"#EF553B\",\"#00cc96\",\"#ab63fa\",\"#FFA15A\",\"#19d3f3\",\"#FF6692\",\"#B6E880\",\"#FF97FF\",\"#FECB52\"],\"font\":{\"color\":\"#2a3f5f\"},\"hovermode\":\"closest\",\"hoverlabel\":{\"align\":\"left\"},\"paper_bgcolor\":\"white\",\"plot_bgcolor\":\"#E5ECF6\",\"polar\":{\"bgcolor\":\"#E5ECF6\",\"angularaxis\":{\"gridcolor\":\"white\",\"linecolor\":\"white\",\"ticks\":\"\"},\"radialaxis\":{\"gridcolor\":\"white\",\"linecolor\":\"white\",\"ticks\":\"\"}},\"ternary\":{\"bgcolor\":\"#E5ECF6\",\"aaxis\":{\"gridcolor\":\"white\",\"linecolor\":\"white\",\"ticks\":\"\"},\"baxis\":{\"gridcolor\":\"white\",\"linecolor\":\"white\",\"ticks\":\"\"},\"caxis\":{\"gridcolor\":\"white\",\"linecolor\":\"white\",\"ticks\":\"\"}},\"coloraxis\":{\"colorbar\":{\"outlinewidth\":0,\"ticks\":\"\"}},\"colorscale\":{\"sequential\":[[0.0,\"#0d0887\"],[0.1111111111111111,\"#46039f\"],[0.2222222222222222,\"#7201a8\"],[0.3333333333333333,\"#9c179e\"],[0.4444444444444444,\"#bd3786\"],[0.5555555555555556,\"#d8576b\"],[0.6666666666666666,\"#ed7953\"],[0.7777777777777778,\"#fb9f3a\"],[0.8888888888888888,\"#fdca26\"],[1.0,\"#f0f921\"]],\"sequentialminus\":[[0.0,\"#0d0887\"],[0.1111111111111111,\"#46039f\"],[0.2222222222222222,\"#7201a8\"],[0.3333333333333333,\"#9c179e\"],[0.4444444444444444,\"#bd3786\"],[0.5555555555555556,\"#d8576b\"],[0.6666666666666666,\"#ed7953\"],[0.7777777777777778,\"#fb9f3a\"],[0.8888888888888888,\"#fdca26\"],[1.0,\"#f0f921\"]],\"diverging\":[[0,\"#8e0152\"],[0.1,\"#c51b7d\"],[0.2,\"#de77ae\"],[0.3,\"#f1b6da\"],[0.4,\"#fde0ef\"],[0.5,\"#f7f7f7\"],[0.6,\"#e6f5d0\"],[0.7,\"#b8e186\"],[0.8,\"#7fbc41\"],[0.9,\"#4d9221\"],[1,\"#276419\"]]},\"xaxis\":{\"gridcolor\":\"white\",\"linecolor\":\"white\",\"ticks\":\"\",\"title\":{\"standoff\":15},\"zerolinecolor\":\"white\",\"automargin\":true,\"zerolinewidth\":2},\"yaxis\":{\"gridcolor\":\"white\",\"linecolor\":\"white\",\"ticks\":\"\",\"title\":{\"standoff\":15},\"zerolinecolor\":\"white\",\"automargin\":true,\"zerolinewidth\":2},\"scene\":{\"xaxis\":{\"backgroundcolor\":\"#E5ECF6\",\"gridcolor\":\"white\",\"linecolor\":\"white\",\"showbackground\":true,\"ticks\":\"\",\"zerolinecolor\":\"white\",\"gridwidth\":2},\"yaxis\":{\"backgroundcolor\":\"#E5ECF6\",\"gridcolor\":\"white\",\"linecolor\":\"white\",\"showbackground\":true,\"ticks\":\"\",\"zerolinecolor\":\"white\",\"gridwidth\":2},\"zaxis\":{\"backgroundcolor\":\"#E5ECF6\",\"gridcolor\":\"white\",\"linecolor\":\"white\",\"showbackground\":true,\"ticks\":\"\",\"zerolinecolor\":\"white\",\"gridwidth\":2}},\"shapedefaults\":{\"line\":{\"color\":\"#2a3f5f\"}},\"annotationdefaults\":{\"arrowcolor\":\"#2a3f5f\",\"arrowhead\":0,\"arrowwidth\":1},\"geo\":{\"bgcolor\":\"white\",\"landcolor\":\"#E5ECF6\",\"subunitcolor\":\"white\",\"showland\":true,\"showlakes\":true,\"lakecolor\":\"white\"},\"title\":{\"x\":0.05},\"mapbox\":{\"style\":\"light\"}}},\"xaxis\":{\"anchor\":\"y\",\"domain\":[0.0,1.0],\"title\":{\"text\":\"tsne_1\"}},\"yaxis\":{\"anchor\":\"x\",\"domain\":[0.0,1.0],\"title\":{\"text\":\"tsne_2\"}},\"coloraxis\":{\"colorbar\":{\"title\":{\"text\":\"popularity\"}},\"colorscale\":[[0.0,\"#0d0887\"],[0.1111111111111111,\"#46039f\"],[0.2222222222222222,\"#7201a8\"],[0.3333333333333333,\"#9c179e\"],[0.4444444444444444,\"#bd3786\"],[0.5555555555555556,\"#d8576b\"],[0.6666666666666666,\"#ed7953\"],[0.7777777777777778,\"#fb9f3a\"],[0.8888888888888888,\"#fdca26\"],[1.0,\"#f0f921\"]]},\"legend\":{\"tracegroupgap\":0},\"margin\":{\"t\":60}},                        {\"responsive\": true}                    )                };            </script>        </div>"
      ],
      "text/plain": [
       "Figure({\n",
       "    'data': [{'customdata': array([[1, 'Toy Story (1995)', 452],\n",
       "                                   [2, 'GoldenEye (1995)', 131],\n",
       "                                   [3, 'Four Rooms (1995)', 90],\n",
       "                                   ...,\n",
       "                                   [1680, 'Sliding Doors (1998)', 1],\n",
       "                                   [1681, 'You So Crazy (1994)', 1],\n",
       "                                   [1682, 'Scream of Stone (Schrei aus Stein) (1991)', 1]], dtype=object),\n",
       "              'hovertemplate': ('tsne_1=%{x}<br>tsne_2=%{y}<br>' ... '%{marker.color}<extra></extra>'),\n",
       "              'legendgroup': '',\n",
       "              'marker': {'color': {'bdata': ('xAGDAFoA0QBWABoAiAHbACsBWQDsAA' ... 'ABAAEAAQABAAEAAQABAAEAAQABAA=='),\n",
       "                                   'dtype': 'i2'},\n",
       "                         'coloraxis': 'coloraxis',\n",
       "                         'symbol': 'circle'},\n",
       "              'mode': 'markers',\n",
       "              'name': '',\n",
       "              'showlegend': False,\n",
       "              'type': 'scattergl',\n",
       "              'x': {'bdata': ('42a1v60uCMHUkOjAmH60QJmpG8HiAT' ... 'ZBHoqxwRjBfsFgq5TB3VDAQCbwhEE='),\n",
       "                    'dtype': 'f4'},\n",
       "              'xaxis': 'x',\n",
       "              'y': {'bdata': ('u6xxwACUTkAmSzBBaeb+wLCSGsDI/Y' ... 'xBU2uwQQ23icFev5dBUOdBQYnONkE='),\n",
       "                    'dtype': 'f4'},\n",
       "              'yaxis': 'y'}],\n",
       "    'layout': {'coloraxis': {'colorbar': {'title': {'text': 'popularity'}},\n",
       "                             'colorscale': [[0.0, '#0d0887'], [0.1111111111111111,\n",
       "                                            '#46039f'], [0.2222222222222222,\n",
       "                                            '#7201a8'], [0.3333333333333333,\n",
       "                                            '#9c179e'], [0.4444444444444444,\n",
       "                                            '#bd3786'], [0.5555555555555556,\n",
       "                                            '#d8576b'], [0.6666666666666666,\n",
       "                                            '#ed7953'], [0.7777777777777778,\n",
       "                                            '#fb9f3a'], [0.8888888888888888,\n",
       "                                            '#fdca26'], [1.0, '#f0f921']]},\n",
       "               'legend': {'tracegroupgap': 0},\n",
       "               'margin': {'t': 60},\n",
       "               'template': '...',\n",
       "               'xaxis': {'anchor': 'y', 'domain': [0.0, 1.0], 'title': {'text': 'tsne_1'}},\n",
       "               'yaxis': {'anchor': 'x', 'domain': [0.0, 1.0], 'title': {'text': 'tsne_2'}}}\n",
       "})"
      ]
     },
     "execution_count": 47,
     "metadata": {},
     "output_type": "execute_result"
    }
   ],
   "source": [
    "import plotly.express as px\n",
    "\n",
    "tsne_df = pd.DataFrame(item_tsne, columns=[\"tsne_1\", \"tsne_2\"])\n",
    "tsne_df[\"item_id\"] = np.arange(item_tsne.shape[0])\n",
    "tsne_df = tsne_df.merge(items.reset_index())\n",
    "\n",
    "px.scatter(tsne_df, x=\"tsne_1\", y=\"tsne_2\",\n",
    "           color=\"popularity\",\n",
    "           hover_data=[\"item_id\", \"title\", \"popularity\"])"
   ]
  },
  {
   "cell_type": "markdown",
   "metadata": {},
   "source": [
    "### Exercises\n",
    "\n",
    " - Add another layer to the neural network and retrain, compare train/test error.\n",
    " - Try adding more dropout and change layer sizes.\n"
   ]
  },
  {
   "cell_type": "markdown",
   "metadata": {},
   "source": [
    "### A recommendation function for a given user\n",
    "\n",
    "Once the model is trained, the system can be used to recommend a few items for a user that they haven't seen before. The following code does that.\n",
    "\n",
    "- we use the `model.predict` to compute the ratings a user would have given to all items\n",
    "- we build a function that sorts these items and excludes those the user has already seen."
   ]
  },
  {
   "cell_type": "code",
   "execution_count": 48,
   "metadata": {
    "scrolled": true
   },
   "outputs": [],
   "source": [
    "def recommend(user_id, top_n=10):\n",
    "    item_ids = range(1, items['item_id'].max())\n",
    "    seen_mask = all_ratings[\"user_id\"] == user_id\n",
    "    seen_movies = set(all_ratings[seen_mask][\"item_id\"])\n",
    "    item_ids = list(filter(lambda x: x not in seen_movies, item_ids))\n",
    "\n",
    "    user = np.zeros_like(item_ids)\n",
    "    user[:len(item_ids)] = user_id\n",
    "    items_ = np.array(item_ids)\n",
    "    ratings = model.predict([user, items_]).flatten()\n",
    "    top_items = ratings.argsort()[-top_n:][::-1]\n",
    "    return [(indexed_items.loc[item_id][\"title\"], ratings[item_id]) for item_id in top_items]"
   ]
  },
  {
   "cell_type": "code",
   "execution_count": 49,
   "metadata": {},
   "outputs": [
    {
     "name": "stdout",
     "output_type": "stream",
     "text": [
      "\u001b[1m48/48\u001b[0m \u001b[32m━━━━━━━━━━━━━━━━━━━━\u001b[0m\u001b[37m\u001b[0m \u001b[1m0s\u001b[0m 1ms/step\n",
      "\u001b[1m48/48\u001b[0m \u001b[32m━━━━━━━━━━━━━━━━━━━━\u001b[0m\u001b[37m\u001b[0m \u001b[1m0s\u001b[0m 1ms/step\n",
      "    4.7: Letter From Death Row, A (1998)\n",
      "    4.2: Eat Drink Man Woman (1994)\n",
      "    4.2: Dead Man Walking (1995)\n",
      "    4.2: Faster Pussycat! Kill! Kill! (1965)\n",
      "    4.1: Basic Instinct (1992)\n",
      "    4.1: Loaded (1994)\n",
      "    4.1: Robert A. Heinlein's The Puppet Masters (1994)\n",
      "    4.1: Affair to Remember, An (1957)\n",
      "    4.1: Shaggy Dog, The (1959)\n",
      "    4.1: 20,000 Leagues Under the Sea (1954)\n",
      "    4.7: Letter From Death Row, A (1998)\n",
      "    4.2: Eat Drink Man Woman (1994)\n",
      "    4.2: Dead Man Walking (1995)\n",
      "    4.2: Faster Pussycat! Kill! Kill! (1965)\n",
      "    4.1: Basic Instinct (1992)\n",
      "    4.1: Loaded (1994)\n",
      "    4.1: Robert A. Heinlein's The Puppet Masters (1994)\n",
      "    4.1: Affair to Remember, An (1957)\n",
      "    4.1: Shaggy Dog, The (1959)\n",
      "    4.1: 20,000 Leagues Under the Sea (1954)\n"
     ]
    }
   ],
   "source": [
    "for title, pred_rating in recommend(5):\n",
    "    print(\"    %0.1f: %s\" % (pred_rating, title))"
   ]
  },
  {
   "cell_type": "markdown",
   "metadata": {
    "collapsed": false
   },
   "source": [
    "### Exercises\n",
    "\n",
    "- Try modifying our neural network to improve recommendation. You could try adding more layers, or using a different loss function. \n",
    "- Your goal is to improve the Mean Absolute Error on the test set. Show the results of your best model."
   ]
  },
  {
   "cell_type": "code",
   "execution_count": 62,
   "metadata": {
    "collapsed": false
   },
   "outputs": [],
   "source": [
    "# Extend and improve the model below\n",
    "class RegressionModel(Model):\n",
    "    def __init__(self, embedding_size, max_user_id, max_item_id):\n",
    "        super().__init__()\n",
    "\n",
    "        self.user_embedding = Embedding(output_dim=embedding_size,\n",
    "                                        input_dim=max_user_id + 1,\n",
    "                                        name='user_embedding')\n",
    "        self.item_embedding = Embedding(output_dim=embedding_size,\n",
    "                                        input_dim=max_item_id + 1,\n",
    "                                        name='item_embedding')\n",
    "\n",
    "        # The following two layers don't have parameters.\n",
    "        self.flatten = Flatten()\n",
    "        self.dropout = Dropout(.5)\n",
    "        self.dense = Dense(64, activation='relu')\n",
    "        self.dropout = Dropout(.5)\n",
    "        self.dot = Dot(axes=1)\n",
    "\n",
    "    def call(self, inputs):\n",
    "        user_inputs = inputs[0]\n",
    "        item_inputs = inputs[1]\n",
    "\n",
    "        user_vecs = self.flatten(self.user_embedding(user_inputs))\n",
    "        item_vecs = self.flatten(self.item_embedding(item_inputs))\n",
    "\n",
    "        y = self.dot([user_vecs, item_vecs])\n",
    "        return y\n",
    "\n",
    "\n",
    "model = RegressionModel(embedding_size=64, max_user_id=all_ratings['user_id'].max(), max_item_id=all_ratings['item_id'].max())\n",
    "model.compile(optimizer=\"adam\", loss='mae')"
   ]
  },
  {
   "cell_type": "code",
   "execution_count": 63,
   "metadata": {
    "collapsed": false
   },
   "outputs": [
    {
     "name": "stdout",
     "output_type": "stream",
     "text": [
      "Epoch 1/10\n"
     ]
    },
    {
     "name": "stderr",
     "output_type": "stream",
     "text": [
      "/Users/soumyadey/.pyenv/versions/3.10.0/lib/python3.10/site-packages/keras/src/layers/layer.py:421: UserWarning:\n",
      "\n",
      "`build()` was called on layer 'regression_model_7', however the layer does not have a `build()` method implemented and it looks like it has unbuilt state. This will cause the layer to be marked as built, despite not being actually built, which may cause failures down the line. Make sure to implement a proper `build()` method.\n",
      "\n"
     ]
    },
    {
     "name": "stdout",
     "output_type": "stream",
     "text": [
      "\u001b[1m1125/1125\u001b[0m \u001b[32m━━━━━━━━━━━━━━━━━━━━\u001b[0m\u001b[37m\u001b[0m \u001b[1m2s\u001b[0m 2ms/step - loss: 3.2830 - val_loss: 1.0400\n",
      "Epoch 2/10\n",
      "\u001b[1m1125/1125\u001b[0m \u001b[32m━━━━━━━━━━━━━━━━━━━━\u001b[0m\u001b[37m\u001b[0m \u001b[1m2s\u001b[0m 2ms/step - loss: 3.2830 - val_loss: 1.0400\n",
      "Epoch 2/10\n",
      "\u001b[1m1125/1125\u001b[0m \u001b[32m━━━━━━━━━━━━━━━━━━━━\u001b[0m\u001b[37m\u001b[0m \u001b[1m2s\u001b[0m 2ms/step - loss: 0.9046 - val_loss: 0.7921\n",
      "Epoch 3/10\n",
      "\u001b[1m1125/1125\u001b[0m \u001b[32m━━━━━━━━━━━━━━━━━━━━\u001b[0m\u001b[37m\u001b[0m \u001b[1m2s\u001b[0m 2ms/step - loss: 0.9046 - val_loss: 0.7921\n",
      "Epoch 3/10\n",
      "\u001b[1m1125/1125\u001b[0m \u001b[32m━━━━━━━━━━━━━━━━━━━━\u001b[0m\u001b[37m\u001b[0m \u001b[1m2s\u001b[0m 2ms/step - loss: 0.7537 - val_loss: 0.7622\n",
      "Epoch 4/10\n",
      "\u001b[1m1125/1125\u001b[0m \u001b[32m━━━━━━━━━━━━━━━━━━━━\u001b[0m\u001b[37m\u001b[0m \u001b[1m2s\u001b[0m 2ms/step - loss: 0.7537 - val_loss: 0.7622\n",
      "Epoch 4/10\n",
      "\u001b[1m1125/1125\u001b[0m \u001b[32m━━━━━━━━━━━━━━━━━━━━\u001b[0m\u001b[37m\u001b[0m \u001b[1m2s\u001b[0m 2ms/step - loss: 0.7163 - val_loss: 0.7540\n",
      "Epoch 5/10\n",
      "\u001b[1m1125/1125\u001b[0m \u001b[32m━━━━━━━━━━━━━━━━━━━━\u001b[0m\u001b[37m\u001b[0m \u001b[1m2s\u001b[0m 2ms/step - loss: 0.7163 - val_loss: 0.7540\n",
      "Epoch 5/10\n",
      "\u001b[1m1125/1125\u001b[0m \u001b[32m━━━━━━━━━━━━━━━━━━━━\u001b[0m\u001b[37m\u001b[0m \u001b[1m2s\u001b[0m 2ms/step - loss: 0.6949 - val_loss: 0.7466\n",
      "Epoch 6/10\n",
      "\u001b[1m1125/1125\u001b[0m \u001b[32m━━━━━━━━━━━━━━━━━━━━\u001b[0m\u001b[37m\u001b[0m \u001b[1m2s\u001b[0m 2ms/step - loss: 0.6949 - val_loss: 0.7466\n",
      "Epoch 6/10\n",
      "\u001b[1m1125/1125\u001b[0m \u001b[32m━━━━━━━━━━━━━━━━━━━━\u001b[0m\u001b[37m\u001b[0m \u001b[1m2s\u001b[0m 2ms/step - loss: 0.6742 - val_loss: 0.7391\n",
      "Epoch 7/10\n",
      "\u001b[1m1125/1125\u001b[0m \u001b[32m━━━━━━━━━━━━━━━━━━━━\u001b[0m\u001b[37m\u001b[0m \u001b[1m2s\u001b[0m 2ms/step - loss: 0.6742 - val_loss: 0.7391\n",
      "Epoch 7/10\n",
      "\u001b[1m1125/1125\u001b[0m \u001b[32m━━━━━━━━━━━━━━━━━━━━\u001b[0m\u001b[37m\u001b[0m \u001b[1m2s\u001b[0m 2ms/step - loss: 0.6508 - val_loss: 0.7402\n",
      "Epoch 8/10\n",
      "\u001b[1m1125/1125\u001b[0m \u001b[32m━━━━━━━━━━━━━━━━━━━━\u001b[0m\u001b[37m\u001b[0m \u001b[1m2s\u001b[0m 2ms/step - loss: 0.6508 - val_loss: 0.7402\n",
      "Epoch 8/10\n",
      "\u001b[1m1125/1125\u001b[0m \u001b[32m━━━━━━━━━━━━━━━━━━━━\u001b[0m\u001b[37m\u001b[0m \u001b[1m2s\u001b[0m 2ms/step - loss: 0.6351 - val_loss: 0.7395\n",
      "Epoch 9/10\n",
      "\u001b[1m1125/1125\u001b[0m \u001b[32m━━━━━━━━━━━━━━━━━━━━\u001b[0m\u001b[37m\u001b[0m \u001b[1m2s\u001b[0m 2ms/step - loss: 0.6351 - val_loss: 0.7395\n",
      "Epoch 9/10\n",
      "\u001b[1m1125/1125\u001b[0m \u001b[32m━━━━━━━━━━━━━━━━━━━━\u001b[0m\u001b[37m\u001b[0m \u001b[1m2s\u001b[0m 2ms/step - loss: 0.6094 - val_loss: 0.7378\n",
      "Epoch 10/10\n",
      "\u001b[1m1125/1125\u001b[0m \u001b[32m━━━━━━━━━━━━━━━━━━━━\u001b[0m\u001b[37m\u001b[0m \u001b[1m2s\u001b[0m 2ms/step - loss: 0.6094 - val_loss: 0.7378\n",
      "Epoch 10/10\n",
      "\u001b[1m1125/1125\u001b[0m \u001b[32m━━━━━━━━━━━━━━━━━━━━\u001b[0m\u001b[37m\u001b[0m \u001b[1m2s\u001b[0m 2ms/step - loss: 0.5822 - val_loss: 0.7412\n",
      "\u001b[1m1125/1125\u001b[0m \u001b[32m━━━━━━━━━━━━━━━━━━━━\u001b[0m\u001b[37m\u001b[0m \u001b[1m2s\u001b[0m 2ms/step - loss: 0.5822 - val_loss: 0.7412\n"
     ]
    }
   ],
   "source": [
    "# Training the model\n",
    "history = model.fit([user_id_train, item_id_train], rating_train,\n",
    "                    batch_size=64, epochs=10, validation_split=0.1,\n",
    "                    shuffle=True)"
   ]
  },
  {
   "cell_type": "code",
   "execution_count": null,
   "metadata": {},
   "outputs": [
    {
     "name": "stdout",
     "output_type": "stream",
     "text": [
      "\u001b[1m625/625\u001b[0m \u001b[32m━━━━━━━━━━━━━━━━━━━━\u001b[0m\u001b[37m\u001b[0m \u001b[1m0s\u001b[0m 478us/step\n",
      "\u001b[1m625/625\u001b[0m \u001b[32m━━━━━━━━━━━━━━━━━━━━\u001b[0m\u001b[37m\u001b[0m \u001b[1m0s\u001b[0m 478us/step\n",
      "Final test MSE: 0.906\n",
      "Final test MAE: 0.736\n",
      "Final test MSE: 0.906\n",
      "Final test MAE: 0.736\n"
     ]
    },
    {
     "data": {
      "image/png": "[encoded data removed]",
      "text/plain": [
       "<Figure size 400x400 with 1 Axes>"
      ]
     },
     "metadata": {},
     "output_type": "display_data"
    }
   ],
   "source": [
    "from sklearn.metrics import mean_squared_error\n",
    "from sklearn.metrics import mean_absolute_error\n",
    "\n",
    "test_preds = model.predict([user_id_test, item_id_test])\n",
    "print(\"Final test MSE: %0.3f\" % mean_squared_error(test_preds, rating_test))\n",
    "print(\"Final test MAE: %0.3f\" % mean_absolute_error(test_preds, rating_test))\n",
    "plot_predictions(rating_test, test_preds)"
   ]
  }
 ],
 "metadata": {
  "kernelspec": {
   "display_name": "3.10.0",
   "language": "python",
   "name": "python3"
  },
  "language_info": {
   "codemirror_mode": {
    "name": "ipython",
    "version": 3
   },
   "file_extension": ".py",
   "mimetype": "text/x-python",
   "name": "python",
   "nbconvert_exporter": "python",
   "pygments_lexer": "ipython3",
   "version": "3.10.0"
  }
 },
 "nbformat": 4,
 "nbformat_minor": 4
}
